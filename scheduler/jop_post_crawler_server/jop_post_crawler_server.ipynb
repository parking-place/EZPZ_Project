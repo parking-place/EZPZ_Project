{
 "cells": [
  {
   "cell_type": "code",
   "execution_count": 1,
   "metadata": {},
   "outputs": [],
   "source": [
    "import socket\n",
    "\n",
    "try :\n",
    "    DB_IP = socket.gethostbyname('EZPZ_DB')\n",
    "except:\n",
    "    DB_IP = 'localhost'\n",
    "USER='root'\n",
    "NAME='ezpz'\n",
    "ENGINE= \"django.db.backends.mysql\"\n",
    "DATABASES = {\n",
    "    \"default\": {\n",
    "        \"ENGINE\": ENGINE,\n",
    "        \"NAME\": NAME, #나중에 db이름 고치기 데이터베이스 이름 \n",
    "        \"USER\": USER, \n",
    "        \"PASSWORD\": \"1234\",\n",
    "        \"HOST\": DB_IP,\n",
    "        \"PORT\": \"33306\"\n",
    "    }\n",
    "}"
   ]
  },
  {
   "cell_type": "code",
   "execution_count": 2,
   "metadata": {},
   "outputs": [],
   "source": [
    "import pymysql\n",
    "import cryptography"
   ]
  },
  {
   "cell_type": "code",
   "execution_count": 3,
   "metadata": {},
   "outputs": [],
   "source": [
    "conn = pymysql.connect(host=DB_IP, user=USER, password='1234',db= NAME ,charset='utf8')"
   ]
  },
  {
   "cell_type": "code",
   "execution_count": 4,
   "metadata": {},
   "outputs": [],
   "source": [
    "cur = conn.cursor()"
   ]
  },
  {
   "cell_type": "code",
   "execution_count": 5,
   "metadata": {},
   "outputs": [
    {
     "name": "stdout",
     "output_type": "stream",
     "text": [
      "('recruit_uid', 'bigint', 'NO', 'PRI', None, 'auto_increment')\n",
      "('comp_uid', 'bigint', 'NO', 'MUL', None, '')\n",
      "('recruit_url', 'varchar(2000)', 'NO', '', None, '')\n",
      "('recruit_position', 'varchar(100)', 'NO', '', None, '')\n",
      "('recruit_thumb', 'varchar(2000)', 'YES', '', None, '')\n",
      "('create_date', 'char(8)', 'NO', '', None, '')\n",
      "('modify_date', 'char(8)', 'NO', '', None, '')\n"
     ]
    }
   ],
   "source": [
    "cur.execute('desc recruit_info') #채용 공고 테이블 확인\n",
    "for i in cur:\n",
    "    print(i)"
   ]
  },
  {
   "cell_type": "code",
   "execution_count": 6,
   "metadata": {},
   "outputs": [
    {
     "name": "stdout",
     "output_type": "stream",
     "text": [
      "(1, '(주)트위니', '대전 유성구 가정북로 90', 'https://jpassets.jobplanet.co.kr/production/uploads/company/logo/321024/thumb_twinny-logo-1.png', '솔루션/SI/ERP/CRM', '201509', '중소기업', 'http://www.twinny.ai', 'N', '000000', '000000')\n"
     ]
    }
   ],
   "source": [
    "cur.execute('select * from comp_info') #comp_info 테이블에서 id를 inner 조인해야함\n",
    "for i in cur:\n",
    "    print(i)"
   ]
  },
  {
   "cell_type": "code",
   "execution_count": 7,
   "metadata": {},
   "outputs": [],
   "source": [
    "import sys\n",
    "sys.path.append('/app/EZPZ_Project/modules/crawlers/job_post')#기업 정보 테이블에서 comp_uid만 inner join해서 빼오기 개같은거\n",
    "sys.path.append('/app/EZPZ_Project/modules/crawlers/comp_info') #기업 정보 크롤러 경로"
   ]
  },
  {
   "cell_type": "code",
   "execution_count": 8,
   "metadata": {},
   "outputs": [],
   "source": [
    "import wanted_recruit_crawler\n",
    "import info_crawler"
   ]
  },
  {
   "cell_type": "code",
   "execution_count": 9,
   "metadata": {},
   "outputs": [],
   "source": [
    "recruit_info_df=wanted_recruit_crawler.get_recruit_info('트위니', csv_save=False) # 원티드 기업정보 크롤러 모듈 객체 나중에 함수화"
   ]
  },
  {
   "cell_type": "code",
   "execution_count": 10,
   "metadata": {},
   "outputs": [],
   "source": [
    "info_crawler_uid= info_crawler.get_url('트위니')"
   ]
  },
  {
   "cell_type": "code",
   "execution_count": 11,
   "metadata": {},
   "outputs": [
    {
     "data": {
      "text/html": [
       "<div>\n",
       "<style scoped>\n",
       "    .dataframe tbody tr th:only-of-type {\n",
       "        vertical-align: middle;\n",
       "    }\n",
       "\n",
       "    .dataframe tbody tr th {\n",
       "        vertical-align: top;\n",
       "    }\n",
       "\n",
       "    .dataframe thead th {\n",
       "        text-align: right;\n",
       "    }\n",
       "</style>\n",
       "<table border=\"1\" class=\"dataframe\">\n",
       "  <thead>\n",
       "    <tr style=\"text-align: right;\">\n",
       "      <th></th>\n",
       "      <th>comp_uid</th>\n",
       "      <th>comp_name</th>\n",
       "      <th>comp_loc</th>\n",
       "      <th>comp_thumb</th>\n",
       "      <th>comp_cont</th>\n",
       "      <th>comp_founded</th>\n",
       "      <th>comp_size</th>\n",
       "      <th>comp_url</th>\n",
       "    </tr>\n",
       "  </thead>\n",
       "  <tbody>\n",
       "    <tr>\n",
       "      <th></th>\n",
       "      <td>321024</td>\n",
       "      <td>(주)트위니</td>\n",
       "      <td>대전 유성구 가정북로 90</td>\n",
       "      <td>https://jpassets.jobplanet.co.kr/production/up...</td>\n",
       "      <td>[솔루션/SI/ERP/CRM]</td>\n",
       "      <td>2015.09.01</td>\n",
       "      <td>중소기업</td>\n",
       "      <td>http://www.twinny.ai</td>\n",
       "    </tr>\n",
       "  </tbody>\n",
       "</table>\n",
       "</div>"
      ],
      "text/plain": [
       " comp_uid comp_name        comp_loc  \\\n",
       "   321024    (주)트위니  대전 유성구 가정북로 90   \n",
       "\n",
       "                                         comp_thumb         comp_cont  \\\n",
       "  https://jpassets.jobplanet.co.kr/production/up...  [솔루션/SI/ERP/CRM]   \n",
       "\n",
       " comp_founded comp_size              comp_url  \n",
       "   2015.09.01      중소기업  http://www.twinny.ai  "
      ]
     },
     "execution_count": 11,
     "metadata": {},
     "output_type": "execute_result"
    }
   ],
   "source": [
    "info_crawler_uid"
   ]
  },
  {
   "cell_type": "code",
   "execution_count": 12,
   "metadata": {},
   "outputs": [
    {
     "data": {
      "text/html": [
       "<div>\n",
       "<style scoped>\n",
       "    .dataframe tbody tr th:only-of-type {\n",
       "        vertical-align: middle;\n",
       "    }\n",
       "\n",
       "    .dataframe tbody tr th {\n",
       "        vertical-align: top;\n",
       "    }\n",
       "\n",
       "    .dataframe thead th {\n",
       "        text-align: right;\n",
       "    }\n",
       "</style>\n",
       "<table border=\"1\" class=\"dataframe\">\n",
       "  <thead>\n",
       "    <tr style=\"text-align: right;\">\n",
       "      <th></th>\n",
       "      <th>recruit_uid</th>\n",
       "      <th>recruit_url</th>\n",
       "      <th>recruit_position</th>\n",
       "      <th>recruit_thumb</th>\n",
       "    </tr>\n",
       "  </thead>\n",
       "  <tbody>\n",
       "    <tr>\n",
       "      <th>0</th>\n",
       "      <td>{141435}</td>\n",
       "      <td>https://www.wanted.co.kr/wd/141435</td>\n",
       "      <td>로봇사업2본부_제품개발실(실장급)</td>\n",
       "      <td>https://static.wanted.co.kr/images/company/128...</td>\n",
       "    </tr>\n",
       "    <tr>\n",
       "      <th>1</th>\n",
       "      <td>{175643}</td>\n",
       "      <td>https://www.wanted.co.kr/wd/175643</td>\n",
       "      <td>품질컴플라이언스팀 팀장 (품질관리실)</td>\n",
       "      <td>https://static.wanted.co.kr/images/company/128...</td>\n",
       "    </tr>\n",
       "    <tr>\n",
       "      <th>2</th>\n",
       "      <td>{175640}</td>\n",
       "      <td>https://www.wanted.co.kr/wd/175640</td>\n",
       "      <td>품질보증팀 팀장 (품질관리실)</td>\n",
       "      <td>https://static.wanted.co.kr/images/company/128...</td>\n",
       "    </tr>\n",
       "    <tr>\n",
       "      <th>3</th>\n",
       "      <td>{124624}</td>\n",
       "      <td>https://www.wanted.co.kr/wd/124624</td>\n",
       "      <td>[로봇사업본부] 백엔드 개발자 (전문연구요원 가능)</td>\n",
       "      <td>https://static.wanted.co.kr/images/company/128...</td>\n",
       "    </tr>\n",
       "    <tr>\n",
       "      <th>4</th>\n",
       "      <td>{136693}</td>\n",
       "      <td>https://www.wanted.co.kr/wd/136693</td>\n",
       "      <td>[로봇사업2본부] 백엔드 개발자 (팀장급)</td>\n",
       "      <td>https://static.wanted.co.kr/images/company/128...</td>\n",
       "    </tr>\n",
       "    <tr>\n",
       "      <th>5</th>\n",
       "      <td>{124088}</td>\n",
       "      <td>https://www.wanted.co.kr/wd/124088</td>\n",
       "      <td>[로봇개발본부] 자율주행 로봇 S/W 개발 (전문연구요원 가능)</td>\n",
       "      <td>https://static.wanted.co.kr/images/company/128...</td>\n",
       "    </tr>\n",
       "  </tbody>\n",
       "</table>\n",
       "</div>"
      ],
      "text/plain": [
       "  recruit_uid                         recruit_url  \\\n",
       "0    {141435}  https://www.wanted.co.kr/wd/141435   \n",
       "1    {175643}  https://www.wanted.co.kr/wd/175643   \n",
       "2    {175640}  https://www.wanted.co.kr/wd/175640   \n",
       "3    {124624}  https://www.wanted.co.kr/wd/124624   \n",
       "4    {136693}  https://www.wanted.co.kr/wd/136693   \n",
       "5    {124088}  https://www.wanted.co.kr/wd/124088   \n",
       "\n",
       "                      recruit_position  \\\n",
       "0                   로봇사업2본부_제품개발실(실장급)   \n",
       "1                 품질컴플라이언스팀 팀장 (품질관리실)   \n",
       "2                     품질보증팀 팀장 (품질관리실)   \n",
       "3         [로봇사업본부] 백엔드 개발자 (전문연구요원 가능)   \n",
       "4              [로봇사업2본부] 백엔드 개발자 (팀장급)   \n",
       "5  [로봇개발본부] 자율주행 로봇 S/W 개발 (전문연구요원 가능)   \n",
       "\n",
       "                                       recruit_thumb  \n",
       "0  https://static.wanted.co.kr/images/company/128...  \n",
       "1  https://static.wanted.co.kr/images/company/128...  \n",
       "2  https://static.wanted.co.kr/images/company/128...  \n",
       "3  https://static.wanted.co.kr/images/company/128...  \n",
       "4  https://static.wanted.co.kr/images/company/128...  \n",
       "5  https://static.wanted.co.kr/images/company/128...  "
      ]
     },
     "execution_count": 12,
     "metadata": {},
     "output_type": "execute_result"
    }
   ],
   "source": [
    "recruit_info_df"
   ]
  },
  {
   "cell_type": "code",
   "execution_count": 13,
   "metadata": {},
   "outputs": [],
   "source": [
    "new_i=[] #집합인 uid를 int로 바꿔준 값을 넣어준 리스트/ 테이블에 넣기위한 전처리\n",
    "for i in range(len(recruit_info_df['recruit_uid'])):\n",
    "    new_i.append(list(recruit_info_df['recruit_uid'][i])[0])\n",
    "    \n"
   ]
  },
  {
   "cell_type": "code",
   "execution_count": 14,
   "metadata": {},
   "outputs": [
    {
     "data": {
      "text/html": [
       "<div>\n",
       "<style scoped>\n",
       "    .dataframe tbody tr th:only-of-type {\n",
       "        vertical-align: middle;\n",
       "    }\n",
       "\n",
       "    .dataframe tbody tr th {\n",
       "        vertical-align: top;\n",
       "    }\n",
       "\n",
       "    .dataframe thead th {\n",
       "        text-align: right;\n",
       "    }\n",
       "</style>\n",
       "<table border=\"1\" class=\"dataframe\">\n",
       "  <thead>\n",
       "    <tr style=\"text-align: right;\">\n",
       "      <th></th>\n",
       "      <th>recruit_uid</th>\n",
       "      <th>recruit_url</th>\n",
       "      <th>recruit_position</th>\n",
       "      <th>recruit_thumb</th>\n",
       "    </tr>\n",
       "  </thead>\n",
       "  <tbody>\n",
       "    <tr>\n",
       "      <th>0</th>\n",
       "      <td>141435</td>\n",
       "      <td>https://www.wanted.co.kr/wd/141435</td>\n",
       "      <td>로봇사업2본부_제품개발실(실장급)</td>\n",
       "      <td>https://static.wanted.co.kr/images/company/128...</td>\n",
       "    </tr>\n",
       "    <tr>\n",
       "      <th>1</th>\n",
       "      <td>175643</td>\n",
       "      <td>https://www.wanted.co.kr/wd/175643</td>\n",
       "      <td>품질컴플라이언스팀 팀장 (품질관리실)</td>\n",
       "      <td>https://static.wanted.co.kr/images/company/128...</td>\n",
       "    </tr>\n",
       "    <tr>\n",
       "      <th>2</th>\n",
       "      <td>175640</td>\n",
       "      <td>https://www.wanted.co.kr/wd/175640</td>\n",
       "      <td>품질보증팀 팀장 (품질관리실)</td>\n",
       "      <td>https://static.wanted.co.kr/images/company/128...</td>\n",
       "    </tr>\n",
       "    <tr>\n",
       "      <th>3</th>\n",
       "      <td>124624</td>\n",
       "      <td>https://www.wanted.co.kr/wd/124624</td>\n",
       "      <td>[로봇사업본부] 백엔드 개발자 (전문연구요원 가능)</td>\n",
       "      <td>https://static.wanted.co.kr/images/company/128...</td>\n",
       "    </tr>\n",
       "    <tr>\n",
       "      <th>4</th>\n",
       "      <td>136693</td>\n",
       "      <td>https://www.wanted.co.kr/wd/136693</td>\n",
       "      <td>[로봇사업2본부] 백엔드 개발자 (팀장급)</td>\n",
       "      <td>https://static.wanted.co.kr/images/company/128...</td>\n",
       "    </tr>\n",
       "    <tr>\n",
       "      <th>5</th>\n",
       "      <td>124088</td>\n",
       "      <td>https://www.wanted.co.kr/wd/124088</td>\n",
       "      <td>[로봇개발본부] 자율주행 로봇 S/W 개발 (전문연구요원 가능)</td>\n",
       "      <td>https://static.wanted.co.kr/images/company/128...</td>\n",
       "    </tr>\n",
       "  </tbody>\n",
       "</table>\n",
       "</div>"
      ],
      "text/plain": [
       "   recruit_uid                         recruit_url  \\\n",
       "0       141435  https://www.wanted.co.kr/wd/141435   \n",
       "1       175643  https://www.wanted.co.kr/wd/175643   \n",
       "2       175640  https://www.wanted.co.kr/wd/175640   \n",
       "3       124624  https://www.wanted.co.kr/wd/124624   \n",
       "4       136693  https://www.wanted.co.kr/wd/136693   \n",
       "5       124088  https://www.wanted.co.kr/wd/124088   \n",
       "\n",
       "                      recruit_position  \\\n",
       "0                   로봇사업2본부_제품개발실(실장급)   \n",
       "1                 품질컴플라이언스팀 팀장 (품질관리실)   \n",
       "2                     품질보증팀 팀장 (품질관리실)   \n",
       "3         [로봇사업본부] 백엔드 개발자 (전문연구요원 가능)   \n",
       "4              [로봇사업2본부] 백엔드 개발자 (팀장급)   \n",
       "5  [로봇개발본부] 자율주행 로봇 S/W 개발 (전문연구요원 가능)   \n",
       "\n",
       "                                       recruit_thumb  \n",
       "0  https://static.wanted.co.kr/images/company/128...  \n",
       "1  https://static.wanted.co.kr/images/company/128...  \n",
       "2  https://static.wanted.co.kr/images/company/128...  \n",
       "3  https://static.wanted.co.kr/images/company/128...  \n",
       "4  https://static.wanted.co.kr/images/company/128...  \n",
       "5  https://static.wanted.co.kr/images/company/128...  "
      ]
     },
     "execution_count": 14,
     "metadata": {},
     "output_type": "execute_result"
    }
   ],
   "source": [
    "recruit_info_df['recruit_uid']=new_i #int 값으로 컬럼 대체\n",
    "recruit_info_df"
   ]
  },
  {
   "cell_type": "code",
   "execution_count": 15,
   "metadata": {},
   "outputs": [
    {
     "name": "stdout",
     "output_type": "stream",
     "text": [
      "(1, '(주)트위니', '대전 유성구 가정북로 90', 'https://jpassets.jobplanet.co.kr/production/uploads/company/logo/321024/thumb_twinny-logo-1.png', '솔루션/SI/ERP/CRM', '201509', '중소기업', 'http://www.twinny.ai', 'N', '000000', '000000')\n"
     ]
    }
   ],
   "source": [
    "cur.execute(\"select * from comp_info\")\n",
    "for i in cur:\n",
    "    print(i)"
   ]
  },
  {
   "cell_type": "code",
   "execution_count": 181,
   "metadata": {},
   "outputs": [
    {
     "name": "stdout",
     "output_type": "stream",
     "text": [
      "('recruit_uid', 'bigint', 'NO', 'PRI', None, 'auto_increment')\n",
      "('comp_uid', 'bigint', 'NO', 'MUL', None, '')\n",
      "('recruit_url', 'varchar(2000)', 'NO', '', None, '')\n",
      "('recruit_position', 'varchar(20)', 'NO', '', None, '')\n",
      "('recruit_thumb', 'varchar(2000)', 'YES', '', None, '')\n",
      "('create_date', 'char(8)', 'NO', '', None, '')\n",
      "('modify_date', 'char(8)', 'NO', '', None, '')\n"
     ]
    }
   ],
   "source": [
    "cur.execute('desc recruit_info')\n",
    "for i in cur:\n",
    "    print(i)"
   ]
  },
  {
   "cell_type": "code",
   "execution_count": 182,
   "metadata": {},
   "outputs": [
    {
     "name": "stdout",
     "output_type": "stream",
     "text": [
      "('comp_uid', 'bigint', 'NO', 'PRI', None, 'auto_increment')\n",
      "('comp_name', 'varchar(20)', 'NO', 'UNI', None, '')\n",
      "('comp_loc', 'varchar(50)', 'NO', '', None, '')\n",
      "('comp_thumb', 'varchar(2000)', 'YES', '', None, '')\n",
      "('comp_cont', 'varchar(30)', 'YES', '', None, '')\n",
      "('comp_founded', 'char(6)', 'YES', '', None, '')\n",
      "('comp_size', 'varchar(10)', 'YES', '', None, '')\n",
      "('comp_url', 'varchar(2000)', 'YES', '', None, '')\n",
      "('is_reged', 'char(1)', 'NO', '', 'N', '')\n",
      "('create_date', 'char(8)', 'NO', '', None, '')\n",
      "('modify_date', 'char(8)', 'NO', '', None, '')\n"
     ]
    }
   ],
   "source": [
    "cur.execute(\"desc comp_info\")\n",
    "for i in cur:\n",
    "    print(i)"
   ]
  },
  {
   "cell_type": "code",
   "execution_count": 16,
   "metadata": {},
   "outputs": [],
   "source": [
    "# 된다!!!!!!!!11!!!!!!!!!!!!!!!!!!!!!!!!!!!!\n",
    "for index, row in recruit_info_df.iterrows():\n",
    "    sql = f\"\"\"INSERT INTO recruit_info(comp_uid, recruit_uid, recruit_url, recruit_position, recruit_thumb, create_date, modify_date)\n",
    "    SELECT comp_uid, {row[\"recruit_uid\"]}, '{row['recruit_url']}', '{row['recruit_position']}', '{row['recruit_thumb']}', \"00000000\", \"00000000\"\n",
    "    FROM comp_info\n",
    "    WHERE comp_name = '(주)트위니';\"\"\"\n",
    "    cur.execute(sql)"
   ]
  },
  {
   "cell_type": "code",
   "execution_count": 18,
   "metadata": {},
   "outputs": [
    {
     "name": "stdout",
     "output_type": "stream",
     "text": [
      "(124088, 1, 'https://www.wanted.co.kr/wd/124088', '[로봇개발본부] 자율주행 로봇 S/W 개발 (전문연구요원 가능)', 'https://static.wanted.co.kr/images/company/12865/6wegrjwxfsasxzaq__1080_790.jpg', '00000000', '00000000')\n",
      "(124624, 1, 'https://www.wanted.co.kr/wd/124624', '[로봇사업본부] 백엔드 개발자 (전문연구요원 가능)', 'https://static.wanted.co.kr/images/company/12865/6wegrjwxfsasxzaq__1080_790.jpg', '00000000', '00000000')\n",
      "(136693, 1, 'https://www.wanted.co.kr/wd/136693', '[로봇사업2본부] 백엔드 개발자 (팀장급)', 'https://static.wanted.co.kr/images/company/12865/6wegrjwxfsasxzaq__1080_790.jpg', '00000000', '00000000')\n",
      "(141435, 1, 'https://www.wanted.co.kr/wd/141435', '로봇사업2본부_제품개발실(실장급)', 'https://static.wanted.co.kr/images/company/12865/6wegrjwxfsasxzaq__1080_790.jpg', '00000000', '00000000')\n",
      "(175640, 1, 'https://www.wanted.co.kr/wd/175640', '품질보증팀 팀장 (품질관리실)', 'https://static.wanted.co.kr/images/company/12865/6wegrjwxfsasxzaq__1080_790.jpg', '00000000', '00000000')\n",
      "(175643, 1, 'https://www.wanted.co.kr/wd/175643', '품질컴플라이언스팀 팀장 (품질관리실)', 'https://static.wanted.co.kr/images/company/12865/6wegrjwxfsasxzaq__1080_790.jpg', '00000000', '00000000')\n"
     ]
    }
   ],
   "source": [
    "cur.execute('select * from recruit_info') # 테이블에 잘 저장됐나 확인 \n",
    "for i in cur:\n",
    "    print(i)"
   ]
  },
  {
   "cell_type": "code",
   "execution_count": 19,
   "metadata": {},
   "outputs": [
    {
     "name": "stdout",
     "output_type": "stream",
     "text": [
      "(1, '(주)트위니', '대전 유성구 가정북로 90', 'https://jpassets.jobplanet.co.kr/production/uploads/company/logo/321024/thumb_twinny-logo-1.png', '솔루션/SI/ERP/CRM', '201509', '중소기업', 'http://www.twinny.ai', 'N', '000000', '000000')\n"
     ]
    }
   ],
   "source": [
    "cur.execute('select * from comp_info') # 외래키 끼리도 잘 연결됐나 확인\n",
    "for i in cur:\n",
    "    print(i)"
   ]
  },
  {
   "cell_type": "code",
   "execution_count": 20,
   "metadata": {},
   "outputs": [],
   "source": [
    "# 작업을 커밋\n",
    "conn.commit()\n",
    "\n",
    "# 연결 종료\n",
    "conn.close()\n",
    "\n",
    "# 연결종료 후엔 반드시 다시 연결해줘야됨"
   ]
  }
 ],
 "metadata": {
  "kernelspec": {
   "display_name": "Python 3",
   "language": "python",
   "name": "python3"
  },
  "language_info": {
   "codemirror_mode": {
    "name": "ipython",
    "version": 3
   },
   "file_extension": ".py",
   "mimetype": "text/x-python",
   "name": "python",
   "nbconvert_exporter": "python",
   "pygments_lexer": "ipython3",
   "version": "3.10.6"
  },
  "orig_nbformat": 4
 },
 "nbformat": 4,
 "nbformat_minor": 2
}
