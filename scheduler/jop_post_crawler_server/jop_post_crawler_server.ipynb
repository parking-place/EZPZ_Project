{
 "cells": [
  {
   "cell_type": "code",
   "execution_count": 1,
   "metadata": {},
   "outputs": [],
   "source": [
    "import socket\n",
    "\n",
    "try :\n",
    "    DB_IP = socket.gethostbyname('EZPZ_DB')\n",
    "except:\n",
    "    DB_IP = 'localhost'\n",
    "USER='root'\n",
    "NAME='ezpz'\n",
    "ENGINE= \"django.db.backends.mysql\"\n",
    "DATABASES = {\n",
    "    \"default\": {\n",
    "        \"ENGINE\": ENGINE,\n",
    "        \"NAME\": NAME, #나중에 db이름 고치기 데이터베이스 이름 \n",
    "        \"USER\": USER, \n",
    "        \"PASSWORD\": \"1234\",\n",
    "        \"HOST\": DB_IP,\n",
    "        \"PORT\": \"33306\"\n",
    "    }\n",
    "}"
   ]
  },
  {
   "cell_type": "code",
   "execution_count": 2,
   "metadata": {},
   "outputs": [],
   "source": [
    "import pymysql\n",
    "import cryptography"
   ]
  },
  {
   "cell_type": "code",
   "execution_count": 3,
   "metadata": {},
   "outputs": [],
   "source": [
    "conn = pymysql.connect(host=DB_IP, user=USER, password='1234',db= NAME ,charset='utf8')"
   ]
  },
  {
   "cell_type": "code",
   "execution_count": 4,
   "metadata": {},
   "outputs": [],
   "source": [
    "cur = conn.cursor()"
   ]
  },
  {
   "cell_type": "code",
   "execution_count": 5,
   "metadata": {},
   "outputs": [
    {
     "name": "stdout",
     "output_type": "stream",
     "text": [
      "('recruit_uid', 'bigint', 'NO', 'PRI', None, 'auto_increment')\n",
      "('comp_uid', 'bigint', 'NO', 'MUL', None, '')\n",
      "('recruit_url', 'varchar(2000)', 'NO', '', None, '')\n",
      "('recruit_position', 'varchar(100)', 'NO', '', None, '')\n",
      "('recruit_thumb', 'varchar(2000)', 'YES', '', None, '')\n",
      "('create_date', 'char(8)', 'NO', '', None, '')\n",
      "('modify_date', 'char(8)', 'NO', '', None, '')\n"
     ]
    }
   ],
   "source": [
    "cur.execute('desc recruit_info') #채용 공고 테이블 확인\n",
    "for i in cur:\n",
    "    print(i)"
   ]
  },
  {
   "cell_type": "code",
   "execution_count": 6,
   "metadata": {},
   "outputs": [
    {
     "name": "stdout",
     "output_type": "stream",
     "text": [
      "(1, '(주)트위니', '대전 유성구 가정북로 90', 'https://jpassets.jobplanet.co.kr/production/uploads/company/logo/321024/thumb_twinny-logo-1.png', '솔루션/SI/ERP/CRM', '201509', '중소기업', 'http://www.twinny.ai', 'N', '000000', '000000')\n",
      "(2, '(주)카카오', '제주 제주시 첨단로 242', 'https://jpassets.jobplanet.co.kr/production/uploads/company/logo/93880/thumb_kakao.jpg', '포털/인터넷/콘텐츠', '199502', '중견기업', 'http://www.kakaocorp.com', 'N', '000000', '000000')\n"
     ]
    }
   ],
   "source": [
    "cur.execute('select * from comp_info') #comp_info 테이블에서 id를 inner 조인해야함\n",
    "for i in cur:\n",
    "    print(i)"
   ]
  },
  {
   "cell_type": "code",
   "execution_count": 7,
   "metadata": {},
   "outputs": [],
   "source": [
    "import sys\n",
    "sys.path.append('/app/EZPZ_Project/modules/crawlers/job_post')#기업 정보 테이블에서 comp_uid만 inner join해서 빼오기 개같은거\n",
    "sys.path.append('/app/EZPZ_Project/modules/crawlers/comp_info') #기업 정보 크롤러 경로"
   ]
  },
  {
   "cell_type": "code",
   "execution_count": 9,
   "metadata": {},
   "outputs": [],
   "source": [
    "import wanted_recruit_crawler\n",
    "import info_crawler"
   ]
  },
  {
   "cell_type": "code",
   "execution_count": 16,
   "metadata": {},
   "outputs": [],
   "source": [
    "recruit_info_df=wanted_recruit_crawler.get_recruit_info('카카오', csv_save=False) # 원티드 기업정보 크롤러 모듈 객체 나중에 함수화"
   ]
  },
  {
   "cell_type": "code",
   "execution_count": 13,
   "metadata": {},
   "outputs": [],
   "source": [
    "info_crawler_uid= info_crawler.get_url('카카오')"
   ]
  },
  {
   "cell_type": "code",
   "execution_count": 14,
   "metadata": {},
   "outputs": [
    {
     "data": {
      "text/html": [
       "<div>\n",
       "<style scoped>\n",
       "    .dataframe tbody tr th:only-of-type {\n",
       "        vertical-align: middle;\n",
       "    }\n",
       "\n",
       "    .dataframe tbody tr th {\n",
       "        vertical-align: top;\n",
       "    }\n",
       "\n",
       "    .dataframe thead th {\n",
       "        text-align: right;\n",
       "    }\n",
       "</style>\n",
       "<table border=\"1\" class=\"dataframe\">\n",
       "  <thead>\n",
       "    <tr style=\"text-align: right;\">\n",
       "      <th></th>\n",
       "      <th>comp_uid</th>\n",
       "      <th>comp_name</th>\n",
       "      <th>comp_loc</th>\n",
       "      <th>comp_thumb</th>\n",
       "      <th>comp_cont</th>\n",
       "      <th>comp_founded</th>\n",
       "      <th>comp_size</th>\n",
       "      <th>comp_url</th>\n",
       "    </tr>\n",
       "  </thead>\n",
       "  <tbody>\n",
       "    <tr>\n",
       "      <th></th>\n",
       "      <td>93880</td>\n",
       "      <td>(주)카카오</td>\n",
       "      <td>제주 제주시 첨단로 242</td>\n",
       "      <td>https://jpassets.jobplanet.co.kr/production/up...</td>\n",
       "      <td>[포털/인터넷/콘텐츠]</td>\n",
       "      <td>1995.02.16</td>\n",
       "      <td>중견기업</td>\n",
       "      <td>http://www.kakaocorp.com</td>\n",
       "    </tr>\n",
       "  </tbody>\n",
       "</table>\n",
       "</div>"
      ],
      "text/plain": [
       " comp_uid comp_name        comp_loc  \\\n",
       "    93880    (주)카카오  제주 제주시 첨단로 242   \n",
       "\n",
       "                                         comp_thumb     comp_cont  \\\n",
       "  https://jpassets.jobplanet.co.kr/production/up...  [포털/인터넷/콘텐츠]   \n",
       "\n",
       " comp_founded comp_size                  comp_url  \n",
       "   1995.02.16      중견기업  http://www.kakaocorp.com  "
      ]
     },
     "execution_count": 14,
     "metadata": {},
     "output_type": "execute_result"
    }
   ],
   "source": [
    "info_crawler_uid"
   ]
  },
  {
   "cell_type": "code",
   "execution_count": 17,
   "metadata": {},
   "outputs": [
    {
     "data": {
      "text/html": [
       "<div>\n",
       "<style scoped>\n",
       "    .dataframe tbody tr th:only-of-type {\n",
       "        vertical-align: middle;\n",
       "    }\n",
       "\n",
       "    .dataframe tbody tr th {\n",
       "        vertical-align: top;\n",
       "    }\n",
       "\n",
       "    .dataframe thead th {\n",
       "        text-align: right;\n",
       "    }\n",
       "</style>\n",
       "<table border=\"1\" class=\"dataframe\">\n",
       "  <thead>\n",
       "    <tr style=\"text-align: right;\">\n",
       "      <th></th>\n",
       "      <th>recruit_uid</th>\n",
       "      <th>recruit_url</th>\n",
       "      <th>recruit_position</th>\n",
       "      <th>recruit_thumb</th>\n",
       "    </tr>\n",
       "  </thead>\n",
       "  <tbody>\n",
       "    <tr>\n",
       "      <th>0</th>\n",
       "      <td>{113928}</td>\n",
       "      <td>https://www.wanted.co.kr/wd/113928</td>\n",
       "      <td>카카오톡 브랜드 채널 및 DA광고 운영 마케터</td>\n",
       "      <td>https://static.wanted.co.kr/images/company/326...</td>\n",
       "    </tr>\n",
       "    <tr>\n",
       "      <th>1</th>\n",
       "      <td>{172031}</td>\n",
       "      <td>https://www.wanted.co.kr/wd/172031</td>\n",
       "      <td>[카카오헤어샵] 프로모션 마케터 (미들-시니어)</td>\n",
       "      <td>https://static.wanted.co.kr/images/company/267...</td>\n",
       "    </tr>\n",
       "    <tr>\n",
       "      <th>2</th>\n",
       "      <td>{173071}</td>\n",
       "      <td>https://www.wanted.co.kr/wd/173071</td>\n",
       "      <td>[카카오헤어샵] 안드로이드 개발자 (미들-시니어)</td>\n",
       "      <td>https://static.wanted.co.kr/images/company/267...</td>\n",
       "    </tr>\n",
       "    <tr>\n",
       "      <th>3</th>\n",
       "      <td>{171904}</td>\n",
       "      <td>https://www.wanted.co.kr/wd/171904</td>\n",
       "      <td>[카카오헤어샵] 백엔드 개발자 (미들-시니어)</td>\n",
       "      <td>https://static.wanted.co.kr/images/company/267...</td>\n",
       "    </tr>\n",
       "    <tr>\n",
       "      <th>4</th>\n",
       "      <td>{174497}</td>\n",
       "      <td>https://www.wanted.co.kr/wd/174497</td>\n",
       "      <td>세무 업무 담당자</td>\n",
       "      <td>https://static.wanted.co.kr/images/company/593...</td>\n",
       "    </tr>\n",
       "    <tr>\n",
       "      <th>5</th>\n",
       "      <td>{171755}</td>\n",
       "      <td>https://www.wanted.co.kr/wd/171755</td>\n",
       "      <td>DevOps 엔지니어</td>\n",
       "      <td>https://static.wanted.co.kr/images/company/593...</td>\n",
       "    </tr>\n",
       "    <tr>\n",
       "      <th>6</th>\n",
       "      <td>{168498}</td>\n",
       "      <td>https://www.wanted.co.kr/wd/168498</td>\n",
       "      <td>클라우드 엔지니어</td>\n",
       "      <td>https://static.wanted.co.kr/images/company/593...</td>\n",
       "    </tr>\n",
       "    <tr>\n",
       "      <th>7</th>\n",
       "      <td>{174812}</td>\n",
       "      <td>https://www.wanted.co.kr/wd/174812</td>\n",
       "      <td>헬스케어 모바일 서비스 기획자 (1년 계약직)</td>\n",
       "      <td>https://static.wanted.co.kr/images/company/351...</td>\n",
       "    </tr>\n",
       "    <tr>\n",
       "      <th>8</th>\n",
       "      <td>{174746}</td>\n",
       "      <td>https://www.wanted.co.kr/wd/174746</td>\n",
       "      <td>헬스케어 데이터 사이언티스트</td>\n",
       "      <td>https://static.wanted.co.kr/images/company/351...</td>\n",
       "    </tr>\n",
       "    <tr>\n",
       "      <th>9</th>\n",
       "      <td>{174452}</td>\n",
       "      <td>https://www.wanted.co.kr/wd/174452</td>\n",
       "      <td>일본 사업개발 담당자</td>\n",
       "      <td>https://static.wanted.co.kr/images/company/351...</td>\n",
       "    </tr>\n",
       "    <tr>\n",
       "      <th>10</th>\n",
       "      <td>{174460}</td>\n",
       "      <td>https://www.wanted.co.kr/wd/174460</td>\n",
       "      <td>헬스케어 데이터 엔지니어</td>\n",
       "      <td>https://static.wanted.co.kr/images/company/351...</td>\n",
       "    </tr>\n",
       "    <tr>\n",
       "      <th>11</th>\n",
       "      <td>{172557}</td>\n",
       "      <td>https://www.wanted.co.kr/wd/172557</td>\n",
       "      <td>정보유출 모니터링 감사</td>\n",
       "      <td>https://static.wanted.co.kr/images/company/351...</td>\n",
       "    </tr>\n",
       "  </tbody>\n",
       "</table>\n",
       "</div>"
      ],
      "text/plain": [
       "   recruit_uid                         recruit_url  \\\n",
       "0     {113928}  https://www.wanted.co.kr/wd/113928   \n",
       "1     {172031}  https://www.wanted.co.kr/wd/172031   \n",
       "2     {173071}  https://www.wanted.co.kr/wd/173071   \n",
       "3     {171904}  https://www.wanted.co.kr/wd/171904   \n",
       "4     {174497}  https://www.wanted.co.kr/wd/174497   \n",
       "5     {171755}  https://www.wanted.co.kr/wd/171755   \n",
       "6     {168498}  https://www.wanted.co.kr/wd/168498   \n",
       "7     {174812}  https://www.wanted.co.kr/wd/174812   \n",
       "8     {174746}  https://www.wanted.co.kr/wd/174746   \n",
       "9     {174452}  https://www.wanted.co.kr/wd/174452   \n",
       "10    {174460}  https://www.wanted.co.kr/wd/174460   \n",
       "11    {172557}  https://www.wanted.co.kr/wd/172557   \n",
       "\n",
       "               recruit_position  \\\n",
       "0     카카오톡 브랜드 채널 및 DA광고 운영 마케터   \n",
       "1    [카카오헤어샵] 프로모션 마케터 (미들-시니어)   \n",
       "2   [카카오헤어샵] 안드로이드 개발자 (미들-시니어)   \n",
       "3     [카카오헤어샵] 백엔드 개발자 (미들-시니어)   \n",
       "4                     세무 업무 담당자   \n",
       "5                   DevOps 엔지니어   \n",
       "6                     클라우드 엔지니어   \n",
       "7     헬스케어 모바일 서비스 기획자 (1년 계약직)   \n",
       "8               헬스케어 데이터 사이언티스트   \n",
       "9                   일본 사업개발 담당자   \n",
       "10                헬스케어 데이터 엔지니어   \n",
       "11                 정보유출 모니터링 감사   \n",
       "\n",
       "                                        recruit_thumb  \n",
       "0   https://static.wanted.co.kr/images/company/326...  \n",
       "1   https://static.wanted.co.kr/images/company/267...  \n",
       "2   https://static.wanted.co.kr/images/company/267...  \n",
       "3   https://static.wanted.co.kr/images/company/267...  \n",
       "4   https://static.wanted.co.kr/images/company/593...  \n",
       "5   https://static.wanted.co.kr/images/company/593...  \n",
       "6   https://static.wanted.co.kr/images/company/593...  \n",
       "7   https://static.wanted.co.kr/images/company/351...  \n",
       "8   https://static.wanted.co.kr/images/company/351...  \n",
       "9   https://static.wanted.co.kr/images/company/351...  \n",
       "10  https://static.wanted.co.kr/images/company/351...  \n",
       "11  https://static.wanted.co.kr/images/company/351...  "
      ]
     },
     "execution_count": 17,
     "metadata": {},
     "output_type": "execute_result"
    }
   ],
   "source": [
    "recruit_info_df"
   ]
  },
  {
   "cell_type": "code",
   "execution_count": 18,
   "metadata": {},
   "outputs": [],
   "source": [
    "new_i=[] #집합인 uid를 int로 바꿔준 값을 넣어준 리스트/ 테이블에 넣기위한 전처리\n",
    "for i in range(len(recruit_info_df['recruit_uid'])):\n",
    "    new_i.append(list(recruit_info_df['recruit_uid'][i])[0])\n",
    "    \n"
   ]
  },
  {
   "cell_type": "code",
   "execution_count": 19,
   "metadata": {},
   "outputs": [
    {
     "data": {
      "text/html": [
       "<div>\n",
       "<style scoped>\n",
       "    .dataframe tbody tr th:only-of-type {\n",
       "        vertical-align: middle;\n",
       "    }\n",
       "\n",
       "    .dataframe tbody tr th {\n",
       "        vertical-align: top;\n",
       "    }\n",
       "\n",
       "    .dataframe thead th {\n",
       "        text-align: right;\n",
       "    }\n",
       "</style>\n",
       "<table border=\"1\" class=\"dataframe\">\n",
       "  <thead>\n",
       "    <tr style=\"text-align: right;\">\n",
       "      <th></th>\n",
       "      <th>recruit_uid</th>\n",
       "      <th>recruit_url</th>\n",
       "      <th>recruit_position</th>\n",
       "      <th>recruit_thumb</th>\n",
       "    </tr>\n",
       "  </thead>\n",
       "  <tbody>\n",
       "    <tr>\n",
       "      <th>0</th>\n",
       "      <td>113928</td>\n",
       "      <td>https://www.wanted.co.kr/wd/113928</td>\n",
       "      <td>카카오톡 브랜드 채널 및 DA광고 운영 마케터</td>\n",
       "      <td>https://static.wanted.co.kr/images/company/326...</td>\n",
       "    </tr>\n",
       "    <tr>\n",
       "      <th>1</th>\n",
       "      <td>172031</td>\n",
       "      <td>https://www.wanted.co.kr/wd/172031</td>\n",
       "      <td>[카카오헤어샵] 프로모션 마케터 (미들-시니어)</td>\n",
       "      <td>https://static.wanted.co.kr/images/company/267...</td>\n",
       "    </tr>\n",
       "    <tr>\n",
       "      <th>2</th>\n",
       "      <td>173071</td>\n",
       "      <td>https://www.wanted.co.kr/wd/173071</td>\n",
       "      <td>[카카오헤어샵] 안드로이드 개발자 (미들-시니어)</td>\n",
       "      <td>https://static.wanted.co.kr/images/company/267...</td>\n",
       "    </tr>\n",
       "    <tr>\n",
       "      <th>3</th>\n",
       "      <td>171904</td>\n",
       "      <td>https://www.wanted.co.kr/wd/171904</td>\n",
       "      <td>[카카오헤어샵] 백엔드 개발자 (미들-시니어)</td>\n",
       "      <td>https://static.wanted.co.kr/images/company/267...</td>\n",
       "    </tr>\n",
       "    <tr>\n",
       "      <th>4</th>\n",
       "      <td>174497</td>\n",
       "      <td>https://www.wanted.co.kr/wd/174497</td>\n",
       "      <td>세무 업무 담당자</td>\n",
       "      <td>https://static.wanted.co.kr/images/company/593...</td>\n",
       "    </tr>\n",
       "    <tr>\n",
       "      <th>5</th>\n",
       "      <td>171755</td>\n",
       "      <td>https://www.wanted.co.kr/wd/171755</td>\n",
       "      <td>DevOps 엔지니어</td>\n",
       "      <td>https://static.wanted.co.kr/images/company/593...</td>\n",
       "    </tr>\n",
       "    <tr>\n",
       "      <th>6</th>\n",
       "      <td>168498</td>\n",
       "      <td>https://www.wanted.co.kr/wd/168498</td>\n",
       "      <td>클라우드 엔지니어</td>\n",
       "      <td>https://static.wanted.co.kr/images/company/593...</td>\n",
       "    </tr>\n",
       "    <tr>\n",
       "      <th>7</th>\n",
       "      <td>174812</td>\n",
       "      <td>https://www.wanted.co.kr/wd/174812</td>\n",
       "      <td>헬스케어 모바일 서비스 기획자 (1년 계약직)</td>\n",
       "      <td>https://static.wanted.co.kr/images/company/351...</td>\n",
       "    </tr>\n",
       "    <tr>\n",
       "      <th>8</th>\n",
       "      <td>174746</td>\n",
       "      <td>https://www.wanted.co.kr/wd/174746</td>\n",
       "      <td>헬스케어 데이터 사이언티스트</td>\n",
       "      <td>https://static.wanted.co.kr/images/company/351...</td>\n",
       "    </tr>\n",
       "    <tr>\n",
       "      <th>9</th>\n",
       "      <td>174452</td>\n",
       "      <td>https://www.wanted.co.kr/wd/174452</td>\n",
       "      <td>일본 사업개발 담당자</td>\n",
       "      <td>https://static.wanted.co.kr/images/company/351...</td>\n",
       "    </tr>\n",
       "    <tr>\n",
       "      <th>10</th>\n",
       "      <td>174460</td>\n",
       "      <td>https://www.wanted.co.kr/wd/174460</td>\n",
       "      <td>헬스케어 데이터 엔지니어</td>\n",
       "      <td>https://static.wanted.co.kr/images/company/351...</td>\n",
       "    </tr>\n",
       "    <tr>\n",
       "      <th>11</th>\n",
       "      <td>172557</td>\n",
       "      <td>https://www.wanted.co.kr/wd/172557</td>\n",
       "      <td>정보유출 모니터링 감사</td>\n",
       "      <td>https://static.wanted.co.kr/images/company/351...</td>\n",
       "    </tr>\n",
       "  </tbody>\n",
       "</table>\n",
       "</div>"
      ],
      "text/plain": [
       "    recruit_uid                         recruit_url  \\\n",
       "0        113928  https://www.wanted.co.kr/wd/113928   \n",
       "1        172031  https://www.wanted.co.kr/wd/172031   \n",
       "2        173071  https://www.wanted.co.kr/wd/173071   \n",
       "3        171904  https://www.wanted.co.kr/wd/171904   \n",
       "4        174497  https://www.wanted.co.kr/wd/174497   \n",
       "5        171755  https://www.wanted.co.kr/wd/171755   \n",
       "6        168498  https://www.wanted.co.kr/wd/168498   \n",
       "7        174812  https://www.wanted.co.kr/wd/174812   \n",
       "8        174746  https://www.wanted.co.kr/wd/174746   \n",
       "9        174452  https://www.wanted.co.kr/wd/174452   \n",
       "10       174460  https://www.wanted.co.kr/wd/174460   \n",
       "11       172557  https://www.wanted.co.kr/wd/172557   \n",
       "\n",
       "               recruit_position  \\\n",
       "0     카카오톡 브랜드 채널 및 DA광고 운영 마케터   \n",
       "1    [카카오헤어샵] 프로모션 마케터 (미들-시니어)   \n",
       "2   [카카오헤어샵] 안드로이드 개발자 (미들-시니어)   \n",
       "3     [카카오헤어샵] 백엔드 개발자 (미들-시니어)   \n",
       "4                     세무 업무 담당자   \n",
       "5                   DevOps 엔지니어   \n",
       "6                     클라우드 엔지니어   \n",
       "7     헬스케어 모바일 서비스 기획자 (1년 계약직)   \n",
       "8               헬스케어 데이터 사이언티스트   \n",
       "9                   일본 사업개발 담당자   \n",
       "10                헬스케어 데이터 엔지니어   \n",
       "11                 정보유출 모니터링 감사   \n",
       "\n",
       "                                        recruit_thumb  \n",
       "0   https://static.wanted.co.kr/images/company/326...  \n",
       "1   https://static.wanted.co.kr/images/company/267...  \n",
       "2   https://static.wanted.co.kr/images/company/267...  \n",
       "3   https://static.wanted.co.kr/images/company/267...  \n",
       "4   https://static.wanted.co.kr/images/company/593...  \n",
       "5   https://static.wanted.co.kr/images/company/593...  \n",
       "6   https://static.wanted.co.kr/images/company/593...  \n",
       "7   https://static.wanted.co.kr/images/company/351...  \n",
       "8   https://static.wanted.co.kr/images/company/351...  \n",
       "9   https://static.wanted.co.kr/images/company/351...  \n",
       "10  https://static.wanted.co.kr/images/company/351...  \n",
       "11  https://static.wanted.co.kr/images/company/351...  "
      ]
     },
     "execution_count": 19,
     "metadata": {},
     "output_type": "execute_result"
    }
   ],
   "source": [
    "recruit_info_df['recruit_uid']=new_i #int 값으로 컬럼 대체\n",
    "recruit_info_df"
   ]
  },
  {
   "cell_type": "code",
   "execution_count": 20,
   "metadata": {},
   "outputs": [
    {
     "name": "stdout",
     "output_type": "stream",
     "text": [
      "(1, '(주)트위니', '대전 유성구 가정북로 90', 'https://jpassets.jobplanet.co.kr/production/uploads/company/logo/321024/thumb_twinny-logo-1.png', '솔루션/SI/ERP/CRM', '201509', '중소기업', 'http://www.twinny.ai', 'N', '000000', '000000')\n",
      "(2, '(주)카카오', '제주 제주시 첨단로 242', 'https://jpassets.jobplanet.co.kr/production/uploads/company/logo/93880/thumb_kakao.jpg', '포털/인터넷/콘텐츠', '199502', '중견기업', 'http://www.kakaocorp.com', 'N', '000000', '000000')\n"
     ]
    }
   ],
   "source": [
    "cur.execute(\"select * from comp_info\")\n",
    "for i in cur:\n",
    "    print(i)"
   ]
  },
  {
   "cell_type": "code",
   "execution_count": 21,
   "metadata": {},
   "outputs": [
    {
     "name": "stdout",
     "output_type": "stream",
     "text": [
      "('recruit_uid', 'bigint', 'NO', 'PRI', None, 'auto_increment')\n",
      "('comp_uid', 'bigint', 'NO', 'MUL', None, '')\n",
      "('recruit_url', 'varchar(2000)', 'NO', '', None, '')\n",
      "('recruit_position', 'varchar(100)', 'NO', '', None, '')\n",
      "('recruit_thumb', 'varchar(2000)', 'YES', '', None, '')\n",
      "('create_date', 'char(8)', 'NO', '', None, '')\n",
      "('modify_date', 'char(8)', 'NO', '', None, '')\n"
     ]
    }
   ],
   "source": [
    "cur.execute('desc recruit_info')\n",
    "for i in cur:\n",
    "    print(i)"
   ]
  },
  {
   "cell_type": "code",
   "execution_count": 22,
   "metadata": {},
   "outputs": [
    {
     "name": "stdout",
     "output_type": "stream",
     "text": [
      "('comp_uid', 'bigint', 'NO', 'PRI', None, 'auto_increment')\n",
      "('comp_name', 'varchar(20)', 'NO', 'UNI', None, '')\n",
      "('comp_loc', 'varchar(50)', 'NO', '', None, '')\n",
      "('comp_thumb', 'varchar(2000)', 'YES', '', None, '')\n",
      "('comp_cont', 'varchar(30)', 'YES', '', None, '')\n",
      "('comp_founded', 'char(6)', 'YES', '', None, '')\n",
      "('comp_size', 'varchar(10)', 'YES', '', None, '')\n",
      "('comp_url', 'varchar(2000)', 'YES', '', None, '')\n",
      "('is_reged', 'char(1)', 'NO', '', 'N', '')\n",
      "('create_date', 'char(8)', 'NO', '', None, '')\n",
      "('modify_date', 'char(8)', 'NO', '', None, '')\n"
     ]
    }
   ],
   "source": [
    "cur.execute(\"desc comp_info\")\n",
    "for i in cur:\n",
    "    print(i)"
   ]
  },
  {
   "cell_type": "code",
   "execution_count": 43,
   "metadata": {},
   "outputs": [],
   "source": [
    "keyword = '(주)카카오' # 예시\n",
    "cur.execute(f'select comp_uid from comp_info where comp_name = \"{keyword}\"') \n",
    "comp_uid=cur.fetchall()[0][0] \n"
   ]
  },
  {
   "cell_type": "code",
   "execution_count": 46,
   "metadata": {},
   "outputs": [],
   "source": [
    "for index, row in recruit_info_df.iterrows():\n",
    "    sql = 'insert into recruit_info '\n",
    "    sql += '    (comp_uid, recruit_uid, recruit_url, recruit_position, recruit_thumb, create_date, modify_date) '\n",
    "    sql += 'values ( '\n",
    "    sql += f'   \"{comp_uid}\", \"{row[\"recruit_uid\"]}\", \"{row[\"recruit_url\"]}\", \"{row[\"recruit_position\"]}\", \"{row[\"recruit_thumb\"]}\" '\n",
    "    sql += f'    , \"{\"00000000\"}\", \"{\"00000000\"}\" '\n",
    "    sql += ') '\n",
    "    cur.execute(sql)"
   ]
  },
  {
   "cell_type": "code",
   "execution_count": 49,
   "metadata": {},
   "outputs": [
    {
     "name": "stdout",
     "output_type": "stream",
     "text": [
      "(124088, 1, 'https://www.wanted.co.kr/wd/124088', '[로봇개발본부] 자율주행 로봇 S/W 개발 (전문연구요원 가능)', 'https://static.wanted.co.kr/images/company/12865/6wegrjwxfsasxzaq__1080_790.jpg', '00000000', '00000000')\n",
      "(175643, 1, 'https://www.wanted.co.kr/wd/175643', '품질컴플라이언스팀 팀장 (품질관리실)', 'https://static.wanted.co.kr/images/company/12865/6wegrjwxfsasxzaq__1080_790.jpg', '00000000', '00000000')\n",
      "(175640, 1, 'https://www.wanted.co.kr/wd/175640', '품질보증팀 팀장 (품질관리실)', 'https://static.wanted.co.kr/images/company/12865/6wegrjwxfsasxzaq__1080_790.jpg', '00000000', '00000000')\n",
      "(141435, 1, 'https://www.wanted.co.kr/wd/141435', '로봇사업2본부_제품개발실(실장급)', 'https://static.wanted.co.kr/images/company/12865/6wegrjwxfsasxzaq__1080_790.jpg', '00000000', '00000000')\n",
      "(136693, 1, 'https://www.wanted.co.kr/wd/136693', '[로봇사업2본부] 백엔드 개발자 (팀장급)', 'https://static.wanted.co.kr/images/company/12865/6wegrjwxfsasxzaq__1080_790.jpg', '00000000', '00000000')\n",
      "(124624, 1, 'https://www.wanted.co.kr/wd/124624', '[로봇사업본부] 백엔드 개발자 (전문연구요원 가능)', 'https://static.wanted.co.kr/images/company/12865/6wegrjwxfsasxzaq__1080_790.jpg', '00000000', '00000000')\n",
      "(168498, 2, 'https://www.wanted.co.kr/wd/168498', '클라우드 엔지니어', 'https://static.wanted.co.kr/images/company/593/17824_2_0.__1080_790.jpg', '00000000', '00000000')\n",
      "(171755, 2, 'https://www.wanted.co.kr/wd/171755', 'DevOps 엔지니어', 'https://static.wanted.co.kr/images/company/593/17824_2_0.__1080_790.jpg', '00000000', '00000000')\n",
      "(171904, 2, 'https://www.wanted.co.kr/wd/171904', '[카카오헤어샵] 백엔드 개발자 (미들-시니어)', 'https://static.wanted.co.kr/images/company/2671/txrozr2bl2gyymzy__1080_790.jpg', '00000000', '00000000')\n",
      "(172031, 2, 'https://www.wanted.co.kr/wd/172031', '[카카오헤어샵] 프로모션 마케터 (미들-시니어)', 'https://static.wanted.co.kr/images/company/2671/txrozr2bl2gyymzy__1080_790.jpg', '00000000', '00000000')\n",
      "(172557, 2, 'https://www.wanted.co.kr/wd/172557', '정보유출 모니터링 감사', 'https://static.wanted.co.kr/images/company/35182/iyclcdzaahw1inyj__1080_790.jpg', '00000000', '00000000')\n",
      "(173071, 2, 'https://www.wanted.co.kr/wd/173071', '[카카오헤어샵] 안드로이드 개발자 (미들-시니어)', 'https://static.wanted.co.kr/images/company/2671/txrozr2bl2gyymzy__1080_790.jpg', '00000000', '00000000')\n",
      "(174452, 2, 'https://www.wanted.co.kr/wd/174452', '일본 사업개발 담당자', 'https://static.wanted.co.kr/images/company/35182/iyclcdzaahw1inyj__1080_790.jpg', '00000000', '00000000')\n",
      "(174460, 2, 'https://www.wanted.co.kr/wd/174460', '헬스케어 데이터 엔지니어', 'https://static.wanted.co.kr/images/company/35182/iyclcdzaahw1inyj__1080_790.jpg', '00000000', '00000000')\n",
      "(174497, 2, 'https://www.wanted.co.kr/wd/174497', '세무 업무 담당자', 'https://static.wanted.co.kr/images/company/593/17824_2_0.__1080_790.jpg', '00000000', '00000000')\n",
      "(174746, 2, 'https://www.wanted.co.kr/wd/174746', '헬스케어 데이터 사이언티스트', 'https://static.wanted.co.kr/images/company/35182/iyclcdzaahw1inyj__1080_790.jpg', '00000000', '00000000')\n",
      "(174812, 2, 'https://www.wanted.co.kr/wd/174812', '헬스케어 모바일 서비스 기획자 (1년 계약직)', 'https://static.wanted.co.kr/images/company/35182/iyclcdzaahw1inyj__1080_790.jpg', '00000000', '00000000')\n",
      "(113928, 2, 'https://www.wanted.co.kr/wd/113928', '카카오톡 브랜드 채널 및 DA광고 운영 마케터', 'https://static.wanted.co.kr/images/company/32670/h13ppbvw4p4xkjf3__1080_790.jpeg', '00000000', '00000000')\n"
     ]
    }
   ],
   "source": [
    "cur.execute('select * from recruit_info order by comp_uid') # 테이블에 잘 저장됐나 확인 \n",
    "for i in cur:\n",
    "    print(i)"
   ]
  },
  {
   "cell_type": "code",
   "execution_count": 19,
   "metadata": {},
   "outputs": [
    {
     "name": "stdout",
     "output_type": "stream",
     "text": [
      "(1, '(주)트위니', '대전 유성구 가정북로 90', 'https://jpassets.jobplanet.co.kr/production/uploads/company/logo/321024/thumb_twinny-logo-1.png', '솔루션/SI/ERP/CRM', '201509', '중소기업', 'http://www.twinny.ai', 'N', '000000', '000000')\n"
     ]
    }
   ],
   "source": [
    "cur.execute('select * from comp_info') # 외래키 끼리도 잘 연결됐나 확인\n",
    "for i in cur:\n",
    "    print(i)"
   ]
  },
  {
   "cell_type": "code",
   "execution_count": 20,
   "metadata": {},
   "outputs": [],
   "source": [
    "# 작업을 커밋\n",
    "conn.commit()\n",
    "\n",
    "# 연결 종료\n",
    "conn.close()\n",
    "\n",
    "# 연결종료 후엔 반드시 다시 연결해줘야됨"
   ]
  }
 ],
 "metadata": {
  "kernelspec": {
   "display_name": "Python 3",
   "language": "python",
   "name": "python3"
  },
  "language_info": {
   "codemirror_mode": {
    "name": "ipython",
    "version": 3
   },
   "file_extension": ".py",
   "mimetype": "text/x-python",
   "name": "python",
   "nbconvert_exporter": "python",
   "pygments_lexer": "ipython3",
   "version": "3.10.6"
  },
  "orig_nbformat": 4
 },
 "nbformat": 4,
 "nbformat_minor": 2
}
