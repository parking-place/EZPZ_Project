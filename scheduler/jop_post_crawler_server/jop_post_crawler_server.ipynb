{
 "cells": [
  {
   "cell_type": "code",
   "execution_count": 166,
   "metadata": {},
   "outputs": [],
   "source": [
    "import socket\n",
    "\n",
    "try :\n",
    "    DB_IP = socket.gethostbyname('EZPZ_DB')\n",
    "except:\n",
    "    DB_IP = 'localhost'\n",
    "USER='root'\n",
    "NAME='ezpz'\n",
    "ENGINE= \"django.db.backends.mysql\"\n",
    "DATABASES = {\n",
    "    \"default\": {\n",
    "        \"ENGINE\": ENGINE,\n",
    "        \"NAME\": NAME, #나중에 db이름 고치기 데이터베이스 이름 \n",
    "        \"USER\": USER, \n",
    "        \"PASSWORD\": \"1234\",\n",
    "        \"HOST\": DB_IP,\n",
    "        \"PORT\": \"33306\"\n",
    "    }\n",
    "}"
   ]
  },
  {
   "cell_type": "code",
   "execution_count": 167,
   "metadata": {},
   "outputs": [],
   "source": [
    "import pymysql\n",
    "import cryptography"
   ]
  },
  {
   "cell_type": "code",
   "execution_count": 168,
   "metadata": {},
   "outputs": [],
   "source": [
    "conn = pymysql.connect(host=DB_IP, user=USER, password='1234',db= NAME ,charset='utf8')"
   ]
  },
  {
   "cell_type": "code",
   "execution_count": 169,
   "metadata": {},
   "outputs": [],
   "source": [
    "cur = conn.cursor()"
   ]
  },
  {
   "cell_type": "code",
   "execution_count": 170,
   "metadata": {},
   "outputs": [
    {
     "name": "stdout",
     "output_type": "stream",
     "text": [
      "('recruit_uid', 'bigint', 'NO', 'PRI', None, 'auto_increment')\n",
      "('comp_uid', 'bigint', 'NO', 'MUL', None, '')\n",
      "('recruit_url', 'varchar(2000)', 'NO', '', None, '')\n",
      "('recruit_position', 'varchar(20)', 'NO', '', None, '')\n",
      "('recruit_thumb', 'varchar(2000)', 'YES', '', None, '')\n",
      "('create_date', 'char(8)', 'NO', '', None, '')\n",
      "('modify_date', 'char(8)', 'NO', '', None, '')\n"
     ]
    }
   ],
   "source": [
    "cur.execute('desc recruit_info') #채용 공고 테이블 확인\n",
    "for i in cur:\n",
    "    print(i)"
   ]
  },
  {
   "cell_type": "code",
   "execution_count": 171,
   "metadata": {},
   "outputs": [
    {
     "name": "stdout",
     "output_type": "stream",
     "text": [
      "(3, '(주)트위니', '대전 유성구 가정북로 90', 'https://jpassets.jobplanet.co.kr/production/uploads/company/logo/321024/thumb_twinny-logo-1.png', '솔루션/SI/ERP/CRM', '201509', '중소기업', 'http://www.twinny.ai', 'N', '000000', '000000')\n"
     ]
    }
   ],
   "source": [
    "cur.execute('select * from comp_info') #comp_info 테이블에서 id를 inner 조인해야함\n",
    "for i in cur:\n",
    "    print(i)"
   ]
  },
  {
   "cell_type": "code",
   "execution_count": 172,
   "metadata": {},
   "outputs": [],
   "source": [
    "import sys\n",
    "sys.path.append('/app/EZPZ_Project/modules/crawlers/job_post')#기업 정보 테이블에서 comp_uid만 inner join해서 빼오기 개같은거\n",
    "sys.path.append('/app/EZPZ_Project/modules/crawlers/comp_info') #기업 정보 크롤러 경로"
   ]
  },
  {
   "cell_type": "code",
   "execution_count": 173,
   "metadata": {},
   "outputs": [],
   "source": [
    "import wanted_recruit_crawler\n",
    "import info_crawler"
   ]
  },
  {
   "cell_type": "code",
   "execution_count": 174,
   "metadata": {},
   "outputs": [],
   "source": [
    "recruit_info_df=wanted_recruit_crawler.get_recruit_info('트위니', csv_save=False) # 원티드 기업정보 크롤러 모듈 객체 나중에 함수화"
   ]
  },
  {
   "cell_type": "code",
   "execution_count": 175,
   "metadata": {},
   "outputs": [],
   "source": [
    "info_crawler_uid= info_crawler.get_url('트위니')"
   ]
  },
  {
   "cell_type": "code",
   "execution_count": 176,
   "metadata": {},
   "outputs": [
    {
     "data": {
      "text/html": [
       "<div>\n",
       "<style scoped>\n",
       "    .dataframe tbody tr th:only-of-type {\n",
       "        vertical-align: middle;\n",
       "    }\n",
       "\n",
       "    .dataframe tbody tr th {\n",
       "        vertical-align: top;\n",
       "    }\n",
       "\n",
       "    .dataframe thead th {\n",
       "        text-align: right;\n",
       "    }\n",
       "</style>\n",
       "<table border=\"1\" class=\"dataframe\">\n",
       "  <thead>\n",
       "    <tr style=\"text-align: right;\">\n",
       "      <th></th>\n",
       "      <th>comp_uid</th>\n",
       "      <th>comp_name</th>\n",
       "      <th>comp_loc</th>\n",
       "      <th>comp_thumb</th>\n",
       "      <th>comp_cont</th>\n",
       "      <th>comp_founded</th>\n",
       "      <th>comp_size</th>\n",
       "      <th>comp_url</th>\n",
       "    </tr>\n",
       "  </thead>\n",
       "  <tbody>\n",
       "    <tr>\n",
       "      <th></th>\n",
       "      <td>321024</td>\n",
       "      <td>(주)트위니</td>\n",
       "      <td>대전 유성구 가정북로 90</td>\n",
       "      <td>https://jpassets.jobplanet.co.kr/production/up...</td>\n",
       "      <td>[솔루션/SI/ERP/CRM]</td>\n",
       "      <td>2015.09.01</td>\n",
       "      <td>중소기업</td>\n",
       "      <td>http://www.twinny.ai</td>\n",
       "    </tr>\n",
       "  </tbody>\n",
       "</table>\n",
       "</div>"
      ],
      "text/plain": [
       " comp_uid comp_name        comp_loc  \\\n",
       "   321024    (주)트위니  대전 유성구 가정북로 90   \n",
       "\n",
       "                                         comp_thumb         comp_cont  \\\n",
       "  https://jpassets.jobplanet.co.kr/production/up...  [솔루션/SI/ERP/CRM]   \n",
       "\n",
       " comp_founded comp_size              comp_url  \n",
       "   2015.09.01      중소기업  http://www.twinny.ai  "
      ]
     },
     "execution_count": 176,
     "metadata": {},
     "output_type": "execute_result"
    }
   ],
   "source": [
    "info_crawler_uid"
   ]
  },
  {
   "cell_type": "code",
   "execution_count": 177,
   "metadata": {},
   "outputs": [
    {
     "data": {
      "text/html": [
       "<div>\n",
       "<style scoped>\n",
       "    .dataframe tbody tr th:only-of-type {\n",
       "        vertical-align: middle;\n",
       "    }\n",
       "\n",
       "    .dataframe tbody tr th {\n",
       "        vertical-align: top;\n",
       "    }\n",
       "\n",
       "    .dataframe thead th {\n",
       "        text-align: right;\n",
       "    }\n",
       "</style>\n",
       "<table border=\"1\" class=\"dataframe\">\n",
       "  <thead>\n",
       "    <tr style=\"text-align: right;\">\n",
       "      <th></th>\n",
       "      <th>recruit_uid</th>\n",
       "      <th>recruit_url</th>\n",
       "      <th>recruit_position</th>\n",
       "      <th>recruit_thumb</th>\n",
       "    </tr>\n",
       "  </thead>\n",
       "  <tbody>\n",
       "    <tr>\n",
       "      <th>0</th>\n",
       "      <td>{141435}</td>\n",
       "      <td>https://www.wanted.co.kr/wd/141435</td>\n",
       "      <td>로봇사업2본부_제품개발실(실장급)</td>\n",
       "      <td>https://static.wanted.co.kr/images/company/128...</td>\n",
       "    </tr>\n",
       "    <tr>\n",
       "      <th>1</th>\n",
       "      <td>{175643}</td>\n",
       "      <td>https://www.wanted.co.kr/wd/175643</td>\n",
       "      <td>품질컴플라이언스팀 팀장 (품질관리실)</td>\n",
       "      <td>https://static.wanted.co.kr/images/company/128...</td>\n",
       "    </tr>\n",
       "    <tr>\n",
       "      <th>2</th>\n",
       "      <td>{175640}</td>\n",
       "      <td>https://www.wanted.co.kr/wd/175640</td>\n",
       "      <td>품질보증팀 팀장 (품질관리실)</td>\n",
       "      <td>https://static.wanted.co.kr/images/company/128...</td>\n",
       "    </tr>\n",
       "    <tr>\n",
       "      <th>3</th>\n",
       "      <td>{124624}</td>\n",
       "      <td>https://www.wanted.co.kr/wd/124624</td>\n",
       "      <td>[로봇사업본부] 백엔드 개발자 (전문연구요원 가능)</td>\n",
       "      <td>https://static.wanted.co.kr/images/company/128...</td>\n",
       "    </tr>\n",
       "    <tr>\n",
       "      <th>4</th>\n",
       "      <td>{136693}</td>\n",
       "      <td>https://www.wanted.co.kr/wd/136693</td>\n",
       "      <td>[로봇사업2본부] 백엔드 개발자 (팀장급)</td>\n",
       "      <td>https://static.wanted.co.kr/images/company/128...</td>\n",
       "    </tr>\n",
       "    <tr>\n",
       "      <th>5</th>\n",
       "      <td>{124088}</td>\n",
       "      <td>https://www.wanted.co.kr/wd/124088</td>\n",
       "      <td>[로봇개발본부] 자율주행 로봇 S/W 개발 (전문연구요원 가능)</td>\n",
       "      <td>https://static.wanted.co.kr/images/company/128...</td>\n",
       "    </tr>\n",
       "  </tbody>\n",
       "</table>\n",
       "</div>"
      ],
      "text/plain": [
       "  recruit_uid                         recruit_url  \\\n",
       "0    {141435}  https://www.wanted.co.kr/wd/141435   \n",
       "1    {175643}  https://www.wanted.co.kr/wd/175643   \n",
       "2    {175640}  https://www.wanted.co.kr/wd/175640   \n",
       "3    {124624}  https://www.wanted.co.kr/wd/124624   \n",
       "4    {136693}  https://www.wanted.co.kr/wd/136693   \n",
       "5    {124088}  https://www.wanted.co.kr/wd/124088   \n",
       "\n",
       "                      recruit_position  \\\n",
       "0                   로봇사업2본부_제품개발실(실장급)   \n",
       "1                 품질컴플라이언스팀 팀장 (품질관리실)   \n",
       "2                     품질보증팀 팀장 (품질관리실)   \n",
       "3         [로봇사업본부] 백엔드 개발자 (전문연구요원 가능)   \n",
       "4              [로봇사업2본부] 백엔드 개발자 (팀장급)   \n",
       "5  [로봇개발본부] 자율주행 로봇 S/W 개발 (전문연구요원 가능)   \n",
       "\n",
       "                                       recruit_thumb  \n",
       "0  https://static.wanted.co.kr/images/company/128...  \n",
       "1  https://static.wanted.co.kr/images/company/128...  \n",
       "2  https://static.wanted.co.kr/images/company/128...  \n",
       "3  https://static.wanted.co.kr/images/company/128...  \n",
       "4  https://static.wanted.co.kr/images/company/128...  \n",
       "5  https://static.wanted.co.kr/images/company/128...  "
      ]
     },
     "execution_count": 177,
     "metadata": {},
     "output_type": "execute_result"
    }
   ],
   "source": [
    "recruit_info_df"
   ]
  },
  {
   "cell_type": "code",
   "execution_count": null,
   "metadata": {},
   "outputs": [],
   "source": []
  },
  {
   "cell_type": "code",
   "execution_count": 178,
   "metadata": {},
   "outputs": [],
   "source": [
    "new_i=[] #집합인 uid를 int로 바꿔준 값을 넣어준 리스트/ 테이블에 넣기위한 전처리\n",
    "for i in range(len(recruit_info_df['recruit_uid'])):\n",
    "    new_i.append(list(recruit_info_df['recruit_uid'][i])[0])\n",
    "    \n"
   ]
  },
  {
   "cell_type": "code",
   "execution_count": 179,
   "metadata": {},
   "outputs": [
    {
     "data": {
      "text/html": [
       "<div>\n",
       "<style scoped>\n",
       "    .dataframe tbody tr th:only-of-type {\n",
       "        vertical-align: middle;\n",
       "    }\n",
       "\n",
       "    .dataframe tbody tr th {\n",
       "        vertical-align: top;\n",
       "    }\n",
       "\n",
       "    .dataframe thead th {\n",
       "        text-align: right;\n",
       "    }\n",
       "</style>\n",
       "<table border=\"1\" class=\"dataframe\">\n",
       "  <thead>\n",
       "    <tr style=\"text-align: right;\">\n",
       "      <th></th>\n",
       "      <th>recruit_uid</th>\n",
       "      <th>recruit_url</th>\n",
       "      <th>recruit_position</th>\n",
       "      <th>recruit_thumb</th>\n",
       "    </tr>\n",
       "  </thead>\n",
       "  <tbody>\n",
       "    <tr>\n",
       "      <th>0</th>\n",
       "      <td>141435</td>\n",
       "      <td>https://www.wanted.co.kr/wd/141435</td>\n",
       "      <td>로봇사업2본부_제품개발실(실장급)</td>\n",
       "      <td>https://static.wanted.co.kr/images/company/128...</td>\n",
       "    </tr>\n",
       "    <tr>\n",
       "      <th>1</th>\n",
       "      <td>175643</td>\n",
       "      <td>https://www.wanted.co.kr/wd/175643</td>\n",
       "      <td>품질컴플라이언스팀 팀장 (품질관리실)</td>\n",
       "      <td>https://static.wanted.co.kr/images/company/128...</td>\n",
       "    </tr>\n",
       "    <tr>\n",
       "      <th>2</th>\n",
       "      <td>175640</td>\n",
       "      <td>https://www.wanted.co.kr/wd/175640</td>\n",
       "      <td>품질보증팀 팀장 (품질관리실)</td>\n",
       "      <td>https://static.wanted.co.kr/images/company/128...</td>\n",
       "    </tr>\n",
       "    <tr>\n",
       "      <th>3</th>\n",
       "      <td>124624</td>\n",
       "      <td>https://www.wanted.co.kr/wd/124624</td>\n",
       "      <td>[로봇사업본부] 백엔드 개발자 (전문연구요원 가능)</td>\n",
       "      <td>https://static.wanted.co.kr/images/company/128...</td>\n",
       "    </tr>\n",
       "    <tr>\n",
       "      <th>4</th>\n",
       "      <td>136693</td>\n",
       "      <td>https://www.wanted.co.kr/wd/136693</td>\n",
       "      <td>[로봇사업2본부] 백엔드 개발자 (팀장급)</td>\n",
       "      <td>https://static.wanted.co.kr/images/company/128...</td>\n",
       "    </tr>\n",
       "    <tr>\n",
       "      <th>5</th>\n",
       "      <td>124088</td>\n",
       "      <td>https://www.wanted.co.kr/wd/124088</td>\n",
       "      <td>[로봇개발본부] 자율주행 로봇 S/W 개발 (전문연구요원 가능)</td>\n",
       "      <td>https://static.wanted.co.kr/images/company/128...</td>\n",
       "    </tr>\n",
       "  </tbody>\n",
       "</table>\n",
       "</div>"
      ],
      "text/plain": [
       "   recruit_uid                         recruit_url  \\\n",
       "0       141435  https://www.wanted.co.kr/wd/141435   \n",
       "1       175643  https://www.wanted.co.kr/wd/175643   \n",
       "2       175640  https://www.wanted.co.kr/wd/175640   \n",
       "3       124624  https://www.wanted.co.kr/wd/124624   \n",
       "4       136693  https://www.wanted.co.kr/wd/136693   \n",
       "5       124088  https://www.wanted.co.kr/wd/124088   \n",
       "\n",
       "                      recruit_position  \\\n",
       "0                   로봇사업2본부_제품개발실(실장급)   \n",
       "1                 품질컴플라이언스팀 팀장 (품질관리실)   \n",
       "2                     품질보증팀 팀장 (품질관리실)   \n",
       "3         [로봇사업본부] 백엔드 개발자 (전문연구요원 가능)   \n",
       "4              [로봇사업2본부] 백엔드 개발자 (팀장급)   \n",
       "5  [로봇개발본부] 자율주행 로봇 S/W 개발 (전문연구요원 가능)   \n",
       "\n",
       "                                       recruit_thumb  \n",
       "0  https://static.wanted.co.kr/images/company/128...  \n",
       "1  https://static.wanted.co.kr/images/company/128...  \n",
       "2  https://static.wanted.co.kr/images/company/128...  \n",
       "3  https://static.wanted.co.kr/images/company/128...  \n",
       "4  https://static.wanted.co.kr/images/company/128...  \n",
       "5  https://static.wanted.co.kr/images/company/128...  "
      ]
     },
     "execution_count": 179,
     "metadata": {},
     "output_type": "execute_result"
    }
   ],
   "source": [
    "recruit_info_df['recruit_uid']=new_i #int 값으로 컬럼 대체\n",
    "recruit_info_df"
   ]
  },
  {
   "cell_type": "code",
   "execution_count": 180,
   "metadata": {},
   "outputs": [
    {
     "name": "stdout",
     "output_type": "stream",
     "text": [
      "(3, '(주)트위니', '대전 유성구 가정북로 90', 'https://jpassets.jobplanet.co.kr/production/uploads/company/logo/321024/thumb_twinny-logo-1.png', '솔루션/SI/ERP/CRM', '201509', '중소기업', 'http://www.twinny.ai', 'N', '000000', '000000')\n"
     ]
    }
   ],
   "source": [
    "cur.execute(\"select * from comp_info\")\n",
    "for i in cur:\n",
    "    print(i)"
   ]
  },
  {
   "cell_type": "code",
   "execution_count": null,
   "metadata": {},
   "outputs": [],
   "source": [
    "for index, row in recruit_info_df.iterrows():\n",
    "    sql = f\"\"\"SELECT comp_uid, {row[\"recruit_uid\"]}, '{row['recruit_url']}', '{row['recruit_position']}', '{row['recruit_thumb']}','00000000','00000000'\n",
    "    FROM comp_info\n",
    "    WHERE comp_name = '(주)트위니';\"\"\"\n",
    "    cur.execute(sql)\n",
    "    result = cur.fetchall()\n",
    "    print(result)"
   ]
  },
  {
   "cell_type": "code",
   "execution_count": 181,
   "metadata": {},
   "outputs": [
    {
     "name": "stdout",
     "output_type": "stream",
     "text": [
      "('recruit_uid', 'bigint', 'NO', 'PRI', None, 'auto_increment')\n",
      "('comp_uid', 'bigint', 'NO', 'MUL', None, '')\n",
      "('recruit_url', 'varchar(2000)', 'NO', '', None, '')\n",
      "('recruit_position', 'varchar(20)', 'NO', '', None, '')\n",
      "('recruit_thumb', 'varchar(2000)', 'YES', '', None, '')\n",
      "('create_date', 'char(8)', 'NO', '', None, '')\n",
      "('modify_date', 'char(8)', 'NO', '', None, '')\n"
     ]
    }
   ],
   "source": [
    "cur.execute('desc recruit_info')\n",
    "for i in cur:\n",
    "    print(i)"
   ]
  },
  {
   "cell_type": "code",
   "execution_count": 182,
   "metadata": {},
   "outputs": [
    {
     "name": "stdout",
     "output_type": "stream",
     "text": [
      "('comp_uid', 'bigint', 'NO', 'PRI', None, 'auto_increment')\n",
      "('comp_name', 'varchar(20)', 'NO', 'UNI', None, '')\n",
      "('comp_loc', 'varchar(50)', 'NO', '', None, '')\n",
      "('comp_thumb', 'varchar(2000)', 'YES', '', None, '')\n",
      "('comp_cont', 'varchar(30)', 'YES', '', None, '')\n",
      "('comp_founded', 'char(6)', 'YES', '', None, '')\n",
      "('comp_size', 'varchar(10)', 'YES', '', None, '')\n",
      "('comp_url', 'varchar(2000)', 'YES', '', None, '')\n",
      "('is_reged', 'char(1)', 'NO', '', 'N', '')\n",
      "('create_date', 'char(8)', 'NO', '', None, '')\n",
      "('modify_date', 'char(8)', 'NO', '', None, '')\n"
     ]
    }
   ],
   "source": [
    "cur.execute(\"desc comp_info\")\n",
    "for i in cur:\n",
    "    print(i)"
   ]
  },
  {
   "cell_type": "code",
   "execution_count": 183,
   "metadata": {},
   "outputs": [
    {
     "name": "stdout",
     "output_type": "stream",
     "text": [
      "(3, '(주)트위니', '대전 유성구 가정북로 90', 'https://jpassets.jobplanet.co.kr/production/uploads/company/logo/321024/thumb_twinny-logo-1.png', '솔루션/SI/ERP/CRM', '201509', '중소기업', 'http://www.twinny.ai', 'N', '000000', '000000')\n"
     ]
    }
   ],
   "source": [
    "cur.execute('select * from comp_info')\n",
    "for i in cur:\n",
    "    print(i)"
   ]
  },
  {
   "cell_type": "code",
   "execution_count": 184,
   "metadata": {},
   "outputs": [
    {
     "name": "stdout",
     "output_type": "stream",
     "text": [
      "(3,)\n"
     ]
    }
   ],
   "source": [
    "cur.execute('select comp_uid from comp_info WHERE comp_name = \"(주)트위니\";')\n",
    "# 결과 가져오기\n",
    "rows = cur.fetchall()\n",
    "\n",
    "# 데이터 출력\n",
    "for row in rows:\n",
    "    print(row)"
   ]
  },
  {
   "cell_type": "code",
   "execution_count": 187,
   "metadata": {},
   "outputs": [
    {
     "ename": "InterfaceError",
     "evalue": "(0, '')",
     "output_type": "error",
     "traceback": [
      "\u001b[0;31m---------------------------------------------------------------------------\u001b[0m",
      "\u001b[0;31mInterfaceError\u001b[0m                            Traceback (most recent call last)",
      "Cell \u001b[0;32mIn[187], line 1\u001b[0m\n\u001b[0;32m----> 1\u001b[0m cur\u001b[39m.\u001b[39;49mexecute(\u001b[39m'\u001b[39;49m\u001b[39mselect * from comp_info\u001b[39;49m\u001b[39m'\u001b[39;49m)\n",
      "File \u001b[0;32m/usr/local/lib/python3.10/dist-packages/pymysql/cursors.py:153\u001b[0m, in \u001b[0;36mCursor.execute\u001b[0;34m(self, query, args)\u001b[0m\n\u001b[1;32m    149\u001b[0m     \u001b[39mpass\u001b[39;00m\n\u001b[1;32m    151\u001b[0m query \u001b[39m=\u001b[39m \u001b[39mself\u001b[39m\u001b[39m.\u001b[39mmogrify(query, args)\n\u001b[0;32m--> 153\u001b[0m result \u001b[39m=\u001b[39m \u001b[39mself\u001b[39;49m\u001b[39m.\u001b[39;49m_query(query)\n\u001b[1;32m    154\u001b[0m \u001b[39mself\u001b[39m\u001b[39m.\u001b[39m_executed \u001b[39m=\u001b[39m query\n\u001b[1;32m    155\u001b[0m \u001b[39mreturn\u001b[39;00m result\n",
      "File \u001b[0;32m/usr/local/lib/python3.10/dist-packages/pymysql/cursors.py:322\u001b[0m, in \u001b[0;36mCursor._query\u001b[0;34m(self, q)\u001b[0m\n\u001b[1;32m    320\u001b[0m conn \u001b[39m=\u001b[39m \u001b[39mself\u001b[39m\u001b[39m.\u001b[39m_get_db()\n\u001b[1;32m    321\u001b[0m \u001b[39mself\u001b[39m\u001b[39m.\u001b[39m_clear_result()\n\u001b[0;32m--> 322\u001b[0m conn\u001b[39m.\u001b[39;49mquery(q)\n\u001b[1;32m    323\u001b[0m \u001b[39mself\u001b[39m\u001b[39m.\u001b[39m_do_get_result()\n\u001b[1;32m    324\u001b[0m \u001b[39mreturn\u001b[39;00m \u001b[39mself\u001b[39m\u001b[39m.\u001b[39mrowcount\n",
      "File \u001b[0;32m/usr/local/lib/python3.10/dist-packages/pymysql/connections.py:557\u001b[0m, in \u001b[0;36mConnection.query\u001b[0;34m(self, sql, unbuffered)\u001b[0m\n\u001b[1;32m    555\u001b[0m \u001b[39mif\u001b[39;00m \u001b[39misinstance\u001b[39m(sql, \u001b[39mstr\u001b[39m):\n\u001b[1;32m    556\u001b[0m     sql \u001b[39m=\u001b[39m sql\u001b[39m.\u001b[39mencode(\u001b[39mself\u001b[39m\u001b[39m.\u001b[39mencoding, \u001b[39m\"\u001b[39m\u001b[39msurrogateescape\u001b[39m\u001b[39m\"\u001b[39m)\n\u001b[0;32m--> 557\u001b[0m \u001b[39mself\u001b[39;49m\u001b[39m.\u001b[39;49m_execute_command(COMMAND\u001b[39m.\u001b[39;49mCOM_QUERY, sql)\n\u001b[1;32m    558\u001b[0m \u001b[39mself\u001b[39m\u001b[39m.\u001b[39m_affected_rows \u001b[39m=\u001b[39m \u001b[39mself\u001b[39m\u001b[39m.\u001b[39m_read_query_result(unbuffered\u001b[39m=\u001b[39munbuffered)\n\u001b[1;32m    559\u001b[0m \u001b[39mreturn\u001b[39;00m \u001b[39mself\u001b[39m\u001b[39m.\u001b[39m_affected_rows\n",
      "File \u001b[0;32m/usr/local/lib/python3.10/dist-packages/pymysql/connections.py:840\u001b[0m, in \u001b[0;36mConnection._execute_command\u001b[0;34m(self, command, sql)\u001b[0m\n\u001b[1;32m    835\u001b[0m \u001b[39m\"\"\"\u001b[39;00m\n\u001b[1;32m    836\u001b[0m \u001b[39m:raise InterfaceError: If the connection is closed.\u001b[39;00m\n\u001b[1;32m    837\u001b[0m \u001b[39m:raise ValueError: If no username was specified.\u001b[39;00m\n\u001b[1;32m    838\u001b[0m \u001b[39m\"\"\"\u001b[39;00m\n\u001b[1;32m    839\u001b[0m \u001b[39mif\u001b[39;00m \u001b[39mnot\u001b[39;00m \u001b[39mself\u001b[39m\u001b[39m.\u001b[39m_sock:\n\u001b[0;32m--> 840\u001b[0m     \u001b[39mraise\u001b[39;00m err\u001b[39m.\u001b[39mInterfaceError(\u001b[39m0\u001b[39m, \u001b[39m\"\u001b[39m\u001b[39m\"\u001b[39m)\n\u001b[1;32m    842\u001b[0m \u001b[39m# If the last query was unbuffered, make sure it finishes before\u001b[39;00m\n\u001b[1;32m    843\u001b[0m \u001b[39m# sending new commands\u001b[39;00m\n\u001b[1;32m    844\u001b[0m \u001b[39mif\u001b[39;00m \u001b[39mself\u001b[39m\u001b[39m.\u001b[39m_result \u001b[39mis\u001b[39;00m \u001b[39mnot\u001b[39;00m \u001b[39mNone\u001b[39;00m:\n",
      "\u001b[0;31mInterfaceError\u001b[0m: (0, '')"
     ]
    }
   ],
   "source": [
    "cur.execute('select * from comp_info')"
   ]
  },
  {
   "cell_type": "code",
   "execution_count": 185,
   "metadata": {},
   "outputs": [
    {
     "ename": "OperationalError",
     "evalue": "(1213, 'Deadlock found when trying to get lock; try restarting transaction')",
     "output_type": "error",
     "traceback": [
      "\u001b[0;31m---------------------------------------------------------------------------\u001b[0m",
      "\u001b[0;31mOperationalError\u001b[0m                          Traceback (most recent call last)",
      "Cell \u001b[0;32mIn[185], line 7\u001b[0m\n\u001b[1;32m      2\u001b[0m \u001b[39mfor\u001b[39;00m index, row \u001b[39min\u001b[39;00m recruit_info_df\u001b[39m.\u001b[39miterrows():\n\u001b[1;32m      3\u001b[0m     sql \u001b[39m=\u001b[39m \u001b[39mf\u001b[39m\u001b[39m\"\"\"\u001b[39m\u001b[39mINSERT INTO recruit_info(comp_uid, recruit_uid, recruit_url, recruit_position, recruit_thumb, create_date, modify_date)\u001b[39m\n\u001b[1;32m      4\u001b[0m \u001b[39m    SELECT comp_uid, \u001b[39m\u001b[39m{\u001b[39;00mrow[\u001b[39m\"\u001b[39m\u001b[39mrecruit_uid\u001b[39m\u001b[39m\"\u001b[39m]\u001b[39m}\u001b[39;00m\u001b[39m, \u001b[39m\u001b[39m'\u001b[39m\u001b[39m{\u001b[39;00mrow[\u001b[39m'\u001b[39m\u001b[39mrecruit_url\u001b[39m\u001b[39m'\u001b[39m]\u001b[39m}\u001b[39;00m\u001b[39m'\u001b[39m\u001b[39m, \u001b[39m\u001b[39m'\u001b[39m\u001b[39m{\u001b[39;00mrow[\u001b[39m'\u001b[39m\u001b[39mrecruit_position\u001b[39m\u001b[39m'\u001b[39m]\u001b[39m}\u001b[39;00m\u001b[39m'\u001b[39m\u001b[39m, \u001b[39m\u001b[39m'\u001b[39m\u001b[39m{\u001b[39;00mrow[\u001b[39m'\u001b[39m\u001b[39mrecruit_thumb\u001b[39m\u001b[39m'\u001b[39m]\u001b[39m}\u001b[39;00m\u001b[39m'\u001b[39m\u001b[39m, \u001b[39m\u001b[39m\"\u001b[39m\u001b[39m00000000\u001b[39m\u001b[39m\"\u001b[39m\u001b[39m, \u001b[39m\u001b[39m\"\u001b[39m\u001b[39m00000000\u001b[39m\u001b[39m\"\u001b[39m\n\u001b[1;32m      5\u001b[0m \u001b[39m    FROM comp_info\u001b[39m\n\u001b[1;32m      6\u001b[0m \u001b[39m    WHERE comp_name = \u001b[39m\u001b[39m'\u001b[39m\u001b[39m(주)트위니\u001b[39m\u001b[39m'\u001b[39m\u001b[39m;\u001b[39m\u001b[39m\"\"\"\u001b[39m\n\u001b[0;32m----> 7\u001b[0m     cur\u001b[39m.\u001b[39;49mexecute(sql)\n",
      "File \u001b[0;32m/usr/local/lib/python3.10/dist-packages/pymysql/cursors.py:153\u001b[0m, in \u001b[0;36mCursor.execute\u001b[0;34m(self, query, args)\u001b[0m\n\u001b[1;32m    149\u001b[0m     \u001b[39mpass\u001b[39;00m\n\u001b[1;32m    151\u001b[0m query \u001b[39m=\u001b[39m \u001b[39mself\u001b[39m\u001b[39m.\u001b[39mmogrify(query, args)\n\u001b[0;32m--> 153\u001b[0m result \u001b[39m=\u001b[39m \u001b[39mself\u001b[39;49m\u001b[39m.\u001b[39;49m_query(query)\n\u001b[1;32m    154\u001b[0m \u001b[39mself\u001b[39m\u001b[39m.\u001b[39m_executed \u001b[39m=\u001b[39m query\n\u001b[1;32m    155\u001b[0m \u001b[39mreturn\u001b[39;00m result\n",
      "File \u001b[0;32m/usr/local/lib/python3.10/dist-packages/pymysql/cursors.py:322\u001b[0m, in \u001b[0;36mCursor._query\u001b[0;34m(self, q)\u001b[0m\n\u001b[1;32m    320\u001b[0m conn \u001b[39m=\u001b[39m \u001b[39mself\u001b[39m\u001b[39m.\u001b[39m_get_db()\n\u001b[1;32m    321\u001b[0m \u001b[39mself\u001b[39m\u001b[39m.\u001b[39m_clear_result()\n\u001b[0;32m--> 322\u001b[0m conn\u001b[39m.\u001b[39;49mquery(q)\n\u001b[1;32m    323\u001b[0m \u001b[39mself\u001b[39m\u001b[39m.\u001b[39m_do_get_result()\n\u001b[1;32m    324\u001b[0m \u001b[39mreturn\u001b[39;00m \u001b[39mself\u001b[39m\u001b[39m.\u001b[39mrowcount\n",
      "File \u001b[0;32m/usr/local/lib/python3.10/dist-packages/pymysql/connections.py:558\u001b[0m, in \u001b[0;36mConnection.query\u001b[0;34m(self, sql, unbuffered)\u001b[0m\n\u001b[1;32m    556\u001b[0m     sql \u001b[39m=\u001b[39m sql\u001b[39m.\u001b[39mencode(\u001b[39mself\u001b[39m\u001b[39m.\u001b[39mencoding, \u001b[39m\"\u001b[39m\u001b[39msurrogateescape\u001b[39m\u001b[39m\"\u001b[39m)\n\u001b[1;32m    557\u001b[0m \u001b[39mself\u001b[39m\u001b[39m.\u001b[39m_execute_command(COMMAND\u001b[39m.\u001b[39mCOM_QUERY, sql)\n\u001b[0;32m--> 558\u001b[0m \u001b[39mself\u001b[39m\u001b[39m.\u001b[39m_affected_rows \u001b[39m=\u001b[39m \u001b[39mself\u001b[39;49m\u001b[39m.\u001b[39;49m_read_query_result(unbuffered\u001b[39m=\u001b[39;49munbuffered)\n\u001b[1;32m    559\u001b[0m \u001b[39mreturn\u001b[39;00m \u001b[39mself\u001b[39m\u001b[39m.\u001b[39m_affected_rows\n",
      "File \u001b[0;32m/usr/local/lib/python3.10/dist-packages/pymysql/connections.py:822\u001b[0m, in \u001b[0;36mConnection._read_query_result\u001b[0;34m(self, unbuffered)\u001b[0m\n\u001b[1;32m    820\u001b[0m \u001b[39melse\u001b[39;00m:\n\u001b[1;32m    821\u001b[0m     result \u001b[39m=\u001b[39m MySQLResult(\u001b[39mself\u001b[39m)\n\u001b[0;32m--> 822\u001b[0m     result\u001b[39m.\u001b[39;49mread()\n\u001b[1;32m    823\u001b[0m \u001b[39mself\u001b[39m\u001b[39m.\u001b[39m_result \u001b[39m=\u001b[39m result\n\u001b[1;32m    824\u001b[0m \u001b[39mif\u001b[39;00m result\u001b[39m.\u001b[39mserver_status \u001b[39mis\u001b[39;00m \u001b[39mnot\u001b[39;00m \u001b[39mNone\u001b[39;00m:\n",
      "File \u001b[0;32m/usr/local/lib/python3.10/dist-packages/pymysql/connections.py:1200\u001b[0m, in \u001b[0;36mMySQLResult.read\u001b[0;34m(self)\u001b[0m\n\u001b[1;32m   1198\u001b[0m \u001b[39mdef\u001b[39;00m \u001b[39mread\u001b[39m(\u001b[39mself\u001b[39m):\n\u001b[1;32m   1199\u001b[0m     \u001b[39mtry\u001b[39;00m:\n\u001b[0;32m-> 1200\u001b[0m         first_packet \u001b[39m=\u001b[39m \u001b[39mself\u001b[39;49m\u001b[39m.\u001b[39;49mconnection\u001b[39m.\u001b[39;49m_read_packet()\n\u001b[1;32m   1202\u001b[0m         \u001b[39mif\u001b[39;00m first_packet\u001b[39m.\u001b[39mis_ok_packet():\n\u001b[1;32m   1203\u001b[0m             \u001b[39mself\u001b[39m\u001b[39m.\u001b[39m_read_ok_packet(first_packet)\n",
      "File \u001b[0;32m/usr/local/lib/python3.10/dist-packages/pymysql/connections.py:772\u001b[0m, in \u001b[0;36mConnection._read_packet\u001b[0;34m(self, packet_type)\u001b[0m\n\u001b[1;32m    770\u001b[0m     \u001b[39mif\u001b[39;00m \u001b[39mself\u001b[39m\u001b[39m.\u001b[39m_result \u001b[39mis\u001b[39;00m \u001b[39mnot\u001b[39;00m \u001b[39mNone\u001b[39;00m \u001b[39mand\u001b[39;00m \u001b[39mself\u001b[39m\u001b[39m.\u001b[39m_result\u001b[39m.\u001b[39munbuffered_active \u001b[39mis\u001b[39;00m \u001b[39mTrue\u001b[39;00m:\n\u001b[1;32m    771\u001b[0m         \u001b[39mself\u001b[39m\u001b[39m.\u001b[39m_result\u001b[39m.\u001b[39munbuffered_active \u001b[39m=\u001b[39m \u001b[39mFalse\u001b[39;00m\n\u001b[0;32m--> 772\u001b[0m     packet\u001b[39m.\u001b[39;49mraise_for_error()\n\u001b[1;32m    773\u001b[0m \u001b[39mreturn\u001b[39;00m packet\n",
      "File \u001b[0;32m/usr/local/lib/python3.10/dist-packages/pymysql/protocol.py:221\u001b[0m, in \u001b[0;36mMysqlPacket.raise_for_error\u001b[0;34m(self)\u001b[0m\n\u001b[1;32m    219\u001b[0m \u001b[39mif\u001b[39;00m DEBUG:\n\u001b[1;32m    220\u001b[0m     \u001b[39mprint\u001b[39m(\u001b[39m\"\u001b[39m\u001b[39merrno =\u001b[39m\u001b[39m\"\u001b[39m, errno)\n\u001b[0;32m--> 221\u001b[0m err\u001b[39m.\u001b[39;49mraise_mysql_exception(\u001b[39mself\u001b[39;49m\u001b[39m.\u001b[39;49m_data)\n",
      "File \u001b[0;32m/usr/local/lib/python3.10/dist-packages/pymysql/err.py:143\u001b[0m, in \u001b[0;36mraise_mysql_exception\u001b[0;34m(data)\u001b[0m\n\u001b[1;32m    141\u001b[0m \u001b[39mif\u001b[39;00m errorclass \u001b[39mis\u001b[39;00m \u001b[39mNone\u001b[39;00m:\n\u001b[1;32m    142\u001b[0m     errorclass \u001b[39m=\u001b[39m InternalError \u001b[39mif\u001b[39;00m errno \u001b[39m<\u001b[39m \u001b[39m1000\u001b[39m \u001b[39melse\u001b[39;00m OperationalError\n\u001b[0;32m--> 143\u001b[0m \u001b[39mraise\u001b[39;00m errorclass(errno, errval)\n",
      "\u001b[0;31mOperationalError\u001b[0m: (1213, 'Deadlock found when trying to get lock; try restarting transaction')"
     ]
    }
   ],
   "source": [
    "# 된다!!!!!!!!11\n",
    "for index, row in recruit_info_df.iterrows():\n",
    "    sql = f\"\"\"INSERT INTO recruit_info(comp_uid, recruit_uid, recruit_url, recruit_position, recruit_thumb, create_date, modify_date)\n",
    "    SELECT comp_uid, {row[\"recruit_uid\"]}, '{row['recruit_url']}', '{row['recruit_position']}', '{row['recruit_thumb']}', \"00000000\", \"00000000\"\n",
    "    FROM comp_info\n",
    "    WHERE comp_name = '(주)트위니';\"\"\"\n",
    "    cur.execute(sql)"
   ]
  },
  {
   "cell_type": "code",
   "execution_count": null,
   "metadata": {},
   "outputs": [],
   "source": [
    "# 채용 공고 리스트로 저장해서 데이터프레임에 넣어줄수 있게\n",
    "col_value=[]\n",
    "for i in recruit_info_df.iloc[0]:\n",
    "    col_value.append(i)\n",
    "print(col_value)   "
   ]
  }
 ],
 "metadata": {
  "kernelspec": {
   "display_name": "Python 3",
   "language": "python",
   "name": "python3"
  },
  "language_info": {
   "codemirror_mode": {
    "name": "ipython",
    "version": 3
   },
   "file_extension": ".py",
   "mimetype": "text/x-python",
   "name": "python",
   "nbconvert_exporter": "python",
   "pygments_lexer": "ipython3",
   "version": "3.10.6"
  },
  "orig_nbformat": 4
 },
 "nbformat": 4,
 "nbformat_minor": 2
}
