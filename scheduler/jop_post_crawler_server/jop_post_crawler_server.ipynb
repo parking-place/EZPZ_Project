{
 "cells": [
  {
   "cell_type": "code",
   "execution_count": 1,
   "metadata": {},
   "outputs": [],
   "source": [
    "import socket\n",
    "\n",
    "try :\n",
    "    DB_IP = socket.gethostbyname('EZPZ_DB')\n",
    "except:\n",
    "    DB_IP = 'localhost'\n",
    "USER='root'\n",
    "NAME='comp_table'\n",
    "ENGINE= \"django.db.backends.mysql\"\n",
    "DATABASES = {\n",
    "    \"default\": {\n",
    "        \"ENGINE\": ENGINE,\n",
    "        \"NAME\": NAME, #나중에 db이름 고치기 데이터베이스 이름 \n",
    "        \"USER\": USER, \n",
    "        \"PASSWORD\": \"1234\",\n",
    "        \"HOST\": DB_IP,\n",
    "        \"PORT\": \"33306\"\n",
    "    }\n",
    "}"
   ]
  },
  {
   "cell_type": "code",
   "execution_count": 3,
   "metadata": {},
   "outputs": [],
   "source": [
    "import sys\n",
    "sys.path.append('/app/EZPZ_Project/modules/crawlers/job_post')"
   ]
  },
  {
   "cell_type": "code",
   "execution_count": 4,
   "metadata": {},
   "outputs": [],
   "source": [
    "import wanted_recruit_crawler"
   ]
  }
 ],
 "metadata": {
  "kernelspec": {
   "display_name": "Python 3",
   "language": "python",
   "name": "python3"
  },
  "language_info": {
   "codemirror_mode": {
    "name": "ipython",
    "version": 3
   },
   "file_extension": ".py",
   "mimetype": "text/x-python",
   "name": "python",
   "nbconvert_exporter": "python",
   "pygments_lexer": "ipython3",
   "version": "3.10.6"
  },
  "orig_nbformat": 4
 },
 "nbformat": 4,
 "nbformat_minor": 2
}
