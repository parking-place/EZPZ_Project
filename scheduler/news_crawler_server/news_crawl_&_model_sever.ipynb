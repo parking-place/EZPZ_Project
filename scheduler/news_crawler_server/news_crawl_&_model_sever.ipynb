{
 "cells": [
  {
   "cell_type": "code",
   "execution_count": 2,
   "metadata": {},
   "outputs": [
    {
     "data": {
      "text/plain": [
       "'#먼저 간단 poc 해보기 뉴스 돌아가는지와 모델 돌아가는지\\n#다음뉴스 크롤링은 잘됨 경로 오류만 빼면\\n#네이버뉴스는 왜 안될까 3시10분까지 안되면 다음뉴스 그냥 데이터 세이브만  해서 모델 돌려보기 연습해보기 \\n\\nimport sys\\nimport os\\nimport pymysql\\nimport cryptography\\nsys.path.append(\\'/app/EZPZ_Project/modules/crawlers/news\\')\\n#from daum_news_crawler import get_news\\nimport daum_news_crawler\\nimport naver_news_crawler\\nimport news_crawlers\\n\\nimport socket\\n\\ntry :\\n    DB_IP = socket.gethostbyname(\\'EZPZ_DB\\')\\nexcept:\\n    DB_IP = \\'localhost\\'\\nUSER=\\'root\\'\\nNAME=\\'ezpz\\'\\nENGINE= \"django.db.backends.mysql\"\\nDATABASES = {\\n    \"default\": {\\n        \"ENGINE\": ENGINE,\\n        \"NAME\": NAME, #나중에 db이름 고치기 데이터베이스 이름 \\n        \"USER\": USER, \\n        \"PASSWORD\": \"1234\",\\n        \"HOST\": DB_IP,\\n        \"PORT\": \"33306\"\\n    }\\n}\\nconn = pymysql.connect(host=DB_IP, user=USER, password=\\'1234\\',db= NAME ,charset=\\'utf8\\')\\ncur = conn.cursor()\\n\\n\\ndir_path=\\'/app/EZPZ_Project/scheduler/news_crawler_server\\'\\nkeyword=\\'삼성전자\\'\\n\\ndaum_news = daum_news_crawler.get_news(keyword) #다음뉴스 크롤러 실행 확인\\n#naver_news = naver_news_crawler.get_news(\\'SK 하이닉스\\') #네이버 뉴스크롤러 실행이 안되니 천천히 해보기\\n#csv저장로직------------------------\\n#os.makedirs(dir_path) # 디렉토리 생성\\n#daum_news.to_csv(os.path.join(dir_path, f\\'\\\\{keyword}_daum.csv\\'), index=False, encoding=\\'utf-8\\')\\n#-----------------------------------\\n#print(daum_news.head())\\n#print(daum_news.shape)\\nprint(daum_news)\\n\\ncur.execute(\\'desc comp_news\\')\\n'"
      ]
     },
     "execution_count": 2,
     "metadata": {},
     "output_type": "execute_result"
    }
   ],
   "source": [
    "\"\"\"#먼저 간단 poc 해보기 뉴스 돌아가는지와 모델 돌아가는지\n",
    "#다음뉴스 크롤링은 잘됨 경로 오류만 빼면\n",
    "#네이버뉴스는 왜 안될까 3시10분까지 안되면 다음뉴스 그냥 데이터 세이브만  해서 모델 돌려보기 연습해보기 \n",
    "\n",
    "import sys\n",
    "import os\n",
    "import pymysql\n",
    "import cryptography\n",
    "sys.path.append('/app/EZPZ_Project/modules/crawlers/news')\n",
    "#from daum_news_crawler import get_news\n",
    "import daum_news_crawler\n",
    "import naver_news_crawler\n",
    "import news_crawlers\n",
    "\n",
    "import socket\n",
    "\n",
    "try :\n",
    "    DB_IP = socket.gethostbyname('EZPZ_DB')\n",
    "except:\n",
    "    DB_IP = 'localhost'\n",
    "USER='root'\n",
    "NAME='ezpz'\n",
    "ENGINE= \"django.db.backends.mysql\"\n",
    "DATABASES = {\n",
    "    \"default\": {\n",
    "        \"ENGINE\": ENGINE,\n",
    "        \"NAME\": NAME, #나중에 db이름 고치기 데이터베이스 이름 \n",
    "        \"USER\": USER, \n",
    "        \"PASSWORD\": \"1234\",\n",
    "        \"HOST\": DB_IP,\n",
    "        \"PORT\": \"33306\"\n",
    "    }\n",
    "}\n",
    "conn = pymysql.connect(host=DB_IP, user=USER, password='1234',db= NAME ,charset='utf8')\n",
    "cur = conn.cursor()\n",
    "\n",
    "\n",
    "dir_path='/app/EZPZ_Project/scheduler/news_crawler_server'\n",
    "keyword='삼성전자'\n",
    "\n",
    "daum_news = daum_news_crawler.get_news(keyword) #다음뉴스 크롤러 실행 확인\n",
    "#naver_news = naver_news_crawler.get_news('SK 하이닉스') #네이버 뉴스크롤러 실행이 안되니 천천히 해보기\n",
    "#csv저장로직------------------------\n",
    "#os.makedirs(dir_path) # 디렉토리 생성\n",
    "#daum_news.to_csv(os.path.join(dir_path, f'\\\\{keyword}_daum.csv'), index=False, encoding='utf-8')\n",
    "#-----------------------------------\n",
    "#print(daum_news.head())\n",
    "#print(daum_news.shape)\n",
    "print(daum_news)\n",
    "\n",
    "cur.execute('desc comp_news')\n",
    "\"\"\""
   ]
  }
 ],
 "metadata": {
  "kernelspec": {
   "display_name": "Python 3",
   "language": "python",
   "name": "python3"
  },
  "language_info": {
   "codemirror_mode": {
    "name": "ipython",
    "version": 3
   },
   "file_extension": ".py",
   "mimetype": "text/x-python",
   "name": "python",
   "nbconvert_exporter": "python",
   "pygments_lexer": "ipython3",
   "version": "3.10.6"
  },
  "orig_nbformat": 4
 },
 "nbformat": 4,
 "nbformat_minor": 2
}
