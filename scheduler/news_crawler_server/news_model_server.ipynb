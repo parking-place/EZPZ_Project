{
 "cells": [
  {
   "cell_type": "markdown",
   "metadata": {},
   "source": [
    "_________\n",
    "뉴스 요약 및 감정평가 해보기 성공! 내일 리스트로 만들어서 채용공고처럼 넣을 수 있는 꼴로 만들어줘서 넣어보구 모듈화진행"
   ]
  },
  {
   "cell_type": "code",
   "execution_count": 1,
   "metadata": {},
   "outputs": [],
   "source": [
    "import sys\n",
    "\n",
    "sys.path.append('/app/EZPZ_Project/modules/crawlers/news') #뉴스 크롤러\n",
    "sys.path.append('/app/EZPZ_Project/modules/torchmodules') # 토치 모델 뉴슈 요약 및 감정평가 가져오기"
   ]
  },
  {
   "cell_type": "code",
   "execution_count": 2,
   "metadata": {},
   "outputs": [],
   "source": [
    "#from daum_news_crawler import get_news\n",
    "import daum_news_crawler\n",
    "import naver_news_crawler\n",
    "import news_crawlers"
   ]
  },
  {
   "cell_type": "code",
   "execution_count": 6,
   "metadata": {},
   "outputs": [
    {
     "name": "stdout",
     "output_type": "stream",
     "text": [
      "Collecting nltk\n",
      "  Downloading nltk-3.8.1-py3-none-any.whl (1.5 MB)\n",
      "\u001b[2K     \u001b[90m━━━━━━━━━━━━━━━━━━━━━━━━━━━━━━━━━━━━━━━━\u001b[0m \u001b[32m1.5/1.5 MB\u001b[0m \u001b[31m9.1 MB/s\u001b[0m eta \u001b[36m0:00:00\u001b[0m:00:01\u001b[0m00:01\u001b[0m\n",
      "\u001b[?25hCollecting click (from nltk)\n",
      "  Obtaining dependency information for click from https://files.pythonhosted.org/packages/1a/70/e63223f8116931d365993d4a6b7ef653a4d920b41d03de7c59499962821f/click-8.1.6-py3-none-any.whl.metadata\n",
      "  Downloading click-8.1.6-py3-none-any.whl.metadata (3.0 kB)\n",
      "Collecting joblib (from nltk)\n",
      "  Obtaining dependency information for joblib from https://files.pythonhosted.org/packages/10/40/d551139c85db202f1f384ba8bcf96aca2f329440a844f924c8a0040b6d02/joblib-1.3.2-py3-none-any.whl.metadata\n",
      "  Downloading joblib-1.3.2-py3-none-any.whl.metadata (5.4 kB)\n",
      "Requirement already satisfied: regex>=2021.8.3 in /usr/local/lib/python3.10/dist-packages (from nltk) (2023.6.3)\n",
      "Requirement already satisfied: tqdm in /usr/local/lib/python3.10/dist-packages (from nltk) (4.65.0)\n",
      "Downloading click-8.1.6-py3-none-any.whl (97 kB)\n",
      "\u001b[2K   \u001b[90m━━━━━━━━━━━━━━━━━━━━━━━━━━━━━━━━━━━━━━━━\u001b[0m \u001b[32m97.9/97.9 kB\u001b[0m \u001b[31m9.3 MB/s\u001b[0m eta \u001b[36m0:00:00\u001b[0m\n",
      "\u001b[?25hDownloading joblib-1.3.2-py3-none-any.whl (302 kB)\n",
      "\u001b[2K   \u001b[90m━━━━━━━━━━━━━━━━━━━━━━━━━━━━━━━━━━━━━━━━\u001b[0m \u001b[32m302.2/302.2 kB\u001b[0m \u001b[31m9.8 MB/s\u001b[0m eta \u001b[36m0:00:00\u001b[0m\n",
      "\u001b[?25hInstalling collected packages: joblib, click, nltk\n",
      "Successfully installed click-8.1.6 joblib-1.3.2 nltk-3.8.1\n",
      "\u001b[33mWARNING: Running pip as the 'root' user can result in broken permissions and conflicting behaviour with the system package manager. It is recommended to use a virtual environment instead: https://pip.pypa.io/warnings/venv\u001b[0m\u001b[33m\n",
      "\u001b[0m"
     ]
    }
   ],
   "source": [
    "#모델이 필요로 하는라이브러리\n",
    "!pip install nltk\n",
    "pip install sentencepiece"
   ]
  },
  {
   "cell_type": "code",
   "execution_count": 3,
   "metadata": {},
   "outputs": [
    {
     "name": "stderr",
     "output_type": "stream",
     "text": [
      "/usr/local/lib/python3.10/dist-packages/tqdm/auto.py:21: TqdmWarning: IProgress not found. Please update jupyter and ipywidgets. See https://ipywidgets.readthedocs.io/en/stable/user_install.html\n",
      "  from .autonotebook import tqdm as notebook_tqdm\n"
     ]
    }
   ],
   "source": [
    "from service_models import ServiceModels \n",
    "from finbertkr import FinBertKR\n",
    "from mt5sum import MT5Sum\n",
    "from t5basesum import T5BaseSum"
   ]
  },
  {
   "cell_type": "code",
   "execution_count": 8,
   "metadata": {},
   "outputs": [],
   "source": [
    "\"\"\"#뉴스 요약 nltk 설치하기\n",
    "import service_models\n",
    "import mt5sum #뉴스 요약\n",
    "import finbertkr # 뉴스 평가i\n",
    "import t5basesum #리뷰 여기선 안씀\"\"\""
   ]
  },
  {
   "cell_type": "code",
   "execution_count": 4,
   "metadata": {},
   "outputs": [],
   "source": [
    "import pandas as pd"
   ]
  },
  {
   "cell_type": "code",
   "execution_count": 5,
   "metadata": {},
   "outputs": [],
   "source": [
    "df = pd.read_csv('/app/EZPZ_Project/scheduler/news_crawler_server/\\삼성전자_daum.csv', encoding='utf-8')\n",
    "# 뉴스기사 데스크탑에 new_file 폴더에 빼놨음 필요할 때 확인"
   ]
  },
  {
   "cell_type": "code",
   "execution_count": 6,
   "metadata": {},
   "outputs": [
    {
     "data": {
      "text/html": [
       "<div>\n",
       "<style scoped>\n",
       "    .dataframe tbody tr th:only-of-type {\n",
       "        vertical-align: middle;\n",
       "    }\n",
       "\n",
       "    .dataframe tbody tr th {\n",
       "        vertical-align: top;\n",
       "    }\n",
       "\n",
       "    .dataframe thead th {\n",
       "        text-align: right;\n",
       "    }\n",
       "</style>\n",
       "<table border=\"1\" class=\"dataframe\">\n",
       "  <thead>\n",
       "    <tr style=\"text-align: right;\">\n",
       "      <th></th>\n",
       "      <th>news_url</th>\n",
       "      <th>news_cont</th>\n",
       "      <th>pub_date</th>\n",
       "    </tr>\n",
       "  </thead>\n",
       "  <tbody>\n",
       "    <tr>\n",
       "      <th>15</th>\n",
       "      <td>http://v.daum.net/v/20230815030101695</td>\n",
       "      <td>정부는 14일 한덕수 국무총리 주재로 국무회의를 열고 경제인 등 2176명을 15일...</td>\n",
       "      <td>20230815</td>\n",
       "    </tr>\n",
       "    <tr>\n",
       "      <th>16</th>\n",
       "      <td>http://v.daum.net/v/20230814163150766</td>\n",
       "      <td>[이데일리 김인경 기자] ‘하반기부터 반도체 업황도 개선된다더니….’삼성전자 주가 ...</td>\n",
       "      <td>20230814</td>\n",
       "    </tr>\n",
       "    <tr>\n",
       "      <th>17</th>\n",
       "      <td>http://v.daum.net/v/20230814183054183</td>\n",
       "      <td>(서울=연합뉴스) 김아람 기자 = 글로벌 경기침체에 따른 수요 위축 여파로 올해 상...</td>\n",
       "      <td>20230814</td>\n",
       "    </tr>\n",
       "    <tr>\n",
       "      <th>18</th>\n",
       "      <td>http://v.daum.net/v/20230815001329338</td>\n",
       "      <td>국내 주요 기업인 중 올 상반기 보수를 가장 많이 받은 기업인 신동빈 롯데그룹 회장...</td>\n",
       "      <td>20230815</td>\n",
       "    </tr>\n",
       "    <tr>\n",
       "      <th>19</th>\n",
       "      <td>http://v.daum.net/v/20230814174946001</td>\n",
       "      <td>(서울=뉴스1) 김민성 기자 = 삼성전자가 올해 상반기 시설투자에 약 25조원을 쏟...</td>\n",
       "      <td>20230814</td>\n",
       "    </tr>\n",
       "  </tbody>\n",
       "</table>\n",
       "</div>"
      ],
      "text/plain": [
       "                                 news_url  \\\n",
       "15  http://v.daum.net/v/20230815030101695   \n",
       "16  http://v.daum.net/v/20230814163150766   \n",
       "17  http://v.daum.net/v/20230814183054183   \n",
       "18  http://v.daum.net/v/20230815001329338   \n",
       "19  http://v.daum.net/v/20230814174946001   \n",
       "\n",
       "                                            news_cont  pub_date  \n",
       "15  정부는 14일 한덕수 국무총리 주재로 국무회의를 열고 경제인 등 2176명을 15일...  20230815  \n",
       "16  [이데일리 김인경 기자] ‘하반기부터 반도체 업황도 개선된다더니….’삼성전자 주가 ...  20230814  \n",
       "17  (서울=연합뉴스) 김아람 기자 = 글로벌 경기침체에 따른 수요 위축 여파로 올해 상...  20230814  \n",
       "18  국내 주요 기업인 중 올 상반기 보수를 가장 많이 받은 기업인 신동빈 롯데그룹 회장...  20230815  \n",
       "19  (서울=뉴스1) 김민성 기자 = 삼성전자가 올해 상반기 시설투자에 약 25조원을 쏟...  20230814  "
      ]
     },
     "execution_count": 6,
     "metadata": {},
     "output_type": "execute_result"
    }
   ],
   "source": [
    "df.tail() #뉴스 기사 잘 받았나 확인"
   ]
  },
  {
   "cell_type": "code",
   "execution_count": 7,
   "metadata": {},
   "outputs": [
    {
     "data": {
      "text/plain": [
       "'이차전지에 집중 투자했던 개인 투자자가 이달부터는 삼성전자를 쓸어 담는 ‘큰 손’으로 돌아왔다. 올해 국내 증시는 개인 투자자의 수급으로 주도 섹터가 결정된 만큼 시장 안팎에서는 개인 투자자의 수급 방향에 주목하고 있다.14일 한국거래소에 따르면 이달 들어(1~11일) 개인 투자자 순매수 상위 1위 종목은 삼성전자인 것으로 집계됐다. 개인 투자자는 이 기간 삼성전자 주식 6900억원어치를 순매수했다. 포스코홀딩스가 5875억원 규모 순매수로 그 뒤를 이었다. 기아(3위, 2895억원)와 LG전자(6위, 1575억원) 네이버(10위, 1500억원) 등도 이름을 올리며 이차전지 관련 종목 일색이었던 순매수 상위 종목이 다양해졌다. 개인 투자자의 적극적인 매수로 주가가 올해만 933.64%나 오른 에코프로(12위, 1283억원)은 10위권 밖으로 밀려났다.코로나19 팬데믹 시절 ‘국민주’로 불렸던 삼성전자는 올해 들어 개인 투자자가 가장 많이 팔아 치운 종목이다. 개인 투자자는 올해 들어 7월까지 총 10조5818억원 규모의 삼성전자 주식을 순매도했다. 하지만 이달 들어서는 외국인(701억원)과 기관(-8090억원)을 제치고 삼성전자를 가장 많이 사들인 수급 주체가 됐다.최근 들어 이차전지 관련주 주가 상승세가 주춤한 데다, 하반기 반도체 업황이 개선될 것이라는 전망이 나온 데 따른 것으로 분석된다. 증권가에서는 이달 들어 삼성전자 목표가를 9만~9만5000원을 제시하며 하반기부터 실적이 개선될 것이라는 전망을 하고 있다.가장 최근 관련 보고서를 낸 박유악 키움증권 연구원은 삼성전자 3분기 매출액이 전 분기 대비 11% 상승한 66조9000억원, 영업이익은 지난 2분기보다 653% 늘어난 5조원을 각각 기록할 것으로 봤다. 박 연구원은 “반도체 디램(DRAM)에서 영업이익이 흑자로 전환될 것”이라며 “HBM(고대역폭메모리) 등 기술 경쟁력도 재부각돼 하반기 주가 강세가 예상된다”고 말했다. HBM은 디램을 수직으로 연결해 데이터 처리 속도를 높인 차세대 디램 제품이다. 챗(Chat) GPT 등 생성형 인공지능(AI) 서비스가 확산하면서 주목받고 있다.에코프로의 매수세도 쉽게 사라지지는 않을 것이라는 분석도 나온다. 지난 11일 에코프로가 모건스탠리캐피털인터내셔널(MSCI) 한국 지수에 포함되면서다. 미국 투자은행(IB) 모건스탠리가 발표하는 MSCI 지수에 편입되면 해당 지수를 추종하는 파생상품의 자금 유입을 기대해 볼 수 있다. 유진투자증권은 에코프로가 MSCI 편입 효과로 약 1조2790억원의 자금이 유입될 것으로 전망했다.다만 신중론도 있다. MSCI에 편입될 것을 예측하고 사전에 사들이는 등 매매가 활성화되면서 MSCI 편입 이후 예상대로 수급이 들어오지 않은 사례도 있어서다. 관련해 김동영 삼성증권 연구원은 “MSCI 추종 자금은 액티브 펀드들도 다수 있다”며 “주가 과열로 인해 종목 매수 규모를 줄였을 가능성도 있다”고 설명했다.이광수 김혜지 기자 gs@kmib.co.krGoodNews paper ⓒ 국민일보(www.kmib.co.kr), 무단전재 및 수집, 재배포금지'"
      ]
     },
     "execution_count": 7,
     "metadata": {},
     "output_type": "execute_result"
    }
   ],
   "source": [
    "one_data=df['news_cont'][0]\n",
    "one_data #나중에 이걸 반복문 돌려서 각각 데이터 얻은것들 채용공고 uid 붙여주듯이 데이터 테이블에 추가해주면 됨 오케이?\n"
   ]
  },
  {
   "cell_type": "code",
   "execution_count": 8,
   "metadata": {},
   "outputs": [
    {
     "name": "stderr",
     "output_type": "stream",
     "text": [
      "Downloading spiece.model: 100%|██████████| 4.31M/4.31M [00:01<00:00, 3.13MB/s]\n",
      "Downloading (…)cial_tokens_map.json: 100%|██████████| 65.0/65.0 [00:00<00:00, 230kB/s]\n",
      "You are using the legacy behaviour of the <class 'transformers.models.t5.tokenization_t5.T5Tokenizer'>. This means that tokens that come after special tokens will not be properly handled. We recommend you to read the related pull request available at https://github.com/huggingface/transformers/pull/24565\n",
      "Downloading pytorch_model.bin: 100%|██████████| 2.33G/2.33G [03:10<00:00, 12.2MB/s]\n",
      "Downloading (…)okenizer_config.json: 100%|██████████| 372/372 [00:00<00:00, 825kB/s]\n",
      "Downloading (…)solve/main/vocab.txt: 100%|██████████| 143k/143k [00:00<00:00, 404kB/s]\n",
      "Downloading (…)/main/tokenizer.json: 100%|██████████| 294k/294k [00:00<00:00, 1.71MB/s]\n",
      "Downloading (…)cial_tokens_map.json: 100%|██████████| 112/112 [00:00<00:00, 605kB/s]\n",
      "Downloading (…)lve/main/config.json: 100%|██████████| 881/881 [00:00<00:00, 3.42MB/s]\n",
      "Downloading pytorch_model.bin: 100%|██████████| 406M/406M [00:34<00:00, 11.7MB/s] \n",
      "[nltk_data] Downloading package punkt to /root/nltk_data...\n",
      "[nltk_data]   Unzipping tokenizers/punkt.zip.\n",
      "Downloading (…)lve/main/config.json: 100%|██████████| 780/780 [00:00<00:00, 3.32MB/s]\n",
      "Downloading model.safetensors: 100%|██████████| 383M/383M [00:31<00:00, 12.2MB/s] \n",
      "Downloading (…)okenizer_config.json: 100%|██████████| 2.41k/2.41k [00:00<00:00, 11.0MB/s]\n",
      "Downloading (…)/main/tokenizer.json: 100%|██████████| 2.92M/2.92M [00:01<00:00, 2.69MB/s]\n",
      "Downloading (…)cial_tokens_map.json: 100%|██████████| 2.20k/2.20k [00:00<00:00, 5.06MB/s]\n"
     ]
    }
   ],
   "source": [
    "one_data_check= ServiceModels() #모델 서빙 모듈 객체"
   ]
  },
  {
   "cell_type": "code",
   "execution_count": 11,
   "metadata": {},
   "outputs": [],
   "source": [
    "one_sum=one_data_check.get_summary(one_data, 'news') #뉴스 요약 된다!!!"
   ]
  },
  {
   "cell_type": "code",
   "execution_count": 13,
   "metadata": {},
   "outputs": [
    {
     "data": {
      "text/plain": [
       "'신종 코로나바이러스 감염증(코رونا) 팬데믹 시절 ‘국민주’로 불렸던 삼성전자가 이달부터 “큰 손”으로 돌아왔다.'"
      ]
     },
     "execution_count": 13,
     "metadata": {},
     "output_type": "execute_result"
    }
   ],
   "source": [
    "one_sum"
   ]
  },
  {
   "cell_type": "code",
   "execution_count": 12,
   "metadata": {},
   "outputs": [
    {
     "data": {
      "text/plain": [
       "'neutral'"
      ]
     },
     "execution_count": 12,
     "metadata": {},
     "output_type": "execute_result"
    }
   ],
   "source": [
    "one_data_check.get_sentiment(one_sum) #무조건 뉴스 요약 후에 그 요약데이터를 감정에 넣어야 결과나옴"
   ]
  },
  {
   "cell_type": "code",
   "execution_count": null,
   "metadata": {},
   "outputs": [],
   "source": []
  },
  {
   "cell_type": "code",
   "execution_count": null,
   "metadata": {},
   "outputs": [],
   "source": []
  }
 ],
 "metadata": {
  "kernelspec": {
   "display_name": "Python 3",
   "language": "python",
   "name": "python3"
  },
  "language_info": {
   "codemirror_mode": {
    "name": "ipython",
    "version": 3
   },
   "file_extension": ".py",
   "mimetype": "text/x-python",
   "name": "python",
   "nbconvert_exporter": "python",
   "pygments_lexer": "ipython3",
   "version": "3.10.6"
  },
  "orig_nbformat": 4
 },
 "nbformat": 4,
 "nbformat_minor": 2
}
