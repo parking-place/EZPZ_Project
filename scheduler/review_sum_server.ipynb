{
 "cells": [
  {
   "cell_type": "code",
   "execution_count": null,
   "metadata": {},
   "outputs": [],
   "source": [
    "#리뷰 요약테이블 저장 공간 \n",
    "\"\"\"\n",
    "반환값 : 없음 그냥 호출되면 리뷰 요약 테이블에 db저장하고 끝\n",
    "\"\"\"\n",
    "def review_sum_server(comp_uid,sum):\n",
    "    pass"
   ]
  }
 ],
 "metadata": {
  "language_info": {
   "name": "python"
  },
  "orig_nbformat": 4
 },
 "nbformat": 4,
 "nbformat_minor": 2
}
