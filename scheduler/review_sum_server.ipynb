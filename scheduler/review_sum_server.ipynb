{
 "cells": [
  {
   "cell_type": "code",
   "execution_count": null,
   "metadata": {},
   "outputs": [],
   "source": [
    "#리뷰 요약테이블 저장 공간\n",
    "\"\"\"\n",
    "반환값 : 없음 그냥 호출되면 리뷰 요약 테이블에 db저장하고 끝\n",
    "\"\"\"\n",
    "def review_sum_server(comp_uid,sum):\n",
    "    pass"
   ]
  },
  {
   "cell_type": "code",
   "execution_count": 1,
   "metadata": {},
   "outputs": [],
   "source": [
    "import sys\n",
    "sys.path.append('/app/EZPZ_Project/modules/torchmodules') \n",
    "import tokenizer as tk"
   ]
  },
  {
   "cell_type": "code",
   "execution_count": 2,
   "metadata": {},
   "outputs": [],
   "source": [
    "sents = ['안녕하세요 제 이름은 김동현이라고 합니다, 저는 플레이데이터 수강중입니다.', '안녕! 나는 김동현이야. 나는 플레이데이터 수강중이야.']\n",
    "tk.get_keyword_nng(sents, 'review')"
   ]
  },
  {
   "cell_type": "code",
   "execution_count": null,
   "metadata": {},
   "outputs": [],
   "source": []
  }
 ],
 "metadata": {
  "kernelspec": {
   "display_name": "Python 3",
   "language": "python",
   "name": "python3"
  },
  "language_info": {
   "codemirror_mode": {
    "name": "ipython",
    "version": 3
   },
   "file_extension": ".py",
   "mimetype": "text/x-python",
   "name": "python",
   "nbconvert_exporter": "python",
   "pygments_lexer": "ipython3",
   "version": "3.10.12"
  },
  "orig_nbformat": 4
 },
 "nbformat": 4,
 "nbformat_minor": 2
}
