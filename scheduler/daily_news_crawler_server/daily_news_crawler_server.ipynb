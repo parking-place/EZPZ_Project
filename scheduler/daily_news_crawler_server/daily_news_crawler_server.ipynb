{
 "cells": [
  {
   "cell_type": "code",
   "execution_count": 2,
   "metadata": {},
   "outputs": [],
   "source": [
    "import socket\n",
    "import pymysql\n",
    "try :\n",
    "    DB_IP = socket.gethostbyname('EZPZ_DB')\n",
    "except:\n",
    "    DB_IP = 'localhost'\n",
    "USER='root'\n",
    "NAME='ezpz'\n",
    "ENGINE= \"django.db.backends.mysql\"\n",
    "DATABASES = {\n",
    "    \"default\": {\n",
    "        \"ENGINE\": ENGINE,\n",
    "        \"NAME\": NAME, #나중에 db이름 고치기 데이터베이스 이름 \n",
    "        \"USER\": USER, \n",
    "        \"PASSWORD\": \"1234\",\n",
    "        \"HOST\": DB_IP,\n",
    "        \"PORT\": \"33306\"\n",
    "    }\n",
    "}\n",
    "\n",
    "\n",
    "conn = pymysql.connect(host=DB_IP, user=USER, password='1234',db= NAME ,charset='utf8')\n",
    "cur = conn.cursor()"
   ]
  },
  {
   "cell_type": "code",
   "execution_count": 5,
   "metadata": {},
   "outputs": [
    {
     "data": {
      "text/plain": [
       "0"
      ]
     },
     "execution_count": 5,
     "metadata": {},
     "output_type": "execute_result"
    }
   ],
   "source": [
    "cur.execute('delete from comp_news')"
   ]
  },
  {
   "cell_type": "code",
   "execution_count": 6,
   "metadata": {},
   "outputs": [],
   "source": [
    "conn.commit()"
   ]
  }
 ],
 "metadata": {
  "kernelspec": {
   "display_name": "Python 3",
   "language": "python",
   "name": "python3"
  },
  "language_info": {
   "codemirror_mode": {
    "name": "ipython",
    "version": 3
   },
   "file_extension": ".py",
   "mimetype": "text/x-python",
   "name": "python",
   "nbconvert_exporter": "python",
   "pygments_lexer": "ipython3",
   "version": "3.10.6"
  },
  "orig_nbformat": 4
 },
 "nbformat": 4,
 "nbformat_minor": 2
}
