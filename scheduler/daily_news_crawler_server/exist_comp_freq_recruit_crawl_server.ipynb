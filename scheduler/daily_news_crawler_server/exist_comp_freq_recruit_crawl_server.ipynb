{
 "cells": [
  {
   "cell_type": "code",
   "execution_count": 1,
   "metadata": {},
   "outputs": [],
   "source": [
    "import sys\n",
    "import os\n",
    "import pandas as pd\n",
    "\n",
    "import socket\n",
    "import cryptography\n",
    "\n",
    "\n",
    "sys.path.append('/app/EZPZ_Project') #db 연동정보 경로\n",
    "sys.path.append('/app/EZPZ_Project/modules/crawlers/job_post') # 채용공고 경로\n",
    "\n",
    "from privates.ezpz_db import *"
   ]
  },
  {
   "cell_type": "code",
   "execution_count": 7,
   "metadata": {},
   "outputs": [],
   "source": [
    "import wanted_recruit_crawler"
   ]
  },
  {
   "cell_type": "code",
   "execution_count": 2,
   "metadata": {},
   "outputs": [],
   "source": [
    "conn = get_connection('test')\n",
    "cur = conn.cursor()"
   ]
  },
  {
   "cell_type": "code",
   "execution_count": 3,
   "metadata": {},
   "outputs": [],
   "source": [
    "comp_list=['삼성전자(주)','(주)카카오','네이버(주)']"
   ]
  },
  {
   "cell_type": "code",
   "execution_count": 5,
   "metadata": {},
   "outputs": [
    {
     "name": "stdout",
     "output_type": "stream",
     "text": [
      "('recruit_uid', 'bigint', 'NO', 'PRI', None, 'auto_increment')\n",
      "('comp_uid', 'bigint', 'NO', 'MUL', None, '')\n",
      "('recruit_url', 'varchar(2000)', 'NO', '', None, '')\n",
      "('recruit_position', 'varchar(100)', 'NO', '', None, '')\n",
      "('recruit_thumb', 'varchar(2000)', 'YES', '', None, '')\n",
      "('create_date', 'char(8)', 'NO', '', None, '')\n",
      "('modify_date', 'char(8)', 'NO', '', None, '')\n"
     ]
    }
   ],
   "source": [
    "cur.execute('desc recruit_info') #여기가 있어야지 news_crawl이 됨\n",
    "for i in cur:\n",
    "    print(i)"
   ]
  },
  {
   "cell_type": "code",
   "execution_count": null,
   "metadata": {},
   "outputs": [],
   "source": []
  },
  {
   "cell_type": "code",
   "execution_count": null,
   "metadata": {},
   "outputs": [],
   "source": []
  },
  {
   "cell_type": "code",
   "execution_count": null,
   "metadata": {},
   "outputs": [],
   "source": [
    "#주기적으로 기존 기업인데 업데이트잖아 그러니까 comp_list 입력받겠지 그럼 걔네들 싹다 크롤링해야돼\n",
    "#그 다음에 그 크롤링 정보들이랑 recruit_info db에 있는 uid랑 비교해서  있는거면 skip 새거면 insert \n",
    "#db에 있는데 크롤링데이터에 없으면 채용공고 없어진거니까 delete"
   ]
  },
  {
   "cell_type": "code",
   "execution_count": 38,
   "metadata": {},
   "outputs": [
    {
     "name": "stdout",
     "output_type": "stream",
     "text": [
      "(39622, 66, 'https://www.wanted.co.kr/wd/39622', '카카오/네이버 연계 시스템 서버 개발자', 'https://static.wanted.co.kr/images/company/3342/nmshwilloxvcqlxq__1080_790.png', '00000000', '00000000')\n",
      "(113928, 65, 'https://www.wanted.co.kr/wd/113928', '카카오톡 브랜드 채널 및 DA광고 운영 마케터', 'https://static.wanted.co.kr/images/company/32670/h13ppbvw4p4xkjf3__1080_790.jpeg', '00000000', '00000000')\n",
      "(168498, 65, 'https://www.wanted.co.kr/wd/168498', '클라우드 엔지니어', 'https://static.wanted.co.kr/images/company/593/17824_2_0.__1080_790.jpg', '00000000', '00000000')\n",
      "(169809, 66, 'https://www.wanted.co.kr/wd/169809', '네트워크 엔지니어 (춘천 네이버IDC 상주)', 'https://static.wanted.co.kr/images/company/7445/ok0cshlw5inuetto__1080_790.jpg', '00000000', '00000000')\n",
      "(171755, 65, 'https://www.wanted.co.kr/wd/171755', 'DevOps 엔지니어', 'https://static.wanted.co.kr/images/company/593/17824_2_0.__1080_790.jpg', '00000000', '00000000')\n",
      "(171904, 65, 'https://www.wanted.co.kr/wd/171904', '[카카오헤어샵] 백엔드 개발자 (미들-시니어)', 'https://static.wanted.co.kr/images/company/2671/txrozr2bl2gyymzy__1080_790.jpg', '00000000', '00000000')\n",
      "(172031, 65, 'https://www.wanted.co.kr/wd/172031', '[카카오헤어샵] 프로모션 마케터 (미들-시니어)', 'https://static.wanted.co.kr/images/company/2671/txrozr2bl2gyymzy__1080_790.jpg', '00000000', '00000000')\n",
      "(172557, 65, 'https://www.wanted.co.kr/wd/172557', '정보유출 모니터링 감사', 'https://static.wanted.co.kr/images/company/35182/iyclcdzaahw1inyj__1080_790.jpg', '00000000', '00000000')\n",
      "(173071, 65, 'https://www.wanted.co.kr/wd/173071', '[카카오헤어샵] 안드로이드 개발자 (미들-시니어)', 'https://static.wanted.co.kr/images/company/2671/txrozr2bl2gyymzy__1080_790.jpg', '00000000', '00000000')\n",
      "(173839, 66, 'https://www.wanted.co.kr/wd/173839', '네이버클라우드 SA', 'https://static.wanted.co.kr/images/company/23357/pdbfmrjv28x6wqtf__1080_790.jpg', '00000000', '00000000')\n",
      "(174452, 65, 'https://www.wanted.co.kr/wd/174452', '일본 사업개발 담당자', 'https://static.wanted.co.kr/images/company/35182/iyclcdzaahw1inyj__1080_790.jpg', '00000000', '00000000')\n",
      "(174460, 65, 'https://www.wanted.co.kr/wd/174460', '헬스케어 데이터 엔지니어', 'https://static.wanted.co.kr/images/company/35182/iyclcdzaahw1inyj__1080_790.jpg', '00000000', '00000000')\n",
      "(174497, 65, 'https://www.wanted.co.kr/wd/174497', '세무 업무 담당자', 'https://static.wanted.co.kr/images/company/593/17824_2_0.__1080_790.jpg', '00000000', '00000000')\n",
      "(174746, 65, 'https://www.wanted.co.kr/wd/174746', '헬스케어 데이터 사이언티스트', 'https://static.wanted.co.kr/images/company/35182/iyclcdzaahw1inyj__1080_790.jpg', '00000000', '00000000')\n",
      "(174812, 65, 'https://www.wanted.co.kr/wd/174812', '헬스케어 모바일 서비스 기획자 (1년 계약직)', 'https://static.wanted.co.kr/images/company/35182/iyclcdzaahw1inyj__1080_790.jpg', '00000000', '00000000')\n"
     ]
    }
   ],
   "source": [
    "cur.execute('select * from recruit_info') #여기가 있어야지 news_crawl이 됨\n",
    "for i in cur:\n",
    "    print(i)"
   ]
  },
  {
   "cell_type": "code",
   "execution_count": 8,
   "metadata": {},
   "outputs": [
    {
     "name": "stdout",
     "output_type": "stream",
     "text": [
      "삼성전자\n",
      "카카오\n",
      "네이버\n"
     ]
    }
   ],
   "source": [
    "#def recruit_info_crawl_save(comp_list):\n",
    "for comp in comp_list:\n",
    "    #채용공고는 주 붙어있으면 안됨 제거 전처리\n",
    "    recruit_comp = comp.replace('(주)',\"\")\n",
    "    print(recruit_comp)\n",
    "\n",
    "    recruit_info_df=wanted_recruit_crawler.get_recruit_info(recruit_comp, csv_save=False) # 원티드 기업정보 크롤러 모듈\n",
    "    new_i=[] #집합인 uid를 int로 바꿔준 값을 넣어준 리스트/ 테이블에 넣기위한 전처리 (비교하려면 먼저 전처리부터)\n",
    "    for i in range(len(recruit_info_df['recruit_uid'])):\n",
    "        new_i.append(list(recruit_info_df['recruit_uid'][i])[0])\n",
    "    recruit_info_df['recruit_uid']=new_i #int 값으로 컬럼 대체\n",
    "    recruit_info_df\n",
    "\n",
    "    \n",
    "    ####\n",
    "    #비교해주는 쿼리문 기존 테이블 데이터가 있을거란 말이지 #1. 테이블에recruit_uid와 크롤링한 recruit_info_df['recruit_uid'] 이 친구와\n",
    "    # uid에는 있고 df에는 없으면 없어진거니 삭제 delete \n",
    "    if recruit_info_df['recruit_uid']\n",
    "    for crawl_uid in recruit_info_df['recrui']\n",
    "    cur.execute('delete from recruit_info where recruit_uid NOT IN ('uid1', 'uid2', 'uid3', ...)')\n",
    "    ####\n"
   ]
  },
  {
   "cell_type": "code",
   "execution_count": 65,
   "metadata": {},
   "outputs": [
    {
     "data": {
      "text/plain": [
       "15"
      ]
     },
     "execution_count": 65,
     "metadata": {},
     "output_type": "execute_result"
    }
   ],
   "source": [
    "#fetch로 recruit_uid 리스트를 뽑은뒤 여기서 나온 uid와 채용공고 df를 비교해서 차집합으로 걔네들 빼와서 리스트 만들기\n",
    "cur.execute('select recruit_uid from recruit_info')"
   ]
  },
  {
   "cell_type": "code",
   "execution_count": 55,
   "metadata": {},
   "outputs": [
    {
     "ename": "IndexError",
     "evalue": "tuple index out of range",
     "output_type": "error",
     "traceback": [
      "\u001b[0;31m---------------------------------------------------------------------------\u001b[0m",
      "\u001b[0;31mIndexError\u001b[0m                                Traceback (most recent call last)",
      "Cell \u001b[0;32mIn[55], line 3\u001b[0m\n\u001b[1;32m      1\u001b[0m recruit_uid_list\u001b[39m=\u001b[39m[]\n\u001b[1;32m      2\u001b[0m \u001b[39mfor\u001b[39;00m i \u001b[39min\u001b[39;00m \u001b[39mrange\u001b[39m(\u001b[39mlen\u001b[39m(cur\u001b[39m.\u001b[39mfetchall())\u001b[39m-\u001b[39m\u001b[39m1\u001b[39m):\n\u001b[0;32m----> 3\u001b[0m     temp\u001b[39m=\u001b[39mcur\u001b[39m.\u001b[39;49mfetchall()[i][\u001b[39m0\u001b[39m] \u001b[39m#첫번째가 i야\u001b[39;00m\n\u001b[1;32m      4\u001b[0m     \u001b[39mprint\u001b[39m(temp)\n\u001b[1;32m      5\u001b[0m     recruit_uid_list\u001b[39m.\u001b[39mappend(temp)\n",
      "\u001b[0;31mIndexError\u001b[0m: tuple index out of range"
     ]
    }
   ],
   "source": [
    "\n",
    "recruit_uid_list=[]\n",
    "for i in range(len(cur.fetchall())-1):\n",
    "    temp=cur.fetchall()[i][0] #첫번째가 i야\n",
    "    print(temp)\n",
    "    recruit_uid_list.append(temp)\n",
    "recruit_uid_list    "
   ]
  },
  {
   "cell_type": "code",
   "execution_count": 14,
   "metadata": {},
   "outputs": [
    {
     "data": {
      "text/plain": [
       "0    169809\n",
       "1    173839\n",
       "2     39622\n",
       "Name: recruit_uid, dtype: int64"
      ]
     },
     "execution_count": 14,
     "metadata": {},
     "output_type": "execute_result"
    }
   ],
   "source": [
    "recruit_info_df['recruit_uid']"
   ]
  },
  {
   "cell_type": "code",
   "execution_count": 13,
   "metadata": {},
   "outputs": [
    {
     "name": "stdout",
     "output_type": "stream",
     "text": [
      "169809\n",
      "173839\n",
      "39622\n"
     ]
    }
   ],
   "source": [
    "for i in recruit_info_df['recruit_uid']:\n",
    "    print(i)"
   ]
  },
  {
   "cell_type": "code",
   "execution_count": null,
   "metadata": {},
   "outputs": [],
   "source": [
    "\n"
   ]
  },
  {
   "cell_type": "code",
   "execution_count": null,
   "metadata": {},
   "outputs": [],
   "source": [
    "\n",
    "cur.execute(f'select comp_uid from comp_info where comp_name = \"{comp}\"') \n",
    "comp_uid=cur.fetchall()[0][0]\n",
    "print(comp_uid)\n",
    "for index, row in recruit_info_df.iterrows():\n",
    "    sql = 'insert into recruit_info '\n",
    "    sql += '    (comp_uid, recruit_uid, recruit_url, recruit_position, recruit_thumb, create_date, modify_date) '\n",
    "    sql += 'values ( '\n",
    "    sql += f'   \"{comp_uid}\", \"{row[\"recruit_uid\"]}\", \"{row[\"recruit_url\"]}\", \"{row[\"recruit_position\"]}\", \"{row[\"recruit_thumb\"]}\" '\n",
    "    sql += f'    , \"{\"00000000\"}\", \"{\"00000000\"}\" '\n",
    "    sql += ') '\n",
    "    cur.execute(sql)\n",
    "        for i in cur:\n",
    "            print(i)    \n"
   ]
  },
  {
   "cell_type": "code",
   "execution_count": null,
   "metadata": {},
   "outputs": [],
   "source": []
  },
  {
   "cell_type": "code",
   "execution_count": null,
   "metadata": {},
   "outputs": [],
   "source": []
  }
 ],
 "metadata": {
  "kernelspec": {
   "display_name": "Python 3",
   "language": "python",
   "name": "python3"
  },
  "language_info": {
   "codemirror_mode": {
    "name": "ipython",
    "version": 3
   },
   "file_extension": ".py",
   "mimetype": "text/x-python",
   "name": "python",
   "nbconvert_exporter": "python",
   "pygments_lexer": "ipython3",
   "version": "3.10.6"
  },
  "orig_nbformat": 4
 },
 "nbformat": 4,
 "nbformat_minor": 2
}
