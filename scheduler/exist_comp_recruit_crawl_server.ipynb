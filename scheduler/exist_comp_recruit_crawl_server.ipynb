{
 "cells": [
  {
   "cell_type": "code",
   "execution_count": 26,
   "metadata": {},
   "outputs": [],
   "source": [
    "import sys\n",
    "import os\n",
    "import pandas as pd\n",
    "\n",
    "import socket\n",
    "import cryptography\n",
    "\n",
    "\n",
    "sys.path.append('/app/EZPZ_Project') #db 연동정보 경로\n",
    "sys.path.append('/app/EZPZ_Project/modules/crawlers/job_post') # 채용공고 경로\n",
    "\n",
    "from privates.ezpz_db import *"
   ]
  },
  {
   "cell_type": "code",
   "execution_count": 27,
   "metadata": {},
   "outputs": [],
   "source": [
    "import wanted_recruit_crawler"
   ]
  },
  {
   "cell_type": "code",
   "execution_count": 145,
   "metadata": {},
   "outputs": [],
   "source": [
    "conn = get_connection()\n",
    "cur = conn.cursor()"
   ]
  },
  {
   "cell_type": "code",
   "execution_count": null,
   "metadata": {},
   "outputs": [],
   "source": [
    "cur.execute('delete from recruit_info')\n",
    "cur.execute('delete from comp_news')"
   ]
  },
  {
   "cell_type": "code",
   "execution_count": 34,
   "metadata": {},
   "outputs": [],
   "source": [
    "comp_list=['삼성전자(주)','(주)카카오','네이버(주)']"
   ]
  },
  {
   "cell_type": "code",
   "execution_count": 35,
   "metadata": {},
   "outputs": [
    {
     "name": "stdout",
     "output_type": "stream",
     "text": [
      "('recruit_uid', 'bigint', 'NO', 'PRI', None, 'auto_increment')\n",
      "('comp_uid', 'bigint', 'NO', 'MUL', None, '')\n",
      "('recruit_url', 'varchar(2000)', 'NO', '', None, '')\n",
      "('recruit_position', 'varchar(100)', 'NO', '', None, '')\n",
      "('recruit_thumb', 'varchar(2000)', 'YES', '', None, '')\n",
      "('create_date', 'char(8)', 'NO', '', None, '')\n",
      "('modify_date', 'char(8)', 'NO', '', None, '')\n"
     ]
    }
   ],
   "source": [
    "cur.execute('desc recruit_info') #여기가 있어야지 news_crawl이 됨\n",
    "for i in cur:\n",
    "    print(i)"
   ]
  },
  {
   "cell_type": "code",
   "execution_count": 36,
   "metadata": {},
   "outputs": [
    {
     "name": "stdout",
     "output_type": "stream",
     "text": [
      "(149197, 85, 'https://www.wanted.co.kr/wd/149197', 'Inference Engine Engineer', 'https://static.wanted.co.kr/images/company/22504/u2ryao0fwotejf3h__1080_790.jpg', '00000000', '00000000')\n",
      "(151828, 85, 'https://www.wanted.co.kr/wd/151828', 'Applied AI/ML Engineer', 'https://static.wanted.co.kr/images/company/22504/u2ryao0fwotejf3h__1080_790.jpg', '00000000', '00000000')\n",
      "(156751, 85, 'https://www.wanted.co.kr/wd/156751', 'Biology AI Researcher', 'https://static.wanted.co.kr/images/company/22504/u2ryao0fwotejf3h__1080_790.jpg', '00000000', '00000000')\n",
      "(159350, 85, 'https://www.wanted.co.kr/wd/159350', 'Backend Engineer(AI Image Service)', 'https://static.wanted.co.kr/images/company/22504/u2ryao0fwotejf3h__1080_790.jpg', '00000000', '00000000')\n",
      "(171904, 85, 'https://www.wanted.co.kr/wd/171904', '[카카오헤어샵] 백엔드 개발자 (미들-시니어)', 'https://static.wanted.co.kr/images/company/2671/txrozr2bl2gyymzy__1080_790.jpg', '00000000', '00000000')\n",
      "(172569, 85, 'https://www.wanted.co.kr/wd/172569', 'iOS개발자', 'https://static.wanted.co.kr/images/company/35182/iyclcdzaahw1inyj__1080_790.jpg', '00000000', '00000000')\n",
      "(173071, 85, 'https://www.wanted.co.kr/wd/173071', '[카카오헤어샵] 안드로이드 개발자 (미들-시니어)', 'https://static.wanted.co.kr/images/company/2671/txrozr2bl2gyymzy__1080_790.jpg', '00000000', '00000000')\n",
      "(173529, 85, 'https://www.wanted.co.kr/wd/173529', '스크린앱개발팀 앱 개발 및 관리 팀장', 'https://static.wanted.co.kr/images/company/3689/vqj9kejasvm6o0os__1080_790.jpg', '00000000', '00000000')\n",
      "(174324, 85, 'https://www.wanted.co.kr/wd/174324', 'Business Operations 담당 (Infra & Platform)', 'https://static.wanted.co.kr/images/company/22504/u2ryao0fwotejf3h__1080_790.jpg', '00000000', '00000000')\n",
      "(174495, 85, 'https://www.wanted.co.kr/wd/174495', 'Business Development 담당 (Entertainment)', 'https://static.wanted.co.kr/images/company/22504/u2ryao0fwotejf3h__1080_790.jpg', '00000000', '00000000')\n",
      "(174812, 85, 'https://www.wanted.co.kr/wd/174812', '헬스케어 모바일 서비스 기획자 (1년 계약직)', 'https://static.wanted.co.kr/images/company/35182/iyclcdzaahw1inyj__1080_790.jpg', '00000000', '00000000')\n",
      "(175906, 85, 'https://www.wanted.co.kr/wd/175906', '국내/해외 주식 업무기획 PM', 'https://static.wanted.co.kr/images/company/20947/izyvwevuqdjqkvwu__1080_790.png', '00000000', '00000000')\n",
      "(39622, 86, 'https://www.wanted.co.kr/wd/39622', '카카오/네이버 연계 시스템 서버 개발자', 'https://static.wanted.co.kr/images/company/3342/nmshwilloxvcqlxq__1080_790.png', '00000000', '00000000')\n",
      "(169809, 86, 'https://www.wanted.co.kr/wd/169809', '네트워크 엔지니어 (춘천 네이버IDC 상주)', 'https://static.wanted.co.kr/images/company/7445/ok0cshlw5inuetto__1080_790.jpg', '00000000', '00000000')\n",
      "(173839, 86, 'https://www.wanted.co.kr/wd/173839', '네이버클라우드 SA', 'https://static.wanted.co.kr/images/company/23357/pdbfmrjv28x6wqtf__1080_790.jpg', '00000000', '00000000')\n"
     ]
    }
   ],
   "source": [
    "cur.execute('select * from recruit_info order by comp_uid') #여기가 있어야지 news_crawl이 됨\n",
    "for i in cur:\n",
    "    print(i)"
   ]
  },
  {
   "cell_type": "code",
   "execution_count": null,
   "metadata": {},
   "outputs": [],
   "source": [
    "\"\"\"1.회사리스트를 받는다\n",
    "2.채용공고에서 (주)를 뺀다\n",
    "3.채용공고 크롤링해서 df받아옴\n",
    "4.df에서 uid만 리스트로 따로 꺼내옴\n",
    "크롤링하면 채용공고 5개를 받겠지 (카카오 다 다른 채용공고 uid겠지)\n",
    "원래 테이블엔 6개의 채용공고가 있었어( 다 다른 uid)\n",
    "그러면 comp_uid를 6개를 받아서\n",
    "5.테이블에서 comp_uid를 빼와서 6개짜리 리스트로만들고\n",
    "len비교\n",
    "if len comp_uid 테이블 길이> 크롤링 df 길이: #없어진 채용공고 있는거니까\n",
    "\t테이블 uid_list - 크롤링 df uid 차집합리스트 애들을 \n",
    "\t차집합 리스트로 for 문돌려서 하나하나 들어가있는지 확인해서 삭제\n",
    "elif len comp_uid 테이블 길이 = 크롤링 df길이:\n",
    "\tpass하는식으로 넘기고\n",
    "else #크롤링 df가 더 긴경우\n",
    "\t크롤링 df uid -테이블 uid리스트 차집합 리스트 애들을\n",
    "\t차집합 리스트로 for문돌려서 하나하나 채용공고 \n",
    "\tinsert where uid= {new_recruit}\"\"\""
   ]
  },
  {
   "cell_type": "code",
   "execution_count": null,
   "metadata": {},
   "outputs": [],
   "source": [
    "uid_table_list=[]\n",
    "cur.execute(\"SELECT recruit_info.recruit_uid FROM recruit_info JOIN comp_info ON recruit_info.comp_uid = comp_info.comp_uid WHERE comp_info.comp_name = %s\", (comp))\n"
   ]
  },
  {
   "cell_type": "code",
   "execution_count": 58,
   "metadata": {},
   "outputs": [],
   "source": [
    "cur.execute(\"SELECT recruit_info.recruit_uid FROM recruit_info JOIN comp_info ON recruit_info.comp_uid = comp_info.comp_uid WHERE comp_info.comp_name = %s\", '(주)카카오')\n",
    "uid_table_list=[]\n",
    "for r_uid in cur:\n",
    "    uid_table_list.append(r_uid[0])"
   ]
  },
  {
   "cell_type": "code",
   "execution_count": 69,
   "metadata": {},
   "outputs": [
    {
     "name": "stdout",
     "output_type": "stream",
     "text": [
      "('recruit_uid', 'bigint', 'NO', 'PRI', None, 'auto_increment')\n",
      "('comp_uid', 'bigint', 'NO', 'MUL', None, '')\n",
      "('recruit_url', 'varchar(2000)', 'NO', '', None, '')\n",
      "('recruit_position', 'varchar(100)', 'NO', '', None, '')\n",
      "('recruit_thumb', 'varchar(2000)', 'YES', '', None, '')\n",
      "('create_date', 'char(8)', 'NO', '', None, '')\n",
      "('modify_date', 'char(8)', 'NO', '', None, '')\n"
     ]
    }
   ],
   "source": [
    "cur.execute('desc recruit_info')\n",
    "for i in cur:\n",
    "    print(i)"
   ]
  },
  {
   "cell_type": "code",
   "execution_count": 139,
   "metadata": {},
   "outputs": [
    {
     "data": {
      "text/plain": [
       "1"
      ]
     },
     "execution_count": 139,
     "metadata": {},
     "output_type": "execute_result"
    }
   ],
   "source": [
    "#테스트용으로 아무거나 delete =>공고 추가되나 확인용\n",
    "cur.execute('delete from recruit_info where recruit_position = \"[신입] iOS개발\"')"
   ]
  },
  {
   "cell_type": "code",
   "execution_count": null,
   "metadata": {},
   "outputs": [],
   "source": [
    "#테스트용으로 아무거나 insert =>공고 삭제되나 확인용\n",
    "sql = 'insert into recruit_info '\n",
    "sql += '    (comp_uid, recruit_uid, recruit_url, recruit_position, recruit_thumb, create_date, modify_date) '\n",
    "sql += 'values ( '\n",
    "sql += f'   \"86\", \"3955\", \"https://www.wanted.co.kr/wd/3955\", \"나는 김형선\", \"https://static.wanted.co.kr/images/company/3342/nmshwilloxvcqlxq__1080_790.png\" '\n",
    "sql += f'    , \"{\"00000000\"}\", \"{\"00000000\"}\" '\n",
    "sql += ') '\n",
    "cur.execute(sql)\n",
    "cur.execute('')"
   ]
  },
  {
   "cell_type": "code",
   "execution_count": 142,
   "metadata": {},
   "outputs": [
    {
     "name": "stdout",
     "output_type": "stream",
     "text": [
      "(39622, 86, 'https://www.wanted.co.kr/wd/39622', '카카오/네이버 연계 시스템 서버 개발자', 'https://static.wanted.co.kr/images/company/3342/nmshwilloxvcqlxq__1080_790.png', '00000000', '00000000')\n",
      "(149197, 85, 'https://www.wanted.co.kr/wd/149197', 'Inference Engine Engineer', 'https://static.wanted.co.kr/images/company/22504/u2ryao0fwotejf3h__1080_790.jpg', '00000000', '00000000')\n",
      "(151828, 85, 'https://www.wanted.co.kr/wd/151828', 'Applied AI/ML Engineer', 'https://static.wanted.co.kr/images/company/22504/u2ryao0fwotejf3h__1080_790.jpg', '00000000', '00000000')\n",
      "(156751, 85, 'https://www.wanted.co.kr/wd/156751', 'Biology AI Researcher', 'https://static.wanted.co.kr/images/company/22504/u2ryao0fwotejf3h__1080_790.jpg', '00000000', '00000000')\n",
      "(159350, 85, 'https://www.wanted.co.kr/wd/159350', 'Backend Engineer(AI Image Service)', 'https://static.wanted.co.kr/images/company/22504/u2ryao0fwotejf3h__1080_790.jpg', '00000000', '00000000')\n",
      "(169809, 86, 'https://www.wanted.co.kr/wd/169809', '네트워크 엔지니어 (춘천 네이버IDC 상주)', 'https://static.wanted.co.kr/images/company/7445/ok0cshlw5inuetto__1080_790.jpg', '00000000', '00000000')\n",
      "(172569, 85, 'https://www.wanted.co.kr/wd/172569', 'iOS개발자 (3년 이상)', 'https://static.wanted.co.kr/images/company/35182/iyclcdzaahw1inyj__1080_790.jpg', '00000000', '00000000')\n",
      "(173071, 85, 'https://www.wanted.co.kr/wd/173071', '[카카오헤어샵] 안드로이드 개발자 (미들-시니어)', 'https://static.wanted.co.kr/images/company/2671/txrozr2bl2gyymzy__1080_790.jpg', '00000000', '00000000')\n",
      "(173529, 85, 'https://www.wanted.co.kr/wd/173529', '스크린앱개발팀 앱 개발 및 관리 팀장', 'https://static.wanted.co.kr/images/company/3689/vqj9kejasvm6o0os__1080_790.jpg', '00000000', '00000000')\n",
      "(173839, 86, 'https://www.wanted.co.kr/wd/173839', '네이버클라우드 SA', 'https://static.wanted.co.kr/images/company/23357/pdbfmrjv28x6wqtf__1080_790.jpg', '00000000', '00000000')\n",
      "(174324, 85, 'https://www.wanted.co.kr/wd/174324', 'Business Operations 담당 (Infra & Platform)', 'https://static.wanted.co.kr/images/company/22504/u2ryao0fwotejf3h__1080_790.jpg', '00000000', '00000000')\n",
      "(174495, 85, 'https://www.wanted.co.kr/wd/174495', 'Business Development 담당 (Entertainment)', 'https://static.wanted.co.kr/images/company/22504/u2ryao0fwotejf3h__1080_790.jpg', '00000000', '00000000')\n",
      "(174812, 85, 'https://www.wanted.co.kr/wd/174812', '헬스케어 모바일 서비스 기획자 (1년 계약직)', 'https://static.wanted.co.kr/images/company/35182/iyclcdzaahw1inyj__1080_790.jpg', '00000000', '00000000')\n",
      "(175906, 85, 'https://www.wanted.co.kr/wd/175906', '국내/해외 주식 업무기획 PM', 'https://static.wanted.co.kr/images/company/20947/izyvwevuqdjqkvwu__1080_790.png', '00000000', '00000000')\n",
      "(176320, 85, 'https://www.wanted.co.kr/wd/176320', '[신입] iOS개발', 'https://static.wanted.co.kr/images/company/35182/iyclcdzaahw1inyj__1080_790.jpg', '00000000', '00000000')\n"
     ]
    }
   ],
   "source": [
    "#추가 삭제는 요걸로 확인\n",
    "cur.execute('select * from recruit_info')\n",
    "for i in cur:\n",
    "    print(i)"
   ]
  },
  {
   "cell_type": "code",
   "execution_count": 144,
   "metadata": {},
   "outputs": [
    {
     "name": "stdout",
     "output_type": "stream",
     "text": [
      "삼성전자\n",
      "삼성전자(주) 변동없음\n",
      "카카오\n",
      "(주)카카오 변동없음\n",
      "네이버\n",
      "네이버(주) 변동없음\n"
     ]
    }
   ],
   "source": [
    "#함수테스트완료\n",
    "recruit_info_update(comp_list)"
   ]
  },
  {
   "cell_type": "code",
   "execution_count": 143,
   "metadata": {},
   "outputs": [],
   "source": [
    "def recruit_info_update(comp_list):\n",
    "    for comp in comp_list:\n",
    "        #채용공고는 주 붙어있으면 안됨 제거 전처리\n",
    "        #2\n",
    "        recruit_comp = comp.replace('(주)',\"\")\n",
    "        print(recruit_comp)\n",
    "\n",
    "        #3\n",
    "        recruit_info_df=wanted_recruit_crawler.get_recruit_info(recruit_comp, csv_save=False) # 원티드 기업정보 크롤러 모듈\n",
    "\n",
    "        #3.5 uid 집합으로 돼있어서 int로 변환\n",
    "        new_i=[] #집합인 uid를 int로 바꿔준 값을 넣어준 리스트/ 테이블에 넣기위한 전처리 (비교하려면 먼저 전처리부터)\n",
    "        for i in range(len(recruit_info_df['recruit_uid'])):\n",
    "            new_i.append(list(recruit_info_df['recruit_uid'][i])[0])\n",
    "        recruit_info_df['recruit_uid']=new_i #int 값으로 컬럼 대체 # 데이터프레임 있는상태 여기서 다 돌려야됨\n",
    "\n",
    "\n",
    "        #기업별(for 문 한번당 기업하나) recruit_uid를 넣어준 리스트\n",
    "        #회사이름이 comp_info와 같은 recruit_info에서 recruit_info_uid 정보 전부 빼옴\n",
    "        cur.execute(\"SELECT recruit_info.recruit_uid FROM recruit_info JOIN comp_info ON recruit_info.comp_uid = comp_info.comp_uid WHERE comp_info.comp_name = %s\", (comp))\n",
    "        uid_table_list=[]\n",
    "\n",
    "        for r_uid in cur:\n",
    "            uid_table_list.append(r_uid[0])\n",
    "\n",
    "        if len(recruit_info_df['recruit_uid']) > len(uid_table_list): #추가해야될 채용공고가 있는경우: insert\n",
    "            #차집합으로 크롤링데이터엔 있고 테이블엔 없는 것들 찾아서 추가\n",
    "            sub_set = [x for x in recruit_info_df['recruit_uid'].tolist() if x not in uid_table_list]\n",
    "            print(recruit_info_df['recruit_uid'].tolist())\n",
    "            print(uid_table_list)\n",
    "            print(sub_set)\n",
    "            #차집합만을 포함한 데이터프레임 만들기(insert목록)\n",
    "            filtered_recruit_info_df = recruit_info_df[recruit_info_df['recruit_uid'].isin(sub_set)]\n",
    "            #채용공고에 넣어줄 comp_id\n",
    "            cur.execute(f'select comp_uid from comp_info where comp_name = \"{comp}\"')\n",
    "            comp_uid=cur.fetchall()[0][0]\n",
    "            print(comp_uid)\n",
    "\n",
    "            for index, row in filtered_recruit_info_df.iterrows():\n",
    "                sql = 'insert into recruit_info '\n",
    "                sql += '    (comp_uid, recruit_uid, recruit_url, recruit_position, recruit_thumb, create_date, modify_date) '\n",
    "                sql += 'values ( '\n",
    "                sql += f'   \"{comp_uid}\", \"{row[\"recruit_uid\"]}\", \"{row[\"recruit_url\"]}\", \"{row[\"recruit_position\"]}\", \"{row[\"recruit_thumb\"]}\" '\n",
    "                sql += f'    , \"{\"00000000\"}\", \"{\"00000000\"}\" '\n",
    "                sql += ') '\n",
    "                cur.execute(sql)\n",
    "                #for i in cur:\n",
    "                #    print(i)\n",
    "            print(f'{comp} 공고 추가완료')\n",
    "            #print(filtered_recruit_info_df)\n",
    "        elif len(recruit_info_df['recruit_uid']) == len(uid_table_list) and sorted(recruit_info_df['recruit_uid']) == sorted(uid_table_list) : # 아예 똑같음 채용공고 변동사항 없음\n",
    "            print(f'{comp} 변동없음')\n",
    "            continue #채용공고 변동없이 다음기업 찾기로 넘어감\n",
    "\n",
    "        else: #삭제해야될 채용공고가 있는경우: delete\n",
    "            #차집합으로 테이블엔 있고 크롤링데이터엔 없는 것들 찾아서 삭제 delete해줄 애들\n",
    "            sub_set = [x for x in  uid_table_list if x not in recruit_info_df['recruit_uid'].tolist()]\n",
    "            print(uid_table_list)\n",
    "            print(recruit_info_df['recruit_uid'].tolist())\n",
    "            print(sub_set)\n",
    "            #print(sub_set)\n",
    "            #filtered_recruit_info_df = recruit_info_df[recruit_info_df['recruit_uid'].isin([sub_set])]\n",
    "            for sub in sub_set:\n",
    "                cur.execute(f'delete from recruit_info where recruit_uid = {sub}')\n",
    "            print(f'{comp} 공고 삭제됨')\n",
    "    conn.commit()\n",
    "    conn.close()"
   ]
  },
  {
   "cell_type": "code",
   "execution_count": 54,
   "metadata": {},
   "outputs": [
    {
     "data": {
      "text/plain": [
       "[149197,\n",
       " 151828,\n",
       " 156751,\n",
       " 159350,\n",
       " 171904,\n",
       " 172569,\n",
       " 173071,\n",
       " 173529,\n",
       " 174324,\n",
       " 174495,\n",
       " 174812,\n",
       " 175906,\n",
       " 39622,\n",
       " 169809,\n",
       " 173839]"
      ]
     },
     "execution_count": 54,
     "metadata": {},
     "output_type": "execute_result"
    }
   ],
   "source": [
    "recruit_uid_list"
   ]
  },
  {
   "cell_type": "code",
   "execution_count": null,
   "metadata": {},
   "outputs": [],
   "source": []
  },
  {
   "cell_type": "code",
   "execution_count": 30,
   "metadata": {},
   "outputs": [
    {
     "data": {
      "text/plain": [
       "0    173839\n",
       "1    169809\n",
       "2     39622\n",
       "Name: recruit_uid, dtype: int64"
      ]
     },
     "execution_count": 30,
     "metadata": {},
     "output_type": "execute_result"
    }
   ],
   "source": [
    "recruit_info_df['recruit_uid']"
   ]
  },
  {
   "cell_type": "code",
   "execution_count": null,
   "metadata": {},
   "outputs": [],
   "source": [
    "    ####\n",
    "    #비교해주는 쿼리문 기존 테이블 데이터가 있을거란 말이지 #1. 테이블에recruit_uid와 크롤링한 recruit_info_df['recruit_uid'] 이 친구와\n",
    "    # uid에는 있고 df에는 없으면 없어진거니 삭제 delete \n",
    "    if recruit_info_df['recruit_uid']\n",
    "    for crawl_uid in recruit_info_df['recruit_uid']\n",
    "    cur.execute('delete from recruit_info where recruit_uid NOT IN ('uid1', 'uid2', 'uid3', ...)')\n",
    "    ####\n"
   ]
  },
  {
   "cell_type": "code",
   "execution_count": null,
   "metadata": {},
   "outputs": [],
   "source": [
    "#생각해보니 굳이 테이블 생성할 필요없이 테이블에서 uid 다 select해오고 데이터프레임과 비교한뒤 걔네들을  "
   ]
  },
  {
   "cell_type": "code",
   "execution_count": 33,
   "metadata": {},
   "outputs": [
    {
     "data": {
      "text/plain": [
       "[149197,\n",
       " 151828,\n",
       " 156751,\n",
       " 159350,\n",
       " 171904,\n",
       " 172569,\n",
       " 173071,\n",
       " 173529,\n",
       " 174324,\n",
       " 174495,\n",
       " 174812,\n",
       " 175906,\n",
       " 39622,\n",
       " 169809,\n",
       " 173839]"
      ]
     },
     "execution_count": 33,
     "metadata": {},
     "output_type": "execute_result"
    }
   ],
   "source": [
    "recruit_uid_list"
   ]
  },
  {
   "cell_type": "code",
   "execution_count": 32,
   "metadata": {},
   "outputs": [
    {
     "data": {
      "text/plain": [
       "[149197,\n",
       " 151828,\n",
       " 156751,\n",
       " 159350,\n",
       " 171904,\n",
       " 172569,\n",
       " 173071,\n",
       " 173529,\n",
       " 174324,\n",
       " 174495,\n",
       " 174812,\n",
       " 175906,\n",
       " 39622,\n",
       " 169809,\n",
       " 173839]"
      ]
     },
     "execution_count": 32,
     "metadata": {},
     "output_type": "execute_result"
    }
   ],
   "source": [
    "sub_set"
   ]
  },
  {
   "cell_type": "code",
   "execution_count": 17,
   "metadata": {},
   "outputs": [
    {
     "data": {
      "text/plain": [
       "[149197,\n",
       " 151828,\n",
       " 156751,\n",
       " 159350,\n",
       " 171904,\n",
       " 172569,\n",
       " 173071,\n",
       " 173529,\n",
       " 174324,\n",
       " 174495,\n",
       " 174812,\n",
       " 175906,\n",
       " 39622,\n",
       " 169809,\n",
       " 173839]"
      ]
     },
     "execution_count": 17,
     "metadata": {},
     "output_type": "execute_result"
    }
   ],
   "source": [
    "recruit_uid_list #채용공고 uid에 있는 uid 이제 df uid랑 비교해야겠지? 여기있는데 df는 없으면 "
   ]
  },
  {
   "cell_type": "code",
   "execution_count": 14,
   "metadata": {},
   "outputs": [
    {
     "data": {
      "text/plain": [
       "0    169809\n",
       "1    173839\n",
       "2     39622\n",
       "Name: recruit_uid, dtype: int64"
      ]
     },
     "execution_count": 14,
     "metadata": {},
     "output_type": "execute_result"
    }
   ],
   "source": [
    "recruit_info_df['recruit_uid']"
   ]
  },
  {
   "cell_type": "code",
   "execution_count": 13,
   "metadata": {},
   "outputs": [
    {
     "name": "stdout",
     "output_type": "stream",
     "text": [
      "169809\n",
      "173839\n",
      "39622\n"
     ]
    }
   ],
   "source": [
    "for i in recruit_info_df['recruit_uid']:\n",
    "    print(i)"
   ]
  },
  {
   "cell_type": "code",
   "execution_count": null,
   "metadata": {},
   "outputs": [],
   "source": [
    "\n",
    "cur.execute(f'select comp_uid from comp_info where comp_name = \"{comp}\"') \n",
    "comp_uid=cur.fetchall()[0][0]\n",
    "print(comp_uid)\n",
    "for index, row in recruit_info_df.iterrows():\n",
    "    sql = 'insert into recruit_info '\n",
    "    sql += '    (comp_uid, recruit_uid, recruit_url, recruit_position, recruit_thumb, create_date, modify_date) '\n",
    "    sql += 'values ( '\n",
    "    sql += f'   \"{comp_uid}\", \"{row[\"recruit_uid\"]}\", \"{row[\"recruit_url\"]}\", \"{row[\"recruit_position\"]}\", \"{row[\"recruit_thumb\"]}\" '\n",
    "    sql += f'    , \"{\"00000000\"}\", \"{\"00000000\"}\" '\n",
    "    sql += ') '\n",
    "    cur.execute(sql)\n",
    "    for i in cur:\n",
    "        print(i)\n"
   ]
  },
  {
   "cell_type": "code",
   "execution_count": null,
   "metadata": {},
   "outputs": [],
   "source": []
  },
  {
   "cell_type": "code",
   "execution_count": null,
   "metadata": {},
   "outputs": [],
   "source": []
  }
 ],
 "metadata": {
  "kernelspec": {
   "display_name": "Python 3",
   "language": "python",
   "name": "python3"
  },
  "language_info": {
   "codemirror_mode": {
    "name": "ipython",
    "version": 3
   },
   "file_extension": ".py",
   "mimetype": "text/x-python",
   "name": "python",
   "nbconvert_exporter": "python",
   "pygments_lexer": "ipython3",
   "version": "3.10.6"
  },
  "orig_nbformat": 4
 },
 "nbformat": 4,
 "nbformat_minor": 2
}
