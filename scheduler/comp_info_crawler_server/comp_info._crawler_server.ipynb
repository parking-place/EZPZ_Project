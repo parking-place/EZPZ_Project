{
 "cells": [
  {
   "cell_type": "code",
   "execution_count": 66,
   "metadata": {},
   "outputs": [
    {
     "ename": "SyntaxError",
     "evalue": "invalid syntax (130150470.py, line 2)",
     "output_type": "error",
     "traceback": [
      "\u001b[0;36m  Cell \u001b[0;32mIn[66], line 2\u001b[0;36m\u001b[0m\n\u001b[0;31m    pip install cryptography\u001b[0m\n\u001b[0m        ^\u001b[0m\n\u001b[0;31mSyntaxError\u001b[0m\u001b[0;31m:\u001b[0m invalid syntax\n"
     ]
    }
   ],
   "source": [
    "!pip install pymysql\n",
    "pip install cryptography"
   ]
  },
  {
   "cell_type": "code",
   "execution_count": 1,
   "metadata": {},
   "outputs": [],
   "source": [
    "import socket\n",
    "#장고 DB와 연동하기 위한 DATABASES 나중에 SETTINGS 에 기입해주면 된다고함\n",
    "try :\n",
    "    DB_IP = socket.gethostbyname('EZPZ_DB')\n",
    "except:\n",
    "    DB_IP = 'localhost'\n",
    "USER='root'\n",
    "NAME='ezpz'\n",
    "ENGINE= \"django.db.backends.mysql\" #얘네들 따로 account때처럼 빼는건지 물어보기\n",
    "DATABASES = {\n",
    "    \"default\": {\n",
    "        \"ENGINE\": ENGINE,\n",
    "        \"NAME\": NAME, #나중에 db이름 고치기 데이터베이스 이름 \n",
    "        \"USER\": USER, \n",
    "        \"PASSWORD\": \"1234\",\n",
    "        \"HOST\": DB_IP,\n",
    "        \"PORT\": \"33306\"\n",
    "        \n",
    "    }\n",
    "}"
   ]
  },
  {
   "cell_type": "code",
   "execution_count": 2,
   "metadata": {},
   "outputs": [],
   "source": [
    "import pymysql\n",
    "import cryptography"
   ]
  },
  {
   "cell_type": "code",
   "execution_count": 3,
   "metadata": {},
   "outputs": [],
   "source": [
    " conn = pymysql.connect(host=DB_IP, user=USER, password='1234',db= NAME ,charset='utf8')"
   ]
  },
  {
   "cell_type": "code",
   "execution_count": 4,
   "metadata": {},
   "outputs": [],
   "source": [
    "cur = conn.cursor()"
   ]
  },
  {
   "cell_type": "code",
   "execution_count": 5,
   "metadata": {},
   "outputs": [
    {
     "data": {
      "text/plain": [
       "0"
      ]
     },
     "execution_count": 5,
     "metadata": {},
     "output_type": "execute_result"
    }
   ],
   "source": [
    "\n",
    "# 테이블 일괄 삭제\n",
    "cur.execute(\"drop table if exists comp_news;\")\n",
    "cur.execute(\"drop table if exists recruit_info;\")\n",
    "cur.execute(\"drop table if exists comp_info;\")\n"
   ]
  },
  {
   "cell_type": "code",
   "execution_count": 6,
   "metadata": {},
   "outputs": [
    {
     "data": {
      "text/plain": [
       "0"
      ]
     },
     "execution_count": 6,
     "metadata": {},
     "output_type": "execute_result"
    }
   ],
   "source": [
    "# 기업 정보 테이블\n",
    "sql = '''\n",
    "    create table comp_info(comp_uid bigint auto_increment,\n",
    "\tcomp_name varchar(20) not null,\n",
    "\tcomp_loc varchar(50) not null,\n",
    "\t# 아래는 nullable\n",
    "\tcomp_thumb varchar(2000),\n",
    "    comp_cont varchar(30),\n",
    "\tcomp_founded char(6),\n",
    "\tcomp_size varchar(10), # 회사 규모 : 대기업, 중견기업 등\n",
    "\tcomp_url varchar(2000),\n",
    "\tis_reged char(1) default 'N' not null\n",
    "\tcheck (is_reged in ('Y', 'N')),\n",
    "\t\n",
    "    create_date char(8) not null, # DB 입력 날짜\n",
    "\tmodify_date char(8) not null, # 최종 수정 날짜\n",
    "\t\n",
    "\tprimary key comp_info(comp_uid),\n",
    "\tconstraint COMP_NAME_UK unique comp_info(comp_name)\n",
    ")\n",
    "'''\n",
    "\n",
    "# SQL 문을 실행합니다.\n",
    "cur.execute(sql)"
   ]
  },
  {
   "cell_type": "code",
   "execution_count": 7,
   "metadata": {},
   "outputs": [
    {
     "data": {
      "text/plain": [
       "0"
      ]
     },
     "execution_count": 7,
     "metadata": {},
     "output_type": "execute_result"
    }
   ],
   "source": [
    "# 채용 공고 테이블\n",
    "sql2='''\n",
    "create table recruit_info(\n",
    "\trecruit_uid bigint auto_increment,\n",
    "\tcomp_uid bigint not null, # indexing 문제로 unqiue 제약조건 삭제\n",
    "\trecruit_url varchar(2000) not null,\n",
    "\trecruit_position varchar(100) not null, #20인가에서 100으로 변경\n",
    "\trecruit_thumb varchar(2000),\n",
    "\t\n",
    "\tcreate_date char(8) not null, # DB 입력 날짜\n",
    "\tmodify_date char(8) not null, # 최종 수정 날짜\n",
    "\t\n",
    "\tprimary key recruit_info(recruit_uid),\n",
    "\tconstraint RECRUIT_COMP_FK foreign key recruit_info(comp_uid) references comp_info(comp_uid)\n",
    ")\n",
    "'''\n",
    "\n",
    "# SQL 문을 실행합니다.\n",
    "cur.execute(sql2)"
   ]
  },
  {
   "cell_type": "code",
   "execution_count": 8,
   "metadata": {},
   "outputs": [
    {
     "data": {
      "text/plain": [
       "0"
      ]
     },
     "execution_count": 8,
     "metadata": {},
     "output_type": "execute_result"
    }
   ],
   "source": [
    "# 기업 뉴스 테이블\n",
    "sql3='''\n",
    "create table comp_news(\n",
    "\tnews_uid bigint auto_increment,\n",
    "\tcomp_uid bigint not null,\n",
    "\tpub_date char(8) not null, # 뉴스 발행 일자\n",
    "\tnews_url varchar(2000) not null,\n",
    "\tnews_cont varchar(5000) not null,\n",
    "\t\n",
    "\tnews_sum varchar(256), # 뉴스 요약\n",
    "\tnews_senti int(1) check (news_senti in (0, 1, 2)),\n",
    "\t\n",
    "\tcreate_date char(8) not null, # DB 입력 날짜\n",
    "\tmodify_date char(8) not null, # 최종 수정 날짜\n",
    "\t\n",
    "\tprimary key comp_news(news_uid),\n",
    "\tconstraint NEWS_COMP_FK foreign key comp_news(comp_uid) references comp_info(comp_uid)\n",
    ")\n",
    "'''\n",
    "# SQL 문을 실행합니다.\n",
    "cur.execute(sql3)"
   ]
  },
  {
   "cell_type": "code",
   "execution_count": 9,
   "metadata": {},
   "outputs": [
    {
     "name": "stdout",
     "output_type": "stream",
     "text": [
      "('comp_uid', 'bigint', 'NO', 'PRI', None, 'auto_increment')\n",
      "('comp_name', 'varchar(20)', 'NO', 'UNI', None, '')\n",
      "('comp_loc', 'varchar(50)', 'NO', '', None, '')\n",
      "('comp_thumb', 'varchar(2000)', 'YES', '', None, '')\n",
      "('comp_cont', 'varchar(30)', 'YES', '', None, '')\n",
      "('comp_founded', 'char(6)', 'YES', '', None, '')\n",
      "('comp_size', 'varchar(10)', 'YES', '', None, '')\n",
      "('comp_url', 'varchar(2000)', 'YES', '', None, '')\n",
      "('is_reged', 'char(1)', 'NO', '', 'N', '')\n",
      "('create_date', 'char(8)', 'NO', '', None, '')\n",
      "('modify_date', 'char(8)', 'NO', '', None, '')\n"
     ]
    }
   ],
   "source": [
    "cur.execute('desc comp_info')\n",
    "for i in cur:\n",
    "    print(i)\n"
   ]
  },
  {
   "cell_type": "code",
   "execution_count": 10,
   "metadata": {},
   "outputs": [
    {
     "name": "stdout",
     "output_type": "stream",
     "text": [
      "('recruit_uid', 'bigint', 'NO', 'PRI', None, 'auto_increment')\n",
      "('comp_uid', 'bigint', 'NO', 'MUL', None, '')\n",
      "('recruit_url', 'varchar(2000)', 'NO', '', None, '')\n",
      "('recruit_position', 'varchar(100)', 'NO', '', None, '')\n",
      "('recruit_thumb', 'varchar(2000)', 'YES', '', None, '')\n",
      "('create_date', 'char(8)', 'NO', '', None, '')\n",
      "('modify_date', 'char(8)', 'NO', '', None, '')\n"
     ]
    }
   ],
   "source": [
    "cur.execute('desc recruit_info')\n",
    "for i in cur:\n",
    "    print(i)\n"
   ]
  },
  {
   "cell_type": "code",
   "execution_count": 11,
   "metadata": {},
   "outputs": [
    {
     "name": "stdout",
     "output_type": "stream",
     "text": [
      "('news_uid', 'bigint', 'NO', 'PRI', None, 'auto_increment')\n",
      "('comp_uid', 'bigint', 'NO', 'MUL', None, '')\n",
      "('pub_date', 'char(8)', 'NO', '', None, '')\n",
      "('news_url', 'varchar(2000)', 'NO', '', None, '')\n",
      "('news_cont', 'varchar(5000)', 'NO', '', None, '')\n",
      "('news_sum', 'varchar(256)', 'YES', '', None, '')\n",
      "('news_senti', 'int', 'YES', '', None, '')\n",
      "('create_date', 'char(8)', 'NO', '', None, '')\n",
      "('modify_date', 'char(8)', 'NO', '', None, '')\n"
     ]
    }
   ],
   "source": [
    "cur.execute('desc comp_news')\n",
    "for i in cur:\n",
    "    print(i)\n"
   ]
  },
  {
   "cell_type": "markdown",
   "metadata": {},
   "source": [
    "___\n",
    "## 테이블 생성완료 후 기업정보 데이터 저장하는 sql문 생성"
   ]
  },
  {
   "cell_type": "markdown",
   "metadata": {},
   "source": []
  },
  {
   "cell_type": "code",
   "execution_count": 12,
   "metadata": {},
   "outputs": [],
   "source": [
    "import sys\n",
    "sys.path.append('/app/EZPZ_Project/modules/crawlers/comp_info') #기업 정보 크롤러 경로"
   ]
  },
  {
   "cell_type": "code",
   "execution_count": 13,
   "metadata": {},
   "outputs": [],
   "source": [
    "import info_crawler #기업 정보 crawler 호출"
   ]
  },
  {
   "cell_type": "code",
   "execution_count": 14,
   "metadata": {},
   "outputs": [],
   "source": [
    "comp_info_df=info_crawler.get_url('트위니') # 기업정보 크롤러 모듈 객체 나중에 함수화"
   ]
  },
  {
   "cell_type": "code",
   "execution_count": 15,
   "metadata": {},
   "outputs": [
    {
     "data": {
      "text/html": [
       "<div>\n",
       "<style scoped>\n",
       "    .dataframe tbody tr th:only-of-type {\n",
       "        vertical-align: middle;\n",
       "    }\n",
       "\n",
       "    .dataframe tbody tr th {\n",
       "        vertical-align: top;\n",
       "    }\n",
       "\n",
       "    .dataframe thead th {\n",
       "        text-align: right;\n",
       "    }\n",
       "</style>\n",
       "<table border=\"1\" class=\"dataframe\">\n",
       "  <thead>\n",
       "    <tr style=\"text-align: right;\">\n",
       "      <th></th>\n",
       "      <th>comp_uid</th>\n",
       "      <th>comp_name</th>\n",
       "      <th>comp_loc</th>\n",
       "      <th>comp_thumb</th>\n",
       "      <th>comp_cont</th>\n",
       "      <th>comp_founded</th>\n",
       "      <th>comp_size</th>\n",
       "      <th>comp_url</th>\n",
       "    </tr>\n",
       "  </thead>\n",
       "  <tbody>\n",
       "    <tr>\n",
       "      <th></th>\n",
       "      <td>321024</td>\n",
       "      <td>(주)트위니</td>\n",
       "      <td>대전 유성구 가정북로 90</td>\n",
       "      <td>https://jpassets.jobplanet.co.kr/production/up...</td>\n",
       "      <td>[솔루션/SI/ERP/CRM]</td>\n",
       "      <td>2015.09.01</td>\n",
       "      <td>중소기업</td>\n",
       "      <td>http://www.twinny.ai</td>\n",
       "    </tr>\n",
       "  </tbody>\n",
       "</table>\n",
       "</div>"
      ],
      "text/plain": [
       " comp_uid comp_name        comp_loc  \\\n",
       "   321024    (주)트위니  대전 유성구 가정북로 90   \n",
       "\n",
       "                                         comp_thumb         comp_cont  \\\n",
       "  https://jpassets.jobplanet.co.kr/production/up...  [솔루션/SI/ERP/CRM]   \n",
       "\n",
       " comp_founded comp_size              comp_url  \n",
       "   2015.09.01      중소기업  http://www.twinny.ai  "
      ]
     },
     "execution_count": 15,
     "metadata": {},
     "output_type": "execute_result"
    }
   ],
   "source": [
    "comp_info_df"
   ]
  },
  {
   "cell_type": "code",
   "execution_count": 16,
   "metadata": {},
   "outputs": [
    {
     "name": "stdout",
     "output_type": "stream",
     "text": [
      "['321024', '(주)트위니', '대전 유성구 가정북로 90', 'https://jpassets.jobplanet.co.kr/production/uploads/company/logo/321024/thumb_twinny-logo-1.png', ['솔루션/SI/ERP/CRM'], '2015.09.01', '중소기업', 'http://www.twinny.ai']\n"
     ]
    }
   ],
   "source": [
    "# 기업 정보 리스트로 저장해서 데이터프레임에 넣어줄수 있게\n",
    "col_value=[]\n",
    "for i in comp_info_df.iloc[0]:\n",
    "    col_value.append(i)\n",
    "print(col_value)    \n"
   ]
  },
  {
   "cell_type": "code",
   "execution_count": 17,
   "metadata": {},
   "outputs": [
    {
     "data": {
      "text/plain": [
       "'201509'"
      ]
     },
     "execution_count": 17,
     "metadata": {},
     "output_type": "execute_result"
    }
   ],
   "source": [
    "col_value[5]=col_value[5][0:7]\n",
    "col_value[5] = col_value[5].replace(\".\", \"\")\n",
    "col_value[5] # 6글자 문자열로 변환 테이블에 형식대로"
   ]
  },
  {
   "cell_type": "code",
   "execution_count": 18,
   "metadata": {},
   "outputs": [
    {
     "data": {
      "text/plain": [
       "1"
      ]
     },
     "execution_count": 18,
     "metadata": {},
     "output_type": "execute_result"
    }
   ],
   "source": [
    "#크롤링해온 값 테이블에 저장 저장일자와 수정일자는 스케줄링단계에서 진행이므로 일단 000000 넣어두었음\n",
    "cur.execute(f\"INSERT INTO {NAME}.comp_info (comp_name, comp_loc, comp_thumb, comp_cont, comp_founded, comp_size, comp_url, is_reged, create_date, modify_date) VALUES (%s, %s, %s, %s, %s, %s, %s, 'N', '000000', '000000')\", (col_value[1], col_value[2], col_value[3], col_value[4], col_value[5], col_value[6], col_value[7]))"
   ]
  },
  {
   "cell_type": "code",
   "execution_count": 19,
   "metadata": {},
   "outputs": [
    {
     "name": "stdout",
     "output_type": "stream",
     "text": [
      "(1, '(주)트위니', '대전 유성구 가정북로 90', 'https://jpassets.jobplanet.co.kr/production/uploads/company/logo/321024/thumb_twinny-logo-1.png', '솔루션/SI/ERP/CRM', '201509', '중소기업', 'http://www.twinny.ai', 'N', '000000', '000000')\n"
     ]
    }
   ],
   "source": [
    "cur.execute('select * from comp_info')\n",
    "for i in cur:\n",
    "    print(i)"
   ]
  },
  {
   "cell_type": "code",
   "execution_count": 20,
   "metadata": {},
   "outputs": [],
   "source": [
    "# 작업을 커밋\n",
    "conn.commit()\n",
    "\n",
    "# 연결 종료\n",
    "conn.close()\n",
    "\n",
    "# 연결종료 후엔 반드시 다시 연결해줘야됨"
   ]
  },
  {
   "cell_type": "markdown",
   "metadata": {},
   "source": [
    "___\n",
    "## 조건들 더 붙여서(ex)뭐 테이블에 있는 경우(함수1)는 그냥 바로 테이블 값 select 테이블에 없는 경우는 크롤링함수호출(함수2)하는 위처럼 해서 )위 행동 모듈화"
   ]
  },
  {
   "cell_type": "markdown",
   "metadata": {},
   "source": []
  },
  {
   "cell_type": "markdown",
   "metadata": {},
   "source": []
  },
  {
   "cell_type": "markdown",
   "metadata": {},
   "source": []
  }
 ],
 "metadata": {
  "kernelspec": {
   "display_name": "Python 3",
   "language": "python",
   "name": "python3"
  },
  "language_info": {
   "codemirror_mode": {
    "name": "ipython",
    "version": 3
   },
   "file_extension": ".py",
   "mimetype": "text/x-python",
   "name": "python",
   "nbconvert_exporter": "python",
   "pygments_lexer": "ipython3",
   "version": "3.10.6"
  },
  "orig_nbformat": 4
 },
 "nbformat": 4,
 "nbformat_minor": 2
}
