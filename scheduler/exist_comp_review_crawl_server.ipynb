{
 "cells": [
  {
   "cell_type": "code",
   "execution_count": null,
   "metadata": {},
   "outputs": [],
   "source": [
    "import sys\n",
    "import os\n",
    "import pandas as pd\n",
    "\n",
    "\n",
    "sys.path.append('/app/EZPZ_Project/modules/crawlers/reviews') # 뉴스 정보 크롤러 경로\n",
    "sys.path.append('/app/EZPZ_Project') #db 연동정보 경로\n",
    "\n",
    "import cryptography\n",
    "from tqdm import tqdm\n",
    "import sql_connection as sc\n",
    "from datetime import datetime\n",
    "\n",
    "import new_catch\n",
    "import jobplanetv2\n",
    "\n",
    "from privates.ezpz_db import *"
   ]
  },
  {
   "cell_type": "code",
   "execution_count": null,
   "metadata": {},
   "outputs": [],
   "source": []
  }
 ],
 "metadata": {
  "language_info": {
   "name": "python"
  },
  "orig_nbformat": 4
 },
 "nbformat": 4,
 "nbformat_minor": 2
}
