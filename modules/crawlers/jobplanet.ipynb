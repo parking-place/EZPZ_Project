{
 "cells": [
  {
   "cell_type": "code",
   "execution_count": 6,
   "metadata": {},
   "outputs": [],
   "source": [
    "from accounts import jp\n",
    "# jp.ID, jp.PW"
   ]
  },
  {
   "cell_type": "code",
   "execution_count": 31,
   "metadata": {},
   "outputs": [],
   "source": [
    "import os\n",
    "from datetime import datetime\n",
    "import time\n",
    "import requests\n",
    "import re\n",
    "\n",
    "import pandas as pd\n",
    "\n",
    "from bs4 import BeautifulSoup\n",
    "\n",
    "import selenium\n",
    "\n",
    "\n",
    "from selenium.webdriver.chrome.service import Service\n",
    "from selenium import webdriver\n",
    "from webdriver_manager.chrome import ChromeDriverManager\n",
    "\n",
    "from selenium.webdriver.common.by import By\n",
    "from selenium.webdriver.common.keys import Keys"
   ]
  },
  {
   "cell_type": "code",
   "execution_count": 67,
   "metadata": {},
   "outputs": [
    {
     "name": "stdout",
     "output_type": "stream",
     "text": [
      "{'width': 1512, 'height': 944}\n"
     ]
    }
   ],
   "source": [
    "# 크롬으로 잡플래닛 사이트 열기\n",
    "service = Service(executable_path=\"chromedriver.exe\")\n",
    "browser = webdriver.Chrome(service=service)\n",
    "\n",
    "url = r\"https://www.jobplanet.co.kr/job\"\n",
    "\n",
    "browser.maximize_window()\n",
    "print(browser.get_window_size())\n",
    "\n",
    "browser.get(r\"https://www.jobplanet.co.kr/job\")"
   ]
  },
  {
   "cell_type": "code",
   "execution_count": 68,
   "metadata": {},
   "outputs": [],
   "source": [
    "###########################\n",
    "# 잡플래닛에 로그인 하기\n",
    "###########################\n",
    "\n",
    "# 로그인 버튼 찾기 및 클릭\n",
    "login_btn = browser.find_element(By.CSS_SELECTOR,\"a.btn_txt.login\")\n",
    "login_btn.click()\n",
    "\n",
    "# 로그인 ID와 PW 쳐야할 곳 클릭 + 적기\n",
    "login_Id = browser.find_element(By.CSS_SELECTOR, \"#user_email\")\n",
    "login_Id.click()\n",
    "login_Id.send_keys(jp.ID)\n",
    "\n",
    "login_Pw = browser.find_element(By.CSS_SELECTOR, \"#user_password\")\n",
    "login_Pw.click()\n",
    "login_Pw.send_keys(jp.PW)\n",
    "\n",
    "# 이메일로 로그인 버튼 누르기\n",
    "em_log = browser.find_element(By.CSS_SELECTOR, \"fieldset > button\")\n",
    "em_log.click()"
   ]
  },
  {
   "cell_type": "code",
   "execution_count": 70,
   "metadata": {},
   "outputs": [
    {
     "ename": "NoSuchElementException",
     "evalue": "Message: no such element: Unable to locate element: {\"method\":\"css selector\",\"selector\":\"div.is_company_card > div:nth-child(1) > a\"}\n  (Session info: chrome=114.0.5735.198); For documentation on this error, please visit: https://www.selenium.dev/documentation/webdriver/troubleshooting/errors#no-such-element-exception\nStacktrace:\n0   chromedriver                        0x0000000102507f48 chromedriver + 4226888\n1   chromedriver                        0x00000001025004f4 chromedriver + 4195572\n2   chromedriver                        0x0000000102144d68 chromedriver + 281960\n3   chromedriver                        0x000000010217ffc8 chromedriver + 524232\n4   chromedriver                        0x00000001021b6c58 chromedriver + 748632\n5   chromedriver                        0x0000000102173f1c chromedriver + 474908\n6   chromedriver                        0x0000000102174ef4 chromedriver + 478964\n7   chromedriver                        0x00000001024c959c chromedriver + 3970460\n8   chromedriver                        0x00000001024cd6f0 chromedriver + 3987184\n9   chromedriver                        0x00000001024d35b4 chromedriver + 4011444\n10  chromedriver                        0x00000001024ce2fc chromedriver + 3990268\n11  chromedriver                        0x00000001024a61c0 chromedriver + 3826112\n12  chromedriver                        0x00000001024ea088 chromedriver + 4104328\n13  chromedriver                        0x00000001024ea1e0 chromedriver + 4104672\n14  chromedriver                        0x00000001024f9f28 chromedriver + 4169512\n15  libsystem_pthread.dylib             0x000000018b4ebfa8 _pthread_start + 148\n16  libsystem_pthread.dylib             0x000000018b4e6da0 thread_start + 8\n",
     "output_type": "error",
     "traceback": [
      "\u001b[0;31m---------------------------------------------------------------------------\u001b[0m",
      "\u001b[0;31mNoSuchElementException\u001b[0m                    Traceback (most recent call last)",
      "Cell \u001b[0;32mIn[70], line 24\u001b[0m\n\u001b[1;32m     21\u001b[0m   search_bar\u001b[39m.\u001b[39mclick()\n\u001b[1;32m     23\u001b[0m \u001b[39m# 맨처음에 나오는 기업 클릭하기\u001b[39;00m\n\u001b[0;32m---> 24\u001b[0m company \u001b[39m=\u001b[39m browser\u001b[39m.\u001b[39;49mfind_element(By\u001b[39m.\u001b[39;49mCSS_SELECTOR, \u001b[39m\"\u001b[39;49m\u001b[39mdiv.is_company_card > div:nth-child(1) > a\u001b[39;49m\u001b[39m\"\u001b[39;49m)\n\u001b[1;32m     25\u001b[0m company\u001b[39m.\u001b[39mclick()\n",
      "File \u001b[0;32m~/.pyenv/versions/3.10.11/envs/ezpz/lib/python3.10/site-packages/selenium/webdriver/remote/webdriver.py:740\u001b[0m, in \u001b[0;36mWebDriver.find_element\u001b[0;34m(self, by, value)\u001b[0m\n\u001b[1;32m    737\u001b[0m     by \u001b[39m=\u001b[39m By\u001b[39m.\u001b[39mCSS_SELECTOR\n\u001b[1;32m    738\u001b[0m     value \u001b[39m=\u001b[39m \u001b[39mf\u001b[39m\u001b[39m'\u001b[39m\u001b[39m[name=\u001b[39m\u001b[39m\"\u001b[39m\u001b[39m{\u001b[39;00mvalue\u001b[39m}\u001b[39;00m\u001b[39m\"\u001b[39m\u001b[39m]\u001b[39m\u001b[39m'\u001b[39m\n\u001b[0;32m--> 740\u001b[0m \u001b[39mreturn\u001b[39;00m \u001b[39mself\u001b[39;49m\u001b[39m.\u001b[39;49mexecute(Command\u001b[39m.\u001b[39;49mFIND_ELEMENT, {\u001b[39m\"\u001b[39;49m\u001b[39musing\u001b[39;49m\u001b[39m\"\u001b[39;49m: by, \u001b[39m\"\u001b[39;49m\u001b[39mvalue\u001b[39;49m\u001b[39m\"\u001b[39;49m: value})[\u001b[39m\"\u001b[39m\u001b[39mvalue\u001b[39m\u001b[39m\"\u001b[39m]\n",
      "File \u001b[0;32m~/.pyenv/versions/3.10.11/envs/ezpz/lib/python3.10/site-packages/selenium/webdriver/remote/webdriver.py:346\u001b[0m, in \u001b[0;36mWebDriver.execute\u001b[0;34m(self, driver_command, params)\u001b[0m\n\u001b[1;32m    344\u001b[0m response \u001b[39m=\u001b[39m \u001b[39mself\u001b[39m\u001b[39m.\u001b[39mcommand_executor\u001b[39m.\u001b[39mexecute(driver_command, params)\n\u001b[1;32m    345\u001b[0m \u001b[39mif\u001b[39;00m response:\n\u001b[0;32m--> 346\u001b[0m     \u001b[39mself\u001b[39;49m\u001b[39m.\u001b[39;49merror_handler\u001b[39m.\u001b[39;49mcheck_response(response)\n\u001b[1;32m    347\u001b[0m     response[\u001b[39m\"\u001b[39m\u001b[39mvalue\u001b[39m\u001b[39m\"\u001b[39m] \u001b[39m=\u001b[39m \u001b[39mself\u001b[39m\u001b[39m.\u001b[39m_unwrap_value(response\u001b[39m.\u001b[39mget(\u001b[39m\"\u001b[39m\u001b[39mvalue\u001b[39m\u001b[39m\"\u001b[39m, \u001b[39mNone\u001b[39;00m))\n\u001b[1;32m    348\u001b[0m     \u001b[39mreturn\u001b[39;00m response\n",
      "File \u001b[0;32m~/.pyenv/versions/3.10.11/envs/ezpz/lib/python3.10/site-packages/selenium/webdriver/remote/errorhandler.py:245\u001b[0m, in \u001b[0;36mErrorHandler.check_response\u001b[0;34m(self, response)\u001b[0m\n\u001b[1;32m    243\u001b[0m         alert_text \u001b[39m=\u001b[39m value[\u001b[39m\"\u001b[39m\u001b[39malert\u001b[39m\u001b[39m\"\u001b[39m]\u001b[39m.\u001b[39mget(\u001b[39m\"\u001b[39m\u001b[39mtext\u001b[39m\u001b[39m\"\u001b[39m)\n\u001b[1;32m    244\u001b[0m     \u001b[39mraise\u001b[39;00m exception_class(message, screen, stacktrace, alert_text)  \u001b[39m# type: ignore[call-arg]  # mypy is not smart enough here\u001b[39;00m\n\u001b[0;32m--> 245\u001b[0m \u001b[39mraise\u001b[39;00m exception_class(message, screen, stacktrace)\n",
      "\u001b[0;31mNoSuchElementException\u001b[0m: Message: no such element: Unable to locate element: {\"method\":\"css selector\",\"selector\":\"div.is_company_card > div:nth-child(1) > a\"}\n  (Session info: chrome=114.0.5735.198); For documentation on this error, please visit: https://www.selenium.dev/documentation/webdriver/troubleshooting/errors#no-such-element-exception\nStacktrace:\n0   chromedriver                        0x0000000102507f48 chromedriver + 4226888\n1   chromedriver                        0x00000001025004f4 chromedriver + 4195572\n2   chromedriver                        0x0000000102144d68 chromedriver + 281960\n3   chromedriver                        0x000000010217ffc8 chromedriver + 524232\n4   chromedriver                        0x00000001021b6c58 chromedriver + 748632\n5   chromedriver                        0x0000000102173f1c chromedriver + 474908\n6   chromedriver                        0x0000000102174ef4 chromedriver + 478964\n7   chromedriver                        0x00000001024c959c chromedriver + 3970460\n8   chromedriver                        0x00000001024cd6f0 chromedriver + 3987184\n9   chromedriver                        0x00000001024d35b4 chromedriver + 4011444\n10  chromedriver                        0x00000001024ce2fc chromedriver + 3990268\n11  chromedriver                        0x00000001024a61c0 chromedriver + 3826112\n12  chromedriver                        0x00000001024ea088 chromedriver + 4104328\n13  chromedriver                        0x00000001024ea1e0 chromedriver + 4104672\n14  chromedriver                        0x00000001024f9f28 chromedriver + 4169512\n15  libsystem_pthread.dylib             0x000000018b4ebfa8 _pthread_start + 148\n16  libsystem_pthread.dylib             0x000000018b4e6da0 thread_start + 8\n"
     ]
    }
   ],
   "source": [
    "###########################\n",
    "# 잡플래닛 검색창에 회사 입력하고 맨 처음에 나오는 기업 클릭하기.\n",
    "###########################\n",
    "\n",
    "# 검색창 누르기\n",
    "search_bar = browser.find_element(By.CSS_SELECTOR, \"#search_bar_search_query\")\n",
    "search_bar.click()\n",
    "\n",
    "try:\n",
    "  # 내가 원하는 회사 입력하기\n",
    "  want_cp = input()\n",
    "  search_bar.send_keys(want_cp)\n",
    "  search_bar.send_keys(Keys.RETURN)\n",
    "    \n",
    "  # 검색결과 기다리기.\n",
    "  time.sleep(2)\n",
    "\n",
    "  # 맨처음에 나오는 기업 클릭하기\n",
    "  company = browser.find_element(By.CSS_SELECTOR, \"div.is_company_card > div:nth-child(1) > a\")\n",
    "  company.click()\n",
    "\n",
    "# 회사를 잘못 기입했거나 회사가 없을 경우\n",
    "except NoSuchElementException:\n",
    "  # 에러메세지 띄우기\n",
    "  print(\"No search result found.\")\n",
    "  break\n",
    "\n",
    "# 다시 검색창 누르기\n",
    "search_bar = browser.find_element(By.CSS_SELECTOR, \"#search_bar_search_query\")\n",
    "search_bar.click()"
   ]
  },
  {
   "cell_type": "code",
   "execution_count": 60,
   "metadata": {},
   "outputs": [],
   "source": [
    "###########################\n",
    "# 회사페이지에서 팝업창 모두 닫기.\n",
    "###########################\n",
    "\n",
    "# 팝업창이 뜨면 그 팝업창을 없애는 버튼 만들기\n",
    "try:\n",
    "    pop_1 = browser.find_element_by_css_selector(\"div.premium_modal_header > button\")\n",
    "    pop_1.click()\n",
    "except:\n",
    "    pop_2 = browser.find_element(By.CSS_SELECTOR, \"#jpfollow_induce_panel > button\")\n",
    "    pop_2.click()"
   ]
  },
  {
   "cell_type": "code",
   "execution_count": 63,
   "metadata": {},
   "outputs": [],
   "source": [
    "section:nth-child(7) > div > div.ctbody_col2 > div > div.us_label_wrap > h2\n",
    "\n",
    "section:nth-child(4) > div > div.ctbody_col2 > div > div.us_label_wrap > h2"
   ]
  },
  {
   "cell_type": "code",
   "execution_count": 66,
   "metadata": {},
   "outputs": [],
   "source": [
    "###########################\n",
    "# 회사페이지에서 리뷰 가져오기.\n",
    "###########################\n",
    "def get_jp_company_list():\n",
    "    \"\"\"\n",
    "    잡플래닛 회사 리뷰 상세 내용을 url을 받아서 내용을 반환.\n",
    "    연결\n",
    "    \"\"\"\n",
    "    # 리뷰들을 리스트로 저장하는 변수\n",
    "    review_list = []\n",
    "    # 감지된 숫자 저장하는 변수\n",
    "    found_numbers = []\n",
    "\n",
    "    # 무한 루프를 돌기.\n",
    "    while True:\n",
    "        \n",
    "        # 소스 끌어오기.\n",
    "        html = browser.page_source\n",
    "        soup = BeautifulSoup(html, \"lxml\")\n",
    "        \n",
    "        # html 내용 가져오기\n",
    "        review = soup.select(\"div.us_label_wrap > h2\")\n",
    "        # 페이지 수 가져오기.\n",
    "        strong_elements = soup.select(\"article > strong\")\n",
    "\n",
    "        # 텍스트로 추출한 내용을 리스트에 추가해서 넣어주기 위해 이용.\n",
    "        for text in review : # for문은 for 채워져있는 값의 원소 in 채워져있는 리스트\n",
    "            review_list.append(text.get_text().strip())\n",
    "        time.sleep(2)\n",
    "\n",
    "        # 다음 페이지로 이동하기 위한 버튼을 찾기.\n",
    "        try:\n",
    "            next_btn = browser.find_element(By.CSS_SELECTOR,f\"a.btn_pgnext\")\n",
    "\n",
    "            # 버튼이 있으면 클릭합니다.\n",
    "            next_btn.click()\n",
    "\n",
    "            # 버튼 누르고나서 정보를 가져올때까지 슬립(몇초동안)걸어두기.\n",
    "            time.sleep(5)\n",
    "            \n",
    "        except:\n",
    "            break\n",
    "\n",
    "        # found_numbers 변수가 2번 등장하면 while 루프 빠져나오기.\n",
    "        if not next_btn:\n",
    "            break\n",
    "\n",
    "        # 각 요소에 대해:\n",
    "        for strong_element in strong_elements:\n",
    "            # 요소 안의 숫자 추출\n",
    "            number_in_element = int(strong_element.text.strip())\n",
    "\n",
    "            # 숫자가 found_numbers 변수에 2번 이상 등장했으면 루프를 종료 (break 사용)\n",
    "            if found_numbers.count(number_in_element) >= 1:\n",
    "                print(f\"Number {number_in_element} appeared twice\")\n",
    "                break\n",
    "            else:\n",
    "                # 숫자를 found_numbers 변수에 추가\n",
    "                found_numbers.append(number_in_element)\n",
    "\n",
    "    # 브라우저 끄기\n",
    "    # browser.close()\n",
    "\n",
    "    # 데이터프레임으로 관리하겠다 지정.\n",
    "    # return pd.DataFrame({\"jp_review\":review_list})\n",
    "# get_jp_company_list()"
   ]
  },
  {
   "cell_type": "code",
   "execution_count": null,
   "metadata": {},
   "outputs": [],
   "source": []
  }
 ],
 "metadata": {
  "kernelspec": {
   "display_name": "ezpz",
   "language": "python",
   "name": "python3"
  },
  "language_info": {
   "codemirror_mode": {
    "name": "ipython",
    "version": 3
   },
   "file_extension": ".py",
   "mimetype": "text/x-python",
   "name": "python",
   "nbconvert_exporter": "python",
   "pygments_lexer": "ipython3",
   "version": "3.10.11"
  },
  "orig_nbformat": 4
 },
 "nbformat": 4,
 "nbformat_minor": 2
}
