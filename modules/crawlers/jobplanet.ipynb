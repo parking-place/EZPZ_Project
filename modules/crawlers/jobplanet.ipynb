{
 "cells": [
  {
   "attachments": {},
   "cell_type": "markdown",
   "metadata": {},
   "source": [
    "# 모둘화됨"
   ]
  },
  {
   "cell_type": "code",
   "execution_count": 1,
   "metadata": {},
   "outputs": [],
   "source": [
    "from accounts import jp\n",
    "# jp.ID, jp.PW"
   ]
  },
  {
   "cell_type": "code",
   "execution_count": 2,
   "metadata": {},
   "outputs": [],
   "source": [
    "import os\n",
    "from datetime import datetime\n",
    "import time\n",
    "import requests\n",
    "import re\n",
    "\n",
    "import pandas as pd\n",
    "\n",
    "from bs4 import BeautifulSoup\n",
    "\n",
    "import selenium\n",
    "\n",
    "from selenium.webdriver.chrome.service import Service\n",
    "from selenium import webdriver\n",
    "from webdriver_manager.chrome import ChromeDriverManager\n",
    "\n",
    "from selenium.webdriver.common.by import By\n",
    "from selenium.webdriver.common.keys import Keys\n",
    "from selenium.common.exceptions import NoSuchElementException"
   ]
  },
  {
   "cell_type": "code",
   "execution_count": 22,
   "metadata": {},
   "outputs": [
    {
     "name": "stdout",
     "output_type": "stream",
     "text": [
      "{'width': 1512, 'height': 944}\n"
     ]
    }
   ],
   "source": [
    "############################\n",
    "# 크롬으로 잡플래닛 사이트 열기\n",
    "############################\n",
    "\n",
    "service = Service(executable_path=\"chromedriver.exe\")\n",
    "browser = webdriver.Chrome(service=service)\n",
    "\n",
    "url = r\"https://www.jobplanet.co.kr/job\"\n",
    "\n",
    "browser.maximize_window()\n",
    "print(browser.get_window_size())\n",
    "\n",
    "browser.get(r\"https://www.jobplanet.co.kr/job\")"
   ]
  },
  {
   "cell_type": "code",
   "execution_count": 23,
   "metadata": {},
   "outputs": [],
   "source": [
    "############################\n",
    "# 잡플래닛에 로그인 하기\n",
    "############################\n",
    "\n",
    "# 로그인 버튼 찾기 및 클릭\n",
    "login_btn = browser.find_element(By.CSS_SELECTOR,\"a.btn_txt.login\")\n",
    "login_btn.click()\n",
    "\n",
    "# 로그인 ID와 PW 쳐야할 곳 클릭 + 적기\n",
    "login_Id = browser.find_element(By.CSS_SELECTOR, \"#user_email\")\n",
    "login_Id.click()\n",
    "login_Id.send_keys(jp.ID)\n",
    "\n",
    "login_Pw = browser.find_element(By.CSS_SELECTOR, \"#user_password\")\n",
    "login_Pw.click()\n",
    "login_Pw.send_keys(jp.PW)\n",
    "\n",
    "# 이메일로 로그인 버튼 누르기\n",
    "em_log = browser.find_element(By.CSS_SELECTOR, \"fieldset > button\")\n",
    "em_log.click()"
   ]
  },
  {
   "cell_type": "code",
   "execution_count": 5,
   "metadata": {},
   "outputs": [],
   "source": [
    "# 모둘화됨"
   ]
  },
  {
   "cell_type": "code",
   "execution_count": 24,
   "metadata": {},
   "outputs": [],
   "source": [
    "###########################\n",
    "# 잡플래닛 검색창에 회사 입력하고 맨 처음에 나오는 기업 클릭하기.\n",
    "###########################\n",
    "# 검색창 누르기\n",
    "search_bar = browser.find_element(By.CSS_SELECTOR, \"#search_bar_search_query\")\n",
    "search_bar.click()\n",
    "\n",
    "# 내가 원하는 회사 입력하기\n",
    "want_cp = input()\n",
    "search_bar.send_keys(want_cp)\n",
    "search_bar.send_keys(Keys.RETURN)\n",
    "\n",
    "# 검색결과 기다리기.\n",
    "time.sleep(1)\n",
    "\n",
    "# 맨처음에 나오는 기업 클릭하기\n",
    "company = browser.find_element(By.CSS_SELECTOR, \"div.is_company_card > div:nth-child(1) > a\")\n",
    "company.click()"
   ]
  },
  {
   "cell_type": "code",
   "execution_count": 25,
   "metadata": {},
   "outputs": [],
   "source": [
    "###########################\n",
    "# 회사페이지에서 리뷰 버튼 누르기\n",
    "###########################\n",
    "# 팝업창이 있을 때는 팝업창 버튼을 누르고 리뷰버튼을 누르기\n",
    "try:\n",
    "    pop = browser.find_element(By.CSS_SELECTOR, \"div.premium_modal_header > button\")\n",
    "    pop.click()\n",
    "    review_bar = browser.find_element(By.CSS_SELECTOR, \"li.viewReviews > a\")\n",
    "    review_bar.click()\n",
    "\n",
    "except NoSuchElementException:\n",
    "    # 만약 팝업창 버튼이 없다면 리뷰 버튼만 누르기\n",
    "    try:\n",
    "        review_bar = browser.find_element(By.CSS_SELECTOR, \"li.viewReviews > a\")\n",
    "        review_bar.click()\n",
    "        time.sleep(1)\n",
    "        pop = browser.find_element(By.CSS_SELECTOR, \"div.premium_modal_header > button\")\n",
    "        pop.click()\n",
    "    except NoSuchElementException:\n",
    "        pass\n",
    "    pass"
   ]
  },
  {
   "cell_type": "code",
   "execution_count": 26,
   "metadata": {},
   "outputs": [
    {
     "name": "stdout",
     "output_type": "stream",
     "text": [
      "5\n",
      "10\n",
      "15\n",
      "20\n",
      "25\n",
      "30\n",
      "35\n",
      "40\n",
      "45\n",
      "50\n",
      "55\n",
      "60\n",
      "65\n"
     ]
    }
   ],
   "source": [
    "###########################\n",
    "# 회사페이지에서 리뷰 가져오기.\n",
    "###########################\n",
    "def get_jp_reviews():\n",
    "    \"\"\"\n",
    "    잡플래닛 회사 리뷰 상세 내용을 url을 받아서 내용을 반환.\n",
    "    연결\n",
    "    \"\"\"\n",
    "    # 리뷰들을 리스트로 저장하는 변수\n",
    "    good_review_list = []\n",
    "    bad_review_list = []\n",
    "\n",
    "    # 이전페이지 변수\n",
    "    pre_page = 0\n",
    "\n",
    "    # 무한 루프를 돌기.\n",
    "    while True:\n",
    "\n",
    "        # 소스 끌어오기.\n",
    "        html = browser.page_source\n",
    "        soup = BeautifulSoup(html, \"lxml\")\n",
    "\n",
    "        # 현재 페이지의 숫자를 가져오기.\n",
    "        crt_btn = soup.select_one('strong.txtlink_page')\n",
    "        crt_page = int(crt_btn.text.strip())\n",
    "\n",
    "        # 다음버튼을 눌렀은데도 같은 페이지인 경우\n",
    "        if crt_page == pre_page:\n",
    "            break\n",
    "\n",
    "        # html 내용 가져오기\n",
    "        good_review = soup.select(\"section > div > div.ctbody_col2 > div > dl > dd:nth-child(2) > span\")\n",
    "        bad_review = soup.select(\"section > div > div.ctbody_col2 > div > dl > dd:nth-child(4) > span\")\n",
    "\n",
    "        # 텍스트로 추출한 내용을 리스트에 추가해서 넣어주기 위해 이용.\n",
    "        for good_text in good_review: # for문은 for 채워져있는 값의 원소 in 채워져있는 리스트\n",
    "            # 데이터 전처리\n",
    "            good_text_clean_1 = good_text.get_text().strip()\n",
    "            good_text_clean_2 = good_text_clean_1.replace(\"\\n\", \" \")\n",
    "\n",
    "            # 장점 리뷰에 넣기.\n",
    "            good_review_list.append(good_text_clean_2)\n",
    "\n",
    "        for bad_text in bad_review:\n",
    "            # 데이터 전처리\n",
    "            bad_text_clean_1 = bad_text.get_text().strip()\n",
    "            bad_text_clean_2 = bad_text_clean_1.replace(\"\\n\", \" \")\n",
    "\n",
    "            # 단점 리뷰에 넣기.\n",
    "            bad_review_list.append(bad_text_clean_2)\n",
    "\n",
    "        time.sleep(1)\n",
    "\n",
    "        # 다음 페이지로 이동하기 위한 버튼을 찾기.\n",
    "        try:\n",
    "            # 이전페이지의 번호를 갱신하기.\n",
    "            pre_page = crt_page\n",
    "\n",
    "            # 다음 버튼 찾기\n",
    "            next_btn = browser.find_element(By.CSS_SELECTOR,f\"a.btn_pgnext\")\n",
    "\n",
    "            # 버튼이 있으면 클릭합니다.\n",
    "            next_btn.click()\n",
    "\n",
    "            # 버튼 누르고나서 정보를 가져올때까지 슬립(몇초동안)걸어두기.\n",
    "            time.sleep(3)\n",
    "\n",
    "        except:\n",
    "            break\n",
    "\n",
    "        # local에 디렉토리를 생성.\n",
    "        save_path = f\"/Users/gyeonmunju/Desktop/PlayData/jp_company\"\n",
    "        os.makedirs(save_path, exist_ok=True)\n",
    "\n",
    "        # 데이터프레임으로 관리하겠다 지정. (데이터 생성하기.)\n",
    "        good_df = pd.DataFrame({\"긍정적 리뷰\" : good_review_list})\n",
    "        bad_df = pd.DataFrame({\"부정적 리뷰\" : bad_review_list})\n",
    "        # 긍정적/부정적 리뷰 합치기\n",
    "        jp_df = good_df.join(bad_df)\n",
    "\n",
    "        # csv 파일로 저장.\n",
    "        file_name = f\"{want_cp}reviews.csv\"\n",
    "        save_file_path = os.path.join(save_path, file_name)\n",
    "        jp_df.to_csv(save_file_path, index=False, encoding = \"utf-8\")\n",
    "\n",
    "        print(len(jp_df.index))\n",
    "        # 데이터프레임의 인덱스 개수 확인 후 60개를 초과하면 다음 코드로 넘어가기.\n",
    "        if len(jp_df.index) > 60:\n",
    "            break\n",
    "\n",
    "    return jp_df\n",
    "\n",
    "# 함수 호출 후 결과 출력\n",
    "get_jp_reviews()\n",
    "\n",
    "# 브라우저 끄기\n",
    "browser.close()"
   ]
  },
  {
   "cell_type": "code",
   "execution_count": null,
   "metadata": {},
   "outputs": [
    {
     "data": {
      "text/html": [
       "<div>\n",
       "<style scoped>\n",
       "    .dataframe tbody tr th:only-of-type {\n",
       "        vertical-align: middle;\n",
       "    }\n",
       "\n",
       "    .dataframe tbody tr th {\n",
       "        vertical-align: top;\n",
       "    }\n",
       "\n",
       "    .dataframe thead th {\n",
       "        text-align: right;\n",
       "    }\n",
       "</style>\n",
       "<table border=\"1\" class=\"dataframe\">\n",
       "  <thead>\n",
       "    <tr style=\"text-align: right;\">\n",
       "      <th></th>\n",
       "      <th>jp_review</th>\n",
       "    </tr>\n",
       "  </thead>\n",
       "  <tbody>\n",
       "    <tr>\n",
       "      <th>0</th>\n",
       "      <td>너무 급성장 했는지 아직까지도 갖춰진 체계는 없는데 뭔가를 많이 하려고 하는 회사.</td>\n",
       "    </tr>\n",
       "    <tr>\n",
       "      <th>1</th>\n",
       "      <td>모든게 금방 바뀌는 곳 한가지가 오래 가는 일이 없음</td>\n",
       "    </tr>\n",
       "    <tr>\n",
       "      <th>2</th>\n",
       "      <td>빠른 성장이 이루어지는 곳. 그러나 이를 감당할 리더의 부재.</td>\n",
       "    </tr>\n",
       "    <tr>\n",
       "      <th>3</th>\n",
       "      <td>브랜드 인지도 높고 희소성이 있어 대부분의 사람들이 알고 있음. 단백질 시장에서 자...</td>\n",
       "    </tr>\n",
       "    <tr>\n",
       "      <th>4</th>\n",
       "      <td>자율적인 분위기에 고속 성장을 이뤄나가고 있는 식품 스타트업</td>\n",
       "    </tr>\n",
       "    <tr>\n",
       "      <th>...</th>\n",
       "      <td>...</td>\n",
       "    </tr>\n",
       "    <tr>\n",
       "      <th>70</th>\n",
       "      <td>알바당시엔 굉장히 괜찮은 곳이었어요 직원분들도 다 좋아보였구요</td>\n",
       "    </tr>\n",
       "    <tr>\n",
       "      <th>71</th>\n",
       "      <td>자기만의 시간을 가지고 싶거나 워라밸이 중요하다면 추천하지않아요</td>\n",
       "    </tr>\n",
       "    <tr>\n",
       "      <th>72</th>\n",
       "      <td>겉보기와는 달리 매우 보수적인 회사. 야근을 강요하는 분위기. 그렇다고 효율적인 야...</td>\n",
       "    </tr>\n",
       "    <tr>\n",
       "      <th>73</th>\n",
       "      <td>랩노쉬 이미지같은 곳을 기대했다면 실망할것 투자나 외부의견에 영향을 많이 받는다</td>\n",
       "    </tr>\n",
       "    <tr>\n",
       "      <th>74</th>\n",
       "      <td>최근 여러 곳에서 투자유치 받아 내실을 다지고 있는중</td>\n",
       "    </tr>\n",
       "  </tbody>\n",
       "</table>\n",
       "<p>75 rows × 1 columns</p>\n",
       "</div>"
      ],
      "text/plain": [
       "                                            jp_review\n",
       "0      너무 급성장 했는지 아직까지도 갖춰진 체계는 없는데 뭔가를 많이 하려고 하는 회사.\n",
       "1                       모든게 금방 바뀌는 곳 한가지가 오래 가는 일이 없음\n",
       "2                  빠른 성장이 이루어지는 곳. 그러나 이를 감당할 리더의 부재.\n",
       "3   브랜드 인지도 높고 희소성이 있어 대부분의 사람들이 알고 있음. 단백질 시장에서 자...\n",
       "4                   자율적인 분위기에 고속 성장을 이뤄나가고 있는 식품 스타트업\n",
       "..                                                ...\n",
       "70                 알바당시엔 굉장히 괜찮은 곳이었어요 직원분들도 다 좋아보였구요\n",
       "71                자기만의 시간을 가지고 싶거나 워라밸이 중요하다면 추천하지않아요\n",
       "72  겉보기와는 달리 매우 보수적인 회사. 야근을 강요하는 분위기. 그렇다고 효율적인 야...\n",
       "73       랩노쉬 이미지같은 곳을 기대했다면 실망할것 투자나 외부의견에 영향을 많이 받는다\n",
       "74                      최근 여러 곳에서 투자유치 받아 내실을 다지고 있는중\n",
       "\n",
       "[75 rows x 1 columns]"
      ]
     },
     "execution_count": 81,
     "metadata": {},
     "output_type": "execute_result"
    }
   ],
   "source": [
    "df1 = pd.read_csv(\"/Users/gyeonmunju/Desktop/PlayData/jp_company/이그니스reviews.csv\")\n",
    "df1"
   ]
  },
  {
   "cell_type": "code",
   "execution_count": null,
   "metadata": {},
   "outputs": [
    {
     "name": "stdout",
     "output_type": "stream",
     "text": [
      "{'width': 800, 'height': 600}\n"
     ]
    },
    {
     "data": {
      "text/html": [
       "<div>\n",
       "<style scoped>\n",
       "    .dataframe tbody tr th:only-of-type {\n",
       "        vertical-align: middle;\n",
       "    }\n",
       "\n",
       "    .dataframe tbody tr th {\n",
       "        vertical-align: top;\n",
       "    }\n",
       "\n",
       "    .dataframe thead th {\n",
       "        text-align: right;\n",
       "    }\n",
       "</style>\n",
       "<table border=\"1\" class=\"dataframe\">\n",
       "  <thead>\n",
       "    <tr style=\"text-align: right;\">\n",
       "      <th></th>\n",
       "      <th>긍정적 리뷰</th>\n",
       "      <th>부정적 리뷰</th>\n",
       "    </tr>\n",
       "  </thead>\n",
       "  <tbody>\n",
       "    <tr>\n",
       "      <th>0</th>\n",
       "      <td>스타트업임에도 불구하고 야근이 거의 없는 편 능력있고 좋은 동료</td>\n",
       "      <td>능력있고 좋은 동료들이지만 지인으로서 좋겠지만 직장 동료로서는 단점이다.  사업의 ...</td>\n",
       "    </tr>\n",
       "    <tr>\n",
       "      <th>1</th>\n",
       "      <td>20-30대로 이루어져 수평적이고 젊은 분위기이며,  서비스의 성장을 위해 모두 함...</td>\n",
       "      <td>건물 시설이 노후한 편이다. 스타트업 특성상 체계가 잡히지 않은 부분들이 있으나 만...</td>\n",
       "    </tr>\n",
       "    <tr>\n",
       "      <th>2</th>\n",
       "      <td>성실함, 노력을 바탕으로 자신의 능력을 증명하면 회사가 많은 기회를 줄 수 있음. ...</td>\n",
       "      <td>마켓핏을 찾기위해 잦은 사업방향 전환이 업무의 피로도를 높일 수 있음. 사무실이 위...</td>\n",
       "    </tr>\n",
       "    <tr>\n",
       "      <th>3</th>\n",
       "      <td>사람간 스트레스가 거의 없는 편임. 연차를 눈치 안보고 편하게 쓸 수 있음. 호칭을...</td>\n",
       "      <td>사무실 위치가 몽촌토성역, 잠실역 근처에 있어 접근성은 좋으나 건물이 노후화 되었음</td>\n",
       "    </tr>\n",
       "    <tr>\n",
       "      <th>4</th>\n",
       "      <td>회사에 직접적인 여향을 미치는 책임감 있는 역할을 맡을 수 있다.  팀원들도 항상 ...</td>\n",
       "      <td>성장하는 스타트업이기 때문에 쳬계적이고 조직적으로 운영되는 것이 조금 어려울 때도 ...</td>\n",
       "    </tr>\n",
       "  </tbody>\n",
       "</table>\n",
       "</div>"
      ],
      "text/plain": [
       "                                              긍정적 리뷰  \\\n",
       "0                스타트업임에도 불구하고 야근이 거의 없는 편 능력있고 좋은 동료   \n",
       "1  20-30대로 이루어져 수평적이고 젊은 분위기이며,  서비스의 성장을 위해 모두 함...   \n",
       "2  성실함, 노력을 바탕으로 자신의 능력을 증명하면 회사가 많은 기회를 줄 수 있음. ...   \n",
       "3  사람간 스트레스가 거의 없는 편임. 연차를 눈치 안보고 편하게 쓸 수 있음. 호칭을...   \n",
       "4  회사에 직접적인 여향을 미치는 책임감 있는 역할을 맡을 수 있다.  팀원들도 항상 ...   \n",
       "\n",
       "                                              부정적 리뷰  \n",
       "0  능력있고 좋은 동료들이지만 지인으로서 좋겠지만 직장 동료로서는 단점이다.  사업의 ...  \n",
       "1  건물 시설이 노후한 편이다. 스타트업 특성상 체계가 잡히지 않은 부분들이 있으나 만...  \n",
       "2  마켓핏을 찾기위해 잦은 사업방향 전환이 업무의 피로도를 높일 수 있음. 사무실이 위...  \n",
       "3     사무실 위치가 몽촌토성역, 잠실역 근처에 있어 접근성은 좋으나 건물이 노후화 되었음  \n",
       "4  성장하는 스타트업이기 때문에 쳬계적이고 조직적으로 운영되는 것이 조금 어려울 때도 ...  "
      ]
     },
     "execution_count": 6,
     "metadata": {},
     "output_type": "execute_result"
    }
   ],
   "source": [
    "from jobplanet import get_jp_reviews\n",
    "get_jp_reviews(\"제너레잇\")"
   ]
  },
  {
   "cell_type": "code",
   "execution_count": null,
   "metadata": {},
   "outputs": [],
   "source": []
  },
  {
   "attachments": {},
   "cell_type": "markdown",
   "metadata": {},
   "source": [
    "# 테스트"
   ]
  },
  {
   "cell_type": "code",
   "execution_count": null,
   "metadata": {},
   "outputs": [],
   "source": [
    "from jobplanet import get_jp_reviews\n",
    "comp = '넥슨코리아'"
   ]
  },
  {
   "cell_type": "code",
   "execution_count": null,
   "metadata": {},
   "outputs": [
    {
     "name": "stdout",
     "output_type": "stream",
     "text": [
      "{'width': 800, 'height': 600}\n"
     ]
    },
    {
     "ename": "WebDriverException",
     "evalue": "Message: unknown error: session deleted because of page crash\nfrom unknown error: cannot determine loading status\nfrom tab crashed\n  (Session info: headless chrome=114.0.5735.198)\nStacktrace:\n0   chromedriver                        0x000000010295bf48 chromedriver + 4226888\n1   chromedriver                        0x00000001029544f4 chromedriver + 4195572\n2   chromedriver                        0x0000000102598be8 chromedriver + 281576\n3   chromedriver                        0x000000010258266c chromedriver + 190060\n4   chromedriver                        0x0000000102581304 chromedriver + 185092\n5   chromedriver                        0x000000010258178c chromedriver + 186252\n6   chromedriver                        0x000000010258f514 chromedriver + 242964\n7   chromedriver                        0x00000001025a303c chromedriver + 323644\n8   chromedriver                        0x0000000102581c8c chromedriver + 187532\n9   chromedriver                        0x00000001025a2d54 chromedriver + 322900\n10  chromedriver                        0x000000010260abc4 chromedriver + 748484\n11  chromedriver                        0x00000001025c7f1c chromedriver + 474908\n12  chromedriver                        0x00000001025c8ef4 chromedriver + 478964\n13  chromedriver                        0x000000010291d59c chromedriver + 3970460\n14  chromedriver                        0x00000001029216f0 chromedriver + 3987184\n15  chromedriver                        0x00000001029275b4 chromedriver + 4011444\n16  chromedriver                        0x00000001029222fc chromedriver + 3990268\n17  chromedriver                        0x00000001028fa1c0 chromedriver + 3826112\n18  chromedriver                        0x000000010293e088 chromedriver + 4104328\n19  chromedriver                        0x000000010293e1e0 chromedriver + 4104672\n20  chromedriver                        0x000000010294df28 chromedriver + 4169512\n21  libsystem_pthread.dylib             0x000000018b4ebfa8 _pthread_start + 148\n22  libsystem_pthread.dylib             0x000000018b4e6da0 thread_start + 8\n",
     "output_type": "error",
     "traceback": [
      "\u001b[0;31m---------------------------------------------------------------------------\u001b[0m",
      "\u001b[0;31mWebDriverException\u001b[0m                        Traceback (most recent call last)",
      "Cell \u001b[0;32mIn[2], line 1\u001b[0m\n\u001b[0;32m----> 1\u001b[0m get_jp_reviews(comp)\n",
      "File \u001b[0;32m~/Desktop/PlayData/MiniProj/modules/crawlers/jobplanet.py:133\u001b[0m, in \u001b[0;36mget_jp_reviews\u001b[0;34m(company_name)\u001b[0m\n\u001b[1;32m    129\u001b[0m \u001b[39m# 무한 루프를 돌기.\u001b[39;00m\n\u001b[1;32m    130\u001b[0m \u001b[39mwhile\u001b[39;00m \u001b[39mTrue\u001b[39;00m:\n\u001b[1;32m    131\u001b[0m \n\u001b[1;32m    132\u001b[0m     \u001b[39m# 소스 끌어오기.\u001b[39;00m\n\u001b[0;32m--> 133\u001b[0m     html \u001b[39m=\u001b[39m browser\u001b[39m.\u001b[39;49mpage_source\n\u001b[1;32m    134\u001b[0m     soup \u001b[39m=\u001b[39m BeautifulSoup(html, \u001b[39m\"\u001b[39m\u001b[39mlxml\u001b[39m\u001b[39m\"\u001b[39m)\n\u001b[1;32m    136\u001b[0m     \u001b[39m# 현재 페이지의 숫자를 가져오기.\u001b[39;00m\n",
      "File \u001b[0;32m~/.pyenv/versions/3.10.11/envs/ezpz/lib/python3.10/site-packages/selenium/webdriver/remote/webdriver.py:447\u001b[0m, in \u001b[0;36mWebDriver.page_source\u001b[0;34m(self)\u001b[0m\n\u001b[1;32m    438\u001b[0m \u001b[39m@property\u001b[39m\n\u001b[1;32m    439\u001b[0m \u001b[39mdef\u001b[39;00m \u001b[39mpage_source\u001b[39m(\u001b[39mself\u001b[39m) \u001b[39m-\u001b[39m\u001b[39m>\u001b[39m \u001b[39mstr\u001b[39m:\n\u001b[1;32m    440\u001b[0m \u001b[39m    \u001b[39m\u001b[39m\"\"\"Gets the source of the current page.\u001b[39;00m\n\u001b[1;32m    441\u001b[0m \n\u001b[1;32m    442\u001b[0m \u001b[39m    :Usage:\u001b[39;00m\n\u001b[0;32m   (...)\u001b[0m\n\u001b[1;32m    445\u001b[0m \u001b[39m            driver.page_source\u001b[39;00m\n\u001b[1;32m    446\u001b[0m \u001b[39m    \"\"\"\u001b[39;00m\n\u001b[0;32m--> 447\u001b[0m     \u001b[39mreturn\u001b[39;00m \u001b[39mself\u001b[39;49m\u001b[39m.\u001b[39;49mexecute(Command\u001b[39m.\u001b[39;49mGET_PAGE_SOURCE)[\u001b[39m\"\u001b[39m\u001b[39mvalue\u001b[39m\u001b[39m\"\u001b[39m]\n",
      "File \u001b[0;32m~/.pyenv/versions/3.10.11/envs/ezpz/lib/python3.10/site-packages/selenium/webdriver/remote/webdriver.py:346\u001b[0m, in \u001b[0;36mWebDriver.execute\u001b[0;34m(self, driver_command, params)\u001b[0m\n\u001b[1;32m    344\u001b[0m response \u001b[39m=\u001b[39m \u001b[39mself\u001b[39m\u001b[39m.\u001b[39mcommand_executor\u001b[39m.\u001b[39mexecute(driver_command, params)\n\u001b[1;32m    345\u001b[0m \u001b[39mif\u001b[39;00m response:\n\u001b[0;32m--> 346\u001b[0m     \u001b[39mself\u001b[39;49m\u001b[39m.\u001b[39;49merror_handler\u001b[39m.\u001b[39;49mcheck_response(response)\n\u001b[1;32m    347\u001b[0m     response[\u001b[39m\"\u001b[39m\u001b[39mvalue\u001b[39m\u001b[39m\"\u001b[39m] \u001b[39m=\u001b[39m \u001b[39mself\u001b[39m\u001b[39m.\u001b[39m_unwrap_value(response\u001b[39m.\u001b[39mget(\u001b[39m\"\u001b[39m\u001b[39mvalue\u001b[39m\u001b[39m\"\u001b[39m, \u001b[39mNone\u001b[39;00m))\n\u001b[1;32m    348\u001b[0m     \u001b[39mreturn\u001b[39;00m response\n",
      "File \u001b[0;32m~/.pyenv/versions/3.10.11/envs/ezpz/lib/python3.10/site-packages/selenium/webdriver/remote/errorhandler.py:245\u001b[0m, in \u001b[0;36mErrorHandler.check_response\u001b[0;34m(self, response)\u001b[0m\n\u001b[1;32m    243\u001b[0m         alert_text \u001b[39m=\u001b[39m value[\u001b[39m\"\u001b[39m\u001b[39malert\u001b[39m\u001b[39m\"\u001b[39m]\u001b[39m.\u001b[39mget(\u001b[39m\"\u001b[39m\u001b[39mtext\u001b[39m\u001b[39m\"\u001b[39m)\n\u001b[1;32m    244\u001b[0m     \u001b[39mraise\u001b[39;00m exception_class(message, screen, stacktrace, alert_text)  \u001b[39m# type: ignore[call-arg]  # mypy is not smart enough here\u001b[39;00m\n\u001b[0;32m--> 245\u001b[0m \u001b[39mraise\u001b[39;00m exception_class(message, screen, stacktrace)\n",
      "\u001b[0;31mWebDriverException\u001b[0m: Message: unknown error: session deleted because of page crash\nfrom unknown error: cannot determine loading status\nfrom tab crashed\n  (Session info: headless chrome=114.0.5735.198)\nStacktrace:\n0   chromedriver                        0x000000010295bf48 chromedriver + 4226888\n1   chromedriver                        0x00000001029544f4 chromedriver + 4195572\n2   chromedriver                        0x0000000102598be8 chromedriver + 281576\n3   chromedriver                        0x000000010258266c chromedriver + 190060\n4   chromedriver                        0x0000000102581304 chromedriver + 185092\n5   chromedriver                        0x000000010258178c chromedriver + 186252\n6   chromedriver                        0x000000010258f514 chromedriver + 242964\n7   chromedriver                        0x00000001025a303c chromedriver + 323644\n8   chromedriver                        0x0000000102581c8c chromedriver + 187532\n9   chromedriver                        0x00000001025a2d54 chromedriver + 322900\n10  chromedriver                        0x000000010260abc4 chromedriver + 748484\n11  chromedriver                        0x00000001025c7f1c chromedriver + 474908\n12  chromedriver                        0x00000001025c8ef4 chromedriver + 478964\n13  chromedriver                        0x000000010291d59c chromedriver + 3970460\n14  chromedriver                        0x00000001029216f0 chromedriver + 3987184\n15  chromedriver                        0x00000001029275b4 chromedriver + 4011444\n16  chromedriver                        0x00000001029222fc chromedriver + 3990268\n17  chromedriver                        0x00000001028fa1c0 chromedriver + 3826112\n18  chromedriver                        0x000000010293e088 chromedriver + 4104328\n19  chromedriver                        0x000000010293e1e0 chromedriver + 4104672\n20  chromedriver                        0x000000010294df28 chromedriver + 4169512\n21  libsystem_pthread.dylib             0x000000018b4ebfa8 _pthread_start + 148\n22  libsystem_pthread.dylib             0x000000018b4e6da0 thread_start + 8\n"
     ]
    }
   ],
   "source": [
    "get_jp_reviews(comp)"
   ]
  },
  {
   "cell_type": "code",
   "execution_count": null,
   "metadata": {},
   "outputs": [],
   "source": []
  }
 ],
 "metadata": {
  "kernelspec": {
   "display_name": "ezpz",
   "language": "python",
   "name": "python3"
  },
  "language_info": {
   "codemirror_mode": {
    "name": "ipython",
    "version": 3
   },
   "file_extension": ".py",
   "mimetype": "text/x-python",
   "name": "python",
   "nbconvert_exporter": "python",
   "pygments_lexer": "ipython3",
   "version": "3.10.11"
  },
  "orig_nbformat": 4
 },
 "nbformat": 4,
 "nbformat_minor": 2
}
