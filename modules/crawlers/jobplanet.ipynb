{
 "cells": [
  {
   "cell_type": "code",
   "execution_count": 66,
   "metadata": {},
   "outputs": [],
   "source": [
    "from accounts import jp\n",
    "# jp.ID, jp.PW"
   ]
  },
  {
   "cell_type": "code",
   "execution_count": 67,
   "metadata": {},
   "outputs": [],
   "source": [
    "import os\n",
    "from datetime import datetime\n",
    "import time\n",
    "import requests\n",
    "import re\n",
    "\n",
    "import pandas as pd\n",
    "\n",
    "from bs4 import BeautifulSoup\n",
    "\n",
    "import selenium\n",
    "\n",
    "\n",
    "from selenium.webdriver.chrome.service import Service\n",
    "from selenium import webdriver\n",
    "from webdriver_manager.chrome import ChromeDriverManager\n",
    "\n",
    "from selenium.webdriver.common.by import By\n",
    "from selenium.webdriver.common.keys import Keys"
   ]
  },
  {
   "cell_type": "code",
   "execution_count": 99,
   "metadata": {},
   "outputs": [
    {
     "name": "stdout",
     "output_type": "stream",
     "text": [
      "{'width': 1512, 'height': 944}\n"
     ]
    }
   ],
   "source": [
    "############################\n",
    "# 크롬으로 잡플래닛 사이트 열기\n",
    "############################\n",
    "\n",
    "service = Service(executable_path=\"chromedriver.exe\")\n",
    "browser = webdriver.Chrome(service=service)\n",
    "\n",
    "url = r\"https://www.jobplanet.co.kr/job\"\n",
    "\n",
    "browser.maximize_window()\n",
    "print(browser.get_window_size())\n",
    "\n",
    "browser.get(r\"https://www.jobplanet.co.kr/job\")"
   ]
  },
  {
   "cell_type": "code",
   "execution_count": 100,
   "metadata": {},
   "outputs": [],
   "source": [
    "############################\n",
    "# 잡플래닛에 로그인 하기\n",
    "############################\n",
    "\n",
    "# 로그인 버튼 찾기 및 클릭\n",
    "login_btn = browser.find_element(By.CSS_SELECTOR,\"a.btn_txt.login\")\n",
    "login_btn.click()\n",
    "\n",
    "# 로그인 ID와 PW 쳐야할 곳 클릭 + 적기\n",
    "login_Id = browser.find_element(By.CSS_SELECTOR, \"#user_email\")\n",
    "login_Id.click()\n",
    "login_Id.send_keys(jp.ID)\n",
    "\n",
    "login_Pw = browser.find_element(By.CSS_SELECTOR, \"#user_password\")\n",
    "login_Pw.click()\n",
    "login_Pw.send_keys(jp.PW)\n",
    "\n",
    "# 이메일로 로그인 버튼 누르기\n",
    "em_log = browser.find_element(By.CSS_SELECTOR, \"fieldset > button\")\n",
    "em_log.click()"
   ]
  },
  {
   "cell_type": "code",
   "execution_count": 101,
   "metadata": {},
   "outputs": [],
   "source": [
    "###########################\n",
    "# 잡플래닛 검색창에 회사 입력하고 맨 처음에 나오는 기업 클릭하기.\n",
    "###########################\n",
    "# 검색창 누르기\n",
    "search_bar = browser.find_element(By.CSS_SELECTOR, \"#search_bar_search_query\")\n",
    "search_bar.click()\n",
    "\n",
    "# 내가 원하는 회사 입력하기\n",
    "want_cp = input()\n",
    "search_bar.send_keys(want_cp)\n",
    "search_bar.send_keys(Keys.RETURN)\n",
    "\n",
    "# 검색결과 기다리기.\n",
    "time.sleep(1)\n",
    "\n",
    "# 맨처음에 나오는 기업 클릭하기\n",
    "company = browser.find_element(By.CSS_SELECTOR, \"div.is_company_card > div:nth-child(1) > a\")\n",
    "company.click()"
   ]
  },
  {
   "cell_type": "code",
   "execution_count": 102,
   "metadata": {},
   "outputs": [],
   "source": [
    "###########################\n",
    "# 회사페이지에서 팝업창 모두 닫기.\n",
    "###########################\n",
    "\n",
    "# 팝업창이 뜨면 그 팝업창을 없애는 버튼 만들기\n",
    "try:\n",
    "    pop_1 = browser.find_element(By.CSS_SELECTOR, \"div.premium_modal_header > button\")\n",
    "    pop_1.click()\n",
    "except:\n",
    "    try:\n",
    "        pop_2 = browser.find_element(By.CSS_SELECTOR, \"#jpfollow_induce_panel > button > i\")\n",
    "        pop_2.click()\n",
    "    except:\n",
    "        # 만약 팝업창이 없다면 에러메세지만 띄우고 다음 코드로 넘기기.\n",
    "        if not (pop_1 in locals() and pop_2 in locals()):\n",
    "            print('NoSuchElementException')\n",
    "        pass"
   ]
  },
  {
   "cell_type": "code",
   "execution_count": 103,
   "metadata": {},
   "outputs": [],
   "source": [
    "###########################\n",
    "# 회사페이지에서 리뷰 버튼 누르기\n",
    "###########################\n",
    "try:\n",
    "    review_bar = browser.find_element(By.CSS_SELECTOR, \"li.viewReviews > a\")\n",
    "    review_bar.click()\n",
    "except:\n",
    "    # 만약 리뷰바가 보이지않는다면 팝업창을 없애라\n",
    "    if not review_bar in locals():\n",
    "        pop_1 = browser.find_element(By.CSS_SELECTOR, \"div.premium_modal_header > button\")\n",
    "        pop_1.click()\n",
    "    pass"
   ]
  },
  {
   "cell_type": "code",
   "execution_count": 104,
   "metadata": {},
   "outputs": [
    {
     "ename": "IsADirectoryError",
     "evalue": "[Errno 21] Is a directory: '/Users/gyeonmunju/Desktop/PlayData/jp_company/'",
     "output_type": "error",
     "traceback": [
      "\u001b[0;31m---------------------------------------------------------------------------\u001b[0m",
      "\u001b[0;31mIsADirectoryError\u001b[0m                         Traceback (most recent call last)",
      "Cell \u001b[0;32mIn[104], line 70\u001b[0m\n\u001b[1;32m     67\u001b[0m     \u001b[39mreturn\u001b[39;00m jp_df\n\u001b[1;32m     69\u001b[0m \u001b[39m# 함수 호출 후 결과 출력\u001b[39;00m\n\u001b[0;32m---> 70\u001b[0m get_jp_reviews()\n\u001b[1;32m     72\u001b[0m \u001b[39m# 브라우저 끄기\u001b[39;00m\n\u001b[1;32m     73\u001b[0m browser\u001b[39m.\u001b[39mclose()\n",
      "Cell \u001b[0;32mIn[104], line 65\u001b[0m, in \u001b[0;36mget_jp_reviews\u001b[0;34m()\u001b[0m\n\u001b[1;32m     62\u001b[0m     jp_df \u001b[39m=\u001b[39m pd\u001b[39m.\u001b[39mDataFrame(review_list, columns\u001b[39m=\u001b[39m[\u001b[39mf\u001b[39m\u001b[39m\"\u001b[39m\u001b[39mreviews\u001b[39m\u001b[39m\"\u001b[39m])\n\u001b[1;32m     64\u001b[0m     \u001b[39m# csv 파일로 저장.\u001b[39;00m\n\u001b[0;32m---> 65\u001b[0m     jp_df\u001b[39m.\u001b[39;49mto_csv(save_path, index \u001b[39m=\u001b[39;49m \u001b[39mTrue\u001b[39;49;00m, encoding \u001b[39m=\u001b[39;49m \u001b[39m\"\u001b[39;49m\u001b[39mutf-8\u001b[39;49m\u001b[39m\"\u001b[39;49m)\n\u001b[1;32m     67\u001b[0m \u001b[39mreturn\u001b[39;00m jp_df\n",
      "File \u001b[0;32m~/.pyenv/versions/3.10.11/envs/ezpz/lib/python3.10/site-packages/pandas/core/generic.py:3772\u001b[0m, in \u001b[0;36mNDFrame.to_csv\u001b[0;34m(self, path_or_buf, sep, na_rep, float_format, columns, header, index, index_label, mode, encoding, compression, quoting, quotechar, lineterminator, chunksize, date_format, doublequote, escapechar, decimal, errors, storage_options)\u001b[0m\n\u001b[1;32m   3761\u001b[0m df \u001b[39m=\u001b[39m \u001b[39mself\u001b[39m \u001b[39mif\u001b[39;00m \u001b[39misinstance\u001b[39m(\u001b[39mself\u001b[39m, ABCDataFrame) \u001b[39melse\u001b[39;00m \u001b[39mself\u001b[39m\u001b[39m.\u001b[39mto_frame()\n\u001b[1;32m   3763\u001b[0m formatter \u001b[39m=\u001b[39m DataFrameFormatter(\n\u001b[1;32m   3764\u001b[0m     frame\u001b[39m=\u001b[39mdf,\n\u001b[1;32m   3765\u001b[0m     header\u001b[39m=\u001b[39mheader,\n\u001b[0;32m   (...)\u001b[0m\n\u001b[1;32m   3769\u001b[0m     decimal\u001b[39m=\u001b[39mdecimal,\n\u001b[1;32m   3770\u001b[0m )\n\u001b[0;32m-> 3772\u001b[0m \u001b[39mreturn\u001b[39;00m DataFrameRenderer(formatter)\u001b[39m.\u001b[39;49mto_csv(\n\u001b[1;32m   3773\u001b[0m     path_or_buf,\n\u001b[1;32m   3774\u001b[0m     lineterminator\u001b[39m=\u001b[39;49mlineterminator,\n\u001b[1;32m   3775\u001b[0m     sep\u001b[39m=\u001b[39;49msep,\n\u001b[1;32m   3776\u001b[0m     encoding\u001b[39m=\u001b[39;49mencoding,\n\u001b[1;32m   3777\u001b[0m     errors\u001b[39m=\u001b[39;49merrors,\n\u001b[1;32m   3778\u001b[0m     compression\u001b[39m=\u001b[39;49mcompression,\n\u001b[1;32m   3779\u001b[0m     quoting\u001b[39m=\u001b[39;49mquoting,\n\u001b[1;32m   3780\u001b[0m     columns\u001b[39m=\u001b[39;49mcolumns,\n\u001b[1;32m   3781\u001b[0m     index_label\u001b[39m=\u001b[39;49mindex_label,\n\u001b[1;32m   3782\u001b[0m     mode\u001b[39m=\u001b[39;49mmode,\n\u001b[1;32m   3783\u001b[0m     chunksize\u001b[39m=\u001b[39;49mchunksize,\n\u001b[1;32m   3784\u001b[0m     quotechar\u001b[39m=\u001b[39;49mquotechar,\n\u001b[1;32m   3785\u001b[0m     date_format\u001b[39m=\u001b[39;49mdate_format,\n\u001b[1;32m   3786\u001b[0m     doublequote\u001b[39m=\u001b[39;49mdoublequote,\n\u001b[1;32m   3787\u001b[0m     escapechar\u001b[39m=\u001b[39;49mescapechar,\n\u001b[1;32m   3788\u001b[0m     storage_options\u001b[39m=\u001b[39;49mstorage_options,\n\u001b[1;32m   3789\u001b[0m )\n",
      "File \u001b[0;32m~/.pyenv/versions/3.10.11/envs/ezpz/lib/python3.10/site-packages/pandas/io/formats/format.py:1186\u001b[0m, in \u001b[0;36mDataFrameRenderer.to_csv\u001b[0;34m(self, path_or_buf, encoding, sep, columns, index_label, mode, compression, quoting, quotechar, lineterminator, chunksize, date_format, doublequote, escapechar, errors, storage_options)\u001b[0m\n\u001b[1;32m   1165\u001b[0m     created_buffer \u001b[39m=\u001b[39m \u001b[39mFalse\u001b[39;00m\n\u001b[1;32m   1167\u001b[0m csv_formatter \u001b[39m=\u001b[39m CSVFormatter(\n\u001b[1;32m   1168\u001b[0m     path_or_buf\u001b[39m=\u001b[39mpath_or_buf,\n\u001b[1;32m   1169\u001b[0m     lineterminator\u001b[39m=\u001b[39mlineterminator,\n\u001b[0;32m   (...)\u001b[0m\n\u001b[1;32m   1184\u001b[0m     formatter\u001b[39m=\u001b[39m\u001b[39mself\u001b[39m\u001b[39m.\u001b[39mfmt,\n\u001b[1;32m   1185\u001b[0m )\n\u001b[0;32m-> 1186\u001b[0m csv_formatter\u001b[39m.\u001b[39;49msave()\n\u001b[1;32m   1188\u001b[0m \u001b[39mif\u001b[39;00m created_buffer:\n\u001b[1;32m   1189\u001b[0m     \u001b[39massert\u001b[39;00m \u001b[39misinstance\u001b[39m(path_or_buf, StringIO)\n",
      "File \u001b[0;32m~/.pyenv/versions/3.10.11/envs/ezpz/lib/python3.10/site-packages/pandas/io/formats/csvs.py:240\u001b[0m, in \u001b[0;36mCSVFormatter.save\u001b[0;34m(self)\u001b[0m\n\u001b[1;32m    236\u001b[0m \u001b[39m\u001b[39m\u001b[39m\"\"\"\u001b[39;00m\n\u001b[1;32m    237\u001b[0m \u001b[39mCreate the writer & save.\u001b[39;00m\n\u001b[1;32m    238\u001b[0m \u001b[39m\"\"\"\u001b[39;00m\n\u001b[1;32m    239\u001b[0m \u001b[39m# apply compression and byte/text conversion\u001b[39;00m\n\u001b[0;32m--> 240\u001b[0m \u001b[39mwith\u001b[39;00m get_handle(\n\u001b[1;32m    241\u001b[0m     \u001b[39mself\u001b[39;49m\u001b[39m.\u001b[39;49mfilepath_or_buffer,\n\u001b[1;32m    242\u001b[0m     \u001b[39mself\u001b[39;49m\u001b[39m.\u001b[39;49mmode,\n\u001b[1;32m    243\u001b[0m     encoding\u001b[39m=\u001b[39;49m\u001b[39mself\u001b[39;49m\u001b[39m.\u001b[39;49mencoding,\n\u001b[1;32m    244\u001b[0m     errors\u001b[39m=\u001b[39;49m\u001b[39mself\u001b[39;49m\u001b[39m.\u001b[39;49merrors,\n\u001b[1;32m    245\u001b[0m     compression\u001b[39m=\u001b[39;49m\u001b[39mself\u001b[39;49m\u001b[39m.\u001b[39;49mcompression,\n\u001b[1;32m    246\u001b[0m     storage_options\u001b[39m=\u001b[39;49m\u001b[39mself\u001b[39;49m\u001b[39m.\u001b[39;49mstorage_options,\n\u001b[1;32m    247\u001b[0m ) \u001b[39mas\u001b[39;00m handles:\n\u001b[1;32m    248\u001b[0m     \u001b[39m# Note: self.encoding is irrelevant here\u001b[39;00m\n\u001b[1;32m    249\u001b[0m     \u001b[39mself\u001b[39m\u001b[39m.\u001b[39mwriter \u001b[39m=\u001b[39m csvlib\u001b[39m.\u001b[39mwriter(\n\u001b[1;32m    250\u001b[0m         handles\u001b[39m.\u001b[39mhandle,\n\u001b[1;32m    251\u001b[0m         lineterminator\u001b[39m=\u001b[39m\u001b[39mself\u001b[39m\u001b[39m.\u001b[39mlineterminator,\n\u001b[0;32m   (...)\u001b[0m\n\u001b[1;32m    256\u001b[0m         quotechar\u001b[39m=\u001b[39m\u001b[39mself\u001b[39m\u001b[39m.\u001b[39mquotechar,\n\u001b[1;32m    257\u001b[0m     )\n\u001b[1;32m    259\u001b[0m     \u001b[39mself\u001b[39m\u001b[39m.\u001b[39m_save()\n",
      "File \u001b[0;32m~/.pyenv/versions/3.10.11/envs/ezpz/lib/python3.10/site-packages/pandas/io/common.py:859\u001b[0m, in \u001b[0;36mget_handle\u001b[0;34m(path_or_buf, mode, encoding, compression, memory_map, is_text, errors, storage_options)\u001b[0m\n\u001b[1;32m    854\u001b[0m \u001b[39melif\u001b[39;00m \u001b[39misinstance\u001b[39m(handle, \u001b[39mstr\u001b[39m):\n\u001b[1;32m    855\u001b[0m     \u001b[39m# Check whether the filename is to be opened in binary mode.\u001b[39;00m\n\u001b[1;32m    856\u001b[0m     \u001b[39m# Binary mode does not support 'encoding' and 'newline'.\u001b[39;00m\n\u001b[1;32m    857\u001b[0m     \u001b[39mif\u001b[39;00m ioargs\u001b[39m.\u001b[39mencoding \u001b[39mand\u001b[39;00m \u001b[39m\"\u001b[39m\u001b[39mb\u001b[39m\u001b[39m\"\u001b[39m \u001b[39mnot\u001b[39;00m \u001b[39min\u001b[39;00m ioargs\u001b[39m.\u001b[39mmode:\n\u001b[1;32m    858\u001b[0m         \u001b[39m# Encoding\u001b[39;00m\n\u001b[0;32m--> 859\u001b[0m         handle \u001b[39m=\u001b[39m \u001b[39mopen\u001b[39;49m(\n\u001b[1;32m    860\u001b[0m             handle,\n\u001b[1;32m    861\u001b[0m             ioargs\u001b[39m.\u001b[39;49mmode,\n\u001b[1;32m    862\u001b[0m             encoding\u001b[39m=\u001b[39;49mioargs\u001b[39m.\u001b[39;49mencoding,\n\u001b[1;32m    863\u001b[0m             errors\u001b[39m=\u001b[39;49merrors,\n\u001b[1;32m    864\u001b[0m             newline\u001b[39m=\u001b[39;49m\u001b[39m\"\u001b[39;49m\u001b[39m\"\u001b[39;49m,\n\u001b[1;32m    865\u001b[0m         )\n\u001b[1;32m    866\u001b[0m     \u001b[39melse\u001b[39;00m:\n\u001b[1;32m    867\u001b[0m         \u001b[39m# Binary mode\u001b[39;00m\n\u001b[1;32m    868\u001b[0m         handle \u001b[39m=\u001b[39m \u001b[39mopen\u001b[39m(handle, ioargs\u001b[39m.\u001b[39mmode)\n",
      "\u001b[0;31mIsADirectoryError\u001b[0m: [Errno 21] Is a directory: '/Users/gyeonmunju/Desktop/PlayData/jp_company/'"
     ]
    }
   ],
   "source": [
    "###########################\n",
    "# 회사페이지에서 리뷰 가져오기.\n",
    "###########################\n",
    "def get_jp_reviews():\n",
    "    \"\"\"\n",
    "    잡플래닛 회사 리뷰 상세 내용을 url을 받아서 내용을 반환.\n",
    "    연결\n",
    "    \"\"\"\n",
    "    # 리뷰들을 리스트로 저장하는 변수\n",
    "    review_list = []\n",
    "\n",
    "    # 이전페이지 변수\n",
    "    pre_page = 0\n",
    "\n",
    "    # 무한 루프를 돌기.\n",
    "    while True:\n",
    "\n",
    "        # 소스 끌어오기.\n",
    "        html = browser.page_source\n",
    "        soup = BeautifulSoup(html, \"lxml\")\n",
    "\n",
    "        # 현재 페이지의 숫자를 가져오기.\n",
    "        crt_btn = soup.select_one('#viewReviewsList > div > div > div > div.pg_bottom.um_paginnation > article > strong')\n",
    "        crt_page = int(crt_btn.text.strip())\n",
    "\n",
    "        # 다음버튼을 눌렀은데도 같은 페이지인 경우\n",
    "        if crt_page == pre_page:\n",
    "            break\n",
    "\n",
    "        # html 내용 가져오기\n",
    "        review = soup.select(\"div.us_label_wrap > h2\")\n",
    "\n",
    "        # 텍스트로 추출한 내용을 리스트에 추가해서 넣어주기 위해 이용. (데이터 전처리)\n",
    "        for text in review : # for문은 for 채워져있는 값의 원소 in 채워져있는 리스트\n",
    "            text_clean_1 = text.get_text().strip()\n",
    "            text_clean_2 = text_clean_1.replace(\"BEST\", \"\\n\").replace(\"\\n\\n\", \"\").replace('\"', '')\n",
    "            review_list.append(text_clean_2)\n",
    "        time.sleep(1)\n",
    "\n",
    "        # 다음 페이지로 이동하기 위한 버튼을 찾기.\n",
    "        try:\n",
    "            # 이전페이지의 번호를 갱신하기.\n",
    "            pre_page = crt_page\n",
    "\n",
    "            # 다음 버튼 찾기\n",
    "            next_btn = browser.find_element(By.CSS_SELECTOR,f\"a.btn_pgnext\")\n",
    "\n",
    "            # 버튼이 있으면 클릭합니다.\n",
    "            next_btn.click()\n",
    "\n",
    "            # 버튼 누르고나서 정보를 가져올때까지 슬립(몇초동안)걸어두기.\n",
    "            time.sleep(3)\n",
    "\n",
    "        except:\n",
    "            break\n",
    "\n",
    "        # local에 디렉토리를 생성.\n",
    "        save_path = f\"/Users/gyeonmunju/Desktop/PlayData/jp_company\"\n",
    "        os.makedirs(save_path, exist_ok=True)\n",
    "\n",
    "        # 데이터프레임으로 관리하겠다 지정. (데이터 생성하기.)\n",
    "        jp_df = pd.DataFrame(review_list, columns=[f\"jp_review\"])\n",
    "\n",
    "        # csv 파일로 저장.\n",
    "        jp_df.to_csv(save_path, index = True, encoding = \"utf-8\")\n",
    "\n",
    "    return jp_df\n",
    "\n",
    "# 함수 호출 후 결과 출력\n",
    "get_jp_reviews()\n",
    "\n",
    "# 브라우저 끄기\n",
    "browser.close()"
   ]
  },
  {
   "cell_type": "code",
   "execution_count": null,
   "metadata": {},
   "outputs": [],
   "source": []
  }
 ],
 "metadata": {
  "kernelspec": {
   "display_name": "ezpz",
   "language": "python",
   "name": "python3"
  },
  "language_info": {
   "codemirror_mode": {
    "name": "ipython",
    "version": 3
   },
   "file_extension": ".py",
   "mimetype": "text/x-python",
   "name": "python",
   "nbconvert_exporter": "python",
   "pygments_lexer": "ipython3",
   "version": "3.10.11"
  },
  "orig_nbformat": 4
 },
 "nbformat": 4,
 "nbformat_minor": 2
}
