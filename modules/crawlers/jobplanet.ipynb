{
 "cells": [
  {
   "cell_type": "code",
   "execution_count": 1,
   "metadata": {},
   "outputs": [],
   "source": [
    "from accounts import jp\n",
    "# jp.ID, jp.PW"
   ]
  },
  {
   "cell_type": "code",
   "execution_count": 2,
   "metadata": {},
   "outputs": [],
   "source": [
    "import os\n",
    "from datetime import datetime\n",
    "import time\n",
    "import requests\n",
    "import re\n",
    "\n",
    "import pandas as pd\n",
    "\n",
    "from bs4 import BeautifulSoup\n",
    "\n",
    "import selenium\n",
    "\n",
    "\n",
    "from selenium.webdriver.chrome.service import Service\n",
    "from selenium import webdriver\n",
    "from webdriver_manager.chrome import ChromeDriverManager\n",
    "\n",
    "from selenium.webdriver.common.by import By\n",
    "from selenium.webdriver.common.keys import Keys"
   ]
  },
  {
   "cell_type": "code",
   "execution_count": 3,
   "metadata": {},
   "outputs": [
    {
     "name": "stdout",
     "output_type": "stream",
     "text": [
      "{'width': 1512, 'height': 944}\n"
     ]
    }
   ],
   "source": [
    "# 크롬으로 잡플래닛 사이트 열기\n",
    "service = Service(executable_path=\"chromedriver.exe\")\n",
    "browser = webdriver.Chrome(service=service)\n",
    "\n",
    "url = r\"https://www.jobplanet.co.kr/job\"\n",
    "\n",
    "browser.maximize_window()\n",
    "print(browser.get_window_size())\n",
    "\n",
    "browser.get(r\"https://www.jobplanet.co.kr/job\")"
   ]
  },
  {
   "cell_type": "code",
   "execution_count": 4,
   "metadata": {},
   "outputs": [],
   "source": [
    "###########################\n",
    "# 잡플래닛에 로그인 하기\n",
    "###########################\n",
    "\n",
    "# 로그인 버튼 찾기 및 클릭\n",
    "login_btn = browser.find_element(By.CSS_SELECTOR,\"a.btn_txt.login\")\n",
    "login_btn.click()\n",
    "\n",
    "# 로그인 ID와 PW 쳐야할 곳 클릭 + 적기\n",
    "login_Id = browser.find_element(By.CSS_SELECTOR, \"#user_email\")\n",
    "login_Id.click()\n",
    "login_Id.send_keys(jp.ID)\n",
    "\n",
    "login_Pw = browser.find_element(By.CSS_SELECTOR, \"#user_password\")\n",
    "login_Pw.click()\n",
    "login_Pw.send_keys(jp.PW)\n",
    "\n",
    "# 이메일로 로그인 버튼 누르기\n",
    "em_log = browser.find_element(By.CSS_SELECTOR, \"fieldset > button\")\n",
    "em_log.click()"
   ]
  },
  {
   "cell_type": "code",
   "execution_count": 8,
   "metadata": {},
   "outputs": [
    {
     "name": "stdout",
     "output_type": "stream",
     "text": [
      "No search result found.\n"
     ]
    }
   ],
   "source": [
    "###########################\n",
    "# 잡플래닛 검색창에 회사 입력하고 맨 처음에 나오는 기업 클릭하기.\n",
    "###########################\n",
    "while True:\n",
    "  try:\n",
    "    # 검색창 누르기\n",
    "    search_bar = browser.find_element(By.CSS_SELECTOR, \"#search_bar_search_query\")\n",
    "    search_bar.click()\n",
    "\n",
    "    # 내가 원하는 회사 입력하기\n",
    "    want_cp = input()\n",
    "    search_bar.send_keys(want_cp)\n",
    "    search_bar.send_keys(Keys.RETURN)\n",
    "      \n",
    "    # 검색결과 기다리기.\n",
    "    time.sleep(2)\n",
    "\n",
    "    # 맨처음에 나오는 기업 클릭하기\n",
    "    company = browser.find_element(By.CSS_SELECTOR, \"div.is_company_card > div:nth-child(1) > a\")\n",
    "    company.click()\n",
    "\n",
    "  # 회사를 잘못 기입했거나 회사가 없을 경우\n",
    "  except:\n",
    "    # 에러메세지 띄우기\n",
    "    print(\"No search result found.\")\n",
    "    break"
   ]
  },
  {
   "cell_type": "code",
   "execution_count": null,
   "metadata": {},
   "outputs": [],
   "source": [
    "###########################\n",
    "# 회사페이지에서 팝업창 모두 닫기.\n",
    "###########################\n",
    "\n",
    "# 팝업창이 뜨면 그 팝업창을 없애는 버튼 만들기\n",
    "try:\n",
    "    pop_1 = browser.find_element_by_css_selector(\"div.premium_modal_header > button\")\n",
    "    pop_1.click()\n",
    "except:\n",
    "    pop_2 = browser.find_element(By.CSS_SELECTOR, \"#jpfollow_induce_panel > button\")\n",
    "    pop_2.click()"
   ]
  },
  {
   "cell_type": "code",
   "execution_count": null,
   "metadata": {},
   "outputs": [],
   "source": [
    "section:nth-child(7) > div > div.ctbody_col2 > div > div.us_label_wrap > h2\n",
    "\n",
    "section:nth-child(4) > div > div.ctbody_col2 > div > div.us_label_wrap > h2"
   ]
  },
  {
   "cell_type": "code",
   "execution_count": null,
   "metadata": {},
   "outputs": [],
   "source": [
    "###########################\n",
    "# 회사페이지에서 리뷰 가져오기.\n",
    "###########################\n",
    "def get_jp_company_list():\n",
    "    \"\"\"\n",
    "    잡플래닛 회사 리뷰 상세 내용을 url을 받아서 내용을 반환.\n",
    "    연결\n",
    "    \"\"\"\n",
    "    # 리뷰들을 리스트로 저장하는 변수\n",
    "    review_list = []\n",
    "    # 감지된 숫자 저장하는 변수\n",
    "    found_numbers = []\n",
    "\n",
    "    # 무한 루프를 돌기.\n",
    "    while True:\n",
    "        \n",
    "        # 소스 끌어오기.\n",
    "        html = browser.page_source\n",
    "        soup = BeautifulSoup(html, \"lxml\")\n",
    "        \n",
    "        # html 내용 가져오기\n",
    "        review = soup.select(\"div.us_label_wrap > h2\")\n",
    "        # 페이지 수 가져오기.\n",
    "        strong_elements = soup.select(\"article > strong\")\n",
    "\n",
    "        # 텍스트로 추출한 내용을 리스트에 추가해서 넣어주기 위해 이용.\n",
    "        for text in review : # for문은 for 채워져있는 값의 원소 in 채워져있는 리스트\n",
    "            review_list.append(text.get_text().strip())\n",
    "        time.sleep(2)\n",
    "\n",
    "        # 다음 페이지로 이동하기 위한 버튼을 찾기.\n",
    "        try:\n",
    "            next_btn = browser.find_element(By.CSS_SELECTOR,f\"a.btn_pgnext\")\n",
    "\n",
    "            # 버튼이 있으면 클릭합니다.\n",
    "            next_btn.click()\n",
    "\n",
    "            # 버튼 누르고나서 정보를 가져올때까지 슬립(몇초동안)걸어두기.\n",
    "            time.sleep(5)\n",
    "            \n",
    "        except:\n",
    "            break\n",
    "\n",
    "        # found_numbers 변수가 2번 등장하면 while 루프 빠져나오기.\n",
    "        if not next_btn:\n",
    "            break\n",
    "\n",
    "        # 각 요소에 대해:\n",
    "        for strong_element in strong_elements:\n",
    "            # 요소 안의 숫자 추출\n",
    "            number_in_element = int(strong_element.text.strip())\n",
    "\n",
    "            # 숫자가 found_numbers 변수에 2번 이상 등장했으면 루프를 종료 (break 사용)\n",
    "            if found_numbers.count(number_in_element) >= 1:\n",
    "                print(f\"Number {number_in_element} appeared twice\")\n",
    "                break\n",
    "            else:\n",
    "                # 숫자를 found_numbers 변수에 추가\n",
    "                found_numbers.append(number_in_element)\n",
    "\n",
    "    # 브라우저 끄기\n",
    "    # browser.close()\n",
    "\n",
    "    # 데이터프레임으로 관리하겠다 지정.\n",
    "    # return pd.DataFrame({\"jp_review\":review_list})\n",
    "# get_jp_company_list()"
   ]
  },
  {
   "cell_type": "code",
   "execution_count": null,
   "metadata": {},
   "outputs": [],
   "source": []
  }
 ],
 "metadata": {
  "kernelspec": {
   "display_name": "ezpz",
   "language": "python",
   "name": "python3"
  },
  "language_info": {
   "codemirror_mode": {
    "name": "ipython",
    "version": 3
   },
   "file_extension": ".py",
   "mimetype": "text/x-python",
   "name": "python",
   "nbconvert_exporter": "python",
   "pygments_lexer": "ipython3",
   "version": "3.10.11"
  },
  "orig_nbformat": 4
 },
 "nbformat": 4,
 "nbformat_minor": 2
}
