{
 "cells": [
  {
   "cell_type": "markdown",
   "metadata": {},
   "source": [
    "# Import"
   ]
  },
  {
   "cell_type": "code",
   "execution_count": 1,
   "metadata": {},
   "outputs": [],
   "source": [
    "import os\n",
    "import sys\n",
    "from datetime import datetime\n",
    "import time\n",
    "\n",
    "import re\n",
    "\n",
    "import tqdm\n",
    "import itertools\n",
    "\n",
    "import json\n",
    "import urllib.request\n",
    "\n",
    "import pandas as pd\n",
    "import numpy as np\n",
    "\n",
    "import requests\n",
    "from bs4 import BeautifulSoup\n",
    "import lxml"
   ]
  },
  {
   "cell_type": "code",
   "execution_count": null,
   "metadata": {},
   "outputs": [],
   "source": []
  },
  {
   "cell_type": "markdown",
   "metadata": {},
   "source": [
    "\n",
    "# URL Rule"
   ]
  },
  {
   "cell_type": "code",
   "execution_count": null,
   "metadata": {},
   "outputs": [],
   "source": [
    "# comp_id = 380725    # 기업 고유 UID\n",
    "p_num = 45      # 리뷰 페이지 (4 reviews / page)"
   ]
  },
  {
   "cell_type": "markdown",
   "metadata": {},
   "source": [
    "### query로 CompID 가져오기"
   ]
  },
  {
   "cell_type": "code",
   "execution_count": null,
   "metadata": {},
   "outputs": [],
   "source": [
    "Keyword = '삼성전자'"
   ]
  },
  {
   "cell_type": "code",
   "execution_count": null,
   "metadata": {},
   "outputs": [],
   "source": [
    "search_url = 'https://www.catch.co.kr/Search/SearchList?Keyword={}'\n",
    "search_req = requests.get(search_url.format(Keyword))\n",
    "print(search_req.text)"
   ]
  },
  {
   "cell_type": "code",
   "execution_count": null,
   "metadata": {},
   "outputs": [],
   "source": [
    "search_soup = BeautifulSoup(search_req.text, 'lxml')\n",
    "search_soup.text"
   ]
  },
  {
   "cell_type": "code",
   "execution_count": null,
   "metadata": {},
   "outputs": [],
   "source": [
    "search_soup.select('li:nth-child(1) > div.txt > p.name > a')"
   ]
  },
  {
   "cell_type": "code",
   "execution_count": null,
   "metadata": {},
   "outputs": [],
   "source": [
    "comp_id = re.sub(r'[^0-9]', '', str(search_soup.select('li:nth-child(1) > div.txt > p.name > a')))\n",
    "comp_id"
   ]
  },
  {
   "cell_type": "code",
   "execution_count": null,
   "metadata": {},
   "outputs": [],
   "source": [
    "URL = f'https://www.catch.co.kr/api/v1.0/comp/reviewInfo/{comp_id}/commentList?currentPage={p_num}&pageSize=4&isNew=false&employType=1&isEmploy=true&jobCode='\n",
    "print(URL)"
   ]
  },
  {
   "cell_type": "markdown",
   "metadata": {},
   "source": [
    "# Json to DataFrame "
   ]
  },
  {
   "cell_type": "code",
   "execution_count": null,
   "metadata": {},
   "outputs": [],
   "source": [
    "# Json 형식의 웹 데이터 가져오기\n",
    "raw_data = requests.get(URL).json()\n",
    "print(raw_data)"
   ]
  },
  {
   "cell_type": "code",
   "execution_count": null,
   "metadata": {},
   "outputs": [],
   "source": [
    "data = raw_data['reviewList']\n",
    "data"
   ]
  },
  {
   "cell_type": "code",
   "execution_count": null,
   "metadata": {},
   "outputs": [],
   "source": [
    "df = pd.DataFrame(data)\n",
    "df"
   ]
  },
  {
   "cell_type": "code",
   "execution_count": null,
   "metadata": {},
   "outputs": [],
   "source": [
    "df.columns"
   ]
  },
  {
   "cell_type": "code",
   "execution_count": null,
   "metadata": {},
   "outputs": [],
   "source": [
    "df.drop(['CI', 'Gender2', 'Answer', 'UsefulY', 'CareerYearYN',  'MyUsefulY', 'MyOpinion', 'Keyword1', 'Keyword2', 'Keyword3', 'Keyword1YN', 'Keyword2YN', 'Keyword3YN', 'Area'], axis=1, inplace=True)"
   ]
  },
  {
   "cell_type": "code",
   "execution_count": null,
   "metadata": {},
   "outputs": [],
   "source": [
    "df"
   ]
  },
  {
   "cell_type": "code",
   "execution_count": null,
   "metadata": {},
   "outputs": [],
   "source": [
    "# 정규식으로 이스케이프 문자 제거        # Good, Bad 리뷰 항목에만 적용.\n",
    "df['Good'] = df['Good'].apply(lambda x: re.sub(r'\\s+', ' ', re.sub(r'\\n+', ' ', x)).strip())\n",
    "df['Bad'] = df['Bad'].apply(lambda x: re.sub(r'\\s+', ' ', re.sub(r'\\n+', ' ', x)).strip())\n",
    "df"
   ]
  },
  {
   "cell_type": "code",
   "execution_count": null,
   "metadata": {},
   "outputs": [],
   "source": [
    "# RegDate 컬럼의 데이터 - 문자열 9번째 까지 출력\n",
    "df['RegDate'] = df['RegDate'].apply(lambda x: x[:10])\n",
    "df"
   ]
  },
  {
   "cell_type": "code",
   "execution_count": null,
   "metadata": {},
   "outputs": [],
   "source": []
  },
  {
   "cell_type": "markdown",
   "metadata": {},
   "source": [
    "# For 문으로 만들어보기\n",
    "    - 리뷰 데이터가 있는 페이지까지 반복"
   ]
  },
  {
   "cell_type": "code",
   "execution_count": null,
   "metadata": {},
   "outputs": [],
   "source": [
    "rv = []\n",
    "\n",
    "for p_num in range(1, 52) :\n",
    "    url = f'https://www.catch.co.kr/api/v1.0/comp/reviewInfo/{comp_id}/commentList?currentPage={p_num}&pageSize=4&isNew=false&employType=1&isEmploy=true&jobCode='\n",
    "    rv.append(requests.get(url).json()['reviewList'])\n",
    "\n",
    "\n",
    "data = list(itertools.chain.from_iterable(rv))\n",
    "df = pd.DataFrame(data)\n",
    "\n",
    "\n",
    "df.drop(['CI', 'Gender2', 'Answer', 'UsefulY', 'CareerYearYN',  'MyUsefulY', 'MyOpinion', 'Keyword1', 'Keyword2', 'Keyword3', 'Keyword1YN', 'Keyword2YN', 'Keyword3YN', 'Area'], axis=1, inplace=True)\n",
    "df['Good'] = df['Good'].apply(lambda x: re.sub(r'\\s+', ' ', re.sub(r'\\n+', ' ', x)).strip())\n",
    "df['Bad'] = df['Bad'].apply(lambda x: re.sub(r'\\s+', ' ', re.sub(r'\\n+', ' ', x)).strip())\n",
    "df['RegDate'] = df['RegDate'].apply(lambda x: re.sub(r'[^0-9]', '', x)[:8].strip())\n",
    "\n",
    "\n",
    "df"
   ]
  },
  {
   "cell_type": "markdown",
   "metadata": {},
   "source": [
    "# While 문으로 만들기 \n",
    "    - 그 다음 페이지에 리뷰 데이터 개수가 0 이면 멈춤\n"
   ]
  },
  {
   "cell_type": "code",
   "execution_count": null,
   "metadata": {},
   "outputs": [],
   "source": [
    "# len(requests.get(url).json()['reviewList'])"
   ]
  },
  {
   "cell_type": "code",
   "execution_count": null,
   "metadata": {},
   "outputs": [],
   "source": [
    "comp_name = '삼성전자'\n",
    "search_url = 'https://www.catch.co.kr/Search/SearchList?Keyword={}'\n",
    "search_req = requests.get(search_url.format(comp_name)) # Keyword = comp_name\n",
    "# print(search_req.text)\n",
    "\n",
    "search_soup = BeautifulSoup(search_req.text, 'lxml')\n",
    "# search_soup.text\n",
    "search_soup.select('li:nth-child(1) > div.txt > p.name > a')\n",
    "\n",
    "comp_id = re.sub(r'[^0-9]', '', str(search_soup.select('li:nth-child(1) > div.txt > p.name > a')))\n",
    "comp_id"
   ]
  },
  {
   "cell_type": "code",
   "execution_count": null,
   "metadata": {},
   "outputs": [],
   "source": [
    "\n",
    "try : \n",
    "    # comp_id = 380725\n",
    "    p_num = 1\n",
    "\n",
    "    rv = []\n",
    "\n",
    "\n",
    "    while True : \n",
    "\n",
    "        url = f'https://www.catch.co.kr/api/v1.0/comp/reviewInfo/{comp_id}/commentList?currentPage={p_num}&pageSize=2000&isNew=false&employType=1&isEmploy=false&jobCode='\n",
    "        rv.append(requests.get(url).json()['reviewList'])\n",
    "\n",
    "        p_num += 1\n",
    "\n",
    "        if len(requests.get(url).json()['reviewList']) == 0 :\n",
    "            break\n",
    "\n",
    "\n",
    "    data = list(itertools.chain.from_iterable(rv))\n",
    "    df = pd.DataFrame(data)\n",
    "\n",
    "    df.drop(['CI', 'Gender2', 'Answer', 'UsefulY', 'CareerYearYN',  'MyUsefulY', 'MyOpinion', \n",
    "            'Keyword1', 'Keyword2', 'Keyword3', 'Keyword1YN', 'Keyword2YN', 'Keyword3YN', 'Area'], \n",
    "            axis=1, inplace=True)\n",
    "    df['Good'] = df['Good'].apply(lambda x: re.sub(r'\\s+', ' ', re.sub(r'\\n+', ' ', x)).strip())\n",
    "    df['Bad'] = df['Bad'].apply(lambda x: re.sub(r'\\s+', ' ', re.sub(r'\\n+', ' ', x)).strip())\n",
    "    df['RegDate'] = df['RegDate'].apply(lambda x: re.sub(r'[^0-9]', '', x)[:8].strip())\n",
    "    \n",
    "\n",
    "\n",
    "except :\n",
    "    print(\"리뷰가 존재하지 않습니다.\")\n",
    "\n",
    "\n",
    "df\n"
   ]
  },
  {
   "cell_type": "markdown",
   "metadata": {},
   "source": [
    "# 컬럼명 및 데이터 변경"
   ]
  },
  {
   "cell_type": "markdown",
   "metadata": {},
   "source": [
    "### 컬럼명 변경"
   ]
  },
  {
   "cell_type": "code",
   "execution_count": null,
   "metadata": {},
   "outputs": [],
   "source": [
    "df.columns"
   ]
  },
  {
   "cell_type": "code",
   "execution_count": null,
   "metadata": {},
   "outputs": [],
   "source": [
    "df.rename(columns=\n",
    "          {'CompName':'comp_name', \n",
    "           'RegDate':'review_date', \n",
    "           'EmployText':'is_office', \n",
    "           'Good':'review_pos', \n",
    "           'Bad':'review_neg', \n",
    "           'MyStarScore':'review_rate', \n",
    "           'JobName':'position'\n",
    "           }, inplace=True)\n",
    "\n",
    "df"
   ]
  },
  {
   "cell_type": "code",
   "execution_count": null,
   "metadata": {},
   "outputs": [],
   "source": [
    "df.columns"
   ]
  },
  {
   "cell_type": "markdown",
   "metadata": {},
   "source": [
    "### 전/현직 여부를 Boolean 값으로 변경"
   ]
  },
  {
   "cell_type": "code",
   "execution_count": null,
   "metadata": {},
   "outputs": [],
   "source": [
    "df['is_office']"
   ]
  },
  {
   "cell_type": "code",
   "execution_count": null,
   "metadata": {},
   "outputs": [],
   "source": [
    "df['is_office'] = df['is_office'].apply(lambda x: x.replace('현직', '1').strip() == '1')"
   ]
  },
  {
   "cell_type": "code",
   "execution_count": null,
   "metadata": {},
   "outputs": [],
   "source": [
    "df['is_office']"
   ]
  },
  {
   "cell_type": "markdown",
   "metadata": {},
   "source": [
    "# DataFrame to CSV file"
   ]
  },
  {
   "cell_type": "code",
   "execution_count": null,
   "metadata": {},
   "outputs": [],
   "source": [
    "SAVE_PATH = r'./data/'"
   ]
  },
  {
   "cell_type": "code",
   "execution_count": null,
   "metadata": {},
   "outputs": [],
   "source": [
    "df['CompName'][0]"
   ]
  },
  {
   "cell_type": "code",
   "execution_count": null,
   "metadata": {},
   "outputs": [],
   "source": [
    "comp = df['CompName'][0]"
   ]
  },
  {
   "cell_type": "code",
   "execution_count": null,
   "metadata": {},
   "outputs": [],
   "source": [
    "os.makedirs(SAVE_PATH, exist_ok=True)\n",
    "\n",
    "# csv 파일로 저장.\n",
    "\n",
    "file_name = f\"{comp}_reviews.csv\"\n",
    "save_file_path = os.path.join(SAVE_PATH, file_name)\n",
    "\n",
    "df.to_csv(save_file_path, index=False, encoding = \"utf-8\")"
   ]
  },
  {
   "cell_type": "code",
   "execution_count": null,
   "metadata": {},
   "outputs": [],
   "source": []
  },
  {
   "cell_type": "code",
   "execution_count": null,
   "metadata": {},
   "outputs": [],
   "source": []
  },
  {
   "cell_type": "code",
   "execution_count": null,
   "metadata": {},
   "outputs": [],
   "source": []
  },
  {
   "cell_type": "markdown",
   "metadata": {},
   "source": [
    "# 함수화"
   ]
  },
  {
   "cell_type": "code",
   "execution_count": 2,
   "metadata": {},
   "outputs": [],
   "source": [
    "SAVE_PATH = r'./data/'"
   ]
  },
  {
   "cell_type": "code",
   "execution_count": 3,
   "metadata": {},
   "outputs": [],
   "source": [
    "def RV_Catch(comp = str): \n",
    "    \n",
    "    search_url = 'https://www.catch.co.kr/Search/SearchList?Keyword={}'\n",
    "    search_req = requests.get(search_url.format(comp)) # Keyword = comp_name\n",
    "    # print(search_req.text)\n",
    "\n",
    "    search_soup = BeautifulSoup(search_req.text, 'lxml')\n",
    "    # search_soup.text\n",
    "    search_soup.select('li:nth-child(1) > div.txt > p.name > a')\n",
    "\n",
    "    comp_id = re.sub(r'[^0-9]', '', str(search_soup.select('li:nth-child(1) > div.txt > p.name > a')))\n",
    "\n",
    "\n",
    "\n",
    "\n",
    "\n",
    "    p_num = 1\n",
    "\n",
    "    rv = []\n",
    "\n",
    "\n",
    "\n",
    "    try : \n",
    "\n",
    "        while True : \n",
    "\n",
    "            url = f'https://www.catch.co.kr/api/v1.0/comp/reviewInfo/{comp_id}/commentList?currentPage={p_num}&pageSize=2000&isNew=false&employType=1&isEmploy=false&jobCode='\n",
    "            rv.append(requests.get(url).json()['reviewList'])\n",
    "\n",
    "            p_num += 1\n",
    "\n",
    "            if len(requests.get(url).json()['reviewList']) == 0 :\n",
    "                break\n",
    "\n",
    "\n",
    "        data = list(itertools.chain.from_iterable(rv))\n",
    "        df = pd.DataFrame(data)\n",
    "\n",
    "\n",
    "        df.drop(['CI', 'Gender2', 'Answer', 'UsefulY', 'CareerYearYN',  'MyUsefulY', 'MyOpinion', \n",
    "                'Keyword1', 'Keyword2', 'Keyword3', 'Keyword1YN', 'Keyword2YN', 'Keyword3YN', \n",
    "                'RecomName', 'EmployType', 'NewOld', 'CareerYear', 'Area'], \n",
    "                axis=1, inplace=True)\n",
    "        \n",
    "        df['Good'] = df['Good'].apply(lambda x: re.sub(r'\\s+', ' ', re.sub(r'\\n+', ' ', x)).strip())\n",
    "        df['Bad'] = df['Bad'].apply(lambda x: re.sub(r'\\s+', ' ', re.sub(r'\\n+', ' ', x)).strip())\n",
    "\n",
    "        df['RegDate'] = df['RegDate'].apply(lambda x: re.sub(r'[^0-9]', '', x)[:8].strip())\n",
    "\n",
    "        df['EmployText'] = df['EmployText'].apply(lambda x: x.replace('현직', '1').strip() == '1')\n",
    "\n",
    "\n",
    "\n",
    "        df.rename(columns=\n",
    "          {'CompName':'comp_name', \n",
    "           'RegDate':'review_date', \n",
    "           'EmployText':'is_office', \n",
    "           'Good':'review_pos', \n",
    "           'Bad':'review_neg', \n",
    "           'MyStarScore':'review_rate', \n",
    "           'JobName':'position'\n",
    "           }, inplace=True)\n",
    "\n",
    "        \n",
    "        \n",
    "        \n",
    "        # csv 파일로 저장.\n",
    "\n",
    "        comp = df['comp_name'][0]\n",
    "\n",
    "        os.makedirs(SAVE_PATH, exist_ok=True)\n",
    "\n",
    "        file_name = f\"{comp}_reviews.csv\"\n",
    "        save_file_path = os.path.join(SAVE_PATH, file_name)\n",
    "\n",
    "        df.to_csv(save_file_path, index=False, encoding = \"utf-8\")\n",
    "        \n",
    "\n",
    "\n",
    "        \n",
    "    except : \n",
    "        print(\"리뷰가 존재하지 않습니다.\")\n",
    "\n",
    "\n"
   ]
  },
  {
   "cell_type": "code",
   "execution_count": 4,
   "metadata": {},
   "outputs": [],
   "source": [
    "RV_Catch('SK하이')"
   ]
  },
  {
   "cell_type": "code",
   "execution_count": 5,
   "metadata": {},
   "outputs": [
    {
     "data": {
      "text/html": [
       "<div>\n",
       "<style scoped>\n",
       "    .dataframe tbody tr th:only-of-type {\n",
       "        vertical-align: middle;\n",
       "    }\n",
       "\n",
       "    .dataframe tbody tr th {\n",
       "        vertical-align: top;\n",
       "    }\n",
       "\n",
       "    .dataframe thead th {\n",
       "        text-align: right;\n",
       "    }\n",
       "</style>\n",
       "<table border=\"1\" class=\"dataframe\">\n",
       "  <thead>\n",
       "    <tr style=\"text-align: right;\">\n",
       "      <th></th>\n",
       "      <th>idx</th>\n",
       "      <th>CompID</th>\n",
       "      <th>comp_name</th>\n",
       "      <th>review_date</th>\n",
       "      <th>is_office</th>\n",
       "      <th>review_pos</th>\n",
       "      <th>review_neg</th>\n",
       "      <th>position</th>\n",
       "      <th>review_rate</th>\n",
       "    </tr>\n",
       "  </thead>\n",
       "  <tbody>\n",
       "    <tr>\n",
       "      <th>0</th>\n",
       "      <td>208734</td>\n",
       "      <td>383511</td>\n",
       "      <td>SK하이닉스</td>\n",
       "      <td>20230722</td>\n",
       "      <td>False</td>\n",
       "      <td>어르신들도 알 정도로의 인지도의 대기업. 괜찮은 급여수준.</td>\n",
       "      <td>업무량이 꽤 있는 편이라고 생각합니다. 워라밸 측면에서는 좀 아쉬움</td>\n",
       "      <td>기획/전략/경영</td>\n",
       "      <td>3.2</td>\n",
       "    </tr>\n",
       "    <tr>\n",
       "      <th>1</th>\n",
       "      <td>207935</td>\n",
       "      <td>383511</td>\n",
       "      <td>SK하이닉스</td>\n",
       "      <td>20230620</td>\n",
       "      <td>True</td>\n",
       "      <td>1. 유연근무제 , 해피프라이데이 등 근무 자유로움 2. 상대적으로 높은 연봉 3....</td>\n",
       "      <td>1. 반도체 업계 특성상 사이클을 탐 2. 팀바팀이지만 야근하는 경우도 많음 3. ...</td>\n",
       "      <td>반도체/디스플레이</td>\n",
       "      <td>5.0</td>\n",
       "    </tr>\n",
       "    <tr>\n",
       "      <th>2</th>\n",
       "      <td>207626</td>\n",
       "      <td>383511</td>\n",
       "      <td>SK하이닉스</td>\n",
       "      <td>20230611</td>\n",
       "      <td>True</td>\n",
       "      <td>팀바팀 부바부가 심하지만 대체로 제조기술쪽 직군은 삼성전자에 비해 편한편이다. 또 ...</td>\n",
       "      <td>다만 제조기술이 아닌팀 그리고 일부 팀들은 야근이 매우 많은팀들이 있긴하다. 추가로...</td>\n",
       "      <td>생산/제조/설비/조립</td>\n",
       "      <td>3.8</td>\n",
       "    </tr>\n",
       "    <tr>\n",
       "      <th>3</th>\n",
       "      <td>207299</td>\n",
       "      <td>383511</td>\n",
       "      <td>SK하이닉스</td>\n",
       "      <td>20230609</td>\n",
       "      <td>True</td>\n",
       "      <td>회사 복지 면이 엄청 좋은 것 같다. 회사가 어려워서 복지 면에서 축소가 되지 않을...</td>\n",
       "      <td>보수적인 상사분들이 있다. (보통 나이가 많으신 분들 중에) 유연근무제이긴 하나 부...</td>\n",
       "      <td>생산/제조/설비/조립</td>\n",
       "      <td>4.2</td>\n",
       "    </tr>\n",
       "    <tr>\n",
       "      <th>4</th>\n",
       "      <td>207145</td>\n",
       "      <td>383511</td>\n",
       "      <td>SK하이닉스</td>\n",
       "      <td>20230608</td>\n",
       "      <td>True</td>\n",
       "      <td>급여 수준이 높고 유연 근무제가 시행되어 출퇴근이 자유롭다. 한달에 한번 해피프라이...</td>\n",
       "      <td>서울 경기권에서 지역 마다 다르지만 출퇴근 시간이 오래걸린다. 조직 문화가 다소 경...</td>\n",
       "      <td>생산관리/공정관리/품질관리</td>\n",
       "      <td>4.4</td>\n",
       "    </tr>\n",
       "    <tr>\n",
       "      <th>...</th>\n",
       "      <td>...</td>\n",
       "      <td>...</td>\n",
       "      <td>...</td>\n",
       "      <td>...</td>\n",
       "      <td>...</td>\n",
       "      <td>...</td>\n",
       "      <td>...</td>\n",
       "      <td>...</td>\n",
       "      <td>...</td>\n",
       "    </tr>\n",
       "    <tr>\n",
       "      <th>81</th>\n",
       "      <td>124584</td>\n",
       "      <td>383511</td>\n",
       "      <td>SK하이닉스</td>\n",
       "      <td>20201118</td>\n",
       "      <td>True</td>\n",
       "      <td>대기업인만큼 복지가 잘 되어있음, 하루 네끼 무료</td>\n",
       "      <td>연봉 인상률이 낮은 점, 회사 주변 인프라가 별로 좋지 않다</td>\n",
       "      <td>반도체/디스플레이</td>\n",
       "      <td>4.4</td>\n",
       "    </tr>\n",
       "    <tr>\n",
       "      <th>82</th>\n",
       "      <td>124452</td>\n",
       "      <td>383511</td>\n",
       "      <td>SK하이닉스</td>\n",
       "      <td>20201118</td>\n",
       "      <td>True</td>\n",
       "      <td>반도체가 호황이라 돈을 많이 주지만 일하는 만큼 받는건지는 모르겠음</td>\n",
       "      <td>모든 남초 회사가 그러하듯 여혐 분위기가 기본적으로 깔려있음</td>\n",
       "      <td>반도체/디스플레이</td>\n",
       "      <td>3.8</td>\n",
       "    </tr>\n",
       "    <tr>\n",
       "      <th>83</th>\n",
       "      <td>122620</td>\n",
       "      <td>383511</td>\n",
       "      <td>SK하이닉스</td>\n",
       "      <td>20201117</td>\n",
       "      <td>False</td>\n",
       "      <td>복지 좋음. 식사 시설 등 제공 좋습니다. 만족해요 다양한 선택권</td>\n",
       "      <td>위치 안좋음. 매일 셔틀 지옥입니다 안좋아요. 서울에서 셔틀 타고 다녀야함</td>\n",
       "      <td>반도체/디스플레이</td>\n",
       "      <td>4.0</td>\n",
       "    </tr>\n",
       "    <tr>\n",
       "      <th>84</th>\n",
       "      <td>121382</td>\n",
       "      <td>383511</td>\n",
       "      <td>SK하이닉스</td>\n",
       "      <td>20201010</td>\n",
       "      <td>True</td>\n",
       "      <td>복지혜택이 많다. 월급이 많다. 성과급이 많다</td>\n",
       "      <td>지리적으로 멀다. 일부 직무는 매우 비선호 된다</td>\n",
       "      <td>반도체/디스플레이</td>\n",
       "      <td>5.0</td>\n",
       "    </tr>\n",
       "    <tr>\n",
       "      <th>85</th>\n",
       "      <td>120680</td>\n",
       "      <td>383511</td>\n",
       "      <td>SK하이닉스</td>\n",
       "      <td>20200921</td>\n",
       "      <td>False</td>\n",
       "      <td>여러 메뉴의 식사를 3끼 공짜로 먹을 수 있다. 매년 초 성과급과 반년마다 주는 p...</td>\n",
       "      <td>매일 매일 야근있는데 눈치 때문에 늦게 가기도 한다. 한 달에 2~3번의 주말 근무...</td>\n",
       "      <td>생산관리/공정관리/품질관리</td>\n",
       "      <td>2.4</td>\n",
       "    </tr>\n",
       "  </tbody>\n",
       "</table>\n",
       "<p>86 rows × 9 columns</p>\n",
       "</div>"
      ],
      "text/plain": [
       "       idx  CompID comp_name  review_date  is_office   \n",
       "0   208734  383511    SK하이닉스     20230722      False  \\\n",
       "1   207935  383511    SK하이닉스     20230620       True   \n",
       "2   207626  383511    SK하이닉스     20230611       True   \n",
       "3   207299  383511    SK하이닉스     20230609       True   \n",
       "4   207145  383511    SK하이닉스     20230608       True   \n",
       "..     ...     ...       ...          ...        ...   \n",
       "81  124584  383511    SK하이닉스     20201118       True   \n",
       "82  124452  383511    SK하이닉스     20201118       True   \n",
       "83  122620  383511    SK하이닉스     20201117      False   \n",
       "84  121382  383511    SK하이닉스     20201010       True   \n",
       "85  120680  383511    SK하이닉스     20200921      False   \n",
       "\n",
       "                                           review_pos   \n",
       "0                    어르신들도 알 정도로의 인지도의 대기업. 괜찮은 급여수준.  \\\n",
       "1   1. 유연근무제 , 해피프라이데이 등 근무 자유로움 2. 상대적으로 높은 연봉 3....   \n",
       "2   팀바팀 부바부가 심하지만 대체로 제조기술쪽 직군은 삼성전자에 비해 편한편이다. 또 ...   \n",
       "3   회사 복지 면이 엄청 좋은 것 같다. 회사가 어려워서 복지 면에서 축소가 되지 않을...   \n",
       "4   급여 수준이 높고 유연 근무제가 시행되어 출퇴근이 자유롭다. 한달에 한번 해피프라이...   \n",
       "..                                                ...   \n",
       "81                        대기업인만큼 복지가 잘 되어있음, 하루 네끼 무료   \n",
       "82              반도체가 호황이라 돈을 많이 주지만 일하는 만큼 받는건지는 모르겠음   \n",
       "83               복지 좋음. 식사 시설 등 제공 좋습니다. 만족해요 다양한 선택권   \n",
       "84                          복지혜택이 많다. 월급이 많다. 성과급이 많다   \n",
       "85  여러 메뉴의 식사를 3끼 공짜로 먹을 수 있다. 매년 초 성과급과 반년마다 주는 p...   \n",
       "\n",
       "                                           review_neg        position   \n",
       "0               업무량이 꽤 있는 편이라고 생각합니다. 워라밸 측면에서는 좀 아쉬움        기획/전략/경영  \\\n",
       "1   1. 반도체 업계 특성상 사이클을 탐 2. 팀바팀이지만 야근하는 경우도 많음 3. ...       반도체/디스플레이   \n",
       "2   다만 제조기술이 아닌팀 그리고 일부 팀들은 야근이 매우 많은팀들이 있긴하다. 추가로...     생산/제조/설비/조립   \n",
       "3   보수적인 상사분들이 있다. (보통 나이가 많으신 분들 중에) 유연근무제이긴 하나 부...     생산/제조/설비/조립   \n",
       "4   서울 경기권에서 지역 마다 다르지만 출퇴근 시간이 오래걸린다. 조직 문화가 다소 경...  생산관리/공정관리/품질관리   \n",
       "..                                                ...             ...   \n",
       "81                  연봉 인상률이 낮은 점, 회사 주변 인프라가 별로 좋지 않다       반도체/디스플레이   \n",
       "82                  모든 남초 회사가 그러하듯 여혐 분위기가 기본적으로 깔려있음       반도체/디스플레이   \n",
       "83          위치 안좋음. 매일 셔틀 지옥입니다 안좋아요. 서울에서 셔틀 타고 다녀야함       반도체/디스플레이   \n",
       "84                         지리적으로 멀다. 일부 직무는 매우 비선호 된다       반도체/디스플레이   \n",
       "85  매일 매일 야근있는데 눈치 때문에 늦게 가기도 한다. 한 달에 2~3번의 주말 근무...  생산관리/공정관리/품질관리   \n",
       "\n",
       "    review_rate  \n",
       "0           3.2  \n",
       "1           5.0  \n",
       "2           3.8  \n",
       "3           4.2  \n",
       "4           4.4  \n",
       "..          ...  \n",
       "81          4.4  \n",
       "82          3.8  \n",
       "83          4.0  \n",
       "84          5.0  \n",
       "85          2.4  \n",
       "\n",
       "[86 rows x 9 columns]"
      ]
     },
     "execution_count": 5,
     "metadata": {},
     "output_type": "execute_result"
    }
   ],
   "source": [
    "pd.read_csv('./data/SK하이닉스_reviews.csv')"
   ]
  },
  {
   "cell_type": "code",
   "execution_count": 6,
   "metadata": {},
   "outputs": [
    {
     "name": "stdout",
     "output_type": "stream",
     "text": [
      "리뷰가 존재하지 않습니다.\n"
     ]
    }
   ],
   "source": [
    "RV_Catch('화인석재')"
   ]
  },
  {
   "cell_type": "code",
   "execution_count": null,
   "metadata": {},
   "outputs": [],
   "source": [
    "RV_Catch('삼성전자')"
   ]
  },
  {
   "cell_type": "code",
   "execution_count": null,
   "metadata": {},
   "outputs": [],
   "source": [
    "RV_Catch('네이버')"
   ]
  },
  {
   "cell_type": "code",
   "execution_count": null,
   "metadata": {},
   "outputs": [],
   "source": [
    "RV_Catch('카카오')"
   ]
  }
 ],
 "metadata": {
  "kernelspec": {
   "display_name": "Python 3",
   "language": "python",
   "name": "python3"
  },
  "language_info": {
   "codemirror_mode": {
    "name": "ipython",
    "version": 3
   },
   "file_extension": ".py",
   "mimetype": "text/x-python",
   "name": "python",
   "nbconvert_exporter": "python",
   "pygments_lexer": "ipython3",
   "version": "3.10.11"
  },
  "orig_nbformat": 4
 },
 "nbformat": 4,
 "nbformat_minor": 2
}
