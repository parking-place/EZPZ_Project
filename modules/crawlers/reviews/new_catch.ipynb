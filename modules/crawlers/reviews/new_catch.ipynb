{
 "cells": [
  {
   "cell_type": "markdown",
   "metadata": {},
   "source": [
    "# Import"
   ]
  },
  {
   "cell_type": "code",
   "execution_count": 1,
   "metadata": {},
   "outputs": [],
   "source": [
    "import os\n",
    "import sys\n",
    "from datetime import datetime\n",
    "import time\n",
    "\n",
    "import re\n",
    "\n",
    "import tqdm\n",
    "import itertools\n",
    "\n",
    "import json\n",
    "import urllib.request\n",
    "\n",
    "import pandas as pd\n",
    "import numpy as np\n",
    "\n",
    "import requests\n",
    "from bs4 import BeautifulSoup\n",
    "import lxml"
   ]
  },
  {
   "cell_type": "code",
   "execution_count": null,
   "metadata": {},
   "outputs": [],
   "source": []
  },
  {
   "cell_type": "markdown",
   "metadata": {},
   "source": [
    "\n",
    "# URL Rule"
   ]
  },
  {
   "cell_type": "code",
   "execution_count": null,
   "metadata": {},
   "outputs": [],
   "source": [
    "# comp_id = 380725    # 기업 고유 UID\n",
    "p_num = 51          # 리뷰 페이지 (4 reviews / page)"
   ]
  },
  {
   "cell_type": "markdown",
   "metadata": {},
   "source": [
    "### query로 CompID 가져오기"
   ]
  },
  {
   "cell_type": "code",
   "execution_count": null,
   "metadata": {},
   "outputs": [],
   "source": [
    "Keyword = '삼성전자'"
   ]
  },
  {
   "cell_type": "code",
   "execution_count": null,
   "metadata": {},
   "outputs": [],
   "source": [
    "search_url = 'https://www.catch.co.kr/Search/SearchList?Keyword={}'\n",
    "search_req = requests.get(search_url.format(Keyword))\n",
    "print(search_req.text)"
   ]
  },
  {
   "cell_type": "code",
   "execution_count": null,
   "metadata": {},
   "outputs": [],
   "source": [
    "search_soup = BeautifulSoup(search_req.text, 'lxml')\n",
    "search_soup.text"
   ]
  },
  {
   "cell_type": "code",
   "execution_count": null,
   "metadata": {},
   "outputs": [],
   "source": [
    "search_soup.select('li:nth-child(1) > div.txt > p.name > a')"
   ]
  },
  {
   "cell_type": "code",
   "execution_count": null,
   "metadata": {},
   "outputs": [],
   "source": [
    "comp_id = re.sub(r'[^0-9]', '', str(search_soup.select('li:nth-child(1) > div.txt > p.name > a')))\n",
    "comp_id"
   ]
  },
  {
   "cell_type": "code",
   "execution_count": null,
   "metadata": {},
   "outputs": [],
   "source": [
    "URL = f'https://www.catch.co.kr/api/v1.0/comp/reviewInfo/{comp_id}/commentList?currentPage={p_num}&pageSize=4&isNew=false&employType=1&isEmploy=true&jobCode='\n",
    "print(URL)"
   ]
  },
  {
   "cell_type": "markdown",
   "metadata": {},
   "source": [
    "# Json to DataFrame "
   ]
  },
  {
   "cell_type": "code",
   "execution_count": null,
   "metadata": {},
   "outputs": [],
   "source": [
    "# Json 형식의 웹 데이터 가져오기\n",
    "raw_data = requests.get(URL).json()\n",
    "print(raw_data)"
   ]
  },
  {
   "cell_type": "code",
   "execution_count": null,
   "metadata": {},
   "outputs": [],
   "source": [
    "data = raw_data['reviewList']\n",
    "data"
   ]
  },
  {
   "cell_type": "code",
   "execution_count": null,
   "metadata": {},
   "outputs": [],
   "source": [
    "df = pd.DataFrame(data)\n",
    "df"
   ]
  },
  {
   "cell_type": "code",
   "execution_count": null,
   "metadata": {},
   "outputs": [],
   "source": [
    "df.columns"
   ]
  },
  {
   "cell_type": "code",
   "execution_count": null,
   "metadata": {},
   "outputs": [],
   "source": [
    "df.drop(['CI', 'Gender2', 'Answer', 'UsefulY', 'CareerYearYN',  'MyUsefulY', 'MyOpinion', 'Keyword1', 'Keyword2', 'Keyword3', 'Keyword1YN', 'Keyword2YN', 'Keyword3YN', 'Area'], axis=1, inplace=True)"
   ]
  },
  {
   "cell_type": "code",
   "execution_count": null,
   "metadata": {},
   "outputs": [],
   "source": [
    "df"
   ]
  },
  {
   "cell_type": "code",
   "execution_count": null,
   "metadata": {},
   "outputs": [],
   "source": [
    "# 정규식으로 이스케이프 문자 제거        # Good, Bad 리뷰 항목에만 적용.\n",
    "df['Good'] = df['Good'].apply(lambda x: re.sub(r'\\s+', ' ', re.sub(r'\\n+', ' ', x)).strip())\n",
    "df['Bad'] = df['Bad'].apply(lambda x: re.sub(r'\\s+', ' ', re.sub(r'\\n+', ' ', x)).strip())\n",
    "df"
   ]
  },
  {
   "cell_type": "code",
   "execution_count": null,
   "metadata": {},
   "outputs": [],
   "source": [
    "# RegDate 컬럼의 데이터 - 문자열 9번째 까지 출력\n",
    "df['RegDate'] = df['RegDate'].apply(lambda x: x[:10])\n",
    "df"
   ]
  },
  {
   "cell_type": "code",
   "execution_count": null,
   "metadata": {},
   "outputs": [],
   "source": []
  },
  {
   "cell_type": "markdown",
   "metadata": {},
   "source": [
    "# For 문으로 만들어보기\n",
    "    - 리뷰 데이터가 있는 페이지까지 반복"
   ]
  },
  {
   "cell_type": "code",
   "execution_count": null,
   "metadata": {},
   "outputs": [],
   "source": [
    "rv = []\n",
    "\n",
    "for p_num in range(1, 52) :\n",
    "    url = f'https://www.catch.co.kr/api/v1.0/comp/reviewInfo/{comp_id}/commentList?currentPage={p_num}&pageSize=4&isNew=false&employType=1&isEmploy=true&jobCode='\n",
    "    rv.append(requests.get(url).json()['reviewList'])\n",
    "\n",
    "\n",
    "data = list(itertools.chain.from_iterable(rv))\n",
    "df = pd.DataFrame(data)\n",
    "\n",
    "\n",
    "df.drop(['CI', 'Gender2', 'Answer', 'UsefulY', 'CareerYearYN',  'MyUsefulY', 'MyOpinion', 'Keyword1', 'Keyword2', 'Keyword3', 'Keyword1YN', 'Keyword2YN', 'Keyword3YN', 'Area'], axis=1, inplace=True)\n",
    "df['Good'] = df['Good'].apply(lambda x: re.sub(r'\\s+', ' ', re.sub(r'\\n+', ' ', x)).strip())\n",
    "df['Bad'] = df['Bad'].apply(lambda x: re.sub(r'\\s+', ' ', re.sub(r'\\n+', ' ', x)).strip())\n",
    "df['RegDate'] = df['RegDate'].apply(lambda x: re.sub(r'[^0-9]', '', x)[:8].strip())\n",
    "\n",
    "\n",
    "df"
   ]
  },
  {
   "cell_type": "markdown",
   "metadata": {},
   "source": [
    "# While 문으로 만들기 \n",
    "    - 그 다음 페이지에 리뷰 데이터 개수가 0 이면 멈춤\n"
   ]
  },
  {
   "cell_type": "code",
   "execution_count": null,
   "metadata": {},
   "outputs": [],
   "source": [
    "# len(requests.get(url).json()['reviewList'])"
   ]
  },
  {
   "cell_type": "code",
   "execution_count": 26,
   "metadata": {},
   "outputs": [
    {
     "data": {
      "text/plain": [
       "'380725'"
      ]
     },
     "execution_count": 26,
     "metadata": {},
     "output_type": "execute_result"
    }
   ],
   "source": [
    "comp_name = '삼성전자'\n",
    "search_url = 'https://www.catch.co.kr/Search/SearchList?Keyword={}'\n",
    "search_req = requests.get(search_url.format(comp_name)) # Keyword = comp_name\n",
    "# print(search_req.text)\n",
    "\n",
    "search_soup = BeautifulSoup(search_req.text, 'lxml')\n",
    "# search_soup.text\n",
    "search_soup.select('li:nth-child(1) > div.txt > p.name > a')\n",
    "\n",
    "comp_id = re.sub(r'[^0-9]', '', str(search_soup.select('li:nth-child(1) > div.txt > p.name > a')))\n",
    "comp_id"
   ]
  },
  {
   "cell_type": "code",
   "execution_count": 27,
   "metadata": {},
   "outputs": [
    {
     "data": {
      "text/html": [
       "<div>\n",
       "<style scoped>\n",
       "    .dataframe tbody tr th:only-of-type {\n",
       "        vertical-align: middle;\n",
       "    }\n",
       "\n",
       "    .dataframe tbody tr th {\n",
       "        vertical-align: top;\n",
       "    }\n",
       "\n",
       "    .dataframe thead th {\n",
       "        text-align: right;\n",
       "    }\n",
       "</style>\n",
       "<table border=\"1\" class=\"dataframe\">\n",
       "  <thead>\n",
       "    <tr style=\"text-align: right;\">\n",
       "      <th></th>\n",
       "      <th>idx</th>\n",
       "      <th>CompID</th>\n",
       "      <th>CompName</th>\n",
       "      <th>RegDate</th>\n",
       "      <th>EmployText</th>\n",
       "      <th>RecomName</th>\n",
       "      <th>EmployType</th>\n",
       "      <th>NewOld</th>\n",
       "      <th>Good</th>\n",
       "      <th>Bad</th>\n",
       "      <th>CareerYear</th>\n",
       "      <th>JobName</th>\n",
       "      <th>MyStarScore</th>\n",
       "    </tr>\n",
       "  </thead>\n",
       "  <tbody>\n",
       "    <tr>\n",
       "      <th>0</th>\n",
       "      <td>209151</td>\n",
       "      <td>380725</td>\n",
       "      <td>삼성전자</td>\n",
       "      <td>20230810</td>\n",
       "      <td>현직</td>\n",
       "      <td>추천</td>\n",
       "      <td>정규직</td>\n",
       "      <td>신입</td>\n",
       "      <td>어학 지원 칼퇴 가능 자울 출퇴근제 식사 제공 통근버스</td>\n",
       "      <td>수직적 조직문화 선택적 복리후생 불투명한 소통 기타등등</td>\n",
       "      <td>13</td>\n",
       "      <td>생산관리/공정관리/품질관리</td>\n",
       "      <td>4.0</td>\n",
       "    </tr>\n",
       "    <tr>\n",
       "      <th>1</th>\n",
       "      <td>209113</td>\n",
       "      <td>380725</td>\n",
       "      <td>삼성전자</td>\n",
       "      <td>20230809</td>\n",
       "      <td>전직</td>\n",
       "      <td>추천</td>\n",
       "      <td>정규직</td>\n",
       "      <td>신입</td>\n",
       "      <td>눈치 볼 필요없이 칼퇴가 가능하다. 초봉이 상대적으로 높은 편이다.</td>\n",
       "      <td>높은 업무강도와 특정기간 늘어나는 업무량 휴식시간이 필요</td>\n",
       "      <td>3</td>\n",
       "      <td>생산/제조/설비/조립</td>\n",
       "      <td>3.0</td>\n",
       "    </tr>\n",
       "    <tr>\n",
       "      <th>2</th>\n",
       "      <td>208104</td>\n",
       "      <td>380725</td>\n",
       "      <td>삼성전자</td>\n",
       "      <td>20230626</td>\n",
       "      <td>전직</td>\n",
       "      <td>추천</td>\n",
       "      <td>정규직</td>\n",
       "      <td>신입</td>\n",
       "      <td>정치질을 잘 한다면 일을 열심히 할 필요가 없는 회사. 밥 잘나오고 ot 잘 챙겨준...</td>\n",
       "      <td>정치질을 못한다면 일이 쏟아지고 무능력하지만 정치질 잘하는 상사와 비례로 뽑힌 여사...</td>\n",
       "      <td>3</td>\n",
       "      <td>웹개발</td>\n",
       "      <td>4.6</td>\n",
       "    </tr>\n",
       "    <tr>\n",
       "      <th>3</th>\n",
       "      <td>208095</td>\n",
       "      <td>380725</td>\n",
       "      <td>삼성전자</td>\n",
       "      <td>20230626</td>\n",
       "      <td>현직</td>\n",
       "      <td>추천</td>\n",
       "      <td>정규직</td>\n",
       "      <td>신입</td>\n",
       "      <td>눈치 안보고 연차 사용가능 복지가 매우 좋다 헬스장 샤워실 등등</td>\n",
       "      <td>위치 빼고 없다 역시 갓기업이다 너무 마음에 듭니다 갓삼성</td>\n",
       "      <td>1</td>\n",
       "      <td>일반영업</td>\n",
       "      <td>2.6</td>\n",
       "    </tr>\n",
       "    <tr>\n",
       "      <th>4</th>\n",
       "      <td>207978</td>\n",
       "      <td>380725</td>\n",
       "      <td>삼성전자</td>\n",
       "      <td>20230621</td>\n",
       "      <td>전직</td>\n",
       "      <td>비추</td>\n",
       "      <td>정규직</td>\n",
       "      <td>경력</td>\n",
       "      <td>복지 면에서는 타의 추종 불허. 연봉은 성과급 변수 있지만 대체로 만족</td>\n",
       "      <td>워라밸 없음. 전혀 없음. 개인 생활 없음. 경직된 문화</td>\n",
       "      <td>14</td>\n",
       "      <td>기획/전략/경영</td>\n",
       "      <td>2.4</td>\n",
       "    </tr>\n",
       "    <tr>\n",
       "      <th>...</th>\n",
       "      <td>...</td>\n",
       "      <td>...</td>\n",
       "      <td>...</td>\n",
       "      <td>...</td>\n",
       "      <td>...</td>\n",
       "      <td>...</td>\n",
       "      <td>...</td>\n",
       "      <td>...</td>\n",
       "      <td>...</td>\n",
       "      <td>...</td>\n",
       "      <td>...</td>\n",
       "      <td>...</td>\n",
       "      <td>...</td>\n",
       "    </tr>\n",
       "    <tr>\n",
       "      <th>301</th>\n",
       "      <td>120892</td>\n",
       "      <td>380725</td>\n",
       "      <td>삼성전자</td>\n",
       "      <td>20200926</td>\n",
       "      <td>전직</td>\n",
       "      <td>추천</td>\n",
       "      <td>정규직</td>\n",
       "      <td>경력</td>\n",
       "      <td>정말 좋은 회사다. 글로벌 회사이며 겉잡을 수 없는 기술력이 독보적</td>\n",
       "      <td>단점은 없다. 그냥 세계 최고의 회사답게 정말 좋다. 사람들이 친절하다.</td>\n",
       "      <td>4</td>\n",
       "      <td>판매/캐셔/매장관리</td>\n",
       "      <td>4.2</td>\n",
       "    </tr>\n",
       "    <tr>\n",
       "      <th>302</th>\n",
       "      <td>120816</td>\n",
       "      <td>380725</td>\n",
       "      <td>삼성전자</td>\n",
       "      <td>20200924</td>\n",
       "      <td>현직</td>\n",
       "      <td>추천</td>\n",
       "      <td>정규직</td>\n",
       "      <td>신입</td>\n",
       "      <td>보너스 굿!! 연차 사용 자유롭고 출퇴근도 자율</td>\n",
       "      <td>관리가 심하고 보고문화가 지나치게 심하다..</td>\n",
       "      <td>13</td>\n",
       "      <td>기획/전략/경영</td>\n",
       "      <td>4.0</td>\n",
       "    </tr>\n",
       "    <tr>\n",
       "      <th>303</th>\n",
       "      <td>120504</td>\n",
       "      <td>380725</td>\n",
       "      <td>삼성전자</td>\n",
       "      <td>20200912</td>\n",
       "      <td>전직</td>\n",
       "      <td>추천</td>\n",
       "      <td>정규직</td>\n",
       "      <td>신입</td>\n",
       "      <td>좋습니다. 대기업인 만큼 여러 성장할 점이 많아요.</td>\n",
       "      <td>일이 빡시고 성과주의라 스트레스는 어쩔 수 없는듯</td>\n",
       "      <td>3</td>\n",
       "      <td>재무/세무/IR</td>\n",
       "      <td>4.0</td>\n",
       "    </tr>\n",
       "    <tr>\n",
       "      <th>304</th>\n",
       "      <td>120412</td>\n",
       "      <td>380725</td>\n",
       "      <td>삼성전자</td>\n",
       "      <td>20200907</td>\n",
       "      <td>전직</td>\n",
       "      <td>추천</td>\n",
       "      <td>정규직</td>\n",
       "      <td>경력</td>\n",
       "      <td>사내 프로세스 및 일처리가 깨끗하고 깔끔하다. 다양한 직무를 경험할 수 있다.</td>\n",
       "      <td>부서별 편차가 너무 크다. 임원들의 단기 성과가 중요해서, 직원들의 장기적인 성장을...</td>\n",
       "      <td>11</td>\n",
       "      <td>네트워크/서버/보안</td>\n",
       "      <td>3.4</td>\n",
       "    </tr>\n",
       "    <tr>\n",
       "      <th>305</th>\n",
       "      <td>120385</td>\n",
       "      <td>380725</td>\n",
       "      <td>삼성전자</td>\n",
       "      <td>20200906</td>\n",
       "      <td>전직</td>\n",
       "      <td>추천</td>\n",
       "      <td>정규직</td>\n",
       "      <td>신입</td>\n",
       "      <td>해외근무 기회 및 다양한 경험의 기회를 가질 수 있었음</td>\n",
       "      <td>근무강도가 세고 임원 승진이 매우 중요해서 임원 외 직원간 차이가 너무 큼</td>\n",
       "      <td>22</td>\n",
       "      <td>무역영업/해외영업</td>\n",
       "      <td>2.6</td>\n",
       "    </tr>\n",
       "  </tbody>\n",
       "</table>\n",
       "<p>306 rows × 13 columns</p>\n",
       "</div>"
      ],
      "text/plain": [
       "        idx  CompID CompName   RegDate EmployText RecomName EmployType NewOld   \n",
       "0    209151  380725     삼성전자  20230810         현직        추천        정규직     신입  \\\n",
       "1    209113  380725     삼성전자  20230809         전직        추천        정규직     신입   \n",
       "2    208104  380725     삼성전자  20230626         전직        추천        정규직     신입   \n",
       "3    208095  380725     삼성전자  20230626         현직        추천        정규직     신입   \n",
       "4    207978  380725     삼성전자  20230621         전직        비추        정규직     경력   \n",
       "..      ...     ...      ...       ...        ...       ...        ...    ...   \n",
       "301  120892  380725     삼성전자  20200926         전직        추천        정규직     경력   \n",
       "302  120816  380725     삼성전자  20200924         현직        추천        정규직     신입   \n",
       "303  120504  380725     삼성전자  20200912         전직        추천        정규직     신입   \n",
       "304  120412  380725     삼성전자  20200907         전직        추천        정규직     경력   \n",
       "305  120385  380725     삼성전자  20200906         전직        추천        정규직     신입   \n",
       "\n",
       "                                                  Good   \n",
       "0                       어학 지원 칼퇴 가능 자울 출퇴근제 식사 제공 통근버스  \\\n",
       "1                눈치 볼 필요없이 칼퇴가 가능하다. 초봉이 상대적으로 높은 편이다.   \n",
       "2    정치질을 잘 한다면 일을 열심히 할 필요가 없는 회사. 밥 잘나오고 ot 잘 챙겨준...   \n",
       "3                  눈치 안보고 연차 사용가능 복지가 매우 좋다 헬스장 샤워실 등등   \n",
       "4              복지 면에서는 타의 추종 불허. 연봉은 성과급 변수 있지만 대체로 만족   \n",
       "..                                                 ...   \n",
       "301              정말 좋은 회사다. 글로벌 회사이며 겉잡을 수 없는 기술력이 독보적   \n",
       "302                         보너스 굿!! 연차 사용 자유롭고 출퇴근도 자율   \n",
       "303                       좋습니다. 대기업인 만큼 여러 성장할 점이 많아요.   \n",
       "304        사내 프로세스 및 일처리가 깨끗하고 깔끔하다. 다양한 직무를 경험할 수 있다.   \n",
       "305                     해외근무 기회 및 다양한 경험의 기회를 가질 수 있었음   \n",
       "\n",
       "                                                   Bad  CareerYear   \n",
       "0                       수직적 조직문화 선택적 복리후생 불투명한 소통 기타등등          13  \\\n",
       "1                      높은 업무강도와 특정기간 늘어나는 업무량 휴식시간이 필요           3   \n",
       "2    정치질을 못한다면 일이 쏟아지고 무능력하지만 정치질 잘하는 상사와 비례로 뽑힌 여사...           3   \n",
       "3                     위치 빼고 없다 역시 갓기업이다 너무 마음에 듭니다 갓삼성           1   \n",
       "4                      워라밸 없음. 전혀 없음. 개인 생활 없음. 경직된 문화          14   \n",
       "..                                                 ...         ...   \n",
       "301           단점은 없다. 그냥 세계 최고의 회사답게 정말 좋다. 사람들이 친절하다.           4   \n",
       "302                           관리가 심하고 보고문화가 지나치게 심하다..          13   \n",
       "303                        일이 빡시고 성과주의라 스트레스는 어쩔 수 없는듯           3   \n",
       "304  부서별 편차가 너무 크다. 임원들의 단기 성과가 중요해서, 직원들의 장기적인 성장을...          11   \n",
       "305          근무강도가 세고 임원 승진이 매우 중요해서 임원 외 직원간 차이가 너무 큼          22   \n",
       "\n",
       "            JobName  MyStarScore  \n",
       "0    생산관리/공정관리/품질관리          4.0  \n",
       "1       생산/제조/설비/조립          3.0  \n",
       "2               웹개발          4.6  \n",
       "3              일반영업          2.6  \n",
       "4          기획/전략/경영          2.4  \n",
       "..              ...          ...  \n",
       "301      판매/캐셔/매장관리          4.2  \n",
       "302        기획/전략/경영          4.0  \n",
       "303        재무/세무/IR          4.0  \n",
       "304      네트워크/서버/보안          3.4  \n",
       "305       무역영업/해외영업          2.6  \n",
       "\n",
       "[306 rows x 13 columns]"
      ]
     },
     "execution_count": 27,
     "metadata": {},
     "output_type": "execute_result"
    }
   ],
   "source": [
    "\n",
    "try : \n",
    "    # comp_id = 380725\n",
    "    p_num = 1\n",
    "\n",
    "    rv = []\n",
    "\n",
    "\n",
    "    while True : \n",
    "\n",
    "        url = f'https://www.catch.co.kr/api/v1.0/comp/reviewInfo/{comp_id}/commentList?currentPage={p_num}&pageSize=2000&isNew=false&employType=1&isEmploy=false&jobCode='\n",
    "        rv.append(requests.get(url).json()['reviewList'])\n",
    "\n",
    "        p_num += 1\n",
    "\n",
    "        if len(requests.get(url).json()['reviewList']) == 0 :\n",
    "            break\n",
    "\n",
    "\n",
    "    data = list(itertools.chain.from_iterable(rv))\n",
    "    df = pd.DataFrame(data)\n",
    "\n",
    "    df.drop(['CI', 'Gender2', 'Answer', 'UsefulY', 'CareerYearYN',  'MyUsefulY', 'MyOpinion', \n",
    "            'Keyword1', 'Keyword2', 'Keyword3', 'Keyword1YN', 'Keyword2YN', 'Keyword3YN', 'Area'], \n",
    "            axis=1, inplace=True)\n",
    "    df['Good'] = df['Good'].apply(lambda x: re.sub(r'\\s+', ' ', re.sub(r'\\n+', ' ', x)).strip())\n",
    "    df['Bad'] = df['Bad'].apply(lambda x: re.sub(r'\\s+', ' ', re.sub(r'\\n+', ' ', x)).strip())\n",
    "    df['RegDate'] = df['RegDate'].apply(lambda x: re.sub(r'[^0-9]', '', x)[:8].strip())\n",
    "    \n",
    "\n",
    "\n",
    "except :\n",
    "    print(\"리뷰가 존재하지 않습니다.\")\n",
    "\n",
    "\n",
    "df\n"
   ]
  },
  {
   "cell_type": "markdown",
   "metadata": {},
   "source": [
    "# 컬럼명 및 데이터 변경"
   ]
  },
  {
   "cell_type": "markdown",
   "metadata": {},
   "source": [
    "### 컬럼명 변경"
   ]
  },
  {
   "cell_type": "code",
   "execution_count": 28,
   "metadata": {},
   "outputs": [
    {
     "data": {
      "text/plain": [
       "Index(['idx', 'CompID', 'CompName', 'RegDate', 'EmployText', 'RecomName',\n",
       "       'EmployType', 'NewOld', 'Good', 'Bad', 'CareerYear', 'JobName',\n",
       "       'MyStarScore'],\n",
       "      dtype='object')"
      ]
     },
     "execution_count": 28,
     "metadata": {},
     "output_type": "execute_result"
    }
   ],
   "source": [
    "df.columns"
   ]
  },
  {
   "cell_type": "code",
   "execution_count": 29,
   "metadata": {},
   "outputs": [
    {
     "data": {
      "text/html": [
       "<div>\n",
       "<style scoped>\n",
       "    .dataframe tbody tr th:only-of-type {\n",
       "        vertical-align: middle;\n",
       "    }\n",
       "\n",
       "    .dataframe tbody tr th {\n",
       "        vertical-align: top;\n",
       "    }\n",
       "\n",
       "    .dataframe thead th {\n",
       "        text-align: right;\n",
       "    }\n",
       "</style>\n",
       "<table border=\"1\" class=\"dataframe\">\n",
       "  <thead>\n",
       "    <tr style=\"text-align: right;\">\n",
       "      <th></th>\n",
       "      <th>idx</th>\n",
       "      <th>CompID</th>\n",
       "      <th>comp_name</th>\n",
       "      <th>review_date</th>\n",
       "      <th>is_office</th>\n",
       "      <th>RecomName</th>\n",
       "      <th>EmployType</th>\n",
       "      <th>NewOld</th>\n",
       "      <th>review_pos</th>\n",
       "      <th>review_neg</th>\n",
       "      <th>CareerYear</th>\n",
       "      <th>position</th>\n",
       "      <th>review_rate</th>\n",
       "    </tr>\n",
       "  </thead>\n",
       "  <tbody>\n",
       "    <tr>\n",
       "      <th>0</th>\n",
       "      <td>209151</td>\n",
       "      <td>380725</td>\n",
       "      <td>삼성전자</td>\n",
       "      <td>20230810</td>\n",
       "      <td>현직</td>\n",
       "      <td>추천</td>\n",
       "      <td>정규직</td>\n",
       "      <td>신입</td>\n",
       "      <td>어학 지원 칼퇴 가능 자울 출퇴근제 식사 제공 통근버스</td>\n",
       "      <td>수직적 조직문화 선택적 복리후생 불투명한 소통 기타등등</td>\n",
       "      <td>13</td>\n",
       "      <td>생산관리/공정관리/품질관리</td>\n",
       "      <td>4.0</td>\n",
       "    </tr>\n",
       "    <tr>\n",
       "      <th>1</th>\n",
       "      <td>209113</td>\n",
       "      <td>380725</td>\n",
       "      <td>삼성전자</td>\n",
       "      <td>20230809</td>\n",
       "      <td>전직</td>\n",
       "      <td>추천</td>\n",
       "      <td>정규직</td>\n",
       "      <td>신입</td>\n",
       "      <td>눈치 볼 필요없이 칼퇴가 가능하다. 초봉이 상대적으로 높은 편이다.</td>\n",
       "      <td>높은 업무강도와 특정기간 늘어나는 업무량 휴식시간이 필요</td>\n",
       "      <td>3</td>\n",
       "      <td>생산/제조/설비/조립</td>\n",
       "      <td>3.0</td>\n",
       "    </tr>\n",
       "    <tr>\n",
       "      <th>2</th>\n",
       "      <td>208104</td>\n",
       "      <td>380725</td>\n",
       "      <td>삼성전자</td>\n",
       "      <td>20230626</td>\n",
       "      <td>전직</td>\n",
       "      <td>추천</td>\n",
       "      <td>정규직</td>\n",
       "      <td>신입</td>\n",
       "      <td>정치질을 잘 한다면 일을 열심히 할 필요가 없는 회사. 밥 잘나오고 ot 잘 챙겨준...</td>\n",
       "      <td>정치질을 못한다면 일이 쏟아지고 무능력하지만 정치질 잘하는 상사와 비례로 뽑힌 여사...</td>\n",
       "      <td>3</td>\n",
       "      <td>웹개발</td>\n",
       "      <td>4.6</td>\n",
       "    </tr>\n",
       "    <tr>\n",
       "      <th>3</th>\n",
       "      <td>208095</td>\n",
       "      <td>380725</td>\n",
       "      <td>삼성전자</td>\n",
       "      <td>20230626</td>\n",
       "      <td>현직</td>\n",
       "      <td>추천</td>\n",
       "      <td>정규직</td>\n",
       "      <td>신입</td>\n",
       "      <td>눈치 안보고 연차 사용가능 복지가 매우 좋다 헬스장 샤워실 등등</td>\n",
       "      <td>위치 빼고 없다 역시 갓기업이다 너무 마음에 듭니다 갓삼성</td>\n",
       "      <td>1</td>\n",
       "      <td>일반영업</td>\n",
       "      <td>2.6</td>\n",
       "    </tr>\n",
       "    <tr>\n",
       "      <th>4</th>\n",
       "      <td>207978</td>\n",
       "      <td>380725</td>\n",
       "      <td>삼성전자</td>\n",
       "      <td>20230621</td>\n",
       "      <td>전직</td>\n",
       "      <td>비추</td>\n",
       "      <td>정규직</td>\n",
       "      <td>경력</td>\n",
       "      <td>복지 면에서는 타의 추종 불허. 연봉은 성과급 변수 있지만 대체로 만족</td>\n",
       "      <td>워라밸 없음. 전혀 없음. 개인 생활 없음. 경직된 문화</td>\n",
       "      <td>14</td>\n",
       "      <td>기획/전략/경영</td>\n",
       "      <td>2.4</td>\n",
       "    </tr>\n",
       "    <tr>\n",
       "      <th>...</th>\n",
       "      <td>...</td>\n",
       "      <td>...</td>\n",
       "      <td>...</td>\n",
       "      <td>...</td>\n",
       "      <td>...</td>\n",
       "      <td>...</td>\n",
       "      <td>...</td>\n",
       "      <td>...</td>\n",
       "      <td>...</td>\n",
       "      <td>...</td>\n",
       "      <td>...</td>\n",
       "      <td>...</td>\n",
       "      <td>...</td>\n",
       "    </tr>\n",
       "    <tr>\n",
       "      <th>301</th>\n",
       "      <td>120892</td>\n",
       "      <td>380725</td>\n",
       "      <td>삼성전자</td>\n",
       "      <td>20200926</td>\n",
       "      <td>전직</td>\n",
       "      <td>추천</td>\n",
       "      <td>정규직</td>\n",
       "      <td>경력</td>\n",
       "      <td>정말 좋은 회사다. 글로벌 회사이며 겉잡을 수 없는 기술력이 독보적</td>\n",
       "      <td>단점은 없다. 그냥 세계 최고의 회사답게 정말 좋다. 사람들이 친절하다.</td>\n",
       "      <td>4</td>\n",
       "      <td>판매/캐셔/매장관리</td>\n",
       "      <td>4.2</td>\n",
       "    </tr>\n",
       "    <tr>\n",
       "      <th>302</th>\n",
       "      <td>120816</td>\n",
       "      <td>380725</td>\n",
       "      <td>삼성전자</td>\n",
       "      <td>20200924</td>\n",
       "      <td>현직</td>\n",
       "      <td>추천</td>\n",
       "      <td>정규직</td>\n",
       "      <td>신입</td>\n",
       "      <td>보너스 굿!! 연차 사용 자유롭고 출퇴근도 자율</td>\n",
       "      <td>관리가 심하고 보고문화가 지나치게 심하다..</td>\n",
       "      <td>13</td>\n",
       "      <td>기획/전략/경영</td>\n",
       "      <td>4.0</td>\n",
       "    </tr>\n",
       "    <tr>\n",
       "      <th>303</th>\n",
       "      <td>120504</td>\n",
       "      <td>380725</td>\n",
       "      <td>삼성전자</td>\n",
       "      <td>20200912</td>\n",
       "      <td>전직</td>\n",
       "      <td>추천</td>\n",
       "      <td>정규직</td>\n",
       "      <td>신입</td>\n",
       "      <td>좋습니다. 대기업인 만큼 여러 성장할 점이 많아요.</td>\n",
       "      <td>일이 빡시고 성과주의라 스트레스는 어쩔 수 없는듯</td>\n",
       "      <td>3</td>\n",
       "      <td>재무/세무/IR</td>\n",
       "      <td>4.0</td>\n",
       "    </tr>\n",
       "    <tr>\n",
       "      <th>304</th>\n",
       "      <td>120412</td>\n",
       "      <td>380725</td>\n",
       "      <td>삼성전자</td>\n",
       "      <td>20200907</td>\n",
       "      <td>전직</td>\n",
       "      <td>추천</td>\n",
       "      <td>정규직</td>\n",
       "      <td>경력</td>\n",
       "      <td>사내 프로세스 및 일처리가 깨끗하고 깔끔하다. 다양한 직무를 경험할 수 있다.</td>\n",
       "      <td>부서별 편차가 너무 크다. 임원들의 단기 성과가 중요해서, 직원들의 장기적인 성장을...</td>\n",
       "      <td>11</td>\n",
       "      <td>네트워크/서버/보안</td>\n",
       "      <td>3.4</td>\n",
       "    </tr>\n",
       "    <tr>\n",
       "      <th>305</th>\n",
       "      <td>120385</td>\n",
       "      <td>380725</td>\n",
       "      <td>삼성전자</td>\n",
       "      <td>20200906</td>\n",
       "      <td>전직</td>\n",
       "      <td>추천</td>\n",
       "      <td>정규직</td>\n",
       "      <td>신입</td>\n",
       "      <td>해외근무 기회 및 다양한 경험의 기회를 가질 수 있었음</td>\n",
       "      <td>근무강도가 세고 임원 승진이 매우 중요해서 임원 외 직원간 차이가 너무 큼</td>\n",
       "      <td>22</td>\n",
       "      <td>무역영업/해외영업</td>\n",
       "      <td>2.6</td>\n",
       "    </tr>\n",
       "  </tbody>\n",
       "</table>\n",
       "<p>306 rows × 13 columns</p>\n",
       "</div>"
      ],
      "text/plain": [
       "        idx  CompID comp_name review_date is_office RecomName EmployType   \n",
       "0    209151  380725      삼성전자    20230810        현직        추천        정규직  \\\n",
       "1    209113  380725      삼성전자    20230809        전직        추천        정규직   \n",
       "2    208104  380725      삼성전자    20230626        전직        추천        정규직   \n",
       "3    208095  380725      삼성전자    20230626        현직        추천        정규직   \n",
       "4    207978  380725      삼성전자    20230621        전직        비추        정규직   \n",
       "..      ...     ...       ...         ...       ...       ...        ...   \n",
       "301  120892  380725      삼성전자    20200926        전직        추천        정규직   \n",
       "302  120816  380725      삼성전자    20200924        현직        추천        정규직   \n",
       "303  120504  380725      삼성전자    20200912        전직        추천        정규직   \n",
       "304  120412  380725      삼성전자    20200907        전직        추천        정규직   \n",
       "305  120385  380725      삼성전자    20200906        전직        추천        정규직   \n",
       "\n",
       "    NewOld                                         review_pos   \n",
       "0       신입                     어학 지원 칼퇴 가능 자울 출퇴근제 식사 제공 통근버스  \\\n",
       "1       신입              눈치 볼 필요없이 칼퇴가 가능하다. 초봉이 상대적으로 높은 편이다.   \n",
       "2       신입  정치질을 잘 한다면 일을 열심히 할 필요가 없는 회사. 밥 잘나오고 ot 잘 챙겨준...   \n",
       "3       신입                눈치 안보고 연차 사용가능 복지가 매우 좋다 헬스장 샤워실 등등   \n",
       "4       경력            복지 면에서는 타의 추종 불허. 연봉은 성과급 변수 있지만 대체로 만족   \n",
       "..     ...                                                ...   \n",
       "301     경력              정말 좋은 회사다. 글로벌 회사이며 겉잡을 수 없는 기술력이 독보적   \n",
       "302     신입                         보너스 굿!! 연차 사용 자유롭고 출퇴근도 자율   \n",
       "303     신입                       좋습니다. 대기업인 만큼 여러 성장할 점이 많아요.   \n",
       "304     경력        사내 프로세스 및 일처리가 깨끗하고 깔끔하다. 다양한 직무를 경험할 수 있다.   \n",
       "305     신입                     해외근무 기회 및 다양한 경험의 기회를 가질 수 있었음   \n",
       "\n",
       "                                            review_neg  CareerYear   \n",
       "0                       수직적 조직문화 선택적 복리후생 불투명한 소통 기타등등          13  \\\n",
       "1                      높은 업무강도와 특정기간 늘어나는 업무량 휴식시간이 필요           3   \n",
       "2    정치질을 못한다면 일이 쏟아지고 무능력하지만 정치질 잘하는 상사와 비례로 뽑힌 여사...           3   \n",
       "3                     위치 빼고 없다 역시 갓기업이다 너무 마음에 듭니다 갓삼성           1   \n",
       "4                      워라밸 없음. 전혀 없음. 개인 생활 없음. 경직된 문화          14   \n",
       "..                                                 ...         ...   \n",
       "301           단점은 없다. 그냥 세계 최고의 회사답게 정말 좋다. 사람들이 친절하다.           4   \n",
       "302                           관리가 심하고 보고문화가 지나치게 심하다..          13   \n",
       "303                        일이 빡시고 성과주의라 스트레스는 어쩔 수 없는듯           3   \n",
       "304  부서별 편차가 너무 크다. 임원들의 단기 성과가 중요해서, 직원들의 장기적인 성장을...          11   \n",
       "305          근무강도가 세고 임원 승진이 매우 중요해서 임원 외 직원간 차이가 너무 큼          22   \n",
       "\n",
       "           position  review_rate  \n",
       "0    생산관리/공정관리/품질관리          4.0  \n",
       "1       생산/제조/설비/조립          3.0  \n",
       "2               웹개발          4.6  \n",
       "3              일반영업          2.6  \n",
       "4          기획/전략/경영          2.4  \n",
       "..              ...          ...  \n",
       "301      판매/캐셔/매장관리          4.2  \n",
       "302        기획/전략/경영          4.0  \n",
       "303        재무/세무/IR          4.0  \n",
       "304      네트워크/서버/보안          3.4  \n",
       "305       무역영업/해외영업          2.6  \n",
       "\n",
       "[306 rows x 13 columns]"
      ]
     },
     "execution_count": 29,
     "metadata": {},
     "output_type": "execute_result"
    }
   ],
   "source": [
    "df.rename(columns=\n",
    "          {'CompName':'comp_name', \n",
    "           'RegDate':'review_date', \n",
    "           'EmployText':'is_office', \n",
    "           'Good':'review_pos', \n",
    "           'Bad':'review_neg', \n",
    "           'MyStarScore':'review_rate', \n",
    "           'JobName':'position'\n",
    "           }, inplace=True)\n",
    "\n",
    "df"
   ]
  },
  {
   "cell_type": "code",
   "execution_count": 30,
   "metadata": {},
   "outputs": [
    {
     "data": {
      "text/plain": [
       "Index(['idx', 'CompID', 'comp_name', 'review_date', 'is_office', 'RecomName',\n",
       "       'EmployType', 'NewOld', 'review_pos', 'review_neg', 'CareerYear',\n",
       "       'position', 'review_rate'],\n",
       "      dtype='object')"
      ]
     },
     "execution_count": 30,
     "metadata": {},
     "output_type": "execute_result"
    }
   ],
   "source": [
    "df.columns"
   ]
  },
  {
   "cell_type": "markdown",
   "metadata": {},
   "source": [
    "### 전/현직 여부를 Boolean 값으로 변경"
   ]
  },
  {
   "cell_type": "code",
   "execution_count": 114,
   "metadata": {},
   "outputs": [
    {
     "data": {
      "text/plain": [
       "0      현직\n",
       "1      전직\n",
       "2      전직\n",
       "3      현직\n",
       "4      전직\n",
       "       ..\n",
       "301    전직\n",
       "302    현직\n",
       "303    전직\n",
       "304    전직\n",
       "305    전직\n",
       "Name: is_office, Length: 306, dtype: object"
      ]
     },
     "execution_count": 114,
     "metadata": {},
     "output_type": "execute_result"
    }
   ],
   "source": [
    "df['is_office']"
   ]
  },
  {
   "cell_type": "code",
   "execution_count": 115,
   "metadata": {},
   "outputs": [],
   "source": [
    "df['is_office'] = df['is_office'].apply(lambda x: x.replace('현직', '1').strip() == '1')"
   ]
  },
  {
   "cell_type": "code",
   "execution_count": 116,
   "metadata": {},
   "outputs": [
    {
     "data": {
      "text/plain": [
       "0       True\n",
       "1      False\n",
       "2      False\n",
       "3       True\n",
       "4      False\n",
       "       ...  \n",
       "301    False\n",
       "302     True\n",
       "303    False\n",
       "304    False\n",
       "305    False\n",
       "Name: is_office, Length: 306, dtype: bool"
      ]
     },
     "execution_count": 116,
     "metadata": {},
     "output_type": "execute_result"
    }
   ],
   "source": [
    "df['is_office']"
   ]
  },
  {
   "cell_type": "markdown",
   "metadata": {},
   "source": [
    "# DataFrame to CSV file"
   ]
  },
  {
   "cell_type": "code",
   "execution_count": null,
   "metadata": {},
   "outputs": [],
   "source": [
    "SAVE_PATH = r'./data/'"
   ]
  },
  {
   "cell_type": "code",
   "execution_count": null,
   "metadata": {},
   "outputs": [],
   "source": [
    "df['CompName'][0]"
   ]
  },
  {
   "cell_type": "code",
   "execution_count": null,
   "metadata": {},
   "outputs": [],
   "source": [
    "comp = df['CompName'][0]"
   ]
  },
  {
   "cell_type": "code",
   "execution_count": null,
   "metadata": {},
   "outputs": [],
   "source": [
    "os.makedirs(SAVE_PATH, exist_ok=True)\n",
    "\n",
    "# csv 파일로 저장.\n",
    "\n",
    "file_name = f\"{comp}_reviews.csv\"\n",
    "save_file_path = os.path.join(SAVE_PATH, file_name)\n",
    "\n",
    "df.to_csv(save_file_path, index=False, encoding = \"utf-8\")"
   ]
  },
  {
   "cell_type": "code",
   "execution_count": null,
   "metadata": {},
   "outputs": [],
   "source": []
  },
  {
   "cell_type": "code",
   "execution_count": null,
   "metadata": {},
   "outputs": [],
   "source": []
  },
  {
   "cell_type": "code",
   "execution_count": null,
   "metadata": {},
   "outputs": [],
   "source": []
  },
  {
   "cell_type": "markdown",
   "metadata": {},
   "source": [
    "# 함수화"
   ]
  },
  {
   "cell_type": "code",
   "execution_count": 2,
   "metadata": {},
   "outputs": [],
   "source": [
    "SAVE_PATH = r'./data/'"
   ]
  },
  {
   "cell_type": "code",
   "execution_count": 33,
   "metadata": {},
   "outputs": [],
   "source": [
    "def RV_Catch(comp = str): \n",
    "    \n",
    "    search_url = 'https://www.catch.co.kr/Search/SearchList?Keyword={}'\n",
    "    search_req = requests.get(search_url.format(comp)) # Keyword = comp_name\n",
    "    # print(search_req.text)\n",
    "\n",
    "    search_soup = BeautifulSoup(search_req.text, 'lxml')\n",
    "    # search_soup.text\n",
    "    search_soup.select('li:nth-child(1) > div.txt > p.name > a')\n",
    "\n",
    "    comp_id = re.sub(r'[^0-9]', '', str(search_soup.select('li:nth-child(1) > div.txt > p.name > a')))\n",
    "\n",
    "\n",
    "\n",
    "\n",
    "\n",
    "    p_num = 1\n",
    "\n",
    "    rv = []\n",
    "\n",
    "\n",
    "\n",
    "    try : \n",
    "\n",
    "        while True : \n",
    "\n",
    "            url = f'https://www.catch.co.kr/api/v1.0/comp/reviewInfo/{comp_id}/commentList?currentPage={p_num}&pageSize=2000&isNew=false&employType=1&isEmploy=false&jobCode='\n",
    "            rv.append(requests.get(url).json()['reviewList'])\n",
    "\n",
    "            p_num += 1\n",
    "\n",
    "            if len(requests.get(url).json()['reviewList']) == 0 :\n",
    "                break\n",
    "\n",
    "\n",
    "        data = list(itertools.chain.from_iterable(rv))\n",
    "        df = pd.DataFrame(data)\n",
    "\n",
    "\n",
    "        df.drop(['CI', 'Gender2', 'Answer', 'UsefulY', 'CareerYearYN',  'MyUsefulY', 'MyOpinion', \n",
    "                'Keyword1', 'Keyword2', 'Keyword3', 'Keyword1YN', 'Keyword2YN', 'Keyword3YN', 'Area'], \n",
    "                axis=1, inplace=True)\n",
    "        \n",
    "        df['Good'] = df['Good'].apply(lambda x: re.sub(r'\\s+', ' ', re.sub(r'\\n+', ' ', x)).strip())\n",
    "        df['Bad'] = df['Bad'].apply(lambda x: re.sub(r'\\s+', ' ', re.sub(r'\\n+', ' ', x)).strip())\n",
    "\n",
    "        df['RegDate'] = df['RegDate'].apply(lambda x: re.sub(r'[^0-9]', '', x)[:8].strip())\n",
    "\n",
    "        df['EmployText'] = df['EmployText'].apply(lambda x: x.replace('현직', '1').strip() == '1')\n",
    "\n",
    "\n",
    "\n",
    "        \n",
    "\n",
    "        \n",
    "        \n",
    "        \n",
    "        # csv 파일로 저장.\n",
    "\n",
    "        comp = df['CompName'][0]\n",
    "\n",
    "        os.makedirs(SAVE_PATH, exist_ok=True)\n",
    "\n",
    "        file_name = f\"{comp}_reviews.csv\"\n",
    "        save_file_path = os.path.join(SAVE_PATH, file_name)\n",
    "\n",
    "        df.to_csv(save_file_path, index=False, encoding = \"utf-8\")\n",
    "        \n",
    "\n",
    "\n",
    "        \n",
    "    except : \n",
    "        print(\"리뷰가 존재하지 않습니다.\")\n",
    "\n",
    "\n"
   ]
  },
  {
   "cell_type": "code",
   "execution_count": 34,
   "metadata": {},
   "outputs": [],
   "source": [
    "RV_Catch('SK하이닉')"
   ]
  },
  {
   "cell_type": "code",
   "execution_count": 19,
   "metadata": {},
   "outputs": [
    {
     "name": "stdout",
     "output_type": "stream",
     "text": [
      "리뷰가 존재하지 않습니다.\n"
     ]
    }
   ],
   "source": [
    "RV_Catch('화인석재')"
   ]
  },
  {
   "cell_type": "code",
   "execution_count": 18,
   "metadata": {},
   "outputs": [],
   "source": [
    "RV_Catch('삼성전자')"
   ]
  },
  {
   "cell_type": "code",
   "execution_count": 35,
   "metadata": {},
   "outputs": [],
   "source": [
    "RV_Catch('네이버')"
   ]
  },
  {
   "cell_type": "code",
   "execution_count": 122,
   "metadata": {},
   "outputs": [],
   "source": [
    "RV_Catch('카카오')"
   ]
  }
 ],
 "metadata": {
  "kernelspec": {
   "display_name": "Python 3",
   "language": "python",
   "name": "python3"
  },
  "language_info": {
   "codemirror_mode": {
    "name": "ipython",
    "version": 3
   },
   "file_extension": ".py",
   "mimetype": "text/x-python",
   "name": "python",
   "nbconvert_exporter": "python",
   "pygments_lexer": "ipython3",
   "version": "3.10.11"
  },
  "orig_nbformat": 4
 },
 "nbformat": 4,
 "nbformat_minor": 2
}
