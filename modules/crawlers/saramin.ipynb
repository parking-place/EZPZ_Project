{
 "cells": [
  {
   "cell_type": "code",
   "execution_count": 125,
   "metadata": {},
   "outputs": [],
   "source": [
    "from accounts import si\n",
    "\n",
    "#si.ID, si.PW"
   ]
  },
  {
   "cell_type": "code",
   "execution_count": 71,
   "metadata": {},
   "outputs": [
    {
     "name": "stdout",
     "output_type": "stream",
     "text": [
      "Requirement already satisfied: BeautifulSoup4 in c:\\users\\playdata\\anaconda3\\envs\\ezpz\\lib\\site-packages (4.12.2)\n",
      "Requirement already satisfied: soupsieve>1.2 in c:\\users\\playdata\\anaconda3\\envs\\ezpz\\lib\\site-packages (from BeautifulSoup4) (2.4.1)\n",
      "Requirement already satisfied: lxml in c:\\users\\playdata\\anaconda3\\envs\\ezpz\\lib\\site-packages (4.9.2)\n",
      "Requirement already satisfied: selenium in c:\\users\\playdata\\anaconda3\\envs\\ezpz\\lib\\site-packages (4.10.0)\n",
      "Requirement already satisfied: urllib3[socks]<3,>=1.26 in c:\\users\\playdata\\anaconda3\\envs\\ezpz\\lib\\site-packages (from selenium) (2.0.2)\n",
      "Requirement already satisfied: trio-websocket~=0.9 in c:\\users\\playdata\\anaconda3\\envs\\ezpz\\lib\\site-packages (from selenium) (0.10.3)\n",
      "Requirement already satisfied: trio~=0.17 in c:\\users\\playdata\\anaconda3\\envs\\ezpz\\lib\\site-packages (from selenium) (0.22.1)\n",
      "Requirement already satisfied: certifi>=2021.10.8 in c:\\users\\playdata\\anaconda3\\envs\\ezpz\\lib\\site-packages (from selenium) (2023.5.7)\n",
      "Requirement already satisfied: outcome in c:\\users\\playdata\\anaconda3\\envs\\ezpz\\lib\\site-packages (from trio~=0.17->selenium) (1.2.0)\n",
      "Requirement already satisfied: exceptiongroup>=1.0.0rc9 in c:\\users\\playdata\\anaconda3\\envs\\ezpz\\lib\\site-packages (from trio~=0.17->selenium) (1.1.2)\n",
      "Requirement already satisfied: sortedcontainers in c:\\users\\playdata\\anaconda3\\envs\\ezpz\\lib\\site-packages (from trio~=0.17->selenium) (2.4.0)\n",
      "Requirement already satisfied: attrs>=20.1.0 in c:\\users\\playdata\\anaconda3\\envs\\ezpz\\lib\\site-packages (from trio~=0.17->selenium) (23.1.0)\n",
      "Requirement already satisfied: sniffio in c:\\users\\playdata\\anaconda3\\envs\\ezpz\\lib\\site-packages (from trio~=0.17->selenium) (1.3.0)\n",
      "Requirement already satisfied: idna in c:\\users\\playdata\\anaconda3\\envs\\ezpz\\lib\\site-packages (from trio~=0.17->selenium) (3.4)\n",
      "Requirement already satisfied: cffi>=1.14 in c:\\users\\playdata\\anaconda3\\envs\\ezpz\\lib\\site-packages (from trio~=0.17->selenium) (1.15.1)\n",
      "Requirement already satisfied: wsproto>=0.14 in c:\\users\\playdata\\anaconda3\\envs\\ezpz\\lib\\site-packages (from trio-websocket~=0.9->selenium) (1.2.0)\n",
      "Requirement already satisfied: pysocks!=1.5.7,<2.0,>=1.5.6 in c:\\users\\playdata\\anaconda3\\envs\\ezpz\\lib\\site-packages (from urllib3[socks]<3,>=1.26->selenium) (1.7.1)\n",
      "Requirement already satisfied: pycparser in c:\\users\\playdata\\anaconda3\\envs\\ezpz\\lib\\site-packages (from cffi>=1.14->trio~=0.17->selenium) (2.21)\n",
      "Requirement already satisfied: h11<1,>=0.9.0 in c:\\users\\playdata\\anaconda3\\envs\\ezpz\\lib\\site-packages (from wsproto>=0.14->trio-websocket~=0.9->selenium) (0.14.0)\n",
      "Requirement already satisfied: selenium in c:\\users\\playdata\\anaconda3\\envs\\ezpz\\lib\\site-packages (4.10.0)\n",
      "Requirement already satisfied: urllib3[socks]<3,>=1.26 in c:\\users\\playdata\\anaconda3\\envs\\ezpz\\lib\\site-packages (from selenium) (2.0.2)\n",
      "Requirement already satisfied: certifi>=2021.10.8 in c:\\users\\playdata\\anaconda3\\envs\\ezpz\\lib\\site-packages (from selenium) (2023.5.7)\n",
      "Requirement already satisfied: trio-websocket~=0.9 in c:\\users\\playdata\\anaconda3\\envs\\ezpz\\lib\\site-packages (from selenium) (0.10.3)\n",
      "Requirement already satisfied: trio~=0.17 in c:\\users\\playdata\\anaconda3\\envs\\ezpz\\lib\\site-packages (from selenium) (0.22.1)\n",
      "Requirement already satisfied: cffi>=1.14 in c:\\users\\playdata\\anaconda3\\envs\\ezpz\\lib\\site-packages (from trio~=0.17->selenium) (1.15.1)\n",
      "Requirement already satisfied: attrs>=20.1.0 in c:\\users\\playdata\\anaconda3\\envs\\ezpz\\lib\\site-packages (from trio~=0.17->selenium) (23.1.0)\n",
      "Requirement already satisfied: idna in c:\\users\\playdata\\anaconda3\\envs\\ezpz\\lib\\site-packages (from trio~=0.17->selenium) (3.4)\n",
      "Requirement already satisfied: exceptiongroup>=1.0.0rc9 in c:\\users\\playdata\\anaconda3\\envs\\ezpz\\lib\\site-packages (from trio~=0.17->selenium) (1.1.2)\n",
      "Requirement already satisfied: sniffio in c:\\users\\playdata\\anaconda3\\envs\\ezpz\\lib\\site-packages (from trio~=0.17->selenium) (1.3.0)\n",
      "Requirement already satisfied: sortedcontainers in c:\\users\\playdata\\anaconda3\\envs\\ezpz\\lib\\site-packages (from trio~=0.17->selenium) (2.4.0)\n",
      "Requirement already satisfied: outcome in c:\\users\\playdata\\anaconda3\\envs\\ezpz\\lib\\site-packages (from trio~=0.17->selenium) (1.2.0)\n",
      "Requirement already satisfied: wsproto>=0.14 in c:\\users\\playdata\\anaconda3\\envs\\ezpz\\lib\\site-packages (from trio-websocket~=0.9->selenium) (1.2.0)\n",
      "Requirement already satisfied: pysocks!=1.5.7,<2.0,>=1.5.6 in c:\\users\\playdata\\anaconda3\\envs\\ezpz\\lib\\site-packages (from urllib3[socks]<3,>=1.26->selenium) (1.7.1)\n",
      "Requirement already satisfied: pycparser in c:\\users\\playdata\\anaconda3\\envs\\ezpz\\lib\\site-packages (from cffi>=1.14->trio~=0.17->selenium) (2.21)\n",
      "Requirement already satisfied: h11<1,>=0.9.0 in c:\\users\\playdata\\anaconda3\\envs\\ezpz\\lib\\site-packages (from wsproto>=0.14->trio-websocket~=0.9->selenium) (0.14.0)\n",
      "Requirement already satisfied: webdriver-manager in c:\\users\\playdata\\anaconda3\\envs\\ezpz\\lib\\site-packages (3.8.6)\n",
      "Requirement already satisfied: requests in c:\\users\\playdata\\anaconda3\\envs\\ezpz\\lib\\site-packages (from webdriver-manager) (2.31.0)\n",
      "Requirement already satisfied: python-dotenv in c:\\users\\playdata\\anaconda3\\envs\\ezpz\\lib\\site-packages (from webdriver-manager) (1.0.0)\n",
      "Requirement already satisfied: packaging in c:\\users\\playdata\\anaconda3\\envs\\ezpz\\lib\\site-packages (from webdriver-manager) (23.1)\n",
      "Requirement already satisfied: tqdm in c:\\users\\playdata\\anaconda3\\envs\\ezpz\\lib\\site-packages (from webdriver-manager) (4.65.0)\n",
      "Requirement already satisfied: certifi>=2017.4.17 in c:\\users\\playdata\\anaconda3\\envs\\ezpz\\lib\\site-packages (from requests->webdriver-manager) (2023.5.7)\n",
      "Requirement already satisfied: charset-normalizer<4,>=2 in c:\\users\\playdata\\anaconda3\\envs\\ezpz\\lib\\site-packages (from requests->webdriver-manager) (3.1.0)\n",
      "Requirement already satisfied: idna<4,>=2.5 in c:\\users\\playdata\\anaconda3\\envs\\ezpz\\lib\\site-packages (from requests->webdriver-manager) (3.4)\n",
      "Requirement already satisfied: urllib3<3,>=1.21.1 in c:\\users\\playdata\\anaconda3\\envs\\ezpz\\lib\\site-packages (from requests->webdriver-manager) (2.0.2)\n",
      "Requirement already satisfied: colorama in c:\\users\\playdata\\anaconda3\\envs\\ezpz\\lib\\site-packages (from tqdm->webdriver-manager) (0.4.6)\n"
     ]
    }
   ],
   "source": [
    "!pip install BeautifulSoup4\n",
    "!pip install lxml\n",
    "!pip install selenium\n",
    "!pip install selenium --upgrade\n",
    "!pip install webdriver-manager"
   ]
  },
  {
   "cell_type": "code",
   "execution_count": null,
   "metadata": {},
   "outputs": [],
   "source": [
    "import requests\n",
    "from bs4 import BeautifulSoup\n",
    "import pandas as pd\n",
    "import os\n",
    "from selenium import webdriver\n",
    "from selenium.webdriver.edge.service import Service\n",
    "from selenium.webdriver.common.by import By\n",
    "import time\n",
    "\n",
    "url = \"https://www.melon.com/index.htm\"\n",
    "user_agent = 'Mozilla/5.0 (Macintosh; Intel Mac OS X 10_15_7) AppleWebKit/537.36 (KHTML, like Gecko) Chrome/112.0.0.0 Safari/537.36'\n",
    "driver= \"msedgedriver.exe\"\n",
    "service=Service(executable_path=driver)\n",
    "#webdriver 객체 생성\n",
    "browser = webdriver.Edge(service=service)\n",
    "\n",
    "#melon 이동\n",
    "browser.get(url)\n",
    "\n",
    "#\n",
    "#리뷰 더보기 버튼 찾기 및 클릭\n",
    "melon_btn = browser.find_element(By.CSS_SELECTOR,\"#gnb_menu > ul:nth-child(1) > li.nth3 > a > span.menu_bg.menu03\") \n",
    "melon_btn.click()\n",
    "#\n",
    "melon_btn2 = browser.find_element(By.CSS_SELECTOR,\"#conts > div.wrap_tabmenu01.type08 > ul > li:nth-child(5) > a\")\n",
    "melon_btn2.click()\n",
    "\n",
    "melon_btn3 = browser.find_element(By.CSS_SELECTOR,\"#conts > div.wrap_tabmenu02.type06 > ul > li:nth-child(4) > a\")\n",
    "melon_btn3.click()\n",
    "# \n",
    "\n",
    "#     tag_list = soup.select(\"#frm div > ul > li > div.entry > div.info > a\") # 찾아내는 목표 설정.\n",
    "#     print(len(tag_list))\n",
    "title_list=[]\n",
    "sec_title_list=[]\n",
    "review_list=[]\n",
    "\n",
    "i=0\n",
    "while i==3: #멜론 3페이지 검사 위해\n",
    "    i+=1\n",
    "    html = browser.page_source\n",
    "    soup = BeautifulSoup(html, \"lxml\")# html 파싱\n",
    "\n",
    "    #큰 제목 뽑기\n",
    "    title_tag_list = soup.select(\"#frm > div > ul > li > div.entry > div.info > a\") # 파싱된 html 내용에서   \n",
    "    for title in title_tag_list:\n",
    "        title_list.append(title.get_text().strip)\n",
    "    \n",
    "    #부제목 뽑기\n",
    "    sec_title_tag_list=soup.select('frm > div > ul > li > div.reveiw > h4')\n",
    "    for sec in sec_title_tag_list:\n",
    "        sec_title_list.append(sec.get_text().strip)\n",
    "    #리뷰 뽑기\n",
    "    review_tag_list= soup.select('#frm > div > ul > li > div.reveiw > p')\n",
    "    for review in review_tag_list:#     tag_list = soup.select(\"#frm div > ul > li > div.entry > div.info > a\") # 찾아내는 목표 설정.\n",
    "        review_list.append(review.get_text().strip)\n",
    "    print(len(title_list))\n",
    "    print(len(sec_title_list))\n",
    "    print(len(review_list))"
   ]
  },
  {
   "cell_type": "code",
   "execution_count": 106,
   "metadata": {},
   "outputs": [],
   "source": [
    "import os\n",
    "from datetime import datetime\n",
    "import time\n",
    "import requests\n",
    "import re\n",
    "\n",
    "import pandas as pd\n",
    "\n",
    "from bs4 import BeautifulSoup\n",
    "\n",
    "import selenium\n",
    "\n",
    "\n",
    "from selenium.webdriver.chrome.service import Service\n",
    "from selenium import webdriver\n",
    "from webdriver_manager.chrome import ChromeDriverManager\n",
    "\n",
    "from selenium.webdriver.common.by import By\n",
    "from selenium.webdriver.common.keys import Keys"
   ]
  },
  {
   "cell_type": "code",
   "execution_count": null,
   "metadata": {},
   "outputs": [],
   "source": [
    "'''\n",
    "class SRICrawler():\n",
    "사람인 -> url ->pc status code 200\n",
    "0.셀레늄이용 먼저 로그인 엔터 누르기 \n",
    "1.검색창에 입력값 (회사이름) 입력 시 \n",
    "->회사 리뷰까지 접속 \n",
    "->코멘트를 뭐였지 아무튼 검사로 체크해서 들어가기\n",
    "->\n",
    "'''"
   ]
  },
  {
   "cell_type": "code",
   "execution_count": 189,
   "metadata": {},
   "outputs": [],
   "source": [
    "service = Service(executable_path='chromedriver.exe')\n",
    "browser = webdriver.Chrome(service=service)\n",
    "user_agent = 'Mozilla/5.0 (Macintosh; Intel Mac OS X 10_15_7) AppleWebKit/537.36 (KHTML, like Gecko) Chrome/112.0.0.0 Safari/537.36'"
   ]
  },
  {
   "cell_type": "code",
   "execution_count": 190,
   "metadata": {},
   "outputs": [
    {
     "name": "stdout",
     "output_type": "stream",
     "text": [
      "{'width': 1552, 'height': 832}\n"
     ]
    }
   ],
   "source": [
    "url = r\"https://www.saramin.co.kr/zf_user/\"\n",
    "\n",
    "browser.maximize_window()\n",
    "print(browser.get_window_size())\n",
    "\n",
    "browser.get(url)"
   ]
  },
  {
   "cell_type": "code",
   "execution_count": 191,
   "metadata": {},
   "outputs": [],
   "source": [
    "\n",
    "#로그인 버튼 클릭\n",
    "login_screen_btn = browser.find_element(By.CSS_SELECTOR,\"#sri_header > div.wrap_header > div.utility > div.sign > a.btn_sign.signin\") \n",
    "login_screen_btn.click()\n",
    "#아이디 버튼 클릭\n",
    "id_btn = browser.find_element(By.CSS_SELECTOR,\"#id\")\n",
    "#id_btn.click()\n",
    "#아이디 입력\n",
    "id_btn.send_keys(si.ID)\n",
    "\n",
    "#비밀번호 버튼 클릭\n",
    "pwd_btn = browser.find_element(By.CSS_SELECTOR,\"#password\")\n",
    "pwd_btn.click()\n",
    "#비밀번호 입력\n",
    "pwd_btn.send_keys(si.PW)\n",
    "\n",
    "#로그인 클릭\n",
    "login_btn = browser.find_element(By.CSS_SELECTOR,\"#login_frm > div > div > div.login-form > button\").send_keys(Keys.ENTER)"
   ]
  },
  {
   "cell_type": "code",
   "execution_count": 192,
   "metadata": {},
   "outputs": [],
   "source": [
    "#메인 홈페이지로 돌아가기\n",
    "main_btn = browser.find_element(By.CSS_SELECTOR,'#sri_gnb_wrap > a > svg.img_ci')\n",
    "main_btn.click()\n"
   ]
  },
  {
   "cell_type": "code",
   "execution_count": 194,
   "metadata": {},
   "outputs": [],
   "source": [
    "category_btn = browser.find_element(By.CSS_SELECTOR,'#sri_header > div.wrap_header > div.navigation > ul > div:nth-child(4) > a > span')\n",
    "category_btn.click()\n"
   ]
  },
  {
   "cell_type": "code",
   "execution_count": 196,
   "metadata": {},
   "outputs": [],
   "source": [
    "#검색창 클릭\n",
    "try: #처음 들어갈 때 팝업창이 떴을 경우\n",
    "    pop_up_delete_btn= browser.find_element(By.CSS_SELECTOR,'#wrap_review_tutorial > div > button')\n",
    "    pop_up_delete_btn.click()\n",
    "    search_btn = browser.find_element(By.CSS_SELECTOR,'#content > div.company_review_main > div.wrap_main_top > div > div > div.area_input > input')\n",
    "    search_btn.click()\n",
    "    \n",
    "except:    \n",
    "    search_btn = browser.find_element(By.CSS_SELECTOR,'#content > div.company_review_main > div.wrap_main_top > div > div > div.area_input > input')\n",
    "    search_btn.click()\n"
   ]
  },
  {
   "cell_type": "code",
   "execution_count": 197,
   "metadata": {},
   "outputs": [],
   "source": [
    "#검색어 입력\n",
    "cop=input()\n",
    "print(cop)\n",
    "search_btn.send_keys(cop)\n"
   ]
  },
  {
   "cell_type": "code",
   "execution_count": 198,
   "metadata": {},
   "outputs": [],
   "source": [
    "#검색어 엔터\n",
    "enter_btn = browser.find_element(By.CSS_SELECTOR,'#content > div.company_review_main > div.wrap_main_top > div > div > div.area_input.on > button > svg')\n",
    "enter_btn.click()\n"
   ]
  },
  {
   "cell_type": "code",
   "execution_count": 199,
   "metadata": {},
   "outputs": [],
   "source": [
    "#(주) 앞뒤로 포함돼 있고 대상 검색 문자열(cop)과 일치\n",
    "i=1\n",
    "while True:\n",
    "    try: #(주)가 붙은회사\n",
    "        n_btn = browser.find_element(By.CSS_SELECTOR, f\" div:nth-child({i}) > div > div.area_info > strong > a:nth-child(1)\") #뒤에 (주)글자까지 포함\n",
    "        \n",
    "        \n",
    "        if cop+'(주)' == n_btn.text or '(주)'+cop == n_btn.text or cop == n_btn.text: #주 붙은 회사 먼저 while문 크롤링   \n",
    "            n_btn.click() #주가 붙어있는 회사라면 클릭   \n",
    "            break       \n",
    "        i += 1\n",
    "                \n",
    "            \n",
    "    except: # (주)가 붙지 않은 회사\n",
    "        print(f\"No result found for {cop}\") #주 붙지 않은 회사 찾기 위해 초기화\n",
    "        break\n"
   ]
  },
  {
   "cell_type": "code",
   "execution_count": 201,
   "metadata": {},
   "outputs": [],
   "source": [
    "#한번 크롤링하고 클릭하고 리스트에 넣고 그걸 끝날 때까지 반복하고 break\n",
    "review_list=[]\n",
    "review_tag=[]#div.bx-wrapper > div > ul > li:nth-child({i}) > p.desc\n",
    "i=0\n",
    "while True:\n",
    "        try:\n",
    "                i+=1 #하나씩 리뷰 넘어가기 위함\n",
    "\n",
    "                if len(browser.window_handles) >= 2: #브라우저 창이 여러개라면 \n",
    "                # 새로 띄워진 창으로 전환\n",
    "                        browser.switch_to.window(browser.window_handles[-1]) # 새로 띄워진 창이 맨 마지막 창이라 가정\n",
    "\n",
    "                        # 새로 띄워진 창의 URL 가져오기\n",
    "                        new_window_url = browser.current_url\n",
    "\n",
    "                html=browser.page_source\n",
    "                soup = BeautifulSoup(html, \"html.parser\")# html 파싱 \n",
    "                review_tag= soup.select(f\"div.bx-wrapper > div > ul > li:nth-child({i}) > p.desc\") #파싱된 html 내용을 담아주기\n",
    "                review_list.append(review_tag[0].text.strip()) #담긴 리뷰 리스트를 strip해서 review_list에 담아주고\n",
    "                \n",
    "        except: # 아예 리뷰가 끝나버리면 break \n",
    "                break\n",
    "\n"
   ]
  },
  {
   "cell_type": "code",
   "execution_count": 203,
   "metadata": {},
   "outputs": [
    {
     "name": "stdout",
     "output_type": "stream",
     "text": [
      "8\n"
     ]
    }
   ],
   "source": [
    "print(len(review_list)) #리뷰 리스트에 잘 들어왔는지 확인"
   ]
  },
  {
   "cell_type": "code",
   "execution_count": null,
   "metadata": {},
   "outputs": [],
   "source": []
  }
 ],
 "metadata": {
  "kernelspec": {
   "display_name": "ezpz",
   "language": "python",
   "name": "python3"
  },
  "language_info": {
   "codemirror_mode": {
    "name": "ipython",
    "version": 3
   },
   "file_extension": ".py",
   "mimetype": "text/x-python",
   "name": "python",
   "nbconvert_exporter": "python",
   "pygments_lexer": "ipython3",
   "version": "3.10.11"
  },
  "orig_nbformat": 4
 },
 "nbformat": 4,
 "nbformat_minor": 2
}
