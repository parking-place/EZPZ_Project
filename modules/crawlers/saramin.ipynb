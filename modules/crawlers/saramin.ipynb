{
 "cells": [
  {
   "cell_type": "code",
   "execution_count": 1,
   "metadata": {},
   "outputs": [],
   "source": [
    "from accounts import si\n",
    "\n",
    "#si.ID, si.PW"
   ]
  },
  {
   "cell_type": "code",
   "execution_count": null,
   "metadata": {},
   "outputs": [],
   "source": [
    "!pip install BeautifulSoup4\n",
    "!pip install selenium\n",
    "!pip install selenium --upgrade\n",
    "!pip install webdriver-manager"
   ]
  },
  {
   "cell_type": "code",
   "execution_count": 2,
   "metadata": {},
   "outputs": [
    {
     "ename": "NoSuchElementException",
     "evalue": "Message: no such element: Unable to locate element: {\"method\":\"css selector\",\"selector\":\"#conts > div.wrap_tabmenu01.type08 > ul > li:nth-child(5) > a\"}\n  (Session info: MicrosoftEdge=114.0.1823.67); For documentation on this error, please visit: https://www.selenium.dev/documentation/webdriver/troubleshooting/errors#no-such-element-exception\nStacktrace:\nBacktrace:\n\tGetHandleVerifier [0x00007FF664B6AA52+64226]\n\tMicrosoft::Applications::Events::EventProperty::~EventProperty [0x00007FF664AFBC12+765378]\n\t(No symbol) [0x00007FF6648BCC4C]\n\t(No symbol) [0x00007FF664900BDF]\n\t(No symbol) [0x00007FF664900D6A]\n\t(No symbol) [0x00007FF66493AC17]\n\t(No symbol) [0x00007FF66491F03F]\n\t(No symbol) [0x00007FF6648F4BB1]\n\t(No symbol) [0x00007FF664937FC1]\n\t(No symbol) [0x00007FF66491EDD3]\n\t(No symbol) [0x00007FF6648F3BEC]\n\t(No symbol) [0x00007FF6648F2DD6]\n\t(No symbol) [0x00007FF6648F4364]\n\tMicrosoft::Applications::Events::ILogManager::DispatchEventBroadcast [0x00007FF664D48359+1319033]\n\t(No symbol) [0x00007FF66496D298]\n\tMicrosoft::Applications::Events::EventProperty::~EventProperty [0x00007FF664A49161+33553]\n\tMicrosoft::Applications::Events::EventProperty::~EventProperty [0x00007FF664A4159F+1871]\n\tMicrosoft::Applications::Events::ILogManager::DispatchEventBroadcast [0x00007FF664D46F73+1313939]\n\tMicrosoft::Applications::Events::ILogConfiguration::operator* [0x00007FF664B04248+20232]\n\tMicrosoft::Applications::Events::ILogConfiguration::operator* [0x00007FF664B00864+5412]\n\tMicrosoft::Applications::Events::ILogConfiguration::operator* [0x00007FF664B0095C+5660]\n\tMicrosoft::Applications::Events::EventProperty::~EventProperty [0x00007FF664AF4611+735169]\n\tBaseThreadInitThunk [0x00007FFD1D0D26AD+29]\n\tRtlUserThreadStart [0x00007FFD1E30A9F8+40]\n",
     "output_type": "error",
     "traceback": [
      "\u001b[1;31m---------------------------------------------------------------------------\u001b[0m",
      "\u001b[1;31mNoSuchElementException\u001b[0m                    Traceback (most recent call last)",
      "Cell \u001b[1;32mIn[2], line 25\u001b[0m\n\u001b[0;32m     23\u001b[0m melon_btn\u001b[39m.\u001b[39mclick()\n\u001b[0;32m     24\u001b[0m \u001b[39m#\u001b[39;00m\n\u001b[1;32m---> 25\u001b[0m melon_btn2 \u001b[39m=\u001b[39m browser\u001b[39m.\u001b[39;49mfind_element(By\u001b[39m.\u001b[39;49mCSS_SELECTOR,\u001b[39m\"\u001b[39;49m\u001b[39m#conts > div.wrap_tabmenu01.type08 > ul > li:nth-child(5) > a\u001b[39;49m\u001b[39m\"\u001b[39;49m)\n\u001b[0;32m     26\u001b[0m melon_btn2\u001b[39m.\u001b[39mclick()\n\u001b[0;32m     28\u001b[0m melon_btn3 \u001b[39m=\u001b[39m browser\u001b[39m.\u001b[39mfind_element(By\u001b[39m.\u001b[39mCSS_SELECTOR,\u001b[39m\"\u001b[39m\u001b[39m#conts > div.wrap_tabmenu02.type06 > ul > li:nth-child(4) > a\u001b[39m\u001b[39m\"\u001b[39m)\n",
      "File \u001b[1;32mc:\\Users\\Playdata\\anaconda3\\envs\\ezpz\\lib\\site-packages\\selenium\\webdriver\\remote\\webdriver.py:740\u001b[0m, in \u001b[0;36mWebDriver.find_element\u001b[1;34m(self, by, value)\u001b[0m\n\u001b[0;32m    737\u001b[0m     by \u001b[39m=\u001b[39m By\u001b[39m.\u001b[39mCSS_SELECTOR\n\u001b[0;32m    738\u001b[0m     value \u001b[39m=\u001b[39m \u001b[39mf\u001b[39m\u001b[39m'\u001b[39m\u001b[39m[name=\u001b[39m\u001b[39m\"\u001b[39m\u001b[39m{\u001b[39;00mvalue\u001b[39m}\u001b[39;00m\u001b[39m\"\u001b[39m\u001b[39m]\u001b[39m\u001b[39m'\u001b[39m\n\u001b[1;32m--> 740\u001b[0m \u001b[39mreturn\u001b[39;00m \u001b[39mself\u001b[39;49m\u001b[39m.\u001b[39;49mexecute(Command\u001b[39m.\u001b[39;49mFIND_ELEMENT, {\u001b[39m\"\u001b[39;49m\u001b[39musing\u001b[39;49m\u001b[39m\"\u001b[39;49m: by, \u001b[39m\"\u001b[39;49m\u001b[39mvalue\u001b[39;49m\u001b[39m\"\u001b[39;49m: value})[\u001b[39m\"\u001b[39m\u001b[39mvalue\u001b[39m\u001b[39m\"\u001b[39m]\n",
      "File \u001b[1;32mc:\\Users\\Playdata\\anaconda3\\envs\\ezpz\\lib\\site-packages\\selenium\\webdriver\\remote\\webdriver.py:346\u001b[0m, in \u001b[0;36mWebDriver.execute\u001b[1;34m(self, driver_command, params)\u001b[0m\n\u001b[0;32m    344\u001b[0m response \u001b[39m=\u001b[39m \u001b[39mself\u001b[39m\u001b[39m.\u001b[39mcommand_executor\u001b[39m.\u001b[39mexecute(driver_command, params)\n\u001b[0;32m    345\u001b[0m \u001b[39mif\u001b[39;00m response:\n\u001b[1;32m--> 346\u001b[0m     \u001b[39mself\u001b[39;49m\u001b[39m.\u001b[39;49merror_handler\u001b[39m.\u001b[39;49mcheck_response(response)\n\u001b[0;32m    347\u001b[0m     response[\u001b[39m\"\u001b[39m\u001b[39mvalue\u001b[39m\u001b[39m\"\u001b[39m] \u001b[39m=\u001b[39m \u001b[39mself\u001b[39m\u001b[39m.\u001b[39m_unwrap_value(response\u001b[39m.\u001b[39mget(\u001b[39m\"\u001b[39m\u001b[39mvalue\u001b[39m\u001b[39m\"\u001b[39m, \u001b[39mNone\u001b[39;00m))\n\u001b[0;32m    348\u001b[0m     \u001b[39mreturn\u001b[39;00m response\n",
      "File \u001b[1;32mc:\\Users\\Playdata\\anaconda3\\envs\\ezpz\\lib\\site-packages\\selenium\\webdriver\\remote\\errorhandler.py:245\u001b[0m, in \u001b[0;36mErrorHandler.check_response\u001b[1;34m(self, response)\u001b[0m\n\u001b[0;32m    243\u001b[0m         alert_text \u001b[39m=\u001b[39m value[\u001b[39m\"\u001b[39m\u001b[39malert\u001b[39m\u001b[39m\"\u001b[39m]\u001b[39m.\u001b[39mget(\u001b[39m\"\u001b[39m\u001b[39mtext\u001b[39m\u001b[39m\"\u001b[39m)\n\u001b[0;32m    244\u001b[0m     \u001b[39mraise\u001b[39;00m exception_class(message, screen, stacktrace, alert_text)  \u001b[39m# type: ignore[call-arg]  # mypy is not smart enough here\u001b[39;00m\n\u001b[1;32m--> 245\u001b[0m \u001b[39mraise\u001b[39;00m exception_class(message, screen, stacktrace)\n",
      "\u001b[1;31mNoSuchElementException\u001b[0m: Message: no such element: Unable to locate element: {\"method\":\"css selector\",\"selector\":\"#conts > div.wrap_tabmenu01.type08 > ul > li:nth-child(5) > a\"}\n  (Session info: MicrosoftEdge=114.0.1823.67); For documentation on this error, please visit: https://www.selenium.dev/documentation/webdriver/troubleshooting/errors#no-such-element-exception\nStacktrace:\nBacktrace:\n\tGetHandleVerifier [0x00007FF664B6AA52+64226]\n\tMicrosoft::Applications::Events::EventProperty::~EventProperty [0x00007FF664AFBC12+765378]\n\t(No symbol) [0x00007FF6648BCC4C]\n\t(No symbol) [0x00007FF664900BDF]\n\t(No symbol) [0x00007FF664900D6A]\n\t(No symbol) [0x00007FF66493AC17]\n\t(No symbol) [0x00007FF66491F03F]\n\t(No symbol) [0x00007FF6648F4BB1]\n\t(No symbol) [0x00007FF664937FC1]\n\t(No symbol) [0x00007FF66491EDD3]\n\t(No symbol) [0x00007FF6648F3BEC]\n\t(No symbol) [0x00007FF6648F2DD6]\n\t(No symbol) [0x00007FF6648F4364]\n\tMicrosoft::Applications::Events::ILogManager::DispatchEventBroadcast [0x00007FF664D48359+1319033]\n\t(No symbol) [0x00007FF66496D298]\n\tMicrosoft::Applications::Events::EventProperty::~EventProperty [0x00007FF664A49161+33553]\n\tMicrosoft::Applications::Events::EventProperty::~EventProperty [0x00007FF664A4159F+1871]\n\tMicrosoft::Applications::Events::ILogManager::DispatchEventBroadcast [0x00007FF664D46F73+1313939]\n\tMicrosoft::Applications::Events::ILogConfiguration::operator* [0x00007FF664B04248+20232]\n\tMicrosoft::Applications::Events::ILogConfiguration::operator* [0x00007FF664B00864+5412]\n\tMicrosoft::Applications::Events::ILogConfiguration::operator* [0x00007FF664B0095C+5660]\n\tMicrosoft::Applications::Events::EventProperty::~EventProperty [0x00007FF664AF4611+735169]\n\tBaseThreadInitThunk [0x00007FFD1D0D26AD+29]\n\tRtlUserThreadStart [0x00007FFD1E30A9F8+40]\n"
     ]
    }
   ],
   "source": [
    "import requests\n",
    "from bs4 import BeautifulSoup\n",
    "import pandas as pd\n",
    "import os\n",
    "from selenium import webdriver\n",
    "from selenium.webdriver.edge.service import Service\n",
    "from selenium.webdriver.common.by import By\n",
    "import time\n",
    "\n",
    "url = \"https://www.melon.com/index.htm\"\n",
    "user_agent = 'Mozilla/5.0 (Macintosh; Intel Mac OS X 10_15_7) AppleWebKit/537.36 (KHTML, like Gecko) Chrome/112.0.0.0 Safari/537.36'\n",
    "driver= \"msedgedriver.exe\"\n",
    "service=Service(executable_path=driver)\n",
    "#webdriver 객체 생성\n",
    "browser = webdriver.Edge(service=service)\n",
    "\n",
    "#melon 이동\n",
    "browser.get(url)\n",
    "\n",
    "#\n",
    "#리뷰 더보기 버튼 찾기 및 클릭\n",
    "melon_btn = browser.find_element(By.CSS_SELECTOR,\"#gnb_menu > ul:nth-child(1) > li.nth3 > a > span.menu_bg.menu03\") \n",
    "melon_btn.click()\n",
    "#\n",
    "melon_btn2 = browser.find_element(By.CSS_SELECTOR,\"#conts > div.wrap_tabmenu01.type08 > ul > li:nth-child(5) > a\")\n",
    "melon_btn2.click()\n",
    "\n",
    "melon_btn3 = browser.find_element(By.CSS_SELECTOR,\"#conts > div.wrap_tabmenu02.type06 > ul > li:nth-child(4) > a\")\n",
    "melon_btn3.click()\n",
    "# \n",
    "\n",
    "#     tag_list = soup.select(\"#frm div > ul > li > div.entry > div.info > a\") # 찾아내는 목표 설정.\n",
    "#     print(len(tag_list))\n",
    "title_list=[]\n",
    "sec_title_list=[]\n",
    "review_list=[]\n",
    "\n",
    "i=0\n",
    "while i==3: #멜론 3페이지 검사 위해\n",
    "    i+=1\n",
    "    html = browser.page_source\n",
    "    soup = BeautifulSoup(html, \"lxml\")# html 파싱\n",
    "\n",
    "    #큰 제목 뽑기\n",
    "    title_tag_list = soup.select(\"#frm > div > ul > li > div.entry > div.info > a\") # 파싱된 html 내용에서   \n",
    "    for title in title_tag_list:\n",
    "        title_list.append(title.get_text().strip)\n",
    "    \n",
    "    #부제목 뽑기\n",
    "    sec_title_tag_list=soup.select('frm > div > ul > li > div.reveiw > h4')\n",
    "    for sec in sec_title_tag_list:\n",
    "        sec_title_list.append(sec.get_text().strip)\n",
    "    #리뷰 뽑기\n",
    "    review_tag_list= soup.select('#frm > div > ul > li > div.reveiw > p')\n",
    "    for review in review_tag_list:#     tag_list = soup.select(\"#frm div > ul > li > div.entry > div.info > a\") # 찾아내는 목표 설정.\n",
    "        review_list.append(review.get_text().strip)\n",
    "    print(len(title_list))\n",
    "    print(len(sec_title_list))\n",
    "    print(len(review_list))"
   ]
  },
  {
   "cell_type": "code",
   "execution_count": 3,
   "metadata": {},
   "outputs": [],
   "source": [
    "import os\n",
    "from datetime import datetime\n",
    "import time\n",
    "import requests\n",
    "import re\n",
    "\n",
    "import pandas as pd\n",
    "\n",
    "from bs4 import BeautifulSoup\n",
    "\n",
    "import selenium\n",
    "\n",
    "\n",
    "from selenium.webdriver.chrome.service import Service\n",
    "from selenium import webdriver\n",
    "from webdriver_manager.chrome import ChromeDriverManager\n",
    "\n",
    "from selenium.webdriver.common.by import By\n",
    "from selenium.webdriver.common.keys import Keys"
   ]
  },
  {
   "cell_type": "code",
   "execution_count": null,
   "metadata": {},
   "outputs": [],
   "source": [
    "'''\n",
    "class SRICrawler():\n",
    "사람인 -> url ->pc status code 200\n",
    "0.셀레늄이용 먼저 로그인 엔터 누르기 \n",
    "1.검색창에 입력값 (회사이름) 입력 시 \n",
    "->회사 리뷰까지 접속 \n",
    "->코멘트를 뭐였지 아무튼 검사로 체크해서 들어가기\n",
    "->\n",
    "'''"
   ]
  },
  {
   "cell_type": "code",
   "execution_count": 4,
   "metadata": {},
   "outputs": [],
   "source": [
    "service = Service(executable_path='chromedriver.exe')\n",
    "browser = webdriver.Chrome(service=service)"
   ]
  },
  {
   "cell_type": "code",
   "execution_count": 5,
   "metadata": {},
   "outputs": [
    {
     "name": "stdout",
     "output_type": "stream",
     "text": [
      "{'width': 1552, 'height': 832}\n"
     ]
    }
   ],
   "source": [
    "url = r\"https://www.saramin.co.kr/zf_user/\"\n",
    "\n",
    "browser.maximize_window()\n",
    "print(browser.get_window_size())\n",
    "\n",
    "browser.get(url)"
   ]
  },
  {
   "cell_type": "code",
   "execution_count": 6,
   "metadata": {},
   "outputs": [],
   "source": [
    "\n",
    "#로그인 버튼 클릭\n",
    "login_screen_btn = browser.find_element(By.CSS_SELECTOR,\"#sri_header > div.wrap_header > div.utility > div.sign > a.btn_sign.signin\") \n",
    "login_screen_btn.click()\n",
    "#아이디 버튼 클릭\n",
    "id_btn = browser.find_element(By.CSS_SELECTOR,\"#id\")\n",
    "#id_btn.click()\n",
    "#아이디 입력\n",
    "id_btn.send_keys(si.ID)\n",
    "\n",
    "#비밀번호 버튼 클릭\n",
    "pwd_btn = browser.find_element(By.CSS_SELECTOR,\"#password\")\n",
    "pwd_btn.click()\n",
    "#비밀번호 입력\n",
    "pwd_btn.send_keys(si.PW)\n",
    "\n",
    "#로그인 클릭\n",
    "login_btn = browser.find_element(By.CSS_SELECTOR,\"#login_frm > div > div > div.login-form > button\").send_keys(Keys.ENTER)"
   ]
  },
  {
   "cell_type": "code",
   "execution_count": 7,
   "metadata": {},
   "outputs": [],
   "source": [
    "#메인 홈페이지로 돌아가기\n",
    "main_btn = browser.find_element(By.CSS_SELECTOR,'#sri_gnb_wrap > a > svg.img_ci')\n",
    "main_btn.click()\n"
   ]
  },
  {
   "cell_type": "code",
   "execution_count": 20,
   "metadata": {},
   "outputs": [],
   "source": [
    "\n",
    "#검색창 클릭\n",
    "search_btn = browser.find_element(By.CSS_SELECTOR,'#btn_search')\n",
    "search_btn.click()\n",
    "\n",
    "#검색창 2 클릭\n",
    "search_btn2 = browser.find_element(By.CSS_SELECTOR,'#ipt_keyword_recruit')\n",
    "search_btn2.click()"
   ]
  },
  {
   "cell_type": "code",
   "execution_count": 21,
   "metadata": {},
   "outputs": [],
   "source": [
    "#검색어 입력\n",
    "cop=input()\n",
    "search_btn2.send_keys(cop)\n"
   ]
  },
  {
   "cell_type": "code",
   "execution_count": 22,
   "metadata": {},
   "outputs": [],
   "source": [
    "#검색어 엔터\n",
    "enter_btn = browser.find_element(By.CSS_SELECTOR,'#btn_search_recruit')\n",
    "enter_btn.click()\n"
   ]
  },
  {
   "cell_type": "code",
   "execution_count": 23,
   "metadata": {},
   "outputs": [],
   "source": [
    "#(주) 앞뒤로 포함돼 있고 대상 검색 문자열(cop)과 일치\n",
    "i=1\n",
    "while True:\n",
    "    try: #(주)가 붙은회사\n",
    "        n_btn = browser.find_element(By.CSS_SELECTOR, f\"div:nth-child({i}) > h2 > a\") #뒤에 (주)글자까지 포함\n",
    "        \n",
    "        \n",
    "        if cop+'(주)' == n_btn.text or '(주)'+cop == n_btn.text: #주 붙은 회사 먼저 while문 크롤링   \n",
    "            n_btn.click() #주가 붙어있는 회사라면 클릭   \n",
    "            break       \n",
    "        i += 1\n",
    "                \n",
    "            \n",
    "    except: # (주)가 붙지 않은 회사\n",
    "        i = 1 #주 붙지 않은 회사 찾기 위해 초기화\n",
    "        while True:\n",
    "            try: # \n",
    "                n_btn2 = browser.find_element(By.CSS_SELECTOR, f\"div:nth-child({i}) > h2 > a > b\") #(주)나 뒤에붙는 파생단어들 떼짐\n",
    "                \n",
    "                \n",
    "                if cop == n_btn2.text: #주 붙지 않고 검색어와 일치하는 회사   \n",
    "                    n_btn2.click()  #일치하는 회사 클릭   \n",
    "                    break       \n",
    "                i += 1\n",
    "                        \n",
    "                    \n",
    "            except: #안쪽 try 구문에서도 오류가 뜬다는 것은 더 이상 cop 데이터가 없다는것으로 오류 처리\n",
    "                print(f\"No result found for {cop}\")\n",
    "                break\n",
    "        break        "
   ]
  },
  {
   "cell_type": "code",
   "execution_count": 24,
   "metadata": {},
   "outputs": [],
   "source": [
    "#검색 엔진 알고리즘은 어느정도 완성했고 방향만 첫 메인화면에서 기업.연봉 카테고리에서 기업/리뷰 클릭으로 검색들어가는걸로 바꿈"
   ]
  },
  {
   "cell_type": "code",
   "execution_count": 19,
   "metadata": {},
   "outputs": [],
   "source": [
    "#execute_script(\"자바스크립트 코드\")=> 스크롤 내리기\n",
    "#browser.execute_script(\"window.scrollTo(0,1000)\")"
   ]
  },
  {
   "cell_type": "code",
   "execution_count": null,
   "metadata": {},
   "outputs": [],
   "source": []
  },
  {
   "cell_type": "code",
   "execution_count": null,
   "metadata": {},
   "outputs": [],
   "source": []
  }
 ],
 "metadata": {
  "kernelspec": {
   "display_name": "ezpz",
   "language": "python",
   "name": "python3"
  },
  "language_info": {
   "codemirror_mode": {
    "name": "ipython",
    "version": 3
   },
   "file_extension": ".py",
   "mimetype": "text/x-python",
   "name": "python",
   "nbconvert_exporter": "python",
   "pygments_lexer": "ipython3",
   "version": "3.10.11"
  },
  "orig_nbformat": 4
 },
 "nbformat": 4,
 "nbformat_minor": 2
}
