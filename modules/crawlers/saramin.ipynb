{
 "cells": [
  {
   "cell_type": "code",
   "execution_count": 3,
   "metadata": {},
   "outputs": [],
   "source": [
    "from accounts import si\n",
    "\n",
    "#si.ID, si.PW"
   ]
  },
  {
   "cell_type": "code",
   "execution_count": 3,
   "metadata": {},
   "outputs": [
    {
     "name": "stdout",
     "output_type": "stream",
     "text": [
      "Requirement already satisfied: BeautifulSoup4 in c:\\users\\playdata\\anaconda3\\envs\\ezpz\\lib\\site-packages (4.12.2)\n",
      "Requirement already satisfied: soupsieve>1.2 in c:\\users\\playdata\\anaconda3\\envs\\ezpz\\lib\\site-packages (from BeautifulSoup4) (2.4.1)\n",
      "Requirement already satisfied: selenium in c:\\users\\playdata\\anaconda3\\envs\\ezpz\\lib\\site-packages (4.10.0)\n",
      "Requirement already satisfied: certifi>=2021.10.8 in c:\\users\\playdata\\anaconda3\\envs\\ezpz\\lib\\site-packages (from selenium) (2023.5.7)\n",
      "Requirement already satisfied: trio~=0.17 in c:\\users\\playdata\\anaconda3\\envs\\ezpz\\lib\\site-packages (from selenium) (0.22.1)\n",
      "Requirement already satisfied: urllib3[socks]<3,>=1.26 in c:\\users\\playdata\\anaconda3\\envs\\ezpz\\lib\\site-packages (from selenium) (2.0.2)\n",
      "Requirement already satisfied: trio-websocket~=0.9 in c:\\users\\playdata\\anaconda3\\envs\\ezpz\\lib\\site-packages (from selenium) (0.10.3)\n",
      "Requirement already satisfied: idna in c:\\users\\playdata\\anaconda3\\envs\\ezpz\\lib\\site-packages (from trio~=0.17->selenium) (3.4)\n",
      "Requirement already satisfied: cffi>=1.14 in c:\\users\\playdata\\anaconda3\\envs\\ezpz\\lib\\site-packages (from trio~=0.17->selenium) (1.15.1)\n",
      "Requirement already satisfied: outcome in c:\\users\\playdata\\anaconda3\\envs\\ezpz\\lib\\site-packages (from trio~=0.17->selenium) (1.2.0)\n",
      "Requirement already satisfied: sortedcontainers in c:\\users\\playdata\\anaconda3\\envs\\ezpz\\lib\\site-packages (from trio~=0.17->selenium) (2.4.0)\n",
      "Requirement already satisfied: exceptiongroup>=1.0.0rc9 in c:\\users\\playdata\\anaconda3\\envs\\ezpz\\lib\\site-packages (from trio~=0.17->selenium) (1.1.2)\n",
      "Requirement already satisfied: attrs>=20.1.0 in c:\\users\\playdata\\anaconda3\\envs\\ezpz\\lib\\site-packages (from trio~=0.17->selenium) (23.1.0)\n",
      "Requirement already satisfied: sniffio in c:\\users\\playdata\\anaconda3\\envs\\ezpz\\lib\\site-packages (from trio~=0.17->selenium) (1.3.0)\n",
      "Requirement already satisfied: wsproto>=0.14 in c:\\users\\playdata\\anaconda3\\envs\\ezpz\\lib\\site-packages (from trio-websocket~=0.9->selenium) (1.2.0)\n",
      "Requirement already satisfied: pysocks!=1.5.7,<2.0,>=1.5.6 in c:\\users\\playdata\\anaconda3\\envs\\ezpz\\lib\\site-packages (from urllib3[socks]<3,>=1.26->selenium) (1.7.1)\n",
      "Requirement already satisfied: pycparser in c:\\users\\playdata\\anaconda3\\envs\\ezpz\\lib\\site-packages (from cffi>=1.14->trio~=0.17->selenium) (2.21)\n",
      "Requirement already satisfied: h11<1,>=0.9.0 in c:\\users\\playdata\\anaconda3\\envs\\ezpz\\lib\\site-packages (from wsproto>=0.14->trio-websocket~=0.9->selenium) (0.14.0)\n",
      "Requirement already satisfied: selenium in c:\\users\\playdata\\anaconda3\\envs\\ezpz\\lib\\site-packages (4.10.0)\n",
      "Requirement already satisfied: certifi>=2021.10.8 in c:\\users\\playdata\\anaconda3\\envs\\ezpz\\lib\\site-packages (from selenium) (2023.5.7)\n",
      "Requirement already satisfied: trio-websocket~=0.9 in c:\\users\\playdata\\anaconda3\\envs\\ezpz\\lib\\site-packages (from selenium) (0.10.3)\n",
      "Requirement already satisfied: trio~=0.17 in c:\\users\\playdata\\anaconda3\\envs\\ezpz\\lib\\site-packages (from selenium) (0.22.1)\n",
      "Requirement already satisfied: urllib3[socks]<3,>=1.26 in c:\\users\\playdata\\anaconda3\\envs\\ezpz\\lib\\site-packages (from selenium) (2.0.2)\n",
      "Requirement already satisfied: outcome in c:\\users\\playdata\\anaconda3\\envs\\ezpz\\lib\\site-packages (from trio~=0.17->selenium) (1.2.0)\n",
      "Requirement already satisfied: cffi>=1.14 in c:\\users\\playdata\\anaconda3\\envs\\ezpz\\lib\\site-packages (from trio~=0.17->selenium) (1.15.1)\n",
      "Requirement already satisfied: attrs>=20.1.0 in c:\\users\\playdata\\anaconda3\\envs\\ezpz\\lib\\site-packages (from trio~=0.17->selenium) (23.1.0)\n",
      "Requirement already satisfied: sortedcontainers in c:\\users\\playdata\\anaconda3\\envs\\ezpz\\lib\\site-packages (from trio~=0.17->selenium) (2.4.0)\n",
      "Requirement already satisfied: exceptiongroup>=1.0.0rc9 in c:\\users\\playdata\\anaconda3\\envs\\ezpz\\lib\\site-packages (from trio~=0.17->selenium) (1.1.2)\n",
      "Requirement already satisfied: idna in c:\\users\\playdata\\anaconda3\\envs\\ezpz\\lib\\site-packages (from trio~=0.17->selenium) (3.4)\n",
      "Requirement already satisfied: sniffio in c:\\users\\playdata\\anaconda3\\envs\\ezpz\\lib\\site-packages (from trio~=0.17->selenium) (1.3.0)\n",
      "Requirement already satisfied: wsproto>=0.14 in c:\\users\\playdata\\anaconda3\\envs\\ezpz\\lib\\site-packages (from trio-websocket~=0.9->selenium) (1.2.0)\n",
      "Requirement already satisfied: pysocks!=1.5.7,<2.0,>=1.5.6 in c:\\users\\playdata\\anaconda3\\envs\\ezpz\\lib\\site-packages (from urllib3[socks]<3,>=1.26->selenium) (1.7.1)\n",
      "Requirement already satisfied: pycparser in c:\\users\\playdata\\anaconda3\\envs\\ezpz\\lib\\site-packages (from cffi>=1.14->trio~=0.17->selenium) (2.21)\n",
      "Requirement already satisfied: h11<1,>=0.9.0 in c:\\users\\playdata\\anaconda3\\envs\\ezpz\\lib\\site-packages (from wsproto>=0.14->trio-websocket~=0.9->selenium) (0.14.0)\n",
      "Requirement already satisfied: webdriver-manager in c:\\users\\playdata\\anaconda3\\envs\\ezpz\\lib\\site-packages (3.8.6)\n",
      "Requirement already satisfied: requests in c:\\users\\playdata\\anaconda3\\envs\\ezpz\\lib\\site-packages (from webdriver-manager) (2.31.0)\n",
      "Requirement already satisfied: tqdm in c:\\users\\playdata\\anaconda3\\envs\\ezpz\\lib\\site-packages (from webdriver-manager) (4.65.0)\n",
      "Requirement already satisfied: python-dotenv in c:\\users\\playdata\\anaconda3\\envs\\ezpz\\lib\\site-packages (from webdriver-manager) (1.0.0)\n",
      "Requirement already satisfied: packaging in c:\\users\\playdata\\anaconda3\\envs\\ezpz\\lib\\site-packages (from webdriver-manager) (23.1)\n",
      "Requirement already satisfied: urllib3<3,>=1.21.1 in c:\\users\\playdata\\anaconda3\\envs\\ezpz\\lib\\site-packages (from requests->webdriver-manager) (2.0.2)\n",
      "Requirement already satisfied: idna<4,>=2.5 in c:\\users\\playdata\\anaconda3\\envs\\ezpz\\lib\\site-packages (from requests->webdriver-manager) (3.4)\n",
      "Requirement already satisfied: certifi>=2017.4.17 in c:\\users\\playdata\\anaconda3\\envs\\ezpz\\lib\\site-packages (from requests->webdriver-manager) (2023.5.7)\n",
      "Requirement already satisfied: charset-normalizer<4,>=2 in c:\\users\\playdata\\anaconda3\\envs\\ezpz\\lib\\site-packages (from requests->webdriver-manager) (3.1.0)\n",
      "Requirement already satisfied: colorama in c:\\users\\playdata\\anaconda3\\envs\\ezpz\\lib\\site-packages (from tqdm->webdriver-manager) (0.4.6)\n"
     ]
    }
   ],
   "source": [
    "!pip install BeautifulSoup4\n",
    "!pip install selenium\n",
    "!pip install selenium --upgrade\n",
    "!pip install webdriver-manager"
   ]
  },
  {
   "cell_type": "code",
   "execution_count": 4,
   "metadata": {},
   "outputs": [
    {
     "ename": "NoSuchElementException",
     "evalue": "Message: no such element: Unable to locate element: {\"method\":\"css selector\",\"selector\":\"#conts > div.wrap_tabmenu01.type08 > ul > li:nth-child(5) > a\"}\n  (Session info: MicrosoftEdge=114.0.1823.67); For documentation on this error, please visit: https://www.selenium.dev/documentation/webdriver/troubleshooting/errors#no-such-element-exception\nStacktrace:\nBacktrace:\n\tGetHandleVerifier [0x00007FF71EEFAA52+64226]\n\tMicrosoft::Applications::Events::EventProperty::~EventProperty [0x00007FF71EE8BC12+765378]\n\t(No symbol) [0x00007FF71EC4CC4C]\n\t(No symbol) [0x00007FF71EC90BDF]\n\t(No symbol) [0x00007FF71EC90D6A]\n\t(No symbol) [0x00007FF71ECCAC17]\n\t(No symbol) [0x00007FF71ECAF03F]\n\t(No symbol) [0x00007FF71EC84BB1]\n\t(No symbol) [0x00007FF71ECC7FC1]\n\t(No symbol) [0x00007FF71ECAEDD3]\n\t(No symbol) [0x00007FF71EC83BEC]\n\t(No symbol) [0x00007FF71EC82DD6]\n\t(No symbol) [0x00007FF71EC84364]\n\tMicrosoft::Applications::Events::ILogManager::DispatchEventBroadcast [0x00007FF71F0D8359+1319033]\n\t(No symbol) [0x00007FF71ECFD298]\n\tMicrosoft::Applications::Events::EventProperty::~EventProperty [0x00007FF71EDD9161+33553]\n\tMicrosoft::Applications::Events::EventProperty::~EventProperty [0x00007FF71EDD159F+1871]\n\tMicrosoft::Applications::Events::ILogManager::DispatchEventBroadcast [0x00007FF71F0D6F73+1313939]\n\tMicrosoft::Applications::Events::ILogConfiguration::operator* [0x00007FF71EE94248+20232]\n\tMicrosoft::Applications::Events::ILogConfiguration::operator* [0x00007FF71EE90864+5412]\n\tMicrosoft::Applications::Events::ILogConfiguration::operator* [0x00007FF71EE9095C+5660]\n\tMicrosoft::Applications::Events::EventProperty::~EventProperty [0x00007FF71EE84611+735169]\n\tBaseThreadInitThunk [0x00007FFD1D0D26AD+29]\n\tRtlUserThreadStart [0x00007FFD1E30A9F8+40]\n",
     "output_type": "error",
     "traceback": [
      "\u001b[1;31m---------------------------------------------------------------------------\u001b[0m",
      "\u001b[1;31mNoSuchElementException\u001b[0m                    Traceback (most recent call last)",
      "Cell \u001b[1;32mIn[4], line 25\u001b[0m\n\u001b[0;32m     23\u001b[0m melon_btn\u001b[39m.\u001b[39mclick()\n\u001b[0;32m     24\u001b[0m \u001b[39m#\u001b[39;00m\n\u001b[1;32m---> 25\u001b[0m melon_btn2 \u001b[39m=\u001b[39m browser\u001b[39m.\u001b[39;49mfind_element(By\u001b[39m.\u001b[39;49mCSS_SELECTOR,\u001b[39m\"\u001b[39;49m\u001b[39m#conts > div.wrap_tabmenu01.type08 > ul > li:nth-child(5) > a\u001b[39;49m\u001b[39m\"\u001b[39;49m)\n\u001b[0;32m     26\u001b[0m melon_btn2\u001b[39m.\u001b[39mclick()\n\u001b[0;32m     28\u001b[0m melon_btn3 \u001b[39m=\u001b[39m browser\u001b[39m.\u001b[39mfind_element(By\u001b[39m.\u001b[39mCSS_SELECTOR,\u001b[39m\"\u001b[39m\u001b[39m#conts > div.wrap_tabmenu02.type06 > ul > li:nth-child(4) > a\u001b[39m\u001b[39m\"\u001b[39m)\n",
      "File \u001b[1;32mc:\\Users\\Playdata\\anaconda3\\envs\\ezpz\\lib\\site-packages\\selenium\\webdriver\\remote\\webdriver.py:740\u001b[0m, in \u001b[0;36mWebDriver.find_element\u001b[1;34m(self, by, value)\u001b[0m\n\u001b[0;32m    737\u001b[0m     by \u001b[39m=\u001b[39m By\u001b[39m.\u001b[39mCSS_SELECTOR\n\u001b[0;32m    738\u001b[0m     value \u001b[39m=\u001b[39m \u001b[39mf\u001b[39m\u001b[39m'\u001b[39m\u001b[39m[name=\u001b[39m\u001b[39m\"\u001b[39m\u001b[39m{\u001b[39;00mvalue\u001b[39m}\u001b[39;00m\u001b[39m\"\u001b[39m\u001b[39m]\u001b[39m\u001b[39m'\u001b[39m\n\u001b[1;32m--> 740\u001b[0m \u001b[39mreturn\u001b[39;00m \u001b[39mself\u001b[39;49m\u001b[39m.\u001b[39;49mexecute(Command\u001b[39m.\u001b[39;49mFIND_ELEMENT, {\u001b[39m\"\u001b[39;49m\u001b[39musing\u001b[39;49m\u001b[39m\"\u001b[39;49m: by, \u001b[39m\"\u001b[39;49m\u001b[39mvalue\u001b[39;49m\u001b[39m\"\u001b[39;49m: value})[\u001b[39m\"\u001b[39m\u001b[39mvalue\u001b[39m\u001b[39m\"\u001b[39m]\n",
      "File \u001b[1;32mc:\\Users\\Playdata\\anaconda3\\envs\\ezpz\\lib\\site-packages\\selenium\\webdriver\\remote\\webdriver.py:346\u001b[0m, in \u001b[0;36mWebDriver.execute\u001b[1;34m(self, driver_command, params)\u001b[0m\n\u001b[0;32m    344\u001b[0m response \u001b[39m=\u001b[39m \u001b[39mself\u001b[39m\u001b[39m.\u001b[39mcommand_executor\u001b[39m.\u001b[39mexecute(driver_command, params)\n\u001b[0;32m    345\u001b[0m \u001b[39mif\u001b[39;00m response:\n\u001b[1;32m--> 346\u001b[0m     \u001b[39mself\u001b[39;49m\u001b[39m.\u001b[39;49merror_handler\u001b[39m.\u001b[39;49mcheck_response(response)\n\u001b[0;32m    347\u001b[0m     response[\u001b[39m\"\u001b[39m\u001b[39mvalue\u001b[39m\u001b[39m\"\u001b[39m] \u001b[39m=\u001b[39m \u001b[39mself\u001b[39m\u001b[39m.\u001b[39m_unwrap_value(response\u001b[39m.\u001b[39mget(\u001b[39m\"\u001b[39m\u001b[39mvalue\u001b[39m\u001b[39m\"\u001b[39m, \u001b[39mNone\u001b[39;00m))\n\u001b[0;32m    348\u001b[0m     \u001b[39mreturn\u001b[39;00m response\n",
      "File \u001b[1;32mc:\\Users\\Playdata\\anaconda3\\envs\\ezpz\\lib\\site-packages\\selenium\\webdriver\\remote\\errorhandler.py:245\u001b[0m, in \u001b[0;36mErrorHandler.check_response\u001b[1;34m(self, response)\u001b[0m\n\u001b[0;32m    243\u001b[0m         alert_text \u001b[39m=\u001b[39m value[\u001b[39m\"\u001b[39m\u001b[39malert\u001b[39m\u001b[39m\"\u001b[39m]\u001b[39m.\u001b[39mget(\u001b[39m\"\u001b[39m\u001b[39mtext\u001b[39m\u001b[39m\"\u001b[39m)\n\u001b[0;32m    244\u001b[0m     \u001b[39mraise\u001b[39;00m exception_class(message, screen, stacktrace, alert_text)  \u001b[39m# type: ignore[call-arg]  # mypy is not smart enough here\u001b[39;00m\n\u001b[1;32m--> 245\u001b[0m \u001b[39mraise\u001b[39;00m exception_class(message, screen, stacktrace)\n",
      "\u001b[1;31mNoSuchElementException\u001b[0m: Message: no such element: Unable to locate element: {\"method\":\"css selector\",\"selector\":\"#conts > div.wrap_tabmenu01.type08 > ul > li:nth-child(5) > a\"}\n  (Session info: MicrosoftEdge=114.0.1823.67); For documentation on this error, please visit: https://www.selenium.dev/documentation/webdriver/troubleshooting/errors#no-such-element-exception\nStacktrace:\nBacktrace:\n\tGetHandleVerifier [0x00007FF71EEFAA52+64226]\n\tMicrosoft::Applications::Events::EventProperty::~EventProperty [0x00007FF71EE8BC12+765378]\n\t(No symbol) [0x00007FF71EC4CC4C]\n\t(No symbol) [0x00007FF71EC90BDF]\n\t(No symbol) [0x00007FF71EC90D6A]\n\t(No symbol) [0x00007FF71ECCAC17]\n\t(No symbol) [0x00007FF71ECAF03F]\n\t(No symbol) [0x00007FF71EC84BB1]\n\t(No symbol) [0x00007FF71ECC7FC1]\n\t(No symbol) [0x00007FF71ECAEDD3]\n\t(No symbol) [0x00007FF71EC83BEC]\n\t(No symbol) [0x00007FF71EC82DD6]\n\t(No symbol) [0x00007FF71EC84364]\n\tMicrosoft::Applications::Events::ILogManager::DispatchEventBroadcast [0x00007FF71F0D8359+1319033]\n\t(No symbol) [0x00007FF71ECFD298]\n\tMicrosoft::Applications::Events::EventProperty::~EventProperty [0x00007FF71EDD9161+33553]\n\tMicrosoft::Applications::Events::EventProperty::~EventProperty [0x00007FF71EDD159F+1871]\n\tMicrosoft::Applications::Events::ILogManager::DispatchEventBroadcast [0x00007FF71F0D6F73+1313939]\n\tMicrosoft::Applications::Events::ILogConfiguration::operator* [0x00007FF71EE94248+20232]\n\tMicrosoft::Applications::Events::ILogConfiguration::operator* [0x00007FF71EE90864+5412]\n\tMicrosoft::Applications::Events::ILogConfiguration::operator* [0x00007FF71EE9095C+5660]\n\tMicrosoft::Applications::Events::EventProperty::~EventProperty [0x00007FF71EE84611+735169]\n\tBaseThreadInitThunk [0x00007FFD1D0D26AD+29]\n\tRtlUserThreadStart [0x00007FFD1E30A9F8+40]\n"
     ]
    }
   ],
   "source": [
    "import requests\n",
    "from bs4 import BeautifulSoup\n",
    "import pandas as pd\n",
    "import os\n",
    "from selenium import webdriver\n",
    "from selenium.webdriver.edge.service import Service\n",
    "from selenium.webdriver.common.by import By\n",
    "import time\n",
    "\n",
    "url = \"https://www.melon.com/index.htm\"\n",
    "user_agent = 'Mozilla/5.0 (Macintosh; Intel Mac OS X 10_15_7) AppleWebKit/537.36 (KHTML, like Gecko) Chrome/112.0.0.0 Safari/537.36'\n",
    "driver= \"msedgedriver.exe\"\n",
    "service=Service(executable_path=driver)\n",
    "#webdriver 객체 생성\n",
    "browser = webdriver.Edge(service=service)\n",
    "\n",
    "#melon 이동\n",
    "browser.get(url)\n",
    "\n",
    "#\n",
    "#리뷰 더보기 버튼 찾기 및 클릭\n",
    "melon_btn = browser.find_element(By.CSS_SELECTOR,\"#gnb_menu > ul:nth-child(1) > li.nth3 > a > span.menu_bg.menu03\") \n",
    "melon_btn.click()\n",
    "#\n",
    "melon_btn2 = browser.find_element(By.CSS_SELECTOR,\"#conts > div.wrap_tabmenu01.type08 > ul > li:nth-child(5) > a\")\n",
    "melon_btn2.click()\n",
    "\n",
    "melon_btn3 = browser.find_element(By.CSS_SELECTOR,\"#conts > div.wrap_tabmenu02.type06 > ul > li:nth-child(4) > a\")\n",
    "melon_btn3.click()\n",
    "# \n",
    "\n",
    "#     tag_list = soup.select(\"#frm div > ul > li > div.entry > div.info > a\") # 찾아내는 목표 설정.\n",
    "#     print(len(tag_list))\n",
    "title_list=[]\n",
    "sec_title_list=[]\n",
    "review_list=[]\n",
    "\n",
    "i=0\n",
    "while i==3: #멜론 3페이지 검사 위해\n",
    "    i+=1\n",
    "    html = browser.page_source\n",
    "    soup = BeautifulSoup(html, \"lxml\")# html 파싱\n",
    "\n",
    "    #큰 제목 뽑기\n",
    "    title_tag_list = soup.select(\"#frm > div > ul > li > div.entry > div.info > a\") # 파싱된 html 내용에서   \n",
    "    for title in title_tag_list:\n",
    "        title_list.append(title.get_text().strip)\n",
    "    \n",
    "    #부제목 뽑기\n",
    "    sec_title_tag_list=soup.select('frm > div > ul > li > div.reveiw > h4')\n",
    "    for sec in sec_title_tag_list:\n",
    "        sec_title_list.append(sec.get_text().strip)\n",
    "    #리뷰 뽑기\n",
    "    review_tag_list= soup.select('#frm > div > ul > li > div.reveiw > p')\n",
    "    for review in review_tag_list:#     tag_list = soup.select(\"#frm div > ul > li > div.entry > div.info > a\") # 찾아내는 목표 설정.\n",
    "        review_list.append(review.get_text().strip)\n",
    "    print(len(title_list))\n",
    "    print(len(sec_title_list))\n",
    "    print(len(review_list))"
   ]
  },
  {
   "cell_type": "code",
   "execution_count": 5,
   "metadata": {},
   "outputs": [],
   "source": [
    "import os\n",
    "from datetime import datetime\n",
    "import time\n",
    "import requests\n",
    "import re\n",
    "\n",
    "import pandas as pd\n",
    "\n",
    "from bs4 import BeautifulSoup\n",
    "\n",
    "import selenium\n",
    "\n",
    "\n",
    "from selenium.webdriver.chrome.service import Service\n",
    "from selenium import webdriver\n",
    "from webdriver_manager.chrome import ChromeDriverManager\n",
    "\n",
    "from selenium.webdriver.common.by import By\n",
    "from selenium.webdriver.common.keys import Keys"
   ]
  },
  {
   "cell_type": "code",
   "execution_count": null,
   "metadata": {},
   "outputs": [],
   "source": [
    "'''\n",
    "class SRICrawler():\n",
    "사람인 -> url ->pc status code 200\n",
    "0.셀레늄이용 먼저 로그인 엔터 누르기 \n",
    "1.검색창에 입력값 (회사이름) 입력 시 \n",
    "->회사 리뷰까지 접속 \n",
    "->코멘트를 뭐였지 아무튼 검사로 체크해서 들어가기\n",
    "->\n",
    "'''"
   ]
  },
  {
   "cell_type": "code",
   "execution_count": 26,
   "metadata": {},
   "outputs": [],
   "source": [
    "service = Service(executable_path='chromedriver.exe')\n",
    "browser = webdriver.Chrome(service=service)"
   ]
  },
  {
   "cell_type": "code",
   "execution_count": 27,
   "metadata": {},
   "outputs": [
    {
     "name": "stdout",
     "output_type": "stream",
     "text": [
      "{'width': 1552, 'height': 832}\n"
     ]
    }
   ],
   "source": [
    "url = r\"https://www.saramin.co.kr/zf_user/\"\n",
    "\n",
    "browser.maximize_window()\n",
    "print(browser.get_window_size())\n",
    "\n",
    "browser.get(url)"
   ]
  },
  {
   "cell_type": "code",
   "execution_count": 28,
   "metadata": {},
   "outputs": [],
   "source": [
    "\n",
    "#로그인 버튼 클릭\n",
    "login_screen_btn = browser.find_element(By.CSS_SELECTOR,\"#sri_header > div.wrap_header > div.utility > div.sign > a.btn_sign.signin\") \n",
    "login_screen_btn.click()\n",
    "#아이디 버튼 클릭\n",
    "id_btn = browser.find_element(By.CSS_SELECTOR,\"#id\")\n",
    "#id_btn.click()\n",
    "#아이디 입력\n",
    "id_btn.send_keys(si.ID)\n",
    "\n",
    "#비밀번호 버튼 클릭\n",
    "pwd_btn = browser.find_element(By.CSS_SELECTOR,\"#password\")\n",
    "pwd_btn.click()\n",
    "#비밀번호 입력\n",
    "pwd_btn.send_keys(si.PW)\n",
    "\n",
    "#로그인 클릭\n",
    "login_btn = browser.find_element(By.CSS_SELECTOR,\"#login_frm > div > div > div.login-form > button\").send_keys(Keys.ENTER)"
   ]
  },
  {
   "cell_type": "code",
   "execution_count": 119,
   "metadata": {},
   "outputs": [
    {
     "ename": "NoSuchElementException",
     "evalue": "Message: no such element: Unable to locate element: {\"method\":\"css selector\",\"selector\":\"#sri_gnb_wrap > a > svg.img_ci\"}\n  (Session info: chrome=114.0.5735.199); For documentation on this error, please visit: https://www.selenium.dev/documentation/webdriver/troubleshooting/errors#no-such-element-exception\nStacktrace:\nBacktrace:\n\tGetHandleVerifier [0x0029A813+48355]\n\t(No symbol) [0x0022C4B1]\n\t(No symbol) [0x00135358]\n\t(No symbol) [0x001609A5]\n\t(No symbol) [0x00160B3B]\n\t(No symbol) [0x0018E232]\n\t(No symbol) [0x0017A784]\n\t(No symbol) [0x0018C922]\n\t(No symbol) [0x0017A536]\n\t(No symbol) [0x001582DC]\n\t(No symbol) [0x001593DD]\n\tGetHandleVerifier [0x004FAABD+2539405]\n\tGetHandleVerifier [0x0053A78F+2800735]\n\tGetHandleVerifier [0x0053456C+2775612]\n\tGetHandleVerifier [0x003251E0+616112]\n\t(No symbol) [0x00235F8C]\n\t(No symbol) [0x00232328]\n\t(No symbol) [0x0023240B]\n\t(No symbol) [0x00224FF7]\n\tBaseThreadInitThunk [0x75CC7D59+25]\n\tRtlInitializeExceptionChain [0x77D9B74B+107]\n\tRtlClearBits [0x77D9B6CF+191]\n\t(No symbol) [0x00000000]\n",
     "output_type": "error",
     "traceback": [
      "\u001b[1;31m---------------------------------------------------------------------------\u001b[0m",
      "\u001b[1;31mNoSuchElementException\u001b[0m                    Traceback (most recent call last)",
      "Cell \u001b[1;32mIn[119], line 2\u001b[0m\n\u001b[0;32m      1\u001b[0m \u001b[39m#메인 홈페이지로 돌아가기\u001b[39;00m\n\u001b[1;32m----> 2\u001b[0m main_btn \u001b[39m=\u001b[39m browser\u001b[39m.\u001b[39;49mfind_element(By\u001b[39m.\u001b[39;49mCSS_SELECTOR,\u001b[39m'\u001b[39;49m\u001b[39m#sri_gnb_wrap > a > svg.img_ci\u001b[39;49m\u001b[39m'\u001b[39;49m)\n\u001b[0;32m      3\u001b[0m main_btn\u001b[39m.\u001b[39mclick()\n",
      "File \u001b[1;32mc:\\Users\\Playdata\\anaconda3\\envs\\ezpz\\lib\\site-packages\\selenium\\webdriver\\remote\\webdriver.py:740\u001b[0m, in \u001b[0;36mWebDriver.find_element\u001b[1;34m(self, by, value)\u001b[0m\n\u001b[0;32m    737\u001b[0m     by \u001b[39m=\u001b[39m By\u001b[39m.\u001b[39mCSS_SELECTOR\n\u001b[0;32m    738\u001b[0m     value \u001b[39m=\u001b[39m \u001b[39mf\u001b[39m\u001b[39m'\u001b[39m\u001b[39m[name=\u001b[39m\u001b[39m\"\u001b[39m\u001b[39m{\u001b[39;00mvalue\u001b[39m}\u001b[39;00m\u001b[39m\"\u001b[39m\u001b[39m]\u001b[39m\u001b[39m'\u001b[39m\n\u001b[1;32m--> 740\u001b[0m \u001b[39mreturn\u001b[39;00m \u001b[39mself\u001b[39;49m\u001b[39m.\u001b[39;49mexecute(Command\u001b[39m.\u001b[39;49mFIND_ELEMENT, {\u001b[39m\"\u001b[39;49m\u001b[39musing\u001b[39;49m\u001b[39m\"\u001b[39;49m: by, \u001b[39m\"\u001b[39;49m\u001b[39mvalue\u001b[39;49m\u001b[39m\"\u001b[39;49m: value})[\u001b[39m\"\u001b[39m\u001b[39mvalue\u001b[39m\u001b[39m\"\u001b[39m]\n",
      "File \u001b[1;32mc:\\Users\\Playdata\\anaconda3\\envs\\ezpz\\lib\\site-packages\\selenium\\webdriver\\remote\\webdriver.py:346\u001b[0m, in \u001b[0;36mWebDriver.execute\u001b[1;34m(self, driver_command, params)\u001b[0m\n\u001b[0;32m    344\u001b[0m response \u001b[39m=\u001b[39m \u001b[39mself\u001b[39m\u001b[39m.\u001b[39mcommand_executor\u001b[39m.\u001b[39mexecute(driver_command, params)\n\u001b[0;32m    345\u001b[0m \u001b[39mif\u001b[39;00m response:\n\u001b[1;32m--> 346\u001b[0m     \u001b[39mself\u001b[39;49m\u001b[39m.\u001b[39;49merror_handler\u001b[39m.\u001b[39;49mcheck_response(response)\n\u001b[0;32m    347\u001b[0m     response[\u001b[39m\"\u001b[39m\u001b[39mvalue\u001b[39m\u001b[39m\"\u001b[39m] \u001b[39m=\u001b[39m \u001b[39mself\u001b[39m\u001b[39m.\u001b[39m_unwrap_value(response\u001b[39m.\u001b[39mget(\u001b[39m\"\u001b[39m\u001b[39mvalue\u001b[39m\u001b[39m\"\u001b[39m, \u001b[39mNone\u001b[39;00m))\n\u001b[0;32m    348\u001b[0m     \u001b[39mreturn\u001b[39;00m response\n",
      "File \u001b[1;32mc:\\Users\\Playdata\\anaconda3\\envs\\ezpz\\lib\\site-packages\\selenium\\webdriver\\remote\\errorhandler.py:245\u001b[0m, in \u001b[0;36mErrorHandler.check_response\u001b[1;34m(self, response)\u001b[0m\n\u001b[0;32m    243\u001b[0m         alert_text \u001b[39m=\u001b[39m value[\u001b[39m\"\u001b[39m\u001b[39malert\u001b[39m\u001b[39m\"\u001b[39m]\u001b[39m.\u001b[39mget(\u001b[39m\"\u001b[39m\u001b[39mtext\u001b[39m\u001b[39m\"\u001b[39m)\n\u001b[0;32m    244\u001b[0m     \u001b[39mraise\u001b[39;00m exception_class(message, screen, stacktrace, alert_text)  \u001b[39m# type: ignore[call-arg]  # mypy is not smart enough here\u001b[39;00m\n\u001b[1;32m--> 245\u001b[0m \u001b[39mraise\u001b[39;00m exception_class(message, screen, stacktrace)\n",
      "\u001b[1;31mNoSuchElementException\u001b[0m: Message: no such element: Unable to locate element: {\"method\":\"css selector\",\"selector\":\"#sri_gnb_wrap > a > svg.img_ci\"}\n  (Session info: chrome=114.0.5735.199); For documentation on this error, please visit: https://www.selenium.dev/documentation/webdriver/troubleshooting/errors#no-such-element-exception\nStacktrace:\nBacktrace:\n\tGetHandleVerifier [0x0029A813+48355]\n\t(No symbol) [0x0022C4B1]\n\t(No symbol) [0x00135358]\n\t(No symbol) [0x001609A5]\n\t(No symbol) [0x00160B3B]\n\t(No symbol) [0x0018E232]\n\t(No symbol) [0x0017A784]\n\t(No symbol) [0x0018C922]\n\t(No symbol) [0x0017A536]\n\t(No symbol) [0x001582DC]\n\t(No symbol) [0x001593DD]\n\tGetHandleVerifier [0x004FAABD+2539405]\n\tGetHandleVerifier [0x0053A78F+2800735]\n\tGetHandleVerifier [0x0053456C+2775612]\n\tGetHandleVerifier [0x003251E0+616112]\n\t(No symbol) [0x00235F8C]\n\t(No symbol) [0x00232328]\n\t(No symbol) [0x0023240B]\n\t(No symbol) [0x00224FF7]\n\tBaseThreadInitThunk [0x75CC7D59+25]\n\tRtlInitializeExceptionChain [0x77D9B74B+107]\n\tRtlClearBits [0x77D9B6CF+191]\n\t(No symbol) [0x00000000]\n"
     ]
    }
   ],
   "source": [
    "#메인 홈페이지로 돌아가기\n",
    "main_btn = browser.find_element(By.CSS_SELECTOR,'#sri_gnb_wrap > a > svg.img_ci')\n",
    "main_btn.click()\n"
   ]
  },
  {
   "cell_type": "code",
   "execution_count": 120,
   "metadata": {},
   "outputs": [],
   "source": [
    "\n",
    "#검색창 클릭\n",
    "search_btn = browser.find_element(By.CSS_SELECTOR,'#btn_search')\n",
    "search_btn.click()\n",
    "\n",
    "#검색창 2 클릭\n",
    "search_btn2 = browser.find_element(By.CSS_SELECTOR,'#ipt_keyword_recruit')\n",
    "search_btn2.click()"
   ]
  },
  {
   "cell_type": "code",
   "execution_count": 121,
   "metadata": {},
   "outputs": [],
   "source": [
    "#검색어 입력\n",
    "cop=input()\n",
    "search_btn2.send_keys(cop)\n"
   ]
  },
  {
   "cell_type": "code",
   "execution_count": 122,
   "metadata": {},
   "outputs": [],
   "source": [
    "#검색어 엔터\n",
    "enter_btn = browser.find_element(By.CSS_SELECTOR,'#btn_search_recruit')\n",
    "enter_btn.click()\n"
   ]
  },
  {
   "cell_type": "code",
   "execution_count": 123,
   "metadata": {},
   "outputs": [],
   "source": [
    "#(주) 앞뒤로 포함돼 있고 대상 검색 문자열(cop)과 일치\n",
    "i = 1\n",
    "while True:\n",
    "    try:\n",
    "        n_btn = browser.find_element(By.CSS_SELECTOR, f\"div:nth-child({i}) > h2 > a\")\n",
    "        n_btn2= browser.find_element(By.CSS_SELECTOR, f\"div:nth-child({i}) > h2 > a > b\")\n",
    "        \n",
    "        if cop+'(주)' == n_btn.text or '(주)'+cop == n_btn.text or cop==n_btn2.text:\n",
    "            n_btn.click()\n",
    "            if cop ==n_btn2.text:\n",
    "                n_btn2.click\n",
    "            break\n",
    "\n",
    "        i += 1\n",
    "    except:\n",
    "        print(f\"No result found for {cop}\")\n",
    "        break\n",
    "\n",
    "\n",
    "\n",
    "\n",
    "\n"
   ]
  },
  {
   "cell_type": "code",
   "execution_count": 19,
   "metadata": {},
   "outputs": [],
   "source": [
    "#execute_script(\"자바스크립트 코드\")=> 스크롤 내리기\n",
    "#browser.execute_script(\"window.scrollTo(0,1000)\")"
   ]
  },
  {
   "cell_type": "code",
   "execution_count": null,
   "metadata": {},
   "outputs": [],
   "source": []
  },
  {
   "cell_type": "code",
   "execution_count": null,
   "metadata": {},
   "outputs": [],
   "source": []
  }
 ],
 "metadata": {
  "kernelspec": {
   "display_name": "ezpz",
   "language": "python",
   "name": "python3"
  },
  "language_info": {
   "codemirror_mode": {
    "name": "ipython",
    "version": 3
   },
   "file_extension": ".py",
   "mimetype": "text/x-python",
   "name": "python",
   "nbconvert_exporter": "python",
   "pygments_lexer": "ipython3",
   "version": "3.10.11"
  },
  "orig_nbformat": 4
 },
 "nbformat": 4,
 "nbformat_minor": 2
}
