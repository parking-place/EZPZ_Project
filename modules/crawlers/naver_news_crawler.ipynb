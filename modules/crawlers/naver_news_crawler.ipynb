{
 "cells": [
  {
   "cell_type": "code",
   "execution_count": null,
   "metadata": {},
   "outputs": [],
   "source": [
    "import re\n",
    "import requests\n",
    "import pandas as pd\n",
    "from bs4 import BeautifulSoup as bs"
   ]
  },
  {
   "cell_type": "code",
   "execution_count": 3,
   "metadata": {},
   "outputs": [],
   "source": [
    "BASE_URL = r'https://search.naver.com/search.naver?where=news&ie=utf8&sm=nws_hty&query='\n",
    "\n",
    "comp_name = 'SK 하이닉스'\n",
    "\n",
    "def get_url(comp_name):\n",
    "    return BASE_URL + comp_name.replace(' ', '+')"
   ]
  },
  {
   "cell_type": "code",
   "execution_count": 4,
   "metadata": {},
   "outputs": [
    {
     "data": {
      "text/plain": [
       "'https://search.naver.com/search.naver?where=news&ie=utf8&sm=nws_hty&query=SK+하이닉스'"
      ]
     },
     "execution_count": 4,
     "metadata": {},
     "output_type": "execute_result"
    }
   ],
   "source": [
    "get_url(comp_name)"
   ]
  },
  {
   "cell_type": "code",
   "execution_count": null,
   "metadata": {},
   "outputs": [],
   "source": [
    "def get_news(comp_name):\n",
    "    url = get_url(comp_name)\n",
    "    r = requests.get(url)\n",
    "    soup = bs(r.text, 'lxml')\n",
    "    news_list = soup.select('ul.type01 > li')\n",
    "    \n",
    "    news_dict = {\n",
    "        'title': [],\n",
    "        'link': [],\n",
    "        'date': [],\n",
    "        'content': []\n",
    "    }\n",
    "    \n",
    "    for news in news_list:\n",
    "        a_tag = news.select_one('a._sp_each_title')\n",
    "        title = a_tag.text\n",
    "        link = a_tag['href']\n",
    "        date = news.select_one('dd.txt_inline').text\n",
    "        content = news.select_one('dd').text\n",
    "        news_dict['title'].append(title)\n",
    "        news_dict['link'].append(link)\n",
    "        news_dict['date'].append(date)\n",
    "        news_dict['content'].append(content)\n"
   ]
  }
 ],
 "metadata": {
  "kernelspec": {
   "display_name": "ezpz",
   "language": "python",
   "name": "python3"
  },
  "language_info": {
   "codemirror_mode": {
    "name": "ipython",
    "version": 3
   },
   "file_extension": ".py",
   "mimetype": "text/x-python",
   "name": "python",
   "nbconvert_exporter": "python",
   "pygments_lexer": "ipython3",
   "version": "3.10.11"
  },
  "orig_nbformat": 4
 },
 "nbformat": 4,
 "nbformat_minor": 2
}
