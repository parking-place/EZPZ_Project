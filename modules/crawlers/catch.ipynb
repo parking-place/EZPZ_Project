{
 "cells": [
  {
   "cell_type": "code",
   "execution_count": 17,
   "metadata": {},
   "outputs": [
    {
     "name": "stdout",
     "output_type": "stream",
     "text": [
      "Requirement already satisfied: pandas in c:\\users\\playdata\\anaconda3\\envs\\ezpz\\lib\\site-packages (2.0.1)\n",
      "Requirement already satisfied: pytz>=2020.1 in c:\\users\\playdata\\anaconda3\\envs\\ezpz\\lib\\site-packages (from pandas) (2023.3)\n",
      "Requirement already satisfied: numpy>=1.21.0 in c:\\users\\playdata\\anaconda3\\envs\\ezpz\\lib\\site-packages (from pandas) (1.24.3)\n",
      "Requirement already satisfied: python-dateutil>=2.8.2 in c:\\users\\playdata\\anaconda3\\envs\\ezpz\\lib\\site-packages (from pandas) (2.8.2)\n",
      "Requirement already satisfied: tzdata>=2022.1 in c:\\users\\playdata\\anaconda3\\envs\\ezpz\\lib\\site-packages (from pandas) (2023.3)\n",
      "Requirement already satisfied: six>=1.5 in c:\\users\\playdata\\anaconda3\\envs\\ezpz\\lib\\site-packages (from python-dateutil>=2.8.2->pandas) (1.16.0)\n",
      "Requirement already satisfied: BeautifulSoup4 in c:\\users\\playdata\\anaconda3\\envs\\ezpz\\lib\\site-packages (4.12.2)\n",
      "Requirement already satisfied: soupsieve>1.2 in c:\\users\\playdata\\anaconda3\\envs\\ezpz\\lib\\site-packages (from BeautifulSoup4) (2.4.1)\n",
      "Requirement already satisfied: selenium in c:\\users\\playdata\\anaconda3\\envs\\ezpz\\lib\\site-packages (4.10.0)\n",
      "Requirement already satisfied: trio~=0.17 in c:\\users\\playdata\\anaconda3\\envs\\ezpz\\lib\\site-packages (from selenium) (0.22.1)\n",
      "Requirement already satisfied: trio-websocket~=0.9 in c:\\users\\playdata\\anaconda3\\envs\\ezpz\\lib\\site-packages (from selenium) (0.10.3)\n",
      "Requirement already satisfied: certifi>=2021.10.8 in c:\\users\\playdata\\anaconda3\\envs\\ezpz\\lib\\site-packages (from selenium) (2023.5.7)\n",
      "Requirement already satisfied: urllib3[socks]<3,>=1.26 in c:\\users\\playdata\\anaconda3\\envs\\ezpz\\lib\\site-packages (from selenium) (1.26.14)\n",
      "Requirement already satisfied: sniffio in c:\\users\\playdata\\anaconda3\\envs\\ezpz\\lib\\site-packages (from trio~=0.17->selenium) (1.3.0)\n",
      "Requirement already satisfied: exceptiongroup>=1.0.0rc9 in c:\\users\\playdata\\anaconda3\\envs\\ezpz\\lib\\site-packages (from trio~=0.17->selenium) (1.1.2)\n",
      "Requirement already satisfied: idna in c:\\users\\playdata\\anaconda3\\envs\\ezpz\\lib\\site-packages (from trio~=0.17->selenium) (3.4)\n",
      "Requirement already satisfied: sortedcontainers in c:\\users\\playdata\\anaconda3\\envs\\ezpz\\lib\\site-packages (from trio~=0.17->selenium) (2.4.0)\n",
      "Requirement already satisfied: outcome in c:\\users\\playdata\\anaconda3\\envs\\ezpz\\lib\\site-packages (from trio~=0.17->selenium) (1.2.0)\n",
      "Requirement already satisfied: cffi>=1.14 in c:\\users\\playdata\\anaconda3\\envs\\ezpz\\lib\\site-packages (from trio~=0.17->selenium) (1.15.1)\n",
      "Requirement already satisfied: attrs>=20.1.0 in c:\\users\\playdata\\anaconda3\\envs\\ezpz\\lib\\site-packages (from trio~=0.17->selenium) (23.1.0)\n",
      "Requirement already satisfied: wsproto>=0.14 in c:\\users\\playdata\\anaconda3\\envs\\ezpz\\lib\\site-packages (from trio-websocket~=0.9->selenium) (1.2.0)\n",
      "Requirement already satisfied: PySocks!=1.5.7,<2.0,>=1.5.6 in c:\\users\\playdata\\anaconda3\\envs\\ezpz\\lib\\site-packages (from urllib3[socks]<3,>=1.26->selenium) (1.7.1)\n",
      "Requirement already satisfied: pycparser in c:\\users\\playdata\\anaconda3\\envs\\ezpz\\lib\\site-packages (from cffi>=1.14->trio~=0.17->selenium) (2.21)\n",
      "Requirement already satisfied: h11<1,>=0.9.0 in c:\\users\\playdata\\anaconda3\\envs\\ezpz\\lib\\site-packages (from wsproto>=0.14->trio-websocket~=0.9->selenium) (0.14.0)\n",
      "Requirement already satisfied: selenium in c:\\users\\playdata\\anaconda3\\envs\\ezpz\\lib\\site-packages (4.10.0)\n",
      "Requirement already satisfied: trio~=0.17 in c:\\users\\playdata\\anaconda3\\envs\\ezpz\\lib\\site-packages (from selenium) (0.22.1)\n",
      "Requirement already satisfied: trio-websocket~=0.9 in c:\\users\\playdata\\anaconda3\\envs\\ezpz\\lib\\site-packages (from selenium) (0.10.3)\n",
      "Requirement already satisfied: urllib3[socks]<3,>=1.26 in c:\\users\\playdata\\anaconda3\\envs\\ezpz\\lib\\site-packages (from selenium) (1.26.14)\n",
      "Requirement already satisfied: certifi>=2021.10.8 in c:\\users\\playdata\\anaconda3\\envs\\ezpz\\lib\\site-packages (from selenium) (2023.5.7)\n",
      "Requirement already satisfied: idna in c:\\users\\playdata\\anaconda3\\envs\\ezpz\\lib\\site-packages (from trio~=0.17->selenium) (3.4)\n",
      "Requirement already satisfied: attrs>=20.1.0 in c:\\users\\playdata\\anaconda3\\envs\\ezpz\\lib\\site-packages (from trio~=0.17->selenium) (23.1.0)\n",
      "Requirement already satisfied: sortedcontainers in c:\\users\\playdata\\anaconda3\\envs\\ezpz\\lib\\site-packages (from trio~=0.17->selenium) (2.4.0)\n",
      "Requirement already satisfied: cffi>=1.14 in c:\\users\\playdata\\anaconda3\\envs\\ezpz\\lib\\site-packages (from trio~=0.17->selenium) (1.15.1)\n",
      "Requirement already satisfied: exceptiongroup>=1.0.0rc9 in c:\\users\\playdata\\anaconda3\\envs\\ezpz\\lib\\site-packages (from trio~=0.17->selenium) (1.1.2)\n",
      "Requirement already satisfied: sniffio in c:\\users\\playdata\\anaconda3\\envs\\ezpz\\lib\\site-packages (from trio~=0.17->selenium) (1.3.0)\n",
      "Requirement already satisfied: outcome in c:\\users\\playdata\\anaconda3\\envs\\ezpz\\lib\\site-packages (from trio~=0.17->selenium) (1.2.0)\n",
      "Requirement already satisfied: wsproto>=0.14 in c:\\users\\playdata\\anaconda3\\envs\\ezpz\\lib\\site-packages (from trio-websocket~=0.9->selenium) (1.2.0)\n",
      "Requirement already satisfied: PySocks!=1.5.7,<2.0,>=1.5.6 in c:\\users\\playdata\\anaconda3\\envs\\ezpz\\lib\\site-packages (from urllib3[socks]<3,>=1.26->selenium) (1.7.1)\n",
      "Requirement already satisfied: pycparser in c:\\users\\playdata\\anaconda3\\envs\\ezpz\\lib\\site-packages (from cffi>=1.14->trio~=0.17->selenium) (2.21)\n",
      "Requirement already satisfied: h11<1,>=0.9.0 in c:\\users\\playdata\\anaconda3\\envs\\ezpz\\lib\\site-packages (from wsproto>=0.14->trio-websocket~=0.9->selenium) (0.14.0)\n",
      "Requirement already satisfied: webdriver-manager in c:\\users\\playdata\\anaconda3\\envs\\ezpz\\lib\\site-packages (3.8.6)\n",
      "Requirement already satisfied: tqdm in c:\\users\\playdata\\anaconda3\\envs\\ezpz\\lib\\site-packages (from webdriver-manager) (4.65.0)\n",
      "Requirement already satisfied: requests in c:\\users\\playdata\\anaconda3\\envs\\ezpz\\lib\\site-packages (from webdriver-manager) (2.28.1)\n",
      "Requirement already satisfied: packaging in c:\\users\\playdata\\anaconda3\\envs\\ezpz\\lib\\site-packages (from webdriver-manager) (23.1)\n",
      "Requirement already satisfied: python-dotenv in c:\\users\\playdata\\anaconda3\\envs\\ezpz\\lib\\site-packages (from webdriver-manager) (1.0.0)\n",
      "Requirement already satisfied: certifi>=2017.4.17 in c:\\users\\playdata\\anaconda3\\envs\\ezpz\\lib\\site-packages (from requests->webdriver-manager) (2023.5.7)\n",
      "Requirement already satisfied: idna<4,>=2.5 in c:\\users\\playdata\\anaconda3\\envs\\ezpz\\lib\\site-packages (from requests->webdriver-manager) (3.4)\n",
      "Requirement already satisfied: urllib3<1.27,>=1.21.1 in c:\\users\\playdata\\anaconda3\\envs\\ezpz\\lib\\site-packages (from requests->webdriver-manager) (1.26.14)\n",
      "Requirement already satisfied: charset-normalizer<3,>=2 in c:\\users\\playdata\\anaconda3\\envs\\ezpz\\lib\\site-packages (from requests->webdriver-manager) (2.0.4)\n",
      "Requirement already satisfied: colorama in c:\\users\\playdata\\anaconda3\\envs\\ezpz\\lib\\site-packages (from tqdm->webdriver-manager) (0.4.6)\n"
     ]
    }
   ],
   "source": [
    "!pip install pandas\n",
    "\n",
    "!pip install BeautifulSoup4\n",
    "!pip install selenium\n",
    "!pip install selenium --upgrade\n",
    "!pip install webdriver-manager"
   ]
  },
  {
   "cell_type": "code",
   "execution_count": 76,
   "metadata": {},
   "outputs": [],
   "source": [
    "import os\n",
    "from datetime import datetime\n",
    "import time\n",
    "import requests\n",
    "import re\n",
    "\n",
    "import pandas as pd\n",
    "\n",
    "from bs4 import BeautifulSoup\n",
    "\n",
    "import selenium\n",
    "\n",
    "\n",
    "from selenium.webdriver.chrome.service import Service\n",
    "from selenium import webdriver\n",
    "from webdriver_manager.chrome import ChromeDriverManager\n",
    "\n",
    "from selenium.webdriver.common.by import By\n",
    "from selenium.webdriver.common.keys import Keys\n",
    "from selenium.webdriver.support.select import Select\n"
   ]
  },
  {
   "cell_type": "code",
   "execution_count": 192,
   "metadata": {},
   "outputs": [
    {
     "name": "stdout",
     "output_type": "stream",
     "text": [
      "{'width': 1552, 'height': 832}\n"
     ]
    }
   ],
   "source": [
    "# headless 모드를 위해 아래 3줄의 주석을 풀어주세요.\n",
    "\n",
    "# option = webdriver.ChromeOptions()\n",
    "# option.add_argument(\"--headless\")\n",
    "\n",
    "service = Service(executable_path='chromedriver.exe')\n",
    "browser = webdriver.Chrome(service=service) #, options=option)\n",
    "\n",
    "url = r\"https://www.catch.co.kr/\"\n",
    "\n",
    "browser.maximize_window()\n",
    "print(browser.get_window_size())\n",
    "\n",
    "browser.get(url)\n",
    "\n",
    "time.sleep(3)"
   ]
  },
  {
   "cell_type": "code",
   "execution_count": 193,
   "metadata": {},
   "outputs": [],
   "source": [
    "from accounts import ct\n",
    "\n",
    "ID = ct.ID\n",
    "PW = ct.PW"
   ]
  },
  {
   "cell_type": "code",
   "execution_count": 194,
   "metadata": {},
   "outputs": [],
   "source": [
    "# 로그인\n",
    "\n",
    "browser.find_element(By.CSS_SELECTOR, \"a.login\").click()\n",
    "\n",
    "browser.find_element(By.CSS_SELECTOR, \"input#id_login\").send_keys(ID)\n",
    "time.sleep(1)\n",
    "browser.find_element(By.CSS_SELECTOR, \"input#pw_login\").send_keys(PW)\n",
    "\n",
    "browser.find_element(By.CSS_SELECTOR, \"input#pw_login\").send_keys(Keys.ENTER)"
   ]
  },
  {
   "cell_type": "code",
   "execution_count": 204,
   "metadata": {},
   "outputs": [],
   "source": [
    "# 기업 검색 (input)\n",
    "query = browser.find_element(By.CSS_SELECTOR, \"input\")\n",
    "\n",
    "query.send_keys(input(\"리뷰 확인하기: \"))\n",
    "query.send_keys(Keys.ENTER)"
   ]
  },
  {
   "cell_type": "code",
   "execution_count": 205,
   "metadata": {},
   "outputs": [],
   "source": [
    "### 팝업 뜨면 끄기 (예외 처리)\n",
    "\n",
    "try : \n",
    "    browser.find_element(By.XPATH, r'//*[@id=\"layerInterest4\"]/div/button[2]/span').click()\n",
    "    time.sleep(2)\n",
    "\n",
    "except : \n",
    "    pass"
   ]
  },
  {
   "cell_type": "code",
   "execution_count": 69,
   "metadata": {},
   "outputs": [],
   "source": [
    "### 리뷰가 없어도 예외 처리"
   ]
  },
  {
   "cell_type": "code",
   "execution_count": null,
   "metadata": {},
   "outputs": [],
   "source": [
    "#commentList > div.top > div > "
   ]
  },
  {
   "cell_type": "code",
   "execution_count": 206,
   "metadata": {},
   "outputs": [],
   "source": [
    "# 검색한 기업(최상위 노출) 클릭 \n",
    "browser.find_element(By.CSS_SELECTOR, \"p.name > a\").click()\n",
    "time.sleep(2)"
   ]
  },
  {
   "cell_type": "code",
   "execution_count": 221,
   "metadata": {},
   "outputs": [],
   "source": [
    "# '현직자 리뷰' 탭 클릭\n",
    "browser.find_element(By.XPATH, r'//*[@id=\"Contents\"]/div[1]/div[1]/div[2]/ul/li[4]/a').click()\n",
    "time.sleep(1)"
   ]
  },
  {
   "cell_type": "code",
   "execution_count": 225,
   "metadata": {},
   "outputs": [],
   "source": [
    "# 핵심 리뷰만 조회 - 정규직/현직자가 3년 이내 작성한 리뷰\n",
    "browser.find_element(By.CSS_SELECTOR, 'div.pd_type2 > div > a').click()\n",
    "time.sleep(1)"
   ]
  },
  {
   "cell_type": "code",
   "execution_count": 211,
   "metadata": {},
   "outputs": [
    {
     "data": {
      "text/plain": [
       "'정치질을 잘 한다면 일을 열심히 할 필요가 없는 회사. 밥 잘나오고 ot 잘 챙겨준다. 짬순으로 정치순으로 진급 가능'"
      ]
     },
     "execution_count": 211,
     "metadata": {},
     "output_type": "execute_result"
    }
   ],
   "source": [
    "# 긍정 리뷰만 조회\n",
    "good_rv = browser.find_element(By.CSS_SELECTOR, \"li:nth-child(1) > p:nth-child(4)\").text\n",
    "good_rv = good_rv.replace(good_rv[:5], \"\").replace('\\n', ' ') \n",
    "good_rv"
   ]
  },
  {
   "cell_type": "code",
   "execution_count": 212,
   "metadata": {},
   "outputs": [
    {
     "data": {
      "text/plain": [
       "'정치질을 못한다면 일이 쏟아지고 무능력하지만 정치질 잘하는 상사와 비례로 뽑힌 여사원들의 업무를 독박으로 받아야 한다. 고여 있어서 최신 기술을 배울 수 없고 재택 근무가 불가능함'"
      ]
     },
     "execution_count": 212,
     "metadata": {},
     "output_type": "execute_result"
    }
   ],
   "source": [
    "# 부정 리뷰만 조회\n",
    "bad_rv = browser.find_element(By.CSS_SELECTOR, \"li:nth-child(1) > p:nth-child(5)\").text\n",
    "bad_rv = bad_rv.replace(bad_rv[:4], \"\").replace('\\n', ' ') \n",
    "bad_rv"
   ]
  },
  {
   "cell_type": "code",
   "execution_count": 213,
   "metadata": {},
   "outputs": [
    {
     "data": {
      "text/html": [
       "<div>\n",
       "<style scoped>\n",
       "    .dataframe tbody tr th:only-of-type {\n",
       "        vertical-align: middle;\n",
       "    }\n",
       "\n",
       "    .dataframe tbody tr th {\n",
       "        vertical-align: top;\n",
       "    }\n",
       "\n",
       "    .dataframe thead th {\n",
       "        text-align: right;\n",
       "    }\n",
       "</style>\n",
       "<table border=\"1\" class=\"dataframe\">\n",
       "  <thead>\n",
       "    <tr style=\"text-align: right;\">\n",
       "      <th></th>\n",
       "      <th>긍정적 평가</th>\n",
       "    </tr>\n",
       "  </thead>\n",
       "  <tbody>\n",
       "    <tr>\n",
       "      <th>0</th>\n",
       "      <td>정치질을 잘 한다면 일을 열심히 할 필요가 없는 회사. 밥 잘나오고 ot 잘 챙겨준...</td>\n",
       "    </tr>\n",
       "  </tbody>\n",
       "</table>\n",
       "</div>"
      ],
      "text/plain": [
       "                                              긍정적 평가\n",
       "0  정치질을 잘 한다면 일을 열심히 할 필요가 없는 회사. 밥 잘나오고 ot 잘 챙겨준..."
      ]
     },
     "execution_count": 213,
     "metadata": {},
     "output_type": "execute_result"
    }
   ],
   "source": [
    "good_df = pd.DataFrame({\"긍정적 평가\" : [good_rv]})\n",
    "good_df"
   ]
  },
  {
   "cell_type": "code",
   "execution_count": 214,
   "metadata": {},
   "outputs": [
    {
     "data": {
      "text/html": [
       "<div>\n",
       "<style scoped>\n",
       "    .dataframe tbody tr th:only-of-type {\n",
       "        vertical-align: middle;\n",
       "    }\n",
       "\n",
       "    .dataframe tbody tr th {\n",
       "        vertical-align: top;\n",
       "    }\n",
       "\n",
       "    .dataframe thead th {\n",
       "        text-align: right;\n",
       "    }\n",
       "</style>\n",
       "<table border=\"1\" class=\"dataframe\">\n",
       "  <thead>\n",
       "    <tr style=\"text-align: right;\">\n",
       "      <th></th>\n",
       "      <th>부정적 평가</th>\n",
       "    </tr>\n",
       "  </thead>\n",
       "  <tbody>\n",
       "    <tr>\n",
       "      <th>0</th>\n",
       "      <td>정치질을 못한다면 일이 쏟아지고 무능력하지만 정치질 잘하는 상사와 비례로 뽑힌 여사...</td>\n",
       "    </tr>\n",
       "  </tbody>\n",
       "</table>\n",
       "</div>"
      ],
      "text/plain": [
       "                                              부정적 평가\n",
       "0  정치질을 못한다면 일이 쏟아지고 무능력하지만 정치질 잘하는 상사와 비례로 뽑힌 여사..."
      ]
     },
     "execution_count": 214,
     "metadata": {},
     "output_type": "execute_result"
    }
   ],
   "source": [
    "bad_df = pd.DataFrame({\"부정적 평가\" : [bad_rv]})\n",
    "bad_df"
   ]
  },
  {
   "cell_type": "code",
   "execution_count": 215,
   "metadata": {},
   "outputs": [
    {
     "data": {
      "text/html": [
       "<div>\n",
       "<style scoped>\n",
       "    .dataframe tbody tr th:only-of-type {\n",
       "        vertical-align: middle;\n",
       "    }\n",
       "\n",
       "    .dataframe tbody tr th {\n",
       "        vertical-align: top;\n",
       "    }\n",
       "\n",
       "    .dataframe thead th {\n",
       "        text-align: right;\n",
       "    }\n",
       "</style>\n",
       "<table border=\"1\" class=\"dataframe\">\n",
       "  <thead>\n",
       "    <tr style=\"text-align: right;\">\n",
       "      <th></th>\n",
       "      <th>긍정적 평가</th>\n",
       "      <th>부정적 평가</th>\n",
       "    </tr>\n",
       "  </thead>\n",
       "  <tbody>\n",
       "    <tr>\n",
       "      <th>0</th>\n",
       "      <td>정치질을 잘 한다면 일을 열심히 할 필요가 없는 회사. 밥 잘나오고 ot 잘 챙겨준...</td>\n",
       "      <td>정치질을 못한다면 일이 쏟아지고 무능력하지만 정치질 잘하는 상사와 비례로 뽑힌 여사...</td>\n",
       "    </tr>\n",
       "  </tbody>\n",
       "</table>\n",
       "</div>"
      ],
      "text/plain": [
       "                                              긍정적 평가   \n",
       "0  정치질을 잘 한다면 일을 열심히 할 필요가 없는 회사. 밥 잘나오고 ot 잘 챙겨준...  \\\n",
       "\n",
       "                                              부정적 평가  \n",
       "0  정치질을 못한다면 일이 쏟아지고 무능력하지만 정치질 잘하는 상사와 비례로 뽑힌 여사...  "
      ]
     },
     "execution_count": 215,
     "metadata": {},
     "output_type": "execute_result"
    }
   ],
   "source": [
    "good_df.join(bad_df)"
   ]
  },
  {
   "cell_type": "code",
   "execution_count": 276,
   "metadata": {},
   "outputs": [
    {
     "ename": "NoSuchElementException",
     "evalue": "Message: no such element: Unable to locate element: {\"method\":\"css selector\",\"selector\":\"li:nth-child(4) > p:nth-child(5)\"}\n  (Session info: chrome=114.0.5735.199); For documentation on this error, please visit: https://www.selenium.dev/documentation/webdriver/troubleshooting/errors#no-such-element-exception\nStacktrace:\nBacktrace:\n\tGetHandleVerifier [0x00ECA813+48355]\n\t(No symbol) [0x00E5C4B1]\n\t(No symbol) [0x00D65358]\n\t(No symbol) [0x00D909A5]\n\t(No symbol) [0x00D90B3B]\n\t(No symbol) [0x00DBE232]\n\t(No symbol) [0x00DAA784]\n\t(No symbol) [0x00DBC922]\n\t(No symbol) [0x00DAA536]\n\t(No symbol) [0x00D882DC]\n\t(No symbol) [0x00D893DD]\n\tGetHandleVerifier [0x0112AABD+2539405]\n\tGetHandleVerifier [0x0116A78F+2800735]\n\tGetHandleVerifier [0x0116456C+2775612]\n\tGetHandleVerifier [0x00F551E0+616112]\n\t(No symbol) [0x00E65F8C]\n\t(No symbol) [0x00E62328]\n\t(No symbol) [0x00E6240B]\n\t(No symbol) [0x00E54FF7]\n\tBaseThreadInitThunk [0x759F7D59+25]\n\tRtlInitializeExceptionChain [0x76F2B74B+107]\n\tRtlClearBits [0x76F2B6CF+191]\n",
     "output_type": "error",
     "traceback": [
      "\u001b[1;31m---------------------------------------------------------------------------\u001b[0m",
      "\u001b[1;31mNoSuchElementException\u001b[0m                    Traceback (most recent call last)",
      "Cell \u001b[1;32mIn[276], line 15\u001b[0m\n\u001b[0;32m     12\u001b[0m \u001b[39mfor\u001b[39;00m i \u001b[39min\u001b[39;00m \u001b[39mrange\u001b[39m(\u001b[39m1\u001b[39m, \u001b[39m5\u001b[39m) : \n\u001b[0;32m     14\u001b[0m     grv \u001b[39m=\u001b[39m browser\u001b[39m.\u001b[39mfind_element(By\u001b[39m.\u001b[39mCSS_SELECTOR, \u001b[39mf\u001b[39m\u001b[39m\"\u001b[39m\u001b[39mli:nth-child(\u001b[39m\u001b[39m{\u001b[39;00mi\u001b[39m}\u001b[39;00m\u001b[39m) > p:nth-child(4)\u001b[39m\u001b[39m\"\u001b[39m)\u001b[39m.\u001b[39mtext\n\u001b[1;32m---> 15\u001b[0m     brv \u001b[39m=\u001b[39m browser\u001b[39m.\u001b[39;49mfind_element(By\u001b[39m.\u001b[39;49mCSS_SELECTOR, \u001b[39mf\u001b[39;49m\u001b[39m\"\u001b[39;49m\u001b[39mli:nth-child(\u001b[39;49m\u001b[39m{\u001b[39;49;00mi\u001b[39m}\u001b[39;49;00m\u001b[39m) > p:nth-child(5)\u001b[39;49m\u001b[39m\"\u001b[39;49m)\u001b[39m.\u001b[39mtext\n\u001b[0;32m     17\u001b[0m     grv_clean \u001b[39m=\u001b[39m grv\u001b[39m.\u001b[39mreplace(grv[:\u001b[39m5\u001b[39m], \u001b[39m\"\u001b[39m\u001b[39m\"\u001b[39m)\u001b[39m.\u001b[39mreplace(\u001b[39m'\u001b[39m\u001b[39m\\n\u001b[39;00m\u001b[39m'\u001b[39m, \u001b[39m'\u001b[39m\u001b[39m \u001b[39m\u001b[39m'\u001b[39m) \n\u001b[0;32m     18\u001b[0m     brv_clean \u001b[39m=\u001b[39m brv\u001b[39m.\u001b[39mreplace(brv[:\u001b[39m4\u001b[39m], \u001b[39m\"\u001b[39m\u001b[39m\"\u001b[39m)\u001b[39m.\u001b[39mreplace(\u001b[39m'\u001b[39m\u001b[39m\\n\u001b[39;00m\u001b[39m'\u001b[39m, \u001b[39m'\u001b[39m\u001b[39m \u001b[39m\u001b[39m'\u001b[39m) \n",
      "File \u001b[1;32mc:\\Users\\Playdata\\anaconda3\\envs\\ezpz\\lib\\site-packages\\selenium\\webdriver\\remote\\webdriver.py:740\u001b[0m, in \u001b[0;36mWebDriver.find_element\u001b[1;34m(self, by, value)\u001b[0m\n\u001b[0;32m    737\u001b[0m     by \u001b[39m=\u001b[39m By\u001b[39m.\u001b[39mCSS_SELECTOR\n\u001b[0;32m    738\u001b[0m     value \u001b[39m=\u001b[39m \u001b[39mf\u001b[39m\u001b[39m'\u001b[39m\u001b[39m[name=\u001b[39m\u001b[39m\"\u001b[39m\u001b[39m{\u001b[39;00mvalue\u001b[39m}\u001b[39;00m\u001b[39m\"\u001b[39m\u001b[39m]\u001b[39m\u001b[39m'\u001b[39m\n\u001b[1;32m--> 740\u001b[0m \u001b[39mreturn\u001b[39;00m \u001b[39mself\u001b[39;49m\u001b[39m.\u001b[39;49mexecute(Command\u001b[39m.\u001b[39;49mFIND_ELEMENT, {\u001b[39m\"\u001b[39;49m\u001b[39musing\u001b[39;49m\u001b[39m\"\u001b[39;49m: by, \u001b[39m\"\u001b[39;49m\u001b[39mvalue\u001b[39;49m\u001b[39m\"\u001b[39;49m: value})[\u001b[39m\"\u001b[39m\u001b[39mvalue\u001b[39m\u001b[39m\"\u001b[39m]\n",
      "File \u001b[1;32mc:\\Users\\Playdata\\anaconda3\\envs\\ezpz\\lib\\site-packages\\selenium\\webdriver\\remote\\webdriver.py:346\u001b[0m, in \u001b[0;36mWebDriver.execute\u001b[1;34m(self, driver_command, params)\u001b[0m\n\u001b[0;32m    344\u001b[0m response \u001b[39m=\u001b[39m \u001b[39mself\u001b[39m\u001b[39m.\u001b[39mcommand_executor\u001b[39m.\u001b[39mexecute(driver_command, params)\n\u001b[0;32m    345\u001b[0m \u001b[39mif\u001b[39;00m response:\n\u001b[1;32m--> 346\u001b[0m     \u001b[39mself\u001b[39;49m\u001b[39m.\u001b[39;49merror_handler\u001b[39m.\u001b[39;49mcheck_response(response)\n\u001b[0;32m    347\u001b[0m     response[\u001b[39m\"\u001b[39m\u001b[39mvalue\u001b[39m\u001b[39m\"\u001b[39m] \u001b[39m=\u001b[39m \u001b[39mself\u001b[39m\u001b[39m.\u001b[39m_unwrap_value(response\u001b[39m.\u001b[39mget(\u001b[39m\"\u001b[39m\u001b[39mvalue\u001b[39m\u001b[39m\"\u001b[39m, \u001b[39mNone\u001b[39;00m))\n\u001b[0;32m    348\u001b[0m     \u001b[39mreturn\u001b[39;00m response\n",
      "File \u001b[1;32mc:\\Users\\Playdata\\anaconda3\\envs\\ezpz\\lib\\site-packages\\selenium\\webdriver\\remote\\errorhandler.py:245\u001b[0m, in \u001b[0;36mErrorHandler.check_response\u001b[1;34m(self, response)\u001b[0m\n\u001b[0;32m    243\u001b[0m         alert_text \u001b[39m=\u001b[39m value[\u001b[39m\"\u001b[39m\u001b[39malert\u001b[39m\u001b[39m\"\u001b[39m]\u001b[39m.\u001b[39mget(\u001b[39m\"\u001b[39m\u001b[39mtext\u001b[39m\u001b[39m\"\u001b[39m)\n\u001b[0;32m    244\u001b[0m     \u001b[39mraise\u001b[39;00m exception_class(message, screen, stacktrace, alert_text)  \u001b[39m# type: ignore[call-arg]  # mypy is not smart enough here\u001b[39;00m\n\u001b[1;32m--> 245\u001b[0m \u001b[39mraise\u001b[39;00m exception_class(message, screen, stacktrace)\n",
      "\u001b[1;31mNoSuchElementException\u001b[0m: Message: no such element: Unable to locate element: {\"method\":\"css selector\",\"selector\":\"li:nth-child(4) > p:nth-child(5)\"}\n  (Session info: chrome=114.0.5735.199); For documentation on this error, please visit: https://www.selenium.dev/documentation/webdriver/troubleshooting/errors#no-such-element-exception\nStacktrace:\nBacktrace:\n\tGetHandleVerifier [0x00ECA813+48355]\n\t(No symbol) [0x00E5C4B1]\n\t(No symbol) [0x00D65358]\n\t(No symbol) [0x00D909A5]\n\t(No symbol) [0x00D90B3B]\n\t(No symbol) [0x00DBE232]\n\t(No symbol) [0x00DAA784]\n\t(No symbol) [0x00DBC922]\n\t(No symbol) [0x00DAA536]\n\t(No symbol) [0x00D882DC]\n\t(No symbol) [0x00D893DD]\n\tGetHandleVerifier [0x0112AABD+2539405]\n\tGetHandleVerifier [0x0116A78F+2800735]\n\tGetHandleVerifier [0x0116456C+2775612]\n\tGetHandleVerifier [0x00F551E0+616112]\n\t(No symbol) [0x00E65F8C]\n\t(No symbol) [0x00E62328]\n\t(No symbol) [0x00E6240B]\n\t(No symbol) [0x00E54FF7]\n\tBaseThreadInitThunk [0x759F7D59+25]\n\tRtlInitializeExceptionChain [0x76F2B74B+107]\n\tRtlClearBits [0x76F2B6CF+191]\n"
     ]
    }
   ],
   "source": [
    "# Web Crawling\n",
    "\n",
    "n_btn = browser.find_element(By.CSS_SELECTOR, 'a.ico.next')\n",
    "\n",
    "i = 0 \n",
    "\n",
    "good_lst = []\n",
    "bad_lst = []\n",
    "\n",
    "\n",
    "while i < 123 : \n",
    "\n",
    "\n",
    "    for i in range(1, 5) : \n",
    "\n",
    "        grv = browser.find_element(By.CSS_SELECTOR, f\"li:nth-child({i}) > p:nth-child(4)\").text\n",
    "        brv = browser.find_element(By.CSS_SELECTOR, f\"li:nth-child({i}) > p:nth-child(5)\").text\n",
    "\n",
    "        grv_clean = grv.replace(grv[:5], \"\").replace('\\n', ' ') \n",
    "        brv_clean = brv.replace(brv[:4], \"\").replace('\\n', ' ') \n",
    "\n",
    "        good_lst.append(grv_clean)\n",
    "        bad_lst.append(brv_clean)\n",
    "\n",
    "\n",
    "    n_btn.click()\n",
    "    \n",
    "\n",
    "    time.sleep(1)\n",
    "\n",
    "    i += 1\n",
    "\n",
    "    if i == 100 :\n",
    "        break"
   ]
  },
  {
   "cell_type": "code",
   "execution_count": 277,
   "metadata": {},
   "outputs": [
    {
     "data": {
      "text/plain": [
       "(131, 131)"
      ]
     },
     "execution_count": 277,
     "metadata": {},
     "output_type": "execute_result"
    }
   ],
   "source": [
    "len(good_lst), len(bad_lst)"
   ]
  },
  {
   "cell_type": "code",
   "execution_count": 279,
   "metadata": {},
   "outputs": [
    {
     "data": {
      "text/plain": [
       "['눈치 안보고 연차 사용가능 복지가 매우 좋다 헬스장 샤워실 등등',\n",
       " '고용안정성이 좋다. 사람이 많아 업무 진행이 수월하다.',\n",
       " '어디가서 이회사 다녀요 말할만함 부모님이 좋아하심 완전 개인근무',\n",
       " '눈치 볼 필요없이 칼퇴가 가능하다, 보너스를 많이 주는 편이다.',\n",
       " '밥 3끼, 출퇴근 버스가 생각보다 큰 장점. 교육 자기계발 지원이 많음. 대형 칩메이커라 배울 것이 많음',\n",
       " '복지 교육등 직원들의 성장에 많은 노력을 하고 부바부긴 하지만 눈치 안보고 휴가 쓰는게 가능하다.',\n",
       " '다니면 다닐 수록 대기업이라는 타이틀만 좋은 느낌이 드는 곳',\n",
       " '출퇴근 시간을 내 스케쥴 대로 할 수 있다. 눈치 안보고 휴가 쓸 수 있다.',\n",
       " '직원들 체력 증진을 위해 헬스장이 잘 되어있으나 수영장은 대기가 필요하다',\n",
       " '극강의 안정성이 최고입니다. HR 보장이 확고하여 휴가등이 보장됩니다',\n",
       " '눈치 없이 퇴근이 가능하나 부서바이부서가 심하다. 월급 만족',\n",
       " '식사를 제공하고, 자기계발비를 지원하지는 않지만 복지로 전자책/온라인 강의 수강권 등의 혜택으로 나오는 지원이 매달 있습니다. 부바부 팀바팀이겠지만 워라밸 및 근무환경이 좋아서 만족하고 다닙니다.',\n",
       " '네임벨류와 경기권 제조업 근무. 자율출퇴근제가 있다. 삼시세끼 무료 PI, PS가 있다.',\n",
       " '눈치 없이 퇴근할 수 있어서 좋다. 업무가 재밌고 끊임없이 도전할 수 있다',\n",
       " '밥값 들지 않음(밥 잘나옴), 교통비가 들지 않음(셔틀이 잘 되어 있어서)/ 커리어를 바꿀 기회가 있기는 함(원한다고 원하는 부서 갈 수 있는건 아님).',\n",
       " '셔틀이 많이 있다. 밥이 먹을만 하다 자질구레 하게 챙겨줌',\n",
       " '완벽한 근무환경 통합버스 운영으로 시간절약 높은 만족도로 일하고 있으며 자기개발 환경조성으로 커리어에 많은도움이 된다.',\n",
       " '워라밸, 사전에 계획하고 업무를 조정하면 휴가도 자유롭게 사용할 수 있는 점, 무엇보다 식당의 다양한 메뉴가 훌륭한 것 같다.',\n",
       " '근무지역이 좋다, 성과급이나 회사를 다니며 자부심을 느낄때가있다',\n",
       " '여름휴가가 따로 보장되고 연차 가능하다 돈많이 벌고 싶으면 웰컴',\n",
       " '눈치 볼 필요 없이 칼퇴가 가능하고, 휴가를 자유롭게 쓸 수 있습니다. 또한 열심히 한 만큼 돈도 두둑히 주기때문에, 경재적으로 도움이 많이 됩니다. 또한 대출도 잘 나와서 좋습니다.',\n",
       " '상여금이 잘나와서 좋다 그리고 복지가 좋다 또 노조가 심하지 않다',\n",
       " '회사가 좋은쪽으로 변화할려고 노력한다. 예를들면 퇴근시 인사를 하지않게해 눈치보지 않고 갈수있게 한다거나 직급이 아니라 님이라고 부르는 것으로 통일해 수평구조를 만든다 거나 말이다. 그 외에도 출퇴근시 지원해주는 버스와 식사를 무료로 하는 것이 가장 큰 복지이다.',\n",
       " '직원 복지 정책 우선이다 능력 우선 주의 항상 최선을 다 하면 좋은 결과 있다',\n",
       " '회사브랜드가 좋다 삼시세끼 제공이 엄청 큰 혜택임 역시 대기업',\n",
       " '주변 인프라 좋고 근무시간 자유롭고 예전처럼 눈치보지 않는 분위기가 정착되어가는 느낌',\n",
       " '출퇴근 시간이 자유롭고 조직문화가 개방적이다. 일한만큼 돈은 챙겨주는 편. 4년차때 원천징수 1억4백 찍혔다',\n",
       " '출퇴근 시간이 자유롭다. 일이있을땐 서로 분배하여 진행 하는등 동료애가 좋다.',\n",
       " '부서마다 다르지만 조직문화가 좋음. 이곳만한 곳이 없다',\n",
       " '밥이 잘 나오는편이고 한국 기업에서는 돈을 주는 편에 속한다. 사내 배팅머신, 탁구장 등이 있어서 점심시간에 휴식을 취할 수도 있다.',\n",
       " '선진적 근무 방식 조기 도입 하고, 국가에서 권장하는 복지제도는 선적용하며 급여수준이 업계 상위 수준으로 조직내 시스템에 의한 업무 수행으로 평균이상의 퍼포먼스가 달성됨',\n",
       " '자율출퇴근제. 재택근무가능. 업무 마치고 퇴근 눈치 안봄. 강제 회식 없음. 식사 맛있음. 성과가 좋을 경우 성과급이 많음',\n",
       " '복리후생과 교육제도가 잘 되있고..여가문화도 제공한다.',\n",
       " '밥이잘나온다 휴가는 자유롭다 여성이라면 근무하기 좋다',\n",
       " '회사 규모가 너무 크다보니 부서마다 차이가 있지만 내가 속해있는 반도체의 경우 사업부 내에서도 상당한 차이가 존재한다. 메모리가 전반적으로 분위기와 워라밸이 좋은 편이고 상대적으로 경쟁해서 쫓아가야하는 파운드리의 경우 전반적으로 매우 경직되어 있긴하나 점차 좋아지고 있다. 퇴근도 최근에는 빨라졌고 밀리의 서재와 같은 독서도 지원이 되기 시작한다. 무엇보다 좋은 것은 3끼 무료인 밥이겠지요.',\n",
       " '이름값만큼 사회의 눈치를 많이 봐야 한다. 정말 무난하다',\n",
       " '세끼 밥다주고 테이크아웃해서 먹을수있다. 회식이 많다 .',\n",
       " '자유로운 연차 사용이 가능하다. 삼시세끼 밥을 무료로 먹을 수 있다. 셔틀버스가 많다.',\n",
       " '눈치 볼 필요없이 퇴근이 가능하다 출근시간이 정해져 있지 않다.',\n",
       " '밥이 맛있고 통근버스 시스템이 우수하다. 간식이나 회식에도 비용이 넉넉하다. 그래도 무엇보다도 성과급이 가장 좋다.',\n",
       " '자율 출근에 복장 자유! 부서마다 차이는 조금씩 있어요. 식당 밥은 최고 밥이 맛있다!',\n",
       " '조직문화가 많이 개선되어 진급에 크게 목메지 않으면 눈치 안보고 내 할 일만 딱 하고 생활가능',\n",
       " '업계 탑클래스 회사로 경쟁사로의 이직이 편하다 직원들 위한 복지가 좋다 예를들어 전자제품 할인, 식사무료 제공등',\n",
       " '근무시간 자율 출퇴근 방식으로 자유롭고, 최근 재택 근무가도 병행 가능하다. 사업부에 따라 약간 차이가 있지만 성과급이 높은 편이고, 다양한 복지 혜택을 제공하고 있다.',\n",
       " '자유로운 복장(여름철 반바지 착용 가능)이 가능합니다. 자율출근으로 원하는 때에 출,퇴근이 가능하고 필요한 때에 연차 사용이 가능합니다.',\n",
       " '돈을 많이 준다. 월급은 연봉을 18로 나눈 값으로 주지만 성과급이 좋다',\n",
       " '근무는 자유롭고, 요즘 재택근무 가능. 식당이 맛있고, 상하관계가 없는 편입니다. 미래 비전을 공유하고 새로운 일에 대한 니즈가 많은 편입니다. 적응이 필요하며 부적응시 내부 이동도 가능합니다.',\n",
       " '통근버스가 있다 밥이 맛있다 케바케지만 늦게 퇴근하거나 주말 출근하는 일은 별로 없는 편이다.',\n",
       " '칼퇴근 가능. 자유롭게 출퇴근 연차 마음껏 사용 가능. 시간연차도 있음',\n",
       " '유연근무제, 지속적인 자기계발 독려, 셔틀 버스, 식사, 자유로운 휴가 사용',\n",
       " '복장이 자유롭고, 유연근무제로 개인사정에 따라 출퇴근시간은 조율할 수 있다.',\n",
       " '칼퇴가 가능하고, 전반적으로 업무가 자유롭습니다. 성과가 나오면 보상도 확실합니다.',\n",
       " '통근버스, 특근으로 월급 뻥튀기, 3끼 무료, 회사 설명 필요없음',\n",
       " '좋은 복지, 회사의 이름값, 3끼 식사제공, 육휴 자유롭게 사용',\n",
       " '복지가 좋습니다. 성과급이 나오고 제휴할인 같이 임직원 할인혜택 많이 받을 수 있어요',\n",
       " '밥은 맛있다. 여름에 춥고 겨울에 덥다. 내가 노예다 라는 인생관을 갖고 있으면 좋은 회사다.',\n",
       " '눈치 볼 필요가 없고 칼퇴 가능하고 자유롭고 좋은 회사다',\n",
       " '적당한 연봉, 다양한 식사 제공, 자기자신만의 능력을 발휘할 수 있는 환경이 조성되어있다.',\n",
       " '휴가 맘대로 씀. 시스템이 잘 되어있어서 하나의 실수가 치명적으로 다가오진 않음',\n",
       " '지하철역이 근처에 있어서 교통이 편리하다.그리고 복지 수준이 높다.',\n",
       " '눈치 볼 것 없이 칼퇴근이 가능하다. 교우관계가 원만해서 좋다.',\n",
       " '자기개발을 위한 온라인 강의를 제한없이 무료로 수강할 수 있고, 출퇴근이 자유롭고, 통근버스도 잘 되어있고 쾌적한 근무환경에서 일할 수 있음.',\n",
       " '자율 출퇴근제를 큰 눈치 볼 것없이 사용가능하다. 밥은 회사중에 최고인 것같아.',\n",
       " '대기업 복지 및 정부정책 빠른반영 매 끼니 식사 지원등',\n",
       " '자율 출퇴근제로 주간단위로 근무시간을 조절할 수 있다.',\n",
       " '자울출퇴근제이고, 합의된 비율로 재택근무가능하다. 예전에 비해 조직 분위기가 강압적이지 않고 부서에 따라 어느 정도 워라밸 가능하기도 하다. 식당이 다양하여 취향에 맞게 골라먹을 수 있다.',\n",
       " '눈치 볼 필요없이 칼퇴가 가능하다. 연차를 쓸 수 있다.',\n",
       " '복지 및 인센은 최고인거 같습니다. 진짜 어디에나 있는 느낌',\n",
       " '자율출퇴근제, 밥 나오는 것, 통근 버스, 부바부이지만 sw 자율성',\n",
       " '자기계발 기회가 많이 제공됩니다 업무능력 향상을 위한 교육의 선택폭이 넓습니다',\n",
       " '눈치볼 필요없이 칼퇴근 가능, 직원을 위한 복지가 잘되어있다',\n",
       " '직장인을 할거면 삼전만한 회사 잘 없습니다. 물론 전문직이 최고.',\n",
       " '쾌적한 근무 환경과 사내 분위기, 미래 성장 가능성, 경력 개발',\n",
       " '부서장 눈치보지않고 칼퇴가 가능합니다. 부서원 소통 원활',\n",
       " '여기 다니면 일단 부모님이 좋아하심. 출퇴근 시간이 자유로움.',\n",
       " '대기업이니 복지가 좋고 시설이 쾌적하게 관리된다 삼성전자제품 할인가로 살수있다',\n",
       " '자기계발 가능합니다. 경력 향상 기회가 많으며 많은 사람들을 만날 수 있음',\n",
       " '밥이 괜찮고 3끼 자 무료, 셔틀 버스 이용해서 편하게 출퇴근가능',\n",
       " '초봉이 높고 어디가서 회사로 꿀릴 일이 적다. 휴가 쓰기 편하고 솔직히 제일 좋은건 어디가서 직업 말할때 그나마 평타는 친다고 생각함',\n",
       " '기본적인 대기업의 복지가 아주 우수합니다. 통근 버스가 잘 되어있습니다. 다양한 SW 교육은 큰 장점이라고 생각합니다',\n",
       " '업무 시간이 정확히 정해져 있고 연차 휴가가 제대로 보장되는 것이 좋아요. 워라벨 괜찮구 대기업이라 그런지 전체적으로 사람들이 여유롭고 저도 덩달아 다니기 좋아요. 하루 세끼 다 나오고 메뉴 질도 좋고 밥값이 아예 안들어요',\n",
       " '사내 어린이집이 잘 되어 있어 육아하며 회사다니기 좋다. 연말 보너스로 목돈 저축이 가능하다. 일 루틴이 어렵지 않다',\n",
       " '교통도 매우 편하고 직원들 편의시설 및 복지 시설도 편리하다',\n",
       " '월급 상여 복지가 좋아서 장점이다. 특히 성과급 때문에 일년 내내 웃으면서 다닐 수 있다. 자기계발 기회가 많아 개인 성장이나 커리에도 많은 도움이 된다',\n",
       " '셔틀버스가 많아서 어디든 출퇴근 가능하다. 밥이 세끼 무료다. 월급이 제때 나온다',\n",
       " '회사와 함께 성장이 가능하다. 다양한 업무를 경험할 수 있다.',\n",
       " '삼시세끼 밥을 제공하며 자율출퇴근이 가능하다. 복장이 자유로우며 우수한 능력을 가진 동료가 많다.',\n",
       " '워라밸이 좋고 근무여건이 좋으며 연봉이 높은편이다. 다양한 업무를 경험할 수 있다',\n",
       " '회사 복지 좋음. 셔틀, 식당 다 잘 되어있음. 육아휴직도 잘 되어있음',\n",
       " '자율출퇴근으로 근무시간이 탄력적이다. 근무환경과 복지가 좋은 편이다',\n",
       " '업무는 많으나 다니면서 회사 만족도가 높다. 대기업이라 직원 복지도 많음',\n",
       " '말할 것도 없이 대기업이죠. 연봉도 많고 무엇보다 복지가 최고^^ 눈치없이 퇴근시간에 퇴근하고 내일하고 끝. 믿고보는 삼성 굿굿',\n",
       " '정말 좋은회사입니다. 만족하고 잘 다니고 있어요. 특히 복지가 좋아요',\n",
       " '칼퇴가능. 복장자유. 샌들가능. 육휴 가능. 식당밥 존맛탱. 통근버스 좋음',\n",
       " '연봉이 높고 복지도 나쁘지 않으며 자율출퇴근제 및 연차사용 자유로움 굿 사람들 좋음',\n",
       " 'PS라는 성과급. 확실히 원천징수영수증 기준 높다.',\n",
       " '회사내에 복지시설 및 인프라가 갖춰져있고, 고용불안이 없고 안정적입니다',\n",
       " '네임 밸류, 다양한 경험, 신기술 최 접전에서 근무.',\n",
       " '복지가 좋습니다 대기업이니까요. 복지가 좋아요',\n",
       " '연봉 쎄다. 성과급 빵빵하다. 이게 전부다. 통근버스있어서 좋다. 식사 잘 나온다',\n",
       " '자유로운 근무 환경속에서 작업 능률이 오른다. 선배들이 많은 도움을 준다',\n",
       " '삼성전자라는 대기업답게 확실한 프로세스가 있다',\n",
       " '워라밸, 연봉, 커리어 모두 고루 만족하는 회사입니다.',\n",
       " '복지가 좋아요. 밥이 굉장히 다양하고 실속있고 맛있게 나옵니다. 그리고 의료비지원',\n",
       " '좋았습니다. 대기업이니만큼 연봉이 셉니다',\n",
       " '통근 버스가 잘 되어 있어, 집에서 출퇴근시 매우 편리합니다. 또한, 복장도 자유롭고 팀내 분위기가 좋아 만족하고 있습니다.',\n",
       " '고통을 모두 잊게 해주는 돈. 압도적인 영끌초봉',\n",
       " '관리의 삼성 기업시스템이 무엇인지 알 수 있음. 많이 배울 수 있다',\n",
       " '직원 복지가 좋고 섬세한 부분에 신경을 써줍니다',\n",
       " '대기업 타이틀 달고 일하는건 아주 좋음. 얻을 수 있는 것도 많음',\n",
       " '함께 일하는 동료들이 유하다. 셔틀버스, 삼시세끼 챙겨 먹을 수 있는 식당, 사내병원 등 이런저런 복지들이 잘 되어있다.',\n",
       " '출퇴근 시간이 굉장히 자유롭고 복장도 자유롭다 복지가 좋으며 회사 시설이 좋다',\n",
       " '임직원 복지가 좋은편이며, 유연근무제가 있어 개인용무 등이 있을때 유용하다',\n",
       " '복지나 급여부분은 어디에도 부럽지 않아요. 임직원몰 혜택도 너무 좋아요',\n",
       " '복지가 좋고 밥이 맛있어요. 가전제품을 싸게 살 수 있다',\n",
       " '근무환경, 복지가 매우매우 좋음. 조직문화도 빠르게 변화/발전하는 중',\n",
       " '밥 세끼 공짜인거... 말고는 없다 빚좋은 개살구니까',\n",
       " '각종 복지제도들과 자유출퇴근제가 좋다. 음식도 맛있음',\n",
       " '복지가 좋습니다. 의료비지원, 식시지원, 3끼무료',\n",
       " '복지가 좋아요. 커리어 쌓기에 좋아요. 연차도 많이 써요',\n",
       " '하루 세끼 식대를 보조해준다. 화장실이 깨끗하다.',\n",
       " '지속가능하고 환경안전을 중시한 경영을 한다.',\n",
       " '체계가 잘 되어 있고 성장가능성이 많다. 오히려 성장하라고 닦달하는 수준',\n",
       " '돈을 많이 받아서 좋다. 성과급 및 복지가 좋다. 휴가도 많다',\n",
       " '밥이 맛있습니다. 메뉴가 맨날 바뀝니다. 출퇴근 버스가 있습니다.',\n",
       " '기본적인 시설이나 그런게 최고입니다. 깔끔하고 깨끗한 환경, 사람들이 착한편',\n",
       " '복지와 연봉은 만족스러움. 자율출퇴근과 식당이용이 가장 큰 장점',\n",
       " '안정적인 대기업 야근수당 보장 및 식대 및 복지는 매우 좋다',\n",
       " '전반적으로 안정적이고 회사가 성장한다는 느낌이 있다',\n",
       " '월급이 높고 회사 분위기가 다른 기업과 비교가 불가능함.',\n",
       " '보너스 굿!! 연차 사용 자유롭고 출퇴근도 자율']"
      ]
     },
     "execution_count": 279,
     "metadata": {},
     "output_type": "execute_result"
    }
   ],
   "source": [
    "good_lst"
   ]
  },
  {
   "cell_type": "code",
   "execution_count": 278,
   "metadata": {},
   "outputs": [
    {
     "data": {
      "text/plain": [
       "['위치 빼고 없다 역시 갓기업이다 너무 마음에 듭니다 갓삼성',\n",
       " '부바부가 심하고 경력전환의 기회가 적다. 최근에는 조직문화와 관련한 갈등이 많다',\n",
       " '대기업 치고 돈 조금준다 ㅠㅠ 이거 말곤 딱히 없는듯 경영진이 맘에 안듦',\n",
       " '서울에서 출퇴근시간이 오래 걸린다. 바쁠 땐 엄청 바쁘다,',\n",
       " '자유롭지 못한 조직문화. 보고를 위한 보고. 사내정치 매우 강함',\n",
       " '이 회사는 뭘해도 기준이 되기에 주변 눈치를 많이 보는듯 하고 최근들어 더욱 인건비를 줄이려고 하는듯함',\n",
       " '부바부 심하며 직원 복지가 조금씩 줄어 들고 있다는 느낌',\n",
       " '일이 너무 많다. 항상 일이 많다. 가끔은 일이 나를 절벽으로 몰아가고 있다는 생각이 들 때가 많다.',\n",
       " '경영진의 보여주기식 정치 보여주기식 복지가 너무 많음.',\n",
       " '사실 공무원 마인드가 있습니다. 망하지 않을 회사이기 때문입니다.',\n",
       " '빡센 부서는 야근을 밥 먹듯이 하고 꼰대 문화가 있다..',\n",
       " '부바부 팀바팀이 많이 큰 것 같습니다. 나쁜 점이라기보다는 회사가 커서 어쩔 수 없는 부분이라 생각합니다.',\n",
       " '부서 잘못 만나면 정시출근 야근이다. 연차 15개에 외에 창립기념일에도 안 쉼. 22년부터 재충전휴가 3개 생김 기본급은 낮고 상여 비율이 높아 PS안나오면 망함.',\n",
       " '부서바이부서가 매우 심하다. 업무가 많은 부서는 워라벨이 없다',\n",
       " '문화가 이상함. 자발적 노예가 많고, 일 안하는 것도 아니고 쫌 만 편해 보이면 동료도 아닌 사람들이 뒤에서 험담함. 보안 정책이 빡쎄서 딴 회사에서는 금방 할 일 보안정책이 촉매재가 되어 한없이 업무량이 늘어난다. 그리고 사람 아무리 많이 뽑아도 항상 부족한 느낌. 엘리트도 많지만 그렇지 않은 사람도 많다는 면에서, 엄청 실력이 뛰어 나다면 비추천. 사내게시판에서 이상한 글 많이 올라와서 볼 때 마다 내가 왜 이회사를 택했지라는 생각이 들게 만들어 줌. 성과급 안터지면 다닐 이유가 없는 회사인데 성과급이 2023년 이후로 잘 안터질 분위기이므로, 가성비 폭망.',\n",
       " '갈라치기 경영진 무능력 보신주의 야근 강요 문화 최악임',\n",
       " '업무량이 많고 밑에서 치고 올라오는 신입들이 많아 많은 압박을 받고 있으며 또한 40~50대 퇴직자분들이 많음',\n",
       " '이전보다 많이 좋아지긴 했지만 아직도 꼰대 상사가 곳곳에 있어서 잘 적응 해야 함. 다른 회사도 비슷하겠지만 여성에 대한 우대 정책으로 남사우들이 피해를 보는 경우도 있다는 점',\n",
       " '워라밸이 부족하며 평균 나이가 높아 적응하는데 어려움이있다',\n",
       " '워라밸 보장이 안되며 야근이 잦다. 살이 찔수 있으며 주기적 다이어트 생명',\n",
       " '회사가 경기 남부권이라, 서울에서 출퇴근 하기에는 살짝 부담스럽습니다. 또한 정년이 딱히 보장되었다고는 볼 수 없어서 미래를 생각하면 틈틈히 자기개발을 해야만 합니다.',\n",
       " '높은 업무강도와 특정기간 일이 많아진다. 그리고 보너스가 안 나올 때가 많다',\n",
       " '사내 분위기는 부바부가 심하다 특히 디램의 경우 꼰대가 좀 많은 편이고 플래쉬의 경우 자유로운 디램에 비해 자유롭지만 받는 선물이라던가 지원금에서 디램보다 적게 받는다. 그 외에도 보안사업장이라서 신경써야 할일이 많고 주말출근과 야근이 꽤 많이 존재한다.',\n",
       " '장기적인 근무가 필요하다 늙으면 퇴사 해야한다 미래에 수입이 필요하다',\n",
       " '부서마다 다른 워라벨 임원수명이 너무 짧아서 제대로된 비전공유없음 사업부별로 연봉차이가 너무 큼',\n",
       " '조직이 조금씩 나이가 들어가는 것이 체감되고 젊은 신입사원이 부족. 오랫동안 동일 업무를 한 사람들이 많아 새로운 시도를 잘하지 않는 느낌',\n",
       " '부서별로 워라밸 차이가 크고, 월에 20시간까지는 야근비를 제공하지 않는다. 업무가 매일매일 새롭게 복잡하게 돌아가다보니 정신적 스트레스가 큰 편',\n",
       " '동종업계보다 연봉이 조금 낮다고 생각된다. 그리고 너무 빠르게 변한다',\n",
       " '기업이다 보니 연구소임에도 하고 싶은 연구를 하기보다는 매출에 도움이 되는 방향으로 해야함',\n",
       " '업무강도가 높은데 문제는 개인의 커리어를 늘릴 수 있는 업무가 아니다. 설계직군이라고는 하지만 대부분의 제대로된 설계는 협력사들이 담당하고 세트는 그저 그 부품들을 실장했을때 디버깅에 불과한 수준이다. 게다가 SMD라고 자재관리가 저년차때 주 업무인데 이게 그냥 현타를 엄청나게 오게한다. 저년차들 전배가거나 퇴사하는게 괜히 하는게 아니다. 이게 새벽에도 전화와서 사람을 참 짜증나게 만든다. 휴식이 어떻게 보면 침해당하는것과도 같다. 자고있는데 새벽에 전화울린다고 생각해보면 하.. 내부 분위기도 뒤숭숭하니 세트쪽으로는 절대 오지 않는것을 추천한다. 갈거면 반도체 설계나 검증. 나머지는 가는게 아니다. 고학벌일수록 극심한 현타를 느낄것임',\n",
       " '조직이 방대하여 업무가 작은 단위로 조직화 되어 있어, 다양한 멀티플레이적 커리어를 쌓기 어려움. 조직내 개인의 능력이 시스템에 의해 둔화 될수 있음',\n",
       " '임원이 지시하면 반박할 수 없는 조직 문화. 잦은 회의 및 보고. 개발자의 경우 업무로드가 심할 수 있음',\n",
       " '근무시간이 긴 편 이고..일, 업무량도 많은 편이다..',\n",
       " '보수적이다 고용이 불안정하다 40대가 불안한직장이다..',\n",
       " '부서마다 너무나 차이나는 업무 강도. 바로 옆이나 유관부서와 너무나도 다른 세상에 사는거 같아서 비교대상이 된다. 경쟁사인 하이닉스보다 전반적으로 임금과 복지가 조금씩 뒤쳐지는 감이 있는데 반도체 사이클이 끝났을때 어떻게 될지 한번 지켜봐야 할 듯 하다',\n",
       " '업황이 힘들다. 기술개발에 대한 꼼꼼함, 방향성, 적시결정 등이 이전보다 못한 것 같다.',\n",
       " '성과중심 평가라고 하지만 나이 결혼 자녀 친밀도 등등 부차적인 옵션에 의해 고과권자 마음대로 고과가 결정된다.',\n",
       " '삼시세끼 밥을 주지만 세끼 먹을 일이 많다. 셔틀 버스가 많아서 밤에 퇴근도 많이한다.',\n",
       " '많은 업무시간 야근 비율 높은 업무량이 점점 많아진다 지루하다.',\n",
       " '보기보다 조직 문화가 경직되어있고 상명하복체제다. 조직이 커서 그런지 조직간 협조가 어려운 편이다',\n",
       " '고과제도가 있다 고과에 따라 연봉인상이 달라지기에 스트레스ㅜ',\n",
       " '부서마다 틀리겠지만 제조 개발 품질 등은 출장이 잦다. 참고로 1년에 230일을 해외에서 보내기도 했었다. 180일 커트라인이 생기면서 줄긴했으나 법인출장 협력사 출장 각오해야 한다. 처음엔 좋다고 생각하지만 정신적으로 공황이 오기도 하니 웃어넘길 사항은 아닌듯',\n",
       " '업계 탑클래스에 비해 대우가 부족하다 예를 들어 경쟁사 대비 연봉 낮음 경영진 및 임진원이 공무원 마인드로 비효율성이 높다',\n",
       " '전반적으로 업무 강도가 있는 편으로 업무에 따라서 퇴근시간이 늦어지는 경우가 있을 수 있다. 상사에 따라 불필요한 업무가 생기는 경우도 있다.',\n",
       " 'IT업계를 선도하는 회사답게 보안이 무척 까다로워 아차하는 순간 실수하는 경우가 생길 수 있습니다.',\n",
       " '근무지가 사악하다. 메모리는 5년안에 다 평택간다. 버스는 좋지만, 도로가 안좋아서 매일 막힌다',\n",
       " '야근이 많고, 업무가 집중되는 경우가 많습니다. 성과에 집중하지만 실패도 많고, 부 핵심 부분을 담당했던 사람에게 공이 돌아가는 경우도 많습니다. 부서에 따라 상명하복 문화도 있습니다.',\n",
       " '일을 진행할 때 스타트업처럼 빠른 편이 아니라 커리어 성장 또한 느릴 수 있다는 점.',\n",
       " '타 대기업 대비 복지가 안좋음 직급 올라갈수록 세금을 많이 뜯어가서 성과급이 별로 안오름.',\n",
       " '경쟁, 포괄임금제, 경영진 MBO 잦은 조직개편 및 강제전배(직원커리어 무시)',\n",
       " '전문적인 지식을 요하는 부분이 많은데 교육의 기회가 다소 부족함.',\n",
       " '부서마다 다르지만 빡센 곳은 야근이 심합니다. 사업부별로 성과급 차이가 큽니다(입사동기여도 차이가남)',\n",
       " '3조 3교대, 주 6근, 인원 적음, 교대면 직주근접에서 집 구해야됨, 일 겁나 위험',\n",
       " '경쟁사대비 낮은 성과급, 하루종일 리포트만 쓰는 것 같음. 공무원화 됨.',\n",
       " '워라밸 xxxxxx...... 주말근무 교대근무로 건강이 걱정됩니다 야근은 일상..',\n",
       " '워라벨 없다. 눈치문화 엄청나다. 업무과중. 스트레스 과다.',\n",
       " '높은 업무 강도와 빡센 업무 회의, 완벽주의 상사가 있다',\n",
       " '연봉 인상률이 낮으며, 부서에 따라 워라벨 보장 안됨. 잡다한 일이 굉장히 많음',\n",
       " '개개인이 빛날 기회가 별로 없음. 능력에 비례해서 연봉이 오르진 않음.',\n",
       " '보고서에 너무 디테일을 요구한다. 상사와의 관계를 키우기엔 너무 깐깐하다.',\n",
       " '보수적이고 경직된 사원이 있고, 꼰대상사가 많습니다. 눈치를 봐야됨.',\n",
       " '매년 새로운 업무 목표 달성을 위해 끊임없이 스스로를 갈고 닦아야함. 정체되면 도태됨.',\n",
       " '겉으론 눈치를 안주는 것 같지만 고과로 돌아옴 경영진과 소통은 거의 안되고 수직적인 구조인듯',\n",
       " '포괄수당으로 인한 20시간 근무. 부서간 이동에 제약 등',\n",
       " '다른 대기업 대비해서 직원의 복지 항목이 조금 부족하다.',\n",
       " '제품이 너무 많고 일정이 타이트하여 개발자들과 관련부서(검증 등)에 로드가 심하다. 임원진의 예전 마인드(상명하복)와 신입사원들의 자유로운 마인드가 어우러지지 않아 중간 관리자가 특히 고생스럽다.',\n",
       " '가끔 업무강도가 너무 높고 야근이 갑자기 생겨서 불편하다.',\n",
       " '부바부겠지만 직원분들 워라밸은 그닥.. 야근이 기본인듯합니다.',\n",
       " '워라밸 보장X, 쓸데없는 업무 많음, 야근이 당연시되는 문화',\n",
       " '업무강도가 높습니다. 창조적이고 창의적인 업무수준이 요구됩니다',\n",
       " '인수인계 메뉴얼이 부족하다, 업무강도는 개인차이가 심한 편이다',\n",
       " '경영성과 대비 부족하다고 느껴지는 연봉상승률이 단점',\n",
       " '높은 업무 강도와 철저한 성과 중심 평가에 따른 스트레스',\n",
       " '케바케라 보수적인사람 혹은 꼰대도 있다. 다른것들도 케바케다',\n",
       " '동종업계 대비 낮은 연봉인상률. 하루종일 이슈만 막다가 퇴근함',\n",
       " '임원에 권한과 보상이 집중되서 정치질이 심하다. 실무할 시간보다 임원보고가 많다. 업무에 문제가 생겼을때 임원은 빠져나가고 모든 책임은 직원에게 돌린다. 관리자는 실무를 안해서 실무자 없인 보고서 한장도 못쓴다. 업무강도가 높고 워라밸이 없다',\n",
       " '워라벨 유지가 쉽지 않고 근무 강도가 쎈 시기가 있습니다',\n",
       " '야근이 많고 주말 출근을 해야할 때도 종종 있음. 연봉이 성과급에 의존하는게 크다. 월급만으로는 힘듦',\n",
       " '일이 빡세고 소모품 취급, 수직적인 분위기와 불안감, 가끔 왜 하는지 이해하기 힘든 업무들이 있다. 업무 환경 타이트한 제조업에 보안 너무 귀찮다. 아직 제조업 마인드가 강한편이고 SW보다는 HW쪽 중심이며 임원 인사 역시 그러함',\n",
       " '근무교대로 인간관계는 거의 단절되다시피 하고 생활패턴도 엉망입니다. 수면도 제대로 이루지 못할때가 많고 그로인한 건강악화가 제일 염려스러워요ㅠ 수명 깎아가며 일하는 기분이 들때가 많습니다',\n",
       " '셔틀버스가 배차간격이 커서 일찍 버스 타야되고 출퇴근 버스때문에 피곤해요. 부서 이동의 자유가 없어서 단점입니다. 발표같은 비효율적 업무는 배제하고 너무 많은 임원수도 조절해야한다구 생각해요',\n",
       " '미혼인들 위한 복지는 없다. 지칠정도로 사내 정치 심하고 진급 엄청 빡세다. 단순보고를 위한 업무처리가 너무 많다',\n",
       " '경직된 사내 분위기와 꼰대들 선배들 위엄성도 무시 못한다',\n",
       " '3교대 힘들어서 퇴사자가 많다. 성과 목표를 턱없이 높게 잡고 굉장한 성과임에도 불구하고 연말 성과급은 파티하는 임원들에 비하면 턱없이 작다. 직접적인 보상이 적절히 이뤄졌으면 좋겠다',\n",
       " '고인물이 너무 많다. 연봉 상승이 적어서 성과급 없으면 월급이 적은편이다',\n",
       " '딱히 없었음. 다른 부분도 마찬가지, 근무지가 다양해서 좋음',\n",
       " '윗 상사나 경영진들의 안전주의적 경영, 윗상사에게 혼나지 않기 위해 진짜 문제는 보고하지 않음',\n",
       " '경직되고 비효율적인 프로세스가 많으며 지시하는 조직이 너무 많다',\n",
       " '근속연수가 생각보다 짧음. 자기개발 안하면 뒤쳐지는 경향이 있어서 지속적으로 개발해야 함',\n",
       " '성과위주와 학벌 위주의 조직 체계가 전반적으로 근무의욕을 떨어뜨리는 편이다.',\n",
       " '근속연수가 다른 대기업에 비해 짧은편. 자기개발 안하면 밀림',\n",
       " '남자직원들이 많아서 조금은 불편했다. 그래도 차별 없고 좋았다~',\n",
       " '아무래도 중간중간 보기싫은 사람들이 있습니다. 잘 이겨내야죠',\n",
       " '업무강도 높음. 힘들어 죽겠음. 연차 쓰는데 눈치 보이고 상상 갑질 오짐',\n",
       " '높은 업무강도 및 성과압박이 심하고 연봉상승률 높지않음. 기본급 낮다. 신입이 많음',\n",
       " '기본급이 너무 적다. 싱글은 의료비 지원등 복지가 너무 적다.',\n",
       " '사업부에 따른 성과급 격차가 커서 내부에서도 위화감이 있습니다',\n",
       " '조직이 무겁고, 절차를 없앨 수 없는 부분이 있음',\n",
       " '대표이사가 바뀔 때마다 회사분위기가 바뀝니다',\n",
       " '명퇴걱정 자주한다. 야근 너무 많아서 힘들다. 밤 10시에 퇴근하는 일도 많다...',\n",
       " '아직도 지시만하는 선배들이 많이 있어서 다소 불편할 때가 있다',\n",
       " '사람을 갈아 넣어버리는 업무와 일의 강도가 단점이다',\n",
       " '아무래도 대기업인만큼 성과중심적이고 보고서 작성 많음',\n",
       " '보고체제 우선시하는 보고체제가 아쉽습니다. 수평적 관계를 위해 호칭정리하긴 하지만 여전히 아쉬워요',\n",
       " '인간관계가 힘듭니다. 힘든 인간관계 때문에 아주 힘들었습니다',\n",
       " '해야할 일이 많은 것이 bad이지만, 이것은 자기 자신의 성장에 도움이 되기 때문에 크게 문제되는 것이 아니라고 생각합니다.',\n",
       " '성과에 대한 압박과 부담감. 내가 성장할 수 있을까에 대한 걱정',\n",
       " '일이 너무 많아 힘들다. 그런데 돈으로 보상된다',\n",
       " '유리천장이 있고, 수직적인 기업 문화가 심하다',\n",
       " '일이 말그대로 힘듬. 뛰어난 사람 많아 멘탈관리 힘듬',\n",
       " '성과급은 투명하게 잘 챙겨주었으면 좋겠다. 이외에 나쁜점은 없음',\n",
       " '어쩔 수 없는 대기업의 업무평가구조. 개발 커리어를 쌓아나가기엔 부족함',\n",
       " '부서마다 다르겠지만, 야근이 종종 있는 편이다',\n",
       " '업무적으로도 동료들과 혹 다른팀과 불가피하게 경쟁을 해야 하다보니, 항상 긴장하고 일해야 해요',\n",
       " '교대인력이 부족해 한명이 연차쓰면 앞뒤로 커버함',\n",
       " '과도하게 많은 의사결정단계로 인한 비효율. 의사결정권자의 단기지향적인 사고방식',\n",
       " '밥 세끼 꽁짜 빼고 다 ^^ 진짜 없다 복지 너무 없고 직원들 돈 안주고싶어서 안달났다',\n",
       " '남자비율이 너무 높은 것같다. 아직은 아쉬운 점이 딱히없다.',\n",
       " '보고할 곳이 많아요. 사라지지 않는 보고체제. 다른 대기업에 비해 기본급이 낮은 편이랍니다.',\n",
       " '월급이 너무 짜요. 성과급 없으면 그닥인 듯. 너무 관리적이라서 일하는 사람이 적음',\n",
       " '야근이 너무 많다. 여가 시간이 부족하다. 스트레스가 많다',\n",
       " '타 대기업대비 복지 수준이 낮음. 부서간 업무강도 격차가 크다',\n",
       " '일이 많다 엄청 많다. 근데 부서별로 업무강도가 천차만별이라 어디 배치받느냐에 따라 복불복. 특정 사업부 특정 팀은 거의 죽어난다',\n",
       " '조직구조가 수직적이다. 꼰대 상사들이 많다. 일이 많다.',\n",
       " '소프트웨어 엔지니어로써 간다면 죽음이나 다름 없습니다.',\n",
       " '직원들을 위한 상과급 결정이 좀 짜다. 휴가 개수가 매우 적다',\n",
       " '성과급 변동이 심해서 예측하기 어려움. 성과급을 제외한 연봉은 일반적인 대기업 수준',\n",
       " '단기적 성과를 추구하는 경향으로 인해 직원 개개인의 커리어패스는 경시되는 경향이 있다',\n",
       " '너무 큰 회사이다보니 관료주의적이고 보수적이다',\n",
       " '재직하면서 느낀거 중에 별도로 나쁜 점은 없는거 같음.',\n",
       " '관리가 심하고 보고문화가 지나치게 심하다..']"
      ]
     },
     "execution_count": 278,
     "metadata": {},
     "output_type": "execute_result"
    }
   ],
   "source": [
    "bad_lst"
   ]
  },
  {
   "cell_type": "code",
   "execution_count": null,
   "metadata": {},
   "outputs": [],
   "source": []
  },
  {
   "cell_type": "code",
   "execution_count": null,
   "metadata": {},
   "outputs": [],
   "source": []
  },
  {
   "cell_type": "code",
   "execution_count": null,
   "metadata": {},
   "outputs": [],
   "source": [
    "# 2023-07-04 20:40 commit"
   ]
  }
 ],
 "metadata": {
  "kernelspec": {
   "display_name": "ezpz",
   "language": "python",
   "name": "python3"
  },
  "language_info": {
   "codemirror_mode": {
    "name": "ipython",
    "version": 3
   },
   "file_extension": ".py",
   "mimetype": "text/x-python",
   "name": "python",
   "nbconvert_exporter": "python",
   "pygments_lexer": "ipython3",
   "version": "3.10.11"
  },
  "orig_nbformat": 4
 },
 "nbformat": 4,
 "nbformat_minor": 2
}
