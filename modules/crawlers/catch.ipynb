{
 "cells": [
  {
   "cell_type": "code",
   "execution_count": 17,
   "metadata": {},
   "outputs": [
    {
     "name": "stdout",
     "output_type": "stream",
     "text": [
      "Requirement already satisfied: pandas in c:\\users\\playdata\\anaconda3\\envs\\ezpz\\lib\\site-packages (2.0.1)\n",
      "Requirement already satisfied: pytz>=2020.1 in c:\\users\\playdata\\anaconda3\\envs\\ezpz\\lib\\site-packages (from pandas) (2023.3)\n",
      "Requirement already satisfied: numpy>=1.21.0 in c:\\users\\playdata\\anaconda3\\envs\\ezpz\\lib\\site-packages (from pandas) (1.24.3)\n",
      "Requirement already satisfied: python-dateutil>=2.8.2 in c:\\users\\playdata\\anaconda3\\envs\\ezpz\\lib\\site-packages (from pandas) (2.8.2)\n",
      "Requirement already satisfied: tzdata>=2022.1 in c:\\users\\playdata\\anaconda3\\envs\\ezpz\\lib\\site-packages (from pandas) (2023.3)\n",
      "Requirement already satisfied: six>=1.5 in c:\\users\\playdata\\anaconda3\\envs\\ezpz\\lib\\site-packages (from python-dateutil>=2.8.2->pandas) (1.16.0)\n",
      "Requirement already satisfied: BeautifulSoup4 in c:\\users\\playdata\\anaconda3\\envs\\ezpz\\lib\\site-packages (4.12.2)\n",
      "Requirement already satisfied: soupsieve>1.2 in c:\\users\\playdata\\anaconda3\\envs\\ezpz\\lib\\site-packages (from BeautifulSoup4) (2.4.1)\n",
      "Requirement already satisfied: selenium in c:\\users\\playdata\\anaconda3\\envs\\ezpz\\lib\\site-packages (4.10.0)\n",
      "Requirement already satisfied: trio~=0.17 in c:\\users\\playdata\\anaconda3\\envs\\ezpz\\lib\\site-packages (from selenium) (0.22.1)\n",
      "Requirement already satisfied: trio-websocket~=0.9 in c:\\users\\playdata\\anaconda3\\envs\\ezpz\\lib\\site-packages (from selenium) (0.10.3)\n",
      "Requirement already satisfied: certifi>=2021.10.8 in c:\\users\\playdata\\anaconda3\\envs\\ezpz\\lib\\site-packages (from selenium) (2023.5.7)\n",
      "Requirement already satisfied: urllib3[socks]<3,>=1.26 in c:\\users\\playdata\\anaconda3\\envs\\ezpz\\lib\\site-packages (from selenium) (1.26.14)\n",
      "Requirement already satisfied: sniffio in c:\\users\\playdata\\anaconda3\\envs\\ezpz\\lib\\site-packages (from trio~=0.17->selenium) (1.3.0)\n",
      "Requirement already satisfied: exceptiongroup>=1.0.0rc9 in c:\\users\\playdata\\anaconda3\\envs\\ezpz\\lib\\site-packages (from trio~=0.17->selenium) (1.1.2)\n",
      "Requirement already satisfied: idna in c:\\users\\playdata\\anaconda3\\envs\\ezpz\\lib\\site-packages (from trio~=0.17->selenium) (3.4)\n",
      "Requirement already satisfied: sortedcontainers in c:\\users\\playdata\\anaconda3\\envs\\ezpz\\lib\\site-packages (from trio~=0.17->selenium) (2.4.0)\n",
      "Requirement already satisfied: outcome in c:\\users\\playdata\\anaconda3\\envs\\ezpz\\lib\\site-packages (from trio~=0.17->selenium) (1.2.0)\n",
      "Requirement already satisfied: cffi>=1.14 in c:\\users\\playdata\\anaconda3\\envs\\ezpz\\lib\\site-packages (from trio~=0.17->selenium) (1.15.1)\n",
      "Requirement already satisfied: attrs>=20.1.0 in c:\\users\\playdata\\anaconda3\\envs\\ezpz\\lib\\site-packages (from trio~=0.17->selenium) (23.1.0)\n",
      "Requirement already satisfied: wsproto>=0.14 in c:\\users\\playdata\\anaconda3\\envs\\ezpz\\lib\\site-packages (from trio-websocket~=0.9->selenium) (1.2.0)\n",
      "Requirement already satisfied: PySocks!=1.5.7,<2.0,>=1.5.6 in c:\\users\\playdata\\anaconda3\\envs\\ezpz\\lib\\site-packages (from urllib3[socks]<3,>=1.26->selenium) (1.7.1)\n",
      "Requirement already satisfied: pycparser in c:\\users\\playdata\\anaconda3\\envs\\ezpz\\lib\\site-packages (from cffi>=1.14->trio~=0.17->selenium) (2.21)\n",
      "Requirement already satisfied: h11<1,>=0.9.0 in c:\\users\\playdata\\anaconda3\\envs\\ezpz\\lib\\site-packages (from wsproto>=0.14->trio-websocket~=0.9->selenium) (0.14.0)\n",
      "Requirement already satisfied: selenium in c:\\users\\playdata\\anaconda3\\envs\\ezpz\\lib\\site-packages (4.10.0)\n",
      "Requirement already satisfied: trio~=0.17 in c:\\users\\playdata\\anaconda3\\envs\\ezpz\\lib\\site-packages (from selenium) (0.22.1)\n",
      "Requirement already satisfied: trio-websocket~=0.9 in c:\\users\\playdata\\anaconda3\\envs\\ezpz\\lib\\site-packages (from selenium) (0.10.3)\n",
      "Requirement already satisfied: urllib3[socks]<3,>=1.26 in c:\\users\\playdata\\anaconda3\\envs\\ezpz\\lib\\site-packages (from selenium) (1.26.14)\n",
      "Requirement already satisfied: certifi>=2021.10.8 in c:\\users\\playdata\\anaconda3\\envs\\ezpz\\lib\\site-packages (from selenium) (2023.5.7)\n",
      "Requirement already satisfied: idna in c:\\users\\playdata\\anaconda3\\envs\\ezpz\\lib\\site-packages (from trio~=0.17->selenium) (3.4)\n",
      "Requirement already satisfied: attrs>=20.1.0 in c:\\users\\playdata\\anaconda3\\envs\\ezpz\\lib\\site-packages (from trio~=0.17->selenium) (23.1.0)\n",
      "Requirement already satisfied: sortedcontainers in c:\\users\\playdata\\anaconda3\\envs\\ezpz\\lib\\site-packages (from trio~=0.17->selenium) (2.4.0)\n",
      "Requirement already satisfied: cffi>=1.14 in c:\\users\\playdata\\anaconda3\\envs\\ezpz\\lib\\site-packages (from trio~=0.17->selenium) (1.15.1)\n",
      "Requirement already satisfied: exceptiongroup>=1.0.0rc9 in c:\\users\\playdata\\anaconda3\\envs\\ezpz\\lib\\site-packages (from trio~=0.17->selenium) (1.1.2)\n",
      "Requirement already satisfied: sniffio in c:\\users\\playdata\\anaconda3\\envs\\ezpz\\lib\\site-packages (from trio~=0.17->selenium) (1.3.0)\n",
      "Requirement already satisfied: outcome in c:\\users\\playdata\\anaconda3\\envs\\ezpz\\lib\\site-packages (from trio~=0.17->selenium) (1.2.0)\n",
      "Requirement already satisfied: wsproto>=0.14 in c:\\users\\playdata\\anaconda3\\envs\\ezpz\\lib\\site-packages (from trio-websocket~=0.9->selenium) (1.2.0)\n",
      "Requirement already satisfied: PySocks!=1.5.7,<2.0,>=1.5.6 in c:\\users\\playdata\\anaconda3\\envs\\ezpz\\lib\\site-packages (from urllib3[socks]<3,>=1.26->selenium) (1.7.1)\n",
      "Requirement already satisfied: pycparser in c:\\users\\playdata\\anaconda3\\envs\\ezpz\\lib\\site-packages (from cffi>=1.14->trio~=0.17->selenium) (2.21)\n",
      "Requirement already satisfied: h11<1,>=0.9.0 in c:\\users\\playdata\\anaconda3\\envs\\ezpz\\lib\\site-packages (from wsproto>=0.14->trio-websocket~=0.9->selenium) (0.14.0)\n",
      "Requirement already satisfied: webdriver-manager in c:\\users\\playdata\\anaconda3\\envs\\ezpz\\lib\\site-packages (3.8.6)\n",
      "Requirement already satisfied: tqdm in c:\\users\\playdata\\anaconda3\\envs\\ezpz\\lib\\site-packages (from webdriver-manager) (4.65.0)\n",
      "Requirement already satisfied: requests in c:\\users\\playdata\\anaconda3\\envs\\ezpz\\lib\\site-packages (from webdriver-manager) (2.28.1)\n",
      "Requirement already satisfied: packaging in c:\\users\\playdata\\anaconda3\\envs\\ezpz\\lib\\site-packages (from webdriver-manager) (23.1)\n",
      "Requirement already satisfied: python-dotenv in c:\\users\\playdata\\anaconda3\\envs\\ezpz\\lib\\site-packages (from webdriver-manager) (1.0.0)\n",
      "Requirement already satisfied: certifi>=2017.4.17 in c:\\users\\playdata\\anaconda3\\envs\\ezpz\\lib\\site-packages (from requests->webdriver-manager) (2023.5.7)\n",
      "Requirement already satisfied: idna<4,>=2.5 in c:\\users\\playdata\\anaconda3\\envs\\ezpz\\lib\\site-packages (from requests->webdriver-manager) (3.4)\n",
      "Requirement already satisfied: urllib3<1.27,>=1.21.1 in c:\\users\\playdata\\anaconda3\\envs\\ezpz\\lib\\site-packages (from requests->webdriver-manager) (1.26.14)\n",
      "Requirement already satisfied: charset-normalizer<3,>=2 in c:\\users\\playdata\\anaconda3\\envs\\ezpz\\lib\\site-packages (from requests->webdriver-manager) (2.0.4)\n",
      "Requirement already satisfied: colorama in c:\\users\\playdata\\anaconda3\\envs\\ezpz\\lib\\site-packages (from tqdm->webdriver-manager) (0.4.6)\n"
     ]
    }
   ],
   "source": [
    "!pip install pandas\n",
    "\n",
    "!pip install BeautifulSoup4\n",
    "!pip install selenium\n",
    "!pip install selenium --upgrade\n",
    "!pip install webdriver-manager"
   ]
  },
  {
   "cell_type": "code",
   "execution_count": 2,
   "metadata": {},
   "outputs": [],
   "source": [
    "import os\n",
    "from datetime import datetime\n",
    "import time\n",
    "import requests\n",
    "import re\n",
    "\n",
    "import pandas as pd\n",
    "\n",
    "from bs4 import BeautifulSoup\n",
    "\n",
    "import selenium\n",
    "\n",
    "\n",
    "from selenium.webdriver.chrome.service import Service\n",
    "from selenium import webdriver\n",
    "from webdriver_manager.chrome import ChromeDriverManager\n",
    "\n",
    "from selenium.webdriver.common.by import By\n",
    "from selenium.webdriver.common.keys import Keys\n",
    "from selenium.webdriver.support.select import Select\n"
   ]
  },
  {
   "cell_type": "code",
   "execution_count": 3,
   "metadata": {},
   "outputs": [
    {
     "name": "stdout",
     "output_type": "stream",
     "text": [
      "{'width': 1552, 'height': 832}\n"
     ]
    }
   ],
   "source": [
    "# headless 모드를 위해 아래 3줄의 주석을 풀어주세요.\n",
    "\n",
    "# option = webdriver.ChromeOptions()\n",
    "# option.add_argument(\"--headless\")\n",
    "\n",
    "service = Service(executable_path='chromedriver.exe')\n",
    "browser = webdriver.Chrome(service=service) #, options=option)\n",
    "\n",
    "url = r\"https://www.catch.co.kr/\"\n",
    "\n",
    "browser.maximize_window()\n",
    "print(browser.get_window_size())\n",
    "\n",
    "browser.get(url)\n"
   ]
  },
  {
   "cell_type": "code",
   "execution_count": 4,
   "metadata": {},
   "outputs": [],
   "source": [
    "from accounts import ct\n",
    "\n",
    "ID = ct.ID\n",
    "PW = ct.PW"
   ]
  },
  {
   "cell_type": "code",
   "execution_count": 5,
   "metadata": {},
   "outputs": [],
   "source": [
    "# 로그인\n",
    "\n",
    "browser.find_element(By.CSS_SELECTOR, \"a.login\").click()\n",
    "\n",
    "browser.find_element(By.CSS_SELECTOR, \"input#id_login\").send_keys(ID)\n",
    "time.sleep(1)\n",
    "browser.find_element(By.CSS_SELECTOR, \"input#pw_login\").send_keys(PW)\n",
    "\n",
    "browser.find_element(By.CSS_SELECTOR, \"input#pw_login\").send_keys(Keys.ENTER)"
   ]
  },
  {
   "cell_type": "code",
   "execution_count": 6,
   "metadata": {},
   "outputs": [],
   "source": [
    "# 기업 검색 (input)\n",
    "query = browser.find_element(By.CSS_SELECTOR, \"input\")\n",
    "\n",
    "query.send_keys(input(\"리뷰 확인하기: \"))\n",
    "query.send_keys(Keys.ENTER)"
   ]
  },
  {
   "cell_type": "code",
   "execution_count": 7,
   "metadata": {},
   "outputs": [],
   "source": [
    "### 팝업 뜨면 끄기 (예외 처리)\n",
    "\n",
    "try : \n",
    "    browser.find_element(By.XPATH, r'//*[@id=\"layerInterest4\"]/div/button[2]/span').click()\n",
    "    time.sleep(2)\n",
    "\n",
    "except : \n",
    "    pass"
   ]
  },
  {
   "cell_type": "code",
   "execution_count": 69,
   "metadata": {},
   "outputs": [],
   "source": [
    "### 리뷰가 없어도 예외 처리"
   ]
  },
  {
   "cell_type": "code",
   "execution_count": null,
   "metadata": {},
   "outputs": [],
   "source": [
    "#commentList > div.top > div > "
   ]
  },
  {
   "cell_type": "code",
   "execution_count": 8,
   "metadata": {},
   "outputs": [],
   "source": [
    "# 검색한 기업(최상위 노출) 클릭 \n",
    "browser.find_element(By.CSS_SELECTOR, \"p.name > a\").click()\n",
    "time.sleep(2)"
   ]
  },
  {
   "cell_type": "code",
   "execution_count": 9,
   "metadata": {},
   "outputs": [],
   "source": [
    "# '현직자 리뷰' 탭 클릭\n",
    "browser.find_element(By.XPATH, r'//*[@id=\"Contents\"]/div[1]/div[1]/div[2]/ul/li[4]/a').click()\n",
    "time.sleep(1)"
   ]
  },
  {
   "cell_type": "code",
   "execution_count": 10,
   "metadata": {},
   "outputs": [],
   "source": [
    "# 핵심 리뷰만 조회 - 정규직/현직자가 3년 이내 작성한 리뷰\n",
    "browser.find_element(By.CSS_SELECTOR, 'div.pd_type2 > div > a').click()\n",
    "time.sleep(1)"
   ]
  },
  {
   "cell_type": "code",
   "execution_count": 11,
   "metadata": {},
   "outputs": [
    {
     "data": {
      "text/plain": [
       "'눈치 안보고 연차 사용가능 복지가 매우 좋다 헬스장 샤워실 등등'"
      ]
     },
     "execution_count": 11,
     "metadata": {},
     "output_type": "execute_result"
    }
   ],
   "source": [
    "# 긍정 리뷰만 조회\n",
    "good_rv = browser.find_element(By.CSS_SELECTOR, \"li:nth-child(1) > p:nth-child(4)\").text\n",
    "good_rv = good_rv.replace(good_rv[:5], \"\").replace('\\n', ' ') \n",
    "good_rv"
   ]
  },
  {
   "cell_type": "code",
   "execution_count": 12,
   "metadata": {},
   "outputs": [
    {
     "data": {
      "text/plain": [
       "'위치 빼고 없다 역시 갓기업이다 너무 마음에 듭니다 갓삼성'"
      ]
     },
     "execution_count": 12,
     "metadata": {},
     "output_type": "execute_result"
    }
   ],
   "source": [
    "# 부정 리뷰만 조회\n",
    "bad_rv = browser.find_element(By.CSS_SELECTOR, \"li:nth-child(1) > p:nth-child(5)\").text\n",
    "bad_rv = bad_rv.replace(bad_rv[:4], \"\").replace('\\n', ' ') \n",
    "bad_rv"
   ]
  },
  {
   "cell_type": "code",
   "execution_count": 13,
   "metadata": {},
   "outputs": [
    {
     "data": {
      "text/html": [
       "<div>\n",
       "<style scoped>\n",
       "    .dataframe tbody tr th:only-of-type {\n",
       "        vertical-align: middle;\n",
       "    }\n",
       "\n",
       "    .dataframe tbody tr th {\n",
       "        vertical-align: top;\n",
       "    }\n",
       "\n",
       "    .dataframe thead th {\n",
       "        text-align: right;\n",
       "    }\n",
       "</style>\n",
       "<table border=\"1\" class=\"dataframe\">\n",
       "  <thead>\n",
       "    <tr style=\"text-align: right;\">\n",
       "      <th></th>\n",
       "      <th>긍정적 평가</th>\n",
       "    </tr>\n",
       "  </thead>\n",
       "  <tbody>\n",
       "    <tr>\n",
       "      <th>0</th>\n",
       "      <td>눈치 안보고 연차 사용가능 복지가 매우 좋다 헬스장 샤워실 등등</td>\n",
       "    </tr>\n",
       "  </tbody>\n",
       "</table>\n",
       "</div>"
      ],
      "text/plain": [
       "                                긍정적 평가\n",
       "0  눈치 안보고 연차 사용가능 복지가 매우 좋다 헬스장 샤워실 등등"
      ]
     },
     "execution_count": 13,
     "metadata": {},
     "output_type": "execute_result"
    }
   ],
   "source": [
    "good_df = pd.DataFrame({\"긍정적 평가\" : [good_rv]})\n",
    "good_df\n"
   ]
  },
  {
   "cell_type": "code",
   "execution_count": 14,
   "metadata": {},
   "outputs": [
    {
     "data": {
      "text/html": [
       "<div>\n",
       "<style scoped>\n",
       "    .dataframe tbody tr th:only-of-type {\n",
       "        vertical-align: middle;\n",
       "    }\n",
       "\n",
       "    .dataframe tbody tr th {\n",
       "        vertical-align: top;\n",
       "    }\n",
       "\n",
       "    .dataframe thead th {\n",
       "        text-align: right;\n",
       "    }\n",
       "</style>\n",
       "<table border=\"1\" class=\"dataframe\">\n",
       "  <thead>\n",
       "    <tr style=\"text-align: right;\">\n",
       "      <th></th>\n",
       "      <th>부정적 평가</th>\n",
       "    </tr>\n",
       "  </thead>\n",
       "  <tbody>\n",
       "    <tr>\n",
       "      <th>0</th>\n",
       "      <td>위치 빼고 없다 역시 갓기업이다 너무 마음에 듭니다 갓삼성</td>\n",
       "    </tr>\n",
       "  </tbody>\n",
       "</table>\n",
       "</div>"
      ],
      "text/plain": [
       "                             부정적 평가\n",
       "0  위치 빼고 없다 역시 갓기업이다 너무 마음에 듭니다 갓삼성"
      ]
     },
     "execution_count": 14,
     "metadata": {},
     "output_type": "execute_result"
    }
   ],
   "source": [
    "bad_df = pd.DataFrame({\"부정적 평가\" : [bad_rv]})\n",
    "bad_df"
   ]
  },
  {
   "cell_type": "code",
   "execution_count": 15,
   "metadata": {},
   "outputs": [
    {
     "data": {
      "text/html": [
       "<div>\n",
       "<style scoped>\n",
       "    .dataframe tbody tr th:only-of-type {\n",
       "        vertical-align: middle;\n",
       "    }\n",
       "\n",
       "    .dataframe tbody tr th {\n",
       "        vertical-align: top;\n",
       "    }\n",
       "\n",
       "    .dataframe thead th {\n",
       "        text-align: right;\n",
       "    }\n",
       "</style>\n",
       "<table border=\"1\" class=\"dataframe\">\n",
       "  <thead>\n",
       "    <tr style=\"text-align: right;\">\n",
       "      <th></th>\n",
       "      <th>긍정적 평가</th>\n",
       "      <th>부정적 평가</th>\n",
       "    </tr>\n",
       "  </thead>\n",
       "  <tbody>\n",
       "    <tr>\n",
       "      <th>0</th>\n",
       "      <td>눈치 안보고 연차 사용가능 복지가 매우 좋다 헬스장 샤워실 등등</td>\n",
       "      <td>위치 빼고 없다 역시 갓기업이다 너무 마음에 듭니다 갓삼성</td>\n",
       "    </tr>\n",
       "  </tbody>\n",
       "</table>\n",
       "</div>"
      ],
      "text/plain": [
       "                                긍정적 평가                            부정적 평가\n",
       "0  눈치 안보고 연차 사용가능 복지가 매우 좋다 헬스장 샤워실 등등  위치 빼고 없다 역시 갓기업이다 너무 마음에 듭니다 갓삼성"
      ]
     },
     "execution_count": 15,
     "metadata": {},
     "output_type": "execute_result"
    }
   ],
   "source": [
    "good_df.join(bad_df)"
   ]
  },
  {
   "cell_type": "code",
   "execution_count": 16,
   "metadata": {},
   "outputs": [
    {
     "ename": "NoSuchElementException",
     "evalue": "Message: no such element: Unable to locate element: {\"method\":\"css selector\",\"selector\":\"li:nth-child(4) > p:nth-child(5)\"}\n  (Session info: chrome=114.0.5735.199); For documentation on this error, please visit: https://www.selenium.dev/documentation/webdriver/troubleshooting/errors#no-such-element-exception\nStacktrace:\nBacktrace:\n\tGetHandleVerifier [0x00ECA813+48355]\n\t(No symbol) [0x00E5C4B1]\n\t(No symbol) [0x00D65358]\n\t(No symbol) [0x00D909A5]\n\t(No symbol) [0x00D90B3B]\n\t(No symbol) [0x00DBE232]\n\t(No symbol) [0x00DAA784]\n\t(No symbol) [0x00DBC922]\n\t(No symbol) [0x00DAA536]\n\t(No symbol) [0x00D882DC]\n\t(No symbol) [0x00D893DD]\n\tGetHandleVerifier [0x0112AABD+2539405]\n\tGetHandleVerifier [0x0116A78F+2800735]\n\tGetHandleVerifier [0x0116456C+2775612]\n\tGetHandleVerifier [0x00F551E0+616112]\n\t(No symbol) [0x00E65F8C]\n\t(No symbol) [0x00E62328]\n\t(No symbol) [0x00E6240B]\n\t(No symbol) [0x00E54FF7]\n\tBaseThreadInitThunk [0x759F7D59+25]\n\tRtlInitializeExceptionChain [0x76F2B74B+107]\n\tRtlClearBits [0x76F2B6CF+191]\n",
     "output_type": "error",
     "traceback": [
      "\u001b[1;31m---------------------------------------------------------------------------\u001b[0m",
      "\u001b[1;31mNoSuchElementException\u001b[0m                    Traceback (most recent call last)",
      "Cell \u001b[1;32mIn[16], line 17\u001b[0m\n\u001b[0;32m     14\u001b[0m \u001b[39mfor\u001b[39;00m i \u001b[39min\u001b[39;00m \u001b[39mrange\u001b[39m(\u001b[39m1\u001b[39m, \u001b[39m5\u001b[39m) : \n\u001b[0;32m     16\u001b[0m     grv \u001b[39m=\u001b[39m browser\u001b[39m.\u001b[39mfind_element(By\u001b[39m.\u001b[39mCSS_SELECTOR, \u001b[39mf\u001b[39m\u001b[39m\"\u001b[39m\u001b[39mli:nth-child(\u001b[39m\u001b[39m{\u001b[39;00mi\u001b[39m}\u001b[39;00m\u001b[39m) > p:nth-child(4)\u001b[39m\u001b[39m\"\u001b[39m)\u001b[39m.\u001b[39mtext\n\u001b[1;32m---> 17\u001b[0m     brv \u001b[39m=\u001b[39m browser\u001b[39m.\u001b[39;49mfind_element(By\u001b[39m.\u001b[39;49mCSS_SELECTOR, \u001b[39mf\u001b[39;49m\u001b[39m\"\u001b[39;49m\u001b[39mli:nth-child(\u001b[39;49m\u001b[39m{\u001b[39;49;00mi\u001b[39m}\u001b[39;49;00m\u001b[39m) > p:nth-child(5)\u001b[39;49m\u001b[39m\"\u001b[39;49m)\u001b[39m.\u001b[39mtext\n\u001b[0;32m     19\u001b[0m     grv_clean \u001b[39m=\u001b[39m grv\u001b[39m.\u001b[39mreplace(grv[:\u001b[39m5\u001b[39m], \u001b[39m\"\u001b[39m\u001b[39m\"\u001b[39m)\u001b[39m.\u001b[39mreplace(\u001b[39m'\u001b[39m\u001b[39m\\n\u001b[39;00m\u001b[39m'\u001b[39m, \u001b[39m'\u001b[39m\u001b[39m \u001b[39m\u001b[39m'\u001b[39m) \n\u001b[0;32m     20\u001b[0m     brv_clean \u001b[39m=\u001b[39m brv\u001b[39m.\u001b[39mreplace(brv[:\u001b[39m4\u001b[39m], \u001b[39m\"\u001b[39m\u001b[39m\"\u001b[39m)\u001b[39m.\u001b[39mreplace(\u001b[39m'\u001b[39m\u001b[39m\\n\u001b[39;00m\u001b[39m'\u001b[39m, \u001b[39m'\u001b[39m\u001b[39m \u001b[39m\u001b[39m'\u001b[39m) \n",
      "File \u001b[1;32mc:\\Users\\Playdata\\anaconda3\\envs\\ezpz\\lib\\site-packages\\selenium\\webdriver\\remote\\webdriver.py:740\u001b[0m, in \u001b[0;36mWebDriver.find_element\u001b[1;34m(self, by, value)\u001b[0m\n\u001b[0;32m    737\u001b[0m     by \u001b[39m=\u001b[39m By\u001b[39m.\u001b[39mCSS_SELECTOR\n\u001b[0;32m    738\u001b[0m     value \u001b[39m=\u001b[39m \u001b[39mf\u001b[39m\u001b[39m'\u001b[39m\u001b[39m[name=\u001b[39m\u001b[39m\"\u001b[39m\u001b[39m{\u001b[39;00mvalue\u001b[39m}\u001b[39;00m\u001b[39m\"\u001b[39m\u001b[39m]\u001b[39m\u001b[39m'\u001b[39m\n\u001b[1;32m--> 740\u001b[0m \u001b[39mreturn\u001b[39;00m \u001b[39mself\u001b[39;49m\u001b[39m.\u001b[39;49mexecute(Command\u001b[39m.\u001b[39;49mFIND_ELEMENT, {\u001b[39m\"\u001b[39;49m\u001b[39musing\u001b[39;49m\u001b[39m\"\u001b[39;49m: by, \u001b[39m\"\u001b[39;49m\u001b[39mvalue\u001b[39;49m\u001b[39m\"\u001b[39;49m: value})[\u001b[39m\"\u001b[39m\u001b[39mvalue\u001b[39m\u001b[39m\"\u001b[39m]\n",
      "File \u001b[1;32mc:\\Users\\Playdata\\anaconda3\\envs\\ezpz\\lib\\site-packages\\selenium\\webdriver\\remote\\webdriver.py:346\u001b[0m, in \u001b[0;36mWebDriver.execute\u001b[1;34m(self, driver_command, params)\u001b[0m\n\u001b[0;32m    344\u001b[0m response \u001b[39m=\u001b[39m \u001b[39mself\u001b[39m\u001b[39m.\u001b[39mcommand_executor\u001b[39m.\u001b[39mexecute(driver_command, params)\n\u001b[0;32m    345\u001b[0m \u001b[39mif\u001b[39;00m response:\n\u001b[1;32m--> 346\u001b[0m     \u001b[39mself\u001b[39;49m\u001b[39m.\u001b[39;49merror_handler\u001b[39m.\u001b[39;49mcheck_response(response)\n\u001b[0;32m    347\u001b[0m     response[\u001b[39m\"\u001b[39m\u001b[39mvalue\u001b[39m\u001b[39m\"\u001b[39m] \u001b[39m=\u001b[39m \u001b[39mself\u001b[39m\u001b[39m.\u001b[39m_unwrap_value(response\u001b[39m.\u001b[39mget(\u001b[39m\"\u001b[39m\u001b[39mvalue\u001b[39m\u001b[39m\"\u001b[39m, \u001b[39mNone\u001b[39;00m))\n\u001b[0;32m    348\u001b[0m     \u001b[39mreturn\u001b[39;00m response\n",
      "File \u001b[1;32mc:\\Users\\Playdata\\anaconda3\\envs\\ezpz\\lib\\site-packages\\selenium\\webdriver\\remote\\errorhandler.py:245\u001b[0m, in \u001b[0;36mErrorHandler.check_response\u001b[1;34m(self, response)\u001b[0m\n\u001b[0;32m    243\u001b[0m         alert_text \u001b[39m=\u001b[39m value[\u001b[39m\"\u001b[39m\u001b[39malert\u001b[39m\u001b[39m\"\u001b[39m]\u001b[39m.\u001b[39mget(\u001b[39m\"\u001b[39m\u001b[39mtext\u001b[39m\u001b[39m\"\u001b[39m)\n\u001b[0;32m    244\u001b[0m     \u001b[39mraise\u001b[39;00m exception_class(message, screen, stacktrace, alert_text)  \u001b[39m# type: ignore[call-arg]  # mypy is not smart enough here\u001b[39;00m\n\u001b[1;32m--> 245\u001b[0m \u001b[39mraise\u001b[39;00m exception_class(message, screen, stacktrace)\n",
      "\u001b[1;31mNoSuchElementException\u001b[0m: Message: no such element: Unable to locate element: {\"method\":\"css selector\",\"selector\":\"li:nth-child(4) > p:nth-child(5)\"}\n  (Session info: chrome=114.0.5735.199); For documentation on this error, please visit: https://www.selenium.dev/documentation/webdriver/troubleshooting/errors#no-such-element-exception\nStacktrace:\nBacktrace:\n\tGetHandleVerifier [0x00ECA813+48355]\n\t(No symbol) [0x00E5C4B1]\n\t(No symbol) [0x00D65358]\n\t(No symbol) [0x00D909A5]\n\t(No symbol) [0x00D90B3B]\n\t(No symbol) [0x00DBE232]\n\t(No symbol) [0x00DAA784]\n\t(No symbol) [0x00DBC922]\n\t(No symbol) [0x00DAA536]\n\t(No symbol) [0x00D882DC]\n\t(No symbol) [0x00D893DD]\n\tGetHandleVerifier [0x0112AABD+2539405]\n\tGetHandleVerifier [0x0116A78F+2800735]\n\tGetHandleVerifier [0x0116456C+2775612]\n\tGetHandleVerifier [0x00F551E0+616112]\n\t(No symbol) [0x00E65F8C]\n\t(No symbol) [0x00E62328]\n\t(No symbol) [0x00E6240B]\n\t(No symbol) [0x00E54FF7]\n\tBaseThreadInitThunk [0x759F7D59+25]\n\tRtlInitializeExceptionChain [0x76F2B74B+107]\n\tRtlClearBits [0x76F2B6CF+191]\n"
     ]
    }
   ],
   "source": [
    "# Web Crawling\n",
    "\n",
    "n_btn = browser.find_element(By.CSS_SELECTOR, 'a.ico.next')\n",
    "\n",
    "i = 0 \n",
    "\n",
    "good_lst = []\n",
    "bad_lst = []\n",
    "\n",
    "\n",
    "while i < 123 : \n",
    "\n",
    "\n",
    "    for i in range(1, 5) : \n",
    "\n",
    "        grv = browser.find_element(By.CSS_SELECTOR, f\"li:nth-child({i}) > p:nth-child(4)\").text\n",
    "        brv = browser.find_element(By.CSS_SELECTOR, f\"li:nth-child({i}) > p:nth-child(5)\").text\n",
    "\n",
    "        grv_clean = grv.replace(grv[:5], \"\").replace('\\n', ' ') \n",
    "        brv_clean = brv.replace(brv[:4], \"\").replace('\\n', ' ') \n",
    "\n",
    "        good_lst.append(grv_clean)\n",
    "        bad_lst.append(brv_clean)\n",
    "\n",
    "\n",
    "    n_btn.click()\n",
    "    \n",
    "\n",
    "    time.sleep(1)\n",
    "\n",
    "    i += 1\n",
    "\n",
    "    if i == 100 :\n",
    "        break"
   ]
  },
  {
   "cell_type": "code",
   "execution_count": 17,
   "metadata": {},
   "outputs": [
    {
     "data": {
      "text/plain": [
       "(131, 131)"
      ]
     },
     "execution_count": 17,
     "metadata": {},
     "output_type": "execute_result"
    }
   ],
   "source": [
    "len(good_lst), len(bad_lst)"
   ]
  },
  {
   "cell_type": "code",
   "execution_count": 22,
   "metadata": {},
   "outputs": [
    {
     "data": {
      "text/plain": [
       "(['복지와 연봉은 만족스러움. 자율출퇴근과 식당이용이 가장 큰 장점',\n",
       "  '안정적인 대기업 야근수당 보장 및 식대 및 복지는 매우 좋다',\n",
       "  '전반적으로 안정적이고 회사가 성장한다는 느낌이 있다',\n",
       "  '월급이 높고 회사 분위기가 다른 기업과 비교가 불가능함.',\n",
       "  '보너스 굿!! 연차 사용 자유롭고 출퇴근도 자율'],\n",
       " ['성과급 변동이 심해서 예측하기 어려움. 성과급을 제외한 연봉은 일반적인 대기업 수준',\n",
       "  '단기적 성과를 추구하는 경향으로 인해 직원 개개인의 커리어패스는 경시되는 경향이 있다',\n",
       "  '너무 큰 회사이다보니 관료주의적이고 보수적이다',\n",
       "  '재직하면서 느낀거 중에 별도로 나쁜 점은 없는거 같음.',\n",
       "  '관리가 심하고 보고문화가 지나치게 심하다..'])"
      ]
     },
     "execution_count": 22,
     "metadata": {},
     "output_type": "execute_result"
    }
   ],
   "source": [
    "good_lst[-5:], bad_lst[-5:]"
   ]
  },
  {
   "cell_type": "code",
   "execution_count": 27,
   "metadata": {},
   "outputs": [
    {
     "data": {
      "text/plain": [
       "((131, 1), (131, 1))"
      ]
     },
     "execution_count": 27,
     "metadata": {},
     "output_type": "execute_result"
    }
   ],
   "source": [
    "good_df = pd.DataFrame({\"긍정적 평가\" : good_lst})\n",
    "bad_df = pd.DataFrame({\"부정적 평가\" : bad_lst})\n",
    "\n",
    "good_df.shape, bad_df.shape\n"
   ]
  },
  {
   "cell_type": "code",
   "execution_count": 37,
   "metadata": {},
   "outputs": [
    {
     "data": {
      "text/html": [
       "<div>\n",
       "<style scoped>\n",
       "    .dataframe tbody tr th:only-of-type {\n",
       "        vertical-align: middle;\n",
       "    }\n",
       "\n",
       "    .dataframe tbody tr th {\n",
       "        vertical-align: top;\n",
       "    }\n",
       "\n",
       "    .dataframe thead th {\n",
       "        text-align: right;\n",
       "    }\n",
       "</style>\n",
       "<table border=\"1\" class=\"dataframe\">\n",
       "  <thead>\n",
       "    <tr style=\"text-align: right;\">\n",
       "      <th></th>\n",
       "      <th>긍정적 평가</th>\n",
       "    </tr>\n",
       "  </thead>\n",
       "  <tbody>\n",
       "    <tr>\n",
       "      <th>126</th>\n",
       "      <td>복지와 연봉은 만족스러움. 자율출퇴근과 식당이용이 가장 큰 장점</td>\n",
       "    </tr>\n",
       "    <tr>\n",
       "      <th>127</th>\n",
       "      <td>안정적인 대기업 야근수당 보장 및 식대 및 복지는 매우 좋다</td>\n",
       "    </tr>\n",
       "    <tr>\n",
       "      <th>128</th>\n",
       "      <td>전반적으로 안정적이고 회사가 성장한다는 느낌이 있다</td>\n",
       "    </tr>\n",
       "    <tr>\n",
       "      <th>129</th>\n",
       "      <td>월급이 높고 회사 분위기가 다른 기업과 비교가 불가능함.</td>\n",
       "    </tr>\n",
       "    <tr>\n",
       "      <th>130</th>\n",
       "      <td>보너스 굿!! 연차 사용 자유롭고 출퇴근도 자율</td>\n",
       "    </tr>\n",
       "  </tbody>\n",
       "</table>\n",
       "</div>"
      ],
      "text/plain": [
       "                                  긍정적 평가\n",
       "126  복지와 연봉은 만족스러움. 자율출퇴근과 식당이용이 가장 큰 장점\n",
       "127    안정적인 대기업 야근수당 보장 및 식대 및 복지는 매우 좋다\n",
       "128         전반적으로 안정적이고 회사가 성장한다는 느낌이 있다\n",
       "129      월급이 높고 회사 분위기가 다른 기업과 비교가 불가능함.\n",
       "130           보너스 굿!! 연차 사용 자유롭고 출퇴근도 자율"
      ]
     },
     "execution_count": 37,
     "metadata": {},
     "output_type": "execute_result"
    }
   ],
   "source": [
    "good_df.tail()"
   ]
  },
  {
   "cell_type": "code",
   "execution_count": 38,
   "metadata": {},
   "outputs": [
    {
     "data": {
      "text/html": [
       "<div>\n",
       "<style scoped>\n",
       "    .dataframe tbody tr th:only-of-type {\n",
       "        vertical-align: middle;\n",
       "    }\n",
       "\n",
       "    .dataframe tbody tr th {\n",
       "        vertical-align: top;\n",
       "    }\n",
       "\n",
       "    .dataframe thead th {\n",
       "        text-align: right;\n",
       "    }\n",
       "</style>\n",
       "<table border=\"1\" class=\"dataframe\">\n",
       "  <thead>\n",
       "    <tr style=\"text-align: right;\">\n",
       "      <th></th>\n",
       "      <th>부정적 평가</th>\n",
       "    </tr>\n",
       "  </thead>\n",
       "  <tbody>\n",
       "    <tr>\n",
       "      <th>126</th>\n",
       "      <td>성과급 변동이 심해서 예측하기 어려움. 성과급을 제외한 연봉은 일반적인 대기업 수준</td>\n",
       "    </tr>\n",
       "    <tr>\n",
       "      <th>127</th>\n",
       "      <td>단기적 성과를 추구하는 경향으로 인해 직원 개개인의 커리어패스는 경시되는 경향이 있다</td>\n",
       "    </tr>\n",
       "    <tr>\n",
       "      <th>128</th>\n",
       "      <td>너무 큰 회사이다보니 관료주의적이고 보수적이다</td>\n",
       "    </tr>\n",
       "    <tr>\n",
       "      <th>129</th>\n",
       "      <td>재직하면서 느낀거 중에 별도로 나쁜 점은 없는거 같음.</td>\n",
       "    </tr>\n",
       "    <tr>\n",
       "      <th>130</th>\n",
       "      <td>관리가 심하고 보고문화가 지나치게 심하다..</td>\n",
       "    </tr>\n",
       "  </tbody>\n",
       "</table>\n",
       "</div>"
      ],
      "text/plain": [
       "                                              부정적 평가\n",
       "126   성과급 변동이 심해서 예측하기 어려움. 성과급을 제외한 연봉은 일반적인 대기업 수준\n",
       "127  단기적 성과를 추구하는 경향으로 인해 직원 개개인의 커리어패스는 경시되는 경향이 있다\n",
       "128                        너무 큰 회사이다보니 관료주의적이고 보수적이다\n",
       "129                   재직하면서 느낀거 중에 별도로 나쁜 점은 없는거 같음.\n",
       "130                         관리가 심하고 보고문화가 지나치게 심하다.."
      ]
     },
     "execution_count": 38,
     "metadata": {},
     "output_type": "execute_result"
    }
   ],
   "source": [
    "bad_df.tail()"
   ]
  },
  {
   "cell_type": "code",
   "execution_count": 40,
   "metadata": {},
   "outputs": [
    {
     "data": {
      "text/html": [
       "<div>\n",
       "<style scoped>\n",
       "    .dataframe tbody tr th:only-of-type {\n",
       "        vertical-align: middle;\n",
       "    }\n",
       "\n",
       "    .dataframe tbody tr th {\n",
       "        vertical-align: top;\n",
       "    }\n",
       "\n",
       "    .dataframe thead th {\n",
       "        text-align: right;\n",
       "    }\n",
       "</style>\n",
       "<table border=\"1\" class=\"dataframe\">\n",
       "  <thead>\n",
       "    <tr style=\"text-align: right;\">\n",
       "      <th></th>\n",
       "      <th>긍정적 평가</th>\n",
       "      <th>부정적 평가</th>\n",
       "    </tr>\n",
       "  </thead>\n",
       "  <tbody>\n",
       "    <tr>\n",
       "      <th>0</th>\n",
       "      <td>눈치 안보고 연차 사용가능 복지가 매우 좋다 헬스장 샤워실 등등</td>\n",
       "      <td>위치 빼고 없다 역시 갓기업이다 너무 마음에 듭니다 갓삼성</td>\n",
       "    </tr>\n",
       "    <tr>\n",
       "      <th>1</th>\n",
       "      <td>고용안정성이 좋다. 사람이 많아 업무 진행이 수월하다.</td>\n",
       "      <td>부바부가 심하고 경력전환의 기회가 적다. 최근에는 조직문화와 관련한 갈등이 많다</td>\n",
       "    </tr>\n",
       "    <tr>\n",
       "      <th>2</th>\n",
       "      <td>어디가서 이회사 다녀요 말할만함 부모님이 좋아하심 완전 개인근무</td>\n",
       "      <td>대기업 치고 돈 조금준다 ㅠㅠ 이거 말곤 딱히 없는듯 경영진이 맘에 안듦</td>\n",
       "    </tr>\n",
       "    <tr>\n",
       "      <th>3</th>\n",
       "      <td>눈치 볼 필요없이 칼퇴가 가능하다, 보너스를 많이 주는 편이다.</td>\n",
       "      <td>서울에서 출퇴근시간이 오래 걸린다. 바쁠 땐 엄청 바쁘다,</td>\n",
       "    </tr>\n",
       "    <tr>\n",
       "      <th>4</th>\n",
       "      <td>밥 3끼, 출퇴근 버스가 생각보다 큰 장점. 교육 자기계발 지원이 많음. 대형 칩메...</td>\n",
       "      <td>자유롭지 못한 조직문화. 보고를 위한 보고. 사내정치 매우 강함</td>\n",
       "    </tr>\n",
       "    <tr>\n",
       "      <th>...</th>\n",
       "      <td>...</td>\n",
       "      <td>...</td>\n",
       "    </tr>\n",
       "    <tr>\n",
       "      <th>126</th>\n",
       "      <td>복지와 연봉은 만족스러움. 자율출퇴근과 식당이용이 가장 큰 장점</td>\n",
       "      <td>성과급 변동이 심해서 예측하기 어려움. 성과급을 제외한 연봉은 일반적인 대기업 수준</td>\n",
       "    </tr>\n",
       "    <tr>\n",
       "      <th>127</th>\n",
       "      <td>안정적인 대기업 야근수당 보장 및 식대 및 복지는 매우 좋다</td>\n",
       "      <td>단기적 성과를 추구하는 경향으로 인해 직원 개개인의 커리어패스는 경시되는 경향이 있다</td>\n",
       "    </tr>\n",
       "    <tr>\n",
       "      <th>128</th>\n",
       "      <td>전반적으로 안정적이고 회사가 성장한다는 느낌이 있다</td>\n",
       "      <td>너무 큰 회사이다보니 관료주의적이고 보수적이다</td>\n",
       "    </tr>\n",
       "    <tr>\n",
       "      <th>129</th>\n",
       "      <td>월급이 높고 회사 분위기가 다른 기업과 비교가 불가능함.</td>\n",
       "      <td>재직하면서 느낀거 중에 별도로 나쁜 점은 없는거 같음.</td>\n",
       "    </tr>\n",
       "    <tr>\n",
       "      <th>130</th>\n",
       "      <td>보너스 굿!! 연차 사용 자유롭고 출퇴근도 자율</td>\n",
       "      <td>관리가 심하고 보고문화가 지나치게 심하다..</td>\n",
       "    </tr>\n",
       "  </tbody>\n",
       "</table>\n",
       "<p>131 rows × 2 columns</p>\n",
       "</div>"
      ],
      "text/plain": [
       "                                                긍정적 평가   \n",
       "0                  눈치 안보고 연차 사용가능 복지가 매우 좋다 헬스장 샤워실 등등  \\\n",
       "1                       고용안정성이 좋다. 사람이 많아 업무 진행이 수월하다.   \n",
       "2                  어디가서 이회사 다녀요 말할만함 부모님이 좋아하심 완전 개인근무   \n",
       "3                  눈치 볼 필요없이 칼퇴가 가능하다, 보너스를 많이 주는 편이다.   \n",
       "4    밥 3끼, 출퇴근 버스가 생각보다 큰 장점. 교육 자기계발 지원이 많음. 대형 칩메...   \n",
       "..                                                 ...   \n",
       "126                복지와 연봉은 만족스러움. 자율출퇴근과 식당이용이 가장 큰 장점   \n",
       "127                  안정적인 대기업 야근수당 보장 및 식대 및 복지는 매우 좋다   \n",
       "128                       전반적으로 안정적이고 회사가 성장한다는 느낌이 있다   \n",
       "129                    월급이 높고 회사 분위기가 다른 기업과 비교가 불가능함.   \n",
       "130                         보너스 굿!! 연차 사용 자유롭고 출퇴근도 자율   \n",
       "\n",
       "                                              부정적 평가  \n",
       "0                   위치 빼고 없다 역시 갓기업이다 너무 마음에 듭니다 갓삼성  \n",
       "1       부바부가 심하고 경력전환의 기회가 적다. 최근에는 조직문화와 관련한 갈등이 많다  \n",
       "2           대기업 치고 돈 조금준다 ㅠㅠ 이거 말곤 딱히 없는듯 경영진이 맘에 안듦  \n",
       "3                   서울에서 출퇴근시간이 오래 걸린다. 바쁠 땐 엄청 바쁘다,  \n",
       "4                자유롭지 못한 조직문화. 보고를 위한 보고. 사내정치 매우 강함  \n",
       "..                                               ...  \n",
       "126   성과급 변동이 심해서 예측하기 어려움. 성과급을 제외한 연봉은 일반적인 대기업 수준  \n",
       "127  단기적 성과를 추구하는 경향으로 인해 직원 개개인의 커리어패스는 경시되는 경향이 있다  \n",
       "128                        너무 큰 회사이다보니 관료주의적이고 보수적이다  \n",
       "129                   재직하면서 느낀거 중에 별도로 나쁜 점은 없는거 같음.  \n",
       "130                         관리가 심하고 보고문화가 지나치게 심하다..  \n",
       "\n",
       "[131 rows x 2 columns]"
      ]
     },
     "execution_count": 40,
     "metadata": {},
     "output_type": "execute_result"
    }
   ],
   "source": [
    "pros_cons = good_df.join(bad_df)\n",
    "pros_cons"
   ]
  },
  {
   "cell_type": "code",
   "execution_count": null,
   "metadata": {},
   "outputs": [],
   "source": [
    "# 2023-07-04 21:00 commit"
   ]
  }
 ],
 "metadata": {
  "kernelspec": {
   "display_name": "ezpz",
   "language": "python",
   "name": "python3"
  },
  "language_info": {
   "codemirror_mode": {
    "name": "ipython",
    "version": 3
   },
   "file_extension": ".py",
   "mimetype": "text/x-python",
   "name": "python",
   "nbconvert_exporter": "python",
   "pygments_lexer": "ipython3",
   "version": "3.10.11"
  },
  "orig_nbformat": 4
 },
 "nbformat": 4,
 "nbformat_minor": 2
}
