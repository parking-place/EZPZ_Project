{
 "cells": [
  {
   "cell_type": "code",
   "execution_count": 17,
   "metadata": {},
   "outputs": [
    {
     "name": "stdout",
     "output_type": "stream",
     "text": [
      "Requirement already satisfied: pandas in c:\\users\\playdata\\anaconda3\\envs\\ezpz\\lib\\site-packages (2.0.1)\n",
      "Requirement already satisfied: pytz>=2020.1 in c:\\users\\playdata\\anaconda3\\envs\\ezpz\\lib\\site-packages (from pandas) (2023.3)\n",
      "Requirement already satisfied: numpy>=1.21.0 in c:\\users\\playdata\\anaconda3\\envs\\ezpz\\lib\\site-packages (from pandas) (1.24.3)\n",
      "Requirement already satisfied: python-dateutil>=2.8.2 in c:\\users\\playdata\\anaconda3\\envs\\ezpz\\lib\\site-packages (from pandas) (2.8.2)\n",
      "Requirement already satisfied: tzdata>=2022.1 in c:\\users\\playdata\\anaconda3\\envs\\ezpz\\lib\\site-packages (from pandas) (2023.3)\n",
      "Requirement already satisfied: six>=1.5 in c:\\users\\playdata\\anaconda3\\envs\\ezpz\\lib\\site-packages (from python-dateutil>=2.8.2->pandas) (1.16.0)\n",
      "Requirement already satisfied: BeautifulSoup4 in c:\\users\\playdata\\anaconda3\\envs\\ezpz\\lib\\site-packages (4.12.2)\n",
      "Requirement already satisfied: soupsieve>1.2 in c:\\users\\playdata\\anaconda3\\envs\\ezpz\\lib\\site-packages (from BeautifulSoup4) (2.4.1)\n",
      "Requirement already satisfied: selenium in c:\\users\\playdata\\anaconda3\\envs\\ezpz\\lib\\site-packages (4.10.0)\n",
      "Requirement already satisfied: trio~=0.17 in c:\\users\\playdata\\anaconda3\\envs\\ezpz\\lib\\site-packages (from selenium) (0.22.1)\n",
      "Requirement already satisfied: trio-websocket~=0.9 in c:\\users\\playdata\\anaconda3\\envs\\ezpz\\lib\\site-packages (from selenium) (0.10.3)\n",
      "Requirement already satisfied: certifi>=2021.10.8 in c:\\users\\playdata\\anaconda3\\envs\\ezpz\\lib\\site-packages (from selenium) (2023.5.7)\n",
      "Requirement already satisfied: urllib3[socks]<3,>=1.26 in c:\\users\\playdata\\anaconda3\\envs\\ezpz\\lib\\site-packages (from selenium) (1.26.14)\n",
      "Requirement already satisfied: sniffio in c:\\users\\playdata\\anaconda3\\envs\\ezpz\\lib\\site-packages (from trio~=0.17->selenium) (1.3.0)\n",
      "Requirement already satisfied: exceptiongroup>=1.0.0rc9 in c:\\users\\playdata\\anaconda3\\envs\\ezpz\\lib\\site-packages (from trio~=0.17->selenium) (1.1.2)\n",
      "Requirement already satisfied: idna in c:\\users\\playdata\\anaconda3\\envs\\ezpz\\lib\\site-packages (from trio~=0.17->selenium) (3.4)\n",
      "Requirement already satisfied: sortedcontainers in c:\\users\\playdata\\anaconda3\\envs\\ezpz\\lib\\site-packages (from trio~=0.17->selenium) (2.4.0)\n",
      "Requirement already satisfied: outcome in c:\\users\\playdata\\anaconda3\\envs\\ezpz\\lib\\site-packages (from trio~=0.17->selenium) (1.2.0)\n",
      "Requirement already satisfied: cffi>=1.14 in c:\\users\\playdata\\anaconda3\\envs\\ezpz\\lib\\site-packages (from trio~=0.17->selenium) (1.15.1)\n",
      "Requirement already satisfied: attrs>=20.1.0 in c:\\users\\playdata\\anaconda3\\envs\\ezpz\\lib\\site-packages (from trio~=0.17->selenium) (23.1.0)\n",
      "Requirement already satisfied: wsproto>=0.14 in c:\\users\\playdata\\anaconda3\\envs\\ezpz\\lib\\site-packages (from trio-websocket~=0.9->selenium) (1.2.0)\n",
      "Requirement already satisfied: PySocks!=1.5.7,<2.0,>=1.5.6 in c:\\users\\playdata\\anaconda3\\envs\\ezpz\\lib\\site-packages (from urllib3[socks]<3,>=1.26->selenium) (1.7.1)\n",
      "Requirement already satisfied: pycparser in c:\\users\\playdata\\anaconda3\\envs\\ezpz\\lib\\site-packages (from cffi>=1.14->trio~=0.17->selenium) (2.21)\n",
      "Requirement already satisfied: h11<1,>=0.9.0 in c:\\users\\playdata\\anaconda3\\envs\\ezpz\\lib\\site-packages (from wsproto>=0.14->trio-websocket~=0.9->selenium) (0.14.0)\n",
      "Requirement already satisfied: selenium in c:\\users\\playdata\\anaconda3\\envs\\ezpz\\lib\\site-packages (4.10.0)\n",
      "Requirement already satisfied: trio~=0.17 in c:\\users\\playdata\\anaconda3\\envs\\ezpz\\lib\\site-packages (from selenium) (0.22.1)\n",
      "Requirement already satisfied: trio-websocket~=0.9 in c:\\users\\playdata\\anaconda3\\envs\\ezpz\\lib\\site-packages (from selenium) (0.10.3)\n",
      "Requirement already satisfied: urllib3[socks]<3,>=1.26 in c:\\users\\playdata\\anaconda3\\envs\\ezpz\\lib\\site-packages (from selenium) (1.26.14)\n",
      "Requirement already satisfied: certifi>=2021.10.8 in c:\\users\\playdata\\anaconda3\\envs\\ezpz\\lib\\site-packages (from selenium) (2023.5.7)\n",
      "Requirement already satisfied: idna in c:\\users\\playdata\\anaconda3\\envs\\ezpz\\lib\\site-packages (from trio~=0.17->selenium) (3.4)\n",
      "Requirement already satisfied: attrs>=20.1.0 in c:\\users\\playdata\\anaconda3\\envs\\ezpz\\lib\\site-packages (from trio~=0.17->selenium) (23.1.0)\n",
      "Requirement already satisfied: sortedcontainers in c:\\users\\playdata\\anaconda3\\envs\\ezpz\\lib\\site-packages (from trio~=0.17->selenium) (2.4.0)\n",
      "Requirement already satisfied: cffi>=1.14 in c:\\users\\playdata\\anaconda3\\envs\\ezpz\\lib\\site-packages (from trio~=0.17->selenium) (1.15.1)\n",
      "Requirement already satisfied: exceptiongroup>=1.0.0rc9 in c:\\users\\playdata\\anaconda3\\envs\\ezpz\\lib\\site-packages (from trio~=0.17->selenium) (1.1.2)\n",
      "Requirement already satisfied: sniffio in c:\\users\\playdata\\anaconda3\\envs\\ezpz\\lib\\site-packages (from trio~=0.17->selenium) (1.3.0)\n",
      "Requirement already satisfied: outcome in c:\\users\\playdata\\anaconda3\\envs\\ezpz\\lib\\site-packages (from trio~=0.17->selenium) (1.2.0)\n",
      "Requirement already satisfied: wsproto>=0.14 in c:\\users\\playdata\\anaconda3\\envs\\ezpz\\lib\\site-packages (from trio-websocket~=0.9->selenium) (1.2.0)\n",
      "Requirement already satisfied: PySocks!=1.5.7,<2.0,>=1.5.6 in c:\\users\\playdata\\anaconda3\\envs\\ezpz\\lib\\site-packages (from urllib3[socks]<3,>=1.26->selenium) (1.7.1)\n",
      "Requirement already satisfied: pycparser in c:\\users\\playdata\\anaconda3\\envs\\ezpz\\lib\\site-packages (from cffi>=1.14->trio~=0.17->selenium) (2.21)\n",
      "Requirement already satisfied: h11<1,>=0.9.0 in c:\\users\\playdata\\anaconda3\\envs\\ezpz\\lib\\site-packages (from wsproto>=0.14->trio-websocket~=0.9->selenium) (0.14.0)\n",
      "Requirement already satisfied: webdriver-manager in c:\\users\\playdata\\anaconda3\\envs\\ezpz\\lib\\site-packages (3.8.6)\n",
      "Requirement already satisfied: tqdm in c:\\users\\playdata\\anaconda3\\envs\\ezpz\\lib\\site-packages (from webdriver-manager) (4.65.0)\n",
      "Requirement already satisfied: requests in c:\\users\\playdata\\anaconda3\\envs\\ezpz\\lib\\site-packages (from webdriver-manager) (2.28.1)\n",
      "Requirement already satisfied: packaging in c:\\users\\playdata\\anaconda3\\envs\\ezpz\\lib\\site-packages (from webdriver-manager) (23.1)\n",
      "Requirement already satisfied: python-dotenv in c:\\users\\playdata\\anaconda3\\envs\\ezpz\\lib\\site-packages (from webdriver-manager) (1.0.0)\n",
      "Requirement already satisfied: certifi>=2017.4.17 in c:\\users\\playdata\\anaconda3\\envs\\ezpz\\lib\\site-packages (from requests->webdriver-manager) (2023.5.7)\n",
      "Requirement already satisfied: idna<4,>=2.5 in c:\\users\\playdata\\anaconda3\\envs\\ezpz\\lib\\site-packages (from requests->webdriver-manager) (3.4)\n",
      "Requirement already satisfied: urllib3<1.27,>=1.21.1 in c:\\users\\playdata\\anaconda3\\envs\\ezpz\\lib\\site-packages (from requests->webdriver-manager) (1.26.14)\n",
      "Requirement already satisfied: charset-normalizer<3,>=2 in c:\\users\\playdata\\anaconda3\\envs\\ezpz\\lib\\site-packages (from requests->webdriver-manager) (2.0.4)\n",
      "Requirement already satisfied: colorama in c:\\users\\playdata\\anaconda3\\envs\\ezpz\\lib\\site-packages (from tqdm->webdriver-manager) (0.4.6)\n"
     ]
    }
   ],
   "source": [
    "!pip install pandas\n",
    "\n",
    "!pip install BeautifulSoup4\n",
    "!pip install selenium\n",
    "!pip install selenium --upgrade\n",
    "!pip install webdriver-manager"
   ]
  },
  {
   "cell_type": "code",
   "execution_count": 76,
   "metadata": {},
   "outputs": [],
   "source": [
    "import os\n",
    "from datetime import datetime\n",
    "import time\n",
    "import requests\n",
    "import re\n",
    "\n",
    "import pandas as pd\n",
    "\n",
    "from bs4 import BeautifulSoup\n",
    "\n",
    "import selenium\n",
    "\n",
    "\n",
    "from selenium.webdriver.chrome.service import Service\n",
    "from selenium import webdriver\n",
    "from webdriver_manager.chrome import ChromeDriverManager\n",
    "\n",
    "from selenium.webdriver.common.by import By\n",
    "from selenium.webdriver.common.keys import Keys\n",
    "from selenium.webdriver.support.select import Select\n"
   ]
  },
  {
   "cell_type": "code",
   "execution_count": 129,
   "metadata": {},
   "outputs": [
    {
     "name": "stdout",
     "output_type": "stream",
     "text": [
      "{'width': 1552, 'height': 832}\n"
     ]
    }
   ],
   "source": [
    "# headless 모드를 위해 아래 3줄의 주석을 풀어주세요.\n",
    "\n",
    "# option = webdriver.ChromeOptions()\n",
    "# option.add_argument(\"--headless\")\n",
    "\n",
    "service = Service(executable_path='chromedriver.exe')\n",
    "browser = webdriver.Chrome(service=service) #, options=option)\n",
    "\n",
    "url = r\"https://www.catch.co.kr/\"\n",
    "\n",
    "browser.maximize_window()\n",
    "print(browser.get_window_size())\n",
    "\n",
    "browser.get(url)"
   ]
  },
  {
   "cell_type": "code",
   "execution_count": 130,
   "metadata": {},
   "outputs": [],
   "source": [
    "from accounts import ct\n",
    "\n",
    "ID = ct.ID\n",
    "PW = ct.PW"
   ]
  },
  {
   "cell_type": "code",
   "execution_count": 131,
   "metadata": {},
   "outputs": [],
   "source": [
    "# 로그인\n",
    "\n",
    "browser.find_element(By.CSS_SELECTOR, \"a.login\").click()\n",
    "\n",
    "browser.find_element(By.CSS_SELECTOR, \"input#id_login\").send_keys(ID)\n",
    "time.sleep(1)\n",
    "browser.find_element(By.CSS_SELECTOR, \"input#pw_login\").send_keys(PW)\n",
    "\n",
    "browser.find_element(By.CSS_SELECTOR, \"input#pw_login\").send_keys(Keys.ENTER)"
   ]
  },
  {
   "cell_type": "code",
   "execution_count": 177,
   "metadata": {},
   "outputs": [],
   "source": [
    "# 기업 검색 (input)\n",
    "query = browser.find_element(By.CSS_SELECTOR, \"input\")\n",
    "\n",
    "query.send_keys(input(\"리뷰 확인하기: \"))\n",
    "query.send_keys(Keys.ENTER)"
   ]
  },
  {
   "cell_type": "code",
   "execution_count": 133,
   "metadata": {},
   "outputs": [],
   "source": [
    "### 팝업 뜨면 끄기 (예외 처리)\n",
    "\n",
    "try : \n",
    "    browser.find_element(By.XPATH, r'//*[@id=\"layerInterest4\"]/div/button[2]/span').click()\n",
    "\n",
    "except : \n",
    "    pass"
   ]
  },
  {
   "cell_type": "code",
   "execution_count": 69,
   "metadata": {},
   "outputs": [],
   "source": [
    "### 리뷰가 없어도 예외 처리"
   ]
  },
  {
   "cell_type": "code",
   "execution_count": null,
   "metadata": {},
   "outputs": [],
   "source": [
    "#commentList > div.top > div > "
   ]
  },
  {
   "cell_type": "code",
   "execution_count": null,
   "metadata": {},
   "outputs": [],
   "source": [
    "# 검색한 기업(최상위 노출) 클릭 \n",
    "browser.find_element(By.CSS_SELECTOR, \"p.name > a\").click()\n",
    "time.sleep(2)"
   ]
  },
  {
   "cell_type": "code",
   "execution_count": 182,
   "metadata": {},
   "outputs": [],
   "source": [
    "# '현직자 리뷰' 탭 클릭\n",
    "browser.find_element(By.XPATH, r'//*[@id=\"Contents\"]/div[1]/div[1]/div[2]/ul/li[4]/a').click()\n",
    "time.sleep(2)"
   ]
  },
  {
   "cell_type": "code",
   "execution_count": 183,
   "metadata": {},
   "outputs": [],
   "source": [
    "# 정규직, 비정규직 구분 없이 전부 조회\n",
    "select = Select(browser.find_element(By.CSS_SELECTOR, 'select.select9.ml5'))\n",
    "select.select_by_index(0)\n",
    "time.sleep(1)"
   ]
  },
  {
   "cell_type": "code",
   "execution_count": 185,
   "metadata": {},
   "outputs": [],
   "source": [
    "# 현직자, 퇴사자 구분 없이 전부 조회\n",
    "browser.find_element(By.CSS_SELECTOR, 'div.top > div > span > label').click()\n",
    "time.sleep(1)"
   ]
  },
  {
   "cell_type": "code",
   "execution_count": 186,
   "metadata": {},
   "outputs": [
    {
     "data": {
      "text/plain": [
       "'정치질을 잘 한다면 일을 열심히 할 필요가 없는 회사. 밥 잘나오고 ot 잘 챙겨준다. 짬순으로 정치순으로 진급 가능'"
      ]
     },
     "execution_count": 186,
     "metadata": {},
     "output_type": "execute_result"
    }
   ],
   "source": [
    "# 긍정 리뷰만 조회\n",
    "good_rv = browser.find_element(By.CSS_SELECTOR, \"li:nth-child(1) > p:nth-child(4)\").text\n",
    "good_rv = good_rv.replace(good_rv[:5], \"\").replace('\\n', ' ') \n",
    "good_rv"
   ]
  },
  {
   "cell_type": "code",
   "execution_count": 187,
   "metadata": {},
   "outputs": [
    {
     "data": {
      "text/plain": [
       "'정치질을 못한다면 일이 쏟아지고 무능력하지만 정치질 잘하는 상사와 비례로 뽑힌 여사원들의 업무를 독박으로 받아야 한다. 고여 있어서 최신 기술을 배울 수 없고 재택 근무가 불가능함'"
      ]
     },
     "execution_count": 187,
     "metadata": {},
     "output_type": "execute_result"
    }
   ],
   "source": [
    "# 부정 리뷰만 조회\n",
    "bad_rv = browser.find_element(By.CSS_SELECTOR, \"li:nth-child(1) > p:nth-child(5)\").text\n",
    "bad_rv = bad_rv.replace(bad_rv[:4], \"\").replace('\\n', ' ') \n",
    "bad_rv"
   ]
  },
  {
   "cell_type": "code",
   "execution_count": 188,
   "metadata": {},
   "outputs": [
    {
     "data": {
      "text/html": [
       "<div>\n",
       "<style scoped>\n",
       "    .dataframe tbody tr th:only-of-type {\n",
       "        vertical-align: middle;\n",
       "    }\n",
       "\n",
       "    .dataframe tbody tr th {\n",
       "        vertical-align: top;\n",
       "    }\n",
       "\n",
       "    .dataframe thead th {\n",
       "        text-align: right;\n",
       "    }\n",
       "</style>\n",
       "<table border=\"1\" class=\"dataframe\">\n",
       "  <thead>\n",
       "    <tr style=\"text-align: right;\">\n",
       "      <th></th>\n",
       "      <th>긍정적 평가</th>\n",
       "    </tr>\n",
       "  </thead>\n",
       "  <tbody>\n",
       "    <tr>\n",
       "      <th>0</th>\n",
       "      <td>정치질을 잘 한다면 일을 열심히 할 필요가 없는 회사. 밥 잘나오고 ot 잘 챙겨준...</td>\n",
       "    </tr>\n",
       "  </tbody>\n",
       "</table>\n",
       "</div>"
      ],
      "text/plain": [
       "                                              긍정적 평가\n",
       "0  정치질을 잘 한다면 일을 열심히 할 필요가 없는 회사. 밥 잘나오고 ot 잘 챙겨준..."
      ]
     },
     "execution_count": 188,
     "metadata": {},
     "output_type": "execute_result"
    }
   ],
   "source": [
    "good_df = pd.DataFrame({\"긍정적 평가\" : [good_rv]})\n",
    "good_df"
   ]
  },
  {
   "cell_type": "code",
   "execution_count": 189,
   "metadata": {},
   "outputs": [
    {
     "data": {
      "text/html": [
       "<div>\n",
       "<style scoped>\n",
       "    .dataframe tbody tr th:only-of-type {\n",
       "        vertical-align: middle;\n",
       "    }\n",
       "\n",
       "    .dataframe tbody tr th {\n",
       "        vertical-align: top;\n",
       "    }\n",
       "\n",
       "    .dataframe thead th {\n",
       "        text-align: right;\n",
       "    }\n",
       "</style>\n",
       "<table border=\"1\" class=\"dataframe\">\n",
       "  <thead>\n",
       "    <tr style=\"text-align: right;\">\n",
       "      <th></th>\n",
       "      <th>부정적 평가</th>\n",
       "    </tr>\n",
       "  </thead>\n",
       "  <tbody>\n",
       "    <tr>\n",
       "      <th>0</th>\n",
       "      <td>정치질을 못한다면 일이 쏟아지고 무능력하지만 정치질 잘하는 상사와 비례로 뽑힌 여사...</td>\n",
       "    </tr>\n",
       "  </tbody>\n",
       "</table>\n",
       "</div>"
      ],
      "text/plain": [
       "                                              부정적 평가\n",
       "0  정치질을 못한다면 일이 쏟아지고 무능력하지만 정치질 잘하는 상사와 비례로 뽑힌 여사..."
      ]
     },
     "execution_count": 189,
     "metadata": {},
     "output_type": "execute_result"
    }
   ],
   "source": [
    "bad_df = pd.DataFrame({\"부정적 평가\" : [bad_rv]})\n",
    "bad_df"
   ]
  },
  {
   "cell_type": "code",
   "execution_count": 190,
   "metadata": {},
   "outputs": [
    {
     "data": {
      "text/html": [
       "<div>\n",
       "<style scoped>\n",
       "    .dataframe tbody tr th:only-of-type {\n",
       "        vertical-align: middle;\n",
       "    }\n",
       "\n",
       "    .dataframe tbody tr th {\n",
       "        vertical-align: top;\n",
       "    }\n",
       "\n",
       "    .dataframe thead th {\n",
       "        text-align: right;\n",
       "    }\n",
       "</style>\n",
       "<table border=\"1\" class=\"dataframe\">\n",
       "  <thead>\n",
       "    <tr style=\"text-align: right;\">\n",
       "      <th></th>\n",
       "      <th>긍정적 평가</th>\n",
       "      <th>부정적 평가</th>\n",
       "    </tr>\n",
       "  </thead>\n",
       "  <tbody>\n",
       "    <tr>\n",
       "      <th>0</th>\n",
       "      <td>정치질을 잘 한다면 일을 열심히 할 필요가 없는 회사. 밥 잘나오고 ot 잘 챙겨준...</td>\n",
       "      <td>정치질을 못한다면 일이 쏟아지고 무능력하지만 정치질 잘하는 상사와 비례로 뽑힌 여사...</td>\n",
       "    </tr>\n",
       "  </tbody>\n",
       "</table>\n",
       "</div>"
      ],
      "text/plain": [
       "                                              긍정적 평가   \n",
       "0  정치질을 잘 한다면 일을 열심히 할 필요가 없는 회사. 밥 잘나오고 ot 잘 챙겨준...  \\\n",
       "\n",
       "                                              부정적 평가  \n",
       "0  정치질을 못한다면 일이 쏟아지고 무능력하지만 정치질 잘하는 상사와 비례로 뽑힌 여사...  "
      ]
     },
     "execution_count": 190,
     "metadata": {},
     "output_type": "execute_result"
    }
   ],
   "source": [
    "good_df.join(bad_df)"
   ]
  },
  {
   "cell_type": "code",
   "execution_count": 167,
   "metadata": {},
   "outputs": [],
   "source": [
    "# 한 페이지를 긁어 오는 함수 \n",
    "\n",
    "def pager():\n",
    "\n",
    "    good_lst = []\n",
    "    bad_lst = []\n",
    "\n",
    "    for i in range(1, 5) : \n",
    "\n",
    "        grv = browser.find_element(By.CSS_SELECTOR, f\"li:nth-child({i}) > p:nth-child(4)\").text\n",
    "        brv = browser.find_element(By.CSS_SELECTOR, f\"li:nth-child({i}) > p:nth-child(5)\").text\n",
    "\n",
    "        grv_clean = grv.replace(grv[:5], \"\").replace('\\n', ' ') \n",
    "        brv_clean = brv.replace(brv[:4], \"\").replace('\\n', ' ') \n",
    "\n",
    "        good_lst.append(grv_clean)\n",
    "        bad_lst.append(brv_clean)\n"
   ]
  },
  {
   "cell_type": "code",
   "execution_count": null,
   "metadata": {},
   "outputs": [],
   "source": [
    "#commentList > div.pd_type2 > p > a.ico.next"
   ]
  },
  {
   "cell_type": "code",
   "execution_count": null,
   "metadata": {},
   "outputs": [],
   "source": []
  },
  {
   "cell_type": "code",
   "execution_count": 191,
   "metadata": {},
   "outputs": [
    {
     "ename": "ElementClickInterceptedException",
     "evalue": "Message: element click intercepted: Element <a href=\"javascript:void(0);\" class=\"ico next\">...</a> is not clickable at point (732, 42). Other element would receive the click: <span class=\"btn_interest gtm-comp-common-like btn_interest\">...</span>\n  (Session info: chrome=114.0.5735.199)\nStacktrace:\nBacktrace:\n\tGetHandleVerifier [0x00ECA813+48355]\n\t(No symbol) [0x00E5C4B1]\n\t(No symbol) [0x00D65358]\n\t(No symbol) [0x00D95062]\n\t(No symbol) [0x00D93B98]\n\t(No symbol) [0x00D9239B]\n\t(No symbol) [0x00D9179E]\n\t(No symbol) [0x00D89F5C]\n\t(No symbol) [0x00DAA73C]\n\t(No symbol) [0x00D89A36]\n\t(No symbol) [0x00DAAA94]\n\t(No symbol) [0x00DBC922]\n\t(No symbol) [0x00DAA536]\n\t(No symbol) [0x00D882DC]\n\t(No symbol) [0x00D893DD]\n\tGetHandleVerifier [0x0112AABD+2539405]\n\tGetHandleVerifier [0x0116A78F+2800735]\n\tGetHandleVerifier [0x0116456C+2775612]\n\tGetHandleVerifier [0x00F551E0+616112]\n\t(No symbol) [0x00E65F8C]\n\t(No symbol) [0x00E62328]\n\t(No symbol) [0x00E6240B]\n\t(No symbol) [0x00E54FF7]\n\tBaseThreadInitThunk [0x759F7D59+25]\n\tRtlInitializeExceptionChain [0x76F2B74B+107]\n\tRtlClearBits [0x76F2B6CF+191]\n",
     "output_type": "error",
     "traceback": [
      "\u001b[1;31m---------------------------------------------------------------------------\u001b[0m",
      "\u001b[1;31mElementClickInterceptedException\u001b[0m          Traceback (most recent call last)",
      "Cell \u001b[1;32mIn[191], line 6\u001b[0m\n\u001b[0;32m      3\u001b[0m i \u001b[39m=\u001b[39m \u001b[39m0\u001b[39m \n\u001b[0;32m      5\u001b[0m \u001b[39mwhile\u001b[39;00m i \u001b[39m<\u001b[39m \u001b[39m151\u001b[39m : \n\u001b[1;32m----> 6\u001b[0m     n_btn\u001b[39m.\u001b[39;49mclick()\n\u001b[0;32m      7\u001b[0m     time\u001b[39m.\u001b[39msleep(\u001b[39m3\u001b[39m)\n\u001b[0;32m      8\u001b[0m     i \u001b[39m+\u001b[39m\u001b[39m=\u001b[39m \u001b[39m1\u001b[39m\n",
      "File \u001b[1;32mc:\\Users\\Playdata\\anaconda3\\envs\\ezpz\\lib\\site-packages\\selenium\\webdriver\\remote\\webelement.py:94\u001b[0m, in \u001b[0;36mWebElement.click\u001b[1;34m(self)\u001b[0m\n\u001b[0;32m     92\u001b[0m \u001b[39mdef\u001b[39;00m \u001b[39mclick\u001b[39m(\u001b[39mself\u001b[39m) \u001b[39m-\u001b[39m\u001b[39m>\u001b[39m \u001b[39mNone\u001b[39;00m:\n\u001b[0;32m     93\u001b[0m \u001b[39m    \u001b[39m\u001b[39m\"\"\"Clicks the element.\"\"\"\u001b[39;00m\n\u001b[1;32m---> 94\u001b[0m     \u001b[39mself\u001b[39;49m\u001b[39m.\u001b[39;49m_execute(Command\u001b[39m.\u001b[39;49mCLICK_ELEMENT)\n",
      "File \u001b[1;32mc:\\Users\\Playdata\\anaconda3\\envs\\ezpz\\lib\\site-packages\\selenium\\webdriver\\remote\\webelement.py:395\u001b[0m, in \u001b[0;36mWebElement._execute\u001b[1;34m(self, command, params)\u001b[0m\n\u001b[0;32m    393\u001b[0m     params \u001b[39m=\u001b[39m {}\n\u001b[0;32m    394\u001b[0m params[\u001b[39m\"\u001b[39m\u001b[39mid\u001b[39m\u001b[39m\"\u001b[39m] \u001b[39m=\u001b[39m \u001b[39mself\u001b[39m\u001b[39m.\u001b[39m_id\n\u001b[1;32m--> 395\u001b[0m \u001b[39mreturn\u001b[39;00m \u001b[39mself\u001b[39;49m\u001b[39m.\u001b[39;49m_parent\u001b[39m.\u001b[39;49mexecute(command, params)\n",
      "File \u001b[1;32mc:\\Users\\Playdata\\anaconda3\\envs\\ezpz\\lib\\site-packages\\selenium\\webdriver\\remote\\webdriver.py:346\u001b[0m, in \u001b[0;36mWebDriver.execute\u001b[1;34m(self, driver_command, params)\u001b[0m\n\u001b[0;32m    344\u001b[0m response \u001b[39m=\u001b[39m \u001b[39mself\u001b[39m\u001b[39m.\u001b[39mcommand_executor\u001b[39m.\u001b[39mexecute(driver_command, params)\n\u001b[0;32m    345\u001b[0m \u001b[39mif\u001b[39;00m response:\n\u001b[1;32m--> 346\u001b[0m     \u001b[39mself\u001b[39;49m\u001b[39m.\u001b[39;49merror_handler\u001b[39m.\u001b[39;49mcheck_response(response)\n\u001b[0;32m    347\u001b[0m     response[\u001b[39m\"\u001b[39m\u001b[39mvalue\u001b[39m\u001b[39m\"\u001b[39m] \u001b[39m=\u001b[39m \u001b[39mself\u001b[39m\u001b[39m.\u001b[39m_unwrap_value(response\u001b[39m.\u001b[39mget(\u001b[39m\"\u001b[39m\u001b[39mvalue\u001b[39m\u001b[39m\"\u001b[39m, \u001b[39mNone\u001b[39;00m))\n\u001b[0;32m    348\u001b[0m     \u001b[39mreturn\u001b[39;00m response\n",
      "File \u001b[1;32mc:\\Users\\Playdata\\anaconda3\\envs\\ezpz\\lib\\site-packages\\selenium\\webdriver\\remote\\errorhandler.py:245\u001b[0m, in \u001b[0;36mErrorHandler.check_response\u001b[1;34m(self, response)\u001b[0m\n\u001b[0;32m    243\u001b[0m         alert_text \u001b[39m=\u001b[39m value[\u001b[39m\"\u001b[39m\u001b[39malert\u001b[39m\u001b[39m\"\u001b[39m]\u001b[39m.\u001b[39mget(\u001b[39m\"\u001b[39m\u001b[39mtext\u001b[39m\u001b[39m\"\u001b[39m)\n\u001b[0;32m    244\u001b[0m     \u001b[39mraise\u001b[39;00m exception_class(message, screen, stacktrace, alert_text)  \u001b[39m# type: ignore[call-arg]  # mypy is not smart enough here\u001b[39;00m\n\u001b[1;32m--> 245\u001b[0m \u001b[39mraise\u001b[39;00m exception_class(message, screen, stacktrace)\n",
      "\u001b[1;31mElementClickInterceptedException\u001b[0m: Message: element click intercepted: Element <a href=\"javascript:void(0);\" class=\"ico next\">...</a> is not clickable at point (732, 42). Other element would receive the click: <span class=\"btn_interest gtm-comp-common-like btn_interest\">...</span>\n  (Session info: chrome=114.0.5735.199)\nStacktrace:\nBacktrace:\n\tGetHandleVerifier [0x00ECA813+48355]\n\t(No symbol) [0x00E5C4B1]\n\t(No symbol) [0x00D65358]\n\t(No symbol) [0x00D95062]\n\t(No symbol) [0x00D93B98]\n\t(No symbol) [0x00D9239B]\n\t(No symbol) [0x00D9179E]\n\t(No symbol) [0x00D89F5C]\n\t(No symbol) [0x00DAA73C]\n\t(No symbol) [0x00D89A36]\n\t(No symbol) [0x00DAAA94]\n\t(No symbol) [0x00DBC922]\n\t(No symbol) [0x00DAA536]\n\t(No symbol) [0x00D882DC]\n\t(No symbol) [0x00D893DD]\n\tGetHandleVerifier [0x0112AABD+2539405]\n\tGetHandleVerifier [0x0116A78F+2800735]\n\tGetHandleVerifier [0x0116456C+2775612]\n\tGetHandleVerifier [0x00F551E0+616112]\n\t(No symbol) [0x00E65F8C]\n\t(No symbol) [0x00E62328]\n\t(No symbol) [0x00E6240B]\n\t(No symbol) [0x00E54FF7]\n\tBaseThreadInitThunk [0x759F7D59+25]\n\tRtlInitializeExceptionChain [0x76F2B74B+107]\n\tRtlClearBits [0x76F2B6CF+191]\n"
     ]
    }
   ],
   "source": [
    "n_btn = browser.find_element(By.CSS_SELECTOR, 'a.ico.next')\n",
    "\n",
    "i = 0 \n",
    "\n",
    "while i < 151 : \n",
    "    n_btn.click()\n",
    "    time.sleep(2)\n",
    "    i += 1\n",
    "\n",
    "    if i == 150 :\n",
    "        break"
   ]
  },
  {
   "cell_type": "code",
   "execution_count": 119,
   "metadata": {},
   "outputs": [
    {
     "data": {
      "text/plain": [
       "['복지가 정말 좋다 밥이 정말 맛있다 밥이 최고의 복지임',\n",
       " '휴가를 눈치 보지 않고 정말 자유롭게 사용 가능, 사내 복지 시설이 너무 좋다. 구내 식당도 최고다,',\n",
       " '밥 맛있고, 출근 시간 유연하고, 복지좋고, 팀바팀이지만 팀분위기 좋았고, 워크샵 통해서 부원들과 많이 친해질 수 있음',\n",
       " '진리의 부바부 팀바팀. 잘만났다면 어지간해서 눈치안보고 편하게 다닐 수 있음']"
      ]
     },
     "execution_count": 119,
     "metadata": {},
     "output_type": "execute_result"
    }
   ],
   "source": [
    "good_lst"
   ]
  },
  {
   "cell_type": "code",
   "execution_count": 113,
   "metadata": {},
   "outputs": [
    {
     "data": {
      "text/plain": [
       "['팀바팀이 너무 강한 회사라고 생각됨 경영진에 대한 불만이 많은 곳임',\n",
       " '어느 회사나 마찬가지겠지만 라인이 있다. 아닌듯 하지만 팀 내 실권자를 잘 따라야 하는 분위기다.',\n",
       " '체계가 없다. 매우 비효율적으로 일을 시킨다. 유의미한 작업인 지 모르겠다, 반복적으로 같은 내용을 한 느낌이다.',\n",
       " '정치질이 상당해서 잘못걸린 경우 빠른 퇴사가 정답인 경우가 많다']"
      ]
     },
     "execution_count": 113,
     "metadata": {},
     "output_type": "execute_result"
    }
   ],
   "source": [
    "bad_lst"
   ]
  },
  {
   "cell_type": "code",
   "execution_count": 112,
   "metadata": {},
   "outputs": [
    {
     "ename": "SyntaxError",
     "evalue": "expected 'except' or 'finally' block (2022631482.py, line 8)",
     "output_type": "error",
     "traceback": [
      "\u001b[1;36m  Cell \u001b[1;32mIn[112], line 8\u001b[1;36m\u001b[0m\n\u001b[1;33m    while :\u001b[0m\n\u001b[1;37m    ^\u001b[0m\n\u001b[1;31mSyntaxError\u001b[0m\u001b[1;31m:\u001b[0m expected 'except' or 'finally' block\n"
     ]
    }
   ],
   "source": [
    "n_btn = 'div.pd_type2 > p > a.ico.next'\n",
    "\n",
    "i = 0\n",
    "\n",
    "try : \n",
    "    n_btn.click()\n",
    "\n",
    "while : \n",
    "    n_btn = browser.find_element(By.CSS_SELECTOR, f\"li:nth-child({i}) > p:nth-child(5)\")\n",
    "\n",
    "    "
   ]
  },
  {
   "cell_type": "code",
   "execution_count": null,
   "metadata": {},
   "outputs": [],
   "source": []
  },
  {
   "cell_type": "code",
   "execution_count": null,
   "metadata": {},
   "outputs": [],
   "source": []
  }
 ],
 "metadata": {
  "kernelspec": {
   "display_name": "ezpz",
   "language": "python",
   "name": "python3"
  },
  "language_info": {
   "codemirror_mode": {
    "name": "ipython",
    "version": 3
   },
   "file_extension": ".py",
   "mimetype": "text/x-python",
   "name": "python",
   "nbconvert_exporter": "python",
   "pygments_lexer": "ipython3",
   "version": "3.10.11"
  },
  "orig_nbformat": 4
 },
 "nbformat": 4,
 "nbformat_minor": 2
}
