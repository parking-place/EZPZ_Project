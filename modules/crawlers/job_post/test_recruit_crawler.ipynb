{
 "cells": [
  {
   "cell_type": "markdown",
   "metadata": {},
   "source": [
    "# CSS selector\n",
    "## 원티드\n",
    "- recruit_position : `.JobHeader_className__HttDA h2`\n",
    "- is_hiring : `button.ApplyBtn_button__BT821`\n",
    "- recruit_thumb : `.JobImage_JobImage__slide__w4mSW img`\n",
    "- recruit_url \n",
    "\n",
    "## 사람인\n",
    "- recruit_position : `.tit_job`(문장형)\n",
    "- is_hiring : `.wrap_jv_header .btn_apply a` 첫번째거.\n",
    "\t- 홈페이지 지원 : `.sri_btn_homepage_apply`\n",
    "\t- 일반 지원 : `.sri_btn_immediately`\n",
    "\t- 마감됨 : `.sri_btn_expired_apply`\n",
    "- recruit_thumb : X\n",
    "- recruit_url \n",
    "\n",
    "## 잡코리아\n",
    "- recruit_position : `div.recruitment > table td.header`\n",
    "- is_hiring : `div.sumBtn button` \"title\" attribute\n",
    "- recruit_thumb : X\n",
    "- recruit_url "
   ]
  },
  {
   "cell_type": "code",
   "execution_count": 14,
   "metadata": {},
   "outputs": [],
   "source": [
    "import requests as req\n",
    "from bs4 import BeautifulSoup as bs"
   ]
  },
  {
   "cell_type": "code",
   "execution_count": 15,
   "metadata": {},
   "outputs": [],
   "source": [
    "keyword = '무신사'\n",
    "\n",
    "V_AGENT = 'Mozilla/5.0 (Windows NT 10.0; Win64; x64) AppleWebKit/537.36 (KHTML, like Gecko) Chrome/114.0.0.0 Safari/537.36'\n",
    "SAVE_PATH = './datas/recruit'"
   ]
  },
  {
   "cell_type": "markdown",
   "metadata": {},
   "source": [
    "## 사람인"
   ]
  },
  {
   "cell_type": "code",
   "execution_count": 66,
   "metadata": {},
   "outputs": [],
   "source": [
    "# 사람인은 파라미터가 좀 많다.\n",
    "SARAMIN_HOME = 'https://www.saramin.co.kr'\n",
    "SARAMIN_SEARCH = SARAMIN_HOME + '/zf_user/search?search_area=main&search_done=y&search_optional_item=n&searchType=recently&searchword={}'\n",
    "\n",
    "soup = bs(req.get(SARAMIN_SEARCH.format(keyword, 1), headers={'user-agent': V_AGENT}).text, 'lxml')\n",
    "\n",
    "# 회사명 검사\n",
    "urls = []\n",
    "first_corp_name = soup.select_one('.corp_name b').text\n",
    "\n",
    "cont_selector = '#recruit_info_list > .content > div'\n",
    "corp_name_selector = cont_selector + ':nth-child({}) > .area_corp b'\n",
    "atag_selector = cont_selector + ':nth-child({}) h2.job_tit a'"
   ]
  },
  {
   "cell_type": "markdown",
   "metadata": {},
   "source": [
    "## 잡코리아"
   ]
  },
  {
   "cell_type": "code",
   "execution_count": 78,
   "metadata": {},
   "outputs": [],
   "source": [
    "JOBKR_HOME = 'https://www.jobkorea.co.kr'\n",
    "JOBKR_SEARCH = JOBKR_HOME + '/Search/?stext={}'\n",
    "\n",
    "soup = bs(req.get(JOBKR_SEARCH.format(keyword, 1), headers={'user-agent': V_AGENT}).text, 'lxml')\n",
    "\n",
    "# 회사명 검사\n",
    "urls = []\n",
    "first_corp_name = soup.select_one('.post-list-corp strong').text\n",
    "\n",
    "cont_selector = '#content div.cnt-list-wrap .recruit-info > .lists .list-default li'\n",
    "corp_name_selector = cont_selector + ':nth-child({}) .post-list-corp strong'\n",
    "atag_selector = cont_selector + ':nth-child({}) .post-list-info a'"
   ]
  },
  {
   "cell_type": "markdown",
   "metadata": {},
   "source": [
    "## 사람인 & 잡코리아 공통 로직"
   ]
  },
  {
   "cell_type": "code",
   "execution_count": 81,
   "metadata": {},
   "outputs": [
    {
     "data": {
      "text/plain": [
       "['https://www.jobkorea.co.kr/Recruit/GI_Read/42171104?Oem_Code=C1&logpath=1&stext=무신사&listno=1',\n",
       " 'https://www.jobkorea.co.kr/Recruit/GI_Read/42171104?Oem_Code=C1&logpath=1&stext=무신사&listno=1',\n",
       " 'https://www.jobkorea.co.kr/Recruit/GI_Read/42171104?Oem_Code=C1&logpath=1&stext=무신사&listno=1',\n",
       " 'https://www.jobkorea.co.kr/Recruit/GI_Read/42171104?Oem_Code=C1&logpath=1&stext=무신사&listno=1',\n",
       " 'https://www.jobkorea.co.kr/Recruit/GI_Read/42171104?Oem_Code=C1&logpath=1&stext=무신사&listno=1',\n",
       " 'https://www.jobkorea.co.kr/Recruit/GI_Read/42171104?Oem_Code=C1&logpath=1&stext=무신사&listno=1',\n",
       " 'https://www.jobkorea.co.kr/Recruit/GI_Read/42171104?Oem_Code=C1&logpath=1&stext=무신사&listno=1',\n",
       " 'https://www.jobkorea.co.kr/Recruit/GI_Read/42171104?Oem_Code=C1&logpath=1&stext=무신사&listno=1',\n",
       " 'https://www.jobkorea.co.kr/Recruit/GI_Read/42171104?Oem_Code=C1&logpath=1&stext=무신사&listno=1',\n",
       " 'https://www.jobkorea.co.kr/Recruit/GI_Read/42171104?Oem_Code=C1&logpath=1&stext=무신사&listno=1',\n",
       " 'https://www.jobkorea.co.kr/Recruit/GI_Read/42171104?Oem_Code=C1&logpath=1&stext=무신사&listno=1',\n",
       " 'https://www.jobkorea.co.kr/Recruit/GI_Read/42171104?Oem_Code=C1&logpath=1&stext=무신사&listno=1',\n",
       " 'https://www.jobkorea.co.kr/Recruit/GI_Read/42171104?Oem_Code=C1&logpath=1&stext=무신사&listno=1',\n",
       " 'https://www.jobkorea.co.kr/Recruit/GI_Read/42171104?Oem_Code=C1&logpath=1&stext=무신사&listno=1',\n",
       " 'https://www.jobkorea.co.kr/Recruit/GI_Read/42171104?Oem_Code=C1&logpath=1&stext=무신사&listno=1',\n",
       " 'https://www.jobkorea.co.kr/Recruit/GI_Read/42171104?Oem_Code=C1&logpath=1&stext=무신사&listno=1',\n",
       " 'https://www.jobkorea.co.kr/Recruit/GI_Read/42171104?Oem_Code=C1&logpath=1&stext=무신사&listno=1',\n",
       " 'https://www.jobkorea.co.kr/Recruit/GI_Read/42171104?Oem_Code=C1&logpath=1&stext=무신사&listno=1',\n",
       " 'https://www.jobkorea.co.kr/Recruit/GI_Read/42171104?Oem_Code=C1&logpath=1&stext=무신사&listno=1',\n",
       " 'https://www.jobkorea.co.kr/Recruit/GI_Read/42171104?Oem_Code=C1&logpath=1&stext=무신사&listno=1',\n",
       " 'https://www.jobkorea.co.kr/Recruit/GI_Read/42171104?Oem_Code=C1&logpath=1&stext=무신사&listno=1',\n",
       " 'https://www.jobkorea.co.kr/Recruit/GI_Read/42171104?Oem_Code=C1&logpath=1&stext=무신사&listno=1',\n",
       " 'https://www.jobkorea.co.kr/Recruit/GI_Read/42171104?Oem_Code=C1&logpath=1&stext=무신사&listno=1',\n",
       " 'https://www.jobkorea.co.kr/Recruit/GI_Read/42171104?Oem_Code=C1&logpath=1&stext=무신사&listno=1',\n",
       " 'https://www.jobkorea.co.kr/Recruit/GI_Read/42171104?Oem_Code=C1&logpath=1&stext=무신사&listno=1',\n",
       " 'https://www.jobkorea.co.kr/Recruit/GI_Read/42171104?Oem_Code=C1&logpath=1&stext=무신사&listno=1',\n",
       " 'https://www.jobkorea.co.kr/Recruit/GI_Read/42171104?Oem_Code=C1&logpath=1&stext=무신사&listno=1',\n",
       " 'https://www.jobkorea.co.kr/Recruit/GI_Read/42171104?Oem_Code=C1&logpath=1&stext=무신사&listno=1',\n",
       " 'https://www.jobkorea.co.kr/Recruit/GI_Read/42171104?Oem_Code=C1&logpath=1&stext=무신사&listno=1',\n",
       " 'https://www.jobkorea.co.kr/Recruit/GI_Read/42171104?Oem_Code=C1&logpath=1&stext=무신사&listno=1',\n",
       " 'https://www.jobkorea.co.kr/Recruit/GI_Read/42171104?Oem_Code=C1&logpath=1&stext=무신사&listno=1',\n",
       " 'https://www.jobkorea.co.kr/Recruit/GI_Read/42171104?Oem_Code=C1&logpath=1&stext=무신사&listno=1',\n",
       " 'https://www.jobkorea.co.kr/Recruit/GI_Read/42171104?Oem_Code=C1&logpath=1&stext=무신사&listno=1',\n",
       " 'https://www.jobkorea.co.kr/Recruit/GI_Read/42171104?Oem_Code=C1&logpath=1&stext=무신사&listno=1',\n",
       " 'https://www.jobkorea.co.kr/Recruit/GI_Read/42171104?Oem_Code=C1&logpath=1&stext=무신사&listno=1',\n",
       " 'https://www.jobkorea.co.kr/Recruit/GI_Read/42171104?Oem_Code=C1&logpath=1&stext=무신사&listno=1',\n",
       " 'https://www.jobkorea.co.kr/Recruit/GI_Read/42171104?Oem_Code=C1&logpath=1&stext=무신사&listno=1',\n",
       " 'https://www.jobkorea.co.kr/Recruit/GI_Read/42171104?Oem_Code=C1&logpath=1&stext=무신사&listno=1',\n",
       " 'https://www.jobkorea.co.kr/Recruit/GI_Read/42171104?Oem_Code=C1&logpath=1&stext=무신사&listno=1',\n",
       " 'https://www.jobkorea.co.kr/Recruit/GI_Read/42171104?Oem_Code=C1&logpath=1&stext=무신사&listno=1',\n",
       " 'https://www.jobkorea.co.kr/Recruit/GI_Read/42171104?Oem_Code=C1&logpath=1&stext=무신사&listno=1',\n",
       " 'https://www.jobkorea.co.kr/Recruit/GI_Read/42171104?Oem_Code=C1&logpath=1&stext=무신사&listno=1',\n",
       " 'https://www.jobkorea.co.kr/Recruit/GI_Read/42171104?Oem_Code=C1&logpath=1&stext=무신사&listno=1',\n",
       " 'https://www.jobkorea.co.kr/Recruit/GI_Read/42171104?Oem_Code=C1&logpath=1&stext=무신사&listno=1',\n",
       " 'https://www.jobkorea.co.kr/Recruit/GI_Read/42171104?Oem_Code=C1&logpath=1&stext=무신사&listno=1',\n",
       " 'https://www.jobkorea.co.kr/Recruit/GI_Read/42171104?Oem_Code=C1&logpath=1&stext=무신사&listno=1',\n",
       " 'https://www.jobkorea.co.kr/Recruit/GI_Read/42171104?Oem_Code=C1&logpath=1&stext=무신사&listno=1',\n",
       " 'https://www.jobkorea.co.kr/Recruit/GI_Read/42171104?Oem_Code=C1&logpath=1&stext=무신사&listno=1',\n",
       " 'https://www.jobkorea.co.kr/Recruit/GI_Read/42171104?Oem_Code=C1&logpath=1&stext=무신사&listno=1',\n",
       " 'https://www.jobkorea.co.kr/Recruit/GI_Read/42171104?Oem_Code=C1&logpath=1&stext=무신사&listno=1',\n",
       " 'https://www.jobkorea.co.kr/Recruit/GI_Read/42171104?Oem_Code=C1&logpath=1&stext=무신사&listno=1',\n",
       " 'https://www.jobkorea.co.kr/Recruit/GI_Read/42171104?Oem_Code=C1&logpath=1&stext=무신사&listno=1',\n",
       " 'https://www.jobkorea.co.kr/Recruit/GI_Read/42171104?Oem_Code=C1&logpath=1&stext=무신사&listno=1',\n",
       " 'https://www.jobkorea.co.kr/Recruit/GI_Read/42171104?Oem_Code=C1&logpath=1&stext=무신사&listno=1',\n",
       " 'https://www.jobkorea.co.kr/Recruit/GI_Read/42171104?Oem_Code=C1&logpath=1&stext=무신사&listno=1',\n",
       " 'https://www.jobkorea.co.kr/Recruit/GI_Read/42171104?Oem_Code=C1&logpath=1&stext=무신사&listno=1',\n",
       " 'https://www.jobkorea.co.kr/Recruit/GI_Read/42171104?Oem_Code=C1&logpath=1&stext=무신사&listno=1',\n",
       " 'https://www.jobkorea.co.kr/Recruit/GI_Read/42171104?Oem_Code=C1&logpath=1&stext=무신사&listno=1',\n",
       " 'https://www.jobkorea.co.kr/Recruit/GI_Read/42171104?Oem_Code=C1&logpath=1&stext=무신사&listno=1',\n",
       " 'https://www.jobkorea.co.kr/Recruit/GI_Read/42171104?Oem_Code=C1&logpath=1&stext=무신사&listno=1']"
      ]
     },
     "execution_count": 81,
     "metadata": {},
     "output_type": "execute_result"
    }
   ],
   "source": [
    "# 검색 결과가 있는 경우에만 공고 링크 따기\n",
    "if first_corp_name is not None:\n",
    "    \n",
    "    # 있는 채용공고 만큼 돌린다.\n",
    "    for i in range(len(soup.select(cont_selector))):\n",
    "        corp_name_selector = corp_name_selector.format((i+1), 1)\n",
    "        atag_selector = atag_selector.format((i+1), 1)\n",
    "        \n",
    "        # 만료한 경우\n",
    "        if soup.select_one(corp_name_selector) is None:\n",
    "            break\n",
    "        \n",
    "        # 최초 검색된 기업명과 검색 기업명이 상이해진 경우\n",
    "        elif first_corp_name == soup.select_one(corp_name_selector).text:\n",
    "            urls.append(JOBKR_HOME + soup.select_one(atag_selector)['href'])\n",
    "urls"
   ]
  },
  {
   "cell_type": "markdown",
   "metadata": {},
   "source": [
    "## 원티드"
   ]
  },
  {
   "cell_type": "code",
   "execution_count": null,
   "metadata": {},
   "outputs": [],
   "source": [
    "import requests as req\n",
    "import pandas as pd\n",
    "\n",
    "import json\n",
    "\n",
    "def get_recruit_info(keyword):\n",
    "    WANTED_SEARCH ='https://www.wanted.co.kr/api/chaos/search/v1/results?1691048648606=&query={}&country=kr&job_sort=company.response_rate_order&years=-1&locations=all'\n",
    "    headers = {\n",
    "        'user-agent': 'Mozilla/5.0 (Windows NT 10.0; Win64; x64) AppleWebKit/537.36 (KHTML, like Gecko) Chrome/114.0.0.0 Safari/537.36',\n",
    "        'Referer': f'https://www.wanted.co.kr/search?query={keyword.encode(\"UTF-8\").decode(\"iso-8859-1\")}'\n",
    "    }\n",
    "    result = json.loads(req.get(WANTED_SEARCH.format(keyword, 1), headers=headers).text)\n",
    "\n",
    "    result = result['positions']['data']\n",
    "    \n",
    "    return pd.DataFrame({\n",
    "        'recruit_uid': [{el['id']} for el in result],\n",
    "        'recruit_url': [f\"https://www.wanted.co.kr/wd/{el['id']}\" for el in result],\n",
    "        'recruit_position': [el['position'] for el in result],\n",
    "        'recruit_thumb': [el['title_img']['origin'] for el in result]\n",
    "    })\n"
   ]
  }
 ],
 "metadata": {
  "kernelspec": {
   "display_name": "base",
   "language": "python",
   "name": "python3"
  },
  "language_info": {
   "codemirror_mode": {
    "name": "ipython",
    "version": 3
   },
   "file_extension": ".py",
   "mimetype": "text/x-python",
   "name": "python",
   "nbconvert_exporter": "python",
   "pygments_lexer": "ipython3",
   "version": "3.10.9"
  },
  "orig_nbformat": 4
 },
 "nbformat": 4,
 "nbformat_minor": 2
}
