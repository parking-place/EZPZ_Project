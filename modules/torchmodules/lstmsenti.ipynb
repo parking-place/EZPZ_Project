{
 "cells": [
  {
   "cell_type": "code",
   "execution_count": 48,
   "metadata": {},
   "outputs": [],
   "source": [
    "import pandas as pd\n",
    "import torch\n",
    "import pickle\n",
    "from lstmmodel import LSTMModel\n",
    "from kiwipiepy import Kiwi \n",
    "from torchtext.vocab import Vocab\n",
    "import re\n",
    "\n",
    "DEVICE = 'cuda' if torch.cuda.is_available() else 'cpu'\n",
    "\n",
    "DICT_PATH = '/home/parking/ml/data/MiniProj/models'\n",
    "\n",
    "MODEL_PATH = '/app/data/models/lstm/comp_review_model_select_final_last_0.9915.pth'\n",
    "VOCAB_DICT_PATH = '/app/data/models/lstm/voab_442290_final2.pkl'\n",
    "\n",
    "class LSTMSenti:\n",
    "    def __init__(self):\n",
    "        \n",
    "        \n",
    "        \n",
    "        \n",
    "        \n",
    "        self.__kiwi = Kiwi()\n",
    "        \n",
    "        vacab_dict = pickle.load(open(VOCAB_DICT_PATH, 'rb'))\n",
    "        self.__vocab = Vocab(vacab_dict)\n",
    "        self.__vocab.set_default_index(self.__vocab['<unk>'])\n",
    "        \n",
    "        # 단어(클래스) 갯수\n",
    "        N_CLASS = len(self.__vocab)\n",
    "        # 임베딩 차원 수 (임베딩된 단어의 벡터 차원 수)\n",
    "        EMBEDDING_SIZE = 128\n",
    "        # LSTM 레이어 은닉층의 차원 수\n",
    "        HIDDEN_SIZE = 10\n",
    "        # LSTM 레이어 은닉층 각각의 레이어 갯수\n",
    "        NUM_LAYERS = 3\n",
    "        # LSTM 레이어 양방향 여부\n",
    "        IS_BIDIRECTIONAL = True\n",
    "        \n",
    "        self.__threshold = 0.5\n",
    "        \n",
    "        self.__model = LSTMModel(\n",
    "            n_class=N_CLASS,\n",
    "            embedding_size=EMBEDDING_SIZE,\n",
    "            hidden_size=HIDDEN_SIZE,\n",
    "            num_layers=NUM_LAYERS,\n",
    "            is_bidirectional=IS_BIDIRECTIONAL\n",
    "        )\n",
    "        self.__model.load_state_dict(torch.load(MODEL_PATH, map_location=DEVICE))\n",
    "        self.__model.eval()\n",
    "        self.__model.to(DEVICE)\n",
    "        \n",
    "        pass\n",
    "    \n",
    "    def __pretreatment_and_tokenizer(self, text):\n",
    "        pattern = r'[^a-z가-힣\\s]'\n",
    "        text = re.sub(pattern=pattern, repl='', string=text)\n",
    "        text = text.strip()\n",
    "        \n",
    "        doc = self.__kiwi.tokenize(text)\n",
    "        return [token.form for token in doc]\n",
    "    \n",
    "    def __text_to_tensor(self, text):\n",
    "        text = self.__pretreatment_and_tokenizer(text)\n",
    "        if len(text) == 0:\n",
    "            return None\n",
    "        text = [self.__vocab[token] for token in text]\n",
    "        text = torch.tensor(text).unsqueeze(0).to(DEVICE)\n",
    "        return text\n",
    "    \n",
    "    def get_sentiment(self, text):\n",
    "        text = self.__text_to_tensor(text)\n",
    "        if text is None:\n",
    "            return 'N'\n",
    "        \n",
    "        output = self.__model(text)\n",
    "        # 이미 sigmoid를 거쳤기 때문에 sigmoid를 거치지 않음\n",
    "        # output = torch.sigmoid(output)\n",
    "        \n",
    "        if output.item() > self.__threshold:\n",
    "            return 'P'\n",
    "        else:\n",
    "            return 'N'"
   ]
  },
  {
   "cell_type": "code",
   "execution_count": 49,
   "metadata": {},
   "outputs": [],
   "source": [
    "lstm_senti_model = LSTMSenti()"
   ]
  },
  {
   "cell_type": "code",
   "execution_count": 50,
   "metadata": {},
   "outputs": [],
   "source": [
    "review = '이 회사 좀 많이 별로인거 같아요.'"
   ]
  },
  {
   "cell_type": "code",
   "execution_count": 51,
   "metadata": {},
   "outputs": [
    {
     "data": {
      "text/plain": [
       "'N'"
      ]
     },
     "execution_count": 51,
     "metadata": {},
     "output_type": "execute_result"
    }
   ],
   "source": [
    "lstm_senti_model.get_sentiment(review)"
   ]
  },
  {
   "cell_type": "code",
   "execution_count": 52,
   "metadata": {},
   "outputs": [],
   "source": [
    "review = '휴가도 많이 주고 급여도 잘 주는 회사입니다.'"
   ]
  },
  {
   "cell_type": "code",
   "execution_count": 53,
   "metadata": {},
   "outputs": [
    {
     "data": {
      "text/plain": [
       "'P'"
      ]
     },
     "execution_count": 53,
     "metadata": {},
     "output_type": "execute_result"
    }
   ],
   "source": [
    "lstm_senti_model.get_sentiment(review)"
   ]
  },
  {
   "cell_type": "code",
   "execution_count": 54,
   "metadata": {},
   "outputs": [],
   "source": [
    "review = 'good.'"
   ]
  },
  {
   "cell_type": "code",
   "execution_count": 55,
   "metadata": {},
   "outputs": [
    {
     "data": {
      "text/plain": [
       "'N'"
      ]
     },
     "execution_count": 55,
     "metadata": {},
     "output_type": "execute_result"
    }
   ],
   "source": [
    "lstm_senti_model.get_sentiment(review)"
   ]
  },
  {
   "cell_type": "code",
   "execution_count": 56,
   "metadata": {},
   "outputs": [
    {
     "data": {
      "text/html": [
       "<div>\n",
       "<style scoped>\n",
       "    .dataframe tbody tr th:only-of-type {\n",
       "        vertical-align: middle;\n",
       "    }\n",
       "\n",
       "    .dataframe tbody tr th {\n",
       "        vertical-align: top;\n",
       "    }\n",
       "\n",
       "    .dataframe thead th {\n",
       "        text-align: right;\n",
       "    }\n",
       "</style>\n",
       "<table border=\"1\" class=\"dataframe\">\n",
       "  <thead>\n",
       "    <tr style=\"text-align: right;\">\n",
       "      <th></th>\n",
       "      <th>review</th>\n",
       "    </tr>\n",
       "  </thead>\n",
       "  <tbody>\n",
       "    <tr>\n",
       "      <th>0</th>\n",
       "      <td>이 회사 좀 많이 별로인거 같아요.</td>\n",
       "    </tr>\n",
       "    <tr>\n",
       "      <th>1</th>\n",
       "      <td>휴가도 많이 주고 급여도 잘 주는 회사입니다.</td>\n",
       "    </tr>\n",
       "    <tr>\n",
       "      <th>2</th>\n",
       "      <td>good.</td>\n",
       "    </tr>\n",
       "    <tr>\n",
       "      <th>3</th>\n",
       "      <td>이 회사 진짜 좋은거 같아요.</td>\n",
       "    </tr>\n",
       "    <tr>\n",
       "      <th>4</th>\n",
       "      <td>이 회사 진짜 좋은거 같아요. 휴가도 많이 주고 급여도 잘 주는 회사입니다.</td>\n",
       "    </tr>\n",
       "    <tr>\n",
       "      <th>5</th>\n",
       "      <td>이 회사 진짜 좋은거 같아요. 휴가도 많이 주고 급여도 잘 주는 회사입니다. good.</td>\n",
       "    </tr>\n",
       "    <tr>\n",
       "      <th>6</th>\n",
       "      <td></td>\n",
       "    </tr>\n",
       "  </tbody>\n",
       "</table>\n",
       "</div>"
      ],
      "text/plain": [
       "                                             review\n",
       "0                               이 회사 좀 많이 별로인거 같아요.\n",
       "1                         휴가도 많이 주고 급여도 잘 주는 회사입니다.\n",
       "2                                             good.\n",
       "3                                  이 회사 진짜 좋은거 같아요.\n",
       "4        이 회사 진짜 좋은거 같아요. 휴가도 많이 주고 급여도 잘 주는 회사입니다.\n",
       "5  이 회사 진짜 좋은거 같아요. 휴가도 많이 주고 급여도 잘 주는 회사입니다. good.\n",
       "6                                                  "
      ]
     },
     "execution_count": 56,
     "metadata": {},
     "output_type": "execute_result"
    }
   ],
   "source": [
    "reviews = [\n",
    "    '이 회사 좀 많이 별로인거 같아요.',\n",
    "    '휴가도 많이 주고 급여도 잘 주는 회사입니다.',\n",
    "    'good.',\n",
    "    '이 회사 진짜 좋은거 같아요.',\n",
    "    '이 회사 진짜 좋은거 같아요. 휴가도 많이 주고 급여도 잘 주는 회사입니다.',\n",
    "    '이 회사 진짜 좋은거 같아요. 휴가도 많이 주고 급여도 잘 주는 회사입니다. good.',\n",
    "    ' ',\n",
    "]\n",
    "\n",
    "df = pd.DataFrame(reviews, columns=['review'])\n",
    "df"
   ]
  },
  {
   "cell_type": "code",
   "execution_count": 57,
   "metadata": {},
   "outputs": [],
   "source": [
    "df['senti'] = df['review'].apply(lstm_senti_model.get_sentiment)"
   ]
  },
  {
   "cell_type": "code",
   "execution_count": 58,
   "metadata": {},
   "outputs": [
    {
     "data": {
      "text/html": [
       "<div>\n",
       "<style scoped>\n",
       "    .dataframe tbody tr th:only-of-type {\n",
       "        vertical-align: middle;\n",
       "    }\n",
       "\n",
       "    .dataframe tbody tr th {\n",
       "        vertical-align: top;\n",
       "    }\n",
       "\n",
       "    .dataframe thead th {\n",
       "        text-align: right;\n",
       "    }\n",
       "</style>\n",
       "<table border=\"1\" class=\"dataframe\">\n",
       "  <thead>\n",
       "    <tr style=\"text-align: right;\">\n",
       "      <th></th>\n",
       "      <th>review</th>\n",
       "      <th>senti</th>\n",
       "    </tr>\n",
       "  </thead>\n",
       "  <tbody>\n",
       "    <tr>\n",
       "      <th>0</th>\n",
       "      <td>이 회사 좀 많이 별로인거 같아요.</td>\n",
       "      <td>N</td>\n",
       "    </tr>\n",
       "    <tr>\n",
       "      <th>1</th>\n",
       "      <td>휴가도 많이 주고 급여도 잘 주는 회사입니다.</td>\n",
       "      <td>P</td>\n",
       "    </tr>\n",
       "    <tr>\n",
       "      <th>2</th>\n",
       "      <td>good.</td>\n",
       "      <td>N</td>\n",
       "    </tr>\n",
       "    <tr>\n",
       "      <th>3</th>\n",
       "      <td>이 회사 진짜 좋은거 같아요.</td>\n",
       "      <td>P</td>\n",
       "    </tr>\n",
       "    <tr>\n",
       "      <th>4</th>\n",
       "      <td>이 회사 진짜 좋은거 같아요. 휴가도 많이 주고 급여도 잘 주는 회사입니다.</td>\n",
       "      <td>P</td>\n",
       "    </tr>\n",
       "    <tr>\n",
       "      <th>5</th>\n",
       "      <td>이 회사 진짜 좋은거 같아요. 휴가도 많이 주고 급여도 잘 주는 회사입니다. good.</td>\n",
       "      <td>P</td>\n",
       "    </tr>\n",
       "    <tr>\n",
       "      <th>6</th>\n",
       "      <td></td>\n",
       "      <td>N</td>\n",
       "    </tr>\n",
       "  </tbody>\n",
       "</table>\n",
       "</div>"
      ],
      "text/plain": [
       "                                             review senti\n",
       "0                               이 회사 좀 많이 별로인거 같아요.     N\n",
       "1                         휴가도 많이 주고 급여도 잘 주는 회사입니다.     P\n",
       "2                                             good.     N\n",
       "3                                  이 회사 진짜 좋은거 같아요.     P\n",
       "4        이 회사 진짜 좋은거 같아요. 휴가도 많이 주고 급여도 잘 주는 회사입니다.     P\n",
       "5  이 회사 진짜 좋은거 같아요. 휴가도 많이 주고 급여도 잘 주는 회사입니다. good.     P\n",
       "6                                                       N"
      ]
     },
     "execution_count": 58,
     "metadata": {},
     "output_type": "execute_result"
    }
   ],
   "source": [
    "df"
   ]
  },
  {
   "cell_type": "code",
   "execution_count": null,
   "metadata": {},
   "outputs": [],
   "source": []
  },
  {
   "cell_type": "code",
   "execution_count": null,
   "metadata": {},
   "outputs": [],
   "source": []
  },
  {
   "cell_type": "code",
   "execution_count": 75,
   "metadata": {},
   "outputs": [],
   "source": [
    "from service_models import ServiceModels\n",
    "from tqdm import tqdm, tqdm_pandas"
   ]
  },
  {
   "cell_type": "code",
   "execution_count": 76,
   "metadata": {},
   "outputs": [],
   "source": [
    "torch_models = ServiceModels(type='reviews_senti')"
   ]
  },
  {
   "cell_type": "code",
   "execution_count": 78,
   "metadata": {},
   "outputs": [
    {
     "name": "stderr",
     "output_type": "stream",
     "text": [
      "0it [00:00, ?it/s]\n",
      "TqdmDeprecationWarning: Please use `tqdm.pandas(...)` instead of `tqdm_pandas(tqdm(...))`.\n"
     ]
    }
   ],
   "source": [
    "tqdm_pandas(tqdm())"
   ]
  },
  {
   "cell_type": "code",
   "execution_count": 80,
   "metadata": {},
   "outputs": [
    {
     "name": "stderr",
     "output_type": "stream",
     "text": [
      "7it [00:18,  2.71s/it]\n"
     ]
    }
   ],
   "source": [
    "df['senti'] = df['review'].progress_apply(torch_models.get_reviews_sentiment)"
   ]
  },
  {
   "cell_type": "code",
   "execution_count": 72,
   "metadata": {},
   "outputs": [
    {
     "data": {
      "text/html": [
       "<div>\n",
       "<style scoped>\n",
       "    .dataframe tbody tr th:only-of-type {\n",
       "        vertical-align: middle;\n",
       "    }\n",
       "\n",
       "    .dataframe tbody tr th {\n",
       "        vertical-align: top;\n",
       "    }\n",
       "\n",
       "    .dataframe thead th {\n",
       "        text-align: right;\n",
       "    }\n",
       "</style>\n",
       "<table border=\"1\" class=\"dataframe\">\n",
       "  <thead>\n",
       "    <tr style=\"text-align: right;\">\n",
       "      <th></th>\n",
       "      <th>review</th>\n",
       "      <th>senti</th>\n",
       "    </tr>\n",
       "  </thead>\n",
       "  <tbody>\n",
       "    <tr>\n",
       "      <th>0</th>\n",
       "      <td>이 회사 좀 많이 별로인거 같아요.</td>\n",
       "      <td>N</td>\n",
       "    </tr>\n",
       "    <tr>\n",
       "      <th>1</th>\n",
       "      <td>휴가도 많이 주고 급여도 잘 주는 회사입니다.</td>\n",
       "      <td>P</td>\n",
       "    </tr>\n",
       "    <tr>\n",
       "      <th>2</th>\n",
       "      <td>good.</td>\n",
       "      <td>N</td>\n",
       "    </tr>\n",
       "    <tr>\n",
       "      <th>3</th>\n",
       "      <td>이 회사 진짜 좋은거 같아요.</td>\n",
       "      <td>P</td>\n",
       "    </tr>\n",
       "    <tr>\n",
       "      <th>4</th>\n",
       "      <td>이 회사 진짜 좋은거 같아요. 휴가도 많이 주고 급여도 잘 주는 회사입니다.</td>\n",
       "      <td>P</td>\n",
       "    </tr>\n",
       "    <tr>\n",
       "      <th>5</th>\n",
       "      <td>이 회사 진짜 좋은거 같아요. 휴가도 많이 주고 급여도 잘 주는 회사입니다. good.</td>\n",
       "      <td>P</td>\n",
       "    </tr>\n",
       "    <tr>\n",
       "      <th>6</th>\n",
       "      <td></td>\n",
       "      <td>N</td>\n",
       "    </tr>\n",
       "  </tbody>\n",
       "</table>\n",
       "</div>"
      ],
      "text/plain": [
       "                                             review senti\n",
       "0                               이 회사 좀 많이 별로인거 같아요.     N\n",
       "1                         휴가도 많이 주고 급여도 잘 주는 회사입니다.     P\n",
       "2                                             good.     N\n",
       "3                                  이 회사 진짜 좋은거 같아요.     P\n",
       "4        이 회사 진짜 좋은거 같아요. 휴가도 많이 주고 급여도 잘 주는 회사입니다.     P\n",
       "5  이 회사 진짜 좋은거 같아요. 휴가도 많이 주고 급여도 잘 주는 회사입니다. good.     P\n",
       "6                                                       N"
      ]
     },
     "execution_count": 72,
     "metadata": {},
     "output_type": "execute_result"
    }
   ],
   "source": [
    "df"
   ]
  },
  {
   "cell_type": "code",
   "execution_count": 65,
   "metadata": {},
   "outputs": [
    {
     "data": {
      "text/plain": [
       "'2.0.3'"
      ]
     },
     "execution_count": 65,
     "metadata": {},
     "output_type": "execute_result"
    }
   ],
   "source": [
    "pd.__version__"
   ]
  },
  {
   "cell_type": "code",
   "execution_count": 66,
   "metadata": {},
   "outputs": [
    {
     "data": {
      "text/plain": [
       "'4.66.1'"
      ]
     },
     "execution_count": 66,
     "metadata": {},
     "output_type": "execute_result"
    }
   ],
   "source": [
    "import tqdm\n",
    "tqdm.__version__"
   ]
  },
  {
   "cell_type": "code",
   "execution_count": null,
   "metadata": {},
   "outputs": [],
   "source": [
    "from tqdm import tqdm, tqdm_pandas"
   ]
  }
 ],
 "metadata": {
  "kernelspec": {
   "display_name": "Python 3",
   "language": "python",
   "name": "python3"
  },
  "language_info": {
   "codemirror_mode": {
    "name": "ipython",
    "version": 3
   },
   "file_extension": ".py",
   "mimetype": "text/x-python",
   "name": "python",
   "nbconvert_exporter": "python",
   "pygments_lexer": "ipython3",
   "version": "3.10.12"
  },
  "orig_nbformat": 4
 },
 "nbformat": 4,
 "nbformat_minor": 2
}
