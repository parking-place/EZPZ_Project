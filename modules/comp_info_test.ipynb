{
 "cells": [
  {
   "cell_type": "markdown",
   "metadata": {},
   "source": [
    "## 모듈 임포트"
   ]
  },
  {
   "cell_type": "code",
   "execution_count": 1,
   "metadata": {},
   "outputs": [],
   "source": [
    "from company_info import CompanyInfo\n",
    "\n",
    "comp_info = CompanyInfo()"
   ]
  },
  {
   "cell_type": "markdown",
   "metadata": {},
   "source": [
    "## 회사 정보/리뷰 검색"
   ]
  },
  {
   "cell_type": "code",
   "execution_count": 2,
   "metadata": {},
   "outputs": [
    {
     "name": "stderr",
     "output_type": "stream",
     "text": [
      "2023-07-07 08:13:51.221325: I tensorflow/core/platform/cpu_feature_guard.cc:182] This TensorFlow binary is optimized to use available CPU instructions in performance-critical operations.\n",
      "To enable the following instructions: AVX2 FMA, in other operations, rebuild TensorFlow with the appropriate compiler flags.\n",
      "2023-07-07 08:13:51.732321: W tensorflow/compiler/tf2tensorrt/utils/py_utils.cc:38] TF-TRT Warning: Could not find TensorRT\n"
     ]
    }
   ],
   "source": [
    "naver_info = comp_info.get_company_info('네이버')"
   ]
  },
  {
   "cell_type": "code",
   "execution_count": 3,
   "metadata": {},
   "outputs": [],
   "source": [
    "naver_news, naver_reviews, naver_review_summarized_dict = naver_info"
   ]
  },
  {
   "cell_type": "code",
   "execution_count": 10,
   "metadata": {},
   "outputs": [
    {
     "data": {
      "text/html": [
       "<div>\n",
       "<style scoped>\n",
       "    .dataframe tbody tr th:only-of-type {\n",
       "        vertical-align: middle;\n",
       "    }\n",
       "\n",
       "    .dataframe tbody tr th {\n",
       "        vertical-align: top;\n",
       "    }\n",
       "\n",
       "    .dataframe thead th {\n",
       "        text-align: right;\n",
       "    }\n",
       "</style>\n",
       "<table border=\"1\" class=\"dataframe\">\n",
       "  <thead>\n",
       "    <tr style=\"text-align: right;\">\n",
       "      <th></th>\n",
       "      <th>link</th>\n",
       "      <th>summarized</th>\n",
       "      <th>sentiment</th>\n",
       "    </tr>\n",
       "  </thead>\n",
       "  <tbody>\n",
       "    <tr>\n",
       "      <th>0</th>\n",
       "      <td>http://v.daum.net/v/20230706145703665</td>\n",
       "      <td>네이버가 지난 2분기 최대 규모로 약 19만원대로 진입했다.</td>\n",
       "      <td>positive</td>\n",
       "    </tr>\n",
       "    <tr>\n",
       "      <th>1</th>\n",
       "      <td>http://v.daum.net/v/20230707040742497</td>\n",
       "      <td>네이버가 뉴스 검색 알고리즘에 개입했다.</td>\n",
       "      <td>negative</td>\n",
       "    </tr>\n",
       "    <tr>\n",
       "      <th>2</th>\n",
       "      <td>http://v.daum.net/v/20230707093354918</td>\n",
       "      <td>네이버가 뉴스 인공지능(AI) 알고리즘 피처를 공개했다.</td>\n",
       "      <td>neutral</td>\n",
       "    </tr>\n",
       "    <tr>\n",
       "      <th>3</th>\n",
       "      <td>http://v.daum.net/v/20230707091220958</td>\n",
       "      <td>네이버가 뉴스 인공지능(AI) 알고리즘 피처를 공개했다.</td>\n",
       "      <td>neutral</td>\n",
       "    </tr>\n",
       "    <tr>\n",
       "      <th>4</th>\n",
       "      <td>http://v.daum.net/v/20230707101855839</td>\n",
       "      <td>네이버가 뉴스 인공지능(AI) 알고리즘을 새롭게 구성했다.</td>\n",
       "      <td>neutral</td>\n",
       "    </tr>\n",
       "    <tr>\n",
       "      <th>5</th>\n",
       "      <td>http://v.daum.net/v/20230707060104617</td>\n",
       "      <td>네이버가 지난 7일(현지시간) 신종 코로나바이러스 감염증 (코비드19) 사태를 선포했다.</td>\n",
       "      <td>neutral</td>\n",
       "    </tr>\n",
       "    <tr>\n",
       "      <th>6</th>\n",
       "      <td>http://v.daum.net/v/20230707094206233</td>\n",
       "      <td>네이버페이가 데이터센터 재해 발생 시에도 비상대응훈련을 실시한다.</td>\n",
       "      <td>neutral</td>\n",
       "    </tr>\n",
       "    <tr>\n",
       "      <th>7</th>\n",
       "      <td>http://v.daum.net/v/20230707092516523</td>\n",
       "      <td>네이버가 자사 인공지능(AI) 알고리즘 기반의 뉴스 추천 서비스를 이용자들을 이해할...</td>\n",
       "      <td>positive</td>\n",
       "    </tr>\n",
       "    <tr>\n",
       "      <th>8</th>\n",
       "      <td>http://v.daum.net/v/20230707100801384</td>\n",
       "      <td>네이버페이가 데이터센터 재해 등 비상상황을 대비한 보안대응훈련이 실시됐다.</td>\n",
       "      <td>neutral</td>\n",
       "    </tr>\n",
       "    <tr>\n",
       "      <th>9</th>\n",
       "      <td>http://v.daum.net/v/20230707102616107</td>\n",
       "      <td>네이버가 뉴스 인공지능(AI) 알고리즘을 개설했다.</td>\n",
       "      <td>neutral</td>\n",
       "    </tr>\n",
       "  </tbody>\n",
       "</table>\n",
       "</div>"
      ],
      "text/plain": [
       "                                    link  \\\n",
       "0  http://v.daum.net/v/20230706145703665   \n",
       "1  http://v.daum.net/v/20230707040742497   \n",
       "2  http://v.daum.net/v/20230707093354918   \n",
       "3  http://v.daum.net/v/20230707091220958   \n",
       "4  http://v.daum.net/v/20230707101855839   \n",
       "5  http://v.daum.net/v/20230707060104617   \n",
       "6  http://v.daum.net/v/20230707094206233   \n",
       "7  http://v.daum.net/v/20230707092516523   \n",
       "8  http://v.daum.net/v/20230707100801384   \n",
       "9  http://v.daum.net/v/20230707102616107   \n",
       "\n",
       "                                          summarized sentiment  \n",
       "0                  네이버가 지난 2분기 최대 규모로 약 19만원대로 진입했다.  positive  \n",
       "1                             네이버가 뉴스 검색 알고리즘에 개입했다.  negative  \n",
       "2                    네이버가 뉴스 인공지능(AI) 알고리즘 피처를 공개했다.   neutral  \n",
       "3                    네이버가 뉴스 인공지능(AI) 알고리즘 피처를 공개했다.   neutral  \n",
       "4                   네이버가 뉴스 인공지능(AI) 알고리즘을 새롭게 구성했다.   neutral  \n",
       "5  네이버가 지난 7일(현지시간) 신종 코로나바이러스 감염증 (코비드19) 사태를 선포했다.   neutral  \n",
       "6               네이버페이가 데이터센터 재해 발생 시에도 비상대응훈련을 실시한다.   neutral  \n",
       "7  네이버가 자사 인공지능(AI) 알고리즘 기반의 뉴스 추천 서비스를 이용자들을 이해할...  positive  \n",
       "8          네이버페이가 데이터센터 재해 등 비상상황을 대비한 보안대응훈련이 실시됐다.   neutral  \n",
       "9                       네이버가 뉴스 인공지능(AI) 알고리즘을 개설했다.   neutral  "
      ]
     },
     "execution_count": 10,
     "metadata": {},
     "output_type": "execute_result"
    },
    {
     "ename": "",
     "evalue": "",
     "output_type": "error",
     "traceback": [
      "\u001b[1;31m현재 셀 또는 이전 셀에서 코드를 실행하는 동안 Kernel이 충돌했습니다. 셀의 코드를 검토하여 오류의 가능한 원인을 식별하세요. 자세한 내용을 보려면 <a href='https://aka.ms/vscodeJupyterKernelCrash'> 여기 </a> 를 클릭하세요. 자세한 내용은 Jupyter <a href='command:jupyter.viewOutput'>로그</a>를 참조하세요."
     ]
    }
   ],
   "source": [
    "naver_news[['link', 'summarized', 'sentiment']].head(10)"
   ]
  },
  {
   "cell_type": "code",
   "execution_count": 6,
   "metadata": {},
   "outputs": [
    {
     "data": {
      "text/plain": [
       "'한국에서 가장 큰 IT회사라는 네임벨류가 있다.'"
      ]
     },
     "execution_count": 6,
     "metadata": {},
     "output_type": "execute_result"
    }
   ],
   "source": [
    "naver_review_summarized_dict['good_summarise_long']"
   ]
  },
  {
   "cell_type": "code",
   "execution_count": 7,
   "metadata": {},
   "outputs": [
    {
     "data": {
      "text/plain": [
       "'회사가 너무 많은 일을 하고 있다.'"
      ]
     },
     "execution_count": 7,
     "metadata": {},
     "output_type": "execute_result"
    }
   ],
   "source": [
    "naver_review_summarized_dict['bad_summarise_long']"
   ]
  },
  {
   "cell_type": "code",
   "execution_count": 8,
   "metadata": {},
   "outputs": [
    {
     "data": {
      "text/plain": [
       "'한국에서 가장 큰 IT회사라는 네임벨류가 있다.'"
      ]
     },
     "execution_count": 8,
     "metadata": {},
     "output_type": "execute_result"
    }
   ],
   "source": [
    "naver_review_summarized_dict['good_summarise_short']"
   ]
  },
  {
   "cell_type": "code",
   "execution_count": 9,
   "metadata": {},
   "outputs": [
    {
     "data": {
      "text/plain": [
       "'회사에 가장 많은 인턴이 나오고 있다.'"
      ]
     },
     "execution_count": 9,
     "metadata": {},
     "output_type": "execute_result"
    }
   ],
   "source": [
    "naver_review_summarized_dict['bad_summarise_short']"
   ]
  },
  {
   "cell_type": "code",
   "execution_count": null,
   "metadata": {},
   "outputs": [],
   "source": []
  }
 ],
 "metadata": {
  "kernelspec": {
   "display_name": "ezpz",
   "language": "python",
   "name": "python3"
  },
  "language_info": {
   "codemirror_mode": {
    "name": "ipython",
    "version": 3
   },
   "file_extension": ".py",
   "mimetype": "text/x-python",
   "name": "python",
   "nbconvert_exporter": "python",
   "pygments_lexer": "ipython3",
   "version": "3.10.11"
  },
  "orig_nbformat": 4
 },
 "nbformat": 4,
 "nbformat_minor": 2
}
