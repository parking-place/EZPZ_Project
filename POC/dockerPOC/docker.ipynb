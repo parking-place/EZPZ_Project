{
 "cells": [
  {
   "cell_type": "markdown",
   "metadata": {},
   "source": [
    "# 도커 개발환경 세팅"
   ]
  },
  {
   "cell_type": "markdown",
   "metadata": {},
   "source": [
    "## 도커 이미지 다운(풀)\n",
    "```bash\n",
    "docker pull parkingplace/ezpz_workspace:test\n",
    "```"
   ]
  },
  {
   "cell_type": "code",
   "execution_count": null,
   "metadata": {
    "vscode": {
     "languageId": "plaintext"
    }
   },
   "outputs": [],
   "source": []
  },
  {
   "cell_type": "code",
   "execution_count": null,
   "metadata": {
    "vscode": {
     "languageId": "plaintext"
    }
   },
   "outputs": [],
   "source": []
  },
  {
   "cell_type": "code",
   "execution_count": null,
   "metadata": {
    "vscode": {
     "languageId": "plaintext"
    }
   },
   "outputs": [],
   "source": []
  },
  {
   "cell_type": "markdown",
   "metadata": {},
   "source": [
    "## 도커 컨테이너 실행\n",
    "\n",
    "```bash\n",
    "docker container run -it --name '컨테이너이름' --hostname '커널에서 표시될 이름' -v 프로젝트경로:컨테이너내 공유할 경로 -p 외부포트:내부포트  -p 80:80 -p 8080:8080 -p 3000:3000 parkingplace/ezpz_workspace:test3\n",
    "```\n",
    "\n",
    "```bash\n",
    "docker container run -it --name 'ezpz_con' --hostname 'ezpz_con' -v E:\\\\Python\\\\EZPZ_Project:/home/worckspace/EZPZ_Project -v E:\\\\Python\\\\data:/home/worckspace/data -p 80:80 -p 8080:8080 -p 8888:8888 -p 3000:3000 parkingplace/ezpz_workspace:test3\n",
    "\n",
    "sudo docker run --name test --hostname TEST --restart always --gpus all --ipc host --privileged -p 17022:22 -p 17888:8888 -p 18889:8889 -p 18786:8786 -p 18787:8787 -it parkingplace/ezpz_workspace:test3\n",
    "\n",
    "docker run --name test --hostname TEST --ipc host --privileged -p 17022:22 -p 17888:8888 -p 18889:8889 -p 18786:8786 -p 18787:8787 -it parkingplace/ezpz_workspace:test2\n",
    "```"
   ]
  },
  {
   "cell_type": "markdown",
   "metadata": {},
   "source": [
    "```bash\n",
    "docker run --name ezpz_docker --hostname EZPZ_DOCKER -v E:\\Docker\\volume:/home/workspaces --ipc host --privileged -p 17022:22 -p 17888:8888 -p 18889:8889 -p 18786:8786 -p 18787:8787 -it parkingplace/ezpz_workspace:test5\n",
    "docker run --gpus all --name ezpz_docker --hostname EZPZ_DOCKER -v ~/docker/volume:/home/workspaces --ipc host --privileged -p 17022:22 -p 17888:8888 -p 18889:8889 -p 18786:8786 -p 18787:8787 -it parkingplace/ezpz_workspace:test5\n",
    "docker run --name ezpz_docker --hostname EZPZ_DOCKER -v ~/docker/volume:/home/workspaces --ipc host --privileged -p 17022:22 -p 17888:8888 -p 18889:8889 -p 18786:8786 -p 18787:8787 -it parkingplace/ezpz_workspace:test5\n",
    "```"
   ]
  },
  {
   "cell_type": "code",
   "execution_count": null,
   "metadata": {
    "vscode": {
     "languageId": "plaintext"
    }
   },
   "outputs": [],
   "source": []
  },
  {
   "cell_type": "code",
   "execution_count": null,
   "metadata": {
    "vscode": {
     "languageId": "plaintext"
    }
   },
   "outputs": [],
   "source": []
  },
  {
   "cell_type": "code",
   "execution_count": null,
   "metadata": {
    "vscode": {
     "languageId": "plaintext"
    }
   },
   "outputs": [],
   "source": []
  },
  {
   "cell_type": "code",
   "execution_count": null,
   "metadata": {
    "vscode": {
     "languageId": "plaintext"
    }
   },
   "outputs": [],
   "source": []
  },
  {
   "cell_type": "code",
   "execution_count": null,
   "metadata": {
    "vscode": {
     "languageId": "plaintext"
    }
   },
   "outputs": [],
   "source": []
  }
 ],
 "metadata": {
  "language_info": {
   "name": "python"
  },
  "orig_nbformat": 4
 },
 "nbformat": 4,
 "nbformat_minor": 2
}
