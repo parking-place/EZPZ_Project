{
 "cells": [
  {
   "cell_type": "code",
   "execution_count": 1,
   "metadata": {},
   "outputs": [],
   "source": [
    "import pandas as pd\n",
    "import codecs"
   ]
  },
  {
   "cell_type": "code",
   "execution_count": 2,
   "metadata": {},
   "outputs": [
    {
     "name": "stdout",
     "output_type": "stream",
     "text": [
      "^C\n",
      "Note: you may need to restart the kernel to use updated packages.\n"
     ]
    }
   ],
   "source": [
    "pip install openpyxl"
   ]
  },
  {
   "cell_type": "code",
   "execution_count": 3,
   "metadata": {},
   "outputs": [],
   "source": [
    "DATA_PATH = r\"C:\\Users\\Playdata\\Desktop\\\\new_file\""
   ]
  },
  {
   "cell_type": "code",
   "execution_count": 4,
   "metadata": {},
   "outputs": [],
   "source": [
    "df_economy = pd.read_csv(DATA_PATH+r\"\\\\finance_data.csv\",encoding= 'utf-8')"
   ]
  },
  {
   "cell_type": "code",
   "execution_count": 5,
   "metadata": {},
   "outputs": [
    {
     "data": {
      "text/html": [
       "<div>\n",
       "<style scoped>\n",
       "    .dataframe tbody tr th:only-of-type {\n",
       "        vertical-align: middle;\n",
       "    }\n",
       "\n",
       "    .dataframe tbody tr th {\n",
       "        vertical-align: top;\n",
       "    }\n",
       "\n",
       "    .dataframe thead th {\n",
       "        text-align: right;\n",
       "    }\n",
       "</style>\n",
       "<table border=\"1\" class=\"dataframe\">\n",
       "  <thead>\n",
       "    <tr style=\"text-align: right;\">\n",
       "      <th></th>\n",
       "      <th>labels</th>\n",
       "      <th>sentence</th>\n",
       "      <th>kor_sentence</th>\n",
       "    </tr>\n",
       "  </thead>\n",
       "  <tbody>\n",
       "    <tr>\n",
       "      <th>0</th>\n",
       "      <td>neutral</td>\n",
       "      <td>According to Gran, the company has no plans to...</td>\n",
       "      <td>Gran에 따르면, 그 회사는 회사가 성장하고 있는 곳이지만, 모든 생산을 러시아로...</td>\n",
       "    </tr>\n",
       "    <tr>\n",
       "      <th>1</th>\n",
       "      <td>neutral</td>\n",
       "      <td>Technopolis plans to develop in stages an area...</td>\n",
       "      <td>테크노폴리스는 컴퓨터 기술과 통신 분야에서 일하는 회사들을 유치하기 위해 10만 평...</td>\n",
       "    </tr>\n",
       "    <tr>\n",
       "      <th>2</th>\n",
       "      <td>negative</td>\n",
       "      <td>The international electronic industry company ...</td>\n",
       "      <td>국제 전자산업 회사인 엘코텍은 탈린 공장에서 수십 명의 직원을 해고했으며, 이전의 ...</td>\n",
       "    </tr>\n",
       "    <tr>\n",
       "      <th>3</th>\n",
       "      <td>positive</td>\n",
       "      <td>With the new production plant the company woul...</td>\n",
       "      <td>새로운 생산공장으로 인해 회사는 예상되는 수요 증가를 충족시킬 수 있는 능력을 증가...</td>\n",
       "    </tr>\n",
       "    <tr>\n",
       "      <th>4</th>\n",
       "      <td>positive</td>\n",
       "      <td>According to the company's updated strategy fo...</td>\n",
       "      <td>2009-2012년 회사의 업데이트된 전략에 따르면, Basware는 20% - 4...</td>\n",
       "    </tr>\n",
       "  </tbody>\n",
       "</table>\n",
       "</div>"
      ],
      "text/plain": [
       "     labels                                           sentence   \n",
       "0   neutral  According to Gran, the company has no plans to...  \\\n",
       "1   neutral  Technopolis plans to develop in stages an area...   \n",
       "2  negative  The international electronic industry company ...   \n",
       "3  positive  With the new production plant the company woul...   \n",
       "4  positive  According to the company's updated strategy fo...   \n",
       "\n",
       "                                        kor_sentence  \n",
       "0  Gran에 따르면, 그 회사는 회사가 성장하고 있는 곳이지만, 모든 생산을 러시아로...  \n",
       "1  테크노폴리스는 컴퓨터 기술과 통신 분야에서 일하는 회사들을 유치하기 위해 10만 평...  \n",
       "2  국제 전자산업 회사인 엘코텍은 탈린 공장에서 수십 명의 직원을 해고했으며, 이전의 ...  \n",
       "3  새로운 생산공장으로 인해 회사는 예상되는 수요 증가를 충족시킬 수 있는 능력을 증가...  \n",
       "4  2009-2012년 회사의 업데이트된 전략에 따르면, Basware는 20% - 4...  "
      ]
     },
     "execution_count": 5,
     "metadata": {},
     "output_type": "execute_result"
    },
    {
     "name": "stdout",
     "output_type": "stream",
     "text": [
      "Requirement already satisfied: openpyxl in c:\\users\\playdata\\anaconda3\\envs\\ezpz\\lib\\site-packages (3.1.2)\n",
      "Requirement already satisfied: et-xmlfile in c:\\users\\playdata\\anaconda3\\envs\\ezpz\\lib\\site-packages (from openpyxl) (1.1.0)\n"
     ]
    }
   ],
   "source": [
    "df_economy.head() # 1번데이터 잘 들어옴 나중에 콘캣해야됨"
   ]
  },
  {
   "cell_type": "code",
   "execution_count": 6,
   "metadata": {},
   "outputs": [
    {
     "data": {
      "text/html": [
       "<div>\n",
       "<style scoped>\n",
       "    .dataframe tbody tr th:only-of-type {\n",
       "        vertical-align: middle;\n",
       "    }\n",
       "\n",
       "    .dataframe tbody tr th {\n",
       "        vertical-align: top;\n",
       "    }\n",
       "\n",
       "    .dataframe thead th {\n",
       "        text-align: right;\n",
       "    }\n",
       "</style>\n",
       "<table border=\"1\" class=\"dataframe\">\n",
       "  <thead>\n",
       "    <tr style=\"text-align: right;\">\n",
       "      <th></th>\n",
       "      <th>labels</th>\n",
       "      <th>sentence</th>\n",
       "      <th>kor_sentence</th>\n",
       "    </tr>\n",
       "  </thead>\n",
       "  <tbody>\n",
       "    <tr>\n",
       "      <th>4841</th>\n",
       "      <td>negative</td>\n",
       "      <td>LONDON MarketWatch -- Share prices ended lower...</td>\n",
       "      <td>런던 마켓워치 -- 은행주의 반등이 FTSE 100지수의 약세를 상쇄하지 못하면서 ...</td>\n",
       "    </tr>\n",
       "    <tr>\n",
       "      <th>4842</th>\n",
       "      <td>neutral</td>\n",
       "      <td>Rinkuskiai's beer sales fell by 6.5 per cent t...</td>\n",
       "      <td>린쿠스키아의 맥주 판매량은 416만 리터로 6.5% 감소했으며 카우노 알루스의 맥주...</td>\n",
       "    </tr>\n",
       "    <tr>\n",
       "      <th>4843</th>\n",
       "      <td>negative</td>\n",
       "      <td>Operating profit fell to EUR 35.4 mn from EUR ...</td>\n",
       "      <td>영업이익은 2007년 68.8 mn에서 35.4 mn으로 떨어졌으며, 선박 판매 이...</td>\n",
       "    </tr>\n",
       "    <tr>\n",
       "      <th>4844</th>\n",
       "      <td>negative</td>\n",
       "      <td>Net sales of the Paper segment decreased to EU...</td>\n",
       "      <td>페이퍼 부문 순매출은 2008년 2분기 241.1 mn에서 2009년 2분기 221...</td>\n",
       "    </tr>\n",
       "    <tr>\n",
       "      <th>4845</th>\n",
       "      <td>negative</td>\n",
       "      <td>Sales in Finland decreased by 10.5 % in Januar...</td>\n",
       "      <td>핀란드에서의 판매는 1월에 10.5% 감소한 반면, 국외에서의 판매는 17% 감소했다.</td>\n",
       "    </tr>\n",
       "  </tbody>\n",
       "</table>\n",
       "</div>"
      ],
      "text/plain": [
       "        labels                                           sentence   \n",
       "4841  negative  LONDON MarketWatch -- Share prices ended lower...  \\\n",
       "4842   neutral  Rinkuskiai's beer sales fell by 6.5 per cent t...   \n",
       "4843  negative  Operating profit fell to EUR 35.4 mn from EUR ...   \n",
       "4844  negative  Net sales of the Paper segment decreased to EU...   \n",
       "4845  negative  Sales in Finland decreased by 10.5 % in Januar...   \n",
       "\n",
       "                                           kor_sentence  \n",
       "4841  런던 마켓워치 -- 은행주의 반등이 FTSE 100지수의 약세를 상쇄하지 못하면서 ...  \n",
       "4842  린쿠스키아의 맥주 판매량은 416만 리터로 6.5% 감소했으며 카우노 알루스의 맥주...  \n",
       "4843  영업이익은 2007년 68.8 mn에서 35.4 mn으로 떨어졌으며, 선박 판매 이...  \n",
       "4844  페이퍼 부문 순매출은 2008년 2분기 241.1 mn에서 2009년 2분기 221...  \n",
       "4845   핀란드에서의 판매는 1월에 10.5% 감소한 반면, 국외에서의 판매는 17% 감소했다.  "
      ]
     },
     "execution_count": 6,
     "metadata": {},
     "output_type": "execute_result"
    }
   ],
   "source": [
    "df_economy.tail()"
   ]
  },
  {
   "cell_type": "code",
   "execution_count": 7,
   "metadata": {},
   "outputs": [
    {
     "data": {
      "text/plain": [
       "(4846, 3)"
      ]
     },
     "execution_count": 7,
     "metadata": {},
     "output_type": "execute_result"
    }
   ],
   "source": [
    "df_economy.shape"
   ]
  },
  {
   "cell_type": "code",
   "execution_count": 23,
   "metadata": {},
   "outputs": [
    {
     "data": {
      "text/plain": [
       "0"
      ]
     },
     "execution_count": 23,
     "metadata": {},
     "output_type": "execute_result"
    }
   ],
   "source": [
    "df_economy.isnull().sum().sum()"
   ]
  },
  {
   "cell_type": "code",
   "execution_count": 8,
   "metadata": {},
   "outputs": [
    {
     "data": {
      "text/html": [
       "<div>\n",
       "<style scoped>\n",
       "    .dataframe tbody tr th:only-of-type {\n",
       "        vertical-align: middle;\n",
       "    }\n",
       "\n",
       "    .dataframe tbody tr th {\n",
       "        vertical-align: top;\n",
       "    }\n",
       "\n",
       "    .dataframe thead th {\n",
       "        text-align: right;\n",
       "    }\n",
       "</style>\n",
       "<table border=\"1\" class=\"dataframe\">\n",
       "  <thead>\n",
       "    <tr style=\"text-align: right;\">\n",
       "      <th></th>\n",
       "      <th>labels</th>\n",
       "      <th>kor_sentence</th>\n",
       "    </tr>\n",
       "  </thead>\n",
       "  <tbody>\n",
       "    <tr>\n",
       "      <th>0</th>\n",
       "      <td>neutral</td>\n",
       "      <td>Gran에 따르면, 그 회사는 회사가 성장하고 있는 곳이지만, 모든 생산을 러시아로...</td>\n",
       "    </tr>\n",
       "    <tr>\n",
       "      <th>1</th>\n",
       "      <td>neutral</td>\n",
       "      <td>테크노폴리스는 컴퓨터 기술과 통신 분야에서 일하는 회사들을 유치하기 위해 10만 평...</td>\n",
       "    </tr>\n",
       "    <tr>\n",
       "      <th>2</th>\n",
       "      <td>negative</td>\n",
       "      <td>국제 전자산업 회사인 엘코텍은 탈린 공장에서 수십 명의 직원을 해고했으며, 이전의 ...</td>\n",
       "    </tr>\n",
       "    <tr>\n",
       "      <th>3</th>\n",
       "      <td>positive</td>\n",
       "      <td>새로운 생산공장으로 인해 회사는 예상되는 수요 증가를 충족시킬 수 있는 능력을 증가...</td>\n",
       "    </tr>\n",
       "    <tr>\n",
       "      <th>4</th>\n",
       "      <td>positive</td>\n",
       "      <td>2009-2012년 회사의 업데이트된 전략에 따르면, Basware는 20% - 4...</td>\n",
       "    </tr>\n",
       "    <tr>\n",
       "      <th>...</th>\n",
       "      <td>...</td>\n",
       "      <td>...</td>\n",
       "    </tr>\n",
       "    <tr>\n",
       "      <th>4841</th>\n",
       "      <td>negative</td>\n",
       "      <td>런던 마켓워치 -- 은행주의 반등이 FTSE 100지수의 약세를 상쇄하지 못하면서 ...</td>\n",
       "    </tr>\n",
       "    <tr>\n",
       "      <th>4842</th>\n",
       "      <td>neutral</td>\n",
       "      <td>린쿠스키아의 맥주 판매량은 416만 리터로 6.5% 감소했으며 카우노 알루스의 맥주...</td>\n",
       "    </tr>\n",
       "    <tr>\n",
       "      <th>4843</th>\n",
       "      <td>negative</td>\n",
       "      <td>영업이익은 2007년 68.8 mn에서 35.4 mn으로 떨어졌으며, 선박 판매 이...</td>\n",
       "    </tr>\n",
       "    <tr>\n",
       "      <th>4844</th>\n",
       "      <td>negative</td>\n",
       "      <td>페이퍼 부문 순매출은 2008년 2분기 241.1 mn에서 2009년 2분기 221...</td>\n",
       "    </tr>\n",
       "    <tr>\n",
       "      <th>4845</th>\n",
       "      <td>negative</td>\n",
       "      <td>핀란드에서의 판매는 1월에 10.5% 감소한 반면, 국외에서의 판매는 17% 감소했다.</td>\n",
       "    </tr>\n",
       "  </tbody>\n",
       "</table>\n",
       "<p>4846 rows × 2 columns</p>\n",
       "</div>"
      ],
      "text/plain": [
       "        labels                                       kor_sentence\n",
       "0      neutral  Gran에 따르면, 그 회사는 회사가 성장하고 있는 곳이지만, 모든 생산을 러시아로...\n",
       "1      neutral  테크노폴리스는 컴퓨터 기술과 통신 분야에서 일하는 회사들을 유치하기 위해 10만 평...\n",
       "2     negative  국제 전자산업 회사인 엘코텍은 탈린 공장에서 수십 명의 직원을 해고했으며, 이전의 ...\n",
       "3     positive  새로운 생산공장으로 인해 회사는 예상되는 수요 증가를 충족시킬 수 있는 능력을 증가...\n",
       "4     positive  2009-2012년 회사의 업데이트된 전략에 따르면, Basware는 20% - 4...\n",
       "...        ...                                                ...\n",
       "4841  negative  런던 마켓워치 -- 은행주의 반등이 FTSE 100지수의 약세를 상쇄하지 못하면서 ...\n",
       "4842   neutral  린쿠스키아의 맥주 판매량은 416만 리터로 6.5% 감소했으며 카우노 알루스의 맥주...\n",
       "4843  negative  영업이익은 2007년 68.8 mn에서 35.4 mn으로 떨어졌으며, 선박 판매 이...\n",
       "4844  negative  페이퍼 부문 순매출은 2008년 2분기 241.1 mn에서 2009년 2분기 221...\n",
       "4845  negative   핀란드에서의 판매는 1월에 10.5% 감소한 반면, 국외에서의 판매는 17% 감소했다.\n",
       "\n",
       "[4846 rows x 2 columns]"
      ]
     },
     "execution_count": 8,
     "metadata": {},
     "output_type": "execute_result"
    }
   ],
   "source": [
    "df_economy.drop('sentence',axis=1,inplace=True) #영어 문장컬럼 drop 하고 inplace로 바로 적용\n",
    "df_economy"
   ]
  },
  {
   "cell_type": "code",
   "execution_count": null,
   "metadata": {},
   "outputs": [],
   "source": []
  },
  {
   "cell_type": "code",
   "execution_count": 9,
   "metadata": {},
   "outputs": [],
   "source": [
    "#2018년도 고용 기사 분석\n",
    "df_2018_1 = pd.read_excel(DATA_PATH+r\"\\\\hire_data\\2018\\\\df_2018_1.xlsx\")\n",
    "df_2018_2 = pd.read_excel(DATA_PATH+r\"\\\\hire_data\\2018\\\\df_2018_2.xlsx\") \n",
    "df_2018_3 = pd.read_excel(DATA_PATH+r\"\\\\hire_data\\2018\\\\df_2018_3.xlsx\") \n",
    "df_2018_4 = pd.read_excel(DATA_PATH+r\"\\\\hire_data\\2018\\\\df_2018_4.xlsx\") \n",
    "df_2018_5 = pd.read_excel(DATA_PATH+r\"\\\\hire_data\\2018\\\\df_2018_5.xlsx\") \n",
    "df_2018_6 = pd.read_excel(DATA_PATH+r\"\\\\hire_data\\2018\\\\df_2018_6.xlsx\") \n",
    "df_2018_7 = pd.read_excel(DATA_PATH+r\"\\\\hire_data\\2018\\\\df_2018_7.xlsx\") \n",
    "df_2018_8 = pd.read_excel(DATA_PATH+r\"\\\\hire_data\\2018\\\\df_2018_8.xlsx\") \n",
    "df_2018_9 = pd.read_excel(DATA_PATH+r\"\\\\hire_data\\2018\\\\df_2018_9.xlsx\")\n",
    "df_2018_10 = pd.read_excel(DATA_PATH+r\"\\\\hire_data\\2018\\\\df_2018_10.xlsx\") \n",
    "df_2018_11 = pd.read_excel(DATA_PATH+r\"\\\\hire_data\\2018\\\\df_2018_11.xlsx\") \n",
    "df_2018_12 = pd.read_excel(DATA_PATH+r\"\\\\hire_data\\2018\\\\df_2018_12.xlsx\")   "
   ]
  },
  {
   "cell_type": "code",
   "execution_count": 10,
   "metadata": {},
   "outputs": [
    {
     "name": "stdout",
     "output_type": "stream",
     "text": [
      "0 11 0 0 0 0 0 0 0 1 0 0\n"
     ]
    }
   ],
   "source": [
    "print(df_2018_1.isnull().sum().sum(),\n",
    "df_2018_2.isnull().sum().sum(),\n",
    "df_2018_3.isnull().sum().sum(),\n",
    "df_2018_4.isnull().sum().sum(),\n",
    "df_2018_5.isnull().sum().sum(),\n",
    "df_2018_6.isnull().sum().sum(),\n",
    "df_2018_7.isnull().sum().sum(),\n",
    "df_2018_8.isnull().sum().sum(),\n",
    "df_2018_9.isnull().sum().sum(),\n",
    "df_2018_10.isnull().sum().sum(),\n",
    "df_2018_11.isnull().sum().sum(),\n",
    "df_2018_12.isnull().sum().sum())\n",
    "#2월과 10월에 결측치 확인\n"
   ]
  },
  {
   "cell_type": "code",
   "execution_count": 11,
   "metadata": {},
   "outputs": [
    {
     "data": {
      "text/plain": [
       "날짜       0\n",
       "제목       0\n",
       "URL     11\n",
       "라벨러1     0\n",
       "라벨러2     0\n",
       "라벨러3     0\n",
       "라벨러4     0\n",
       "라벨러5     0\n",
       "라벨러6     0\n",
       "dtype: int64"
      ]
     },
     "execution_count": 11,
     "metadata": {},
     "output_type": "execute_result"
    }
   ],
   "source": [
    "df_2018_2.isnull().sum()"
   ]
  },
  {
   "cell_type": "code",
   "execution_count": 12,
   "metadata": {},
   "outputs": [
    {
     "data": {
      "text/plain": [
       "날짜      0\n",
       "제목      0\n",
       "URL     1\n",
       "라벨러1    0\n",
       "라벨러2    0\n",
       "라벨러3    0\n",
       "라벨러4    0\n",
       "라벨러5    0\n",
       "라벨러6    0\n",
       "dtype: int64"
      ]
     },
     "execution_count": 12,
     "metadata": {},
     "output_type": "execute_result"
    }
   ],
   "source": [
    "df_2018_10.isnull().sum() #2월과 10월치 모두 url에서 결측치 확인 어차피 url은 제거해줄 예정이므로 그냥 신경 안쓰고 concat"
   ]
  },
  {
   "cell_type": "code",
   "execution_count": 13,
   "metadata": {},
   "outputs": [],
   "source": [
    "#2019년도 고용 기사 분석\n",
    "df_2019_1 = pd.read_excel(DATA_PATH+r\"\\\\hire_data\\2019\\\\df_2019_1.xlsx\")\n",
    "df_2019_2 = pd.read_excel(DATA_PATH+r\"\\\\hire_data\\2019\\\\df_2019_2.xlsx\") \n",
    "df_2019_3 = pd.read_excel(DATA_PATH+r\"\\\\hire_data\\2019\\\\df_2019_3.xlsx\") \n",
    "df_2019_4 = pd.read_excel(DATA_PATH+r\"\\\\hire_data\\2019\\\\df_2019_4.xlsx\") \n",
    "df_2019_5 = pd.read_excel(DATA_PATH+r\"\\\\hire_data\\2019\\\\df_2019_5.xlsx\") \n",
    "df_2019_6 = pd.read_excel(DATA_PATH+r\"\\\\hire_data\\2019\\\\df_2019_6.xlsx\") \n",
    "df_2019_7 = pd.read_excel(DATA_PATH+r\"\\\\hire_data\\2019\\\\df_2019_7.xlsx\") \n",
    "df_2019_8 = pd.read_excel(DATA_PATH+r\"\\\\hire_data\\2019\\\\df_2019_8.xlsx\") \n",
    "df_2019_9 = pd.read_excel(DATA_PATH+r\"\\\\hire_data\\2019\\\\df_2019_9.xlsx\")\n",
    "df_2019_10 = pd.read_excel(DATA_PATH+r\"\\\\hire_data\\2019\\\\df_2019_10.xlsx\") \n",
    "df_2019_11 = pd.read_excel(DATA_PATH+r\"\\\\hire_data\\2019\\\\df_2019_11.xlsx\") \n",
    "df_2019_12 = pd.read_excel(DATA_PATH+r\"\\\\hire_data\\2019\\\\df_2019_12.xlsx\")   "
   ]
  },
  {
   "cell_type": "code",
   "execution_count": 14,
   "metadata": {},
   "outputs": [
    {
     "name": "stdout",
     "output_type": "stream",
     "text": [
      "0 0 0 0 0 0 0 0 0 0 0 0\n"
     ]
    }
   ],
   "source": [
    "print(df_2019_1.isnull().sum().sum(),\n",
    "df_2019_2.isnull().sum().sum(),\n",
    "df_2019_3.isnull().sum().sum(),\n",
    "df_2019_4.isnull().sum().sum(),\n",
    "df_2019_5.isnull().sum().sum(),\n",
    "df_2019_6.isnull().sum().sum(),\n",
    "df_2019_7.isnull().sum().sum(),\n",
    "df_2019_8.isnull().sum().sum(),\n",
    "df_2019_9.isnull().sum().sum(),\n",
    "df_2019_10.isnull().sum().sum(),\n",
    "df_2019_11.isnull().sum().sum(),\n",
    "df_2019_12.isnull().sum().sum())"
   ]
  },
  {
   "cell_type": "code",
   "execution_count": 15,
   "metadata": {},
   "outputs": [],
   "source": [
    "#2020년도 고용 기사 분석\n",
    "df_2020_1 = pd.read_excel(DATA_PATH+r\"\\\\hire_data\\2020\\\\df_2020_1.xlsx\")\n",
    "df_2020_2 = pd.read_excel(DATA_PATH+r\"\\\\hire_data\\2020\\\\df_2020_2.xlsx\") \n",
    "df_2020_3 = pd.read_excel(DATA_PATH+r\"\\\\hire_data\\2020\\\\df_2020_3.xlsx\") \n",
    "df_2020_4 = pd.read_excel(DATA_PATH+r\"\\\\hire_data\\2020\\\\df_2020_4.xlsx\") \n",
    "df_2020_5 = pd.read_excel(DATA_PATH+r\"\\\\hire_data\\2020\\\\df_2020_5.xlsx\") \n",
    "df_2020_6 = pd.read_excel(DATA_PATH+r\"\\\\hire_data\\2020\\\\df_2020_6.xlsx\") \n",
    "df_2020_7 = pd.read_excel(DATA_PATH+r\"\\\\hire_data\\2020\\\\df_2020_7.xlsx\") \n",
    "df_2020_8 = pd.read_excel(DATA_PATH+r\"\\\\hire_data\\2020\\\\df_2020_8.xlsx\") "
   ]
  },
  {
   "cell_type": "code",
   "execution_count": 16,
   "metadata": {},
   "outputs": [
    {
     "name": "stdout",
     "output_type": "stream",
     "text": [
      "0 0 0 0 0 0 0 0\n"
     ]
    }
   ],
   "source": [
    "print(df_2020_1.isnull().sum().sum(),\n",
    "df_2020_2.isnull().sum().sum(),\n",
    "df_2020_3.isnull().sum().sum(),\n",
    "df_2020_4.isnull().sum().sum(),\n",
    "df_2020_5.isnull().sum().sum(),\n",
    "df_2020_6.isnull().sum().sum(),\n",
    "df_2020_7.isnull().sum().sum(),\n",
    "df_2020_8.isnull().sum().sum())\n"
   ]
  },
  {
   "cell_type": "code",
   "execution_count": 24,
   "metadata": {},
   "outputs": [],
   "source": [
    "#df_2018 df_2019, df_2020 전부 concat\n",
    "df_hire=pd.concat([df_2018_1,df_2018_2,df_2018_3,df_2018_4,df_2018_5,df_2018_6,df_2018_7,df_2018_8,df_2018_9,df_2018_10,df_2018_11,df_2018_12,\n",
    "            df_2019_1,df_2019_2,df_2019_3,df_2019_4,df_2019_5,df_2019_6,df_2019_7,df_2019_8,df_2019_9,df_2019_10,df_2019_11,df_2019_12,\n",
    "            df_2020_1,df_2020_2,df_2020_3,df_2020_4,df_2020_5,df_2020_6,df_2020_7,df_2020_8],ignore_index=True)"
   ]
  },
  {
   "cell_type": "code",
   "execution_count": 18,
   "metadata": {},
   "outputs": [
    {
     "data": {
      "text/html": [
       "<div>\n",
       "<style scoped>\n",
       "    .dataframe tbody tr th:only-of-type {\n",
       "        vertical-align: middle;\n",
       "    }\n",
       "\n",
       "    .dataframe tbody tr th {\n",
       "        vertical-align: top;\n",
       "    }\n",
       "\n",
       "    .dataframe thead th {\n",
       "        text-align: right;\n",
       "    }\n",
       "</style>\n",
       "<table border=\"1\" class=\"dataframe\">\n",
       "  <thead>\n",
       "    <tr style=\"text-align: right;\">\n",
       "      <th></th>\n",
       "      <th>날짜</th>\n",
       "      <th>제목</th>\n",
       "      <th>URL</th>\n",
       "      <th>라벨러1</th>\n",
       "      <th>라벨러2</th>\n",
       "      <th>라벨러3</th>\n",
       "      <th>라벨러4</th>\n",
       "      <th>라벨러5</th>\n",
       "      <th>라벨러6</th>\n",
       "    </tr>\n",
       "  </thead>\n",
       "  <tbody>\n",
       "    <tr>\n",
       "      <th>0</th>\n",
       "      <td>20180102</td>\n",
       "      <td>[신년사]손경식 CJ회장_ \"해외사업 공격적 확장_ 성장 가속화\"</td>\n",
       "      <td>http://news.naver.com/main/read.nhn?mode=LSD&amp;m...</td>\n",
       "      <td>3</td>\n",
       "      <td>3</td>\n",
       "      <td>3</td>\n",
       "      <td>4</td>\n",
       "      <td>3</td>\n",
       "      <td>3</td>\n",
       "    </tr>\n",
       "    <tr>\n",
       "      <th>1</th>\n",
       "      <td>20180109</td>\n",
       "      <td>[취업과 창업]신입사원 연차 생기고 공공기관 채용 역대 최대</td>\n",
       "      <td>http://news.naver.com/main/read.nhn?mode=LSD&amp;m...</td>\n",
       "      <td>4</td>\n",
       "      <td>4</td>\n",
       "      <td>5</td>\n",
       "      <td>5</td>\n",
       "      <td>5</td>\n",
       "      <td>4</td>\n",
       "    </tr>\n",
       "    <tr>\n",
       "      <th>2</th>\n",
       "      <td>20180109</td>\n",
       "      <td>2018년 채용연계형 인턴채용 문 열렸다</td>\n",
       "      <td>http://news.naver.com/main/read.nhn?mode=LSD&amp;m...</td>\n",
       "      <td>4</td>\n",
       "      <td>4</td>\n",
       "      <td>4</td>\n",
       "      <td>4</td>\n",
       "      <td>5</td>\n",
       "      <td>4</td>\n",
       "    </tr>\n",
       "    <tr>\n",
       "      <th>3</th>\n",
       "      <td>20180109</td>\n",
       "      <td>무술년 채용연계형 인턴채용 스타트</td>\n",
       "      <td>http://news.naver.com/main/read.nhn?mode=LSD&amp;m...</td>\n",
       "      <td>4</td>\n",
       "      <td>3</td>\n",
       "      <td>4</td>\n",
       "      <td>4</td>\n",
       "      <td>5</td>\n",
       "      <td>4</td>\n",
       "    </tr>\n",
       "    <tr>\n",
       "      <th>4</th>\n",
       "      <td>20180111</td>\n",
       "      <td>그냥 쉬었다 청년_ 30만명 역대 최고치</td>\n",
       "      <td>http://news.naver.com/main/read.nhn?mode=LSD&amp;m...</td>\n",
       "      <td>2</td>\n",
       "      <td>2</td>\n",
       "      <td>1</td>\n",
       "      <td>1</td>\n",
       "      <td>1</td>\n",
       "      <td>1</td>\n",
       "    </tr>\n",
       "  </tbody>\n",
       "</table>\n",
       "</div>"
      ],
      "text/plain": [
       "         날짜                                    제목   \n",
       "0  20180102  [신년사]손경식 CJ회장_ \"해외사업 공격적 확장_ 성장 가속화\"  \\\n",
       "1  20180109     [취업과 창업]신입사원 연차 생기고 공공기관 채용 역대 최대   \n",
       "2  20180109                2018년 채용연계형 인턴채용 문 열렸다   \n",
       "3  20180109                    무술년 채용연계형 인턴채용 스타트   \n",
       "4  20180111                그냥 쉬었다 청년_ 30만명 역대 최고치   \n",
       "\n",
       "                                                 URL  라벨러1  라벨러2  라벨러3  라벨러4   \n",
       "0  http://news.naver.com/main/read.nhn?mode=LSD&m...     3     3     3     4  \\\n",
       "1  http://news.naver.com/main/read.nhn?mode=LSD&m...     4     4     5     5   \n",
       "2  http://news.naver.com/main/read.nhn?mode=LSD&m...     4     4     4     4   \n",
       "3  http://news.naver.com/main/read.nhn?mode=LSD&m...     4     3     4     4   \n",
       "4  http://news.naver.com/main/read.nhn?mode=LSD&m...     2     2     1     1   \n",
       "\n",
       "   라벨러5  라벨러6  \n",
       "0     3     3  \n",
       "1     5     4  \n",
       "2     5     4  \n",
       "3     5     4  \n",
       "4     1     1  "
      ]
     },
     "execution_count": 18,
     "metadata": {},
     "output_type": "execute_result"
    }
   ],
   "source": [
    "df_hire.head()"
   ]
  },
  {
   "cell_type": "code",
   "execution_count": 19,
   "metadata": {},
   "outputs": [
    {
     "data": {
      "text/html": [
       "<div>\n",
       "<style scoped>\n",
       "    .dataframe tbody tr th:only-of-type {\n",
       "        vertical-align: middle;\n",
       "    }\n",
       "\n",
       "    .dataframe tbody tr th {\n",
       "        vertical-align: top;\n",
       "    }\n",
       "\n",
       "    .dataframe thead th {\n",
       "        text-align: right;\n",
       "    }\n",
       "</style>\n",
       "<table border=\"1\" class=\"dataframe\">\n",
       "  <thead>\n",
       "    <tr style=\"text-align: right;\">\n",
       "      <th></th>\n",
       "      <th>날짜</th>\n",
       "      <th>제목</th>\n",
       "      <th>URL</th>\n",
       "      <th>라벨러1</th>\n",
       "      <th>라벨러2</th>\n",
       "      <th>라벨러3</th>\n",
       "      <th>라벨러4</th>\n",
       "      <th>라벨러5</th>\n",
       "      <th>라벨러6</th>\n",
       "    </tr>\n",
       "  </thead>\n",
       "  <tbody>\n",
       "    <tr>\n",
       "      <th>7613</th>\n",
       "      <td>20200831</td>\n",
       "      <td>코로나 충격에 따른 근로 시간 감소_ 과거 위기의 5배</td>\n",
       "      <td>https://news.naver.com/main/read.nhn?mode=LSD&amp;...</td>\n",
       "      <td>2</td>\n",
       "      <td>2</td>\n",
       "      <td>2</td>\n",
       "      <td>2</td>\n",
       "      <td>2</td>\n",
       "      <td>2</td>\n",
       "    </tr>\n",
       "    <tr>\n",
       "      <th>7614</th>\n",
       "      <td>20200831</td>\n",
       "      <td>7월 사업체종사자 13만8천명 감소 코로나19 여파에 5개월째 감소</td>\n",
       "      <td>https://news.naver.com/main/read.nhn?mode=LSD&amp;...</td>\n",
       "      <td>4</td>\n",
       "      <td>4</td>\n",
       "      <td>1</td>\n",
       "      <td>2</td>\n",
       "      <td>2</td>\n",
       "      <td>2</td>\n",
       "    </tr>\n",
       "    <tr>\n",
       "      <th>7615</th>\n",
       "      <td>20200826</td>\n",
       "      <td>한치 앞도 안보인다..채용문 꽁꽁 닫는 카드사</td>\n",
       "      <td>https://news.naver.com/main/read.nhn?mode=LSD&amp;...</td>\n",
       "      <td>2</td>\n",
       "      <td>2</td>\n",
       "      <td>1</td>\n",
       "      <td>2</td>\n",
       "      <td>2</td>\n",
       "      <td>3</td>\n",
       "    </tr>\n",
       "    <tr>\n",
       "      <th>7616</th>\n",
       "      <td>20200831</td>\n",
       "      <td>토스_ 고객 상담직 신입 및 경력 30명 공개 채용</td>\n",
       "      <td>https://news.naver.com/main/read.nhn?mode=LSD&amp;...</td>\n",
       "      <td>4</td>\n",
       "      <td>4</td>\n",
       "      <td>4</td>\n",
       "      <td>4</td>\n",
       "      <td>2</td>\n",
       "      <td>3</td>\n",
       "    </tr>\n",
       "    <tr>\n",
       "      <th>7617</th>\n",
       "      <td>20200831</td>\n",
       "      <td>토스_ 연봉 3000만원 고객 상담직 공개채용</td>\n",
       "      <td>https://news.naver.com/main/read.nhn?mode=LSD&amp;...</td>\n",
       "      <td>4</td>\n",
       "      <td>4</td>\n",
       "      <td>4</td>\n",
       "      <td>4</td>\n",
       "      <td>4</td>\n",
       "      <td>3</td>\n",
       "    </tr>\n",
       "  </tbody>\n",
       "</table>\n",
       "</div>"
      ],
      "text/plain": [
       "            날짜                                     제목   \n",
       "7613  20200831         코로나 충격에 따른 근로 시간 감소_ 과거 위기의 5배  \\\n",
       "7614  20200831  7월 사업체종사자 13만8천명 감소 코로나19 여파에 5개월째 감소   \n",
       "7615  20200826              한치 앞도 안보인다..채용문 꽁꽁 닫는 카드사   \n",
       "7616  20200831           토스_ 고객 상담직 신입 및 경력 30명 공개 채용   \n",
       "7617  20200831              토스_ 연봉 3000만원 고객 상담직 공개채용   \n",
       "\n",
       "                                                    URL  라벨러1  라벨러2  라벨러3   \n",
       "7613  https://news.naver.com/main/read.nhn?mode=LSD&...     2     2     2  \\\n",
       "7614  https://news.naver.com/main/read.nhn?mode=LSD&...     4     4     1   \n",
       "7615  https://news.naver.com/main/read.nhn?mode=LSD&...     2     2     1   \n",
       "7616  https://news.naver.com/main/read.nhn?mode=LSD&...     4     4     4   \n",
       "7617  https://news.naver.com/main/read.nhn?mode=LSD&...     4     4     4   \n",
       "\n",
       "      라벨러4  라벨러5  라벨러6  \n",
       "7613     2     2     2  \n",
       "7614     2     2     2  \n",
       "7615     2     2     3  \n",
       "7616     4     2     3  \n",
       "7617     4     4     3  "
      ]
     },
     "execution_count": 19,
     "metadata": {},
     "output_type": "execute_result"
    }
   ],
   "source": [
    "df_hire.tail()"
   ]
  },
  {
   "cell_type": "code",
   "execution_count": 27,
   "metadata": {},
   "outputs": [
    {
     "data": {
      "text/plain": [
       "((7618, 9),\n",
       " 날짜       0\n",
       " 제목       0\n",
       " URL     12\n",
       " 라벨러1     0\n",
       " 라벨러2     0\n",
       " 라벨러3     0\n",
       " 라벨러4     0\n",
       " 라벨러5     0\n",
       " 라벨러6     0\n",
       " dtype: int64)"
      ]
     },
     "execution_count": 27,
     "metadata": {},
     "output_type": "execute_result"
    }
   ],
   "source": [
    "df_hire.shape,df_hire.isnull().sum()"
   ]
  },
  {
   "cell_type": "code",
   "execution_count": 21,
   "metadata": {},
   "outputs": [
    {
     "data": {
      "text/plain": [
       "((4846, 2), (7618, 9))"
      ]
     },
     "execution_count": 21,
     "metadata": {},
     "output_type": "execute_result"
    }
   ],
   "source": [
    "df_economy.shape,df_hire.shape # 총 7618개의 데이터 그리고 9개의 컬럼 위에 데이터와 나중에 합치면 총 11000~12000개 사이의 데이터"
   ]
  },
  {
   "cell_type": "code",
   "execution_count": 28,
   "metadata": {},
   "outputs": [
    {
     "data": {
      "text/plain": [
       "<bound method DataFrame.info of             날짜                                     제목   \n",
       "0     20180102   [신년사]손경식 CJ회장_ \"해외사업 공격적 확장_ 성장 가속화\"  \\\n",
       "1     20180109      [취업과 창업]신입사원 연차 생기고 공공기관 채용 역대 최대   \n",
       "2     20180109                 2018년 채용연계형 인턴채용 문 열렸다   \n",
       "3     20180109                     무술년 채용연계형 인턴채용 스타트   \n",
       "4     20180111                 그냥 쉬었다 청년_ 30만명 역대 최고치   \n",
       "...        ...                                    ...   \n",
       "7613  20200831         코로나 충격에 따른 근로 시간 감소_ 과거 위기의 5배   \n",
       "7614  20200831  7월 사업체종사자 13만8천명 감소 코로나19 여파에 5개월째 감소   \n",
       "7615  20200826              한치 앞도 안보인다..채용문 꽁꽁 닫는 카드사   \n",
       "7616  20200831           토스_ 고객 상담직 신입 및 경력 30명 공개 채용   \n",
       "7617  20200831              토스_ 연봉 3000만원 고객 상담직 공개채용   \n",
       "\n",
       "                                                    URL  라벨러1  라벨러2  라벨러3   \n",
       "0     http://news.naver.com/main/read.nhn?mode=LSD&m...     3     3     3  \\\n",
       "1     http://news.naver.com/main/read.nhn?mode=LSD&m...     4     4     5   \n",
       "2     http://news.naver.com/main/read.nhn?mode=LSD&m...     4     4     4   \n",
       "3     http://news.naver.com/main/read.nhn?mode=LSD&m...     4     3     4   \n",
       "4     http://news.naver.com/main/read.nhn?mode=LSD&m...     2     2     1   \n",
       "...                                                 ...   ...   ...   ...   \n",
       "7613  https://news.naver.com/main/read.nhn?mode=LSD&...     2     2     2   \n",
       "7614  https://news.naver.com/main/read.nhn?mode=LSD&...     4     4     1   \n",
       "7615  https://news.naver.com/main/read.nhn?mode=LSD&...     2     2     1   \n",
       "7616  https://news.naver.com/main/read.nhn?mode=LSD&...     4     4     4   \n",
       "7617  https://news.naver.com/main/read.nhn?mode=LSD&...     4     4     4   \n",
       "\n",
       "      라벨러4  라벨러5  라벨러6  \n",
       "0        4     3     3  \n",
       "1        5     5     4  \n",
       "2        4     5     4  \n",
       "3        4     5     4  \n",
       "4        1     1     1  \n",
       "...    ...   ...   ...  \n",
       "7613     2     2     2  \n",
       "7614     2     2     2  \n",
       "7615     2     2     3  \n",
       "7616     4     2     3  \n",
       "7617     4     4     3  \n",
       "\n",
       "[7618 rows x 9 columns]>"
      ]
     },
     "execution_count": 28,
     "metadata": {},
     "output_type": "execute_result"
    }
   ],
   "source": [
    "df_hire.info"
   ]
  },
  {
   "cell_type": "code",
   "execution_count": 29,
   "metadata": {},
   "outputs": [],
   "source": [
    "#이제 해야될 것들은 제목과 라벨만 남기고 나머지 컬럼은 지우고 라벨은 6명을 평균내서 3점 근방은 중립 그 이상은 긍정 그이하는 부정으로\n",
    "#처리 후에 생긴 데이터프레임을 위에 이코노미 데이터셋과 합치기 그 다음에 만들어진 커다란 데이터셋으로 전처리하고 사전모델 공부한뒤\n",
    "#파인 튜닝 해보기 여러 코드들 참조해보기   "
   ]
  },
  {
   "cell_type": "code",
   "execution_count": 30,
   "metadata": {},
   "outputs": [
    {
     "data": {
      "text/html": [
       "<div>\n",
       "<style scoped>\n",
       "    .dataframe tbody tr th:only-of-type {\n",
       "        vertical-align: middle;\n",
       "    }\n",
       "\n",
       "    .dataframe tbody tr th {\n",
       "        vertical-align: top;\n",
       "    }\n",
       "\n",
       "    .dataframe thead th {\n",
       "        text-align: right;\n",
       "    }\n",
       "</style>\n",
       "<table border=\"1\" class=\"dataframe\">\n",
       "  <thead>\n",
       "    <tr style=\"text-align: right;\">\n",
       "      <th></th>\n",
       "      <th>날짜</th>\n",
       "      <th>제목</th>\n",
       "      <th>URL</th>\n",
       "      <th>라벨러1</th>\n",
       "      <th>라벨러2</th>\n",
       "      <th>라벨러3</th>\n",
       "      <th>라벨러4</th>\n",
       "      <th>라벨러5</th>\n",
       "      <th>라벨러6</th>\n",
       "    </tr>\n",
       "  </thead>\n",
       "  <tbody>\n",
       "    <tr>\n",
       "      <th>0</th>\n",
       "      <td>20180102</td>\n",
       "      <td>[신년사]손경식 CJ회장_ \"해외사업 공격적 확장_ 성장 가속화\"</td>\n",
       "      <td>http://news.naver.com/main/read.nhn?mode=LSD&amp;m...</td>\n",
       "      <td>3</td>\n",
       "      <td>3</td>\n",
       "      <td>3</td>\n",
       "      <td>4</td>\n",
       "      <td>3</td>\n",
       "      <td>3</td>\n",
       "    </tr>\n",
       "    <tr>\n",
       "      <th>1</th>\n",
       "      <td>20180109</td>\n",
       "      <td>[취업과 창업]신입사원 연차 생기고 공공기관 채용 역대 최대</td>\n",
       "      <td>http://news.naver.com/main/read.nhn?mode=LSD&amp;m...</td>\n",
       "      <td>4</td>\n",
       "      <td>4</td>\n",
       "      <td>5</td>\n",
       "      <td>5</td>\n",
       "      <td>5</td>\n",
       "      <td>4</td>\n",
       "    </tr>\n",
       "    <tr>\n",
       "      <th>2</th>\n",
       "      <td>20180109</td>\n",
       "      <td>2018년 채용연계형 인턴채용 문 열렸다</td>\n",
       "      <td>http://news.naver.com/main/read.nhn?mode=LSD&amp;m...</td>\n",
       "      <td>4</td>\n",
       "      <td>4</td>\n",
       "      <td>4</td>\n",
       "      <td>4</td>\n",
       "      <td>5</td>\n",
       "      <td>4</td>\n",
       "    </tr>\n",
       "    <tr>\n",
       "      <th>3</th>\n",
       "      <td>20180109</td>\n",
       "      <td>무술년 채용연계형 인턴채용 스타트</td>\n",
       "      <td>http://news.naver.com/main/read.nhn?mode=LSD&amp;m...</td>\n",
       "      <td>4</td>\n",
       "      <td>3</td>\n",
       "      <td>4</td>\n",
       "      <td>4</td>\n",
       "      <td>5</td>\n",
       "      <td>4</td>\n",
       "    </tr>\n",
       "    <tr>\n",
       "      <th>4</th>\n",
       "      <td>20180111</td>\n",
       "      <td>그냥 쉬었다 청년_ 30만명 역대 최고치</td>\n",
       "      <td>http://news.naver.com/main/read.nhn?mode=LSD&amp;m...</td>\n",
       "      <td>2</td>\n",
       "      <td>2</td>\n",
       "      <td>1</td>\n",
       "      <td>1</td>\n",
       "      <td>1</td>\n",
       "      <td>1</td>\n",
       "    </tr>\n",
       "  </tbody>\n",
       "</table>\n",
       "</div>"
      ],
      "text/plain": [
       "         날짜                                    제목   \n",
       "0  20180102  [신년사]손경식 CJ회장_ \"해외사업 공격적 확장_ 성장 가속화\"  \\\n",
       "1  20180109     [취업과 창업]신입사원 연차 생기고 공공기관 채용 역대 최대   \n",
       "2  20180109                2018년 채용연계형 인턴채용 문 열렸다   \n",
       "3  20180109                    무술년 채용연계형 인턴채용 스타트   \n",
       "4  20180111                그냥 쉬었다 청년_ 30만명 역대 최고치   \n",
       "\n",
       "                                                 URL  라벨러1  라벨러2  라벨러3  라벨러4   \n",
       "0  http://news.naver.com/main/read.nhn?mode=LSD&m...     3     3     3     4  \\\n",
       "1  http://news.naver.com/main/read.nhn?mode=LSD&m...     4     4     5     5   \n",
       "2  http://news.naver.com/main/read.nhn?mode=LSD&m...     4     4     4     4   \n",
       "3  http://news.naver.com/main/read.nhn?mode=LSD&m...     4     3     4     4   \n",
       "4  http://news.naver.com/main/read.nhn?mode=LSD&m...     2     2     1     1   \n",
       "\n",
       "   라벨러5  라벨러6  \n",
       "0     3     3  \n",
       "1     5     4  \n",
       "2     5     4  \n",
       "3     5     4  \n",
       "4     1     1  "
      ]
     },
     "execution_count": 30,
     "metadata": {},
     "output_type": "execute_result"
    }
   ],
   "source": [
    "df_hire.head()"
   ]
  },
  {
   "cell_type": "code",
   "execution_count": 31,
   "metadata": {},
   "outputs": [],
   "source": [
    "df_hire= df_hire.drop(['날짜','URL'],axis=1)"
   ]
  },
  {
   "cell_type": "code",
   "execution_count": 32,
   "metadata": {},
   "outputs": [
    {
     "data": {
      "text/html": [
       "<div>\n",
       "<style scoped>\n",
       "    .dataframe tbody tr th:only-of-type {\n",
       "        vertical-align: middle;\n",
       "    }\n",
       "\n",
       "    .dataframe tbody tr th {\n",
       "        vertical-align: top;\n",
       "    }\n",
       "\n",
       "    .dataframe thead th {\n",
       "        text-align: right;\n",
       "    }\n",
       "</style>\n",
       "<table border=\"1\" class=\"dataframe\">\n",
       "  <thead>\n",
       "    <tr style=\"text-align: right;\">\n",
       "      <th></th>\n",
       "      <th>제목</th>\n",
       "      <th>라벨러1</th>\n",
       "      <th>라벨러2</th>\n",
       "      <th>라벨러3</th>\n",
       "      <th>라벨러4</th>\n",
       "      <th>라벨러5</th>\n",
       "      <th>라벨러6</th>\n",
       "    </tr>\n",
       "  </thead>\n",
       "  <tbody>\n",
       "    <tr>\n",
       "      <th>0</th>\n",
       "      <td>[신년사]손경식 CJ회장_ \"해외사업 공격적 확장_ 성장 가속화\"</td>\n",
       "      <td>3</td>\n",
       "      <td>3</td>\n",
       "      <td>3</td>\n",
       "      <td>4</td>\n",
       "      <td>3</td>\n",
       "      <td>3</td>\n",
       "    </tr>\n",
       "    <tr>\n",
       "      <th>1</th>\n",
       "      <td>[취업과 창업]신입사원 연차 생기고 공공기관 채용 역대 최대</td>\n",
       "      <td>4</td>\n",
       "      <td>4</td>\n",
       "      <td>5</td>\n",
       "      <td>5</td>\n",
       "      <td>5</td>\n",
       "      <td>4</td>\n",
       "    </tr>\n",
       "    <tr>\n",
       "      <th>2</th>\n",
       "      <td>2018년 채용연계형 인턴채용 문 열렸다</td>\n",
       "      <td>4</td>\n",
       "      <td>4</td>\n",
       "      <td>4</td>\n",
       "      <td>4</td>\n",
       "      <td>5</td>\n",
       "      <td>4</td>\n",
       "    </tr>\n",
       "    <tr>\n",
       "      <th>3</th>\n",
       "      <td>무술년 채용연계형 인턴채용 스타트</td>\n",
       "      <td>4</td>\n",
       "      <td>3</td>\n",
       "      <td>4</td>\n",
       "      <td>4</td>\n",
       "      <td>5</td>\n",
       "      <td>4</td>\n",
       "    </tr>\n",
       "    <tr>\n",
       "      <th>4</th>\n",
       "      <td>그냥 쉬었다 청년_ 30만명 역대 최고치</td>\n",
       "      <td>2</td>\n",
       "      <td>2</td>\n",
       "      <td>1</td>\n",
       "      <td>1</td>\n",
       "      <td>1</td>\n",
       "      <td>1</td>\n",
       "    </tr>\n",
       "  </tbody>\n",
       "</table>\n",
       "</div>"
      ],
      "text/plain": [
       "                                     제목  라벨러1  라벨러2  라벨러3  라벨러4  라벨러5  라벨러6\n",
       "0  [신년사]손경식 CJ회장_ \"해외사업 공격적 확장_ 성장 가속화\"     3     3     3     4     3     3\n",
       "1     [취업과 창업]신입사원 연차 생기고 공공기관 채용 역대 최대     4     4     5     5     5     4\n",
       "2                2018년 채용연계형 인턴채용 문 열렸다     4     4     4     4     5     4\n",
       "3                    무술년 채용연계형 인턴채용 스타트     4     3     4     4     5     4\n",
       "4                그냥 쉬었다 청년_ 30만명 역대 최고치     2     2     1     1     1     1"
      ]
     },
     "execution_count": 32,
     "metadata": {},
     "output_type": "execute_result"
    }
   ],
   "source": [
    "df_hire.head()"
   ]
  },
  {
   "cell_type": "code",
   "execution_count": 33,
   "metadata": {},
   "outputs": [
    {
     "data": {
      "text/html": [
       "<div>\n",
       "<style scoped>\n",
       "    .dataframe tbody tr th:only-of-type {\n",
       "        vertical-align: middle;\n",
       "    }\n",
       "\n",
       "    .dataframe tbody tr th {\n",
       "        vertical-align: top;\n",
       "    }\n",
       "\n",
       "    .dataframe thead th {\n",
       "        text-align: right;\n",
       "    }\n",
       "</style>\n",
       "<table border=\"1\" class=\"dataframe\">\n",
       "  <thead>\n",
       "    <tr style=\"text-align: right;\">\n",
       "      <th></th>\n",
       "      <th>라벨러1</th>\n",
       "      <th>라벨러2</th>\n",
       "      <th>라벨러3</th>\n",
       "      <th>라벨러4</th>\n",
       "      <th>라벨러5</th>\n",
       "      <th>라벨러6</th>\n",
       "    </tr>\n",
       "  </thead>\n",
       "  <tbody>\n",
       "    <tr>\n",
       "      <th>0</th>\n",
       "      <td>3</td>\n",
       "      <td>3</td>\n",
       "      <td>3</td>\n",
       "      <td>4</td>\n",
       "      <td>3</td>\n",
       "      <td>3</td>\n",
       "    </tr>\n",
       "    <tr>\n",
       "      <th>1</th>\n",
       "      <td>4</td>\n",
       "      <td>4</td>\n",
       "      <td>5</td>\n",
       "      <td>5</td>\n",
       "      <td>5</td>\n",
       "      <td>4</td>\n",
       "    </tr>\n",
       "    <tr>\n",
       "      <th>2</th>\n",
       "      <td>4</td>\n",
       "      <td>4</td>\n",
       "      <td>4</td>\n",
       "      <td>4</td>\n",
       "      <td>5</td>\n",
       "      <td>4</td>\n",
       "    </tr>\n",
       "    <tr>\n",
       "      <th>3</th>\n",
       "      <td>4</td>\n",
       "      <td>3</td>\n",
       "      <td>4</td>\n",
       "      <td>4</td>\n",
       "      <td>5</td>\n",
       "      <td>4</td>\n",
       "    </tr>\n",
       "    <tr>\n",
       "      <th>4</th>\n",
       "      <td>2</td>\n",
       "      <td>2</td>\n",
       "      <td>1</td>\n",
       "      <td>1</td>\n",
       "      <td>1</td>\n",
       "      <td>1</td>\n",
       "    </tr>\n",
       "    <tr>\n",
       "      <th>...</th>\n",
       "      <td>...</td>\n",
       "      <td>...</td>\n",
       "      <td>...</td>\n",
       "      <td>...</td>\n",
       "      <td>...</td>\n",
       "      <td>...</td>\n",
       "    </tr>\n",
       "    <tr>\n",
       "      <th>7613</th>\n",
       "      <td>2</td>\n",
       "      <td>2</td>\n",
       "      <td>2</td>\n",
       "      <td>2</td>\n",
       "      <td>2</td>\n",
       "      <td>2</td>\n",
       "    </tr>\n",
       "    <tr>\n",
       "      <th>7614</th>\n",
       "      <td>4</td>\n",
       "      <td>4</td>\n",
       "      <td>1</td>\n",
       "      <td>2</td>\n",
       "      <td>2</td>\n",
       "      <td>2</td>\n",
       "    </tr>\n",
       "    <tr>\n",
       "      <th>7615</th>\n",
       "      <td>2</td>\n",
       "      <td>2</td>\n",
       "      <td>1</td>\n",
       "      <td>2</td>\n",
       "      <td>2</td>\n",
       "      <td>3</td>\n",
       "    </tr>\n",
       "    <tr>\n",
       "      <th>7616</th>\n",
       "      <td>4</td>\n",
       "      <td>4</td>\n",
       "      <td>4</td>\n",
       "      <td>4</td>\n",
       "      <td>2</td>\n",
       "      <td>3</td>\n",
       "    </tr>\n",
       "    <tr>\n",
       "      <th>7617</th>\n",
       "      <td>4</td>\n",
       "      <td>4</td>\n",
       "      <td>4</td>\n",
       "      <td>4</td>\n",
       "      <td>4</td>\n",
       "      <td>3</td>\n",
       "    </tr>\n",
       "  </tbody>\n",
       "</table>\n",
       "<p>7618 rows × 6 columns</p>\n",
       "</div>"
      ],
      "text/plain": [
       "      라벨러1  라벨러2  라벨러3  라벨러4  라벨러5  라벨러6\n",
       "0        3     3     3     4     3     3\n",
       "1        4     4     5     5     5     4\n",
       "2        4     4     4     4     5     4\n",
       "3        4     3     4     4     5     4\n",
       "4        2     2     1     1     1     1\n",
       "...    ...   ...   ...   ...   ...   ...\n",
       "7613     2     2     2     2     2     2\n",
       "7614     4     4     1     2     2     2\n",
       "7615     2     2     1     2     2     3\n",
       "7616     4     4     4     4     2     3\n",
       "7617     4     4     4     4     4     3\n",
       "\n",
       "[7618 rows x 6 columns]"
      ]
     },
     "execution_count": 33,
     "metadata": {},
     "output_type": "execute_result"
    }
   ],
   "source": [
    "#라벨러 1부터 6까지 다 더해서 평균 내기 2.6~3.4는 중립 3.4 초과는 긍정 2.6미만은 부정 그 평균낸 각각의 값들을 다시 df에 넣어주어 \n",
    "#몇부터 몇을 긍정 부정 중립 기준으로 잡을지는 직접 학습해보면서 해보는게 나을듯!!!\n",
    "#새로운 컬럼 생성\n",
    "# 보자 1(매우 부정) 2(약간 부정) 3(보통) 4(약간 긍정) 5(매우 긍정)\n",
    "df_sum=df_hire.drop('제목',axis=1)\n",
    "df_sum"
   ]
  },
  {
   "cell_type": "code",
   "execution_count": 34,
   "metadata": {},
   "outputs": [],
   "source": [
    "df_mean=df_sum.mean(axis=1) # 라벨러 6명의 각 감정지수의 평균"
   ]
  },
  {
   "cell_type": "code",
   "execution_count": 35,
   "metadata": {},
   "outputs": [
    {
     "data": {
      "text/plain": [
       "0       3.166667\n",
       "1       4.500000\n",
       "2       4.166667\n",
       "3       4.000000\n",
       "4       1.333333\n",
       "          ...   \n",
       "7613    2.000000\n",
       "7614    2.500000\n",
       "7615    2.000000\n",
       "7616    3.500000\n",
       "7617    3.833333\n",
       "Length: 7618, dtype: float64"
      ]
     },
     "execution_count": 35,
     "metadata": {},
     "output_type": "execute_result"
    }
   ],
   "source": [
    "df_mean"
   ]
  },
  {
   "cell_type": "code",
   "execution_count": 36,
   "metadata": {},
   "outputs": [
    {
     "data": {
      "text/html": [
       "<div>\n",
       "<style scoped>\n",
       "    .dataframe tbody tr th:only-of-type {\n",
       "        vertical-align: middle;\n",
       "    }\n",
       "\n",
       "    .dataframe tbody tr th {\n",
       "        vertical-align: top;\n",
       "    }\n",
       "\n",
       "    .dataframe thead th {\n",
       "        text-align: right;\n",
       "    }\n",
       "</style>\n",
       "<table border=\"1\" class=\"dataframe\">\n",
       "  <thead>\n",
       "    <tr style=\"text-align: right;\">\n",
       "      <th></th>\n",
       "      <th>sentiment</th>\n",
       "    </tr>\n",
       "  </thead>\n",
       "  <tbody>\n",
       "    <tr>\n",
       "      <th>0</th>\n",
       "      <td>3.166667</td>\n",
       "    </tr>\n",
       "    <tr>\n",
       "      <th>1</th>\n",
       "      <td>4.500000</td>\n",
       "    </tr>\n",
       "    <tr>\n",
       "      <th>2</th>\n",
       "      <td>4.166667</td>\n",
       "    </tr>\n",
       "    <tr>\n",
       "      <th>3</th>\n",
       "      <td>4.000000</td>\n",
       "    </tr>\n",
       "    <tr>\n",
       "      <th>4</th>\n",
       "      <td>1.333333</td>\n",
       "    </tr>\n",
       "    <tr>\n",
       "      <th>...</th>\n",
       "      <td>...</td>\n",
       "    </tr>\n",
       "    <tr>\n",
       "      <th>7613</th>\n",
       "      <td>2.000000</td>\n",
       "    </tr>\n",
       "    <tr>\n",
       "      <th>7614</th>\n",
       "      <td>2.500000</td>\n",
       "    </tr>\n",
       "    <tr>\n",
       "      <th>7615</th>\n",
       "      <td>2.000000</td>\n",
       "    </tr>\n",
       "    <tr>\n",
       "      <th>7616</th>\n",
       "      <td>3.500000</td>\n",
       "    </tr>\n",
       "    <tr>\n",
       "      <th>7617</th>\n",
       "      <td>3.833333</td>\n",
       "    </tr>\n",
       "  </tbody>\n",
       "</table>\n",
       "<p>7618 rows × 1 columns</p>\n",
       "</div>"
      ],
      "text/plain": [
       "      sentiment\n",
       "0      3.166667\n",
       "1      4.500000\n",
       "2      4.166667\n",
       "3      4.000000\n",
       "4      1.333333\n",
       "...         ...\n",
       "7613   2.000000\n",
       "7614   2.500000\n",
       "7615   2.000000\n",
       "7616   3.500000\n",
       "7617   3.833333\n",
       "\n",
       "[7618 rows x 1 columns]"
      ]
     },
     "execution_count": 36,
     "metadata": {},
     "output_type": "execute_result"
    }
   ],
   "source": [
    "df_mean=pd.DataFrame(df_mean, columns=['sentiment']) # 시리즈인 라벨러 지수 평균을 데이터프레임으로 변환 \n",
    "df_mean"
   ]
  },
  {
   "cell_type": "code",
   "execution_count": 37,
   "metadata": {},
   "outputs": [],
   "source": [
    "df_hire=df_hire.join(df_mean) # 감정지수 평균 낸거 붙여주기 df_hire에"
   ]
  },
  {
   "cell_type": "code",
   "execution_count": 38,
   "metadata": {},
   "outputs": [
    {
     "data": {
      "text/html": [
       "<div>\n",
       "<style scoped>\n",
       "    .dataframe tbody tr th:only-of-type {\n",
       "        vertical-align: middle;\n",
       "    }\n",
       "\n",
       "    .dataframe tbody tr th {\n",
       "        vertical-align: top;\n",
       "    }\n",
       "\n",
       "    .dataframe thead th {\n",
       "        text-align: right;\n",
       "    }\n",
       "</style>\n",
       "<table border=\"1\" class=\"dataframe\">\n",
       "  <thead>\n",
       "    <tr style=\"text-align: right;\">\n",
       "      <th></th>\n",
       "      <th>제목</th>\n",
       "      <th>라벨러1</th>\n",
       "      <th>라벨러2</th>\n",
       "      <th>라벨러3</th>\n",
       "      <th>라벨러4</th>\n",
       "      <th>라벨러5</th>\n",
       "      <th>라벨러6</th>\n",
       "      <th>sentiment</th>\n",
       "    </tr>\n",
       "  </thead>\n",
       "  <tbody>\n",
       "    <tr>\n",
       "      <th>0</th>\n",
       "      <td>[신년사]손경식 CJ회장_ \"해외사업 공격적 확장_ 성장 가속화\"</td>\n",
       "      <td>3</td>\n",
       "      <td>3</td>\n",
       "      <td>3</td>\n",
       "      <td>4</td>\n",
       "      <td>3</td>\n",
       "      <td>3</td>\n",
       "      <td>3.166667</td>\n",
       "    </tr>\n",
       "    <tr>\n",
       "      <th>1</th>\n",
       "      <td>[취업과 창업]신입사원 연차 생기고 공공기관 채용 역대 최대</td>\n",
       "      <td>4</td>\n",
       "      <td>4</td>\n",
       "      <td>5</td>\n",
       "      <td>5</td>\n",
       "      <td>5</td>\n",
       "      <td>4</td>\n",
       "      <td>4.500000</td>\n",
       "    </tr>\n",
       "    <tr>\n",
       "      <th>2</th>\n",
       "      <td>2018년 채용연계형 인턴채용 문 열렸다</td>\n",
       "      <td>4</td>\n",
       "      <td>4</td>\n",
       "      <td>4</td>\n",
       "      <td>4</td>\n",
       "      <td>5</td>\n",
       "      <td>4</td>\n",
       "      <td>4.166667</td>\n",
       "    </tr>\n",
       "    <tr>\n",
       "      <th>3</th>\n",
       "      <td>무술년 채용연계형 인턴채용 스타트</td>\n",
       "      <td>4</td>\n",
       "      <td>3</td>\n",
       "      <td>4</td>\n",
       "      <td>4</td>\n",
       "      <td>5</td>\n",
       "      <td>4</td>\n",
       "      <td>4.000000</td>\n",
       "    </tr>\n",
       "    <tr>\n",
       "      <th>4</th>\n",
       "      <td>그냥 쉬었다 청년_ 30만명 역대 최고치</td>\n",
       "      <td>2</td>\n",
       "      <td>2</td>\n",
       "      <td>1</td>\n",
       "      <td>1</td>\n",
       "      <td>1</td>\n",
       "      <td>1</td>\n",
       "      <td>1.333333</td>\n",
       "    </tr>\n",
       "  </tbody>\n",
       "</table>\n",
       "</div>"
      ],
      "text/plain": [
       "                                     제목  라벨러1  라벨러2  라벨러3  라벨러4  라벨러5  라벨러6   \n",
       "0  [신년사]손경식 CJ회장_ \"해외사업 공격적 확장_ 성장 가속화\"     3     3     3     4     3     3  \\\n",
       "1     [취업과 창업]신입사원 연차 생기고 공공기관 채용 역대 최대     4     4     5     5     5     4   \n",
       "2                2018년 채용연계형 인턴채용 문 열렸다     4     4     4     4     5     4   \n",
       "3                    무술년 채용연계형 인턴채용 스타트     4     3     4     4     5     4   \n",
       "4                그냥 쉬었다 청년_ 30만명 역대 최고치     2     2     1     1     1     1   \n",
       "\n",
       "   sentiment  \n",
       "0   3.166667  \n",
       "1   4.500000  \n",
       "2   4.166667  \n",
       "3   4.000000  \n",
       "4   1.333333  "
      ]
     },
     "execution_count": 38,
     "metadata": {},
     "output_type": "execute_result"
    }
   ],
   "source": [
    "df_hire.head()"
   ]
  },
  {
   "cell_type": "code",
   "execution_count": 39,
   "metadata": {},
   "outputs": [
    {
     "data": {
      "text/html": [
       "<div>\n",
       "<style scoped>\n",
       "    .dataframe tbody tr th:only-of-type {\n",
       "        vertical-align: middle;\n",
       "    }\n",
       "\n",
       "    .dataframe tbody tr th {\n",
       "        vertical-align: top;\n",
       "    }\n",
       "\n",
       "    .dataframe thead th {\n",
       "        text-align: right;\n",
       "    }\n",
       "</style>\n",
       "<table border=\"1\" class=\"dataframe\">\n",
       "  <thead>\n",
       "    <tr style=\"text-align: right;\">\n",
       "      <th></th>\n",
       "      <th>제목</th>\n",
       "      <th>sentiment</th>\n",
       "    </tr>\n",
       "  </thead>\n",
       "  <tbody>\n",
       "    <tr>\n",
       "      <th>0</th>\n",
       "      <td>[신년사]손경식 CJ회장_ \"해외사업 공격적 확장_ 성장 가속화\"</td>\n",
       "      <td>3.166667</td>\n",
       "    </tr>\n",
       "    <tr>\n",
       "      <th>1</th>\n",
       "      <td>[취업과 창업]신입사원 연차 생기고 공공기관 채용 역대 최대</td>\n",
       "      <td>4.500000</td>\n",
       "    </tr>\n",
       "    <tr>\n",
       "      <th>2</th>\n",
       "      <td>2018년 채용연계형 인턴채용 문 열렸다</td>\n",
       "      <td>4.166667</td>\n",
       "    </tr>\n",
       "    <tr>\n",
       "      <th>3</th>\n",
       "      <td>무술년 채용연계형 인턴채용 스타트</td>\n",
       "      <td>4.000000</td>\n",
       "    </tr>\n",
       "    <tr>\n",
       "      <th>4</th>\n",
       "      <td>그냥 쉬었다 청년_ 30만명 역대 최고치</td>\n",
       "      <td>1.333333</td>\n",
       "    </tr>\n",
       "  </tbody>\n",
       "</table>\n",
       "</div>"
      ],
      "text/plain": [
       "                                     제목  sentiment\n",
       "0  [신년사]손경식 CJ회장_ \"해외사업 공격적 확장_ 성장 가속화\"   3.166667\n",
       "1     [취업과 창업]신입사원 연차 생기고 공공기관 채용 역대 최대   4.500000\n",
       "2                2018년 채용연계형 인턴채용 문 열렸다   4.166667\n",
       "3                    무술년 채용연계형 인턴채용 스타트   4.000000\n",
       "4                그냥 쉬었다 청년_ 30만명 역대 최고치   1.333333"
      ]
     },
     "execution_count": 39,
     "metadata": {},
     "output_type": "execute_result"
    }
   ],
   "source": [
    "df_hire=df_hire.drop(['라벨러1','라벨러2','라벨러3','라벨러4','라벨러5','라벨러6'],axis=1)\n",
    "df_hire.head()"
   ]
  },
  {
   "cell_type": "markdown",
   "metadata": {},
   "source": []
  },
  {
   "cell_type": "code",
   "execution_count": 40,
   "metadata": {},
   "outputs": [],
   "source": [
    "sent_list=[]\n",
    "for sent in df_hire['sentiment']:\n",
    "    if sent>=3.3:\n",
    "        sent_list.append('positive')\n",
    "    elif sent<=3.3 and sent>=2.7:\n",
    "        sent_list.append('neutral')\n",
    "        \n",
    "    else:\n",
    "        sent_list.append('negative')    \n"
   ]
  },
  {
   "cell_type": "code",
   "execution_count": 41,
   "metadata": {},
   "outputs": [],
   "source": [
    "df_hire= df_hire.drop('sentiment',axis=1)\n",
    "df_hire['sentiment']= sent_list"
   ]
  },
  {
   "cell_type": "code",
   "execution_count": 42,
   "metadata": {},
   "outputs": [],
   "source": [
    "df_hire=df_hire.rename(columns={'제목':'기사'})"
   ]
  },
  {
   "cell_type": "code",
   "execution_count": 43,
   "metadata": {},
   "outputs": [],
   "source": [
    "df_economy=df_economy.rename(columns={'labels':'sentiment','kor_sentence':'기사'})"
   ]
  },
  {
   "cell_type": "code",
   "execution_count": 44,
   "metadata": {},
   "outputs": [],
   "source": [
    "df_economy=df_economy.reindex(['기사','sentiment'],axis=1) #df_economy 1차 전처리 완료\n"
   ]
  },
  {
   "cell_type": "code",
   "execution_count": 47,
   "metadata": {},
   "outputs": [
    {
     "data": {
      "text/plain": [
       "(                                         기사 sentiment\n",
       " 0      [신년사]손경식 CJ회장_ \"해외사업 공격적 확장_ 성장 가속화\"   neutral\n",
       " 1         [취업과 창업]신입사원 연차 생기고 공공기관 채용 역대 최대  positive\n",
       " 2                    2018년 채용연계형 인턴채용 문 열렸다  positive\n",
       " 3                        무술년 채용연계형 인턴채용 스타트  positive\n",
       " 4                    그냥 쉬었다 청년_ 30만명 역대 최고치  negative\n",
       " ...                                     ...       ...\n",
       " 7613         코로나 충격에 따른 근로 시간 감소_ 과거 위기의 5배  negative\n",
       " 7614  7월 사업체종사자 13만8천명 감소 코로나19 여파에 5개월째 감소  negative\n",
       " 7615              한치 앞도 안보인다..채용문 꽁꽁 닫는 카드사  negative\n",
       " 7616           토스_ 고객 상담직 신입 및 경력 30명 공개 채용  positive\n",
       " 7617              토스_ 연봉 3000만원 고객 상담직 공개채용  positive\n",
       " \n",
       " [7618 rows x 2 columns],\n",
       "                                                      기사 sentiment\n",
       " 0     Gran에 따르면, 그 회사는 회사가 성장하고 있는 곳이지만, 모든 생산을 러시아로...   neutral\n",
       " 1     테크노폴리스는 컴퓨터 기술과 통신 분야에서 일하는 회사들을 유치하기 위해 10만 평...   neutral\n",
       " 2     국제 전자산업 회사인 엘코텍은 탈린 공장에서 수십 명의 직원을 해고했으며, 이전의 ...  negative\n",
       " 3     새로운 생산공장으로 인해 회사는 예상되는 수요 증가를 충족시킬 수 있는 능력을 증가...  positive\n",
       " 4     2009-2012년 회사의 업데이트된 전략에 따르면, Basware는 20% - 4...  positive\n",
       " ...                                                 ...       ...\n",
       " 4841  런던 마켓워치 -- 은행주의 반등이 FTSE 100지수의 약세를 상쇄하지 못하면서 ...  negative\n",
       " 4842  린쿠스키아의 맥주 판매량은 416만 리터로 6.5% 감소했으며 카우노 알루스의 맥주...   neutral\n",
       " 4843  영업이익은 2007년 68.8 mn에서 35.4 mn으로 떨어졌으며, 선박 판매 이...  negative\n",
       " 4844  페이퍼 부문 순매출은 2008년 2분기 241.1 mn에서 2009년 2분기 221...  negative\n",
       " 4845   핀란드에서의 판매는 1월에 10.5% 감소한 반면, 국외에서의 판매는 17% 감소했다.  negative\n",
       " \n",
       " [4846 rows x 2 columns])"
      ]
     },
     "execution_count": 47,
     "metadata": {},
     "output_type": "execute_result"
    }
   ],
   "source": [
    "df_hire,df_economy # df_hire도 1차 전처리 완료"
   ]
  },
  {
   "cell_type": "code",
   "execution_count": 46,
   "metadata": {},
   "outputs": [
    {
     "data": {
      "text/html": [
       "<div>\n",
       "<style scoped>\n",
       "    .dataframe tbody tr th:only-of-type {\n",
       "        vertical-align: middle;\n",
       "    }\n",
       "\n",
       "    .dataframe tbody tr th {\n",
       "        vertical-align: top;\n",
       "    }\n",
       "\n",
       "    .dataframe thead th {\n",
       "        text-align: right;\n",
       "    }\n",
       "</style>\n",
       "<table border=\"1\" class=\"dataframe\">\n",
       "  <thead>\n",
       "    <tr style=\"text-align: right;\">\n",
       "      <th></th>\n",
       "      <th>기사</th>\n",
       "      <th>sentiment</th>\n",
       "    </tr>\n",
       "  </thead>\n",
       "  <tbody>\n",
       "    <tr>\n",
       "      <th>0</th>\n",
       "      <td>Gran에 따르면, 그 회사는 회사가 성장하고 있는 곳이지만, 모든 생산을 러시아로...</td>\n",
       "      <td>neutral</td>\n",
       "    </tr>\n",
       "    <tr>\n",
       "      <th>1</th>\n",
       "      <td>테크노폴리스는 컴퓨터 기술과 통신 분야에서 일하는 회사들을 유치하기 위해 10만 평...</td>\n",
       "      <td>neutral</td>\n",
       "    </tr>\n",
       "    <tr>\n",
       "      <th>2</th>\n",
       "      <td>국제 전자산업 회사인 엘코텍은 탈린 공장에서 수십 명의 직원을 해고했으며, 이전의 ...</td>\n",
       "      <td>negative</td>\n",
       "    </tr>\n",
       "    <tr>\n",
       "      <th>3</th>\n",
       "      <td>새로운 생산공장으로 인해 회사는 예상되는 수요 증가를 충족시킬 수 있는 능력을 증가...</td>\n",
       "      <td>positive</td>\n",
       "    </tr>\n",
       "    <tr>\n",
       "      <th>4</th>\n",
       "      <td>2009-2012년 회사의 업데이트된 전략에 따르면, Basware는 20% - 4...</td>\n",
       "      <td>positive</td>\n",
       "    </tr>\n",
       "    <tr>\n",
       "      <th>...</th>\n",
       "      <td>...</td>\n",
       "      <td>...</td>\n",
       "    </tr>\n",
       "    <tr>\n",
       "      <th>4841</th>\n",
       "      <td>런던 마켓워치 -- 은행주의 반등이 FTSE 100지수의 약세를 상쇄하지 못하면서 ...</td>\n",
       "      <td>negative</td>\n",
       "    </tr>\n",
       "    <tr>\n",
       "      <th>4842</th>\n",
       "      <td>린쿠스키아의 맥주 판매량은 416만 리터로 6.5% 감소했으며 카우노 알루스의 맥주...</td>\n",
       "      <td>neutral</td>\n",
       "    </tr>\n",
       "    <tr>\n",
       "      <th>4843</th>\n",
       "      <td>영업이익은 2007년 68.8 mn에서 35.4 mn으로 떨어졌으며, 선박 판매 이...</td>\n",
       "      <td>negative</td>\n",
       "    </tr>\n",
       "    <tr>\n",
       "      <th>4844</th>\n",
       "      <td>페이퍼 부문 순매출은 2008년 2분기 241.1 mn에서 2009년 2분기 221...</td>\n",
       "      <td>negative</td>\n",
       "    </tr>\n",
       "    <tr>\n",
       "      <th>4845</th>\n",
       "      <td>핀란드에서의 판매는 1월에 10.5% 감소한 반면, 국외에서의 판매는 17% 감소했다.</td>\n",
       "      <td>negative</td>\n",
       "    </tr>\n",
       "  </tbody>\n",
       "</table>\n",
       "<p>4846 rows × 2 columns</p>\n",
       "</div>"
      ],
      "text/plain": [
       "                                                     기사 sentiment\n",
       "0     Gran에 따르면, 그 회사는 회사가 성장하고 있는 곳이지만, 모든 생산을 러시아로...   neutral\n",
       "1     테크노폴리스는 컴퓨터 기술과 통신 분야에서 일하는 회사들을 유치하기 위해 10만 평...   neutral\n",
       "2     국제 전자산업 회사인 엘코텍은 탈린 공장에서 수십 명의 직원을 해고했으며, 이전의 ...  negative\n",
       "3     새로운 생산공장으로 인해 회사는 예상되는 수요 증가를 충족시킬 수 있는 능력을 증가...  positive\n",
       "4     2009-2012년 회사의 업데이트된 전략에 따르면, Basware는 20% - 4...  positive\n",
       "...                                                 ...       ...\n",
       "4841  런던 마켓워치 -- 은행주의 반등이 FTSE 100지수의 약세를 상쇄하지 못하면서 ...  negative\n",
       "4842  린쿠스키아의 맥주 판매량은 416만 리터로 6.5% 감소했으며 카우노 알루스의 맥주...   neutral\n",
       "4843  영업이익은 2007년 68.8 mn에서 35.4 mn으로 떨어졌으며, 선박 판매 이...  negative\n",
       "4844  페이퍼 부문 순매출은 2008년 2분기 241.1 mn에서 2009년 2분기 221...  negative\n",
       "4845   핀란드에서의 판매는 1월에 10.5% 감소한 반면, 국외에서의 판매는 17% 감소했다.  negative\n",
       "\n",
       "[4846 rows x 2 columns]"
      ]
     },
     "execution_count": 46,
     "metadata": {},
     "output_type": "execute_result"
    }
   ],
   "source": [
    "df_economy"
   ]
  },
  {
   "cell_type": "code",
   "execution_count": 189,
   "metadata": {},
   "outputs": [
    {
     "data": {
      "text/plain": [
       "<Axes: xlabel='sentiment'>"
      ]
     },
     "execution_count": 189,
     "metadata": {},
     "output_type": "execute_result"
    },
    {
     "data": {
      "image/png": "[encoded data removed]",
      "text/plain": [
       "<Figure size 640x480 with 1 Axes>"
      ]
     },
     "metadata": {},
     "output_type": "display_data"
    }
   ],
   "source": [
    "df_hire['sentiment'].value_counts().plot(kind='bar')"
   ]
  },
  {
   "cell_type": "code",
   "execution_count": 190,
   "metadata": {},
   "outputs": [
    {
     "data": {
      "text/plain": [
       "<Axes: xlabel='sentiment'>"
      ]
     },
     "execution_count": 190,
     "metadata": {},
     "output_type": "execute_result"
    },
    {
     "data": {
      "image/png": "[encoded data removed]",
      "text/plain": [
       "<Figure size 640x480 with 1 Axes>"
      ]
     },
     "metadata": {},
     "output_type": "display_data"
    }
   ],
   "source": [
    "df_economy['sentiment'].value_counts().plot(kind='bar')"
   ]
  },
  {
   "cell_type": "code",
   "execution_count": 191,
   "metadata": {},
   "outputs": [],
   "source": [
    "df_news_sentiment= pd.concat([df_economy,df_hire], ignore_index= True) #df_economy와 df_hire 세로방향으로 합치기 "
   ]
  },
  {
   "cell_type": "code",
   "execution_count": 192,
   "metadata": {},
   "outputs": [
    {
     "data": {
      "text/html": [
       "<div>\n",
       "<style scoped>\n",
       "    .dataframe tbody tr th:only-of-type {\n",
       "        vertical-align: middle;\n",
       "    }\n",
       "\n",
       "    .dataframe tbody tr th {\n",
       "        vertical-align: top;\n",
       "    }\n",
       "\n",
       "    .dataframe thead th {\n",
       "        text-align: right;\n",
       "    }\n",
       "</style>\n",
       "<table border=\"1\" class=\"dataframe\">\n",
       "  <thead>\n",
       "    <tr style=\"text-align: right;\">\n",
       "      <th></th>\n",
       "      <th>기사</th>\n",
       "      <th>sentiment</th>\n",
       "    </tr>\n",
       "  </thead>\n",
       "  <tbody>\n",
       "    <tr>\n",
       "      <th>0</th>\n",
       "      <td>Gran에 따르면, 그 회사는 회사가 성장하고 있는 곳이지만, 모든 생산을 러시아로...</td>\n",
       "      <td>neutral</td>\n",
       "    </tr>\n",
       "    <tr>\n",
       "      <th>1</th>\n",
       "      <td>테크노폴리스는 컴퓨터 기술과 통신 분야에서 일하는 회사들을 유치하기 위해 10만 평...</td>\n",
       "      <td>neutral</td>\n",
       "    </tr>\n",
       "    <tr>\n",
       "      <th>2</th>\n",
       "      <td>국제 전자산업 회사인 엘코텍은 탈린 공장에서 수십 명의 직원을 해고했으며, 이전의 ...</td>\n",
       "      <td>negative</td>\n",
       "    </tr>\n",
       "    <tr>\n",
       "      <th>3</th>\n",
       "      <td>새로운 생산공장으로 인해 회사는 예상되는 수요 증가를 충족시킬 수 있는 능력을 증가...</td>\n",
       "      <td>positive</td>\n",
       "    </tr>\n",
       "    <tr>\n",
       "      <th>4</th>\n",
       "      <td>2009-2012년 회사의 업데이트된 전략에 따르면, Basware는 20% - 4...</td>\n",
       "      <td>positive</td>\n",
       "    </tr>\n",
       "    <tr>\n",
       "      <th>...</th>\n",
       "      <td>...</td>\n",
       "      <td>...</td>\n",
       "    </tr>\n",
       "    <tr>\n",
       "      <th>12459</th>\n",
       "      <td>코로나 충격에 따른 근로 시간 감소_ 과거 위기의 5배</td>\n",
       "      <td>negative</td>\n",
       "    </tr>\n",
       "    <tr>\n",
       "      <th>12460</th>\n",
       "      <td>7월 사업체종사자 13만8천명 감소 코로나19 여파에 5개월째 감소</td>\n",
       "      <td>negative</td>\n",
       "    </tr>\n",
       "    <tr>\n",
       "      <th>12461</th>\n",
       "      <td>한치 앞도 안보인다..채용문 꽁꽁 닫는 카드사</td>\n",
       "      <td>negative</td>\n",
       "    </tr>\n",
       "    <tr>\n",
       "      <th>12462</th>\n",
       "      <td>토스_ 고객 상담직 신입 및 경력 30명 공개 채용</td>\n",
       "      <td>positive</td>\n",
       "    </tr>\n",
       "    <tr>\n",
       "      <th>12463</th>\n",
       "      <td>토스_ 연봉 3000만원 고객 상담직 공개채용</td>\n",
       "      <td>positive</td>\n",
       "    </tr>\n",
       "  </tbody>\n",
       "</table>\n",
       "<p>12464 rows × 2 columns</p>\n",
       "</div>"
      ],
      "text/plain": [
       "                                                      기사 sentiment\n",
       "0      Gran에 따르면, 그 회사는 회사가 성장하고 있는 곳이지만, 모든 생산을 러시아로...   neutral\n",
       "1      테크노폴리스는 컴퓨터 기술과 통신 분야에서 일하는 회사들을 유치하기 위해 10만 평...   neutral\n",
       "2      국제 전자산업 회사인 엘코텍은 탈린 공장에서 수십 명의 직원을 해고했으며, 이전의 ...  negative\n",
       "3      새로운 생산공장으로 인해 회사는 예상되는 수요 증가를 충족시킬 수 있는 능력을 증가...  positive\n",
       "4      2009-2012년 회사의 업데이트된 전략에 따르면, Basware는 20% - 4...  positive\n",
       "...                                                  ...       ...\n",
       "12459                     코로나 충격에 따른 근로 시간 감소_ 과거 위기의 5배  negative\n",
       "12460              7월 사업체종사자 13만8천명 감소 코로나19 여파에 5개월째 감소  negative\n",
       "12461                          한치 앞도 안보인다..채용문 꽁꽁 닫는 카드사  negative\n",
       "12462                       토스_ 고객 상담직 신입 및 경력 30명 공개 채용  positive\n",
       "12463                          토스_ 연봉 3000만원 고객 상담직 공개채용  positive\n",
       "\n",
       "[12464 rows x 2 columns]"
      ]
     },
     "execution_count": 192,
     "metadata": {},
     "output_type": "execute_result"
    }
   ],
   "source": [
    "df_news_sentiment #합쳐진 dataframe"
   ]
  },
  {
   "cell_type": "code",
   "execution_count": 193,
   "metadata": {},
   "outputs": [],
   "source": [
    "#일단 1차적으로 합쳐졌고 df_hire에서 학습시켜보면서 중립 비율을 좀 줄이거나 늘려야겠다 싶으면 바꿔가면서 계속 df수정해주기"
   ]
  },
  {
   "cell_type": "code",
   "execution_count": 194,
   "metadata": {},
   "outputs": [],
   "source": [
    "df_news_sentiment.to_csv(r'C:\\Users\\Playdata\\Desktop\\new_file\\df_news_sentiment',index=False)\n"
   ]
  },
  {
   "cell_type": "code",
   "execution_count": 195,
   "metadata": {},
   "outputs": [],
   "source": [
    "#파인튜닝하기"
   ]
  },
  {
   "cell_type": "code",
   "execution_count": null,
   "metadata": {},
   "outputs": [],
   "source": []
  },
  {
   "cell_type": "code",
   "execution_count": null,
   "metadata": {},
   "outputs": [],
   "source": []
  }
 ],
 "metadata": {
  "kernelspec": {
   "display_name": "ezpz",
   "language": "python",
   "name": "python3"
  },
  "language_info": {
   "codemirror_mode": {
    "name": "ipython",
    "version": 3
   },
   "file_extension": ".py",
   "mimetype": "text/x-python",
   "name": "python",
   "nbconvert_exporter": "python",
   "pygments_lexer": "ipython3",
   "version": "3.10.11"
  },
  "orig_nbformat": 4
 },
 "nbformat": 4,
 "nbformat_minor": 2
}
