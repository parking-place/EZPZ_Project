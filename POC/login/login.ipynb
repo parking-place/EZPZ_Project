{
 "cells": [
  {
   "attachments": {},
   "cell_type": "markdown",
   "metadata": {},
   "source": [
    "# Selenium을 이용한 로그인 토큰 취득후 리퀘스츠로 크롤링"
   ]
  },
  {
   "attachments": {},
   "cell_type": "markdown",
   "metadata": {},
   "source": [
    "## 방식\n",
    "\n",
    "- requests 만으로 크롤링 할 경우\n",
    "    - 사이트마다의 방식이 너무나도 다름\n",
    "    - 하나하나 get post를 분석해가며 알아내야함\n",
    "    - 대신 속도가 매우 빠르고, 비동기 브라우징 또한 가능 -> 성능이 좋음\n",
    "\n",
    "- selenium 만으로 크롤링 할 경우\n",
    "    - 셀레늄 자체가 일상적인 브라우저를 기반으로 작동 -> 직관적임\n",
    "    - 단, 매우 느리다는 문제점이 있음\n",
    "\n",
    "- 테스트해볼 해결책\n",
    "    - 웹사이트(서버)는 로그인을 할 경우 시간 제한이 있는 토큰을 발행\n",
    "    - 셀레늄을 이용하여 로그인 \n",
    "        - 해당 엑세스 토큰이 저장된 쿠키를 변수로 리퀘스츠에 반환\n",
    "    - 반환 된 쿠키를 사용하여 requests로 로그인"
   ]
  },
  {
   "attachments": {},
   "cell_type": "markdown",
   "metadata": {},
   "source": [
    "## 모듈 임포트"
   ]
  },
  {
   "cell_type": "code",
   "execution_count": 2,
   "metadata": {},
   "outputs": [],
   "source": [
    "from account import jp"
   ]
  },
  {
   "cell_type": "code",
   "execution_count": 3,
   "metadata": {},
   "outputs": [],
   "source": [
    "import time\n",
    "import requests\n",
    "import re\n",
    "\n",
    "import pandas as pd\n",
    "\n",
    "from bs4 import BeautifulSoup\n",
    "\n",
    "import selenium\n",
    "\n",
    "from selenium.webdriver.chrome.service import Service\n",
    "from selenium import webdriver\n",
    "from webdriver_manager.chrome import ChromeDriverManager\n",
    "\n",
    "from selenium.webdriver.common.by import By\n",
    "from selenium.webdriver.common.keys import Keys\n",
    "from selenium.common.exceptions import NoSuchElementException"
   ]
  },
  {
   "attachments": {},
   "cell_type": "markdown",
   "metadata": {},
   "source": [
    "## 셀레늄을 통한 로그인\n",
    "- 문주 코드임"
   ]
  },
  {
   "cell_type": "code",
   "execution_count": 5,
   "metadata": {},
   "outputs": [
    {
     "ename": "WebDriverException",
     "evalue": "Message: unknown error: Chrome failed to start: exited abnormally.\n  (unknown error: DevToolsActivePort file doesn't exist)\n  (The process started from chrome location /usr/bin/google-chrome is no longer running, so ChromeDriver is assuming that Chrome has crashed.)\nStacktrace:\n#0 0x5624986eb4e3 <unknown>\n#1 0x56249841ac76 <unknown>\n#2 0x562498443d78 <unknown>\n#3 0x562498440029 <unknown>\n#4 0x56249847eccc <unknown>\n#5 0x56249847e47f <unknown>\n#6 0x562498475de3 <unknown>\n#7 0x56249844b2dd <unknown>\n#8 0x56249844c34e <unknown>\n#9 0x5624986ab3e4 <unknown>\n#10 0x5624986af3d7 <unknown>\n#11 0x5624986b9b20 <unknown>\n#12 0x5624986b0023 <unknown>\n#13 0x56249867e1aa <unknown>\n#14 0x5624986d46b8 <unknown>\n#15 0x5624986d4847 <unknown>\n#16 0x5624986e4243 <unknown>\n#17 0x7f5635f4db43 <unknown>\n",
     "output_type": "error",
     "traceback": [
      "\u001b[0;31m---------------------------------------------------------------------------\u001b[0m",
      "\u001b[0;31mWebDriverException\u001b[0m                        Traceback (most recent call last)",
      "Cell \u001b[0;32mIn[5], line 10\u001b[0m\n\u001b[1;32m      7\u001b[0m option \u001b[39m=\u001b[39m webdriver\u001b[39m.\u001b[39mChromeOptions()\n\u001b[1;32m      8\u001b[0m option\u001b[39m.\u001b[39madd_argument(\u001b[39m\"\u001b[39m\u001b[39mheadless\u001b[39m\u001b[39m\"\u001b[39m)\n\u001b[0;32m---> 10\u001b[0m browser \u001b[39m=\u001b[39m webdriver\u001b[39m.\u001b[39;49mChrome(service\u001b[39m=\u001b[39;49mservice, options\u001b[39m=\u001b[39;49moption)\n\u001b[1;32m     13\u001b[0m url \u001b[39m=\u001b[39m \u001b[39mr\u001b[39m\u001b[39m\"\u001b[39m\u001b[39mhttps://www.jobplanet.co.kr/job\u001b[39m\u001b[39m\"\u001b[39m\n\u001b[1;32m     15\u001b[0m browser\u001b[39m.\u001b[39mmaximize_window()\n",
      "File \u001b[0;32m/usr/local/lib/python3.10/dist-packages/selenium/webdriver/chrome/webdriver.py:49\u001b[0m, in \u001b[0;36mWebDriver.__init__\u001b[0;34m(self, options, service, keep_alive)\u001b[0m\n\u001b[1;32m     45\u001b[0m \u001b[39mself\u001b[39m\u001b[39m.\u001b[39mkeep_alive \u001b[39m=\u001b[39m keep_alive\n\u001b[1;32m     47\u001b[0m \u001b[39mself\u001b[39m\u001b[39m.\u001b[39mservice\u001b[39m.\u001b[39mpath \u001b[39m=\u001b[39m DriverFinder\u001b[39m.\u001b[39mget_path(\u001b[39mself\u001b[39m\u001b[39m.\u001b[39mservice, \u001b[39mself\u001b[39m\u001b[39m.\u001b[39moptions)\n\u001b[0;32m---> 49\u001b[0m \u001b[39msuper\u001b[39;49m()\u001b[39m.\u001b[39;49m\u001b[39m__init__\u001b[39;49m(\n\u001b[1;32m     50\u001b[0m     DesiredCapabilities\u001b[39m.\u001b[39;49mCHROME[\u001b[39m\"\u001b[39;49m\u001b[39mbrowserName\u001b[39;49m\u001b[39m\"\u001b[39;49m],\n\u001b[1;32m     51\u001b[0m     \u001b[39m\"\u001b[39;49m\u001b[39mgoog\u001b[39;49m\u001b[39m\"\u001b[39;49m,\n\u001b[1;32m     52\u001b[0m     \u001b[39mself\u001b[39;49m\u001b[39m.\u001b[39;49moptions,\n\u001b[1;32m     53\u001b[0m     \u001b[39mself\u001b[39;49m\u001b[39m.\u001b[39;49mservice,\n\u001b[1;32m     54\u001b[0m     \u001b[39mself\u001b[39;49m\u001b[39m.\u001b[39;49mkeep_alive,\n\u001b[1;32m     55\u001b[0m )\n",
      "File \u001b[0;32m/usr/local/lib/python3.10/dist-packages/selenium/webdriver/chromium/webdriver.py:54\u001b[0m, in \u001b[0;36mChromiumDriver.__init__\u001b[0;34m(self, browser_name, vendor_prefix, options, service, keep_alive)\u001b[0m\n\u001b[1;32m     51\u001b[0m \u001b[39mself\u001b[39m\u001b[39m.\u001b[39mservice\u001b[39m.\u001b[39mstart()\n\u001b[1;32m     53\u001b[0m \u001b[39mtry\u001b[39;00m:\n\u001b[0;32m---> 54\u001b[0m     \u001b[39msuper\u001b[39;49m()\u001b[39m.\u001b[39;49m\u001b[39m__init__\u001b[39;49m(\n\u001b[1;32m     55\u001b[0m         command_executor\u001b[39m=\u001b[39;49mChromiumRemoteConnection(\n\u001b[1;32m     56\u001b[0m             remote_server_addr\u001b[39m=\u001b[39;49m\u001b[39mself\u001b[39;49m\u001b[39m.\u001b[39;49mservice\u001b[39m.\u001b[39;49mservice_url,\n\u001b[1;32m     57\u001b[0m             browser_name\u001b[39m=\u001b[39;49mbrowser_name,\n\u001b[1;32m     58\u001b[0m             vendor_prefix\u001b[39m=\u001b[39;49mvendor_prefix,\n\u001b[1;32m     59\u001b[0m             keep_alive\u001b[39m=\u001b[39;49mkeep_alive,\n\u001b[1;32m     60\u001b[0m             ignore_proxy\u001b[39m=\u001b[39;49m\u001b[39mself\u001b[39;49m\u001b[39m.\u001b[39;49moptions\u001b[39m.\u001b[39;49m_ignore_local_proxy,\n\u001b[1;32m     61\u001b[0m         ),\n\u001b[1;32m     62\u001b[0m         options\u001b[39m=\u001b[39;49m\u001b[39mself\u001b[39;49m\u001b[39m.\u001b[39;49moptions,\n\u001b[1;32m     63\u001b[0m     )\n\u001b[1;32m     64\u001b[0m \u001b[39mexcept\u001b[39;00m \u001b[39mException\u001b[39;00m:\n\u001b[1;32m     65\u001b[0m     \u001b[39mself\u001b[39m\u001b[39m.\u001b[39mquit()\n",
      "File \u001b[0;32m/usr/local/lib/python3.10/dist-packages/selenium/webdriver/remote/webdriver.py:206\u001b[0m, in \u001b[0;36mWebDriver.__init__\u001b[0;34m(self, command_executor, keep_alive, file_detector, options)\u001b[0m\n\u001b[1;32m    204\u001b[0m \u001b[39mself\u001b[39m\u001b[39m.\u001b[39m_authenticator_id \u001b[39m=\u001b[39m \u001b[39mNone\u001b[39;00m\n\u001b[1;32m    205\u001b[0m \u001b[39mself\u001b[39m\u001b[39m.\u001b[39mstart_client()\n\u001b[0;32m--> 206\u001b[0m \u001b[39mself\u001b[39;49m\u001b[39m.\u001b[39;49mstart_session(capabilities)\n",
      "File \u001b[0;32m/usr/local/lib/python3.10/dist-packages/selenium/webdriver/remote/webdriver.py:291\u001b[0m, in \u001b[0;36mWebDriver.start_session\u001b[0;34m(self, capabilities)\u001b[0m\n\u001b[1;32m    283\u001b[0m \u001b[39m\u001b[39m\u001b[39m\"\"\"Creates a new session with the desired capabilities.\u001b[39;00m\n\u001b[1;32m    284\u001b[0m \n\u001b[1;32m    285\u001b[0m \u001b[39m:Args:\u001b[39;00m\n\u001b[1;32m    286\u001b[0m \u001b[39m - capabilities - a capabilities dict to start the session with.\u001b[39;00m\n\u001b[1;32m    287\u001b[0m \u001b[39m - browser_profile - A selenium.webdriver.firefox.firefox_profile.FirefoxProfile object. Only used if Firefox is requested.\u001b[39;00m\n\u001b[1;32m    288\u001b[0m \u001b[39m\"\"\"\u001b[39;00m\n\u001b[1;32m    290\u001b[0m caps \u001b[39m=\u001b[39m _create_caps(capabilities)\n\u001b[0;32m--> 291\u001b[0m response \u001b[39m=\u001b[39m \u001b[39mself\u001b[39;49m\u001b[39m.\u001b[39;49mexecute(Command\u001b[39m.\u001b[39;49mNEW_SESSION, caps)[\u001b[39m\"\u001b[39m\u001b[39mvalue\u001b[39m\u001b[39m\"\u001b[39m]\n\u001b[1;32m    292\u001b[0m \u001b[39mself\u001b[39m\u001b[39m.\u001b[39msession_id \u001b[39m=\u001b[39m response\u001b[39m.\u001b[39mget(\u001b[39m\"\u001b[39m\u001b[39msessionId\u001b[39m\u001b[39m\"\u001b[39m)\n\u001b[1;32m    293\u001b[0m \u001b[39mself\u001b[39m\u001b[39m.\u001b[39mcaps \u001b[39m=\u001b[39m response\u001b[39m.\u001b[39mget(\u001b[39m\"\u001b[39m\u001b[39mcapabilities\u001b[39m\u001b[39m\"\u001b[39m)\n",
      "File \u001b[0;32m/usr/local/lib/python3.10/dist-packages/selenium/webdriver/remote/webdriver.py:346\u001b[0m, in \u001b[0;36mWebDriver.execute\u001b[0;34m(self, driver_command, params)\u001b[0m\n\u001b[1;32m    344\u001b[0m response \u001b[39m=\u001b[39m \u001b[39mself\u001b[39m\u001b[39m.\u001b[39mcommand_executor\u001b[39m.\u001b[39mexecute(driver_command, params)\n\u001b[1;32m    345\u001b[0m \u001b[39mif\u001b[39;00m response:\n\u001b[0;32m--> 346\u001b[0m     \u001b[39mself\u001b[39;49m\u001b[39m.\u001b[39;49merror_handler\u001b[39m.\u001b[39;49mcheck_response(response)\n\u001b[1;32m    347\u001b[0m     response[\u001b[39m\"\u001b[39m\u001b[39mvalue\u001b[39m\u001b[39m\"\u001b[39m] \u001b[39m=\u001b[39m \u001b[39mself\u001b[39m\u001b[39m.\u001b[39m_unwrap_value(response\u001b[39m.\u001b[39mget(\u001b[39m\"\u001b[39m\u001b[39mvalue\u001b[39m\u001b[39m\"\u001b[39m, \u001b[39mNone\u001b[39;00m))\n\u001b[1;32m    348\u001b[0m     \u001b[39mreturn\u001b[39;00m response\n",
      "File \u001b[0;32m/usr/local/lib/python3.10/dist-packages/selenium/webdriver/remote/errorhandler.py:245\u001b[0m, in \u001b[0;36mErrorHandler.check_response\u001b[0;34m(self, response)\u001b[0m\n\u001b[1;32m    243\u001b[0m         alert_text \u001b[39m=\u001b[39m value[\u001b[39m\"\u001b[39m\u001b[39malert\u001b[39m\u001b[39m\"\u001b[39m]\u001b[39m.\u001b[39mget(\u001b[39m\"\u001b[39m\u001b[39mtext\u001b[39m\u001b[39m\"\u001b[39m)\n\u001b[1;32m    244\u001b[0m     \u001b[39mraise\u001b[39;00m exception_class(message, screen, stacktrace, alert_text)  \u001b[39m# type: ignore[call-arg]  # mypy is not smart enough here\u001b[39;00m\n\u001b[0;32m--> 245\u001b[0m \u001b[39mraise\u001b[39;00m exception_class(message, screen, stacktrace)\n",
      "\u001b[0;31mWebDriverException\u001b[0m: Message: unknown error: Chrome failed to start: exited abnormally.\n  (unknown error: DevToolsActivePort file doesn't exist)\n  (The process started from chrome location /usr/bin/google-chrome is no longer running, so ChromeDriver is assuming that Chrome has crashed.)\nStacktrace:\n#0 0x5624986eb4e3 <unknown>\n#1 0x56249841ac76 <unknown>\n#2 0x562498443d78 <unknown>\n#3 0x562498440029 <unknown>\n#4 0x56249847eccc <unknown>\n#5 0x56249847e47f <unknown>\n#6 0x562498475de3 <unknown>\n#7 0x56249844b2dd <unknown>\n#8 0x56249844c34e <unknown>\n#9 0x5624986ab3e4 <unknown>\n#10 0x5624986af3d7 <unknown>\n#11 0x5624986b9b20 <unknown>\n#12 0x5624986b0023 <unknown>\n#13 0x56249867e1aa <unknown>\n#14 0x5624986d46b8 <unknown>\n#15 0x5624986d4847 <unknown>\n#16 0x5624986e4243 <unknown>\n#17 0x7f5635f4db43 <unknown>\n"
     ]
    }
   ],
   "source": [
    "############################\n",
    "# 크롬으로 잡플래닛 사이트 열기\n",
    "############################\n",
    "\n",
    "service = Service(executable_path=\"./driver/chromedriver\")\n",
    "\n",
    "option = webdriver.ChromeOptions()\n",
    "option.add_argument(\"headless\")\n",
    "\n",
    "browser = webdriver.Chrome(service=service, options=option)\n",
    "\n",
    "\n",
    "url = r\"https://www.jobplanet.co.kr/job\"\n",
    "\n",
    "browser.maximize_window()\n",
    "print(browser.get_window_size())\n",
    "\n",
    "browser.get(r\"https://www.jobplanet.co.kr/job\")\n",
    "\n",
    "############################\n",
    "# 잡플래닛에 로그인 하기\n",
    "############################\n",
    "\n",
    "# 로그인 버튼 찾기 및 클릭\n",
    "login_btn = browser.find_element(By.CSS_SELECTOR,\"a.btn_txt.login\")\n",
    "login_btn.click()\n",
    "\n",
    "# 로그인 ID와 PW 쳐야할 곳 클릭 + 적기\n",
    "login_Id = browser.find_element(By.CSS_SELECTOR, \"#user_email\")\n",
    "login_Id.click()\n",
    "login_Id.send_keys(jp.ID)\n",
    "\n",
    "login_Pw = browser.find_element(By.CSS_SELECTOR, \"#user_password\")\n",
    "login_Pw.click()\n",
    "login_Pw.send_keys(jp.PW)\n",
    "\n",
    "# 이메일로 로그인 버튼 누르기\n",
    "em_log = browser.find_element(By.CSS_SELECTOR, \"fieldset > button\")\n",
    "em_log.click()"
   ]
  },
  {
   "attachments": {},
   "cell_type": "markdown",
   "metadata": {},
   "source": [
    "## 엑세스 토큰이 저장된 쿠키 얻기"
   ]
  },
  {
   "cell_type": "code",
   "execution_count": 4,
   "metadata": {},
   "outputs": [],
   "source": [
    "## get_cookies()로 쿠키 가져오기\n",
    "cookies = browser.get_cookies()\n",
    "## 쿠키를 딕셔너리로 만들기\n",
    "cookies_dict = {}\n",
    "for cookie in cookies:\n",
    "    ## 각 쿠키의 name과 value를 딕셔너리로 저장\n",
    "    cookies_dict[cookie['name']] = cookie['value']\n",
    "## 확인을 위해 출력\n",
    "# print(cookies_dict)       ## 쿠키 내용 해독시 민감한 정보가 포함되어 있음\n",
    "## 브라우저 종료\n",
    "browser.close()"
   ]
  },
  {
   "attachments": {},
   "cell_type": "markdown",
   "metadata": {},
   "source": [
    "## 쿠키를 이용하여 requests 세션 유지하기"
   ]
  },
  {
   "attachments": {},
   "cell_type": "markdown",
   "metadata": {},
   "source": [
    "- requestes의 세션 객체 생성 -> 헤더와 쿠키를 업데이트 해줌"
   ]
  },
  {
   "cell_type": "code",
   "execution_count": 5,
   "metadata": {},
   "outputs": [
    {
     "name": "stdout",
     "output_type": "stream",
     "text": [
      "{'User-Agent': 'python-requests/2.30.0', 'Accept-Encoding': 'gzip, deflate', 'Accept': '*/*', 'Connection': 'keep-alive'}\n",
      "<RequestsCookieJar[]>\n"
     ]
    }
   ],
   "source": [
    "session = requests.Session()\n",
    "headers = {\n",
    "    'User-Agent': 'Mozilla/5.0 (Windows NT 10.0; Win64; x64) AppleWebKit/537.36 (KHTML, like Gecko) Chrome/114.0.0.0 Safari/537.36'\n",
    "}\n",
    "## 기본 헤더와 쿠키 확인\n",
    "print(session.headers)\n",
    "print(session.cookies)"
   ]
  },
  {
   "cell_type": "code",
   "execution_count": 6,
   "metadata": {},
   "outputs": [
    {
     "name": "stdout",
     "output_type": "stream",
     "text": [
      "{'User-Agent': 'Mozilla/5.0 (Windows NT 10.0; Win64; x64) AppleWebKit/537.36 (KHTML, like Gecko) Chrome/114.0.0.0 Safari/537.36', 'Accept-Encoding': 'gzip, deflate', 'Accept': '*/*', 'Connection': 'keep-alive'}\n"
     ]
    }
   ],
   "source": [
    "## 헤더와 쿠키를 업데이트\n",
    "session.headers.update(headers)\n",
    "session.cookies.update(cookies_dict)\n",
    "\n",
    "## 업데이트한 헤더와 쿠키 확인\n",
    "print(session.headers)\n",
    "# print(session.cookies)        ## 쿠키 내용 해독시 민감한 정보가 포함되어 있음"
   ]
  },
  {
   "attachments": {},
   "cell_type": "markdown",
   "metadata": {},
   "source": [
    "## 세션 객체를 통해 로그인이 잘 되는지 확인"
   ]
  },
  {
   "cell_type": "code",
   "execution_count": 30,
   "metadata": {},
   "outputs": [],
   "source": [
    "## 삼성전자 리뷰 페이지로 이동\n",
    "url = r'https://www.jobplanet.co.kr/companies/30139/reviews/%EC%82%BC%EC%84%B1%EC%A0%84%EC%9E%90'"
   ]
  },
  {
   "attachments": {},
   "cell_type": "markdown",
   "metadata": {},
   "source": [
    "- session 객체에서 requests 사용하듯 하면됨."
   ]
  },
  {
   "cell_type": "code",
   "execution_count": 31,
   "metadata": {},
   "outputs": [
    {
     "name": "stdout",
     "output_type": "stream",
     "text": [
      "200\n"
     ]
    }
   ],
   "source": [
    "response = session.get(url)\n",
    "\n",
    "## 응답 확인\n",
    "print(response.status_code)"
   ]
  },
  {
   "cell_type": "code",
   "execution_count": 33,
   "metadata": {},
   "outputs": [
    {
     "data": {
      "text/plain": [
       "'\\nBEST\\n      \"망할리없음최근 반도체시장 침체로 좀 위험한듯 보였지만 걱정할 필요없음\"\\n    '"
      ]
     },
     "execution_count": 33,
     "metadata": {},
     "output_type": "execute_result"
    }
   ],
   "source": [
    "## 메인 컴에 lxml이 없어서 html.parser로 대체\n",
    "soup = BeautifulSoup(response.text, 'html.parser')\n",
    "\n",
    "## #viewReviewsList > div > div > div > section:nth-child(1) > div > div.ctbody_col2 > div > div.us_label_wrap > h2\n",
    "## 리뷰 제목 하나 가져오기\n",
    "soup.select_one('#viewReviewsList > div > div > div > section:nth-child(1) > div > div.ctbody_col2 > div > div.us_label_wrap > h2').text"
   ]
  },
  {
   "attachments": {
    "image.png": {
     "image/png": "[encoded data removed]"
    }
   },
   "cell_type": "markdown",
   "metadata": {},
   "source": [
    "![image.png](attachment:image.png)"
   ]
  },
  {
   "attachments": {},
   "cell_type": "markdown",
   "metadata": {},
   "source": [
    "## 함수화 예)"
   ]
  },
  {
   "cell_type": "code",
   "execution_count": 35,
   "metadata": {},
   "outputs": [],
   "source": [
    "# 추후 따로 모듈화 가능\n",
    "############################\n",
    "# 셀레늄으로 로그인 엑세스 토큰이 포함된 쿠키 반환 함수\n",
    "############################\n",
    "def get_login_cookies():\n",
    "    ############################\n",
    "    # 크롬으로 잡플래닛 사이트 열기\n",
    "    ############################\n",
    "\n",
    "    service = Service(executable_path=\"./driver/chromedriver.exe\")\n",
    "    browser = webdriver.Chrome(service=service)\n",
    "\n",
    "    url = r\"https://www.jobplanet.co.kr/job\"\n",
    "\n",
    "    browser.maximize_window()\n",
    "    print(browser.get_window_size())\n",
    "\n",
    "    browser.get(r\"https://www.jobplanet.co.kr/job\")\n",
    "\n",
    "    ############################\n",
    "    # 잡플래닛에 로그인 하기\n",
    "    ############################\n",
    "\n",
    "    # 로그인 버튼 찾기 및 클릭\n",
    "    login_btn = browser.find_element(By.CSS_SELECTOR,\"a.btn_txt.login\")\n",
    "    login_btn.click()\n",
    "\n",
    "    # 로그인 ID와 PW 쳐야할 곳 클릭 + 적기\n",
    "    login_Id = browser.find_element(By.CSS_SELECTOR, \"#user_email\")\n",
    "    login_Id.click()\n",
    "    login_Id.send_keys(jp.ID)\n",
    "\n",
    "    login_Pw = browser.find_element(By.CSS_SELECTOR, \"#user_password\")\n",
    "    login_Pw.click()\n",
    "    login_Pw.send_keys(jp.PW)\n",
    "\n",
    "    # 이메일로 로그인 버튼 누르기\n",
    "    em_log = browser.find_element(By.CSS_SELECTOR, \"fieldset > button\")\n",
    "    em_log.click()\n",
    "    \n",
    "    ############################\n",
    "    # 쿠기 가져오기 -> 딕셔너리로 변환후 반환\n",
    "    ############################\n",
    "    ## get_cookies()로 쿠키 가져오기\n",
    "    cookies = browser.get_cookies()\n",
    "    ## 쿠키를 딕셔너리로 만들기\n",
    "    cookies_dict = {}\n",
    "    for cookie in cookies:\n",
    "        ## 각 쿠키의 name과 value를 딕셔너리로 저장\n",
    "        cookies_dict[cookie['name']] = cookie['value']\n",
    "    ## 브라우저 종료\n",
    "    browser.close()\n",
    "    \n",
    "    return cookies_dict"
   ]
  },
  {
   "cell_type": "code",
   "execution_count": 36,
   "metadata": {},
   "outputs": [
    {
     "name": "stdout",
     "output_type": "stream",
     "text": [
      "{'width': 2576, 'height': 1408}\n",
      "로그인 성공\n",
      "\n",
      "BEST\n",
      "      \"망할리없음최근 반도체시장 침체로 좀 위험한듯 보였지만 걱정할 필요없음\"\n",
      "    \n"
     ]
    }
   ],
   "source": [
    "cookies_dict = get_login_cookies()\n",
    "\n",
    "session = requests.Session()\n",
    "\n",
    "session.headers.update(headers)\n",
    "session.cookies.update(cookies_dict)\n",
    "\n",
    "## 삼성전자 리뷰 페이지로 이동\n",
    "res = session.get(url)\n",
    "\n",
    "## 응답 확인\n",
    "if res.status_code == 200:\n",
    "    print(\"로그인 성공\")\n",
    "    \n",
    "    review_title_1 = soup.select_one('#viewReviewsList > div > div > div > section:nth-child(1) > div > div.ctbody_col2 > div > div.us_label_wrap > h2').text\n",
    "\n",
    "print(review_title_1)"
   ]
  }
 ],
 "metadata": {
  "kernelspec": {
   "display_name": "Python 3",
   "language": "python",
   "name": "python3"
  },
  "language_info": {
   "codemirror_mode": {
    "name": "ipython",
    "version": 3
   },
   "file_extension": ".py",
   "mimetype": "text/x-python",
   "name": "python",
   "nbconvert_exporter": "python",
   "pygments_lexer": "ipython3",
   "version": "3.10.6"
  },
  "orig_nbformat": 4
 },
 "nbformat": 4,
 "nbformat_minor": 2
}
