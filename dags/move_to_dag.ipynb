{
 "cells": [
  {
   "cell_type": "code",
   "execution_count": 2,
   "metadata": {},
   "outputs": [],
   "source": [
    "# 현재 폴더의 모든 내용을 dag 폴더로 복사시키는 코드\n",
    "\n",
    "import os\n",
    "import shutil\n",
    "\n",
    "target_path = '/home/parking/airflow/dags'\n",
    "\n",
    "file = 'ezpz_dags.py'\n",
    "\n",
    "shutil.copy(file, target_path)"
   ]
  },
  {
   "cell_type": "code",
   "execution_count": 2,
   "metadata": {},
   "outputs": [
    {
     "data": {
      "text/plain": [
       "['move_to_dag.ipynb', 'daily_new_comp_dag.py']"
      ]
     },
     "execution_count": 2,
     "metadata": {},
     "output_type": "execute_result"
    }
   ],
   "source": [
    "import os\n",
    "import shutil\n",
    "\n",
    "target_path = '/home/ezpz/airflow/dags'\n",
    "\n",
    "file = 'ezpz_ssh_dags.py'\n",
    "\n",
    "shutil.copy(file, target_path)"
   ]
  },
  {
   "cell_type": "code",
   "execution_count": null,
   "metadata": {},
   "outputs": [],
   "source": []
  }
 ],
 "metadata": {
  "kernelspec": {
   "display_name": "Python 3",
   "language": "python",
   "name": "python3"
  },
  "language_info": {
   "codemirror_mode": {
    "name": "ipython",
    "version": 3
   },
   "file_extension": ".py",
   "mimetype": "text/x-python",
   "name": "python",
   "nbconvert_exporter": "python",
   "pygments_lexer": "ipython3",
   "version": "3.10.12"
  },
  "orig_nbformat": 4
 },
 "nbformat": 4,
 "nbformat_minor": 2
}
