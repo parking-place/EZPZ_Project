{
 "cells": [
  {
   "cell_type": "code",
   "execution_count": 11,
   "metadata": {},
   "outputs": [
    {
     "name": "stdout",
     "output_type": "stream",
     "text": [
      "Collecting datasets\n",
      "  Obtaining dependency information for datasets from https://files.pythonhosted.org/packages/66/f8/38298237d18d4b6a8ee5dfe390e97bed5adb8e01ec6f9680c0ddf3066728/datasets-2.14.4-py3-none-any.whl.metadata\n",
      "  Downloading datasets-2.14.4-py3-none-any.whl.metadata (19 kB)\n",
      "Requirement already satisfied: numpy>=1.17 in /usr/local/lib/python3.10/dist-packages (from datasets) (1.25.2)\n",
      "Collecting pyarrow>=8.0.0 (from datasets)\n",
      "  Obtaining dependency information for pyarrow>=8.0.0 from https://files.pythonhosted.org/packages/9b/33/6d89309477d372604e95d6b7dc1160d8d5748cadf3913c996529e8e78cf4/pyarrow-13.0.0-cp310-cp310-manylinux_2_28_aarch64.whl.metadata\n",
      "  Downloading pyarrow-13.0.0-cp310-cp310-manylinux_2_28_aarch64.whl.metadata (3.0 kB)\n",
      "Collecting dill<0.3.8,>=0.3.0 (from datasets)\n",
      "  Obtaining dependency information for dill<0.3.8,>=0.3.0 from https://files.pythonhosted.org/packages/f5/3a/74a29b11cf2cdfcd6ba89c0cecd70b37cd1ba7b77978ce611eb7a146a832/dill-0.3.7-py3-none-any.whl.metadata\n",
      "  Downloading dill-0.3.7-py3-none-any.whl.metadata (9.9 kB)\n",
      "Requirement already satisfied: pandas in /usr/local/lib/python3.10/dist-packages (from datasets) (2.0.3)\n",
      "Requirement already satisfied: requests>=2.19.0 in /usr/local/lib/python3.10/dist-packages (from datasets) (2.31.0)\n",
      "Requirement already satisfied: tqdm>=4.62.1 in /usr/local/lib/python3.10/dist-packages (from datasets) (4.66.1)\n",
      "Collecting xxhash (from datasets)\n",
      "  Obtaining dependency information for xxhash from https://files.pythonhosted.org/packages/83/55/3c89945f5d21791935e732d06e8bd383b367b47af3a9e09c3fa5c945f27e/xxhash-3.3.0-cp310-cp310-manylinux_2_17_aarch64.manylinux2014_aarch64.whl.metadata\n",
      "  Downloading xxhash-3.3.0-cp310-cp310-manylinux_2_17_aarch64.manylinux2014_aarch64.whl.metadata (12 kB)\n",
      "Collecting multiprocess (from datasets)\n",
      "  Obtaining dependency information for multiprocess from https://files.pythonhosted.org/packages/35/a8/36d8d7b3e46b377800d8dec47891cdf05842d1a2366909ae4a0c89fbc5e6/multiprocess-0.70.15-py310-none-any.whl.metadata\n",
      "  Downloading multiprocess-0.70.15-py310-none-any.whl.metadata (7.2 kB)\n",
      "Requirement already satisfied: fsspec[http]>=2021.11.1 in /usr/local/lib/python3.10/dist-packages (from datasets) (2023.6.0)\n",
      "Requirement already satisfied: aiohttp in /usr/local/lib/python3.10/dist-packages (from datasets) (3.8.5)\n",
      "Requirement already satisfied: huggingface-hub<1.0.0,>=0.14.0 in /usr/local/lib/python3.10/dist-packages (from datasets) (0.16.4)\n",
      "Requirement already satisfied: packaging in /usr/local/lib/python3.10/dist-packages (from datasets) (23.1)\n",
      "Requirement already satisfied: pyyaml>=5.1 in /usr/local/lib/python3.10/dist-packages (from datasets) (6.0.1)\n",
      "Requirement already satisfied: attrs>=17.3.0 in /usr/local/lib/python3.10/dist-packages (from aiohttp->datasets) (23.1.0)\n",
      "Requirement already satisfied: charset-normalizer<4.0,>=2.0 in /usr/local/lib/python3.10/dist-packages (from aiohttp->datasets) (3.2.0)\n",
      "Requirement already satisfied: multidict<7.0,>=4.5 in /usr/local/lib/python3.10/dist-packages (from aiohttp->datasets) (6.0.4)\n",
      "Requirement already satisfied: async-timeout<5.0,>=4.0.0a3 in /usr/local/lib/python3.10/dist-packages (from aiohttp->datasets) (4.0.3)\n",
      "Requirement already satisfied: yarl<2.0,>=1.0 in /usr/local/lib/python3.10/dist-packages (from aiohttp->datasets) (1.9.2)\n",
      "Requirement already satisfied: frozenlist>=1.1.1 in /usr/local/lib/python3.10/dist-packages (from aiohttp->datasets) (1.4.0)\n",
      "Requirement already satisfied: aiosignal>=1.1.2 in /usr/local/lib/python3.10/dist-packages (from aiohttp->datasets) (1.3.1)\n",
      "Requirement already satisfied: filelock in /usr/local/lib/python3.10/dist-packages (from huggingface-hub<1.0.0,>=0.14.0->datasets) (3.12.2)\n",
      "Requirement already satisfied: typing-extensions>=3.7.4.3 in /usr/local/lib/python3.10/dist-packages (from huggingface-hub<1.0.0,>=0.14.0->datasets) (4.4.0)\n",
      "Requirement already satisfied: idna<4,>=2.5 in /usr/local/lib/python3.10/dist-packages (from requests>=2.19.0->datasets) (3.4)\n",
      "Requirement already satisfied: urllib3<3,>=1.21.1 in /usr/local/lib/python3.10/dist-packages (from requests>=2.19.0->datasets) (2.0.4)\n",
      "Requirement already satisfied: certifi>=2017.4.17 in /usr/local/lib/python3.10/dist-packages (from requests>=2.19.0->datasets) (2023.7.22)\n",
      "Requirement already satisfied: python-dateutil>=2.8.2 in /usr/local/lib/python3.10/dist-packages (from pandas->datasets) (2.8.2)\n",
      "Requirement already satisfied: pytz>=2020.1 in /usr/local/lib/python3.10/dist-packages (from pandas->datasets) (2023.3)\n",
      "Requirement already satisfied: tzdata>=2022.1 in /usr/local/lib/python3.10/dist-packages (from pandas->datasets) (2023.3)\n",
      "Requirement already satisfied: six>=1.5 in /usr/local/lib/python3.10/dist-packages (from python-dateutil>=2.8.2->pandas->datasets) (1.16.0)\n",
      "Downloading datasets-2.14.4-py3-none-any.whl (519 kB)\n",
      "\u001b[2K   \u001b[90m━━━━━━━━━━━━━━━━━━━━━━━━━━━━━━━━━━━━━━━━\u001b[0m \u001b[32m519.3/519.3 kB\u001b[0m \u001b[31m16.5 MB/s\u001b[0m eta \u001b[36m0:00:00\u001b[0m\n",
      "\u001b[?25hDownloading dill-0.3.7-py3-none-any.whl (115 kB)\n",
      "\u001b[2K   \u001b[90m━━━━━━━━━━━━━━━━━━━━━━━━━━━━━━━━━━━━━━━━\u001b[0m \u001b[32m115.3/115.3 kB\u001b[0m \u001b[31m47.4 MB/s\u001b[0m eta \u001b[36m0:00:00\u001b[0m\n",
      "\u001b[?25hDownloading pyarrow-13.0.0-cp310-cp310-manylinux_2_28_aarch64.whl (37.3 MB)\n",
      "\u001b[2K   \u001b[90m━━━━━━━━━━━━━━━━━━━━━━━━━━━━━━━━━━━━━━━━\u001b[0m \u001b[32m37.3/37.3 MB\u001b[0m \u001b[31m39.3 MB/s\u001b[0m eta \u001b[36m0:00:00\u001b[0m00:01\u001b[0m00:01\u001b[0m\n",
      "\u001b[?25hDownloading multiprocess-0.70.15-py310-none-any.whl (134 kB)\n",
      "\u001b[2K   \u001b[90m━━━━━━━━━━━━━━━━━━━━━━━━━━━━━━━━━━━━━━━━\u001b[0m \u001b[32m134.8/134.8 kB\u001b[0m \u001b[31m27.9 MB/s\u001b[0m eta \u001b[36m0:00:00\u001b[0m\n",
      "\u001b[?25hDownloading xxhash-3.3.0-cp310-cp310-manylinux_2_17_aarch64.manylinux2014_aarch64.whl (220 kB)\n",
      "\u001b[2K   \u001b[90m━━━━━━━━━━━━━━━━━━━━━━━━━━━━━━━━━━━━━━━━\u001b[0m \u001b[32m220.9/220.9 kB\u001b[0m \u001b[31m60.0 MB/s\u001b[0m eta \u001b[36m0:00:00\u001b[0m\n",
      "\u001b[?25hInstalling collected packages: xxhash, pyarrow, dill, multiprocess, datasets\n",
      "Successfully installed datasets-2.14.4 dill-0.3.7 multiprocess-0.70.15 pyarrow-13.0.0 xxhash-3.3.0\n",
      "\u001b[33mWARNING: Running pip as the 'root' user can result in broken permissions and conflicting behaviour with the system package manager. It is recommended to use a virtual environment instead: https://pip.pypa.io/warnings/venv\u001b[0m\u001b[33m\n",
      "\u001b[0m"
     ]
    }
   ],
   "source": [
    "!pip3 install datasets"
   ]
  },
  {
   "cell_type": "code",
   "execution_count": 2,
   "metadata": {},
   "outputs": [],
   "source": [
    "import pandas as pd\n",
    "from transformers import AutoTokenizer, AutoModelForSequenceClassification\n",
    "import torch.nn.functional as F\n",
    "import torch\n",
    "from peft import get_peft_model, LoraConfig, TaskType, get_peft_model_state_dict, get_peft_config\n",
    "\n",
    "from sklearn.metrics import accuracy_score, precision_recall_fscore_support\n",
    "from sklearn.model_selection import train_test_split\n",
    "from torch.utils.data import DataLoader, Dataset\n",
    "from tqdm import tqdm\n",
    "import numpy as np\n",
    "import os\n",
    "import random\n",
    "import json\n",
    "import re\n",
    "import time\n",
    "import datetime\n",
    "import matplotlib.pyplot as plt\n",
    "import seaborn as sns\n",
    "from collections import defaultdict\n",
    "from sklearn.metrics import confusion_matrix, classification_report, roc_auc_score, roc_curve, auc, precision_recall_curve, average_precision_score, f1_score, accuracy_score, precision_score, recall_score, matthews_corrcoef, balanced_accuracy_score, cohen_kappa_score\n",
    "from sklearn.model_selection import StratifiedKFold\n",
    "\n",
    "# dataset,import load_dataset, load_metric\n",
    "from datasets import load_dataset, load_metric\n",
    "\n",
    "DEVICE = 'cuda' if torch.cuda.is_available() else 'cpu'\n",
    "\n",
    "# DICT_PATH = '/app/data/MiniProj/models'\n",
    "try:\n",
    "    from google.colab import drive\n",
    "    drive.mount('/content/drive')\n",
    "    DICT_PATH = r'/content/drive/MyDrive/ml/MiniProj/Models'\n",
    "    DATA_PATH = r'/content/drive/MyDrive/msl/MiniProj/Datas'\n",
    "except:\n",
    "    DICT_PATH = r'/app/data/models'\n",
    "    DATA_PATH = r'/app/data/datas'"
   ]
  },
  {
   "cell_type": "code",
   "execution_count": 26,
   "metadata": {},
   "outputs": [
    {
     "data": {
      "text/html": [
       "<div>\n",
       "<style scoped>\n",
       "    .dataframe tbody tr th:only-of-type {\n",
       "        vertical-align: middle;\n",
       "    }\n",
       "\n",
       "    .dataframe tbody tr th {\n",
       "        vertical-align: top;\n",
       "    }\n",
       "\n",
       "    .dataframe thead th {\n",
       "        text-align: right;\n",
       "    }\n",
       "</style>\n",
       "<table border=\"1\" class=\"dataframe\">\n",
       "  <thead>\n",
       "    <tr style=\"text-align: right;\">\n",
       "      <th></th>\n",
       "      <th>content</th>\n",
       "      <th>sentiment</th>\n",
       "    </tr>\n",
       "  </thead>\n",
       "  <tbody>\n",
       "    <tr>\n",
       "      <th>0</th>\n",
       "      <td>Gran에 따르면, 그 회사는 회사가 성장하고 있는 곳이지만, 모든 생산을 러시아로...</td>\n",
       "      <td>neutral</td>\n",
       "    </tr>\n",
       "    <tr>\n",
       "      <th>1</th>\n",
       "      <td>테크노폴리스는 컴퓨터 기술과 통신 분야에서 일하는 회사들을 유치하기 위해 10만 평...</td>\n",
       "      <td>neutral</td>\n",
       "    </tr>\n",
       "    <tr>\n",
       "      <th>2</th>\n",
       "      <td>국제 전자산업 회사인 엘코텍은 탈린 공장에서 수십 명의 직원을 해고했으며, 이전의 ...</td>\n",
       "      <td>negative</td>\n",
       "    </tr>\n",
       "    <tr>\n",
       "      <th>3</th>\n",
       "      <td>새로운 생산공장으로 인해 회사는 예상되는 수요 증가를 충족시킬 수 있는 능력을 증가...</td>\n",
       "      <td>positive</td>\n",
       "    </tr>\n",
       "    <tr>\n",
       "      <th>4</th>\n",
       "      <td>2009-2012년 회사의 업데이트된 전략에 따르면, Basware는 20% - 4...</td>\n",
       "      <td>positive</td>\n",
       "    </tr>\n",
       "    <tr>\n",
       "      <th>...</th>\n",
       "      <td>...</td>\n",
       "      <td>...</td>\n",
       "    </tr>\n",
       "    <tr>\n",
       "      <th>12459</th>\n",
       "      <td>코로나 충격에 따른 근로 시간 감소_ 과거 위기의 5배</td>\n",
       "      <td>negative</td>\n",
       "    </tr>\n",
       "    <tr>\n",
       "      <th>12460</th>\n",
       "      <td>7월 사업체종사자 13만8천명 감소 코로나19 여파에 5개월째 감소</td>\n",
       "      <td>negative</td>\n",
       "    </tr>\n",
       "    <tr>\n",
       "      <th>12461</th>\n",
       "      <td>한치 앞도 안보인다..채용문 꽁꽁 닫는 카드사</td>\n",
       "      <td>negative</td>\n",
       "    </tr>\n",
       "    <tr>\n",
       "      <th>12462</th>\n",
       "      <td>토스_ 고객 상담직 신입 및 경력 30명 공개 채용</td>\n",
       "      <td>positive</td>\n",
       "    </tr>\n",
       "    <tr>\n",
       "      <th>12463</th>\n",
       "      <td>토스_ 연봉 3000만원 고객 상담직 공개채용</td>\n",
       "      <td>positive</td>\n",
       "    </tr>\n",
       "  </tbody>\n",
       "</table>\n",
       "<p>12464 rows × 2 columns</p>\n",
       "</div>"
      ],
      "text/plain": [
       "                                                 content sentiment\n",
       "0      Gran에 따르면, 그 회사는 회사가 성장하고 있는 곳이지만, 모든 생산을 러시아로...   neutral\n",
       "1      테크노폴리스는 컴퓨터 기술과 통신 분야에서 일하는 회사들을 유치하기 위해 10만 평...   neutral\n",
       "2      국제 전자산업 회사인 엘코텍은 탈린 공장에서 수십 명의 직원을 해고했으며, 이전의 ...  negative\n",
       "3      새로운 생산공장으로 인해 회사는 예상되는 수요 증가를 충족시킬 수 있는 능력을 증가...  positive\n",
       "4      2009-2012년 회사의 업데이트된 전략에 따르면, Basware는 20% - 4...  positive\n",
       "...                                                  ...       ...\n",
       "12459                     코로나 충격에 따른 근로 시간 감소_ 과거 위기의 5배  negative\n",
       "12460              7월 사업체종사자 13만8천명 감소 코로나19 여파에 5개월째 감소  negative\n",
       "12461                          한치 앞도 안보인다..채용문 꽁꽁 닫는 카드사  negative\n",
       "12462                       토스_ 고객 상담직 신입 및 경력 30명 공개 채용  positive\n",
       "12463                          토스_ 연봉 3000만원 고객 상담직 공개채용  positive\n",
       "\n",
       "[12464 rows x 2 columns]"
      ]
     },
     "execution_count": 26,
     "metadata": {},
     "output_type": "execute_result"
    }
   ],
   "source": [
    "df = pd.read_csv('./news_sentiment_dataset')\n",
    "df"
   ]
  },
  {
   "cell_type": "code",
   "execution_count": 27,
   "metadata": {},
   "outputs": [
    {
     "data": {
      "text/plain": [
       "sentiment\n",
       "positive    4870\n",
       "negative    4007\n",
       "neutral     3587\n",
       "Name: count, dtype: int64"
      ]
     },
     "execution_count": 27,
     "metadata": {},
     "output_type": "execute_result"
    }
   ],
   "source": [
    "# sentiment 종류별 개수\n",
    "df['sentiment'].value_counts()"
   ]
  },
  {
   "cell_type": "code",
   "execution_count": 5,
   "metadata": {},
   "outputs": [],
   "source": [
    "class FinBertKR:\n",
    "    def __init__(self):\n",
    "        model_name = \"snunlp/KR-FinBert-SC\"\n",
    "        self.__tokenizer = AutoTokenizer.from_pretrained(model_name)\n",
    "        self.__model = AutoModelForSequenceClassification.from_pretrained(model_name)\n",
    "        self.__model.to(DEVICE)\n",
    "        self.__softmax = F.softmax\n",
    "        \n",
    "    def load_dict(self, model_name):\n",
    "        self.__model.load_state_dict(torch.load(f'{DICT_PATH}/{model_name}'))\n",
    "\n",
    "    def get_sentiment(self, text):\n",
    "        inputs = self.__tokenizer(text, return_tensors='pt').to(DEVICE)\n",
    "        outputs = self.__model(**inputs)\n",
    "        probs = self.__softmax(outputs.logits, dim=1)\n",
    "        pred = self.__model.config.id2label[probs.argmax().item()]\n",
    "        return pred"
   ]
  },
  {
   "cell_type": "code",
   "execution_count": null,
   "metadata": {},
   "outputs": [],
   "source": []
  },
  {
   "cell_type": "code",
   "execution_count": 6,
   "metadata": {},
   "outputs": [],
   "source": [
    "peft_config = LoraConfig(\n",
    "    task_type=TaskType.SEQ_CLS,\n",
    "    inference_mode=False,\n",
    "    r=8,\n",
    "    lora_alpha=32,\n",
    "    lora_dropout=0.1,\n",
    ")"
   ]
  },
  {
   "cell_type": "code",
   "execution_count": 7,
   "metadata": {},
   "outputs": [
    {
     "name": "stdout",
     "output_type": "stream",
     "text": [
      "trainable params: 299,526 || all params: 101,700,870 || trainable%: 0.2945166545772912\n"
     ]
    }
   ],
   "source": [
    "MODEL_NAME = \"snunlp/KR-FinBert-SC\"\n",
    "\n",
    "tokenizer = AutoTokenizer.from_pretrained(MODEL_NAME)\n",
    "model = AutoModelForSequenceClassification.from_pretrained(MODEL_NAME)\n",
    "model_orig = model\n",
    "model = get_peft_model(model, peft_config)\n",
    "model.print_trainable_parameters()"
   ]
  },
  {
   "cell_type": "code",
   "execution_count": 8,
   "metadata": {},
   "outputs": [
    {
     "name": "stderr",
     "output_type": "stream",
     "text": [
      "/usr/local/lib/python3.10/dist-packages/transformers/tokenization_utils_base.py:2416: UserWarning: Though `pad_to_max_length` = `True`, it is ignored because `padding`=`True`.\n",
      "  warnings.warn(\"Though `pad_to_max_length` = `True`, it is ignored because `padding`=`True`.\")\n"
     ]
    },
    {
     "data": {
      "text/plain": [
       "({'input_ids': tensor([[    2,    43,  5328, 10178,  5051, 10053,    16,  2078, 17805, 14243,\n",
       "          10384,  8455,  8494, 14275,  8482,    16,  8703,  9716,  5008,  9873,\n",
       "           5016,  3625,  5131,  9714,  5022, 10019,  8544,    18,     3]]), 'token_type_ids': tensor([[0, 0, 0, 0, 0, 0, 0, 0, 0, 0, 0, 0, 0, 0, 0, 0, 0, 0, 0, 0, 0, 0, 0, 0,\n",
       "          0, 0, 0, 0, 0]]), 'attention_mask': tensor([[1, 1, 1, 1, 1, 1, 1, 1, 1, 1, 1, 1, 1, 1, 1, 1, 1, 1, 1, 1, 1, 1, 1, 1,\n",
       "          1, 1, 1, 1, 1]])},\n",
       " {'input_ids': tensor([[    2,  4317,  5356,  5287,  5723, 11409,  5035, 13509,  9285,  5138,\n",
       "          12706, 11735,  8454, 12067,  9188,  8569, 10236,  8591,  8682, 18121,\n",
       "           4444,  5112, 10272, 12945,  2860, 11009, 15239,  8519,  9481,  5088,\n",
       "           9714,  8589,  3254, 10784,  9192,    18,     3]]), 'token_type_ids': tensor([[0, 0, 0, 0, 0, 0, 0, 0, 0, 0, 0, 0, 0, 0, 0, 0, 0, 0, 0, 0, 0, 0, 0, 0,\n",
       "          0, 0, 0, 0, 0, 0, 0, 0, 0, 0, 0, 0, 0]]), 'attention_mask': tensor([[1, 1, 1, 1, 1, 1, 1, 1, 1, 1, 1, 1, 1, 1, 1, 1, 1, 1, 1, 1, 1, 1, 1, 1,\n",
       "          1, 1, 1, 1, 1, 1, 1, 1, 1, 1, 1, 1, 1]])})"
      ]
     },
     "execution_count": 8,
     "metadata": {},
     "output_type": "execute_result"
    }
   ],
   "source": [
    "tokenizer = AutoTokenizer.from_pretrained(MODEL_NAME)\n",
    "\n",
    "inputs = tokenizer(\"Gran에 따르면, 그 회사는 회사가 성장하고 있는 곳이지만, 모든 생산을 러시아로 옮길 계획이 없다고 한다.\", return_tensors='pt', padding=True, truncation=True, max_length=128, pad_to_max_length=True)\n",
    "inputs2 = tokenizer(\"테크노폴리스는 컴퓨터 기술과 통신 분야에서 일하는 회사들을 유치하기 위해 10만 평방미터 이상의 면적을 단계적으로 개발할 계획이라고 성명은 밝혔다.\", return_tensors='pt', padding=True, truncation=True, max_length=128, pad_to_max_length=True)\n",
    "inputs, inputs2"
   ]
  },
  {
   "cell_type": "code",
   "execution_count": 16,
   "metadata": {},
   "outputs": [
    {
     "name": "stderr",
     "output_type": "stream",
     "text": [
      "/usr/local/lib/python3.10/dist-packages/transformers/tokenization_utils_base.py:2416: UserWarning: Though `pad_to_max_length` = `True`, it is ignored because `padding`=`True`.\n",
      "  warnings.warn(\"Though `pad_to_max_length` = `True`, it is ignored because `padding`=`True`.\")\n"
     ]
    },
    {
     "data": {
      "text/plain": [
       "({'input_ids': tensor([[    2,    43,  5328, 10178,  5051, 10053,    16,  2078, 17805, 14243,\n",
       "          10384,  8455,  8494, 14275,  8482,    16,  8703,  9716,  5008,  9873,\n",
       "           5016,  3625,  5131,  9714,  5022, 10019,  8544,    18,     3,     0,\n",
       "              0,     0,     0,     0,     0,     0,     0],\n",
       "         [    2,  4317,  5356,  5287,  5723, 11409,  5035, 13509,  9285,  5138,\n",
       "          12706, 11735,  8454, 12067,  9188,  8569, 10236,  8591,  8682, 18121,\n",
       "           4444,  5112, 10272, 12945,  2860, 11009, 15239,  8519,  9481,  5088,\n",
       "           9714,  8589,  3254, 10784,  9192,    18,     3],\n",
       "         [    2,  8632,  3890,  8540,  9973, 17214,  5364,  5022, 12213,  9305,\n",
       "             18,     3,     0,     0,     0,     0,     0,     0,     0,     0,\n",
       "              0,     0,     0,     0,     0,     0,     0,     0,     0,     0,\n",
       "              0,     0,     0,     0,     0,     0,     0]]), 'token_type_ids': tensor([[0, 0, 0, 0, 0, 0, 0, 0, 0, 0, 0, 0, 0, 0, 0, 0, 0, 0, 0, 0, 0, 0, 0, 0,\n",
       "          0, 0, 0, 0, 0, 0, 0, 0, 0, 0, 0, 0, 0],\n",
       "         [0, 0, 0, 0, 0, 0, 0, 0, 0, 0, 0, 0, 0, 0, 0, 0, 0, 0, 0, 0, 0, 0, 0, 0,\n",
       "          0, 0, 0, 0, 0, 0, 0, 0, 0, 0, 0, 0, 0],\n",
       "         [0, 0, 0, 0, 0, 0, 0, 0, 0, 0, 0, 0, 0, 0, 0, 0, 0, 0, 0, 0, 0, 0, 0, 0,\n",
       "          0, 0, 0, 0, 0, 0, 0, 0, 0, 0, 0, 0, 0]]), 'attention_mask': tensor([[1, 1, 1, 1, 1, 1, 1, 1, 1, 1, 1, 1, 1, 1, 1, 1, 1, 1, 1, 1, 1, 1, 1, 1,\n",
       "          1, 1, 1, 1, 1, 0, 0, 0, 0, 0, 0, 0, 0],\n",
       "         [1, 1, 1, 1, 1, 1, 1, 1, 1, 1, 1, 1, 1, 1, 1, 1, 1, 1, 1, 1, 1, 1, 1, 1,\n",
       "          1, 1, 1, 1, 1, 1, 1, 1, 1, 1, 1, 1, 1],\n",
       "         [1, 1, 1, 1, 1, 1, 1, 1, 1, 1, 1, 1, 0, 0, 0, 0, 0, 0, 0, 0, 0, 0, 0, 0,\n",
       "          0, 0, 0, 0, 0, 0, 0, 0, 0, 0, 0, 0, 0]])},\n",
       " SequenceClassifierOutput(loss=tensor(7.2250, device='cuda:0', grad_fn=<NllLossBackward0>), logits=tensor([[-2.1033,  2.8480, -0.5184],\n",
       "         [-2.3185, -2.0023,  4.7025],\n",
       "         [-3.6585, -2.7113,  6.3172]], device='cuda:0',\n",
       "        grad_fn=<AddmmBackward0>), hidden_states=None, attentions=None),\n",
       " array([1, 2, 2]),\n",
       " ['neutral', 'positive', 'positive'])"
      ]
     },
     "execution_count": 16,
     "metadata": {},
     "output_type": "execute_result"
    }
   ],
   "source": [
    "tokenizer = AutoTokenizer.from_pretrained(MODEL_NAME)\n",
    "inputs = [\n",
    "    \"Gran에 따르면, 그 회사는 회사가 성장하고 있는 곳이지만, 모든 생산을 러시아로 옮길 계획이 없다고 한다.\",\n",
    "    \"테크노폴리스는 컴퓨터 기술과 통신 분야에서 일하는 회사들을 유치하기 위해 10만 평방미터 이상의 면적을 단계적으로 개발할 계획이라고 성명은 밝혔다.\",\n",
    "    \"이번 주에는 새로운 노트북이 출시되었다.\",\n",
    "    ]\n",
    "inputs = tokenizer(inputs, return_tensors='pt', padding=True, truncation=True, max_length=128, pad_to_max_length=True)\n",
    "model.to(DEVICE)\n",
    "outputs = model(\n",
    "    input_ids=inputs['input_ids'].to(DEVICE),\n",
    "    attention_mask=inputs['attention_mask'].to(DEVICE),\n",
    "    labels=torch.tensor([0, 1, 0]).to(DEVICE)\n",
    ")\n",
    "preds = outputs.logits.argmax(dim=1)\n",
    "preds = preds.cpu().numpy()\n",
    "pred_class = [model.config.id2label[pred] for pred in preds]\n",
    "inputs, outputs, preds, pred_class"
   ]
  },
  {
   "cell_type": "code",
   "execution_count": 7,
   "metadata": {},
   "outputs": [
    {
     "ename": "AttributeError",
     "evalue": "'SequenceClassifierOutput' object has no attribute 'backward'",
     "output_type": "error",
     "traceback": [
      "\u001b[0;31m---------------------------------------------------------------------------\u001b[0m",
      "\u001b[0;31mAttributeError\u001b[0m                            Traceback (most recent call last)",
      "Cell \u001b[0;32mIn[7], line 1\u001b[0m\n\u001b[0;32m----> 1\u001b[0m outputs\u001b[39m.\u001b[39;49mbackward(distance\u001b[39m=\u001b[39m\u001b[39m1.0\u001b[39m)\n",
      "\u001b[0;31mAttributeError\u001b[0m: 'SequenceClassifierOutput' object has no attribute 'backward'"
     ]
    }
   ],
   "source": []
  },
  {
   "cell_type": "code",
   "execution_count": 125,
   "metadata": {},
   "outputs": [],
   "source": [
    "class NewsDataset(Dataset):\n",
    "    def __init__(self, df, tokenizer, max_len):\n",
    "        self.tokenizer = tokenizer\n",
    "        \n",
    "        # sentiment label -> 'positive': 0, 'natural': 1, 'negative': 2\n",
    "        self.label_map = {'positive': 0, 'neutral': 1, 'negative': 2}\n",
    "        \n",
    "        contents = df['content'].tolist()\n",
    "        labels = df['sentiment'].tolist()\n",
    "        \n",
    "        self.contents_encoded = self.tokenizer(\n",
    "            contents,\n",
    "            return_tensors='pt',\n",
    "            padding=True,\n",
    "            truncation=True,\n",
    "            max_length=max_len,\n",
    "        )\n",
    "        \n",
    "        self.labels_encoded = torch.tensor([self.label_map[label] for label in labels])\n",
    "\n",
    "    def __len__(self):\n",
    "        return len(self.labels_encoded)\n",
    "\n",
    "    def __getitem__(self, idx):\n",
    "        \n",
    "        X = {\n",
    "            'input_ids': self.contents_encoded['input_ids'][idx],\n",
    "            'attention_mask': self.contents_encoded['attention_mask'][idx],\n",
    "            'token_type_ids': self.contents_encoded['token_type_ids'][idx],\n",
    "        }\n",
    "        \n",
    "        y = self.labels_encoded[idx]\n",
    "        \n",
    "        return X, y"
   ]
  },
  {
   "cell_type": "code",
   "execution_count": 126,
   "metadata": {},
   "outputs": [],
   "source": [
    "df = pd.read_csv(os.path.join(DATA_PATH, 'news_sentiment_dataset'))\n",
    "tokenizer = AutoTokenizer.from_pretrained(MODEL_NAME)\n",
    "max_len = 128\n",
    "batch_size = 32\n",
    "epochs = 10\n",
    "lr = 1e-5\n",
    "seed = 42\n",
    "\n",
    "news_dataset = NewsDataset(df, tokenizer, max_len)\n",
    "train_valid_dataset, test_dataset = train_test_split(news_dataset, test_size=0.2, random_state=seed)\n",
    "tarin_dataset, valid_dataset = train_test_split(train_valid_dataset, test_size=0.2, random_state=seed)"
   ]
  },
  {
   "cell_type": "code",
   "execution_count": 127,
   "metadata": {},
   "outputs": [
    {
     "data": {
      "text/plain": [
       "([{'input_ids': tensor([[    2,  3623,  3209,  ...,     0,     0,     0],\n",
       "           [    2,    63, 13977,  ...,     0,     0,     0],\n",
       "           [    2,    41,  5556,  ...,     0,     0,     0],\n",
       "           ...,\n",
       "           [    2,  9496,  5091,  ...,     0,     0,     0],\n",
       "           [    2, 18901,  5019,  ...,     0,     0,     0],\n",
       "           [    2,  8473,  8552,  ...,     0,     0,     0]]),\n",
       "   'attention_mask': tensor([[1, 1, 1,  ..., 0, 0, 0],\n",
       "           [1, 1, 1,  ..., 0, 0, 0],\n",
       "           [1, 1, 1,  ..., 0, 0, 0],\n",
       "           ...,\n",
       "           [1, 1, 1,  ..., 0, 0, 0],\n",
       "           [1, 1, 1,  ..., 0, 0, 0],\n",
       "           [1, 1, 1,  ..., 0, 0, 0]]),\n",
       "   'token_type_ids': tensor([[0, 0, 0,  ..., 0, 0, 0],\n",
       "           [0, 0, 0,  ..., 0, 0, 0],\n",
       "           [0, 0, 0,  ..., 0, 0, 0],\n",
       "           ...,\n",
       "           [0, 0, 0,  ..., 0, 0, 0],\n",
       "           [0, 0, 0,  ..., 0, 0, 0],\n",
       "           [0, 0, 0,  ..., 0, 0, 0]])},\n",
       "  tensor([2, 2, 0, 2, 2, 1, 0, 1, 0, 0, 1, 0, 2, 0, 0, 1, 1, 0, 0, 2, 0, 0, 2, 1,\n",
       "          2, 1, 0, 0, 0, 0, 0, 2])],\n",
       " [{'input_ids': tensor([[    2,  9264,  9716,  ...,     0,     0,     0],\n",
       "           [    2,  8632,  4447,  ...,     0,     0,     0],\n",
       "           [    2, 19104, 15905,  ...,     0,     0,     0],\n",
       "           ...,\n",
       "           [    2,    63,  3385,  ...,     0,     0,     0],\n",
       "           [    2, 12110, 17665,  ...,     0,     0,     0],\n",
       "           [    2,  3245,  5070,  ...,     0,     0,     0]]),\n",
       "   'attention_mask': tensor([[1, 1, 1,  ..., 0, 0, 0],\n",
       "           [1, 1, 1,  ..., 0, 0, 0],\n",
       "           [1, 1, 1,  ..., 0, 0, 0],\n",
       "           ...,\n",
       "           [1, 1, 1,  ..., 0, 0, 0],\n",
       "           [1, 1, 1,  ..., 0, 0, 0],\n",
       "           [1, 1, 1,  ..., 0, 0, 0]]),\n",
       "   'token_type_ids': tensor([[0, 0, 0,  ..., 0, 0, 0],\n",
       "           [0, 0, 0,  ..., 0, 0, 0],\n",
       "           [0, 0, 0,  ..., 0, 0, 0],\n",
       "           ...,\n",
       "           [0, 0, 0,  ..., 0, 0, 0],\n",
       "           [0, 0, 0,  ..., 0, 0, 0],\n",
       "           [0, 0, 0,  ..., 0, 0, 0]])},\n",
       "  tensor([1, 1, 1, 1, 1, 0, 0, 0, 1, 1, 1, 2, 1, 2, 0, 1, 1, 0, 2, 2, 1, 2, 2, 1,\n",
       "          0, 1, 0, 2, 1, 0, 1, 1])])"
      ]
     },
     "execution_count": 127,
     "metadata": {},
     "output_type": "execute_result"
    }
   ],
   "source": [
    "test_loader = DataLoader(test_dataset, batch_size=batch_size, shuffle=False)\n",
    "\n",
    "iterloader = iter(test_loader)\n",
    "\n",
    "batch_1 = next(iterloader)\n",
    "batch_2 = next(iterloader)\n",
    "batch_1, batch_2"
   ]
  },
  {
   "cell_type": "code",
   "execution_count": 71,
   "metadata": {},
   "outputs": [
    {
     "name": "stdout",
     "output_type": "stream",
     "text": [
      "pred: positive, pred_orig: positive, label: positive\n",
      "pred: positive, pred_orig: positive, label: positive\n",
      "pred: positive, pred_orig: positive, label: neutral\n",
      "pred: neutral, pred_orig: neutral, label: neutral\n",
      "pred: neutral, pred_orig: neutral, label: neutral\n",
      "pred: neutral, pred_orig: neutral, label: neutral\n",
      "pred: positive, pred_orig: positive, label: positive\n",
      "pred: neutral, pred_orig: neutral, label: positive\n",
      "pred: neutral, pred_orig: neutral, label: neutral\n",
      "pred: neutral, pred_orig: neutral, label: negative\n",
      "pred: neutral, pred_orig: neutral, label: positive\n",
      "pred: neutral, pred_orig: neutral, label: positive\n",
      "pred: negative, pred_orig: negative, label: negative\n",
      "pred: neutral, pred_orig: neutral, label: negative\n",
      "pred: neutral, pred_orig: neutral, label: neutral\n",
      "pred: positive, pred_orig: positive, label: neutral\n",
      "pred: neutral, pred_orig: neutral, label: negative\n",
      "pred: neutral, pred_orig: neutral, label: positive\n",
      "pred: neutral, pred_orig: neutral, label: neutral\n",
      "pred: negative, pred_orig: negative, label: negative\n",
      "pred: positive, pred_orig: positive, label: neutral\n",
      "pred: neutral, pred_orig: neutral, label: negative\n",
      "pred: positive, pred_orig: positive, label: positive\n",
      "pred: neutral, pred_orig: neutral, label: negative\n",
      "pred: neutral, pred_orig: neutral, label: neutral\n",
      "pred: neutral, pred_orig: neutral, label: neutral\n",
      "pred: neutral, pred_orig: neutral, label: positive\n",
      "pred: neutral, pred_orig: neutral, label: neutral\n",
      "pred: neutral, pred_orig: neutral, label: neutral\n",
      "pred: neutral, pred_orig: neutral, label: positive\n",
      "pred: neutral, pred_orig: neutral, label: neutral\n",
      "pred: neutral, pred_orig: neutral, label: negative\n",
      "pred: positive, pred_orig: positive, label: positive\n",
      "pred: neutral, pred_orig: neutral, label: neutral\n",
      "pred: neutral, pred_orig: neutral, label: neutral\n",
      "pred: neutral, pred_orig: neutral, label: neutral\n",
      "pred: neutral, pred_orig: neutral, label: neutral\n",
      "pred: neutral, pred_orig: neutral, label: positive\n",
      "pred: neutral, pred_orig: neutral, label: positive\n",
      "pred: neutral, pred_orig: neutral, label: positive\n",
      "pred: neutral, pred_orig: neutral, label: positive\n",
      "pred: neutral, pred_orig: neutral, label: negative\n",
      "pred: neutral, pred_orig: neutral, label: negative\n",
      "pred: neutral, pred_orig: neutral, label: neutral\n",
      "pred: neutral, pred_orig: neutral, label: negative\n",
      "pred: neutral, pred_orig: neutral, label: positive\n",
      "pred: neutral, pred_orig: neutral, label: positive\n",
      "pred: neutral, pred_orig: neutral, label: positive\n",
      "pred: neutral, pred_orig: neutral, label: negative\n",
      "pred: positive, pred_orig: positive, label: positive\n",
      "average lora time: 0.28, average orig time: 0.26\n"
     ]
    }
   ],
   "source": [
    "num_2_label = {0: 'positive', 1: 'neutral', 2: 'negative'}\n",
    "\n",
    "import time\n",
    "\n",
    "model.to(DEVICE)\n",
    "model_orig.to(DEVICE)\n",
    "model.eval()\n",
    "\n",
    "lora_times = []\n",
    "orig_times = []\n",
    "\n",
    "for i in range(50):\n",
    "    lora_time_start = time.time()\n",
    "    \n",
    "    inputs, label = tarin_dataset[i]\n",
    "    outputs = model(**inputs)\n",
    "    probs = F.softmax(outputs.logits, dim=1)\n",
    "    pred = model.config.id2label[probs.argmax().item()]\n",
    "    \n",
    "    lora_time_end = time.time()\n",
    "    orig_time_start = time.time()\n",
    "    \n",
    "    outputs_orig = model_orig(**inputs)\n",
    "    probs_orig = F.softmax(outputs_orig.logits, dim=1)\n",
    "    pred_orig = model_orig.config.id2label[probs_orig.argmax().item()]\n",
    "    \n",
    "    orig_time_end = time.time()\n",
    "    \n",
    "    print(f'pred: {pred}, pred_orig: {pred_orig}, label: {num_2_label[label]}')\n",
    "    lora_times.append(lora_time_end - lora_time_start)\n",
    "    orig_times.append(orig_time_end - orig_time_start)\n",
    "\n",
    "print(f'average lora time: {np.mean(lora_times):.2f}, average orig time: {np.mean(orig_times):.2f}')\n",
    "    \n",
    "# with torch.no_grad():\n",
    "#     inputs, label = tarin_dataset[1000]\n",
    "#     inputs.to(DEVICE)\n",
    "#     outputs = model(**inputs)\n",
    "#     probs = F.softmax(outputs.logits, dim=1)\n",
    "#     pred = model.config.id2label[probs.argmax().item()]\n",
    "#     print(pred, num_2_label[label])"
   ]
  },
  {
   "cell_type": "markdown",
   "metadata": {},
   "source": [
    "# 여기부터 돌리면 됩니다"
   ]
  },
  {
   "cell_type": "code",
   "execution_count": 1,
   "metadata": {},
   "outputs": [
    {
     "name": "stderr",
     "output_type": "stream",
     "text": [
      "/usr/local/lib/python3.10/dist-packages/tqdm/auto.py:21: TqdmWarning: IProgress not found. Please update jupyter and ipywidgets. See https://ipywidgets.readthedocs.io/en/stable/user_install.html\n",
      "  from .autonotebook import tqdm as notebook_tqdm\n"
     ]
    }
   ],
   "source": [
    "import pandas as pd\n",
    "from transformers import AutoTokenizer, AutoModelForSequenceClassification\n",
    "import torch.nn.functional as F\n",
    "import torch\n",
    "from peft import get_peft_model, LoraConfig, TaskType, get_peft_model_state_dict, get_peft_config\n",
    "\n",
    "from sklearn.metrics import accuracy_score, precision_recall_fscore_support\n",
    "from sklearn.model_selection import train_test_split\n",
    "from torch.utils.data import DataLoader, Dataset\n",
    "from tqdm import tqdm\n",
    "import numpy as np\n",
    "import os\n",
    "import random\n",
    "import json\n",
    "import re\n",
    "import time\n",
    "import datetime\n",
    "import matplotlib.pyplot as plt\n",
    "import seaborn as sns\n",
    "from collections import defaultdict\n",
    "from sklearn.metrics import confusion_matrix, classification_report, roc_auc_score, roc_curve, auc, precision_recall_curve, average_precision_score, f1_score, accuracy_score, precision_score, recall_score, matthews_corrcoef, balanced_accuracy_score, cohen_kappa_score\n",
    "from sklearn.model_selection import StratifiedKFold\n",
    "\n",
    "# dataset,import load_dataset, load_metric\n",
    "from datasets import load_dataset, load_metric\n",
    "\n",
    "DEVICE = 'cuda' if torch.cuda.is_available() else 'cpu'\n",
    "\n",
    "# DICT_PATH = '/app/data/MiniProj/models'\n",
    "try:\n",
    "    from google.colab import drive\n",
    "    drive.mount('/content/drive')\n",
    "    DICT_PATH = r'/content/drive/MyDrive/ml/MiniProj/Models'\n",
    "    DATA_PATH = r'/content/drive/MyDrive/msl/MiniProj/Datas'\n",
    "except:\n",
    "    DICT_PATH = r'/app/data/models'\n",
    "    DATA_PATH = r'/app/data/datas'"
   ]
  },
  {
   "cell_type": "code",
   "execution_count": 2,
   "metadata": {},
   "outputs": [],
   "source": [
    "NUM2LABEL = {2: 'positive', 1: 'neutral', 0: 'negative'}\n",
    "LABEL2NUM = {'positive': 2, 'neutral': 1, 'negative': 0}\n",
    "\n",
    "class NewsDataset(Dataset):\n",
    "    def __init__(self, df, tokenizer, max_len):\n",
    "        self.tokenizer = tokenizer\n",
    "        \n",
    "        self.label_map = {'positive': 2, 'neutral': 1, 'negative': 0}\n",
    "        \n",
    "        contents = df['content'].tolist()\n",
    "        labels = df['sentiment'].tolist()\n",
    "        \n",
    "        self.contents_encoded = self.tokenizer(\n",
    "            contents,\n",
    "            return_tensors='pt',\n",
    "            padding=True,\n",
    "            truncation=True,\n",
    "            max_length=max_len,\n",
    "        )\n",
    "        \n",
    "        self.labels_encoded = torch.tensor([self.label_map[label] for label in labels])\n",
    "\n",
    "    def __len__(self):\n",
    "        return len(self.labels_encoded)\n",
    "\n",
    "    def __getitem__(self, idx):\n",
    "        \n",
    "        X = {\n",
    "            'input_ids': self.contents_encoded['input_ids'][idx],\n",
    "            'attention_mask': self.contents_encoded['attention_mask'][idx],\n",
    "            'token_type_ids': self.contents_encoded['token_type_ids'][idx],\n",
    "        }\n",
    "        \n",
    "        y = self.labels_encoded[idx]\n",
    "        \n",
    "        return X, y\n",
    "    \n",
    "    \n",
    "class EarlyStopping():\n",
    "    def __init__(self, patience=10, save_path=None, target_score=0, model_name='lora'):\n",
    "        # 초기화\n",
    "        self.best_score = 0\n",
    "        self.patience_count = 0\n",
    "        self.target_score = target_score\n",
    "        self.patience = patience\n",
    "        self.save_path = save_path\n",
    "        self.datetime = time.strftime\n",
    "        self.model_name = model_name\n",
    "    # 얼리 스토핑 여부 확인 함수 정의\n",
    "    def is_stop(self, model, score, epoch):\n",
    "        # 모델 저장(마지막 모델)\n",
    "        self.__save_last_model(model)\n",
    "        # 스코어가 타겟 스코어보다 낮을 경우\n",
    "        if score < self.target_score:\n",
    "            # patience 초기화\n",
    "            self.patience_count = 0\n",
    "            return False\n",
    "        \n",
    "        # 스코어가 이전보다 좋을 경우\n",
    "        if self.best_score < score:\n",
    "            # 스코어를 업데이트\n",
    "            self.best_score = score\n",
    "            # 모델 저장\n",
    "            self.__save_best_model(model, epoch)\n",
    "            # patience 초기화\n",
    "            self.patience_count = 0\n",
    "            return False\n",
    "        \n",
    "        # 스코어가 이전보다 좋지 않을 경우 +\n",
    "        # 스코어가 타겟 스코어보다 높을 경우\n",
    "        # patience 증가\n",
    "        self.patience_count += 1\n",
    "        # patience가 최대치를 넘을 경우\n",
    "        if self.patience_count > self.patience:\n",
    "            return True\n",
    "        # patience가 최대치를 넘지 않을 경우\n",
    "        return False\n",
    "    # 모델 저장 함수 정의\n",
    "    def __save_best_model(self, model, epoch):\n",
    "        model_name = '{}_model_best_{}/'.format(self.model_name, f'ephoc_{epoch:03}')\n",
    "        # torch.save(model.state_dict(), self.save_path + model_name)\n",
    "        model.save_pretrained(self.save_path + model_name)\n",
    "    # 마지막 모델 저장 함수 정의\n",
    "    def __save_last_model(self, model):\n",
    "        model_name = '{}_model_last_{}/'.format(self.model_name, 'ephoc_last')\n",
    "        # torch.save(model.state_dict(), self.save_path + model_name)\n",
    "        model.save_pretrained(self.save_path + model_name)\n",
    "        \n",
    "\n",
    "######################\n",
    "# 학습 함수 정의\n",
    "######################\n",
    "def train_loop(dataloader, model, loss_fn, optimizer, tqdmbar=None):\n",
    "    is_tqdm = True\n",
    "    if tqdmbar is None:\n",
    "        is_tqdm = False\n",
    "    if is_tqdm:\n",
    "        tqdmbar.set_description('train')\n",
    "    # 손실값 초기화\n",
    "    loss_list = []\n",
    "    score_list = []\n",
    "    # 모델을 학습 모드로 설정\n",
    "    model.train()\n",
    "    \n",
    "    total_batch_num = len(dataloader)\n",
    "    batch_num = 0\n",
    "    # 배치 단위로 학습\n",
    "    for X, y in dataloader:\n",
    "        # 데이터를 디바이스에 할당\n",
    "        y = y.to(DEVICE)\n",
    "        # 모델을 통해 예측\n",
    "        output = model(\n",
    "            input_ids=X['input_ids'].to(DEVICE),\n",
    "            attention_mask=X['attention_mask'].to(DEVICE),\n",
    "            token_type_ids=X['token_type_ids'].to(DEVICE),\n",
    "        )\n",
    "        output = output.logits\n",
    "        pred = output.argmax(dim=1)\n",
    "        # 손실값 계산\n",
    "        loss = loss_fn(output, y)\n",
    "        # 기울기 초기화\n",
    "        optimizer.zero_grad()\n",
    "        # 역전파\n",
    "        loss.backward()\n",
    "        # 가중치 업데이트\n",
    "        optimizer.step()\n",
    "        # 손실값을 리스트에 저장\n",
    "        loss_list.append(loss.item())\n",
    "        # 정확도를 리스트에 저장\n",
    "        score_list.append(accuracy_score(pred.cpu().detach().numpy(),\n",
    "                                        y.cpu().numpy(),\n",
    "                                        ))\n",
    "        \n",
    "        if is_tqdm:\n",
    "            batch_num += 1\n",
    "            desc_txt = f'train batch: {batch_num}/{total_batch_num}, loss: {loss.item():.4f}, score: {score_list[-1]:.4f}'\n",
    "            tqdmbar.set_description(desc_txt)\n",
    "        \n",
    "    # 손실값 평균 계산\n",
    "    loss_mean = np.mean(loss_list)\n",
    "    # 정확도 평균 계산\n",
    "    score_mean = np.mean(score_list)\n",
    "    # 손실값 평균, 정확도 평균 반환\n",
    "    return loss_mean, score_mean\n",
    "\n",
    "######################\n",
    "# 평가 함수 정의\n",
    "######################\n",
    "@torch.inference_mode()\n",
    "def test_loop(dataloader, model, tqdmbar=None):\n",
    "    is_tqdm = True\n",
    "    if tqdmbar is None:\n",
    "        is_tqdm = False\n",
    "    if is_tqdm:\n",
    "        tqdmbar.set_description('test')\n",
    "        \n",
    "    # 저장값 초기화\n",
    "    score_list = []\n",
    "    # 모델을 평가 모드로 설정\n",
    "    model.eval()\n",
    "    \n",
    "    total_batch_num = len(dataloader)\n",
    "    batch_num = 0\n",
    "    # 배치 단위로 평가\n",
    "    for X, y in dataloader:\n",
    "        # 데이터를 디바이스에 할당\n",
    "        y = y.to(DEVICE)\n",
    "        # 모델을 통해 예측\n",
    "        output = model(\n",
    "            input_ids=X['input_ids'].to(DEVICE),\n",
    "            attention_mask=X['attention_mask'].to(DEVICE),\n",
    "            token_type_ids=X['token_type_ids'].to(DEVICE),\n",
    "        )\n",
    "        \n",
    "        output = output.logits\n",
    "        # 예측값을 클래스로 변환\n",
    "        pred = output.argmax(dim=1)\n",
    "        # 정확도를 리스트에 저장\n",
    "        score_list.append(accuracy_score(pred.cpu().detach().numpy(),\n",
    "                                        y.cpu().numpy(),\n",
    "                                        ))\n",
    "        \n",
    "        if is_tqdm:\n",
    "            batch_num += 1\n",
    "            desc_txt = f'test batch: {batch_num}/{total_batch_num}, score: {score_list[-1]:.4f}'\n",
    "            tqdmbar.set_description(desc_txt)\n",
    "            \n",
    "    # 정확도 평균 계산\n",
    "    score_mean = np.mean(score_list)\n",
    "    # 정확도 평균 반환\n",
    "    return score_mean\n",
    "\n",
    "######################\n",
    "# epoch 학습 함수 정의\n",
    "######################\n",
    "def epoch_loop(train_dataloader, valid_dataloader, model, loss_fn, optimizer, tqdmbar=None):\n",
    "    # 학습\n",
    "    train_loss, train_score = train_loop(train_dataloader, model, loss_fn, optimizer, tqdmbar)\n",
    "    # 평가\n",
    "    valid_score = test_loop(valid_dataloader, model, tqdmbar)\n",
    "    # 손실값 평균, 정확도 평균 반환\n",
    "    return train_loss, train_score, valid_score"
   ]
  },
  {
   "cell_type": "code",
   "execution_count": 3,
   "metadata": {},
   "outputs": [],
   "source": [
    "######################\n",
    "# 상수 선언\n",
    "######################\n",
    "# 배치 사이즈\n",
    "batch_size = 128\n",
    "# 에폭 수\n",
    "epochs = 80\n",
    "# 학습률\n",
    "lr = 1e-5\n",
    "# 시드값\n",
    "seed = 42\n",
    "# 장비 설정\n",
    "DEVICE = 'cuda' if torch.cuda.is_available() else 'cpu'\n",
    "# 모델 경로\n",
    "MODEL_NAME = \"snunlp/KR-FinBert-SC\"\n",
    "# 최대 길이\n",
    "MAX_LEN = 128\n",
    "\n",
    "#######################\n",
    "# 데이터셋, 데이터로더 생성\n",
    "#######################\n",
    "df = pd.read_csv(os.path.join(DATA_PATH, 'news_sentiment_dataset'))\n",
    "tokenizer = AutoTokenizer.from_pretrained(MODEL_NAME)\n",
    "# 데이터셋 생성\n",
    "news_dataset = NewsDataset(df, tokenizer, MAX_LEN)\n",
    "# 데이터셋 분할\n",
    "tv_dataset, test_dataset = train_test_split(news_dataset, test_size=0.2, random_state=seed)\n",
    "train_dataset, valid_dataset = train_test_split(tv_dataset, test_size=0.2, random_state=seed)\n",
    "# 데이터로더 생성\n",
    "train_dataloader = DataLoader(train_dataset, batch_size=batch_size, shuffle=True)\n",
    "valid_dataloader = DataLoader(valid_dataset, batch_size=batch_size, shuffle=False)\n",
    "test_dataloader = DataLoader(test_dataset, batch_size=batch_size, shuffle=False)\n",
    "\n",
    "#######################\n",
    "# 모델 생성\n",
    "#######################\n",
    "# 모델 생성\n",
    "model = AutoModelForSequenceClassification.from_pretrained(MODEL_NAME)\n",
    "# lora config 생성\n",
    "peft_config = LoraConfig(\n",
    "    task_type=TaskType.SEQ_CLS,\n",
    "    inference_mode=False,\n",
    "    r=8,\n",
    "    lora_alpha=32,\n",
    "    lora_dropout=0.1,\n",
    ")\n",
    "# lora 모델 생성\n",
    "model = get_peft_model(model, peft_config)\n",
    "# 모델을 장비에 할당\n",
    "model.to(DEVICE)\n",
    "# 손실함수 생성\n",
    "loss_fn = torch.nn.CrossEntropyLoss()\n",
    "# 옵티마이저 생성\n",
    "optimizer = torch.optim.AdamW(model.parameters(), lr=lr)\n",
    "# 얼리 스토핑 생성\n",
    "early_stopping = EarlyStopping(patience=10, save_path=SAVE_PATH, target_score=0.8, model_name='lora')"
   ]
  },
  {
   "cell_type": "code",
   "execution_count": 4,
   "metadata": {},
   "outputs": [
    {
     "name": "stdout",
     "output_type": "stream",
     "text": [
      "DEVICE : cuda\n"
     ]
    }
   ],
   "source": [
    "print('DEVICE : {}'.format(DEVICE))"
   ]
  },
  {
   "cell_type": "code",
   "execution_count": 5,
   "metadata": {},
   "outputs": [],
   "source": [
    "orig_score = test_loop(test_dataloader, model)"
   ]
  },
  {
   "cell_type": "code",
   "execution_count": 6,
   "metadata": {},
   "outputs": [
    {
     "name": "stdout",
     "output_type": "stream",
     "text": [
      "orig_score : 0.38896644467213115\n"
     ]
    }
   ],
   "source": [
    "print('orig_score : {}'.format(orig_score))"
   ]
  },
  {
   "cell_type": "code",
   "execution_count": 7,
   "metadata": {},
   "outputs": [
    {
     "name": "stderr",
     "output_type": "stream",
     "text": [
      "test batch: 16/16, score: 0.8400:  69%|██████▉   | 55/80 [1:16:46<34:53, 83.76s/it]                                 \n"
     ]
    }
   ],
   "source": [
    "#######################\n",
    "# 학습\n",
    "#######################\n",
    "# 에폭 수 만큼 반복\n",
    "bar = tqdm(range(epochs))\n",
    "total_loss = []\n",
    "total_score = []\n",
    "total_valid_score = []\n",
    "\n",
    "for epoch in bar:\n",
    "    # epoch 학습\n",
    "    train_loss, train_score, valid_score = epoch_loop(train_dataloader, valid_dataloader, model, loss_fn, optimizer, bar)\n",
    "    # 얼리 스토핑 체크\n",
    "    if early_stopping.is_stop(model, valid_score, epoch):\n",
    "        break\n",
    "    # 학습 결과 출력\n",
    "    bar.set_description(f'epoch:{epoch:03} train_loss:{train_loss:.4f} train_score:{train_score:.4f} valid_score:{valid_score:.4f}')\n",
    "    # 손실값, 정확도 저장\n",
    "    total_loss.append(train_loss)\n",
    "    total_score.append(train_score)\n",
    "    total_valid_score.append(valid_score)"
   ]
  },
  {
   "cell_type": "code",
   "execution_count": 8,
   "metadata": {},
   "outputs": [
    {
     "name": "stdout",
     "output_type": "stream",
     "text": [
      "orig_score: 0.3890\n",
      "test_score: 0.8027\n"
     ]
    }
   ],
   "source": [
    "#######################\n",
    "# 평가\n",
    "#######################\n",
    "# 모델을 평가 모드로 설정\n",
    "model.eval()\n",
    "# 평가\n",
    "test_score = test_loop(test_dataloader, model)\n",
    "# 평가 결과 출력\n",
    "print('orig_score: {:.4f}'.format(orig_score))\n",
    "print('test_score: {:.4f}'.format(test_score))"
   ]
  },
  {
   "cell_type": "code",
   "execution_count": 9,
   "metadata": {},
   "outputs": [
    {
     "data": {
      "image/png": "[encoded data removed]",
      "text/plain": [
       "<Figure size 2000x500 with 2 Axes>"
      ]
     },
     "metadata": {},
     "output_type": "display_data"
    }
   ],
   "source": [
    "#######################\n",
    "# train_loss, train_score, valid_score 시각화\n",
    "#######################\n",
    "# train_loss, train_score, valid_score 시각화\n",
    "fig, ax = plt.subplots(1, 2, figsize=(20, 5))\n",
    "ax[0].plot(total_loss, label='train_loss')\n",
    "ax[0].set_title('train_loss')\n",
    "ax[0].legend()\n",
    "ax[1].plot(total_score, label='train_score')\n",
    "ax[1].plot(total_valid_score, label='valid_score')\n",
    "ax[1].set_title('train_score, valid_score')\n",
    "ax[1].legend()\n",
    "plt.show()"
   ]
  },
  {
   "cell_type": "code",
   "execution_count": 25,
   "metadata": {},
   "outputs": [
    {
     "data": {
      "text/plain": [
       "['/app/data/models/lora_model_best_ephoc_028',\n",
       " '/app/data/models/lora_model_best_ephoc_030',\n",
       " '/app/data/models/lora_model_best_ephoc_031',\n",
       " '/app/data/models/lora_model_best_ephoc_032',\n",
       " '/app/data/models/lora_model_best_ephoc_033',\n",
       " '/app/data/models/lora_model_best_ephoc_034',\n",
       " '/app/data/models/lora_model_best_ephoc_038',\n",
       " '/app/data/models/lora_model_best_ephoc_043',\n",
       " '/app/data/models/lora_model_best_ephoc_044',\n",
       " '/app/data/models/lora_model_last_ephoc_last']"
      ]
     },
     "execution_count": 25,
     "metadata": {},
     "output_type": "execute_result"
    }
   ],
   "source": [
    "import glob\n",
    "\n",
    "model_list = glob.glob(SAVE_PATH + '*')\n",
    "model_list.sort()\n",
    "model_list"
   ]
  },
  {
   "cell_type": "code",
   "execution_count": 28,
   "metadata": {},
   "outputs": [],
   "source": [
    "from peft import PeftModel, PeftConfig\n",
    "model_name_or_path = model_list[-1]\n",
    "peft_model_id = f\"{model_name_or_path}_{peft_config.peft_type}_{peft_config.task_type}\"\n",
    "\n",
    "config = PeftConfig.from_pretrained(model_name_or_path)\n",
    "model = AutoModelForSequenceClassification.from_pretrained(config.base_model_name_or_path)\n",
    "model = PeftModel.from_pretrained(model, model_name_or_path)"
   ]
  },
  {
   "cell_type": "code",
   "execution_count": 16,
   "metadata": {},
   "outputs": [
    {
     "name": "stdout",
     "output_type": "stream",
     "text": [
      "\u001b[0;31mSignature:\u001b[0m\n",
      "\u001b[0mmodel\u001b[0m\u001b[0;34m.\u001b[0m\u001b[0mload_adapter\u001b[0m\u001b[0;34m(\u001b[0m\u001b[0;34m\u001b[0m\n",
      "\u001b[0;34m\u001b[0m    \u001b[0mmodel_id\u001b[0m\u001b[0;34m:\u001b[0m \u001b[0;34m'str'\u001b[0m\u001b[0;34m,\u001b[0m\u001b[0;34m\u001b[0m\n",
      "\u001b[0;34m\u001b[0m    \u001b[0madapter_name\u001b[0m\u001b[0;34m:\u001b[0m \u001b[0;34m'str'\u001b[0m\u001b[0;34m,\u001b[0m\u001b[0;34m\u001b[0m\n",
      "\u001b[0;34m\u001b[0m    \u001b[0mis_trainable\u001b[0m\u001b[0;34m:\u001b[0m \u001b[0;34m'bool'\u001b[0m \u001b[0;34m=\u001b[0m \u001b[0;32mFalse\u001b[0m\u001b[0;34m,\u001b[0m\u001b[0;34m\u001b[0m\n",
      "\u001b[0;34m\u001b[0m    \u001b[0;34m**\u001b[0m\u001b[0mkwargs\u001b[0m\u001b[0;34m:\u001b[0m \u001b[0;34m'Any'\u001b[0m\u001b[0;34m,\u001b[0m\u001b[0;34m\u001b[0m\n",
      "\u001b[0;34m\u001b[0m\u001b[0;34m)\u001b[0m\u001b[0;34m\u001b[0m\u001b[0;34m\u001b[0m\u001b[0m\n",
      "\u001b[0;31mDocstring:\u001b[0m <no docstring>\n",
      "\u001b[0;31mFile:\u001b[0m      /usr/local/lib/python3.10/dist-packages/peft/peft_model.py\n",
      "\u001b[0;31mType:\u001b[0m      method"
     ]
    }
   ],
   "source": [
    "model.load_adapter?"
   ]
  },
  {
   "cell_type": "code",
   "execution_count": 29,
   "metadata": {},
   "outputs": [
    {
     "name": "stdout",
     "output_type": "stream",
     "text": [
      "/app/data/models/lora_model_best_ephoc_028 0.7789126536885246\n",
      "/app/data/models/lora_model_best_ephoc_030 0.7812179815573771\n",
      "/app/data/models/lora_model_best_ephoc_031 0.781999231557377\n",
      "/app/data/models/lora_model_best_ephoc_032 0.7816086065573771\n",
      "/app/data/models/lora_model_best_ephoc_033 0.7816086065573771\n",
      "/app/data/models/lora_model_best_ephoc_034 0.7851242315573771\n",
      "/app/data/models/lora_model_best_ephoc_038 0.7886014344262295\n",
      "/app/data/models/lora_model_best_ephoc_043 0.7944992315573771\n",
      "/app/data/models/lora_model_best_ephoc_044 0.795671106557377\n",
      "/app/data/models/lora_model_last_ephoc_last 0.8027023565573771\n"
     ]
    }
   ],
   "source": [
    "test_score_list = []\n",
    "for model_param_dir in model_list:\n",
    "    config = PeftConfig.from_pretrained(model_param_dir)\n",
    "    model = AutoModelForSequenceClassification.from_pretrained(config.base_model_name_or_path)\n",
    "    model = PeftModel.from_pretrained(model, model_param_dir)\n",
    "    model.to(DEVICE)\n",
    "    model.eval()\n",
    "    test_score = test_loop(test_dataloader, model)\n",
    "    print(model_param_dir, test_score)\n",
    "    test_score_list.append(test_score)"
   ]
  },
  {
   "cell_type": "code",
   "execution_count": 30,
   "metadata": {},
   "outputs": [
    {
     "data": {
      "image/png": "[encoded data removed]",
      "text/plain": [
       "<Figure size 2000x500 with 1 Axes>"
      ]
     },
     "metadata": {},
     "output_type": "display_data"
    }
   ],
   "source": [
    "# test_score_list 시각화\n",
    "# X축에 모델 번호\n",
    "x = [i for i in range(len(test_score_list))]\n",
    "# Y축에 정확도\n",
    "y = test_score_list\n",
    "# 그래프 생성\n",
    "plt.figure(figsize=(20, 5))\n",
    "plt.plot(x, y)\n",
    "plt.xticks(x, model_list, rotation=90)\n",
    "plt.show()"
   ]
  },
  {
   "cell_type": "code",
   "execution_count": 31,
   "metadata": {},
   "outputs": [
    {
     "name": "stdout",
     "output_type": "stream",
     "text": [
      "train_dataset length: 7976\n",
      "valid_dataset length: 1995\n",
      "test_dataset length: 2493\n"
     ]
    }
   ],
   "source": [
    "# 각 데이터 셋의 길이\n",
    "print('train_dataset length: {}'.format(len(train_dataset)))\n",
    "print('valid_dataset length: {}'.format(len(valid_dataset)))\n",
    "print('test_dataset length: {}'.format(len(test_dataset)))  "
   ]
  },
  {
   "cell_type": "code",
   "execution_count": 44,
   "metadata": {},
   "outputs": [
    {
     "name": "stdout",
     "output_type": "stream",
     "text": [
      "--------------trainable parameters--------------\n",
      "original model parameters: 101403651\n",
      "lora model parameters: 299526\n",
      "\n",
      "\n",
      "\n",
      "lora 모델 print_trainable_parameters()\n",
      "trainable params: 299,526 || all params: 101,700,870 || trainable%: 0.2945166545772912\n"
     ]
    }
   ],
   "source": [
    "print('--------------trainable parameters--------------')\n",
    "# 학습 가능한 파라미터 수\n",
    "model = AutoModelForSequenceClassification.from_pretrained(MODEL_NAME)\n",
    "# 원본 모델의 파라미터 수\n",
    "print('original model parameters: {}'.format(sum(p.numel() for p in model.parameters() if p.requires_grad)))\n",
    "# lora config 생성\n",
    "peft_config = LoraConfig(\n",
    "    task_type=TaskType.SEQ_CLS,\n",
    "    inference_mode=False,\n",
    "    r=8,\n",
    "    lora_alpha=32,\n",
    "    lora_dropout=0.1,\n",
    ")\n",
    "# lora 모델 생성\n",
    "model = get_peft_model(model, peft_config)\n",
    "# lora 모델의 파라미터 수\n",
    "print('lora model parameters: {}'.format(sum(p.numel() for p in model.parameters() if p.requires_grad)))\n",
    "\n",
    "print('\\n\\n\\nlora 모델 print_trainable_parameters()')\n",
    "model.print_trainable_parameters()"
   ]
  },
  {
   "cell_type": "code",
   "execution_count": null,
   "metadata": {},
   "outputs": [],
   "source": []
  },
  {
   "cell_type": "code",
   "execution_count": null,
   "metadata": {},
   "outputs": [],
   "source": []
  }
 ],
 "metadata": {
  "kernelspec": {
   "display_name": "Python 3",
   "language": "python",
   "name": "python3"
  },
  "language_info": {
   "codemirror_mode": {
    "name": "ipython",
    "version": 3
   },
   "file_extension": ".py",
   "mimetype": "text/x-python",
   "name": "python",
   "nbconvert_exporter": "python",
   "pygments_lexer": "ipython3",
   "version": "3.10.12"
  },
  "orig_nbformat": 4
 },
 "nbformat": 4,
 "nbformat_minor": 2
}
