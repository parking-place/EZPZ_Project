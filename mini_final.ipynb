{
 "cells": [
  {
   "cell_type": "markdown",
   "metadata": {},
   "source": [
    "## 모듈 임포트"
   ]
  },
  {
   "cell_type": "code",
   "execution_count": 1,
   "metadata": {},
   "outputs": [],
   "source": [
    "from modules.company_info import CompanyInfo\n",
    "\n",
    "comp_info = CompanyInfo()"
   ]
  },
  {
   "cell_type": "code",
   "execution_count": 34,
   "metadata": {},
   "outputs": [],
   "source": [
    "# 긍정/부정 뉴스양 시각화 함수\n",
    "def visualize_news_sentiment(news_df):\n",
    "    news_df['sentiment'].value_counts().plot(kind='pie', autopct='%1.1f%%', figsize=(4, 4))"
   ]
  },
  {
   "cell_type": "markdown",
   "metadata": {},
   "source": [
    "# 네이버 정보 탐색/ 요약"
   ]
  },
  {
   "cell_type": "markdown",
   "metadata": {},
   "source": [
    "## 회사 정보/리뷰 검색"
   ]
  },
  {
   "cell_type": "code",
   "execution_count": 2,
   "metadata": {},
   "outputs": [
    {
     "name": "stderr",
     "output_type": "stream",
     "text": [
      "2023-07-07 08:27:23.748524: I tensorflow/core/platform/cpu_feature_guard.cc:182] This TensorFlow binary is optimized to use available CPU instructions in performance-critical operations.\n",
      "To enable the following instructions: AVX2 FMA, in other operations, rebuild TensorFlow with the appropriate compiler flags.\n",
      "2023-07-07 08:27:24.266118: W tensorflow/compiler/tf2tensorrt/utils/py_utils.cc:38] TF-TRT Warning: Could not find TensorRT\n"
     ]
    }
   ],
   "source": [
    "naver_info = comp_info.get_company_info('네이버')\n",
    "\n",
    "naver_news, naver_reviews, naver_review_summarized_dict = naver_info"
   ]
  },
  {
   "cell_type": "markdown",
   "metadata": {},
   "source": [
    "## 긍정/ 부정 리뷰 한줄 요약"
   ]
  },
  {
   "cell_type": "code",
   "execution_count": 3,
   "metadata": {},
   "outputs": [
    {
     "data": {
      "text/plain": [
       "'한국에서 가장 큰 IT회사라는 네임벨류가 있다.'"
      ]
     },
     "execution_count": 3,
     "metadata": {},
     "output_type": "execute_result"
    }
   ],
   "source": [
    "naver_review_summarized_dict['good_summarise_long']"
   ]
  },
  {
   "cell_type": "code",
   "execution_count": 4,
   "metadata": {},
   "outputs": [
    {
     "data": {
      "text/plain": [
       "'회사가 너무 많은 일을 하고 있다.'"
      ]
     },
     "execution_count": 4,
     "metadata": {},
     "output_type": "execute_result"
    }
   ],
   "source": [
    "naver_review_summarized_dict['bad_summarise_long']"
   ]
  },
  {
   "cell_type": "markdown",
   "metadata": {},
   "source": [
    "## 최근 기사 링크/ 기사요약/ 기사 평가"
   ]
  },
  {
   "cell_type": "code",
   "execution_count": 7,
   "metadata": {},
   "outputs": [
    {
     "data": {
      "text/html": [
       "<div>\n",
       "<style scoped>\n",
       "    .dataframe tbody tr th:only-of-type {\n",
       "        vertical-align: middle;\n",
       "    }\n",
       "\n",
       "    .dataframe tbody tr th {\n",
       "        vertical-align: top;\n",
       "    }\n",
       "\n",
       "    .dataframe thead th {\n",
       "        text-align: right;\n",
       "    }\n",
       "</style>\n",
       "<table border=\"1\" class=\"dataframe\">\n",
       "  <thead>\n",
       "    <tr style=\"text-align: right;\">\n",
       "      <th></th>\n",
       "      <th>link</th>\n",
       "      <th>summarized</th>\n",
       "      <th>sentiment</th>\n",
       "    </tr>\n",
       "  </thead>\n",
       "  <tbody>\n",
       "    <tr>\n",
       "      <th>0</th>\n",
       "      <td>http://v.daum.net/v/20230706145703665</td>\n",
       "      <td>네이버가 지난 2분기 최대 규모로 약 19만원대로 진입했다.</td>\n",
       "      <td>positive</td>\n",
       "    </tr>\n",
       "    <tr>\n",
       "      <th>1</th>\n",
       "      <td>http://v.daum.net/v/20230707040742497</td>\n",
       "      <td>네이버가 뉴스 검색 알고리즘에 개입했다.</td>\n",
       "      <td>negative</td>\n",
       "    </tr>\n",
       "    <tr>\n",
       "      <th>2</th>\n",
       "      <td>http://v.daum.net/v/20230707093354918</td>\n",
       "      <td>네이버가 뉴스 인공지능(AI) 알고리즘 피처를 공개했다.</td>\n",
       "      <td>neutral</td>\n",
       "    </tr>\n",
       "    <tr>\n",
       "      <th>3</th>\n",
       "      <td>http://v.daum.net/v/20230707091220958</td>\n",
       "      <td>네이버가 뉴스 인공지능(AI) 알고리즘 피처를 공개했다.</td>\n",
       "      <td>neutral</td>\n",
       "    </tr>\n",
       "    <tr>\n",
       "      <th>4</th>\n",
       "      <td>http://v.daum.net/v/20230707101855839</td>\n",
       "      <td>네이버가 뉴스 인공지능(AI) 알고리즘을 새롭게 구성했다.</td>\n",
       "      <td>neutral</td>\n",
       "    </tr>\n",
       "    <tr>\n",
       "      <th>5</th>\n",
       "      <td>http://v.daum.net/v/20230707060104617</td>\n",
       "      <td>네이버가 지난 7일(현지시간) 신종 코로나바이러스 감염증 (코비드19) 사태를 선포했다.</td>\n",
       "      <td>neutral</td>\n",
       "    </tr>\n",
       "    <tr>\n",
       "      <th>6</th>\n",
       "      <td>http://v.daum.net/v/20230707094206233</td>\n",
       "      <td>네이버페이가 데이터센터 재해 발생 시에도 비상대응훈련을 실시한다.</td>\n",
       "      <td>neutral</td>\n",
       "    </tr>\n",
       "    <tr>\n",
       "      <th>7</th>\n",
       "      <td>http://v.daum.net/v/20230707092516523</td>\n",
       "      <td>네이버가 자사 인공지능(AI) 알고리즘 기반의 뉴스 추천 서비스를 이용자들을 이해할...</td>\n",
       "      <td>positive</td>\n",
       "    </tr>\n",
       "    <tr>\n",
       "      <th>8</th>\n",
       "      <td>http://v.daum.net/v/20230707100801384</td>\n",
       "      <td>네이버페이가 데이터센터 재해 등 비상상황을 대비한 보안대응훈련이 실시됐다.</td>\n",
       "      <td>neutral</td>\n",
       "    </tr>\n",
       "    <tr>\n",
       "      <th>9</th>\n",
       "      <td>http://v.daum.net/v/20230707102616107</td>\n",
       "      <td>네이버가 뉴스 인공지능(AI) 알고리즘을 개설했다.</td>\n",
       "      <td>neutral</td>\n",
       "    </tr>\n",
       "  </tbody>\n",
       "</table>\n",
       "</div>"
      ],
      "text/plain": [
       "                                    link  \\\n",
       "0  http://v.daum.net/v/20230706145703665   \n",
       "1  http://v.daum.net/v/20230707040742497   \n",
       "2  http://v.daum.net/v/20230707093354918   \n",
       "3  http://v.daum.net/v/20230707091220958   \n",
       "4  http://v.daum.net/v/20230707101855839   \n",
       "5  http://v.daum.net/v/20230707060104617   \n",
       "6  http://v.daum.net/v/20230707094206233   \n",
       "7  http://v.daum.net/v/20230707092516523   \n",
       "8  http://v.daum.net/v/20230707100801384   \n",
       "9  http://v.daum.net/v/20230707102616107   \n",
       "\n",
       "                                          summarized sentiment  \n",
       "0                  네이버가 지난 2분기 최대 규모로 약 19만원대로 진입했다.  positive  \n",
       "1                             네이버가 뉴스 검색 알고리즘에 개입했다.  negative  \n",
       "2                    네이버가 뉴스 인공지능(AI) 알고리즘 피처를 공개했다.   neutral  \n",
       "3                    네이버가 뉴스 인공지능(AI) 알고리즘 피처를 공개했다.   neutral  \n",
       "4                   네이버가 뉴스 인공지능(AI) 알고리즘을 새롭게 구성했다.   neutral  \n",
       "5  네이버가 지난 7일(현지시간) 신종 코로나바이러스 감염증 (코비드19) 사태를 선포했다.   neutral  \n",
       "6               네이버페이가 데이터센터 재해 발생 시에도 비상대응훈련을 실시한다.   neutral  \n",
       "7  네이버가 자사 인공지능(AI) 알고리즘 기반의 뉴스 추천 서비스를 이용자들을 이해할...  positive  \n",
       "8          네이버페이가 데이터센터 재해 등 비상상황을 대비한 보안대응훈련이 실시됐다.   neutral  \n",
       "9                       네이버가 뉴스 인공지능(AI) 알고리즘을 개설했다.   neutral  "
      ]
     },
     "execution_count": 7,
     "metadata": {},
     "output_type": "execute_result"
    }
   ],
   "source": [
    "naver_news[['link', 'summarized', 'sentiment']].head(10)"
   ]
  },
  {
   "cell_type": "markdown",
   "metadata": {},
   "source": [
    "## 긍정/부정/중립 기사 비율 시각화"
   ]
  },
  {
   "cell_type": "code",
   "execution_count": 35,
   "metadata": {},
   "outputs": [
    {
     "data": {
      "image/png": "[encoded data removed]",
      "text/plain": [
       "<Figure size 400x400 with 1 Axes>"
      ]
     },
     "metadata": {},
     "output_type": "display_data"
    }
   ],
   "source": [
    "visualize_news_sentiment(naver_news)"
   ]
  },
  {
   "cell_type": "markdown",
   "metadata": {},
   "source": [
    "# 카카오 정보 탐색/ 요약"
   ]
  },
  {
   "cell_type": "markdown",
   "metadata": {},
   "source": [
    "## 회사 정보/리뷰 검색"
   ]
  },
  {
   "cell_type": "code",
   "execution_count": 8,
   "metadata": {},
   "outputs": [],
   "source": [
    "kakao_info = comp_info.get_company_info('카카오')\n",
    "\n",
    "kakao_news, kakao_reviews, kakao_review_summarized_dict = kakao_info"
   ]
  },
  {
   "cell_type": "markdown",
   "metadata": {},
   "source": [
    "## 긍정/ 부정 리뷰 한줄 요약"
   ]
  },
  {
   "cell_type": "code",
   "execution_count": 13,
   "metadata": {},
   "outputs": [
    {
     "data": {
      "text/plain": [
       "'회사에서 업무를 주도적으로 할 수 있을까?'"
      ]
     },
     "execution_count": 13,
     "metadata": {},
     "output_type": "execute_result"
    }
   ],
   "source": [
    "kakao_review_summarized_dict['good_summarise_long']"
   ]
  },
  {
   "cell_type": "code",
   "execution_count": 15,
   "metadata": {},
   "outputs": [
    {
     "data": {
      "text/plain": [
       "'회사에 따라 성과급이 높은 것으로 알려졌다.'"
      ]
     },
     "execution_count": 15,
     "metadata": {},
     "output_type": "execute_result"
    }
   ],
   "source": [
    "kakao_review_summarized_dict['bad_summarise_long']"
   ]
  },
  {
   "cell_type": "markdown",
   "metadata": {},
   "source": [
    "## 최근 기사 링크/ 기사요약/ 기사 평가"
   ]
  },
  {
   "cell_type": "code",
   "execution_count": 11,
   "metadata": {},
   "outputs": [
    {
     "data": {
      "text/html": [
       "<div>\n",
       "<style scoped>\n",
       "    .dataframe tbody tr th:only-of-type {\n",
       "        vertical-align: middle;\n",
       "    }\n",
       "\n",
       "    .dataframe tbody tr th {\n",
       "        vertical-align: top;\n",
       "    }\n",
       "\n",
       "    .dataframe thead th {\n",
       "        text-align: right;\n",
       "    }\n",
       "</style>\n",
       "<table border=\"1\" class=\"dataframe\">\n",
       "  <thead>\n",
       "    <tr style=\"text-align: right;\">\n",
       "      <th></th>\n",
       "      <th>link</th>\n",
       "      <th>summarized</th>\n",
       "      <th>sentiment</th>\n",
       "    </tr>\n",
       "  </thead>\n",
       "  <tbody>\n",
       "    <tr>\n",
       "      <th>0</th>\n",
       "      <td>http://v.daum.net/v/20230707043459720</td>\n",
       "      <td>틱비즈(웹툰, 모빌리티)의 성장률이 4년 만에 최대 규모로 감소했다.</td>\n",
       "      <td>negative</td>\n",
       "    </tr>\n",
       "    <tr>\n",
       "      <th>1</th>\n",
       "      <td>http://v.daum.net/v/20230707102456044</td>\n",
       "      <td>카카오모빌리티가 7일(현지시간) 지하 주차장 내에서 위치 확인을 받는 서비스를 선보였다.</td>\n",
       "      <td>neutral</td>\n",
       "    </tr>\n",
       "    <tr>\n",
       "      <th>2</th>\n",
       "      <td>http://v.daum.net/v/20230707102425035</td>\n",
       "      <td>한정 테슬라 주식 거래에 대한 매매 수수료 무료행사가 시작됐다.</td>\n",
       "      <td>neutral</td>\n",
       "    </tr>\n",
       "    <tr>\n",
       "      <th>3</th>\n",
       "      <td>http://v.daum.net/v/20230707100128096</td>\n",
       "      <td>신종 코로나바이러스 감염증(코비드) 팬데믹 이후 최대 규모의 새마을금고 연체액 12조 원</td>\n",
       "      <td>neutral</td>\n",
       "    </tr>\n",
       "    <tr>\n",
       "      <th>4</th>\n",
       "      <td>http://v.daum.net/v/20230707100420226</td>\n",
       "      <td>카카오모빌리티가 다음주 서울 코엑스 주차장에서 실내지도 서비스를 선보인다.</td>\n",
       "      <td>neutral</td>\n",
       "    </tr>\n",
       "    <tr>\n",
       "      <th>5</th>\n",
       "      <td>http://v.daum.net/v/20230707101815816</td>\n",
       "      <td>넷마블(MNB, 제일제당)가 올해 7월 열리는 복날을 개최한다.</td>\n",
       "      <td>neutral</td>\n",
       "    </tr>\n",
       "    <tr>\n",
       "      <th>6</th>\n",
       "      <td>http://v.daum.net/v/20230707100732367</td>\n",
       "      <td>카카오페이증권이 테슬라 주식 매매 수수료 무료 혜택을 제공한다.</td>\n",
       "      <td>neutral</td>\n",
       "    </tr>\n",
       "    <tr>\n",
       "      <th>7</th>\n",
       "      <td>http://v.daum.net/v/20230707100902425</td>\n",
       "      <td>카카오가 지난 2분기 실적이 예상치를 하회할 것이라고 밝혔다.</td>\n",
       "      <td>negative</td>\n",
       "    </tr>\n",
       "    <tr>\n",
       "      <th>8</th>\n",
       "      <td>http://v.daum.net/v/20230707082405579</td>\n",
       "      <td>유안타증권이 카카오의 2분기 매출액 1조 8378억원(전년 동기를 대비 -32%)를...</td>\n",
       "      <td>positive</td>\n",
       "    </tr>\n",
       "    <tr>\n",
       "      <th>9</th>\n",
       "      <td>http://v.daum.net/v/20230707072801522</td>\n",
       "      <td>카카오의 2분기 매출과 영업이익은 1조900억원에 이르렀다.</td>\n",
       "      <td>positive</td>\n",
       "    </tr>\n",
       "  </tbody>\n",
       "</table>\n",
       "</div>"
      ],
      "text/plain": [
       "                                    link  \\\n",
       "0  http://v.daum.net/v/20230707043459720   \n",
       "1  http://v.daum.net/v/20230707102456044   \n",
       "2  http://v.daum.net/v/20230707102425035   \n",
       "3  http://v.daum.net/v/20230707100128096   \n",
       "4  http://v.daum.net/v/20230707100420226   \n",
       "5  http://v.daum.net/v/20230707101815816   \n",
       "6  http://v.daum.net/v/20230707100732367   \n",
       "7  http://v.daum.net/v/20230707100902425   \n",
       "8  http://v.daum.net/v/20230707082405579   \n",
       "9  http://v.daum.net/v/20230707072801522   \n",
       "\n",
       "                                          summarized sentiment  \n",
       "0             틱비즈(웹툰, 모빌리티)의 성장률이 4년 만에 최대 규모로 감소했다.  negative  \n",
       "1  카카오모빌리티가 7일(현지시간) 지하 주차장 내에서 위치 확인을 받는 서비스를 선보였다.   neutral  \n",
       "2                한정 테슬라 주식 거래에 대한 매매 수수료 무료행사가 시작됐다.   neutral  \n",
       "3  신종 코로나바이러스 감염증(코비드) 팬데믹 이후 최대 규모의 새마을금고 연체액 12조 원   neutral  \n",
       "4          카카오모빌리티가 다음주 서울 코엑스 주차장에서 실내지도 서비스를 선보인다.   neutral  \n",
       "5                넷마블(MNB, 제일제당)가 올해 7월 열리는 복날을 개최한다.   neutral  \n",
       "6                카카오페이증권이 테슬라 주식 매매 수수료 무료 혜택을 제공한다.   neutral  \n",
       "7                 카카오가 지난 2분기 실적이 예상치를 하회할 것이라고 밝혔다.  negative  \n",
       "8  유안타증권이 카카오의 2분기 매출액 1조 8378억원(전년 동기를 대비 -32%)를...  positive  \n",
       "9                  카카오의 2분기 매출과 영업이익은 1조900억원에 이르렀다.  positive  "
      ]
     },
     "execution_count": 11,
     "metadata": {},
     "output_type": "execute_result"
    }
   ],
   "source": [
    "kakao_news[['link', 'summarized', 'sentiment']].head(10)"
   ]
  },
  {
   "cell_type": "markdown",
   "metadata": {},
   "source": [
    "## 긍정/부정/중립 기사 비율 시각화"
   ]
  },
  {
   "cell_type": "code",
   "execution_count": 37,
   "metadata": {},
   "outputs": [
    {
     "data": {
      "image/png": "[encoded data removed]",
      "text/plain": [
       "<Figure size 400x400 with 1 Axes>"
      ]
     },
     "metadata": {},
     "output_type": "display_data"
    }
   ],
   "source": [
    "visualize_news_sentiment(kakao_news)"
   ]
  },
  {
   "cell_type": "code",
   "execution_count": null,
   "metadata": {},
   "outputs": [],
   "source": []
  }
 ],
 "metadata": {
  "kernelspec": {
   "display_name": "ezpz",
   "language": "python",
   "name": "python3"
  },
  "language_info": {
   "codemirror_mode": {
    "name": "ipython",
    "version": 3
   },
   "file_extension": ".py",
   "mimetype": "text/x-python",
   "name": "python",
   "nbconvert_exporter": "python",
   "pygments_lexer": "ipython3",
   "version": "3.10.11"
  },
  "orig_nbformat": 4
 },
 "nbformat": 4,
 "nbformat_minor": 2
}
